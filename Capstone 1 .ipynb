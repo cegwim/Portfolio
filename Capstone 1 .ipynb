{
 "cells": [
  {
   "cell_type": "markdown",
   "metadata": {},
   "source": [
    "## Introduction\n",
    "\n",
    "For my capstone project, I will be looking at the College Scoreboard dataset for the 2017-2018 academic year.  \n",
    "\n",
    "I will be focusing on the information on the average rate of student completion for four-year institutions. I will be checking for a relationship between this rate and the type of institution (public, private and non-profit, or private and for-profit) and how students at a particular institution pay for their education (whether they received a Pell grant, took out a federal loan, or did neither).\n"
   ]
  },
  {
   "cell_type": "markdown",
   "metadata": {},
   "source": [
    "## Hypotheses\n",
    "\n",
    "H0a - There is no significant difference between the average rate of completion for public four-year institutions, for-profit private institutions, and non-profit privat intitutions.\n",
    "\n",
    "H1a - There is a significant difference between the average rate of completion for public four-year institutions, for-profit private institutions, and non-profit privat intitutions.\n",
    "\n",
    "H0b - There is no significant difference in the average rate of completion between students that recieve a Pell Grant, students that take out federal loans, and students that do neither.\n",
    "\n",
    "H1b = There is a significant difference in the average rate of completion between students that recieve a Pell Grant, students that take out federal loans, and students that do neither."
   ]
  },
  {
   "cell_type": "markdown",
   "metadata": {},
   "source": [
    "## Data\n",
    "\n",
    "The data comes from the College Scoreboard website and contains 7,112 observations and 1,977 variables. For simplicity I have extracted the columns that are most relevant to my analyses, narrowing the number of variables down to 5. I have also chosen to only consider data on 4-year institutions. Null values were not incduded in data visualizations and statistical analyses. "
   ]
  },
  {
   "cell_type": "code",
   "execution_count": 1,
   "metadata": {},
   "outputs": [
    {
     "name": "stderr",
     "output_type": "stream",
     "text": [
      "C:\\Users\\cepyp\\Anaconda3\\lib\\site-packages\\statsmodels\\compat\\pandas.py:56: FutureWarning: The pandas.core.datetools module is deprecated and will be removed in a future version. Please use the pandas.tseries module instead.\n",
      "  from pandas.core import datetools\n"
     ]
    }
   ],
   "source": [
    "#Import libraries\n",
    "import numpy as np\n",
    "import pandas as pd\n",
    "import matplotlib.pyplot as plt\n",
    "import statsmodels.api as sm\n",
    "import seaborn as sns\n",
    "sns.set()\n",
    "from scipy import stats\n",
    "from statsmodels.stats.multicomp import pairwise_tukeyhsd"
   ]
  },
  {
   "cell_type": "code",
   "execution_count": 9,
   "metadata": {},
   "outputs": [
    {
     "name": "stderr",
     "output_type": "stream",
     "text": [
      "C:\\Users\\cepyp\\Anaconda3\\lib\\site-packages\\IPython\\core\\interactiveshell.py:2728: DtypeWarning: Columns (31,1726,1727,1728,1729,1815,1817,1823,1830,1879,1880,1881,1882,1883,1884,1885,1886,1887,1888,1889,1890,1891,1892,1893,1894,1895,1896,1897,1898,1957,1958,1959,1960,1961,1962,1963,1964,1965,1966,1967,1968,1969,1970,1971,1972,1973,1974,1975,1976) have mixed types. Specify dtype option on import or set low_memory=False.\n",
      "  interactivity=interactivity, compiler=compiler, result=result)\n"
     ]
    },
    {
     "name": "stdout",
     "output_type": "stream",
     "text": [
      "<class 'pandas.core.frame.DataFrame'>\n",
      "RangeIndex: 7112 entries, 0 to 7111\n",
      "Columns: 1977 entries, UNITID to OMENRUP_PARTTIME_POOLED_SUPP\n",
      "dtypes: float64(1894), int64(14), object(69)\n",
      "memory usage: 107.3+ MB\n",
      "None\n",
      "<class 'pandas.core.frame.DataFrame'>\n",
      "RangeIndex: 7112 entries, 0 to 7111\n",
      "Data columns (total 5 columns):\n",
      "C150_4_POOLED          2399 non-null float64\n",
      "C150_4_PELL            2303 non-null float64\n",
      "C150_4_LOANNOPELL      2092 non-null float64\n",
      "C150_4_NOLOANNOPELL    2309 non-null float64\n",
      "CONTROL                7112 non-null int64\n",
      "dtypes: float64(4), int64(1)\n",
      "memory usage: 277.9 KB\n",
      "None\n"
     ]
    }
   ],
   "source": [
    "#Import dataset\n",
    "coll17_18 = pd.read_csv('MERGED2017_18_PP.csv')\n",
    "print(coll17_18.info())\n",
    "#Copy variables of interest into a seperate dataset\n",
    "slim_df = coll17_18[['C150_4_POOLED', 'C150_4_PELL', 'C150_4_LOANNOPELL', 'C150_4_NOLOANNOPELL', 'CONTROL']].copy()\n",
    "print (slim_df.info())"
   ]
  },
  {
   "cell_type": "code",
   "execution_count": 10,
   "metadata": {},
   "outputs": [],
   "source": [
    "#I'm deciding to drop my null values since my variables of interest contain relatively few of them\n",
    "slim_df.dropna(inplace= True)"
   ]
  },
  {
   "cell_type": "markdown",
   "metadata": {},
   "source": [
    "## Results"
   ]
  },
  {
   "cell_type": "code",
   "execution_count": 11,
   "metadata": {},
   "outputs": [],
   "source": [
    "#Create datasets filtered by type of instution.\n",
    "pub_inst = slim_df.loc[slim_df['CONTROL'] == 1]\n",
    "priv_np_inst = slim_df.loc[slim_df['CONTROL'] == 2]\n",
    "priv_fp_inst = slim_df.loc[slim_df['CONTROL'] == 3]"
   ]
  },
  {
   "cell_type": "markdown",
   "metadata": {},
   "source": [
    "Here you can see that students that attended <b>private non-profit institutions</b> completed their 4-year degree at a higher rate than students of public and private for-profit institutions."
   ]
  },
  {
   "cell_type": "code",
   "execution_count": 12,
   "metadata": {},
   "outputs": [
    {
     "data": {
      "text/plain": [
       "<matplotlib.lines.Line2D at 0x275db61a860>"
      ]
     },
     "execution_count": 12,
     "metadata": {},
     "output_type": "execute_result"
    },
    {
     "data": {
      "image/png": "[encoded data removed]",
      "text/plain": [
       "<Figure size 432x288 with 1 Axes>"
      ]
     },
     "metadata": {
      "needs_background": "light"
     },
     "output_type": "display_data"
    }
   ],
   "source": [
    "#Histrogram plotting the pooled average completion rates for different types of institutions.\n",
    "sns.distplot(pub_inst['C150_4_POOLED'].dropna(), kde=False, color='dimgray')\n",
    "sns.distplot(priv_np_inst['C150_4_POOLED'].dropna(), kde=False, color='dodgerblue')\n",
    "sns.distplot(priv_fp_inst['C150_4_POOLED'].dropna(), kde=False, color='indigo')\n",
    "\n",
    "#Plot the distribution means\n",
    "plt.axvline(pub_inst['C150_4_POOLED'].dropna().mean(), color = 'dimgray')\n",
    "plt.axvline(priv_np_inst['C150_4_POOLED'].dropna().mean(), color = 'dodgerblue')\n",
    "plt.axvline(priv_fp_inst['C150_4_POOLED'].dropna().mean(), color = 'indigo')"
   ]
  },
  {
   "cell_type": "code",
   "execution_count": 13,
   "metadata": {},
   "outputs": [
    {
     "name": "stdout",
     "output_type": "stream",
     "text": [
      "DescribeResult(nobs=670, minmax=(0.0559, 0.9438), mean=0.4618911940298507, variance=0.033699595452981734, skewness=0.24619911870687955, kurtosis=-0.4616758146444906)\n",
      "DescribeResult(nobs=1096, minmax=(0.0, 0.9759), mean=0.5605741788321168, variance=0.03647658757923375, skewness=-0.06286360273515662, kurtosis=-0.376829156572386)\n",
      "DescribeResult(nobs=277, minmax=(0.0255, 0.912), mean=0.3587783393501805, variance=0.037919381485638046, skewness=0.6539125412056852, kurtosis=-0.36632606523825517)\n",
      "F_onewayResult(statistic=147.0507453719083, pvalue=2.1909883298004181e-60)\n"
     ]
    }
   ],
   "source": [
    "#Use descriptive statistics to evaluate normality\n",
    "print(stats.describe(pub_inst['C150_4_POOLED'].dropna()))\n",
    "print(stats.describe(priv_np_inst['C150_4_POOLED'].dropna()))\n",
    "print(stats.describe(priv_fp_inst['C150_4_POOLED'].dropna()))\n",
    "\n",
    "#Based on the normal values of skewness and kurtosis I will perform a One-Way ANOVA test\n",
    "print(stats.f_oneway(pub_inst['C150_4_POOLED'].dropna(), priv_np_inst['C150_4_POOLED'].dropna(), priv_fp_inst['C150_4_POOLED'].dropna()))\n"
   ]
  },
  {
   "cell_type": "markdown",
   "metadata": {},
   "source": [
    "The low p-value on my One-way ANOVA score implies that <b>there is a statistically significant relationship between institute type and an institute's rate of completion</b>."
   ]
  },
  {
   "cell_type": "markdown",
   "metadata": {},
   "source": [
    "Looking at <b>students who recieved a Pell grant</b>, the trend of students at private insitutions finishing at a higher rate persists."
   ]
  },
  {
   "cell_type": "code",
   "execution_count": 14,
   "metadata": {},
   "outputs": [
    {
     "data": {
      "text/plain": [
       "<matplotlib.lines.Line2D at 0x275d94132e8>"
      ]
     },
     "execution_count": 14,
     "metadata": {},
     "output_type": "execute_result"
    },
    {
     "data": {
      "image/png": "[encoded data removed]",
      "text/plain": [
       "<Figure size 432x288 with 1 Axes>"
      ]
     },
     "metadata": {
      "needs_background": "light"
     },
     "output_type": "display_data"
    }
   ],
   "source": [
    "#Histogram plotting the average completion rates for Pell grant recipients attending different types of institutions.\n",
    "sns.distplot(pub_inst['C150_4_PELL'].dropna(), kde=False, color='dimgray')\n",
    "sns.distplot(priv_np_inst['C150_4_PELL'].dropna(), kde=False, color='dodgerblue')\n",
    "sns.distplot(priv_fp_inst['C150_4_PELL'].dropna(), kde=False, color='indigo')\n",
    "\n",
    "#Plot the distribution means\n",
    "plt.axvline(pub_inst['C150_4_PELL'].dropna().mean(), color = 'dimgray')\n",
    "plt.axvline(priv_np_inst['C150_4_PELL'].dropna().mean(), color = 'dodgerblue')\n",
    "plt.axvline(priv_fp_inst['C150_4_PELL'].dropna().mean(), color = 'indigo')"
   ]
  },
  {
   "cell_type": "code",
   "execution_count": 15,
   "metadata": {},
   "outputs": [
    {
     "name": "stdout",
     "output_type": "stream",
     "text": [
      "DescribeResult(nobs=670, minmax=(0.0, 0.9091), mean=0.4139114925373134, variance=0.03264028442676751, skewness=0.3543256667732047, kurtosis=-0.36037172193876765)\n",
      "DescribeResult(nobs=1096, minmax=(0.0, 1.0), mean=0.5170837591240875, variance=0.04565233560813919, skewness=0.0762140620988609, kurtosis=-0.3126971100524658)\n",
      "DescribeResult(nobs=277, minmax=(0.0, 1.0), mean=0.33874873646209386, variance=0.05079000192774551, skewness=0.757525775972177, kurtosis=-0.11704511903159531)\n",
      "F_onewayResult(statistic=107.71330663559881, pvalue=3.384512369092134e-45)\n"
     ]
    }
   ],
   "source": [
    "#Use descriptive statistics to evaluate normality\n",
    "print(stats.describe(pub_inst['C150_4_PELL'].dropna()))\n",
    "print(stats.describe(priv_np_inst['C150_4_PELL'].dropna()))\n",
    "print(stats.describe(priv_fp_inst['C150_4_PELL'].dropna()))\n",
    "\n",
    "#Based on the normal values of skewness and kurtosis I will perform a One-Way ANOVA test\n",
    "print(stats.f_oneway(pub_inst['C150_4_PELL'].dropna(), priv_np_inst['C150_4_PELL'].dropna(), priv_fp_inst['C150_4_PELL'].dropna()))"
   ]
  },
  {
   "cell_type": "markdown",
   "metadata": {},
   "source": [
    "We see the same trend in <b>students that took out a loan and didn't recieve a Pell grant</b>, with those students who attended a private institution having the highest completion rate."
   ]
  },
  {
   "cell_type": "code",
   "execution_count": 16,
   "metadata": {},
   "outputs": [
    {
     "data": {
      "text/plain": [
       "<matplotlib.lines.Line2D at 0x275da5f8f60>"
      ]
     },
     "execution_count": 16,
     "metadata": {},
     "output_type": "execute_result"
    },
    {
     "data": {
      "image/png": "[encoded data removed]",
      "text/plain": [
       "<Figure size 432x288 with 1 Axes>"
      ]
     },
     "metadata": {
      "needs_background": "light"
     },
     "output_type": "display_data"
    }
   ],
   "source": [
    "#Histogram plotting the average completion rates for students that took out a federal loan and didn't recieve a Pell grant by type of institution.\n",
    "sns.distplot(pub_inst['C150_4_LOANNOPELL'].dropna(), kde=False, color='dimgray')\n",
    "sns.distplot(priv_np_inst['C150_4_LOANNOPELL'].dropna(), kde=False, color='dodgerblue')\n",
    "sns.distplot(priv_fp_inst['C150_4_LOANNOPELL'].dropna(), kde=False, color='indigo')\n",
    "\n",
    "#Plot the distribution means\n",
    "plt.axvline(pub_inst['C150_4_LOANNOPELL'].dropna().mean(), color = 'dimgray')\n",
    "plt.axvline(priv_np_inst['C150_4_LOANNOPELL'].dropna().mean(), color = 'dodgerblue')\n",
    "plt.axvline(priv_fp_inst['C150_4_LOANNOPELL'].dropna().mean(), color = 'indigo')"
   ]
  },
  {
   "cell_type": "code",
   "execution_count": 17,
   "metadata": {},
   "outputs": [
    {
     "name": "stdout",
     "output_type": "stream",
     "text": [
      "DescribeResult(nobs=670, minmax=(0.0, 1.0), mean=0.46332223880597023, variance=0.04082275880215514, skewness=-0.01205680826079558, kurtosis=-0.1920929373888698)\n",
      "DescribeResult(nobs=1096, minmax=(0.0, 1.0), mean=0.5883248175182483, variance=0.048501961557044296, skewness=-0.510064451896586, kurtosis=0.26934509349848)\n",
      "DescribeResult(nobs=277, minmax=(0.0, 1.0), mean=0.43230685920577616, variance=0.08615888730785329, skewness=0.3474796334698777, kurtosis=-0.5883073398169447)\n",
      "F_onewayResult(statistic=91.24145422370826, pvalue=1.1157640816866465e-38)\n"
     ]
    }
   ],
   "source": [
    "#Use decriptive statistics to evaluate normality\n",
    "print(stats.describe(pub_inst['C150_4_LOANNOPELL'].dropna()))\n",
    "print(stats.describe(priv_np_inst['C150_4_LOANNOPELL'].dropna()))\n",
    "print(stats.describe(priv_fp_inst['C150_4_LOANNOPELL'].dropna()))\n",
    "\n",
    "#Based on the normal values of skewness and kurtosis I will perform a One-Way ANOVA test\n",
    "print(stats.f_oneway(pub_inst['C150_4_LOANNOPELL'].dropna(), priv_np_inst['C150_4_LOANNOPELL'].dropna(), priv_fp_inst['C150_4_LOANNOPELL'].dropna()))"
   ]
  },
  {
   "cell_type": "markdown",
   "metadata": {},
   "source": [
    "Students that attended a private non-profit institution also completed at the highest rate when looking at <b>students who didn't take out loans and didn't recieve a Pell grant</b>."
   ]
  },
  {
   "cell_type": "code",
   "execution_count": 18,
   "metadata": {},
   "outputs": [
    {
     "data": {
      "text/plain": [
       "<matplotlib.lines.Line2D at 0x275d9fb1c18>"
      ]
     },
     "execution_count": 18,
     "metadata": {},
     "output_type": "execute_result"
    },
    {
     "data": {
      "image/png": "[encoded data removed]",
      "text/plain": [
       "<Figure size 432x288 with 1 Axes>"
      ]
     },
     "metadata": {
      "needs_background": "light"
     },
     "output_type": "display_data"
    }
   ],
   "source": [
    "#Histogram plotting the average completion rates for students that didn't take out a federal loan and didn't recieve a Pell grant by type of institution.\n",
    "sns.distplot(pub_inst['C150_4_NOLOANNOPELL'].dropna(), kde=False, color='dimgray')\n",
    "sns.distplot(priv_np_inst['C150_4_NOLOANNOPELL'].dropna(), kde=False, color='dodgerblue')\n",
    "sns.distplot(priv_fp_inst['C150_4_NOLOANNOPELL'].dropna(), kde=False, color='indigo')\n",
    "\n",
    "#Plot the distribution means\n",
    "plt.axvline(pub_inst['C150_4_NOLOANNOPELL'].dropna().mean(), color = 'dimgray')\n",
    "plt.axvline(priv_np_inst['C150_4_NOLOANNOPELL'].dropna().mean(), color = 'dodgerblue')\n",
    "plt.axvline(priv_fp_inst['C150_4_NOLOANNOPELL'].dropna().mean(), color = 'indigo')\n"
   ]
  },
  {
   "cell_type": "code",
   "execution_count": 19,
   "metadata": {},
   "outputs": [
    {
     "name": "stdout",
     "output_type": "stream",
     "text": [
      "DescribeResult(nobs=670, minmax=(0.0, 0.9523), mean=0.5266447761194031, variance=0.0314181114151217, skewness=-0.13089866606689393, kurtosis=-0.14074103346482847)\n",
      "DescribeResult(nobs=1096, minmax=(0.0, 1.0), mean=0.6121545620437956, variance=0.05136839910245643, skewness=-0.8311767772282204, kurtosis=0.5184844662314454)\n",
      "DescribeResult(nobs=277, minmax=(0.0, 1.0), mean=0.33648664259927796, variance=0.07347808703107832, skewness=0.5786757782285858, kurtosis=-0.36179157753223823)\n",
      "F_onewayResult(statistic=179.91026792126155, pvalue=1.0975646014540237e-72)\n"
     ]
    }
   ],
   "source": [
    "#Use descriptive statistics to evaluate normality \n",
    "print(stats.describe(pub_inst['C150_4_NOLOANNOPELL'].dropna()))\n",
    "print(stats.describe(priv_np_inst['C150_4_NOLOANNOPELL'].dropna()))\n",
    "print(stats.describe(priv_fp_inst['C150_4_NOLOANNOPELL'].dropna()))\n",
    "\n",
    "#Based on the normal values of skewness and kurtosis I will perform a One-Way ANOVA test\n",
    "print(stats.f_oneway(pub_inst['C150_4_NOLOANNOPELL'].dropna(), priv_np_inst['C150_4_NOLOANNOPELL'].dropna(), priv_fp_inst['C150_4_NOLOANNOPELL'].dropna()))\n"
   ]
  },
  {
   "cell_type": "markdown",
   "metadata": {},
   "source": [
    "Here I'm looking at how payment type affects completion rate. There isn't as much variance when looking at this variable, but we can see that <b>students who recieved neither loans nor a Pell grant</b> had a higher completion rate."
   ]
  },
  {
   "cell_type": "code",
   "execution_count": 20,
   "metadata": {},
   "outputs": [
    {
     "data": {
      "text/plain": [
       "<matplotlib.lines.Line2D at 0x275dae3b1d0>"
      ]
     },
     "execution_count": 20,
     "metadata": {},
     "output_type": "execute_result"
    },
    {
     "data": {
      "image/png": "[encoded data removed]",
      "text/plain": [
       "<Figure size 432x288 with 1 Axes>"
      ]
     },
     "metadata": {
      "needs_background": "light"
     },
     "output_type": "display_data"
    }
   ],
   "source": [
    "#Histogram plotting the average completion rates by payment type.\n",
    "sns.distplot(slim_df['C150_4_PELL'].dropna(), kde=False, color='lightcoral')\n",
    "sns.distplot(slim_df['C150_4_LOANNOPELL'].dropna(), kde=False, color='cadetblue')\n",
    "sns.distplot(slim_df['C150_4_NOLOANNOPELL'].dropna(), kde=False, color='rebeccapurple')\n",
    "\n",
    "#Plot the distribution averages\n",
    "plt.axvline(slim_df['C150_4_PELL'].dropna().mean(), color = 'lightcoral')\n",
    "plt.axvline(slim_df['C150_4_LOANNOPELL'].dropna().mean(), color = 'cadetblue')\n",
    "plt.axvline(slim_df['C150_4_NOLOANNOPELL'].dropna().mean(), color = 'rebeccapurple')\n",
    "\n"
   ]
  },
  {
   "cell_type": "code",
   "execution_count": 21,
   "metadata": {},
   "outputs": [
    {
     "name": "stdout",
     "output_type": "stream",
     "text": [
      "DescribeResult(nobs=2043, minmax=(0.0, 1.0), mean=0.45906896720509055, variance=0.04647840490329129, skewness=0.2420432700609585, kurtosis=-0.4132102541584626)\n",
      "DescribeResult(nobs=2043, minmax=(0.0, 1.0), mean=0.5261766519823788, variance=0.055592977755288715, skewness=-0.21246278464713012, kurtosis=-0.2618335137799237)\n",
      "DescribeResult(nobs=2043, minmax=(0.0, 1.0), mean=0.546735291238375, variance=0.056196215546279, skewness=-0.4851934755058883, kurtosis=-0.2085863051118162)\n",
      "F_onewayResult(statistic=81.39777448063074, pvalue=1.291068540296396e-35)\n"
     ]
    }
   ],
   "source": [
    "#Use descriptive statistics to evaluate normality \n",
    "print(stats.describe(slim_df['C150_4_PELL'].dropna()))\n",
    "print(stats.describe(slim_df['C150_4_LOANNOPELL'].dropna()))\n",
    "print(stats.describe(slim_df['C150_4_NOLOANNOPELL'].dropna()))\n",
    "\n",
    "#Based on the normal values of skewness and kurtosis I will perform a One-Way ANOVA test\n",
    "print(stats.f_oneway((slim_df['C150_4_PELL'].dropna()), (slim_df['C150_4_LOANNOPELL'].dropna()), (slim_df['C150_4_NOLOANNOPELL'].dropna())))"
   ]
  },
  {
   "cell_type": "markdown",
   "metadata": {},
   "source": [
    "The low p-value on my One-way ANOVA score implies that <b>there is a statistically significant relationship between payment type and an institute's rate of completion</b>."
   ]
  },
  {
   "cell_type": "markdown",
   "metadata": {},
   "source": [
    "Looking at <b>students at public institutions</b>, students who neither recieved a loan nor a Pell grant continue to have the highest completion rate."
   ]
  },
  {
   "cell_type": "code",
   "execution_count": 22,
   "metadata": {},
   "outputs": [
    {
     "data": {
      "text/plain": [
       "<matplotlib.lines.Line2D at 0x275d9e6e048>"
      ]
     },
     "execution_count": 22,
     "metadata": {},
     "output_type": "execute_result"
    },
    {
     "data": {
      "image/png": "[encoded data removed]",
      "text/plain": [
       "<Figure size 432x288 with 1 Axes>"
      ]
     },
     "metadata": {
      "needs_background": "light"
     },
     "output_type": "display_data"
    }
   ],
   "source": [
    "#Histogram to plot the distributions for payment types in public institutions.\n",
    "sns.distplot(pub_inst['C150_4_PELL'].dropna(), kde=False, color='lightcoral')\n",
    "sns.distplot(pub_inst['C150_4_LOANNOPELL'].dropna(), kde=False, color='cadetblue')\n",
    "sns.distplot(pub_inst['C150_4_NOLOANNOPELL'].dropna(), kde=False, color='rebeccapurple')\n",
    "\n",
    "#Plot the distribution averages\n",
    "plt.axvline(pub_inst['C150_4_PELL'].dropna().mean(), color = 'lightcoral')\n",
    "plt.axvline(pub_inst['C150_4_LOANNOPELL'].dropna().mean(), color = 'cadetblue')\n",
    "plt.axvline(pub_inst['C150_4_NOLOANNOPELL'].dropna().mean(), color = 'rebeccapurple')"
   ]
  },
  {
   "cell_type": "code",
   "execution_count": 23,
   "metadata": {},
   "outputs": [
    {
     "name": "stdout",
     "output_type": "stream",
     "text": [
      "DescribeResult(nobs=670, minmax=(0.0, 0.9091), mean=0.4139114925373134, variance=0.03264028442676751, skewness=0.3543256667732047, kurtosis=-0.36037172193876765)\n",
      "DescribeResult(nobs=670, minmax=(0.0, 1.0), mean=0.46332223880597023, variance=0.04082275880215514, skewness=-0.01205680826079558, kurtosis=-0.1920929373888698)\n",
      "DescribeResult(nobs=670, minmax=(0.0, 0.9523), mean=0.5266447761194031, variance=0.0314181114151217, skewness=-0.13089866606689393, kurtosis=-0.14074103346482847)\n",
      "F_onewayResult(statistic=61.19866072927242, pvalue=1.587400054981021e-26)\n"
     ]
    }
   ],
   "source": [
    "#Use descriptive statistics to evaluate normality \n",
    "print(stats.describe(pub_inst['C150_4_PELL'].dropna()))\n",
    "print(stats.describe(pub_inst['C150_4_LOANNOPELL'].dropna()))\n",
    "print(stats.describe(pub_inst['C150_4_NOLOANNOPELL'].dropna()))\n",
    "\n",
    "#Based on the normal values of skewness and kurtosis I will perform a One-Way ANOVA test\n",
    "print(stats.f_oneway((pub_inst['C150_4_PELL'].dropna()), (pub_inst['C150_4_LOANNOPELL'].dropna()), (pub_inst['C150_4_NOLOANNOPELL'].dropna())))\n"
   ]
  },
  {
   "cell_type": "markdown",
   "metadata": {},
   "source": [
    "Looking at <b>students at private non-profit institutions</b> we see the same trend, with those who recieved neither Pell grants nor loans having the highest completion rate."
   ]
  },
  {
   "cell_type": "code",
   "execution_count": 24,
   "metadata": {},
   "outputs": [
    {
     "data": {
      "text/plain": [
       "<matplotlib.lines.Line2D at 0x275d9cbb0b8>"
      ]
     },
     "execution_count": 24,
     "metadata": {},
     "output_type": "execute_result"
    },
    {
     "data": {
      "image/png": "[encoded data removed]",
      "text/plain": [
       "<Figure size 432x288 with 1 Axes>"
      ]
     },
     "metadata": {
      "needs_background": "light"
     },
     "output_type": "display_data"
    }
   ],
   "source": [
    "#Histogram to plot the distributions for payment types in private non-profit instituions\n",
    "sns.distplot(priv_np_inst['C150_4_PELL'].dropna(), kde=False, color='lightcoral')\n",
    "sns.distplot(priv_np_inst['C150_4_LOANNOPELL'].dropna(), kde=False, color='cadetblue')\n",
    "sns.distplot(priv_np_inst['C150_4_NOLOANNOPELL'].dropna(), kde=False, color='rebeccapurple')\n",
    "\n",
    "#Plot the distribution averages\n",
    "plt.axvline(priv_np_inst['C150_4_PELL'].dropna().mean(), color = 'lightcoral')\n",
    "plt.axvline(priv_np_inst['C150_4_LOANNOPELL'].dropna().mean(), color = 'cadetblue')\n",
    "plt.axvline(priv_np_inst['C150_4_NOLOANNOPELL'].dropna().mean(), color = 'rebeccapurple')\n"
   ]
  },
  {
   "cell_type": "code",
   "execution_count": 25,
   "metadata": {},
   "outputs": [
    {
     "name": "stdout",
     "output_type": "stream",
     "text": [
      "DescribeResult(nobs=1096, minmax=(0.0, 1.0), mean=0.5170837591240875, variance=0.04565233560813919, skewness=0.0762140620988609, kurtosis=-0.3126971100524658)\n",
      "DescribeResult(nobs=1096, minmax=(0.0, 1.0), mean=0.5883248175182483, variance=0.048501961557044296, skewness=-0.510064451896586, kurtosis=0.26934509349848)\n",
      "DescribeResult(nobs=1096, minmax=(0.0, 1.0), mean=0.6121545620437956, variance=0.05136839910245643, skewness=-0.8311767772282204, kurtosis=0.5184844662314454)\n",
      "F_onewayResult(statistic=55.28703413387769, pvalue=2.42329939391515e-24)\n"
     ]
    }
   ],
   "source": [
    "\n",
    "#Use descriptive statistics to evaluate normality \n",
    "print(stats.describe(priv_np_inst['C150_4_PELL'].dropna()))\n",
    "print(stats.describe(priv_np_inst['C150_4_LOANNOPELL'].dropna()))\n",
    "print(stats.describe(priv_np_inst['C150_4_NOLOANNOPELL'].dropna()))\n",
    "\n",
    "#Based on the normal values of skewness and kurtosis I will perform a One-Way ANOVA test\n",
    "print(stats.f_oneway( (priv_np_inst['C150_4_PELL'].dropna()), (priv_np_inst['C150_4_LOANNOPELL'].dropna()), (priv_np_inst['C150_4_NOLOANNOPELL'].dropna())))"
   ]
  },
  {
   "cell_type": "markdown",
   "metadata": {},
   "source": [
    "Things start looking differently when we focus on students from <b>private for-profit institutions</b>. Here, <b>students who recieved a loan but not a Pell grant</b> completed at the highest rate."
   ]
  },
  {
   "cell_type": "code",
   "execution_count": 26,
   "metadata": {},
   "outputs": [
    {
     "data": {
      "text/plain": [
       "<matplotlib.lines.Line2D at 0x275dad01630>"
      ]
     },
     "execution_count": 26,
     "metadata": {},
     "output_type": "execute_result"
    },
    {
     "data": {
      "image/png": "[encoded data removed]",
      "text/plain": [
       "<Figure size 432x288 with 1 Axes>"
      ]
     },
     "metadata": {
      "needs_background": "light"
     },
     "output_type": "display_data"
    }
   ],
   "source": [
    "#Histogram to plot the distributions for payment types in private for-profit institutions\n",
    "sns.distplot(priv_fp_inst['C150_4_PELL'].dropna(), kde=False, color='lightcoral')\n",
    "sns.distplot(priv_fp_inst['C150_4_LOANNOPELL'].dropna(), kde=False, color='cadetblue',)\n",
    "sns.distplot(priv_fp_inst['C150_4_NOLOANNOPELL'].dropna(), kde=False, color='rebeccapurple', axlabel = 'Private, For Profit')\n",
    "\n",
    "#Plot the distribution averages\n",
    "plt.axvline(priv_fp_inst['C150_4_PELL'].dropna().mean(), color = 'lightcoral')\n",
    "plt.axvline(priv_fp_inst['C150_4_LOANNOPELL'].dropna().mean(), color = 'cadetblue')\n",
    "plt.axvline(priv_fp_inst['C150_4_NOLOANNOPELL'].dropna().mean(), color = 'rebeccapurple')\n"
   ]
  },
  {
   "cell_type": "code",
   "execution_count": 27,
   "metadata": {},
   "outputs": [
    {
     "name": "stdout",
     "output_type": "stream",
     "text": [
      "DescribeResult(nobs=277, minmax=(0.0, 1.0), mean=0.33874873646209386, variance=0.05079000192774551, skewness=0.757525775972177, kurtosis=-0.11704511903159531)\n",
      "DescribeResult(nobs=277, minmax=(0.0, 1.0), mean=0.43230685920577616, variance=0.08615888730785329, skewness=0.3474796334698777, kurtosis=-0.5883073398169447)\n",
      "DescribeResult(nobs=277, minmax=(0.0, 1.0), mean=0.33648664259927796, variance=0.07347808703107832, skewness=0.5786757782285858, kurtosis=-0.36179157753223823)\n",
      "F_onewayResult(statistic=11.80768681650857, pvalue=8.78523503696538e-06)\n"
     ]
    }
   ],
   "source": [
    "#Use descriptive statistics to evaluate normality \n",
    "print(stats.describe(priv_fp_inst['C150_4_PELL'].dropna()))\n",
    "print(stats.describe(priv_fp_inst['C150_4_LOANNOPELL'].dropna()))\n",
    "print(stats.describe(priv_fp_inst['C150_4_NOLOANNOPELL'].dropna()))\n",
    "\n",
    "#Based on the normal values of skewness and kurtosis I will perform a One-Way ANOVA test\n",
    "print(stats.f_oneway((priv_fp_inst['C150_4_PELL'].dropna()), (priv_fp_inst['C150_4_LOANNOPELL'].dropna()), (priv_fp_inst['C150_4_NOLOANNOPELL'].dropna())))"
   ]
  },
  {
   "cell_type": "markdown",
   "metadata": {},
   "source": [
    "## Discussion \n",
    "\n",
    "- Across all forms of analysis used, a common trend was found in student completion rates. <b>Private non-profit institutions</b> had the highest average completion rates, followed by public institutions, and then by private for-profit. This result suggests that private non-profit institutions have a better rate of student success than schools funded in other ways.\n",
    "\n",
    "- We also found a significant relationship between payment method and completion rate, Pell grant recipents having a lower completion rate than the pooled average and <b>students that didn't recieve Pell grant</b> having higher completion rates than average, whether they took out a federal loan or not.\n",
    "\n"
   ]
  },
  {
   "cell_type": "markdown",
   "metadata": {},
   "source": [
    "- This data can be used by students in deciding which type of school would be the most secure investment.\n",
    "- School administrators can also use this information in making admissions decisions as well as in figuring out which students would be more likely to need a bit more support.\n",
    "- The Pell grant is a federal aid program that aims to provide financial assistance to lower income undergraduate students.\n",
    "- As these students are more likely to have to deal with other major responsibilities outside of their studies, it is understandable that they would have a harder time finishing their four-years."
   ]
  },
  {
   "cell_type": "markdown",
   "metadata": {},
   "source": [
    "## Further Research\n",
    "\n",
    "- It would be interesting to dig deeper into the data and look at:\n",
    "    - How these relationships may change based on the cost of tuition\n",
    "    - How these relationships may change based on other forms of aid (i.e., scholarships)"
   ]
  },
  {
   "cell_type": "code",
   "execution_count": null,
   "metadata": {},
   "outputs": [],
   "source": []
  }
 ],
 "metadata": {
  "kernelspec": {
   "display_name": "Python 3",
   "language": "python",
   "name": "python3"
  },
  "language_info": {
   "codemirror_mode": {
    "name": "ipython",
    "version": 3
   },
   "file_extension": ".py",
   "mimetype": "text/x-python",
   "name": "python",
   "nbconvert_exporter": "python",
   "pygments_lexer": "ipython3",
   "version": "3.6.4"
  }
 },
 "nbformat": 4,
 "nbformat_minor": 2
}
