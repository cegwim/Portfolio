{
 "cells": [
  {
   "cell_type": "code",
   "execution_count": 1,
   "metadata": {},
   "outputs": [],
   "source": [
    "import numpy as np\n",
    "import pandas as pd\n",
    "import matplotlib.pyplot as plt\n",
    "from sklearn.cluster import KMeans\n",
    "from sklearn.preprocessing import StandardScaler\n",
    "from sklearn import metrics\n",
    "from umap import UMAP\n",
    "import plotly.express as px\n",
    "import seaborn as sns\n",
    "sns.set()\n",
    "import warnings\n",
    "warnings.simplefilter(\"ignore\")"
   ]
  },
  {
   "cell_type": "markdown",
   "metadata": {},
   "source": [
    "# Introduction\n",
    "\n",
    "- The Human Development Report is an annual report published by the United Nations Development Programme.\n",
    "- The report aims to quantify multiple aspects of life, through three overarching dimensions... \n",
    "    - Education\n",
    "    - Health\n",
    "    - Standard of Living\n",
    "- The results of the Human Development Report can be summarized by a country's Human Development Index score.\n",
    "\n",
    "# Data\n",
    "\n",
    "- I was able to download this data from the <a href=\"http://hdr.undp.org/en/data\">HDR's homepage</a>.\n",
    "- The raw dataset is comprised of an Excel workbook made of 19 sheets, with 210 values per sheet and a grand total of 232 variables.\n",
    "- After prepping the data for analysis, I was left with a 189 X 222 dataframe."
   ]
  },
  {
   "cell_type": "code",
   "execution_count": 2,
   "metadata": {},
   "outputs": [],
   "source": [
    "X = pd.read_csv('hdi_df.csv', index_col= 0)"
   ]
  },
  {
   "cell_type": "code",
   "execution_count": 3,
   "metadata": {},
   "outputs": [
    {
     "data": {
      "text/html": [
       "<div>\n",
       "<style scoped>\n",
       "    .dataframe tbody tr th:only-of-type {\n",
       "        vertical-align: middle;\n",
       "    }\n",
       "\n",
       "    .dataframe tbody tr th {\n",
       "        vertical-align: top;\n",
       "    }\n",
       "\n",
       "    .dataframe thead th {\n",
       "        text-align: right;\n",
       "    }\n",
       "</style>\n",
       "<table border=\"1\" class=\"dataframe\">\n",
       "  <thead>\n",
       "    <tr style=\"text-align: right;\">\n",
       "      <th></th>\n",
       "      <th>HDI rank</th>\n",
       "      <th>Human development index (HDI)</th>\n",
       "      <th>Life expectancy at birth</th>\n",
       "      <th>Expected years of schooling</th>\n",
       "      <th>Mean years of schooling</th>\n",
       "      <th>Gross national income (GNI) per capita</th>\n",
       "      <th>GNI per capita rank minus HDI rank</th>\n",
       "      <th>1990 HDI</th>\n",
       "      <th>2000 HDI</th>\n",
       "      <th>2010 HDI</th>\n",
       "      <th>...</th>\n",
       "      <th>Skilled Labor Force</th>\n",
       "      <th>Exports Concentration Index</th>\n",
       "      <th>Research and Development Expenditure</th>\n",
       "      <th>Old Age Dependency Rate</th>\n",
       "      <th>Military Expenditure (% of GDP)</th>\n",
       "      <th>Ratio of education and health expenditure to military expenditure</th>\n",
       "      <th>Loss in HDI Value due to Inequality</th>\n",
       "      <th>Gender Inequality Index</th>\n",
       "      <th>Income Share of Poorest 40%</th>\n",
       "      <th>HDI group</th>\n",
       "    </tr>\n",
       "  </thead>\n",
       "  <tbody>\n",
       "    <tr>\n",
       "      <th>Norway</th>\n",
       "      <td>1.0</td>\n",
       "      <td>0.954</td>\n",
       "      <td>82.3</td>\n",
       "      <td>18.1</td>\n",
       "      <td>12.6</td>\n",
       "      <td>68059.0</td>\n",
       "      <td>5.0</td>\n",
       "      <td>0.850000</td>\n",
       "      <td>0.917000</td>\n",
       "      <td>0.942</td>\n",
       "      <td>...</td>\n",
       "      <td>84.300000</td>\n",
       "      <td>0.368000</td>\n",
       "      <td>2.000000</td>\n",
       "      <td>31.900000</td>\n",
       "      <td>1.600000</td>\n",
       "      <td>11.700000</td>\n",
       "      <td>0.300000</td>\n",
       "      <td>-3.700000</td>\n",
       "      <td>0.300000</td>\n",
       "      <td>1.0</td>\n",
       "    </tr>\n",
       "    <tr>\n",
       "      <th>Switzerland</th>\n",
       "      <td>2.0</td>\n",
       "      <td>0.946</td>\n",
       "      <td>83.6</td>\n",
       "      <td>16.2</td>\n",
       "      <td>13.4</td>\n",
       "      <td>59375.0</td>\n",
       "      <td>8.0</td>\n",
       "      <td>0.832000</td>\n",
       "      <td>0.889000</td>\n",
       "      <td>0.932</td>\n",
       "      <td>...</td>\n",
       "      <td>86.500000</td>\n",
       "      <td>0.246000</td>\n",
       "      <td>3.400000</td>\n",
       "      <td>37.900000</td>\n",
       "      <td>0.700000</td>\n",
       "      <td>25.500000</td>\n",
       "      <td>-0.400000</td>\n",
       "      <td>-3.800000</td>\n",
       "      <td>0.800000</td>\n",
       "      <td>1.0</td>\n",
       "    </tr>\n",
       "    <tr>\n",
       "      <th>Ireland</th>\n",
       "      <td>3.0</td>\n",
       "      <td>0.942</td>\n",
       "      <td>82.1</td>\n",
       "      <td>18.8</td>\n",
       "      <td>12.5</td>\n",
       "      <td>55660.0</td>\n",
       "      <td>9.0</td>\n",
       "      <td>0.764000</td>\n",
       "      <td>0.857000</td>\n",
       "      <td>0.890</td>\n",
       "      <td>...</td>\n",
       "      <td>84.900000</td>\n",
       "      <td>0.269000</td>\n",
       "      <td>1.200000</td>\n",
       "      <td>27.800000</td>\n",
       "      <td>0.300000</td>\n",
       "      <td>32.700000</td>\n",
       "      <td>-2.300000</td>\n",
       "      <td>-4.000000</td>\n",
       "      <td>0.400000</td>\n",
       "      <td>1.0</td>\n",
       "    </tr>\n",
       "    <tr>\n",
       "      <th>Germany</th>\n",
       "      <td>4.0</td>\n",
       "      <td>0.939</td>\n",
       "      <td>81.2</td>\n",
       "      <td>17.1</td>\n",
       "      <td>14.1</td>\n",
       "      <td>46946.0</td>\n",
       "      <td>15.0</td>\n",
       "      <td>0.801000</td>\n",
       "      <td>0.869000</td>\n",
       "      <td>0.920</td>\n",
       "      <td>...</td>\n",
       "      <td>87.400000</td>\n",
       "      <td>0.093000</td>\n",
       "      <td>2.900000</td>\n",
       "      <td>44.000000</td>\n",
       "      <td>1.200000</td>\n",
       "      <td>13.500000</td>\n",
       "      <td>0.500000</td>\n",
       "      <td>-2.200000</td>\n",
       "      <td>0.000000</td>\n",
       "      <td>1.0</td>\n",
       "    </tr>\n",
       "    <tr>\n",
       "      <th>Hong Kong, China (SAR)</th>\n",
       "      <td>4.0</td>\n",
       "      <td>0.939</td>\n",
       "      <td>84.7</td>\n",
       "      <td>16.5</td>\n",
       "      <td>12.0</td>\n",
       "      <td>60221.0</td>\n",
       "      <td>5.0</td>\n",
       "      <td>0.781000</td>\n",
       "      <td>0.827000</td>\n",
       "      <td>0.901</td>\n",
       "      <td>...</td>\n",
       "      <td>77.000000</td>\n",
       "      <td>0.286000</td>\n",
       "      <td>0.800000</td>\n",
       "      <td>43.200000</td>\n",
       "      <td>2.068889</td>\n",
       "      <td>11.023256</td>\n",
       "      <td>-0.950000</td>\n",
       "      <td>-2.947727</td>\n",
       "      <td>0.089189</td>\n",
       "      <td>1.0</td>\n",
       "    </tr>\n",
       "    <tr>\n",
       "      <th>Australia</th>\n",
       "      <td>6.0</td>\n",
       "      <td>0.938</td>\n",
       "      <td>83.3</td>\n",
       "      <td>22.1</td>\n",
       "      <td>12.7</td>\n",
       "      <td>44097.0</td>\n",
       "      <td>15.0</td>\n",
       "      <td>0.866000</td>\n",
       "      <td>0.898000</td>\n",
       "      <td>0.926</td>\n",
       "      <td>...</td>\n",
       "      <td>78.900000</td>\n",
       "      <td>0.291000</td>\n",
       "      <td>1.900000</td>\n",
       "      <td>31.000000</td>\n",
       "      <td>1.900000</td>\n",
       "      <td>7.500000</td>\n",
       "      <td>0.400000</td>\n",
       "      <td>-2.000000</td>\n",
       "      <td>-0.600000</td>\n",
       "      <td>1.0</td>\n",
       "    </tr>\n",
       "    <tr>\n",
       "      <th>Iceland</th>\n",
       "      <td>6.0</td>\n",
       "      <td>0.938</td>\n",
       "      <td>82.9</td>\n",
       "      <td>19.2</td>\n",
       "      <td>12.5</td>\n",
       "      <td>47566.0</td>\n",
       "      <td>12.0</td>\n",
       "      <td>0.804000</td>\n",
       "      <td>0.861000</td>\n",
       "      <td>0.892</td>\n",
       "      <td>...</td>\n",
       "      <td>74.500000</td>\n",
       "      <td>0.461000</td>\n",
       "      <td>2.100000</td>\n",
       "      <td>31.800000</td>\n",
       "      <td>2.068889</td>\n",
       "      <td>11.023256</td>\n",
       "      <td>-1.700000</td>\n",
       "      <td>-4.200000</td>\n",
       "      <td>0.200000</td>\n",
       "      <td>1.0</td>\n",
       "    </tr>\n",
       "    <tr>\n",
       "      <th>Sweden</th>\n",
       "      <td>8.0</td>\n",
       "      <td>0.937</td>\n",
       "      <td>82.7</td>\n",
       "      <td>18.8</td>\n",
       "      <td>12.4</td>\n",
       "      <td>47955.0</td>\n",
       "      <td>9.0</td>\n",
       "      <td>0.816000</td>\n",
       "      <td>0.897000</td>\n",
       "      <td>0.906</td>\n",
       "      <td>...</td>\n",
       "      <td>86.800000</td>\n",
       "      <td>0.097000</td>\n",
       "      <td>3.300000</td>\n",
       "      <td>36.400000</td>\n",
       "      <td>1.000000</td>\n",
       "      <td>17.200000</td>\n",
       "      <td>-0.400000</td>\n",
       "      <td>-1.800000</td>\n",
       "      <td>-0.400000</td>\n",
       "      <td>1.0</td>\n",
       "    </tr>\n",
       "    <tr>\n",
       "      <th>Singapore</th>\n",
       "      <td>9.0</td>\n",
       "      <td>0.935</td>\n",
       "      <td>83.5</td>\n",
       "      <td>16.3</td>\n",
       "      <td>11.5</td>\n",
       "      <td>83793.0</td>\n",
       "      <td>-6.0</td>\n",
       "      <td>0.718000</td>\n",
       "      <td>0.818000</td>\n",
       "      <td>0.909</td>\n",
       "      <td>...</td>\n",
       "      <td>65.900000</td>\n",
       "      <td>0.269000</td>\n",
       "      <td>2.200000</td>\n",
       "      <td>34.500000</td>\n",
       "      <td>3.100000</td>\n",
       "      <td>2.100000</td>\n",
       "      <td>-0.950000</td>\n",
       "      <td>-4.700000</td>\n",
       "      <td>0.089189</td>\n",
       "      <td>1.0</td>\n",
       "    </tr>\n",
       "    <tr>\n",
       "      <th>Netherlands</th>\n",
       "      <td>10.0</td>\n",
       "      <td>0.933</td>\n",
       "      <td>82.1</td>\n",
       "      <td>18.0</td>\n",
       "      <td>12.2</td>\n",
       "      <td>50013.0</td>\n",
       "      <td>3.0</td>\n",
       "      <td>0.830000</td>\n",
       "      <td>0.876000</td>\n",
       "      <td>0.911</td>\n",
       "      <td>...</td>\n",
       "      <td>78.400000</td>\n",
       "      <td>0.082000</td>\n",
       "      <td>2.000000</td>\n",
       "      <td>40.800000</td>\n",
       "      <td>1.200000</td>\n",
       "      <td>13.900000</td>\n",
       "      <td>-2.100000</td>\n",
       "      <td>-3.900000</td>\n",
       "      <td>0.300000</td>\n",
       "      <td>1.0</td>\n",
       "    </tr>\n",
       "    <tr>\n",
       "      <th>Denmark</th>\n",
       "      <td>11.0</td>\n",
       "      <td>0.930</td>\n",
       "      <td>80.8</td>\n",
       "      <td>19.1</td>\n",
       "      <td>12.6</td>\n",
       "      <td>48836.0</td>\n",
       "      <td>4.0</td>\n",
       "      <td>0.799000</td>\n",
       "      <td>0.863000</td>\n",
       "      <td>0.910</td>\n",
       "      <td>...</td>\n",
       "      <td>78.700000</td>\n",
       "      <td>0.101000</td>\n",
       "      <td>2.900000</td>\n",
       "      <td>37.100000</td>\n",
       "      <td>1.200000</td>\n",
       "      <td>15.500000</td>\n",
       "      <td>-0.700000</td>\n",
       "      <td>-2.900000</td>\n",
       "      <td>-0.500000</td>\n",
       "      <td>1.0</td>\n",
       "    </tr>\n",
       "    <tr>\n",
       "      <th>Finland</th>\n",
       "      <td>12.0</td>\n",
       "      <td>0.925</td>\n",
       "      <td>81.7</td>\n",
       "      <td>19.3</td>\n",
       "      <td>12.4</td>\n",
       "      <td>41779.0</td>\n",
       "      <td>12.0</td>\n",
       "      <td>0.784000</td>\n",
       "      <td>0.858000</td>\n",
       "      <td>0.903</td>\n",
       "      <td>...</td>\n",
       "      <td>89.900000</td>\n",
       "      <td>0.143000</td>\n",
       "      <td>2.700000</td>\n",
       "      <td>43.100000</td>\n",
       "      <td>1.400000</td>\n",
       "      <td>11.500000</td>\n",
       "      <td>-3.600000</td>\n",
       "      <td>-3.300000</td>\n",
       "      <td>0.000000</td>\n",
       "      <td>1.0</td>\n",
       "    </tr>\n",
       "    <tr>\n",
       "      <th>Canada</th>\n",
       "      <td>13.0</td>\n",
       "      <td>0.922</td>\n",
       "      <td>82.3</td>\n",
       "      <td>16.1</td>\n",
       "      <td>13.3</td>\n",
       "      <td>43602.0</td>\n",
       "      <td>10.0</td>\n",
       "      <td>0.850000</td>\n",
       "      <td>0.868000</td>\n",
       "      <td>0.895</td>\n",
       "      <td>...</td>\n",
       "      <td>91.800000</td>\n",
       "      <td>0.147000</td>\n",
       "      <td>1.500000</td>\n",
       "      <td>36.700000</td>\n",
       "      <td>1.300000</td>\n",
       "      <td>13.000000</td>\n",
       "      <td>0.200000</td>\n",
       "      <td>-2.900000</td>\n",
       "      <td>-0.300000</td>\n",
       "      <td>1.0</td>\n",
       "    </tr>\n",
       "    <tr>\n",
       "      <th>New Zealand</th>\n",
       "      <td>14.0</td>\n",
       "      <td>0.921</td>\n",
       "      <td>82.1</td>\n",
       "      <td>18.8</td>\n",
       "      <td>12.7</td>\n",
       "      <td>35108.0</td>\n",
       "      <td>18.0</td>\n",
       "      <td>0.820000</td>\n",
       "      <td>0.870000</td>\n",
       "      <td>0.899</td>\n",
       "      <td>...</td>\n",
       "      <td>82.200000</td>\n",
       "      <td>0.175000</td>\n",
       "      <td>1.300000</td>\n",
       "      <td>33.300000</td>\n",
       "      <td>1.200000</td>\n",
       "      <td>13.200000</td>\n",
       "      <td>-0.950000</td>\n",
       "      <td>-2.200000</td>\n",
       "      <td>0.089189</td>\n",
       "      <td>1.0</td>\n",
       "    </tr>\n",
       "    <tr>\n",
       "      <th>United Kingdom</th>\n",
       "      <td>15.0</td>\n",
       "      <td>0.920</td>\n",
       "      <td>81.2</td>\n",
       "      <td>17.4</td>\n",
       "      <td>13.0</td>\n",
       "      <td>39507.0</td>\n",
       "      <td>13.0</td>\n",
       "      <td>0.775000</td>\n",
       "      <td>0.867000</td>\n",
       "      <td>0.905</td>\n",
       "      <td>...</td>\n",
       "      <td>83.600000</td>\n",
       "      <td>0.111000</td>\n",
       "      <td>1.700000</td>\n",
       "      <td>34.800000</td>\n",
       "      <td>1.800000</td>\n",
       "      <td>8.500000</td>\n",
       "      <td>-1.900000</td>\n",
       "      <td>-3.200000</td>\n",
       "      <td>0.300000</td>\n",
       "      <td>1.0</td>\n",
       "    </tr>\n",
       "    <tr>\n",
       "      <th>United States</th>\n",
       "      <td>15.0</td>\n",
       "      <td>0.920</td>\n",
       "      <td>78.9</td>\n",
       "      <td>16.3</td>\n",
       "      <td>13.4</td>\n",
       "      <td>56140.0</td>\n",
       "      <td>-4.0</td>\n",
       "      <td>0.860000</td>\n",
       "      <td>0.881000</td>\n",
       "      <td>0.911</td>\n",
       "      <td>...</td>\n",
       "      <td>96.400000</td>\n",
       "      <td>0.099000</td>\n",
       "      <td>2.700000</td>\n",
       "      <td>32.500000</td>\n",
       "      <td>3.200000</td>\n",
       "      <td>6.200000</td>\n",
       "      <td>2.200000</td>\n",
       "      <td>-2.400000</td>\n",
       "      <td>-0.400000</td>\n",
       "      <td>1.0</td>\n",
       "    </tr>\n",
       "    <tr>\n",
       "      <th>Belgium</th>\n",
       "      <td>17.0</td>\n",
       "      <td>0.919</td>\n",
       "      <td>81.5</td>\n",
       "      <td>19.7</td>\n",
       "      <td>11.8</td>\n",
       "      <td>43821.0</td>\n",
       "      <td>5.0</td>\n",
       "      <td>0.806000</td>\n",
       "      <td>0.873000</td>\n",
       "      <td>0.903</td>\n",
       "      <td>...</td>\n",
       "      <td>85.500000</td>\n",
       "      <td>0.096000</td>\n",
       "      <td>2.500000</td>\n",
       "      <td>37.600000</td>\n",
       "      <td>0.900000</td>\n",
       "      <td>18.100000</td>\n",
       "      <td>-1.200000</td>\n",
       "      <td>-4.300000</td>\n",
       "      <td>0.100000</td>\n",
       "      <td>1.0</td>\n",
       "    </tr>\n",
       "    <tr>\n",
       "      <th>Liechtenstein</th>\n",
       "      <td>18.0</td>\n",
       "      <td>0.917</td>\n",
       "      <td>80.5</td>\n",
       "      <td>14.7</td>\n",
       "      <td>12.5</td>\n",
       "      <td>99732.0</td>\n",
       "      <td>-16.0</td>\n",
       "      <td>0.767152</td>\n",
       "      <td>0.862000</td>\n",
       "      <td>0.904</td>\n",
       "      <td>...</td>\n",
       "      <td>79.980435</td>\n",
       "      <td>0.211604</td>\n",
       "      <td>1.645652</td>\n",
       "      <td>32.934043</td>\n",
       "      <td>2.068889</td>\n",
       "      <td>11.023256</td>\n",
       "      <td>-0.950000</td>\n",
       "      <td>-2.947727</td>\n",
       "      <td>0.089189</td>\n",
       "      <td>1.0</td>\n",
       "    </tr>\n",
       "    <tr>\n",
       "      <th>Japan</th>\n",
       "      <td>19.0</td>\n",
       "      <td>0.915</td>\n",
       "      <td>84.5</td>\n",
       "      <td>15.2</td>\n",
       "      <td>12.8</td>\n",
       "      <td>40799.0</td>\n",
       "      <td>6.0</td>\n",
       "      <td>0.816000</td>\n",
       "      <td>0.855000</td>\n",
       "      <td>0.885</td>\n",
       "      <td>...</td>\n",
       "      <td>99.900000</td>\n",
       "      <td>0.139000</td>\n",
       "      <td>3.100000</td>\n",
       "      <td>53.200000</td>\n",
       "      <td>0.900000</td>\n",
       "      <td>15.300000</td>\n",
       "      <td>-0.950000</td>\n",
       "      <td>-2.500000</td>\n",
       "      <td>0.089189</td>\n",
       "      <td>1.0</td>\n",
       "    </tr>\n",
       "    <tr>\n",
       "      <th>Austria</th>\n",
       "      <td>20.0</td>\n",
       "      <td>0.914</td>\n",
       "      <td>81.4</td>\n",
       "      <td>16.3</td>\n",
       "      <td>12.6</td>\n",
       "      <td>46231.0</td>\n",
       "      <td>0.0</td>\n",
       "      <td>0.795000</td>\n",
       "      <td>0.838000</td>\n",
       "      <td>0.895</td>\n",
       "      <td>...</td>\n",
       "      <td>87.400000</td>\n",
       "      <td>0.061000</td>\n",
       "      <td>3.100000</td>\n",
       "      <td>38.500000</td>\n",
       "      <td>0.700000</td>\n",
       "      <td>22.600000</td>\n",
       "      <td>0.400000</td>\n",
       "      <td>-2.900000</td>\n",
       "      <td>-0.500000</td>\n",
       "      <td>1.0</td>\n",
       "    </tr>\n",
       "    <tr>\n",
       "      <th>Luxembourg</th>\n",
       "      <td>21.0</td>\n",
       "      <td>0.909</td>\n",
       "      <td>82.1</td>\n",
       "      <td>14.2</td>\n",
       "      <td>12.2</td>\n",
       "      <td>65543.0</td>\n",
       "      <td>-13.0</td>\n",
       "      <td>0.790000</td>\n",
       "      <td>0.860000</td>\n",
       "      <td>0.893</td>\n",
       "      <td>...</td>\n",
       "      <td>78.300000</td>\n",
       "      <td>0.106000</td>\n",
       "      <td>1.200000</td>\n",
       "      <td>27.100000</td>\n",
       "      <td>0.600000</td>\n",
       "      <td>20.900000</td>\n",
       "      <td>0.700000</td>\n",
       "      <td>-3.800000</td>\n",
       "      <td>-0.900000</td>\n",
       "      <td>1.0</td>\n",
       "    </tr>\n",
       "    <tr>\n",
       "      <th>Israel</th>\n",
       "      <td>22.0</td>\n",
       "      <td>0.906</td>\n",
       "      <td>82.8</td>\n",
       "      <td>16.0</td>\n",
       "      <td>13.0</td>\n",
       "      <td>33650.0</td>\n",
       "      <td>13.0</td>\n",
       "      <td>0.792000</td>\n",
       "      <td>0.853000</td>\n",
       "      <td>0.887</td>\n",
       "      <td>...</td>\n",
       "      <td>90.600000</td>\n",
       "      <td>0.223000</td>\n",
       "      <td>4.300000</td>\n",
       "      <td>22.500000</td>\n",
       "      <td>4.300000</td>\n",
       "      <td>2.300000</td>\n",
       "      <td>-1.800000</td>\n",
       "      <td>-3.200000</td>\n",
       "      <td>0.700000</td>\n",
       "      <td>1.0</td>\n",
       "    </tr>\n",
       "    <tr>\n",
       "      <th>Korea (Republic of)</th>\n",
       "      <td>22.0</td>\n",
       "      <td>0.906</td>\n",
       "      <td>82.8</td>\n",
       "      <td>16.4</td>\n",
       "      <td>12.2</td>\n",
       "      <td>36757.0</td>\n",
       "      <td>8.0</td>\n",
       "      <td>0.728000</td>\n",
       "      <td>0.817000</td>\n",
       "      <td>0.882</td>\n",
       "      <td>...</td>\n",
       "      <td>85.700000</td>\n",
       "      <td>0.175000</td>\n",
       "      <td>4.200000</td>\n",
       "      <td>38.200000</td>\n",
       "      <td>2.600000</td>\n",
       "      <td>4.700000</td>\n",
       "      <td>-1.800000</td>\n",
       "      <td>-3.500000</td>\n",
       "      <td>0.100000</td>\n",
       "      <td>1.0</td>\n",
       "    </tr>\n",
       "    <tr>\n",
       "      <th>Slovenia</th>\n",
       "      <td>24.0</td>\n",
       "      <td>0.902</td>\n",
       "      <td>81.2</td>\n",
       "      <td>17.4</td>\n",
       "      <td>12.3</td>\n",
       "      <td>32143.0</td>\n",
       "      <td>13.0</td>\n",
       "      <td>0.829000</td>\n",
       "      <td>0.824000</td>\n",
       "      <td>0.881</td>\n",
       "      <td>...</td>\n",
       "      <td>91.100000</td>\n",
       "      <td>0.177000</td>\n",
       "      <td>2.000000</td>\n",
       "      <td>41.800000</td>\n",
       "      <td>1.000000</td>\n",
       "      <td>14.400000</td>\n",
       "      <td>-3.900000</td>\n",
       "      <td>-3.900000</td>\n",
       "      <td>-0.200000</td>\n",
       "      <td>1.0</td>\n",
       "    </tr>\n",
       "    <tr>\n",
       "      <th>Spain</th>\n",
       "      <td>25.0</td>\n",
       "      <td>0.893</td>\n",
       "      <td>83.4</td>\n",
       "      <td>17.9</td>\n",
       "      <td>9.8</td>\n",
       "      <td>35041.0</td>\n",
       "      <td>8.0</td>\n",
       "      <td>0.754000</td>\n",
       "      <td>0.825000</td>\n",
       "      <td>0.865</td>\n",
       "      <td>...</td>\n",
       "      <td>66.900000</td>\n",
       "      <td>0.096000</td>\n",
       "      <td>1.200000</td>\n",
       "      <td>39.800000</td>\n",
       "      <td>1.300000</td>\n",
       "      <td>10.600000</td>\n",
       "      <td>5.900000</td>\n",
       "      <td>-2.800000</td>\n",
       "      <td>-1.200000</td>\n",
       "      <td>1.0</td>\n",
       "    </tr>\n",
       "    <tr>\n",
       "      <th>Czechia</th>\n",
       "      <td>26.0</td>\n",
       "      <td>0.891</td>\n",
       "      <td>79.2</td>\n",
       "      <td>16.8</td>\n",
       "      <td>12.7</td>\n",
       "      <td>31597.0</td>\n",
       "      <td>12.0</td>\n",
       "      <td>0.730000</td>\n",
       "      <td>0.796000</td>\n",
       "      <td>0.862</td>\n",
       "      <td>...</td>\n",
       "      <td>95.700000</td>\n",
       "      <td>0.128000</td>\n",
       "      <td>1.700000</td>\n",
       "      <td>35.300000</td>\n",
       "      <td>1.100000</td>\n",
       "      <td>13.700000</td>\n",
       "      <td>-3.000000</td>\n",
       "      <td>-0.800000</td>\n",
       "      <td>0.200000</td>\n",
       "      <td>1.0</td>\n",
       "    </tr>\n",
       "    <tr>\n",
       "      <th>France</th>\n",
       "      <td>26.0</td>\n",
       "      <td>0.891</td>\n",
       "      <td>82.5</td>\n",
       "      <td>15.5</td>\n",
       "      <td>11.4</td>\n",
       "      <td>40511.0</td>\n",
       "      <td>0.0</td>\n",
       "      <td>0.780000</td>\n",
       "      <td>0.842000</td>\n",
       "      <td>0.872</td>\n",
       "      <td>...</td>\n",
       "      <td>84.800000</td>\n",
       "      <td>0.089000</td>\n",
       "      <td>2.200000</td>\n",
       "      <td>40.400000</td>\n",
       "      <td>2.300000</td>\n",
       "      <td>7.500000</td>\n",
       "      <td>-0.100000</td>\n",
       "      <td>-4.800000</td>\n",
       "      <td>-0.500000</td>\n",
       "      <td>1.0</td>\n",
       "    </tr>\n",
       "    <tr>\n",
       "      <th>Malta</th>\n",
       "      <td>28.0</td>\n",
       "      <td>0.885</td>\n",
       "      <td>82.4</td>\n",
       "      <td>15.9</td>\n",
       "      <td>11.3</td>\n",
       "      <td>34795.0</td>\n",
       "      <td>6.0</td>\n",
       "      <td>0.744000</td>\n",
       "      <td>0.787000</td>\n",
       "      <td>0.847</td>\n",
       "      <td>...</td>\n",
       "      <td>63.400000</td>\n",
       "      <td>0.292000</td>\n",
       "      <td>0.600000</td>\n",
       "      <td>41.900000</td>\n",
       "      <td>0.500000</td>\n",
       "      <td>29.800000</td>\n",
       "      <td>-0.950000</td>\n",
       "      <td>-2.800000</td>\n",
       "      <td>-0.300000</td>\n",
       "      <td>1.0</td>\n",
       "    </tr>\n",
       "    <tr>\n",
       "      <th>Italy</th>\n",
       "      <td>29.0</td>\n",
       "      <td>0.883</td>\n",
       "      <td>83.4</td>\n",
       "      <td>16.2</td>\n",
       "      <td>10.2</td>\n",
       "      <td>36141.0</td>\n",
       "      <td>2.0</td>\n",
       "      <td>0.769000</td>\n",
       "      <td>0.830000</td>\n",
       "      <td>0.871</td>\n",
       "      <td>...</td>\n",
       "      <td>69.600000</td>\n",
       "      <td>0.053000</td>\n",
       "      <td>1.300000</td>\n",
       "      <td>45.800000</td>\n",
       "      <td>1.300000</td>\n",
       "      <td>10.800000</td>\n",
       "      <td>0.100000</td>\n",
       "      <td>-4.700000</td>\n",
       "      <td>-0.600000</td>\n",
       "      <td>1.0</td>\n",
       "    </tr>\n",
       "    <tr>\n",
       "      <th>Estonia</th>\n",
       "      <td>30.0</td>\n",
       "      <td>0.882</td>\n",
       "      <td>78.6</td>\n",
       "      <td>16.1</td>\n",
       "      <td>13.0</td>\n",
       "      <td>30379.0</td>\n",
       "      <td>10.0</td>\n",
       "      <td>0.730000</td>\n",
       "      <td>0.780000</td>\n",
       "      <td>0.844</td>\n",
       "      <td>...</td>\n",
       "      <td>89.800000</td>\n",
       "      <td>0.099000</td>\n",
       "      <td>1.300000</td>\n",
       "      <td>38.300000</td>\n",
       "      <td>2.100000</td>\n",
       "      <td>5.800000</td>\n",
       "      <td>-3.200000</td>\n",
       "      <td>-4.400000</td>\n",
       "      <td>0.000000</td>\n",
       "      <td>1.0</td>\n",
       "    </tr>\n",
       "    <tr>\n",
       "      <th>...</th>\n",
       "      <td>...</td>\n",
       "      <td>...</td>\n",
       "      <td>...</td>\n",
       "      <td>...</td>\n",
       "      <td>...</td>\n",
       "      <td>...</td>\n",
       "      <td>...</td>\n",
       "      <td>...</td>\n",
       "      <td>...</td>\n",
       "      <td>...</td>\n",
       "      <td>...</td>\n",
       "      <td>...</td>\n",
       "      <td>...</td>\n",
       "      <td>...</td>\n",
       "      <td>...</td>\n",
       "      <td>...</td>\n",
       "      <td>...</td>\n",
       "      <td>...</td>\n",
       "      <td>...</td>\n",
       "      <td>...</td>\n",
       "      <td>...</td>\n",
       "    </tr>\n",
       "    <tr>\n",
       "      <th>Uganda</th>\n",
       "      <td>159.0</td>\n",
       "      <td>0.528</td>\n",
       "      <td>63.0</td>\n",
       "      <td>11.2</td>\n",
       "      <td>6.1</td>\n",
       "      <td>1752.0</td>\n",
       "      <td>11.0</td>\n",
       "      <td>0.312000</td>\n",
       "      <td>0.395000</td>\n",
       "      <td>0.489</td>\n",
       "      <td>...</td>\n",
       "      <td>37.100000</td>\n",
       "      <td>0.250000</td>\n",
       "      <td>0.200000</td>\n",
       "      <td>4.100000</td>\n",
       "      <td>1.400000</td>\n",
       "      <td>6.900000</td>\n",
       "      <td>-2.100000</td>\n",
       "      <td>-0.800000</td>\n",
       "      <td>-0.100000</td>\n",
       "      <td>4.0</td>\n",
       "    </tr>\n",
       "    <tr>\n",
       "      <th>Mauritania</th>\n",
       "      <td>161.0</td>\n",
       "      <td>0.527</td>\n",
       "      <td>64.7</td>\n",
       "      <td>8.5</td>\n",
       "      <td>4.6</td>\n",
       "      <td>3746.0</td>\n",
       "      <td>-17.0</td>\n",
       "      <td>0.378000</td>\n",
       "      <td>0.446000</td>\n",
       "      <td>0.490</td>\n",
       "      <td>...</td>\n",
       "      <td>5.800000</td>\n",
       "      <td>0.308000</td>\n",
       "      <td>0.265217</td>\n",
       "      <td>6.200000</td>\n",
       "      <td>3.000000</td>\n",
       "      <td>2.400000</td>\n",
       "      <td>-1.100000</td>\n",
       "      <td>-0.635294</td>\n",
       "      <td>1.500000</td>\n",
       "      <td>4.0</td>\n",
       "    </tr>\n",
       "    <tr>\n",
       "      <th>Madagascar</th>\n",
       "      <td>162.0</td>\n",
       "      <td>0.521</td>\n",
       "      <td>66.7</td>\n",
       "      <td>10.4</td>\n",
       "      <td>6.1</td>\n",
       "      <td>1404.0</td>\n",
       "      <td>19.0</td>\n",
       "      <td>0.362441</td>\n",
       "      <td>0.456000</td>\n",
       "      <td>0.504</td>\n",
       "      <td>...</td>\n",
       "      <td>18.500000</td>\n",
       "      <td>0.213000</td>\n",
       "      <td>0.000000</td>\n",
       "      <td>6.400000</td>\n",
       "      <td>0.600000</td>\n",
       "      <td>12.100000</td>\n",
       "      <td>-1.400000</td>\n",
       "      <td>-0.635294</td>\n",
       "      <td>-1.500000</td>\n",
       "      <td>4.0</td>\n",
       "    </tr>\n",
       "    <tr>\n",
       "      <th>Benin</th>\n",
       "      <td>163.0</td>\n",
       "      <td>0.520</td>\n",
       "      <td>61.5</td>\n",
       "      <td>12.6</td>\n",
       "      <td>3.8</td>\n",
       "      <td>2135.0</td>\n",
       "      <td>2.0</td>\n",
       "      <td>0.348000</td>\n",
       "      <td>0.398000</td>\n",
       "      <td>0.473</td>\n",
       "      <td>...</td>\n",
       "      <td>17.100000</td>\n",
       "      <td>0.346000</td>\n",
       "      <td>0.265217</td>\n",
       "      <td>6.300000</td>\n",
       "      <td>0.900000</td>\n",
       "      <td>8.500000</td>\n",
       "      <td>0.700000</td>\n",
       "      <td>-0.500000</td>\n",
       "      <td>-2.800000</td>\n",
       "      <td>4.0</td>\n",
       "    </tr>\n",
       "    <tr>\n",
       "      <th>Lesotho</th>\n",
       "      <td>164.0</td>\n",
       "      <td>0.518</td>\n",
       "      <td>53.7</td>\n",
       "      <td>10.7</td>\n",
       "      <td>6.3</td>\n",
       "      <td>3244.0</td>\n",
       "      <td>-9.0</td>\n",
       "      <td>0.488000</td>\n",
       "      <td>0.444000</td>\n",
       "      <td>0.461</td>\n",
       "      <td>...</td>\n",
       "      <td>19.881081</td>\n",
       "      <td>0.288000</td>\n",
       "      <td>0.000000</td>\n",
       "      <td>8.700000</td>\n",
       "      <td>1.800000</td>\n",
       "      <td>13.200000</td>\n",
       "      <td>-0.500000</td>\n",
       "      <td>-0.500000</td>\n",
       "      <td>-1.100000</td>\n",
       "      <td>4.0</td>\n",
       "    </tr>\n",
       "    <tr>\n",
       "      <th>Côte d'Ivoire</th>\n",
       "      <td>165.0</td>\n",
       "      <td>0.516</td>\n",
       "      <td>57.4</td>\n",
       "      <td>9.6</td>\n",
       "      <td>5.2</td>\n",
       "      <td>3589.0</td>\n",
       "      <td>-16.0</td>\n",
       "      <td>0.391000</td>\n",
       "      <td>0.407000</td>\n",
       "      <td>0.454</td>\n",
       "      <td>...</td>\n",
       "      <td>25.500000</td>\n",
       "      <td>0.361000</td>\n",
       "      <td>0.265217</td>\n",
       "      <td>5.300000</td>\n",
       "      <td>1.400000</td>\n",
       "      <td>5.500000</td>\n",
       "      <td>-0.100000</td>\n",
       "      <td>-0.400000</td>\n",
       "      <td>-0.400000</td>\n",
       "      <td>4.0</td>\n",
       "    </tr>\n",
       "    <tr>\n",
       "      <th>Senegal</th>\n",
       "      <td>166.0</td>\n",
       "      <td>0.514</td>\n",
       "      <td>67.7</td>\n",
       "      <td>9.0</td>\n",
       "      <td>3.1</td>\n",
       "      <td>3256.0</td>\n",
       "      <td>-12.0</td>\n",
       "      <td>0.377000</td>\n",
       "      <td>0.390000</td>\n",
       "      <td>0.468</td>\n",
       "      <td>...</td>\n",
       "      <td>10.900000</td>\n",
       "      <td>0.239000</td>\n",
       "      <td>0.800000</td>\n",
       "      <td>5.800000</td>\n",
       "      <td>1.900000</td>\n",
       "      <td>5.900000</td>\n",
       "      <td>-1.300000</td>\n",
       "      <td>-1.300000</td>\n",
       "      <td>-0.500000</td>\n",
       "      <td>4.0</td>\n",
       "    </tr>\n",
       "    <tr>\n",
       "      <th>Togo</th>\n",
       "      <td>167.0</td>\n",
       "      <td>0.513</td>\n",
       "      <td>60.8</td>\n",
       "      <td>12.6</td>\n",
       "      <td>4.9</td>\n",
       "      <td>1593.0</td>\n",
       "      <td>10.0</td>\n",
       "      <td>0.405000</td>\n",
       "      <td>0.426000</td>\n",
       "      <td>0.468</td>\n",
       "      <td>...</td>\n",
       "      <td>47.600000</td>\n",
       "      <td>0.235000</td>\n",
       "      <td>0.300000</td>\n",
       "      <td>5.500000</td>\n",
       "      <td>2.000000</td>\n",
       "      <td>6.300000</td>\n",
       "      <td>-0.400000</td>\n",
       "      <td>-0.800000</td>\n",
       "      <td>-0.900000</td>\n",
       "      <td>4.0</td>\n",
       "    </tr>\n",
       "    <tr>\n",
       "      <th>Sudan</th>\n",
       "      <td>168.0</td>\n",
       "      <td>0.507</td>\n",
       "      <td>65.1</td>\n",
       "      <td>7.7</td>\n",
       "      <td>3.7</td>\n",
       "      <td>3962.0</td>\n",
       "      <td>-26.0</td>\n",
       "      <td>0.332000</td>\n",
       "      <td>0.403000</td>\n",
       "      <td>0.471</td>\n",
       "      <td>...</td>\n",
       "      <td>22.800000</td>\n",
       "      <td>0.440000</td>\n",
       "      <td>0.265217</td>\n",
       "      <td>7.100000</td>\n",
       "      <td>2.300000</td>\n",
       "      <td>1.400000</td>\n",
       "      <td>-1.326316</td>\n",
       "      <td>-1.200000</td>\n",
       "      <td>0.091892</td>\n",
       "      <td>4.0</td>\n",
       "    </tr>\n",
       "    <tr>\n",
       "      <th>Haiti</th>\n",
       "      <td>169.0</td>\n",
       "      <td>0.503</td>\n",
       "      <td>63.7</td>\n",
       "      <td>9.5</td>\n",
       "      <td>5.4</td>\n",
       "      <td>1665.0</td>\n",
       "      <td>6.0</td>\n",
       "      <td>0.412000</td>\n",
       "      <td>0.440000</td>\n",
       "      <td>0.467</td>\n",
       "      <td>...</td>\n",
       "      <td>9.400000</td>\n",
       "      <td>0.508000</td>\n",
       "      <td>0.265217</td>\n",
       "      <td>9.700000</td>\n",
       "      <td>0.000000</td>\n",
       "      <td>9318.700000</td>\n",
       "      <td>-0.100000</td>\n",
       "      <td>0.300000</td>\n",
       "      <td>0.091892</td>\n",
       "      <td>4.0</td>\n",
       "    </tr>\n",
       "    <tr>\n",
       "      <th>Afghanistan</th>\n",
       "      <td>170.0</td>\n",
       "      <td>0.496</td>\n",
       "      <td>64.5</td>\n",
       "      <td>10.1</td>\n",
       "      <td>3.9</td>\n",
       "      <td>1746.0</td>\n",
       "      <td>1.0</td>\n",
       "      <td>0.298000</td>\n",
       "      <td>0.345000</td>\n",
       "      <td>0.464</td>\n",
       "      <td>...</td>\n",
       "      <td>19.200000</td>\n",
       "      <td>0.387000</td>\n",
       "      <td>0.265217</td>\n",
       "      <td>5.100000</td>\n",
       "      <td>1.000000</td>\n",
       "      <td>15.100000</td>\n",
       "      <td>-1.326316</td>\n",
       "      <td>-1.100000</td>\n",
       "      <td>0.091892</td>\n",
       "      <td>4.0</td>\n",
       "    </tr>\n",
       "    <tr>\n",
       "      <th>Djibouti</th>\n",
       "      <td>171.0</td>\n",
       "      <td>0.495</td>\n",
       "      <td>66.6</td>\n",
       "      <td>6.5</td>\n",
       "      <td>4.0</td>\n",
       "      <td>3601.0</td>\n",
       "      <td>-24.0</td>\n",
       "      <td>0.362441</td>\n",
       "      <td>0.361000</td>\n",
       "      <td>0.446</td>\n",
       "      <td>...</td>\n",
       "      <td>19.881081</td>\n",
       "      <td>0.222000</td>\n",
       "      <td>0.265217</td>\n",
       "      <td>9.400000</td>\n",
       "      <td>3.700000</td>\n",
       "      <td>3.200000</td>\n",
       "      <td>-1.326316</td>\n",
       "      <td>-0.635294</td>\n",
       "      <td>-0.300000</td>\n",
       "      <td>4.0</td>\n",
       "    </tr>\n",
       "    <tr>\n",
       "      <th>Malawi</th>\n",
       "      <td>172.0</td>\n",
       "      <td>0.485</td>\n",
       "      <td>63.8</td>\n",
       "      <td>11.0</td>\n",
       "      <td>4.6</td>\n",
       "      <td>1159.0</td>\n",
       "      <td>11.0</td>\n",
       "      <td>0.303000</td>\n",
       "      <td>0.362000</td>\n",
       "      <td>0.437</td>\n",
       "      <td>...</td>\n",
       "      <td>17.600000</td>\n",
       "      <td>0.558000</td>\n",
       "      <td>0.265217</td>\n",
       "      <td>4.800000</td>\n",
       "      <td>0.800000</td>\n",
       "      <td>22.800000</td>\n",
       "      <td>-1.300000</td>\n",
       "      <td>-0.500000</td>\n",
       "      <td>-0.700000</td>\n",
       "      <td>4.0</td>\n",
       "    </tr>\n",
       "    <tr>\n",
       "      <th>Ethiopia</th>\n",
       "      <td>173.0</td>\n",
       "      <td>0.470</td>\n",
       "      <td>66.2</td>\n",
       "      <td>8.7</td>\n",
       "      <td>2.8</td>\n",
       "      <td>1782.0</td>\n",
       "      <td>-4.0</td>\n",
       "      <td>0.362441</td>\n",
       "      <td>0.283000</td>\n",
       "      <td>0.412</td>\n",
       "      <td>...</td>\n",
       "      <td>6.800000</td>\n",
       "      <td>0.288000</td>\n",
       "      <td>0.600000</td>\n",
       "      <td>6.400000</td>\n",
       "      <td>0.600000</td>\n",
       "      <td>12.400000</td>\n",
       "      <td>-2.200000</td>\n",
       "      <td>-1.300000</td>\n",
       "      <td>-2.200000</td>\n",
       "      <td>4.0</td>\n",
       "    </tr>\n",
       "    <tr>\n",
       "      <th>Gambia</th>\n",
       "      <td>174.0</td>\n",
       "      <td>0.466</td>\n",
       "      <td>61.7</td>\n",
       "      <td>9.5</td>\n",
       "      <td>3.7</td>\n",
       "      <td>1490.0</td>\n",
       "      <td>4.0</td>\n",
       "      <td>0.328000</td>\n",
       "      <td>0.382000</td>\n",
       "      <td>0.437</td>\n",
       "      <td>...</td>\n",
       "      <td>12.300000</td>\n",
       "      <td>0.449000</td>\n",
       "      <td>0.100000</td>\n",
       "      <td>4.800000</td>\n",
       "      <td>1.100000</td>\n",
       "      <td>4.900000</td>\n",
       "      <td>-0.600000</td>\n",
       "      <td>-0.400000</td>\n",
       "      <td>2.900000</td>\n",
       "      <td>4.0</td>\n",
       "    </tr>\n",
       "    <tr>\n",
       "      <th>Guinea</th>\n",
       "      <td>174.0</td>\n",
       "      <td>0.466</td>\n",
       "      <td>61.2</td>\n",
       "      <td>9.0</td>\n",
       "      <td>2.7</td>\n",
       "      <td>2211.0</td>\n",
       "      <td>-10.0</td>\n",
       "      <td>0.278000</td>\n",
       "      <td>0.335000</td>\n",
       "      <td>0.408</td>\n",
       "      <td>...</td>\n",
       "      <td>19.881081</td>\n",
       "      <td>0.493000</td>\n",
       "      <td>0.265217</td>\n",
       "      <td>5.400000</td>\n",
       "      <td>2.500000</td>\n",
       "      <td>3.200000</td>\n",
       "      <td>-1.600000</td>\n",
       "      <td>-0.635294</td>\n",
       "      <td>2.400000</td>\n",
       "      <td>4.0</td>\n",
       "    </tr>\n",
       "    <tr>\n",
       "      <th>Liberia</th>\n",
       "      <td>176.0</td>\n",
       "      <td>0.465</td>\n",
       "      <td>63.7</td>\n",
       "      <td>9.6</td>\n",
       "      <td>4.7</td>\n",
       "      <td>1040.0</td>\n",
       "      <td>9.0</td>\n",
       "      <td>0.362441</td>\n",
       "      <td>0.422000</td>\n",
       "      <td>0.441</td>\n",
       "      <td>...</td>\n",
       "      <td>21.100000</td>\n",
       "      <td>0.394000</td>\n",
       "      <td>0.265217</td>\n",
       "      <td>6.400000</td>\n",
       "      <td>0.800000</td>\n",
       "      <td>19.500000</td>\n",
       "      <td>-1.700000</td>\n",
       "      <td>-0.300000</td>\n",
       "      <td>0.300000</td>\n",
       "      <td>4.0</td>\n",
       "    </tr>\n",
       "    <tr>\n",
       "      <th>Yemen</th>\n",
       "      <td>177.0</td>\n",
       "      <td>0.463</td>\n",
       "      <td>66.1</td>\n",
       "      <td>8.7</td>\n",
       "      <td>3.2</td>\n",
       "      <td>1433.0</td>\n",
       "      <td>3.0</td>\n",
       "      <td>0.392000</td>\n",
       "      <td>0.432000</td>\n",
       "      <td>0.499</td>\n",
       "      <td>...</td>\n",
       "      <td>29.700000</td>\n",
       "      <td>0.319000</td>\n",
       "      <td>0.265217</td>\n",
       "      <td>5.400000</td>\n",
       "      <td>4.000000</td>\n",
       "      <td>2.500000</td>\n",
       "      <td>-0.900000</td>\n",
       "      <td>0.200000</td>\n",
       "      <td>-0.600000</td>\n",
       "      <td>4.0</td>\n",
       "    </tr>\n",
       "    <tr>\n",
       "      <th>Guinea-Bissau</th>\n",
       "      <td>178.0</td>\n",
       "      <td>0.461</td>\n",
       "      <td>58.0</td>\n",
       "      <td>10.5</td>\n",
       "      <td>3.3</td>\n",
       "      <td>1593.0</td>\n",
       "      <td>-2.0</td>\n",
       "      <td>0.362441</td>\n",
       "      <td>0.395318</td>\n",
       "      <td>0.426</td>\n",
       "      <td>...</td>\n",
       "      <td>19.881081</td>\n",
       "      <td>0.875000</td>\n",
       "      <td>0.265217</td>\n",
       "      <td>5.100000</td>\n",
       "      <td>1.600000</td>\n",
       "      <td>3.300000</td>\n",
       "      <td>-1.400000</td>\n",
       "      <td>-0.635294</td>\n",
       "      <td>-4.800000</td>\n",
       "      <td>4.0</td>\n",
       "    </tr>\n",
       "    <tr>\n",
       "      <th>Congo (Democratic Republic of the)</th>\n",
       "      <td>179.0</td>\n",
       "      <td>0.459</td>\n",
       "      <td>60.4</td>\n",
       "      <td>9.7</td>\n",
       "      <td>6.8</td>\n",
       "      <td>800.0</td>\n",
       "      <td>8.0</td>\n",
       "      <td>0.377000</td>\n",
       "      <td>0.333000</td>\n",
       "      <td>0.416</td>\n",
       "      <td>...</td>\n",
       "      <td>43.100000</td>\n",
       "      <td>0.505000</td>\n",
       "      <td>0.100000</td>\n",
       "      <td>5.900000</td>\n",
       "      <td>0.700000</td>\n",
       "      <td>6.300000</td>\n",
       "      <td>-1.800000</td>\n",
       "      <td>-0.100000</td>\n",
       "      <td>-0.100000</td>\n",
       "      <td>4.0</td>\n",
       "    </tr>\n",
       "    <tr>\n",
       "      <th>Mozambique</th>\n",
       "      <td>180.0</td>\n",
       "      <td>0.446</td>\n",
       "      <td>60.2</td>\n",
       "      <td>9.7</td>\n",
       "      <td>3.5</td>\n",
       "      <td>1154.0</td>\n",
       "      <td>4.0</td>\n",
       "      <td>0.217000</td>\n",
       "      <td>0.301000</td>\n",
       "      <td>0.396</td>\n",
       "      <td>...</td>\n",
       "      <td>7.100000</td>\n",
       "      <td>0.305000</td>\n",
       "      <td>0.300000</td>\n",
       "      <td>5.100000</td>\n",
       "      <td>1.000000</td>\n",
       "      <td>12.000000</td>\n",
       "      <td>-4.000000</td>\n",
       "      <td>-0.700000</td>\n",
       "      <td>-1.800000</td>\n",
       "      <td>4.0</td>\n",
       "    </tr>\n",
       "    <tr>\n",
       "      <th>Sierra Leone</th>\n",
       "      <td>181.0</td>\n",
       "      <td>0.438</td>\n",
       "      <td>54.3</td>\n",
       "      <td>10.2</td>\n",
       "      <td>3.6</td>\n",
       "      <td>1381.0</td>\n",
       "      <td>1.0</td>\n",
       "      <td>0.270000</td>\n",
       "      <td>0.298000</td>\n",
       "      <td>0.391</td>\n",
       "      <td>...</td>\n",
       "      <td>15.200000</td>\n",
       "      <td>0.255000</td>\n",
       "      <td>0.265217</td>\n",
       "      <td>5.200000</td>\n",
       "      <td>0.800000</td>\n",
       "      <td>17.200000</td>\n",
       "      <td>-1.200000</td>\n",
       "      <td>-0.300000</td>\n",
       "      <td>1.900000</td>\n",
       "      <td>4.0</td>\n",
       "    </tr>\n",
       "    <tr>\n",
       "      <th>Burkina Faso</th>\n",
       "      <td>182.0</td>\n",
       "      <td>0.434</td>\n",
       "      <td>61.2</td>\n",
       "      <td>8.9</td>\n",
       "      <td>1.6</td>\n",
       "      <td>1705.0</td>\n",
       "      <td>-8.0</td>\n",
       "      <td>0.362441</td>\n",
       "      <td>0.286000</td>\n",
       "      <td>0.375</td>\n",
       "      <td>...</td>\n",
       "      <td>3.900000</td>\n",
       "      <td>0.658000</td>\n",
       "      <td>0.200000</td>\n",
       "      <td>4.800000</td>\n",
       "      <td>2.100000</td>\n",
       "      <td>7.500000</td>\n",
       "      <td>-2.100000</td>\n",
       "      <td>-0.400000</td>\n",
       "      <td>2.300000</td>\n",
       "      <td>4.0</td>\n",
       "    </tr>\n",
       "    <tr>\n",
       "      <th>Eritrea</th>\n",
       "      <td>182.0</td>\n",
       "      <td>0.434</td>\n",
       "      <td>65.9</td>\n",
       "      <td>5.0</td>\n",
       "      <td>3.9</td>\n",
       "      <td>1708.0</td>\n",
       "      <td>-9.0</td>\n",
       "      <td>0.362441</td>\n",
       "      <td>0.395318</td>\n",
       "      <td>0.433</td>\n",
       "      <td>...</td>\n",
       "      <td>19.881081</td>\n",
       "      <td>0.319000</td>\n",
       "      <td>0.265217</td>\n",
       "      <td>7.000000</td>\n",
       "      <td>1.653333</td>\n",
       "      <td>240.222500</td>\n",
       "      <td>-1.326316</td>\n",
       "      <td>-0.635294</td>\n",
       "      <td>0.091892</td>\n",
       "      <td>4.0</td>\n",
       "    </tr>\n",
       "    <tr>\n",
       "      <th>Mali</th>\n",
       "      <td>184.0</td>\n",
       "      <td>0.427</td>\n",
       "      <td>58.9</td>\n",
       "      <td>7.6</td>\n",
       "      <td>2.4</td>\n",
       "      <td>1965.0</td>\n",
       "      <td>-17.0</td>\n",
       "      <td>0.231000</td>\n",
       "      <td>0.308000</td>\n",
       "      <td>0.403</td>\n",
       "      <td>...</td>\n",
       "      <td>4.700000</td>\n",
       "      <td>0.670000</td>\n",
       "      <td>0.300000</td>\n",
       "      <td>4.500000</td>\n",
       "      <td>2.900000</td>\n",
       "      <td>2.700000</td>\n",
       "      <td>-2.300000</td>\n",
       "      <td>-0.300000</td>\n",
       "      <td>2.400000</td>\n",
       "      <td>4.0</td>\n",
       "    </tr>\n",
       "    <tr>\n",
       "      <th>Burundi</th>\n",
       "      <td>185.0</td>\n",
       "      <td>0.423</td>\n",
       "      <td>61.2</td>\n",
       "      <td>11.3</td>\n",
       "      <td>3.1</td>\n",
       "      <td>660.0</td>\n",
       "      <td>4.0</td>\n",
       "      <td>0.295000</td>\n",
       "      <td>0.293000</td>\n",
       "      <td>0.402</td>\n",
       "      <td>...</td>\n",
       "      <td>2.500000</td>\n",
       "      <td>0.425000</td>\n",
       "      <td>0.100000</td>\n",
       "      <td>5.200000</td>\n",
       "      <td>1.900000</td>\n",
       "      <td>5.100000</td>\n",
       "      <td>-2.400000</td>\n",
       "      <td>-0.700000</td>\n",
       "      <td>1.000000</td>\n",
       "      <td>4.0</td>\n",
       "    </tr>\n",
       "    <tr>\n",
       "      <th>South Sudan</th>\n",
       "      <td>186.0</td>\n",
       "      <td>0.413</td>\n",
       "      <td>57.6</td>\n",
       "      <td>5.0</td>\n",
       "      <td>4.8</td>\n",
       "      <td>1455.0</td>\n",
       "      <td>-7.0</td>\n",
       "      <td>0.362441</td>\n",
       "      <td>0.395318</td>\n",
       "      <td>0.425</td>\n",
       "      <td>...</td>\n",
       "      <td>19.881081</td>\n",
       "      <td>0.413574</td>\n",
       "      <td>0.265217</td>\n",
       "      <td>6.200000</td>\n",
       "      <td>1.300000</td>\n",
       "      <td>240.222500</td>\n",
       "      <td>-1.326316</td>\n",
       "      <td>-0.635294</td>\n",
       "      <td>0.091892</td>\n",
       "      <td>4.0</td>\n",
       "    </tr>\n",
       "    <tr>\n",
       "      <th>Chad</th>\n",
       "      <td>187.0</td>\n",
       "      <td>0.401</td>\n",
       "      <td>54.0</td>\n",
       "      <td>7.5</td>\n",
       "      <td>2.4</td>\n",
       "      <td>1716.0</td>\n",
       "      <td>-15.0</td>\n",
       "      <td>0.362441</td>\n",
       "      <td>0.298000</td>\n",
       "      <td>0.374</td>\n",
       "      <td>...</td>\n",
       "      <td>19.881081</td>\n",
       "      <td>0.774000</td>\n",
       "      <td>0.300000</td>\n",
       "      <td>4.700000</td>\n",
       "      <td>2.100000</td>\n",
       "      <td>1.400000</td>\n",
       "      <td>-0.500000</td>\n",
       "      <td>-0.635294</td>\n",
       "      <td>-1.700000</td>\n",
       "      <td>4.0</td>\n",
       "    </tr>\n",
       "    <tr>\n",
       "      <th>Central African Republic</th>\n",
       "      <td>188.0</td>\n",
       "      <td>0.381</td>\n",
       "      <td>52.8</td>\n",
       "      <td>7.6</td>\n",
       "      <td>4.3</td>\n",
       "      <td>777.0</td>\n",
       "      <td>0.0</td>\n",
       "      <td>0.320000</td>\n",
       "      <td>0.307000</td>\n",
       "      <td>0.355</td>\n",
       "      <td>...</td>\n",
       "      <td>19.881081</td>\n",
       "      <td>0.313000</td>\n",
       "      <td>0.265217</td>\n",
       "      <td>5.000000</td>\n",
       "      <td>1.400000</td>\n",
       "      <td>2.200000</td>\n",
       "      <td>-0.100000</td>\n",
       "      <td>-0.100000</td>\n",
       "      <td>-6.700000</td>\n",
       "      <td>4.0</td>\n",
       "    </tr>\n",
       "    <tr>\n",
       "      <th>Niger</th>\n",
       "      <td>189.0</td>\n",
       "      <td>0.377</td>\n",
       "      <td>62.0</td>\n",
       "      <td>6.5</td>\n",
       "      <td>2.0</td>\n",
       "      <td>912.0</td>\n",
       "      <td>-3.0</td>\n",
       "      <td>0.213000</td>\n",
       "      <td>0.253000</td>\n",
       "      <td>0.319</td>\n",
       "      <td>...</td>\n",
       "      <td>1.800000</td>\n",
       "      <td>0.352000</td>\n",
       "      <td>0.265217</td>\n",
       "      <td>5.200000</td>\n",
       "      <td>2.500000</td>\n",
       "      <td>4.600000</td>\n",
       "      <td>-2.200000</td>\n",
       "      <td>-0.600000</td>\n",
       "      <td>2.600000</td>\n",
       "      <td>4.0</td>\n",
       "    </tr>\n",
       "  </tbody>\n",
       "</table>\n",
       "<p>189 rows × 222 columns</p>\n",
       "</div>"
      ],
      "text/plain": [
       "                                    HDI rank  Human development index (HDI)   \\\n",
       "Norway                                   1.0                           0.954   \n",
       "Switzerland                              2.0                           0.946   \n",
       "Ireland                                  3.0                           0.942   \n",
       "Germany                                  4.0                           0.939   \n",
       "Hong Kong, China (SAR)                   4.0                           0.939   \n",
       "Australia                                6.0                           0.938   \n",
       "Iceland                                  6.0                           0.938   \n",
       "Sweden                                   8.0                           0.937   \n",
       "Singapore                                9.0                           0.935   \n",
       "Netherlands                             10.0                           0.933   \n",
       "Denmark                                 11.0                           0.930   \n",
       "Finland                                 12.0                           0.925   \n",
       "Canada                                  13.0                           0.922   \n",
       "New Zealand                             14.0                           0.921   \n",
       "United Kingdom                          15.0                           0.920   \n",
       "United States                           15.0                           0.920   \n",
       "Belgium                                 17.0                           0.919   \n",
       "Liechtenstein                           18.0                           0.917   \n",
       "Japan                                   19.0                           0.915   \n",
       "Austria                                 20.0                           0.914   \n",
       "Luxembourg                              21.0                           0.909   \n",
       "Israel                                  22.0                           0.906   \n",
       "Korea (Republic of)                     22.0                           0.906   \n",
       "Slovenia                                24.0                           0.902   \n",
       "Spain                                   25.0                           0.893   \n",
       "Czechia                                 26.0                           0.891   \n",
       "France                                  26.0                           0.891   \n",
       "Malta                                   28.0                           0.885   \n",
       "Italy                                   29.0                           0.883   \n",
       "Estonia                                 30.0                           0.882   \n",
       "...                                      ...                             ...   \n",
       "Uganda                                 159.0                           0.528   \n",
       "Mauritania                             161.0                           0.527   \n",
       "Madagascar                             162.0                           0.521   \n",
       "Benin                                  163.0                           0.520   \n",
       "Lesotho                                164.0                           0.518   \n",
       "Côte d'Ivoire                          165.0                           0.516   \n",
       "Senegal                                166.0                           0.514   \n",
       "Togo                                   167.0                           0.513   \n",
       "Sudan                                  168.0                           0.507   \n",
       "Haiti                                  169.0                           0.503   \n",
       "Afghanistan                            170.0                           0.496   \n",
       "Djibouti                               171.0                           0.495   \n",
       "Malawi                                 172.0                           0.485   \n",
       "Ethiopia                               173.0                           0.470   \n",
       "Gambia                                 174.0                           0.466   \n",
       "Guinea                                 174.0                           0.466   \n",
       "Liberia                                176.0                           0.465   \n",
       "Yemen                                  177.0                           0.463   \n",
       "Guinea-Bissau                          178.0                           0.461   \n",
       "Congo (Democratic Republic of the)     179.0                           0.459   \n",
       "Mozambique                             180.0                           0.446   \n",
       "Sierra Leone                           181.0                           0.438   \n",
       "Burkina Faso                           182.0                           0.434   \n",
       "Eritrea                                182.0                           0.434   \n",
       "Mali                                   184.0                           0.427   \n",
       "Burundi                                185.0                           0.423   \n",
       "South Sudan                            186.0                           0.413   \n",
       "Chad                                   187.0                           0.401   \n",
       "Central African Republic               188.0                           0.381   \n",
       "Niger                                  189.0                           0.377   \n",
       "\n",
       "                                    Life expectancy at birth  \\\n",
       "Norway                                                  82.3   \n",
       "Switzerland                                             83.6   \n",
       "Ireland                                                 82.1   \n",
       "Germany                                                 81.2   \n",
       "Hong Kong, China (SAR)                                  84.7   \n",
       "Australia                                               83.3   \n",
       "Iceland                                                 82.9   \n",
       "Sweden                                                  82.7   \n",
       "Singapore                                               83.5   \n",
       "Netherlands                                             82.1   \n",
       "Denmark                                                 80.8   \n",
       "Finland                                                 81.7   \n",
       "Canada                                                  82.3   \n",
       "New Zealand                                             82.1   \n",
       "United Kingdom                                          81.2   \n",
       "United States                                           78.9   \n",
       "Belgium                                                 81.5   \n",
       "Liechtenstein                                           80.5   \n",
       "Japan                                                   84.5   \n",
       "Austria                                                 81.4   \n",
       "Luxembourg                                              82.1   \n",
       "Israel                                                  82.8   \n",
       "Korea (Republic of)                                     82.8   \n",
       "Slovenia                                                81.2   \n",
       "Spain                                                   83.4   \n",
       "Czechia                                                 79.2   \n",
       "France                                                  82.5   \n",
       "Malta                                                   82.4   \n",
       "Italy                                                   83.4   \n",
       "Estonia                                                 78.6   \n",
       "...                                                      ...   \n",
       "Uganda                                                  63.0   \n",
       "Mauritania                                              64.7   \n",
       "Madagascar                                              66.7   \n",
       "Benin                                                   61.5   \n",
       "Lesotho                                                 53.7   \n",
       "Côte d'Ivoire                                           57.4   \n",
       "Senegal                                                 67.7   \n",
       "Togo                                                    60.8   \n",
       "Sudan                                                   65.1   \n",
       "Haiti                                                   63.7   \n",
       "Afghanistan                                             64.5   \n",
       "Djibouti                                                66.6   \n",
       "Malawi                                                  63.8   \n",
       "Ethiopia                                                66.2   \n",
       "Gambia                                                  61.7   \n",
       "Guinea                                                  61.2   \n",
       "Liberia                                                 63.7   \n",
       "Yemen                                                   66.1   \n",
       "Guinea-Bissau                                           58.0   \n",
       "Congo (Democratic Republic of the)                      60.4   \n",
       "Mozambique                                              60.2   \n",
       "Sierra Leone                                            54.3   \n",
       "Burkina Faso                                            61.2   \n",
       "Eritrea                                                 65.9   \n",
       "Mali                                                    58.9   \n",
       "Burundi                                                 61.2   \n",
       "South Sudan                                             57.6   \n",
       "Chad                                                    54.0   \n",
       "Central African Republic                                52.8   \n",
       "Niger                                                   62.0   \n",
       "\n",
       "                                    Expected years of schooling  \\\n",
       "Norway                                                     18.1   \n",
       "Switzerland                                                16.2   \n",
       "Ireland                                                    18.8   \n",
       "Germany                                                    17.1   \n",
       "Hong Kong, China (SAR)                                     16.5   \n",
       "Australia                                                  22.1   \n",
       "Iceland                                                    19.2   \n",
       "Sweden                                                     18.8   \n",
       "Singapore                                                  16.3   \n",
       "Netherlands                                                18.0   \n",
       "Denmark                                                    19.1   \n",
       "Finland                                                    19.3   \n",
       "Canada                                                     16.1   \n",
       "New Zealand                                                18.8   \n",
       "United Kingdom                                             17.4   \n",
       "United States                                              16.3   \n",
       "Belgium                                                    19.7   \n",
       "Liechtenstein                                              14.7   \n",
       "Japan                                                      15.2   \n",
       "Austria                                                    16.3   \n",
       "Luxembourg                                                 14.2   \n",
       "Israel                                                     16.0   \n",
       "Korea (Republic of)                                        16.4   \n",
       "Slovenia                                                   17.4   \n",
       "Spain                                                      17.9   \n",
       "Czechia                                                    16.8   \n",
       "France                                                     15.5   \n",
       "Malta                                                      15.9   \n",
       "Italy                                                      16.2   \n",
       "Estonia                                                    16.1   \n",
       "...                                                         ...   \n",
       "Uganda                                                     11.2   \n",
       "Mauritania                                                  8.5   \n",
       "Madagascar                                                 10.4   \n",
       "Benin                                                      12.6   \n",
       "Lesotho                                                    10.7   \n",
       "Côte d'Ivoire                                               9.6   \n",
       "Senegal                                                     9.0   \n",
       "Togo                                                       12.6   \n",
       "Sudan                                                       7.7   \n",
       "Haiti                                                       9.5   \n",
       "Afghanistan                                                10.1   \n",
       "Djibouti                                                    6.5   \n",
       "Malawi                                                     11.0   \n",
       "Ethiopia                                                    8.7   \n",
       "Gambia                                                      9.5   \n",
       "Guinea                                                      9.0   \n",
       "Liberia                                                     9.6   \n",
       "Yemen                                                       8.7   \n",
       "Guinea-Bissau                                              10.5   \n",
       "Congo (Democratic Republic of the)                          9.7   \n",
       "Mozambique                                                  9.7   \n",
       "Sierra Leone                                               10.2   \n",
       "Burkina Faso                                                8.9   \n",
       "Eritrea                                                     5.0   \n",
       "Mali                                                        7.6   \n",
       "Burundi                                                    11.3   \n",
       "South Sudan                                                 5.0   \n",
       "Chad                                                        7.5   \n",
       "Central African Republic                                    7.6   \n",
       "Niger                                                       6.5   \n",
       "\n",
       "                                    Mean years of schooling  \\\n",
       "Norway                                                 12.6   \n",
       "Switzerland                                            13.4   \n",
       "Ireland                                                12.5   \n",
       "Germany                                                14.1   \n",
       "Hong Kong, China (SAR)                                 12.0   \n",
       "Australia                                              12.7   \n",
       "Iceland                                                12.5   \n",
       "Sweden                                                 12.4   \n",
       "Singapore                                              11.5   \n",
       "Netherlands                                            12.2   \n",
       "Denmark                                                12.6   \n",
       "Finland                                                12.4   \n",
       "Canada                                                 13.3   \n",
       "New Zealand                                            12.7   \n",
       "United Kingdom                                         13.0   \n",
       "United States                                          13.4   \n",
       "Belgium                                                11.8   \n",
       "Liechtenstein                                          12.5   \n",
       "Japan                                                  12.8   \n",
       "Austria                                                12.6   \n",
       "Luxembourg                                             12.2   \n",
       "Israel                                                 13.0   \n",
       "Korea (Republic of)                                    12.2   \n",
       "Slovenia                                               12.3   \n",
       "Spain                                                   9.8   \n",
       "Czechia                                                12.7   \n",
       "France                                                 11.4   \n",
       "Malta                                                  11.3   \n",
       "Italy                                                  10.2   \n",
       "Estonia                                                13.0   \n",
       "...                                                     ...   \n",
       "Uganda                                                  6.1   \n",
       "Mauritania                                              4.6   \n",
       "Madagascar                                              6.1   \n",
       "Benin                                                   3.8   \n",
       "Lesotho                                                 6.3   \n",
       "Côte d'Ivoire                                           5.2   \n",
       "Senegal                                                 3.1   \n",
       "Togo                                                    4.9   \n",
       "Sudan                                                   3.7   \n",
       "Haiti                                                   5.4   \n",
       "Afghanistan                                             3.9   \n",
       "Djibouti                                                4.0   \n",
       "Malawi                                                  4.6   \n",
       "Ethiopia                                                2.8   \n",
       "Gambia                                                  3.7   \n",
       "Guinea                                                  2.7   \n",
       "Liberia                                                 4.7   \n",
       "Yemen                                                   3.2   \n",
       "Guinea-Bissau                                           3.3   \n",
       "Congo (Democratic Republic of the)                      6.8   \n",
       "Mozambique                                              3.5   \n",
       "Sierra Leone                                            3.6   \n",
       "Burkina Faso                                            1.6   \n",
       "Eritrea                                                 3.9   \n",
       "Mali                                                    2.4   \n",
       "Burundi                                                 3.1   \n",
       "South Sudan                                             4.8   \n",
       "Chad                                                    2.4   \n",
       "Central African Republic                                4.3   \n",
       "Niger                                                   2.0   \n",
       "\n",
       "                                    Gross national income (GNI) per capita  \\\n",
       "Norway                                                             68059.0   \n",
       "Switzerland                                                        59375.0   \n",
       "Ireland                                                            55660.0   \n",
       "Germany                                                            46946.0   \n",
       "Hong Kong, China (SAR)                                             60221.0   \n",
       "Australia                                                          44097.0   \n",
       "Iceland                                                            47566.0   \n",
       "Sweden                                                             47955.0   \n",
       "Singapore                                                          83793.0   \n",
       "Netherlands                                                        50013.0   \n",
       "Denmark                                                            48836.0   \n",
       "Finland                                                            41779.0   \n",
       "Canada                                                             43602.0   \n",
       "New Zealand                                                        35108.0   \n",
       "United Kingdom                                                     39507.0   \n",
       "United States                                                      56140.0   \n",
       "Belgium                                                            43821.0   \n",
       "Liechtenstein                                                      99732.0   \n",
       "Japan                                                              40799.0   \n",
       "Austria                                                            46231.0   \n",
       "Luxembourg                                                         65543.0   \n",
       "Israel                                                             33650.0   \n",
       "Korea (Republic of)                                                36757.0   \n",
       "Slovenia                                                           32143.0   \n",
       "Spain                                                              35041.0   \n",
       "Czechia                                                            31597.0   \n",
       "France                                                             40511.0   \n",
       "Malta                                                              34795.0   \n",
       "Italy                                                              36141.0   \n",
       "Estonia                                                            30379.0   \n",
       "...                                                                    ...   \n",
       "Uganda                                                              1752.0   \n",
       "Mauritania                                                          3746.0   \n",
       "Madagascar                                                          1404.0   \n",
       "Benin                                                               2135.0   \n",
       "Lesotho                                                             3244.0   \n",
       "Côte d'Ivoire                                                       3589.0   \n",
       "Senegal                                                             3256.0   \n",
       "Togo                                                                1593.0   \n",
       "Sudan                                                               3962.0   \n",
       "Haiti                                                               1665.0   \n",
       "Afghanistan                                                         1746.0   \n",
       "Djibouti                                                            3601.0   \n",
       "Malawi                                                              1159.0   \n",
       "Ethiopia                                                            1782.0   \n",
       "Gambia                                                              1490.0   \n",
       "Guinea                                                              2211.0   \n",
       "Liberia                                                             1040.0   \n",
       "Yemen                                                               1433.0   \n",
       "Guinea-Bissau                                                       1593.0   \n",
       "Congo (Democratic Republic of the)                                   800.0   \n",
       "Mozambique                                                          1154.0   \n",
       "Sierra Leone                                                        1381.0   \n",
       "Burkina Faso                                                        1705.0   \n",
       "Eritrea                                                             1708.0   \n",
       "Mali                                                                1965.0   \n",
       "Burundi                                                              660.0   \n",
       "South Sudan                                                         1455.0   \n",
       "Chad                                                                1716.0   \n",
       "Central African Republic                                             777.0   \n",
       "Niger                                                                912.0   \n",
       "\n",
       "                                    GNI per capita rank minus HDI rank  \\\n",
       "Norway                                                             5.0   \n",
       "Switzerland                                                        8.0   \n",
       "Ireland                                                            9.0   \n",
       "Germany                                                           15.0   \n",
       "Hong Kong, China (SAR)                                             5.0   \n",
       "Australia                                                         15.0   \n",
       "Iceland                                                           12.0   \n",
       "Sweden                                                             9.0   \n",
       "Singapore                                                         -6.0   \n",
       "Netherlands                                                        3.0   \n",
       "Denmark                                                            4.0   \n",
       "Finland                                                           12.0   \n",
       "Canada                                                            10.0   \n",
       "New Zealand                                                       18.0   \n",
       "United Kingdom                                                    13.0   \n",
       "United States                                                     -4.0   \n",
       "Belgium                                                            5.0   \n",
       "Liechtenstein                                                    -16.0   \n",
       "Japan                                                              6.0   \n",
       "Austria                                                            0.0   \n",
       "Luxembourg                                                       -13.0   \n",
       "Israel                                                            13.0   \n",
       "Korea (Republic of)                                                8.0   \n",
       "Slovenia                                                          13.0   \n",
       "Spain                                                              8.0   \n",
       "Czechia                                                           12.0   \n",
       "France                                                             0.0   \n",
       "Malta                                                              6.0   \n",
       "Italy                                                              2.0   \n",
       "Estonia                                                           10.0   \n",
       "...                                                                ...   \n",
       "Uganda                                                            11.0   \n",
       "Mauritania                                                       -17.0   \n",
       "Madagascar                                                        19.0   \n",
       "Benin                                                              2.0   \n",
       "Lesotho                                                           -9.0   \n",
       "Côte d'Ivoire                                                    -16.0   \n",
       "Senegal                                                          -12.0   \n",
       "Togo                                                              10.0   \n",
       "Sudan                                                            -26.0   \n",
       "Haiti                                                              6.0   \n",
       "Afghanistan                                                        1.0   \n",
       "Djibouti                                                         -24.0   \n",
       "Malawi                                                            11.0   \n",
       "Ethiopia                                                          -4.0   \n",
       "Gambia                                                             4.0   \n",
       "Guinea                                                           -10.0   \n",
       "Liberia                                                            9.0   \n",
       "Yemen                                                              3.0   \n",
       "Guinea-Bissau                                                     -2.0   \n",
       "Congo (Democratic Republic of the)                                 8.0   \n",
       "Mozambique                                                         4.0   \n",
       "Sierra Leone                                                       1.0   \n",
       "Burkina Faso                                                      -8.0   \n",
       "Eritrea                                                           -9.0   \n",
       "Mali                                                             -17.0   \n",
       "Burundi                                                            4.0   \n",
       "South Sudan                                                       -7.0   \n",
       "Chad                                                             -15.0   \n",
       "Central African Republic                                           0.0   \n",
       "Niger                                                             -3.0   \n",
       "\n",
       "                                    1990 HDI  2000 HDI  2010 HDI    ...      \\\n",
       "Norway                              0.850000  0.917000     0.942    ...       \n",
       "Switzerland                         0.832000  0.889000     0.932    ...       \n",
       "Ireland                             0.764000  0.857000     0.890    ...       \n",
       "Germany                             0.801000  0.869000     0.920    ...       \n",
       "Hong Kong, China (SAR)              0.781000  0.827000     0.901    ...       \n",
       "Australia                           0.866000  0.898000     0.926    ...       \n",
       "Iceland                             0.804000  0.861000     0.892    ...       \n",
       "Sweden                              0.816000  0.897000     0.906    ...       \n",
       "Singapore                           0.718000  0.818000     0.909    ...       \n",
       "Netherlands                         0.830000  0.876000     0.911    ...       \n",
       "Denmark                             0.799000  0.863000     0.910    ...       \n",
       "Finland                             0.784000  0.858000     0.903    ...       \n",
       "Canada                              0.850000  0.868000     0.895    ...       \n",
       "New Zealand                         0.820000  0.870000     0.899    ...       \n",
       "United Kingdom                      0.775000  0.867000     0.905    ...       \n",
       "United States                       0.860000  0.881000     0.911    ...       \n",
       "Belgium                             0.806000  0.873000     0.903    ...       \n",
       "Liechtenstein                       0.767152  0.862000     0.904    ...       \n",
       "Japan                               0.816000  0.855000     0.885    ...       \n",
       "Austria                             0.795000  0.838000     0.895    ...       \n",
       "Luxembourg                          0.790000  0.860000     0.893    ...       \n",
       "Israel                              0.792000  0.853000     0.887    ...       \n",
       "Korea (Republic of)                 0.728000  0.817000     0.882    ...       \n",
       "Slovenia                            0.829000  0.824000     0.881    ...       \n",
       "Spain                               0.754000  0.825000     0.865    ...       \n",
       "Czechia                             0.730000  0.796000     0.862    ...       \n",
       "France                              0.780000  0.842000     0.872    ...       \n",
       "Malta                               0.744000  0.787000     0.847    ...       \n",
       "Italy                               0.769000  0.830000     0.871    ...       \n",
       "Estonia                             0.730000  0.780000     0.844    ...       \n",
       "...                                      ...       ...       ...    ...       \n",
       "Uganda                              0.312000  0.395000     0.489    ...       \n",
       "Mauritania                          0.378000  0.446000     0.490    ...       \n",
       "Madagascar                          0.362441  0.456000     0.504    ...       \n",
       "Benin                               0.348000  0.398000     0.473    ...       \n",
       "Lesotho                             0.488000  0.444000     0.461    ...       \n",
       "Côte d'Ivoire                       0.391000  0.407000     0.454    ...       \n",
       "Senegal                             0.377000  0.390000     0.468    ...       \n",
       "Togo                                0.405000  0.426000     0.468    ...       \n",
       "Sudan                               0.332000  0.403000     0.471    ...       \n",
       "Haiti                               0.412000  0.440000     0.467    ...       \n",
       "Afghanistan                         0.298000  0.345000     0.464    ...       \n",
       "Djibouti                            0.362441  0.361000     0.446    ...       \n",
       "Malawi                              0.303000  0.362000     0.437    ...       \n",
       "Ethiopia                            0.362441  0.283000     0.412    ...       \n",
       "Gambia                              0.328000  0.382000     0.437    ...       \n",
       "Guinea                              0.278000  0.335000     0.408    ...       \n",
       "Liberia                             0.362441  0.422000     0.441    ...       \n",
       "Yemen                               0.392000  0.432000     0.499    ...       \n",
       "Guinea-Bissau                       0.362441  0.395318     0.426    ...       \n",
       "Congo (Democratic Republic of the)  0.377000  0.333000     0.416    ...       \n",
       "Mozambique                          0.217000  0.301000     0.396    ...       \n",
       "Sierra Leone                        0.270000  0.298000     0.391    ...       \n",
       "Burkina Faso                        0.362441  0.286000     0.375    ...       \n",
       "Eritrea                             0.362441  0.395318     0.433    ...       \n",
       "Mali                                0.231000  0.308000     0.403    ...       \n",
       "Burundi                             0.295000  0.293000     0.402    ...       \n",
       "South Sudan                         0.362441  0.395318     0.425    ...       \n",
       "Chad                                0.362441  0.298000     0.374    ...       \n",
       "Central African Republic            0.320000  0.307000     0.355    ...       \n",
       "Niger                               0.213000  0.253000     0.319    ...       \n",
       "\n",
       "                                    Skilled Labor Force  \\\n",
       "Norway                                        84.300000   \n",
       "Switzerland                                   86.500000   \n",
       "Ireland                                       84.900000   \n",
       "Germany                                       87.400000   \n",
       "Hong Kong, China (SAR)                        77.000000   \n",
       "Australia                                     78.900000   \n",
       "Iceland                                       74.500000   \n",
       "Sweden                                        86.800000   \n",
       "Singapore                                     65.900000   \n",
       "Netherlands                                   78.400000   \n",
       "Denmark                                       78.700000   \n",
       "Finland                                       89.900000   \n",
       "Canada                                        91.800000   \n",
       "New Zealand                                   82.200000   \n",
       "United Kingdom                                83.600000   \n",
       "United States                                 96.400000   \n",
       "Belgium                                       85.500000   \n",
       "Liechtenstein                                 79.980435   \n",
       "Japan                                         99.900000   \n",
       "Austria                                       87.400000   \n",
       "Luxembourg                                    78.300000   \n",
       "Israel                                        90.600000   \n",
       "Korea (Republic of)                           85.700000   \n",
       "Slovenia                                      91.100000   \n",
       "Spain                                         66.900000   \n",
       "Czechia                                       95.700000   \n",
       "France                                        84.800000   \n",
       "Malta                                         63.400000   \n",
       "Italy                                         69.600000   \n",
       "Estonia                                       89.800000   \n",
       "...                                                 ...   \n",
       "Uganda                                        37.100000   \n",
       "Mauritania                                     5.800000   \n",
       "Madagascar                                    18.500000   \n",
       "Benin                                         17.100000   \n",
       "Lesotho                                       19.881081   \n",
       "Côte d'Ivoire                                 25.500000   \n",
       "Senegal                                       10.900000   \n",
       "Togo                                          47.600000   \n",
       "Sudan                                         22.800000   \n",
       "Haiti                                          9.400000   \n",
       "Afghanistan                                   19.200000   \n",
       "Djibouti                                      19.881081   \n",
       "Malawi                                        17.600000   \n",
       "Ethiopia                                       6.800000   \n",
       "Gambia                                        12.300000   \n",
       "Guinea                                        19.881081   \n",
       "Liberia                                       21.100000   \n",
       "Yemen                                         29.700000   \n",
       "Guinea-Bissau                                 19.881081   \n",
       "Congo (Democratic Republic of the)            43.100000   \n",
       "Mozambique                                     7.100000   \n",
       "Sierra Leone                                  15.200000   \n",
       "Burkina Faso                                   3.900000   \n",
       "Eritrea                                       19.881081   \n",
       "Mali                                           4.700000   \n",
       "Burundi                                        2.500000   \n",
       "South Sudan                                   19.881081   \n",
       "Chad                                          19.881081   \n",
       "Central African Republic                      19.881081   \n",
       "Niger                                          1.800000   \n",
       "\n",
       "                                    Exports Concentration Index  \\\n",
       "Norway                                                 0.368000   \n",
       "Switzerland                                            0.246000   \n",
       "Ireland                                                0.269000   \n",
       "Germany                                                0.093000   \n",
       "Hong Kong, China (SAR)                                 0.286000   \n",
       "Australia                                              0.291000   \n",
       "Iceland                                                0.461000   \n",
       "Sweden                                                 0.097000   \n",
       "Singapore                                              0.269000   \n",
       "Netherlands                                            0.082000   \n",
       "Denmark                                                0.101000   \n",
       "Finland                                                0.143000   \n",
       "Canada                                                 0.147000   \n",
       "New Zealand                                            0.175000   \n",
       "United Kingdom                                         0.111000   \n",
       "United States                                          0.099000   \n",
       "Belgium                                                0.096000   \n",
       "Liechtenstein                                          0.211604   \n",
       "Japan                                                  0.139000   \n",
       "Austria                                                0.061000   \n",
       "Luxembourg                                             0.106000   \n",
       "Israel                                                 0.223000   \n",
       "Korea (Republic of)                                    0.175000   \n",
       "Slovenia                                               0.177000   \n",
       "Spain                                                  0.096000   \n",
       "Czechia                                                0.128000   \n",
       "France                                                 0.089000   \n",
       "Malta                                                  0.292000   \n",
       "Italy                                                  0.053000   \n",
       "Estonia                                                0.099000   \n",
       "...                                                         ...   \n",
       "Uganda                                                 0.250000   \n",
       "Mauritania                                             0.308000   \n",
       "Madagascar                                             0.213000   \n",
       "Benin                                                  0.346000   \n",
       "Lesotho                                                0.288000   \n",
       "Côte d'Ivoire                                          0.361000   \n",
       "Senegal                                                0.239000   \n",
       "Togo                                                   0.235000   \n",
       "Sudan                                                  0.440000   \n",
       "Haiti                                                  0.508000   \n",
       "Afghanistan                                            0.387000   \n",
       "Djibouti                                               0.222000   \n",
       "Malawi                                                 0.558000   \n",
       "Ethiopia                                               0.288000   \n",
       "Gambia                                                 0.449000   \n",
       "Guinea                                                 0.493000   \n",
       "Liberia                                                0.394000   \n",
       "Yemen                                                  0.319000   \n",
       "Guinea-Bissau                                          0.875000   \n",
       "Congo (Democratic Republic of the)                     0.505000   \n",
       "Mozambique                                             0.305000   \n",
       "Sierra Leone                                           0.255000   \n",
       "Burkina Faso                                           0.658000   \n",
       "Eritrea                                                0.319000   \n",
       "Mali                                                   0.670000   \n",
       "Burundi                                                0.425000   \n",
       "South Sudan                                            0.413574   \n",
       "Chad                                                   0.774000   \n",
       "Central African Republic                               0.313000   \n",
       "Niger                                                  0.352000   \n",
       "\n",
       "                                    Research and Development Expenditure  \\\n",
       "Norway                                                          2.000000   \n",
       "Switzerland                                                     3.400000   \n",
       "Ireland                                                         1.200000   \n",
       "Germany                                                         2.900000   \n",
       "Hong Kong, China (SAR)                                          0.800000   \n",
       "Australia                                                       1.900000   \n",
       "Iceland                                                         2.100000   \n",
       "Sweden                                                          3.300000   \n",
       "Singapore                                                       2.200000   \n",
       "Netherlands                                                     2.000000   \n",
       "Denmark                                                         2.900000   \n",
       "Finland                                                         2.700000   \n",
       "Canada                                                          1.500000   \n",
       "New Zealand                                                     1.300000   \n",
       "United Kingdom                                                  1.700000   \n",
       "United States                                                   2.700000   \n",
       "Belgium                                                         2.500000   \n",
       "Liechtenstein                                                   1.645652   \n",
       "Japan                                                           3.100000   \n",
       "Austria                                                         3.100000   \n",
       "Luxembourg                                                      1.200000   \n",
       "Israel                                                          4.300000   \n",
       "Korea (Republic of)                                             4.200000   \n",
       "Slovenia                                                        2.000000   \n",
       "Spain                                                           1.200000   \n",
       "Czechia                                                         1.700000   \n",
       "France                                                          2.200000   \n",
       "Malta                                                           0.600000   \n",
       "Italy                                                           1.300000   \n",
       "Estonia                                                         1.300000   \n",
       "...                                                                  ...   \n",
       "Uganda                                                          0.200000   \n",
       "Mauritania                                                      0.265217   \n",
       "Madagascar                                                      0.000000   \n",
       "Benin                                                           0.265217   \n",
       "Lesotho                                                         0.000000   \n",
       "Côte d'Ivoire                                                   0.265217   \n",
       "Senegal                                                         0.800000   \n",
       "Togo                                                            0.300000   \n",
       "Sudan                                                           0.265217   \n",
       "Haiti                                                           0.265217   \n",
       "Afghanistan                                                     0.265217   \n",
       "Djibouti                                                        0.265217   \n",
       "Malawi                                                          0.265217   \n",
       "Ethiopia                                                        0.600000   \n",
       "Gambia                                                          0.100000   \n",
       "Guinea                                                          0.265217   \n",
       "Liberia                                                         0.265217   \n",
       "Yemen                                                           0.265217   \n",
       "Guinea-Bissau                                                   0.265217   \n",
       "Congo (Democratic Republic of the)                              0.100000   \n",
       "Mozambique                                                      0.300000   \n",
       "Sierra Leone                                                    0.265217   \n",
       "Burkina Faso                                                    0.200000   \n",
       "Eritrea                                                         0.265217   \n",
       "Mali                                                            0.300000   \n",
       "Burundi                                                         0.100000   \n",
       "South Sudan                                                     0.265217   \n",
       "Chad                                                            0.300000   \n",
       "Central African Republic                                        0.265217   \n",
       "Niger                                                           0.265217   \n",
       "\n",
       "                                    Old Age Dependency Rate  \\\n",
       "Norway                                            31.900000   \n",
       "Switzerland                                       37.900000   \n",
       "Ireland                                           27.800000   \n",
       "Germany                                           44.000000   \n",
       "Hong Kong, China (SAR)                            43.200000   \n",
       "Australia                                         31.000000   \n",
       "Iceland                                           31.800000   \n",
       "Sweden                                            36.400000   \n",
       "Singapore                                         34.500000   \n",
       "Netherlands                                       40.800000   \n",
       "Denmark                                           37.100000   \n",
       "Finland                                           43.100000   \n",
       "Canada                                            36.700000   \n",
       "New Zealand                                       33.300000   \n",
       "United Kingdom                                    34.800000   \n",
       "United States                                     32.500000   \n",
       "Belgium                                           37.600000   \n",
       "Liechtenstein                                     32.934043   \n",
       "Japan                                             53.200000   \n",
       "Austria                                           38.500000   \n",
       "Luxembourg                                        27.100000   \n",
       "Israel                                            22.500000   \n",
       "Korea (Republic of)                               38.200000   \n",
       "Slovenia                                          41.800000   \n",
       "Spain                                             39.800000   \n",
       "Czechia                                           35.300000   \n",
       "France                                            40.400000   \n",
       "Malta                                             41.900000   \n",
       "Italy                                             45.800000   \n",
       "Estonia                                           38.300000   \n",
       "...                                                     ...   \n",
       "Uganda                                             4.100000   \n",
       "Mauritania                                         6.200000   \n",
       "Madagascar                                         6.400000   \n",
       "Benin                                              6.300000   \n",
       "Lesotho                                            8.700000   \n",
       "Côte d'Ivoire                                      5.300000   \n",
       "Senegal                                            5.800000   \n",
       "Togo                                               5.500000   \n",
       "Sudan                                              7.100000   \n",
       "Haiti                                              9.700000   \n",
       "Afghanistan                                        5.100000   \n",
       "Djibouti                                           9.400000   \n",
       "Malawi                                             4.800000   \n",
       "Ethiopia                                           6.400000   \n",
       "Gambia                                             4.800000   \n",
       "Guinea                                             5.400000   \n",
       "Liberia                                            6.400000   \n",
       "Yemen                                              5.400000   \n",
       "Guinea-Bissau                                      5.100000   \n",
       "Congo (Democratic Republic of the)                 5.900000   \n",
       "Mozambique                                         5.100000   \n",
       "Sierra Leone                                       5.200000   \n",
       "Burkina Faso                                       4.800000   \n",
       "Eritrea                                            7.000000   \n",
       "Mali                                               4.500000   \n",
       "Burundi                                            5.200000   \n",
       "South Sudan                                        6.200000   \n",
       "Chad                                               4.700000   \n",
       "Central African Republic                           5.000000   \n",
       "Niger                                              5.200000   \n",
       "\n",
       "                                    Military Expenditure (% of GDP)  \\\n",
       "Norway                                                     1.600000   \n",
       "Switzerland                                                0.700000   \n",
       "Ireland                                                    0.300000   \n",
       "Germany                                                    1.200000   \n",
       "Hong Kong, China (SAR)                                     2.068889   \n",
       "Australia                                                  1.900000   \n",
       "Iceland                                                    2.068889   \n",
       "Sweden                                                     1.000000   \n",
       "Singapore                                                  3.100000   \n",
       "Netherlands                                                1.200000   \n",
       "Denmark                                                    1.200000   \n",
       "Finland                                                    1.400000   \n",
       "Canada                                                     1.300000   \n",
       "New Zealand                                                1.200000   \n",
       "United Kingdom                                             1.800000   \n",
       "United States                                              3.200000   \n",
       "Belgium                                                    0.900000   \n",
       "Liechtenstein                                              2.068889   \n",
       "Japan                                                      0.900000   \n",
       "Austria                                                    0.700000   \n",
       "Luxembourg                                                 0.600000   \n",
       "Israel                                                     4.300000   \n",
       "Korea (Republic of)                                        2.600000   \n",
       "Slovenia                                                   1.000000   \n",
       "Spain                                                      1.300000   \n",
       "Czechia                                                    1.100000   \n",
       "France                                                     2.300000   \n",
       "Malta                                                      0.500000   \n",
       "Italy                                                      1.300000   \n",
       "Estonia                                                    2.100000   \n",
       "...                                                             ...   \n",
       "Uganda                                                     1.400000   \n",
       "Mauritania                                                 3.000000   \n",
       "Madagascar                                                 0.600000   \n",
       "Benin                                                      0.900000   \n",
       "Lesotho                                                    1.800000   \n",
       "Côte d'Ivoire                                              1.400000   \n",
       "Senegal                                                    1.900000   \n",
       "Togo                                                       2.000000   \n",
       "Sudan                                                      2.300000   \n",
       "Haiti                                                      0.000000   \n",
       "Afghanistan                                                1.000000   \n",
       "Djibouti                                                   3.700000   \n",
       "Malawi                                                     0.800000   \n",
       "Ethiopia                                                   0.600000   \n",
       "Gambia                                                     1.100000   \n",
       "Guinea                                                     2.500000   \n",
       "Liberia                                                    0.800000   \n",
       "Yemen                                                      4.000000   \n",
       "Guinea-Bissau                                              1.600000   \n",
       "Congo (Democratic Republic of the)                         0.700000   \n",
       "Mozambique                                                 1.000000   \n",
       "Sierra Leone                                               0.800000   \n",
       "Burkina Faso                                               2.100000   \n",
       "Eritrea                                                    1.653333   \n",
       "Mali                                                       2.900000   \n",
       "Burundi                                                    1.900000   \n",
       "South Sudan                                                1.300000   \n",
       "Chad                                                       2.100000   \n",
       "Central African Republic                                   1.400000   \n",
       "Niger                                                      2.500000   \n",
       "\n",
       "                                    Ratio of education and health expenditure to military expenditure  \\\n",
       "Norway                                                                      11.700000                   \n",
       "Switzerland                                                                 25.500000                   \n",
       "Ireland                                                                     32.700000                   \n",
       "Germany                                                                     13.500000                   \n",
       "Hong Kong, China (SAR)                                                      11.023256                   \n",
       "Australia                                                                    7.500000                   \n",
       "Iceland                                                                     11.023256                   \n",
       "Sweden                                                                      17.200000                   \n",
       "Singapore                                                                    2.100000                   \n",
       "Netherlands                                                                 13.900000                   \n",
       "Denmark                                                                     15.500000                   \n",
       "Finland                                                                     11.500000                   \n",
       "Canada                                                                      13.000000                   \n",
       "New Zealand                                                                 13.200000                   \n",
       "United Kingdom                                                               8.500000                   \n",
       "United States                                                                6.200000                   \n",
       "Belgium                                                                     18.100000                   \n",
       "Liechtenstein                                                               11.023256                   \n",
       "Japan                                                                       15.300000                   \n",
       "Austria                                                                     22.600000                   \n",
       "Luxembourg                                                                  20.900000                   \n",
       "Israel                                                                       2.300000                   \n",
       "Korea (Republic of)                                                          4.700000                   \n",
       "Slovenia                                                                    14.400000                   \n",
       "Spain                                                                       10.600000                   \n",
       "Czechia                                                                     13.700000                   \n",
       "France                                                                       7.500000                   \n",
       "Malta                                                                       29.800000                   \n",
       "Italy                                                                       10.800000                   \n",
       "Estonia                                                                      5.800000                   \n",
       "...                                                                               ...                   \n",
       "Uganda                                                                       6.900000                   \n",
       "Mauritania                                                                   2.400000                   \n",
       "Madagascar                                                                  12.100000                   \n",
       "Benin                                                                        8.500000                   \n",
       "Lesotho                                                                     13.200000                   \n",
       "Côte d'Ivoire                                                                5.500000                   \n",
       "Senegal                                                                      5.900000                   \n",
       "Togo                                                                         6.300000                   \n",
       "Sudan                                                                        1.400000                   \n",
       "Haiti                                                                     9318.700000                   \n",
       "Afghanistan                                                                 15.100000                   \n",
       "Djibouti                                                                     3.200000                   \n",
       "Malawi                                                                      22.800000                   \n",
       "Ethiopia                                                                    12.400000                   \n",
       "Gambia                                                                       4.900000                   \n",
       "Guinea                                                                       3.200000                   \n",
       "Liberia                                                                     19.500000                   \n",
       "Yemen                                                                        2.500000                   \n",
       "Guinea-Bissau                                                                3.300000                   \n",
       "Congo (Democratic Republic of the)                                           6.300000                   \n",
       "Mozambique                                                                  12.000000                   \n",
       "Sierra Leone                                                                17.200000                   \n",
       "Burkina Faso                                                                 7.500000                   \n",
       "Eritrea                                                                    240.222500                   \n",
       "Mali                                                                         2.700000                   \n",
       "Burundi                                                                      5.100000                   \n",
       "South Sudan                                                                240.222500                   \n",
       "Chad                                                                         1.400000                   \n",
       "Central African Republic                                                     2.200000                   \n",
       "Niger                                                                        4.600000                   \n",
       "\n",
       "                                    Loss in HDI Value due to Inequality  \\\n",
       "Norway                                                         0.300000   \n",
       "Switzerland                                                   -0.400000   \n",
       "Ireland                                                       -2.300000   \n",
       "Germany                                                        0.500000   \n",
       "Hong Kong, China (SAR)                                        -0.950000   \n",
       "Australia                                                      0.400000   \n",
       "Iceland                                                       -1.700000   \n",
       "Sweden                                                        -0.400000   \n",
       "Singapore                                                     -0.950000   \n",
       "Netherlands                                                   -2.100000   \n",
       "Denmark                                                       -0.700000   \n",
       "Finland                                                       -3.600000   \n",
       "Canada                                                         0.200000   \n",
       "New Zealand                                                   -0.950000   \n",
       "United Kingdom                                                -1.900000   \n",
       "United States                                                  2.200000   \n",
       "Belgium                                                       -1.200000   \n",
       "Liechtenstein                                                 -0.950000   \n",
       "Japan                                                         -0.950000   \n",
       "Austria                                                        0.400000   \n",
       "Luxembourg                                                     0.700000   \n",
       "Israel                                                        -1.800000   \n",
       "Korea (Republic of)                                           -1.800000   \n",
       "Slovenia                                                      -3.900000   \n",
       "Spain                                                          5.900000   \n",
       "Czechia                                                       -3.000000   \n",
       "France                                                        -0.100000   \n",
       "Malta                                                         -0.950000   \n",
       "Italy                                                          0.100000   \n",
       "Estonia                                                       -3.200000   \n",
       "...                                                                 ...   \n",
       "Uganda                                                        -2.100000   \n",
       "Mauritania                                                    -1.100000   \n",
       "Madagascar                                                    -1.400000   \n",
       "Benin                                                          0.700000   \n",
       "Lesotho                                                       -0.500000   \n",
       "Côte d'Ivoire                                                 -0.100000   \n",
       "Senegal                                                       -1.300000   \n",
       "Togo                                                          -0.400000   \n",
       "Sudan                                                         -1.326316   \n",
       "Haiti                                                         -0.100000   \n",
       "Afghanistan                                                   -1.326316   \n",
       "Djibouti                                                      -1.326316   \n",
       "Malawi                                                        -1.300000   \n",
       "Ethiopia                                                      -2.200000   \n",
       "Gambia                                                        -0.600000   \n",
       "Guinea                                                        -1.600000   \n",
       "Liberia                                                       -1.700000   \n",
       "Yemen                                                         -0.900000   \n",
       "Guinea-Bissau                                                 -1.400000   \n",
       "Congo (Democratic Republic of the)                            -1.800000   \n",
       "Mozambique                                                    -4.000000   \n",
       "Sierra Leone                                                  -1.200000   \n",
       "Burkina Faso                                                  -2.100000   \n",
       "Eritrea                                                       -1.326316   \n",
       "Mali                                                          -2.300000   \n",
       "Burundi                                                       -2.400000   \n",
       "South Sudan                                                   -1.326316   \n",
       "Chad                                                          -0.500000   \n",
       "Central African Republic                                      -0.100000   \n",
       "Niger                                                         -2.200000   \n",
       "\n",
       "                                    Gender Inequality Index  \\\n",
       "Norway                                            -3.700000   \n",
       "Switzerland                                       -3.800000   \n",
       "Ireland                                           -4.000000   \n",
       "Germany                                           -2.200000   \n",
       "Hong Kong, China (SAR)                            -2.947727   \n",
       "Australia                                         -2.000000   \n",
       "Iceland                                           -4.200000   \n",
       "Sweden                                            -1.800000   \n",
       "Singapore                                         -4.700000   \n",
       "Netherlands                                       -3.900000   \n",
       "Denmark                                           -2.900000   \n",
       "Finland                                           -3.300000   \n",
       "Canada                                            -2.900000   \n",
       "New Zealand                                       -2.200000   \n",
       "United Kingdom                                    -3.200000   \n",
       "United States                                     -2.400000   \n",
       "Belgium                                           -4.300000   \n",
       "Liechtenstein                                     -2.947727   \n",
       "Japan                                             -2.500000   \n",
       "Austria                                           -2.900000   \n",
       "Luxembourg                                        -3.800000   \n",
       "Israel                                            -3.200000   \n",
       "Korea (Republic of)                               -3.500000   \n",
       "Slovenia                                          -3.900000   \n",
       "Spain                                             -2.800000   \n",
       "Czechia                                           -0.800000   \n",
       "France                                            -4.800000   \n",
       "Malta                                             -2.800000   \n",
       "Italy                                             -4.700000   \n",
       "Estonia                                           -4.400000   \n",
       "...                                                     ...   \n",
       "Uganda                                            -0.800000   \n",
       "Mauritania                                        -0.635294   \n",
       "Madagascar                                        -0.635294   \n",
       "Benin                                             -0.500000   \n",
       "Lesotho                                           -0.500000   \n",
       "Côte d'Ivoire                                     -0.400000   \n",
       "Senegal                                           -1.300000   \n",
       "Togo                                              -0.800000   \n",
       "Sudan                                             -1.200000   \n",
       "Haiti                                              0.300000   \n",
       "Afghanistan                                       -1.100000   \n",
       "Djibouti                                          -0.635294   \n",
       "Malawi                                            -0.500000   \n",
       "Ethiopia                                          -1.300000   \n",
       "Gambia                                            -0.400000   \n",
       "Guinea                                            -0.635294   \n",
       "Liberia                                           -0.300000   \n",
       "Yemen                                              0.200000   \n",
       "Guinea-Bissau                                     -0.635294   \n",
       "Congo (Democratic Republic of the)                -0.100000   \n",
       "Mozambique                                        -0.700000   \n",
       "Sierra Leone                                      -0.300000   \n",
       "Burkina Faso                                      -0.400000   \n",
       "Eritrea                                           -0.635294   \n",
       "Mali                                              -0.300000   \n",
       "Burundi                                           -0.700000   \n",
       "South Sudan                                       -0.635294   \n",
       "Chad                                              -0.635294   \n",
       "Central African Republic                          -0.100000   \n",
       "Niger                                             -0.600000   \n",
       "\n",
       "                                    Income Share of Poorest 40%  HDI group  \n",
       "Norway                                                 0.300000        1.0  \n",
       "Switzerland                                            0.800000        1.0  \n",
       "Ireland                                                0.400000        1.0  \n",
       "Germany                                                0.000000        1.0  \n",
       "Hong Kong, China (SAR)                                 0.089189        1.0  \n",
       "Australia                                             -0.600000        1.0  \n",
       "Iceland                                                0.200000        1.0  \n",
       "Sweden                                                -0.400000        1.0  \n",
       "Singapore                                              0.089189        1.0  \n",
       "Netherlands                                            0.300000        1.0  \n",
       "Denmark                                               -0.500000        1.0  \n",
       "Finland                                                0.000000        1.0  \n",
       "Canada                                                -0.300000        1.0  \n",
       "New Zealand                                            0.089189        1.0  \n",
       "United Kingdom                                         0.300000        1.0  \n",
       "United States                                         -0.400000        1.0  \n",
       "Belgium                                                0.100000        1.0  \n",
       "Liechtenstein                                          0.089189        1.0  \n",
       "Japan                                                  0.089189        1.0  \n",
       "Austria                                               -0.500000        1.0  \n",
       "Luxembourg                                            -0.900000        1.0  \n",
       "Israel                                                 0.700000        1.0  \n",
       "Korea (Republic of)                                    0.100000        1.0  \n",
       "Slovenia                                              -0.200000        1.0  \n",
       "Spain                                                 -1.200000        1.0  \n",
       "Czechia                                                0.200000        1.0  \n",
       "France                                                -0.500000        1.0  \n",
       "Malta                                                 -0.300000        1.0  \n",
       "Italy                                                 -0.600000        1.0  \n",
       "Estonia                                                0.000000        1.0  \n",
       "...                                                         ...        ...  \n",
       "Uganda                                                -0.100000        4.0  \n",
       "Mauritania                                             1.500000        4.0  \n",
       "Madagascar                                            -1.500000        4.0  \n",
       "Benin                                                 -2.800000        4.0  \n",
       "Lesotho                                               -1.100000        4.0  \n",
       "Côte d'Ivoire                                         -0.400000        4.0  \n",
       "Senegal                                               -0.500000        4.0  \n",
       "Togo                                                  -0.900000        4.0  \n",
       "Sudan                                                  0.091892        4.0  \n",
       "Haiti                                                  0.091892        4.0  \n",
       "Afghanistan                                            0.091892        4.0  \n",
       "Djibouti                                              -0.300000        4.0  \n",
       "Malawi                                                -0.700000        4.0  \n",
       "Ethiopia                                              -2.200000        4.0  \n",
       "Gambia                                                 2.900000        4.0  \n",
       "Guinea                                                 2.400000        4.0  \n",
       "Liberia                                                0.300000        4.0  \n",
       "Yemen                                                 -0.600000        4.0  \n",
       "Guinea-Bissau                                         -4.800000        4.0  \n",
       "Congo (Democratic Republic of the)                    -0.100000        4.0  \n",
       "Mozambique                                            -1.800000        4.0  \n",
       "Sierra Leone                                           1.900000        4.0  \n",
       "Burkina Faso                                           2.300000        4.0  \n",
       "Eritrea                                                0.091892        4.0  \n",
       "Mali                                                   2.400000        4.0  \n",
       "Burundi                                                1.000000        4.0  \n",
       "South Sudan                                            0.091892        4.0  \n",
       "Chad                                                  -1.700000        4.0  \n",
       "Central African Republic                              -6.700000        4.0  \n",
       "Niger                                                  2.600000        4.0  \n",
       "\n",
       "[189 rows x 222 columns]"
      ]
     },
     "execution_count": 3,
     "metadata": {},
     "output_type": "execute_result"
    }
   ],
   "source": [
    "X.iloc[:,:222]"
   ]
  },
  {
   "cell_type": "markdown",
   "metadata": {},
   "source": [
    "# Scale data"
   ]
  },
  {
   "cell_type": "code",
   "execution_count": 4,
   "metadata": {},
   "outputs": [],
   "source": [
    "scale = StandardScaler()\n",
    "X_std = scale.fit_transform(X.iloc[:,:222])"
   ]
  },
  {
   "cell_type": "markdown",
   "metadata": {},
   "source": [
    "# PCA Dimension Reduction"
   ]
  },
  {
   "cell_type": "code",
   "execution_count": 5,
   "metadata": {},
   "outputs": [
    {
     "data": {
      "text/plain": [
       "<matplotlib.collections.PathCollection at 0x1add0776198>"
      ]
     },
     "execution_count": 5,
     "metadata": {},
     "output_type": "execute_result"
    },
    {
     "data": {
      "image/png": "[encoded data removed]",
      "text/plain": [
       "<Figure size 432x288 with 1 Axes>"
      ]
     },
     "metadata": {
      "needs_background": "light"
     },
     "output_type": "display_data"
    }
   ],
   "source": [
    "from sklearn.decomposition import PCA\n",
    "\n",
    "#Reduce total to 20 components\n",
    "pca = PCA(n_components= 20, random_state= 123)\n",
    "pca_results = pca.fit_transform(X_std)\n",
    "\n",
    "plt.scatter(pca_results[:, 0],pca_results[:, 1])"
   ]
  },
  {
   "cell_type": "code",
   "execution_count": 6,
   "metadata": {},
   "outputs": [
    {
     "data": {
      "text/plain": [
       "<matplotlib.collections.PathCollection at 0x1add171b748>"
      ]
     },
     "execution_count": 6,
     "metadata": {},
     "output_type": "execute_result"
    },
    {
     "data": {
      "image/png": "[encoded data removed]",
      "text/plain": [
       "<Figure size 432x288 with 1 Axes>"
      ]
     },
     "metadata": {
      "needs_background": "light"
     },
     "output_type": "display_data"
    }
   ],
   "source": [
    "#Reduce 20 components to 2 components\n",
    "\n",
    "pca = PCA(n_components= 2, random_state= 123)\n",
    "pca_results_1 = pca.fit_transform(pca_results)\n",
    "\n",
    "plt.scatter(pca_results_1[:, 0],pca_results_1[:, 1])"
   ]
  },
  {
   "cell_type": "markdown",
   "metadata": {},
   "source": [
    "# UMAP Dimension Reduction (100-20-2 Components)"
   ]
  },
  {
   "cell_type": "code",
   "execution_count": 7,
   "metadata": {
    "scrolled": true
   },
   "outputs": [
    {
     "data": {
      "text/plain": [
       "<matplotlib.collections.PathCollection at 0x1add2611470>"
      ]
     },
     "execution_count": 7,
     "metadata": {},
     "output_type": "execute_result"
    },
    {
     "data": {
      "image/png": "[encoded data removed]",
      "text/plain": [
       "<Figure size 432x288 with 1 Axes>"
      ]
     },
     "metadata": {
      "needs_background": "light"
     },
     "output_type": "display_data"
    }
   ],
   "source": [
    "#Reduce total to 100 components\n",
    "\n",
    "umap_a = UMAP(n_components= 100, random_state= 123)\n",
    "umap_results_a = umap_a.fit_transform(X_std)\n",
    "\n",
    "plt.scatter(umap_results_a[:, 0],umap_results_a[:, 1])"
   ]
  },
  {
   "cell_type": "code",
   "execution_count": 8,
   "metadata": {},
   "outputs": [
    {
     "data": {
      "text/plain": [
       "<matplotlib.collections.PathCollection at 0x1add3c39e10>"
      ]
     },
     "execution_count": 8,
     "metadata": {},
     "output_type": "execute_result"
    },
    {
     "data": {
      "image/png": "[encoded data removed]",
      "text/plain": [
       "<Figure size 432x288 with 1 Axes>"
      ]
     },
     "metadata": {
      "needs_background": "light"
     },
     "output_type": "display_data"
    }
   ],
   "source": [
    "#Reduce 100 components to 20 components\n",
    "\n",
    "umap_b = UMAP(n_components= 20, random_state= 123)\n",
    "umap_results_b = umap_b.fit_transform(umap_results_a)\n",
    "\n",
    "plt.scatter(umap_results_b[:, 0],umap_results_b[:, 1])"
   ]
  },
  {
   "cell_type": "code",
   "execution_count": 9,
   "metadata": {},
   "outputs": [
    {
     "data": {
      "text/plain": [
       "<matplotlib.collections.PathCollection at 0x1add3c8b9b0>"
      ]
     },
     "execution_count": 9,
     "metadata": {},
     "output_type": "execute_result"
    },
    {
     "data": {
      "image/png": "[encoded data removed]",
      "text/plain": [
       "<Figure size 432x288 with 1 Axes>"
      ]
     },
     "metadata": {
      "needs_background": "light"
     },
     "output_type": "display_data"
    }
   ],
   "source": [
    "#Reduce 20 components to 2 components\n",
    "\n",
    "umap_c = UMAP(n_components= 2, random_state= 123)\n",
    "umap_results_c = umap_c.fit_transform(umap_results_b)\n",
    "\n",
    "plt.scatter(umap_results_c[:, 0],umap_results_c[:, 1])"
   ]
  },
  {
   "cell_type": "markdown",
   "metadata": {},
   "source": [
    "# UMAP Dimension Reduction (20 Components)"
   ]
  },
  {
   "cell_type": "code",
   "execution_count": 10,
   "metadata": {
    "scrolled": true
   },
   "outputs": [
    {
     "data": {
      "text/plain": [
       "<matplotlib.collections.PathCollection at 0x1add3cd9e80>"
      ]
     },
     "execution_count": 10,
     "metadata": {},
     "output_type": "execute_result"
    },
    {
     "data": {
      "image/png": "[encoded data removed]",
      "text/plain": [
       "<Figure size 432x288 with 1 Axes>"
      ]
     },
     "metadata": {
      "needs_background": "light"
     },
     "output_type": "display_data"
    }
   ],
   "source": [
    "#Reduce total to 20 components\n",
    "\n",
    "umap_1a = UMAP(n_components= 20, random_state= 123)\n",
    "umap_results_1a = umap_1a.fit_transform(X_std)\n",
    "\n",
    "plt.scatter(umap_results_1a[:, 0],umap_results_1a[:, 1])"
   ]
  },
  {
   "cell_type": "code",
   "execution_count": 11,
   "metadata": {
    "scrolled": true
   },
   "outputs": [
    {
     "data": {
      "text/plain": [
       "<matplotlib.collections.PathCollection at 0x1add3d34208>"
      ]
     },
     "execution_count": 11,
     "metadata": {},
     "output_type": "execute_result"
    },
    {
     "data": {
      "image/png": "[encoded data removed]",
      "text/plain": [
       "<Figure size 432x288 with 1 Axes>"
      ]
     },
     "metadata": {
      "needs_background": "light"
     },
     "output_type": "display_data"
    }
   ],
   "source": [
    "#Reduce 20 components to 2 components\n",
    "\n",
    "umap_1b = UMAP(n_components= 2, random_state= 123)\n",
    "umap_results_1b = umap_1b.fit_transform(umap_results_1a)\n",
    "\n",
    "plt.scatter(umap_results_1b[:, 0],umap_results_1b[:, 1])"
   ]
  },
  {
   "cell_type": "markdown",
   "metadata": {},
   "source": [
    "# UMAP Dimension Reduction (2 Components)"
   ]
  },
  {
   "cell_type": "code",
   "execution_count": 12,
   "metadata": {},
   "outputs": [
    {
     "data": {
      "text/plain": [
       "<matplotlib.collections.PathCollection at 0x1add208cef0>"
      ]
     },
     "execution_count": 12,
     "metadata": {},
     "output_type": "execute_result"
    },
    {
     "data": {
      "image/png": "[encoded data removed]",
      "text/plain": [
       "<Figure size 432x288 with 1 Axes>"
      ]
     },
     "metadata": {
      "needs_background": "light"
     },
     "output_type": "display_data"
    }
   ],
   "source": [
    "#Reduce total to 2 components\n",
    "\n",
    "umap_2 = UMAP(n_components= 2, random_state= 123)\n",
    "umap_results_2 = umap_2.fit_transform(X_std)\n",
    "\n",
    "plt.scatter(umap_results_2[:, 0],umap_results_2[:, 1])"
   ]
  },
  {
   "cell_type": "markdown",
   "metadata": {},
   "source": [
    "# K-Means Clustering"
   ]
  },
  {
   "cell_type": "code",
   "execution_count": 13,
   "metadata": {},
   "outputs": [
    {
     "data": {
      "text/plain": [
       "[<matplotlib.lines.Line2D at 0x1add2891860>]"
      ]
     },
     "execution_count": 13,
     "metadata": {},
     "output_type": "execute_result"
    },
    {
     "data": {
      "image/png": "[encoded data removed]",
      "text/plain": [
       "<Figure size 432x288 with 1 Axes>"
      ]
     },
     "metadata": {
      "needs_background": "light"
     },
     "output_type": "display_data"
    }
   ],
   "source": [
    "#Elbow plot to optimal numder of clusters\n",
    "\n",
    "n_clusters=30\n",
    "cost=[]\n",
    "for i in range(1,n_clusters):\n",
    "    kmean= KMeans(i, random_state= 123)\n",
    "    kmean.fit(X_std)\n",
    "    cost.append(kmean.inertia_)\n",
    "\n",
    "plt.plot(cost, 'bx-')"
   ]
  },
  {
   "cell_type": "code",
   "execution_count": 86,
   "metadata": {},
   "outputs": [
    {
     "data": {
      "text/plain": [
       "0.3114235926299261"
      ]
     },
     "execution_count": 86,
     "metadata": {},
     "output_type": "execute_result"
    }
   ],
   "source": [
    "#Clustering using all features\n",
    "\n",
    "k_means = KMeans(n_clusters=2, random_state=123)\n",
    "y_pred = k_means.fit_predict(X_std)\n",
    "\n",
    "metrics.silhouette_score(X_std, y_pred)"
   ]
  },
  {
   "cell_type": "code",
   "execution_count": 89,
   "metadata": {},
   "outputs": [
    {
     "data": {
      "text/plain": [
       "0.66093415"
      ]
     },
     "execution_count": 89,
     "metadata": {},
     "output_type": "execute_result"
    }
   ],
   "source": [
    "#Clustering using 100 features\n",
    "\n",
    "k_means_a = KMeans(n_clusters=3, random_state=123)\n",
    "y_pred_a = k_means_a.fit_predict(umap_results_a)\n",
    "\n",
    "metrics.silhouette_score(umap_results_a, y_pred_a)"
   ]
  },
  {
   "cell_type": "code",
   "execution_count": 97,
   "metadata": {},
   "outputs": [
    {
     "data": {
      "text/plain": [
       "0.73138136"
      ]
     },
     "execution_count": 97,
     "metadata": {},
     "output_type": "execute_result"
    }
   ],
   "source": [
    "#Clustering using 20 from 100 features\n",
    "\n",
    "k_means_b = KMeans(n_clusters=3, random_state=123)\n",
    "y_pred_b = k_means_b.fit_predict(umap_results_b)\n",
    "\n",
    "metrics.silhouette_score(umap_results_b, y_pred_b)"
   ]
  },
  {
   "cell_type": "code",
   "execution_count": 111,
   "metadata": {},
   "outputs": [
    {
     "data": {
      "text/plain": [
       "0.7927686"
      ]
     },
     "execution_count": 111,
     "metadata": {},
     "output_type": "execute_result"
    }
   ],
   "source": [
    "#Clustering using 2 from 20 from 100 features\n",
    "\n",
    "k_means_c = KMeans(n_clusters=6, random_state=123)\n",
    "y_pred_c = k_means_c.fit_predict(umap_results_c)\n",
    "\n",
    "metrics.silhouette_score(umap_results_c, y_pred_c)"
   ]
  },
  {
   "cell_type": "code",
   "execution_count": 112,
   "metadata": {},
   "outputs": [
    {
     "data": {
      "text/plain": [
       "<matplotlib.collections.PathCollection at 0x1adda088780>"
      ]
     },
     "execution_count": 112,
     "metadata": {},
     "output_type": "execute_result"
    },
    {
     "data": {
      "image/png": "[encoded data removed]",
      "text/plain": [
       "<Figure size 432x288 with 1 Axes>"
      ]
     },
     "metadata": {
      "needs_background": "light"
     },
     "output_type": "display_data"
    }
   ],
   "source": [
    "plt.scatter(umap_results_c[:, 0],umap_results_c[:, 1], c = y_pred_c)"
   ]
  },
  {
   "cell_type": "code",
   "execution_count": 113,
   "metadata": {},
   "outputs": [],
   "source": [
    "X['K-Means Clusters'] = y_pred_c"
   ]
  },
  {
   "cell_type": "code",
   "execution_count": 116,
   "metadata": {},
   "outputs": [
    {
     "data": {
      "text/plain": [
       "0.6553693"
      ]
     },
     "execution_count": 116,
     "metadata": {},
     "output_type": "execute_result"
    }
   ],
   "source": [
    "#Clustering using 20 Components(UMAP)\n",
    "\n",
    "k_means_1a = KMeans(n_clusters=3, random_state=123)\n",
    "y_pred_1a = k_means_1a.fit_predict(umap_results_1a)\n",
    "\n",
    "metrics.silhouette_score(umap_results_1a, y_pred_1a)"
   ]
  },
  {
   "cell_type": "code",
   "execution_count": 119,
   "metadata": {},
   "outputs": [
    {
     "data": {
      "text/plain": [
       "0.71128565"
      ]
     },
     "execution_count": 119,
     "metadata": {},
     "output_type": "execute_result"
    }
   ],
   "source": [
    "#Clustering using 2 Components(UMAP) reduced from 20 Components(UMAP)\n",
    "\n",
    "k_means_1b = KMeans(n_clusters=2, random_state=123)\n",
    "y_pred_1b = k_means_1b.fit_predict(umap_results_1b)\n",
    "\n",
    "metrics.silhouette_score(umap_results_1b, y_pred_1b)"
   ]
  },
  {
   "cell_type": "code",
   "execution_count": 122,
   "metadata": {},
   "outputs": [
    {
     "data": {
      "text/plain": [
       "0.65564454"
      ]
     },
     "execution_count": 122,
     "metadata": {},
     "output_type": "execute_result"
    }
   ],
   "source": [
    "#Clustering using 2 Components\n",
    "\n",
    "k_means_2 = KMeans(n_clusters=3, random_state=123)\n",
    "y_pred_2 = k_means_2.fit_predict(umap_results_2)\n",
    "\n",
    "metrics.silhouette_score(umap_results_2, y_pred_2)"
   ]
  },
  {
   "cell_type": "markdown",
   "metadata": {},
   "source": [
    "# Hierarchical Clustering"
   ]
  },
  {
   "cell_type": "code",
   "execution_count": 23,
   "metadata": {},
   "outputs": [
    {
     "data": {
      "text/plain": [
       "0.3190156966338038"
      ]
     },
     "execution_count": 23,
     "metadata": {},
     "output_type": "execute_result"
    }
   ],
   "source": [
    "from sklearn.cluster import AgglomerativeClustering\n",
    "#Clustering using all features\n",
    "\n",
    "agg_cluster = AgglomerativeClustering(n_clusters=4, affinity= 'l1', linkage= 'average')\n",
    "clusters = agg_cluster.fit_predict(X_std)\n",
    "\n",
    "metrics.silhouette_score(X_std, clusters, metric= 'l1')"
   ]
  },
  {
   "cell_type": "code",
   "execution_count": 24,
   "metadata": {},
   "outputs": [
    {
     "data": {
      "text/plain": [
       "0.6637371530822682"
      ]
     },
     "execution_count": 24,
     "metadata": {},
     "output_type": "execute_result"
    }
   ],
   "source": [
    "#Clustering using 100 features\n",
    "\n",
    "agg_cluster_a = AgglomerativeClustering(n_clusters=3, affinity= 'l1', linkage= 'average')\n",
    "clusters_a = agg_cluster_a.fit_predict(umap_results_a)\n",
    "\n",
    "metrics.silhouette_score(umap_results_a, clusters_a, metric= 'l1')"
   ]
  },
  {
   "cell_type": "code",
   "execution_count": 127,
   "metadata": {},
   "outputs": [
    {
     "data": {
      "text/plain": [
       "0.583631986865034"
      ]
     },
     "execution_count": 127,
     "metadata": {},
     "output_type": "execute_result"
    }
   ],
   "source": [
    "#Clustering using 20 from 100 features\n",
    "\n",
    "agg_cluster_b = AgglomerativeClustering(n_clusters=6, affinity= 'l1', linkage= 'single')\n",
    "clusters_b = agg_cluster_b.fit_predict(umap_results_b)\n",
    "\n",
    "metrics.silhouette_score(umap_results_b, clusters_b, metric= 'l1')"
   ]
  },
  {
   "cell_type": "code",
   "execution_count": 130,
   "metadata": {},
   "outputs": [
    {
     "data": {
      "text/plain": [
       "0.8033322882293648"
      ]
     },
     "execution_count": 130,
     "metadata": {},
     "output_type": "execute_result"
    }
   ],
   "source": [
    "#Clustering using 2 from 20 from 100 features\n",
    "\n",
    "agg_cluster_c = AgglomerativeClustering(n_clusters = 6, affinity= 'l1', linkage= 'single')\n",
    "clusters_c = agg_cluster_c.fit_predict(umap_results_c)\n",
    "\n",
    "metrics.silhouette_score(umap_results_c, clusters_c, metric= 'l1')"
   ]
  },
  {
   "cell_type": "code",
   "execution_count": 131,
   "metadata": {},
   "outputs": [],
   "source": [
    "X['Hierarchical Clusters'] = clusters_c"
   ]
  },
  {
   "cell_type": "code",
   "execution_count": 132,
   "metadata": {},
   "outputs": [
    {
     "data": {
      "text/plain": [
       "<matplotlib.collections.PathCollection at 0x1adda08e668>"
      ]
     },
     "execution_count": 132,
     "metadata": {},
     "output_type": "execute_result"
    },
    {
     "data": {
      "image/png": "[encoded data removed]",
      "text/plain": [
       "<Figure size 432x288 with 1 Axes>"
      ]
     },
     "metadata": {
      "needs_background": "light"
     },
     "output_type": "display_data"
    }
   ],
   "source": [
    "plt.scatter(umap_results_c[:, 0],umap_results_c[:, 1], c = clusters_c)"
   ]
  },
  {
   "cell_type": "code",
   "execution_count": 29,
   "metadata": {},
   "outputs": [
    {
     "data": {
      "text/plain": [
       "0.6354046576349553"
      ]
     },
     "execution_count": 29,
     "metadata": {},
     "output_type": "execute_result"
    }
   ],
   "source": [
    "#Clustering using 20 components from total\n",
    "\n",
    "agg_cluster_1a = AgglomerativeClustering(n_clusters=3, affinity= 'l1', linkage= 'average')\n",
    "clusters_1a = agg_cluster_1a.fit_predict(umap_results_1a)\n",
    "\n",
    "metrics.silhouette_score(umap_results_1a, clusters_1a, metric= 'l1')"
   ]
  },
  {
   "cell_type": "code",
   "execution_count": 30,
   "metadata": {},
   "outputs": [
    {
     "data": {
      "text/plain": [
       "0.6724623021385344"
      ]
     },
     "execution_count": 30,
     "metadata": {},
     "output_type": "execute_result"
    }
   ],
   "source": [
    "#Clustering using 2 from 20 components\n",
    "\n",
    "agg_cluster_1b = AgglomerativeClustering(n_clusters=4, affinity= 'l1', linkage= 'average')\n",
    "clusters_1b = agg_cluster_1b.fit_predict(umap_results_1b)\n",
    "\n",
    "metrics.silhouette_score(umap_results_1b, clusters_1b, metric= 'l1')"
   ]
  },
  {
   "cell_type": "code",
   "execution_count": 31,
   "metadata": {},
   "outputs": [
    {
     "data": {
      "text/plain": [
       "0.6690560424459615"
      ]
     },
     "execution_count": 31,
     "metadata": {},
     "output_type": "execute_result"
    }
   ],
   "source": [
    "#Clustering using 2 components from total\n",
    "\n",
    "agg_cluster_2 = AgglomerativeClustering(n_clusters=3, affinity= 'l1', linkage= 'average')\n",
    "\n",
    "clusters_2 = agg_cluster_2.fit_predict(umap_results_2)\n",
    "\n",
    "metrics.silhouette_score(umap_results_2, clusters_2, metric= 'l1')"
   ]
  },
  {
   "cell_type": "markdown",
   "metadata": {},
   "source": [
    "# GMM"
   ]
  },
  {
   "cell_type": "code",
   "execution_count": 32,
   "metadata": {},
   "outputs": [
    {
     "data": {
      "text/plain": [
       "0.3114235926299261"
      ]
     },
     "execution_count": 32,
     "metadata": {},
     "output_type": "execute_result"
    }
   ],
   "source": [
    "from sklearn.mixture import GaussianMixture\n",
    "\n",
    "#Clustering using all features\n",
    "\n",
    "gmm_cluster = GaussianMixture(n_components=2 ,random_state=123)\n",
    "g_clusters = gmm_cluster.fit_predict(X_std)\n",
    "\n",
    "metrics.silhouette_score(X_std, g_clusters)"
   ]
  },
  {
   "cell_type": "code",
   "execution_count": 33,
   "metadata": {},
   "outputs": [
    {
     "data": {
      "text/plain": [
       "0.66093415"
      ]
     },
     "execution_count": 33,
     "metadata": {},
     "output_type": "execute_result"
    }
   ],
   "source": [
    "#Clustering using 100 features\n",
    "\n",
    "gmm_cluster_a = GaussianMixture(n_components=3 ,random_state=123)\n",
    "g_clusters_a = gmm_cluster_a.fit_predict(umap_results_a)\n",
    "\n",
    "metrics.silhouette_score(umap_results_a, g_clusters_a)"
   ]
  },
  {
   "cell_type": "code",
   "execution_count": 34,
   "metadata": {},
   "outputs": [
    {
     "data": {
      "text/plain": [
       "0.60595685"
      ]
     },
     "execution_count": 34,
     "metadata": {},
     "output_type": "execute_result"
    }
   ],
   "source": [
    "#Clustering using 20 from 100 features\n",
    "\n",
    "gmm_cluster_b = GaussianMixture(n_components=5,random_state=123)\n",
    "g_clusters_b = gmm_cluster_b.fit_predict(umap_results_b)\n",
    "\n",
    "metrics.silhouette_score(umap_results_b, g_clusters_b)"
   ]
  },
  {
   "cell_type": "code",
   "execution_count": 135,
   "metadata": {},
   "outputs": [
    {
     "data": {
      "text/plain": [
       "0.7927686"
      ]
     },
     "execution_count": 135,
     "metadata": {},
     "output_type": "execute_result"
    }
   ],
   "source": [
    "#Clustering using 2 from 20 from 100 features\n",
    "\n",
    "gmm_cluster_c = GaussianMixture(n_components=6,random_state=123)\n",
    "g_clusters_c = gmm_cluster_c.fit_predict(umap_results_c)\n",
    "\n",
    "metrics.silhouette_score(umap_results_c, g_clusters_c)"
   ]
  },
  {
   "cell_type": "code",
   "execution_count": 136,
   "metadata": {},
   "outputs": [],
   "source": [
    "X['Gaussian clusters'] = g_clusters_c"
   ]
  },
  {
   "cell_type": "code",
   "execution_count": 137,
   "metadata": {},
   "outputs": [
    {
     "data": {
      "text/plain": [
       "<matplotlib.collections.PathCollection at 0x1add80565f8>"
      ]
     },
     "execution_count": 137,
     "metadata": {},
     "output_type": "execute_result"
    },
    {
     "data": {
      "image/png": "[encoded data removed]",
      "text/plain": [
       "<Figure size 432x288 with 1 Axes>"
      ]
     },
     "metadata": {
      "needs_background": "light"
     },
     "output_type": "display_data"
    }
   ],
   "source": [
    "plt.scatter(umap_results_c[:, 0],umap_results_c[:, 1], c = g_clusters_c)"
   ]
  },
  {
   "cell_type": "code",
   "execution_count": 38,
   "metadata": {},
   "outputs": [
    {
     "data": {
      "text/plain": [
       "0.65422213"
      ]
     },
     "execution_count": 38,
     "metadata": {},
     "output_type": "execute_result"
    }
   ],
   "source": [
    "#Clustering using 20 components from total\n",
    "\n",
    "gmm_cluster_1a = GaussianMixture(n_components=3 ,random_state=123)\n",
    "g_clusters_1a = gmm_cluster_1a.fit_predict(umap_results_1a)\n",
    "\n",
    "metrics.silhouette_score(umap_results_1a, g_clusters_1a)"
   ]
  },
  {
   "cell_type": "code",
   "execution_count": 39,
   "metadata": {},
   "outputs": [
    {
     "data": {
      "text/plain": [
       "0.6875473"
      ]
     },
     "execution_count": 39,
     "metadata": {},
     "output_type": "execute_result"
    }
   ],
   "source": [
    "#Clustering using 2 from 20 components\n",
    "\n",
    "gmm_cluster_1b = GaussianMixture(n_components = 3,random_state=123)\n",
    "g_clusters_1b = gmm_cluster_1b.fit_predict(umap_results_1b)\n",
    "\n",
    "metrics.silhouette_score(umap_results_1b, g_clusters_1b)"
   ]
  },
  {
   "cell_type": "code",
   "execution_count": 40,
   "metadata": {},
   "outputs": [
    {
     "data": {
      "text/plain": [
       "0.6523085"
      ]
     },
     "execution_count": 40,
     "metadata": {},
     "output_type": "execute_result"
    }
   ],
   "source": [
    "#Clustering using 2 components from total\n",
    "\n",
    "gmm_cluster_2 = GaussianMixture(n_components=3 ,random_state=123)\n",
    "g_clusters_2 = gmm_cluster_2.fit_predict(umap_results_2)\n",
    "\n",
    "metrics.silhouette_score(umap_results_2, g_clusters_2)"
   ]
  },
  {
   "cell_type": "markdown",
   "metadata": {},
   "source": [
    "# Affinity Propagation"
   ]
  },
  {
   "cell_type": "code",
   "execution_count": 41,
   "metadata": {},
   "outputs": [
    {
     "data": {
      "text/plain": [
       "0.06848751090529363"
      ]
     },
     "execution_count": 41,
     "metadata": {},
     "output_type": "execute_result"
    }
   ],
   "source": [
    "from sklearn.cluster import AffinityPropagation\n",
    "\n",
    "aff_prop = AffinityPropagation(damping= 0.5)\n",
    "a_clusters = aff_prop.fit_predict(X_std)\n",
    "\n",
    "metrics.silhouette_score(X_std, a_clusters)"
   ]
  },
  {
   "cell_type": "code",
   "execution_count": 42,
   "metadata": {},
   "outputs": [
    {
     "data": {
      "text/plain": [
       "0.49990028"
      ]
     },
     "execution_count": 42,
     "metadata": {},
     "output_type": "execute_result"
    }
   ],
   "source": [
    "#Clustering using 100 features\n",
    "\n",
    "aff_prop_a = AffinityPropagation(damping= 0.7)\n",
    "a_clusters_a = aff_prop_a.fit_predict(umap_results_a)\n",
    "\n",
    "metrics.silhouette_score(umap_results_a, a_clusters_a)"
   ]
  },
  {
   "cell_type": "code",
   "execution_count": 43,
   "metadata": {},
   "outputs": [
    {
     "data": {
      "text/plain": [
       "0.63648"
      ]
     },
     "execution_count": 43,
     "metadata": {},
     "output_type": "execute_result"
    }
   ],
   "source": [
    "#Clustering using 20 from 100 features\n",
    "\n",
    "aff_prop_b = AffinityPropagation(damping= 0.7)\n",
    "a_clusters_b = aff_prop_b.fit_predict(umap_results_b)\n",
    "\n",
    "metrics.silhouette_score(umap_results_b, a_clusters_b)"
   ]
  },
  {
   "cell_type": "code",
   "execution_count": 145,
   "metadata": {},
   "outputs": [
    {
     "data": {
      "text/plain": [
       "0.7679223"
      ]
     },
     "execution_count": 145,
     "metadata": {},
     "output_type": "execute_result"
    }
   ],
   "source": [
    "#Clustering using 2 from 20 from 100 features\n",
    "\n",
    "aff_prop_c = AffinityPropagation(damping= 0.9)\n",
    "a_clusters_c = aff_prop_c.fit_predict(umap_results_c)\n",
    "\n",
    "metrics.silhouette_score(umap_results_c, a_clusters_c)"
   ]
  },
  {
   "cell_type": "code",
   "execution_count": 146,
   "metadata": {
    "scrolled": true
   },
   "outputs": [
    {
     "data": {
      "text/plain": [
       "<matplotlib.collections.PathCollection at 0x1add93fbeb8>"
      ]
     },
     "execution_count": 146,
     "metadata": {},
     "output_type": "execute_result"
    },
    {
     "data": {
      "image/png": "[encoded data removed]",
      "text/plain": [
       "<Figure size 432x288 with 1 Axes>"
      ]
     },
     "metadata": {
      "needs_background": "light"
     },
     "output_type": "display_data"
    }
   ],
   "source": [
    "plt.scatter(umap_results_c[:, 0],umap_results_c[:, 1], c = a_clusters_c)"
   ]
  },
  {
   "cell_type": "code",
   "execution_count": 46,
   "metadata": {},
   "outputs": [],
   "source": [
    "X['Affinity Clusters'] = a_clusters_c"
   ]
  },
  {
   "cell_type": "code",
   "execution_count": 47,
   "metadata": {},
   "outputs": [
    {
     "data": {
      "text/plain": [
       "0.39105588"
      ]
     },
     "execution_count": 47,
     "metadata": {},
     "output_type": "execute_result"
    }
   ],
   "source": [
    "#Clustering using 20 components from total\n",
    "\n",
    "aff_prop_1a = AffinityPropagation(damping= 0.6)\n",
    "a_clusters_1a = aff_prop_1a.fit_predict(umap_results_1a)\n",
    "\n",
    "metrics.silhouette_score(umap_results_1a, a_clusters_1a)"
   ]
  },
  {
   "cell_type": "code",
   "execution_count": 48,
   "metadata": {},
   "outputs": [
    {
     "data": {
      "text/plain": [
       "0.63299996"
      ]
     },
     "execution_count": 48,
     "metadata": {},
     "output_type": "execute_result"
    }
   ],
   "source": [
    "#Clustering using 2 from 20 components\n",
    "\n",
    "aff_prop_1b = AffinityPropagation(damping= 0.6)\n",
    "a_clusters_1b = aff_prop_1b.fit_predict(umap_results_1b)\n",
    "\n",
    "metrics.silhouette_score(umap_results_1b, a_clusters_1b)"
   ]
  },
  {
   "cell_type": "code",
   "execution_count": 49,
   "metadata": {},
   "outputs": [
    {
     "data": {
      "text/plain": [
       "0.46441433"
      ]
     },
     "execution_count": 49,
     "metadata": {},
     "output_type": "execute_result"
    }
   ],
   "source": [
    "aff_prop = AffinityPropagation(damping= 0.5)\n",
    "a_clusters_2 = aff_prop.fit_predict(umap_results_2)\n",
    "\n",
    "metrics.silhouette_score(umap_results_2, a_clusters_2)"
   ]
  },
  {
   "cell_type": "markdown",
   "metadata": {},
   "source": [
    "# Mean Shift"
   ]
  },
  {
   "cell_type": "code",
   "execution_count": 50,
   "metadata": {},
   "outputs": [
    {
     "data": {
      "text/plain": [
       "0.32148127090266077"
      ]
     },
     "execution_count": 50,
     "metadata": {},
     "output_type": "execute_result"
    }
   ],
   "source": [
    "from sklearn.cluster import MeanShift\n",
    "\n",
    "mn_shft = MeanShift(bandwidth=22)\n",
    "m_clusters = mn_shft.fit_predict(X_std)\n",
    "\n",
    "metrics.silhouette_score(X_std, m_clusters)"
   ]
  },
  {
   "cell_type": "code",
   "execution_count": 51,
   "metadata": {},
   "outputs": [
    {
     "data": {
      "text/plain": [
       "0.65843946"
      ]
     },
     "execution_count": 51,
     "metadata": {},
     "output_type": "execute_result"
    }
   ],
   "source": [
    "#Clustering using 100 features\n",
    "\n",
    "mn_shft_a = MeanShift(bandwidth = 1.9)\n",
    "m_clusters_a = mn_shft_a.fit_predict(umap_results_a)\n",
    "\n",
    "metrics.silhouette_score(umap_results_a, m_clusters_a)"
   ]
  },
  {
   "cell_type": "code",
   "execution_count": 52,
   "metadata": {},
   "outputs": [
    {
     "data": {
      "text/plain": [
       "0.6699235"
      ]
     },
     "execution_count": 52,
     "metadata": {},
     "output_type": "execute_result"
    }
   ],
   "source": [
    "#Clustering using 20 from 100 features\n",
    "\n",
    "mn_shft_b = MeanShift(bandwidth = 3)\n",
    "m_clusters_b = mn_shft_b.fit_predict(umap_results_b)\n",
    "\n",
    "metrics.silhouette_score(umap_results_b, m_clusters_b)"
   ]
  },
  {
   "cell_type": "code",
   "execution_count": 162,
   "metadata": {},
   "outputs": [
    {
     "data": {
      "text/plain": [
       "0.7927686"
      ]
     },
     "execution_count": 162,
     "metadata": {},
     "output_type": "execute_result"
    }
   ],
   "source": [
    "#Clustering using 2 from 20 from 100 features\n",
    "\n",
    "mn_shft_c = MeanShift(bandwidth = 5)\n",
    "m_clusters_c = mn_shft_c.fit_predict(umap_results_c)\n",
    "\n",
    "metrics.silhouette_score(umap_results_c, m_clusters_c)"
   ]
  },
  {
   "cell_type": "code",
   "execution_count": 163,
   "metadata": {},
   "outputs": [],
   "source": [
    "X['Mean Shift Clusters'] = m_clusters_c"
   ]
  },
  {
   "cell_type": "code",
   "execution_count": 164,
   "metadata": {},
   "outputs": [
    {
     "data": {
      "text/plain": [
       "<matplotlib.collections.PathCollection at 0x1add8e7d2e8>"
      ]
     },
     "execution_count": 164,
     "metadata": {},
     "output_type": "execute_result"
    },
    {
     "data": {
      "image/png": "[encoded data removed]",
      "text/plain": [
       "<Figure size 432x288 with 1 Axes>"
      ]
     },
     "metadata": {
      "needs_background": "light"
     },
     "output_type": "display_data"
    }
   ],
   "source": [
    "plt.scatter(umap_results_c[:, 0],umap_results_c[:, 1], c = m_clusters_c)"
   ]
  },
  {
   "cell_type": "code",
   "execution_count": 56,
   "metadata": {},
   "outputs": [
    {
     "data": {
      "text/plain": [
       "0.6537091"
      ]
     },
     "execution_count": 56,
     "metadata": {},
     "output_type": "execute_result"
    }
   ],
   "source": [
    "#Clustering using 20 components from total\n",
    "\n",
    "mn_shft_1a = MeanShift(bandwidth= 2)\n",
    "m_clusters_1a = mn_shft_1a.fit_predict(umap_results_1a)\n",
    "\n",
    "metrics.silhouette_score(umap_results_1a, m_clusters_1a)"
   ]
  },
  {
   "cell_type": "code",
   "execution_count": 57,
   "metadata": {},
   "outputs": [
    {
     "data": {
      "text/plain": [
       "0.6875473"
      ]
     },
     "execution_count": 57,
     "metadata": {},
     "output_type": "execute_result"
    }
   ],
   "source": [
    "#Clustering using 2 from 20 components\n",
    "\n",
    "mn_shft_1b = MeanShift(bandwidth=3)\n",
    "m_clusters_1b = mn_shft_1b.fit_predict(umap_results_1b)\n",
    "\n",
    "metrics.silhouette_score(umap_results_1b, m_clusters_1b)"
   ]
  },
  {
   "cell_type": "code",
   "execution_count": 58,
   "metadata": {},
   "outputs": [
    {
     "data": {
      "text/plain": [
       "0.65564454"
      ]
     },
     "execution_count": 58,
     "metadata": {},
     "output_type": "execute_result"
    }
   ],
   "source": [
    "#Clustering using 2 components from total\n",
    "\n",
    "mn_shft_2 = MeanShift(bandwidth= 2.2)\n",
    "m_clusters_2 = mn_shft_2.fit_predict(umap_results_2)\n",
    "metrics.silhouette_score(umap_results_2, m_clusters_2)"
   ]
  },
  {
   "cell_type": "markdown",
   "metadata": {},
   "source": [
    "# DBSCAN"
   ]
  },
  {
   "cell_type": "code",
   "execution_count": 59,
   "metadata": {},
   "outputs": [
    {
     "data": {
      "text/plain": [
       "0.3812665695321814"
      ]
     },
     "execution_count": 59,
     "metadata": {},
     "output_type": "execute_result"
    }
   ],
   "source": [
    "from sklearn.cluster import DBSCAN\n",
    "\n",
    "dbscan = DBSCAN(eps= 24.7)\n",
    "d_clusters = dbscan.fit_predict(X_std)\n",
    "\n",
    "metrics.silhouette_score(X_std, d_clusters)"
   ]
  },
  {
   "cell_type": "code",
   "execution_count": 60,
   "metadata": {},
   "outputs": [
    {
     "data": {
      "text/plain": [
       "0.50257576"
      ]
     },
     "execution_count": 60,
     "metadata": {},
     "output_type": "execute_result"
    }
   ],
   "source": [
    "#Clustering using 100 features\n",
    "\n",
    "dbscan_a = DBSCAN(eps= .6)\n",
    "d_clusters_a = dbscan_a.fit_predict(umap_results_a)\n",
    "\n",
    "metrics.silhouette_score(umap_results_a, d_clusters_a)"
   ]
  },
  {
   "cell_type": "code",
   "execution_count": 61,
   "metadata": {},
   "outputs": [
    {
     "data": {
      "text/plain": [
       "0.43900996"
      ]
     },
     "execution_count": 61,
     "metadata": {},
     "output_type": "execute_result"
    }
   ],
   "source": [
    "#Clustering using 20 from 100 features\n",
    "\n",
    "dbscan_b = DBSCAN(eps= 2)\n",
    "d_clusters_b = dbscan_b.fit_predict(umap_results_b)\n",
    "\n",
    "metrics.silhouette_score(umap_results_b, d_clusters_b)"
   ]
  },
  {
   "cell_type": "code",
   "execution_count": 171,
   "metadata": {},
   "outputs": [
    {
     "data": {
      "text/plain": [
       "0.7927686"
      ]
     },
     "execution_count": 171,
     "metadata": {},
     "output_type": "execute_result"
    }
   ],
   "source": [
    "#Clustering using 2 from 20 from 100 features\n",
    "\n",
    "dbscan_c = DBSCAN(eps= 2)\n",
    "d_clusters_c = dbscan_c.fit_predict(umap_results_c)\n",
    "\n",
    "metrics.silhouette_score(umap_results_c, d_clusters_c)"
   ]
  },
  {
   "cell_type": "code",
   "execution_count": 172,
   "metadata": {},
   "outputs": [],
   "source": [
    "X['DBSCAN Clusters'] = d_clusters_c"
   ]
  },
  {
   "cell_type": "code",
   "execution_count": 173,
   "metadata": {},
   "outputs": [
    {
     "data": {
      "text/plain": [
       "<matplotlib.collections.PathCollection at 0x1add9d705f8>"
      ]
     },
     "execution_count": 173,
     "metadata": {},
     "output_type": "execute_result"
    },
    {
     "data": {
      "image/png": "[encoded data removed]",
      "text/plain": [
       "<Figure size 432x288 with 1 Axes>"
      ]
     },
     "metadata": {
      "needs_background": "light"
     },
     "output_type": "display_data"
    }
   ],
   "source": [
    "plt.scatter(umap_results_c[:, 0],umap_results_c[:, 1], c = d_clusters_c)"
   ]
  },
  {
   "cell_type": "code",
   "execution_count": 65,
   "metadata": {},
   "outputs": [
    {
     "data": {
      "text/plain": [
       "0.50136983"
      ]
     },
     "execution_count": 65,
     "metadata": {},
     "output_type": "execute_result"
    }
   ],
   "source": [
    "#Clustering using 20 components from total\n",
    "\n",
    "dbscan_1a = DBSCAN(eps= .6)\n",
    "d_clusters_1a = dbscan_1a.fit_predict(umap_results_1a)\n",
    "\n",
    "metrics.silhouette_score(umap_results_1a, d_clusters_1a)"
   ]
  },
  {
   "cell_type": "code",
   "execution_count": 66,
   "metadata": {},
   "outputs": [
    {
     "data": {
      "text/plain": [
       "0.71128565"
      ]
     },
     "execution_count": 66,
     "metadata": {},
     "output_type": "execute_result"
    }
   ],
   "source": [
    "#Clustering using 2 from 20 components\n",
    "\n",
    "dbscan_1b = DBSCAN(eps= 6)\n",
    "d_clusters_1b = dbscan_1b.fit_predict(umap_results_1b)\n",
    "\n",
    "metrics.silhouette_score(umap_results_1b, d_clusters_1b)"
   ]
  },
  {
   "cell_type": "code",
   "execution_count": 67,
   "metadata": {},
   "outputs": [
    {
     "data": {
      "text/plain": [
       "0.45575762"
      ]
     },
     "execution_count": 67,
     "metadata": {},
     "output_type": "execute_result"
    }
   ],
   "source": [
    "#Clustering using 2 components from total\n",
    "\n",
    "dbscan_2 = DBSCAN(eps= .39)\n",
    "d_clusters_2 = dbscan_2.fit_predict(umap_results_2)\n",
    "\n",
    "metrics.silhouette_score(umap_results_2, d_clusters_2)"
   ]
  },
  {
   "cell_type": "code",
   "execution_count": 181,
   "metadata": {},
   "outputs": [],
   "source": [
    "autumngothic = [\"#001524\", \"#15616D\", \"#FFECD1\", \"#FF7D00\", \"#78290F\"]\n",
    "\n",
    "palette = ['#4B3F72','#AB81CD','#1F7A8C','#03B5AA', '#A3E7FC']"
   ]
  },
  {
   "cell_type": "code",
   "execution_count": 182,
   "metadata": {},
   "outputs": [
    {
     "data": {
      "application/vnd.plotly.v1+json": {
       "config": {
        "plotlyServerURL": "https://plot.ly"
       },
       "data": [
        {
         "coloraxis": "coloraxis",
         "geo": "geo",
         "hoverlabel": {
          "namelength": 0
         },
         "hovertemplate": "Country Code=%{location}<br>Hierarchical Clusters=%{z}",
         "locations": [
          "NOR",
          "CHE",
          "IRL",
          "DEU",
          "HKG",
          "AUS",
          "ISL",
          "SWE",
          "SGP",
          "NLD",
          "DNK",
          "FIN",
          "CAN",
          "NZL",
          "GBR",
          "USA",
          "BEL",
          "LIE",
          "JPN",
          "AUT",
          "LUX",
          "ISR",
          "KOR",
          "SVN",
          "ESP",
          "CZE",
          "FRA",
          "MLT",
          "ITA",
          "EST",
          "CYP",
          "GRC",
          "POL",
          "LTU",
          "ARE",
          "AND",
          "SAU",
          "SVK",
          "LVA",
          "PRT",
          "QAT",
          "CHL",
          "BRN",
          "HUN",
          "BHR",
          "HRV",
          "OMN",
          "ARG",
          "RUS",
          "BLR",
          "KAZ",
          "BGR",
          "MNE",
          "ROU",
          "PLW",
          "BRB",
          "KWT",
          "URY",
          "TUR",
          "BHS",
          "MYS",
          "SYC",
          "SRB",
          "TTO",
          "IRN",
          "MUS",
          "PAN",
          "CRI",
          "ALB",
          "GEO",
          "LKA",
          "CUB",
          "KNA",
          "ATG",
          "BIH",
          "MEX",
          "THA",
          "GRD",
          "BRA",
          "COL",
          "ARM",
          "DZA",
          "MKD",
          "PER",
          "CHN",
          "ECU",
          "AZE",
          "UKR",
          "DOM",
          "LCA",
          "TUN",
          "MNG",
          "LBN",
          "BWA",
          "VCT",
          "JAM",
          "VEN",
          "DMA",
          "FJI",
          "PRY",
          "SUR",
          "JOR",
          "BLZ",
          "MDV",
          "TON",
          "PHL",
          "MDA",
          "TKM",
          "UZB",
          "LBY",
          "IDN",
          "WSM",
          "ZAF",
          "BOL",
          "GAB",
          "EGY",
          "MHL",
          "VNM",
          "PSE",
          "IRQ",
          "MAR",
          "KGZ",
          "GUY",
          "SLV",
          "TJK",
          "CPV",
          "GTM",
          "NIC",
          "IND",
          "NAM",
          "TLS",
          "HND",
          "KIR",
          "BTN",
          "BGD",
          "FSM",
          "STP",
          "COG",
          "SWZ",
          "LAO",
          "VUT",
          "GHA",
          "ZMB",
          "GNQ",
          "MMR",
          "KHM",
          "KEN",
          "NPL",
          "AGO",
          "CMR",
          "ZWE",
          "PAK",
          "SLB",
          "SYR",
          "PNG",
          "COM",
          "RWA",
          "NGA",
          "TZA",
          "UGA",
          "MRT",
          "MDG",
          "BEN",
          "LSO",
          "CIV",
          "SEN",
          "TGO",
          "SDN",
          "HTI",
          "AFG",
          "DJI",
          "MWI",
          "ETH",
          "GMB",
          "GIN",
          "LBR",
          "YEM",
          "GNB",
          "COD",
          "MOZ",
          "SLE",
          "BFA",
          "ERI",
          "MLI",
          "BDI",
          "SSD",
          "TCD",
          "CAF",
          "NER"
         ],
         "name": "",
         "type": "choropleth",
         "z": [
          0,
          0,
          0,
          0,
          0,
          0,
          0,
          0,
          0,
          0,
          0,
          0,
          0,
          0,
          0,
          0,
          0,
          3,
          0,
          0,
          0,
          0,
          0,
          0,
          0,
          0,
          0,
          0,
          0,
          0,
          0,
          0,
          0,
          0,
          3,
          0,
          3,
          0,
          0,
          0,
          3,
          2,
          3,
          0,
          3,
          0,
          3,
          2,
          0,
          0,
          0,
          0,
          0,
          0,
          2,
          2,
          3,
          2,
          5,
          2,
          2,
          2,
          0,
          2,
          5,
          2,
          1,
          2,
          0,
          0,
          2,
          2,
          2,
          2,
          0,
          1,
          2,
          2,
          1,
          1,
          0,
          5,
          0,
          1,
          1,
          1,
          2,
          0,
          1,
          2,
          5,
          0,
          5,
          1,
          2,
          1,
          1,
          1,
          1,
          1,
          1,
          5,
          1,
          2,
          1,
          1,
          0,
          1,
          1,
          5,
          1,
          1,
          1,
          1,
          1,
          5,
          1,
          1,
          5,
          5,
          5,
          1,
          1,
          1,
          1,
          1,
          1,
          1,
          1,
          1,
          1,
          1,
          1,
          1,
          1,
          1,
          1,
          1,
          1,
          1,
          1,
          4,
          4,
          4,
          4,
          4,
          4,
          4,
          4,
          4,
          4,
          4,
          4,
          4,
          4,
          4,
          4,
          4,
          4,
          4,
          4,
          4,
          4,
          4,
          4,
          4,
          4,
          4,
          4,
          4,
          4,
          4,
          4,
          4,
          4,
          4,
          4,
          4,
          4,
          4,
          4,
          4,
          4,
          4,
          4,
          4,
          4,
          4,
          4
         ]
        }
       ],
       "layout": {
        "coloraxis": {
         "colorbar": {
          "title": {
           "text": "Hierarchical Clusters"
          }
         },
         "colorscale": [
          [
           0,
           "#4B3F72"
          ],
          [
           0.25,
           "#AB81CD"
          ],
          [
           0.5,
           "#1F7A8C"
          ],
          [
           0.75,
           "#03B5AA"
          ],
          [
           1,
           "#A3E7FC"
          ]
         ]
        },
        "geo": {
         "center": {},
         "domain": {
          "x": [
           0,
           1
          ],
          "y": [
           0,
           1
          ]
         }
        },
        "height": 600,
        "legend": {
         "tracegroupgap": 0
        },
        "margin": {
         "t": 60
        },
        "template": {
         "data": {
          "bar": [
           {
            "error_x": {
             "color": "#2a3f5f"
            },
            "error_y": {
             "color": "#2a3f5f"
            },
            "marker": {
             "line": {
              "color": "#E5ECF6",
              "width": 0.5
             }
            },
            "type": "bar"
           }
          ],
          "barpolar": [
           {
            "marker": {
             "line": {
              "color": "#E5ECF6",
              "width": 0.5
             }
            },
            "type": "barpolar"
           }
          ],
          "carpet": [
           {
            "aaxis": {
             "endlinecolor": "#2a3f5f",
             "gridcolor": "white",
             "linecolor": "white",
             "minorgridcolor": "white",
             "startlinecolor": "#2a3f5f"
            },
            "baxis": {
             "endlinecolor": "#2a3f5f",
             "gridcolor": "white",
             "linecolor": "white",
             "minorgridcolor": "white",
             "startlinecolor": "#2a3f5f"
            },
            "type": "carpet"
           }
          ],
          "choropleth": [
           {
            "colorbar": {
             "outlinewidth": 0,
             "ticks": ""
            },
            "type": "choropleth"
           }
          ],
          "contour": [
           {
            "colorbar": {
             "outlinewidth": 0,
             "ticks": ""
            },
            "colorscale": [
             [
              0,
              "#0d0887"
             ],
             [
              0.1111111111111111,
              "#46039f"
             ],
             [
              0.2222222222222222,
              "#7201a8"
             ],
             [
              0.3333333333333333,
              "#9c179e"
             ],
             [
              0.4444444444444444,
              "#bd3786"
             ],
             [
              0.5555555555555556,
              "#d8576b"
             ],
             [
              0.6666666666666666,
              "#ed7953"
             ],
             [
              0.7777777777777778,
              "#fb9f3a"
             ],
             [
              0.8888888888888888,
              "#fdca26"
             ],
             [
              1,
              "#f0f921"
             ]
            ],
            "type": "contour"
           }
          ],
          "contourcarpet": [
           {
            "colorbar": {
             "outlinewidth": 0,
             "ticks": ""
            },
            "type": "contourcarpet"
           }
          ],
          "heatmap": [
           {
            "colorbar": {
             "outlinewidth": 0,
             "ticks": ""
            },
            "colorscale": [
             [
              0,
              "#0d0887"
             ],
             [
              0.1111111111111111,
              "#46039f"
             ],
             [
              0.2222222222222222,
              "#7201a8"
             ],
             [
              0.3333333333333333,
              "#9c179e"
             ],
             [
              0.4444444444444444,
              "#bd3786"
             ],
             [
              0.5555555555555556,
              "#d8576b"
             ],
             [
              0.6666666666666666,
              "#ed7953"
             ],
             [
              0.7777777777777778,
              "#fb9f3a"
             ],
             [
              0.8888888888888888,
              "#fdca26"
             ],
             [
              1,
              "#f0f921"
             ]
            ],
            "type": "heatmap"
           }
          ],
          "heatmapgl": [
           {
            "colorbar": {
             "outlinewidth": 0,
             "ticks": ""
            },
            "colorscale": [
             [
              0,
              "#0d0887"
             ],
             [
              0.1111111111111111,
              "#46039f"
             ],
             [
              0.2222222222222222,
              "#7201a8"
             ],
             [
              0.3333333333333333,
              "#9c179e"
             ],
             [
              0.4444444444444444,
              "#bd3786"
             ],
             [
              0.5555555555555556,
              "#d8576b"
             ],
             [
              0.6666666666666666,
              "#ed7953"
             ],
             [
              0.7777777777777778,
              "#fb9f3a"
             ],
             [
              0.8888888888888888,
              "#fdca26"
             ],
             [
              1,
              "#f0f921"
             ]
            ],
            "type": "heatmapgl"
           }
          ],
          "histogram": [
           {
            "marker": {
             "colorbar": {
              "outlinewidth": 0,
              "ticks": ""
             }
            },
            "type": "histogram"
           }
          ],
          "histogram2d": [
           {
            "colorbar": {
             "outlinewidth": 0,
             "ticks": ""
            },
            "colorscale": [
             [
              0,
              "#0d0887"
             ],
             [
              0.1111111111111111,
              "#46039f"
             ],
             [
              0.2222222222222222,
              "#7201a8"
             ],
             [
              0.3333333333333333,
              "#9c179e"
             ],
             [
              0.4444444444444444,
              "#bd3786"
             ],
             [
              0.5555555555555556,
              "#d8576b"
             ],
             [
              0.6666666666666666,
              "#ed7953"
             ],
             [
              0.7777777777777778,
              "#fb9f3a"
             ],
             [
              0.8888888888888888,
              "#fdca26"
             ],
             [
              1,
              "#f0f921"
             ]
            ],
            "type": "histogram2d"
           }
          ],
          "histogram2dcontour": [
           {
            "colorbar": {
             "outlinewidth": 0,
             "ticks": ""
            },
            "colorscale": [
             [
              0,
              "#0d0887"
             ],
             [
              0.1111111111111111,
              "#46039f"
             ],
             [
              0.2222222222222222,
              "#7201a8"
             ],
             [
              0.3333333333333333,
              "#9c179e"
             ],
             [
              0.4444444444444444,
              "#bd3786"
             ],
             [
              0.5555555555555556,
              "#d8576b"
             ],
             [
              0.6666666666666666,
              "#ed7953"
             ],
             [
              0.7777777777777778,
              "#fb9f3a"
             ],
             [
              0.8888888888888888,
              "#fdca26"
             ],
             [
              1,
              "#f0f921"
             ]
            ],
            "type": "histogram2dcontour"
           }
          ],
          "mesh3d": [
           {
            "colorbar": {
             "outlinewidth": 0,
             "ticks": ""
            },
            "type": "mesh3d"
           }
          ],
          "parcoords": [
           {
            "line": {
             "colorbar": {
              "outlinewidth": 0,
              "ticks": ""
             }
            },
            "type": "parcoords"
           }
          ],
          "pie": [
           {
            "automargin": true,
            "type": "pie"
           }
          ],
          "scatter": [
           {
            "marker": {
             "colorbar": {
              "outlinewidth": 0,
              "ticks": ""
             }
            },
            "type": "scatter"
           }
          ],
          "scatter3d": [
           {
            "line": {
             "colorbar": {
              "outlinewidth": 0,
              "ticks": ""
             }
            },
            "marker": {
             "colorbar": {
              "outlinewidth": 0,
              "ticks": ""
             }
            },
            "type": "scatter3d"
           }
          ],
          "scattercarpet": [
           {
            "marker": {
             "colorbar": {
              "outlinewidth": 0,
              "ticks": ""
             }
            },
            "type": "scattercarpet"
           }
          ],
          "scattergeo": [
           {
            "marker": {
             "colorbar": {
              "outlinewidth": 0,
              "ticks": ""
             }
            },
            "type": "scattergeo"
           }
          ],
          "scattergl": [
           {
            "marker": {
             "colorbar": {
              "outlinewidth": 0,
              "ticks": ""
             }
            },
            "type": "scattergl"
           }
          ],
          "scattermapbox": [
           {
            "marker": {
             "colorbar": {
              "outlinewidth": 0,
              "ticks": ""
             }
            },
            "type": "scattermapbox"
           }
          ],
          "scatterpolar": [
           {
            "marker": {
             "colorbar": {
              "outlinewidth": 0,
              "ticks": ""
             }
            },
            "type": "scatterpolar"
           }
          ],
          "scatterpolargl": [
           {
            "marker": {
             "colorbar": {
              "outlinewidth": 0,
              "ticks": ""
             }
            },
            "type": "scatterpolargl"
           }
          ],
          "scatterternary": [
           {
            "marker": {
             "colorbar": {
              "outlinewidth": 0,
              "ticks": ""
             }
            },
            "type": "scatterternary"
           }
          ],
          "surface": [
           {
            "colorbar": {
             "outlinewidth": 0,
             "ticks": ""
            },
            "colorscale": [
             [
              0,
              "#0d0887"
             ],
             [
              0.1111111111111111,
              "#46039f"
             ],
             [
              0.2222222222222222,
              "#7201a8"
             ],
             [
              0.3333333333333333,
              "#9c179e"
             ],
             [
              0.4444444444444444,
              "#bd3786"
             ],
             [
              0.5555555555555556,
              "#d8576b"
             ],
             [
              0.6666666666666666,
              "#ed7953"
             ],
             [
              0.7777777777777778,
              "#fb9f3a"
             ],
             [
              0.8888888888888888,
              "#fdca26"
             ],
             [
              1,
              "#f0f921"
             ]
            ],
            "type": "surface"
           }
          ],
          "table": [
           {
            "cells": {
             "fill": {
              "color": "#EBF0F8"
             },
             "line": {
              "color": "white"
             }
            },
            "header": {
             "fill": {
              "color": "#C8D4E3"
             },
             "line": {
              "color": "white"
             }
            },
            "type": "table"
           }
          ]
         },
         "layout": {
          "annotationdefaults": {
           "arrowcolor": "#2a3f5f",
           "arrowhead": 0,
           "arrowwidth": 1
          },
          "coloraxis": {
           "colorbar": {
            "outlinewidth": 0,
            "ticks": ""
           }
          },
          "colorscale": {
           "diverging": [
            [
             0,
             "#8e0152"
            ],
            [
             0.1,
             "#c51b7d"
            ],
            [
             0.2,
             "#de77ae"
            ],
            [
             0.3,
             "#f1b6da"
            ],
            [
             0.4,
             "#fde0ef"
            ],
            [
             0.5,
             "#f7f7f7"
            ],
            [
             0.6,
             "#e6f5d0"
            ],
            [
             0.7,
             "#b8e186"
            ],
            [
             0.8,
             "#7fbc41"
            ],
            [
             0.9,
             "#4d9221"
            ],
            [
             1,
             "#276419"
            ]
           ],
           "sequential": [
            [
             0,
             "#0d0887"
            ],
            [
             0.1111111111111111,
             "#46039f"
            ],
            [
             0.2222222222222222,
             "#7201a8"
            ],
            [
             0.3333333333333333,
             "#9c179e"
            ],
            [
             0.4444444444444444,
             "#bd3786"
            ],
            [
             0.5555555555555556,
             "#d8576b"
            ],
            [
             0.6666666666666666,
             "#ed7953"
            ],
            [
             0.7777777777777778,
             "#fb9f3a"
            ],
            [
             0.8888888888888888,
             "#fdca26"
            ],
            [
             1,
             "#f0f921"
            ]
           ],
           "sequentialminus": [
            [
             0,
             "#0d0887"
            ],
            [
             0.1111111111111111,
             "#46039f"
            ],
            [
             0.2222222222222222,
             "#7201a8"
            ],
            [
             0.3333333333333333,
             "#9c179e"
            ],
            [
             0.4444444444444444,
             "#bd3786"
            ],
            [
             0.5555555555555556,
             "#d8576b"
            ],
            [
             0.6666666666666666,
             "#ed7953"
            ],
            [
             0.7777777777777778,
             "#fb9f3a"
            ],
            [
             0.8888888888888888,
             "#fdca26"
            ],
            [
             1,
             "#f0f921"
            ]
           ]
          },
          "colorway": [
           "#636efa",
           "#EF553B",
           "#00cc96",
           "#ab63fa",
           "#FFA15A",
           "#19d3f3",
           "#FF6692",
           "#B6E880",
           "#FF97FF",
           "#FECB52"
          ],
          "font": {
           "color": "#2a3f5f"
          },
          "geo": {
           "bgcolor": "white",
           "lakecolor": "white",
           "landcolor": "#E5ECF6",
           "showlakes": true,
           "showland": true,
           "subunitcolor": "white"
          },
          "hoverlabel": {
           "align": "left"
          },
          "hovermode": "closest",
          "mapbox": {
           "style": "light"
          },
          "paper_bgcolor": "white",
          "plot_bgcolor": "#E5ECF6",
          "polar": {
           "angularaxis": {
            "gridcolor": "white",
            "linecolor": "white",
            "ticks": ""
           },
           "bgcolor": "#E5ECF6",
           "radialaxis": {
            "gridcolor": "white",
            "linecolor": "white",
            "ticks": ""
           }
          },
          "scene": {
           "xaxis": {
            "backgroundcolor": "#E5ECF6",
            "gridcolor": "white",
            "gridwidth": 2,
            "linecolor": "white",
            "showbackground": true,
            "ticks": "",
            "zerolinecolor": "white"
           },
           "yaxis": {
            "backgroundcolor": "#E5ECF6",
            "gridcolor": "white",
            "gridwidth": 2,
            "linecolor": "white",
            "showbackground": true,
            "ticks": "",
            "zerolinecolor": "white"
           },
           "zaxis": {
            "backgroundcolor": "#E5ECF6",
            "gridcolor": "white",
            "gridwidth": 2,
            "linecolor": "white",
            "showbackground": true,
            "ticks": "",
            "zerolinecolor": "white"
           }
          },
          "shapedefaults": {
           "line": {
            "color": "#2a3f5f"
           }
          },
          "ternary": {
           "aaxis": {
            "gridcolor": "white",
            "linecolor": "white",
            "ticks": ""
           },
           "baxis": {
            "gridcolor": "white",
            "linecolor": "white",
            "ticks": ""
           },
           "bgcolor": "#E5ECF6",
           "caxis": {
            "gridcolor": "white",
            "linecolor": "white",
            "ticks": ""
           }
          },
          "title": {
           "x": 0.05
          },
          "xaxis": {
           "automargin": true,
           "gridcolor": "white",
           "linecolor": "white",
           "ticks": "",
           "title": {
            "standoff": 15
           },
           "zerolinecolor": "white",
           "zerolinewidth": 2
          },
          "yaxis": {
           "automargin": true,
           "gridcolor": "white",
           "linecolor": "white",
           "ticks": "",
           "title": {
            "standoff": 15
           },
           "zerolinecolor": "white",
           "zerolinewidth": 2
          }
         }
        }
       }
      },
      "text/html": [
       "<div>\n",
       "        \n",
       "        \n",
       "            <div id=\"b871d17e-7616-473c-b398-6ccd21781056\" class=\"plotly-graph-div\" style=\"height:600px; width:100%;\"></div>\n",
       "            <script type=\"text/javascript\">\n",
       "                require([\"plotly\"], function(Plotly) {\n",
       "                    window.PLOTLYENV=window.PLOTLYENV || {};\n",
       "                    \n",
       "                if (document.getElementById(\"b871d17e-7616-473c-b398-6ccd21781056\")) {\n",
       "                    Plotly.newPlot(\n",
       "                        'b871d17e-7616-473c-b398-6ccd21781056',\n",
       "                        [{\"coloraxis\": \"coloraxis\", \"geo\": \"geo\", \"hoverlabel\": {\"namelength\": 0}, \"hovertemplate\": \"Country Code=%{location}<br>Hierarchical Clusters=%{z}\", \"locations\": [\"NOR\", \"CHE\", \"IRL\", \"DEU\", \"HKG\", \"AUS\", \"ISL\", \"SWE\", \"SGP\", \"NLD\", \"DNK\", \"FIN\", \"CAN\", \"NZL\", \"GBR\", \"USA\", \"BEL\", \"LIE\", \"JPN\", \"AUT\", \"LUX\", \"ISR\", \"KOR\", \"SVN\", \"ESP\", \"CZE\", \"FRA\", \"MLT\", \"ITA\", \"EST\", \"CYP\", \"GRC\", \"POL\", \"LTU\", \"ARE\", \"AND\", \"SAU\", \"SVK\", \"LVA\", \"PRT\", \"QAT\", \"CHL\", \"BRN\", \"HUN\", \"BHR\", \"HRV\", \"OMN\", \"ARG\", \"RUS\", \"BLR\", \"KAZ\", \"BGR\", \"MNE\", \"ROU\", \"PLW\", \"BRB\", \"KWT\", \"URY\", \"TUR\", \"BHS\", \"MYS\", \"SYC\", \"SRB\", \"TTO\", \"IRN\", \"MUS\", \"PAN\", \"CRI\", \"ALB\", \"GEO\", \"LKA\", \"CUB\", \"KNA\", \"ATG\", \"BIH\", \"MEX\", \"THA\", \"GRD\", \"BRA\", \"COL\", \"ARM\", \"DZA\", \"MKD\", \"PER\", \"CHN\", \"ECU\", \"AZE\", \"UKR\", \"DOM\", \"LCA\", \"TUN\", \"MNG\", \"LBN\", \"BWA\", \"VCT\", \"JAM\", \"VEN\", \"DMA\", \"FJI\", \"PRY\", \"SUR\", \"JOR\", \"BLZ\", \"MDV\", \"TON\", \"PHL\", \"MDA\", \"TKM\", \"UZB\", \"LBY\", \"IDN\", \"WSM\", \"ZAF\", \"BOL\", \"GAB\", \"EGY\", \"MHL\", \"VNM\", \"PSE\", \"IRQ\", \"MAR\", \"KGZ\", \"GUY\", \"SLV\", \"TJK\", \"CPV\", \"GTM\", \"NIC\", \"IND\", \"NAM\", \"TLS\", \"HND\", \"KIR\", \"BTN\", \"BGD\", \"FSM\", \"STP\", \"COG\", \"SWZ\", \"LAO\", \"VUT\", \"GHA\", \"ZMB\", \"GNQ\", \"MMR\", \"KHM\", \"KEN\", \"NPL\", \"AGO\", \"CMR\", \"ZWE\", \"PAK\", \"SLB\", \"SYR\", \"PNG\", \"COM\", \"RWA\", \"NGA\", \"TZA\", \"UGA\", \"MRT\", \"MDG\", \"BEN\", \"LSO\", \"CIV\", \"SEN\", \"TGO\", \"SDN\", \"HTI\", \"AFG\", \"DJI\", \"MWI\", \"ETH\", \"GMB\", \"GIN\", \"LBR\", \"YEM\", \"GNB\", \"COD\", \"MOZ\", \"SLE\", \"BFA\", \"ERI\", \"MLI\", \"BDI\", \"SSD\", \"TCD\", \"CAF\", \"NER\"], \"name\": \"\", \"type\": \"choropleth\", \"z\": [0, 0, 0, 0, 0, 0, 0, 0, 0, 0, 0, 0, 0, 0, 0, 0, 0, 3, 0, 0, 0, 0, 0, 0, 0, 0, 0, 0, 0, 0, 0, 0, 0, 0, 3, 0, 3, 0, 0, 0, 3, 2, 3, 0, 3, 0, 3, 2, 0, 0, 0, 0, 0, 0, 2, 2, 3, 2, 5, 2, 2, 2, 0, 2, 5, 2, 1, 2, 0, 0, 2, 2, 2, 2, 0, 1, 2, 2, 1, 1, 0, 5, 0, 1, 1, 1, 2, 0, 1, 2, 5, 0, 5, 1, 2, 1, 1, 1, 1, 1, 1, 5, 1, 2, 1, 1, 0, 1, 1, 5, 1, 1, 1, 1, 1, 5, 1, 1, 5, 5, 5, 1, 1, 1, 1, 1, 1, 1, 1, 1, 1, 1, 1, 1, 1, 1, 1, 1, 1, 1, 1, 4, 4, 4, 4, 4, 4, 4, 4, 4, 4, 4, 4, 4, 4, 4, 4, 4, 4, 4, 4, 4, 4, 4, 4, 4, 4, 4, 4, 4, 4, 4, 4, 4, 4, 4, 4, 4, 4, 4, 4, 4, 4, 4, 4, 4, 4, 4, 4]}],\n",
       "                        {\"coloraxis\": {\"colorbar\": {\"title\": {\"text\": \"Hierarchical Clusters\"}}, \"colorscale\": [[0.0, \"#4B3F72\"], [0.25, \"#AB81CD\"], [0.5, \"#1F7A8C\"], [0.75, \"#03B5AA\"], [1.0, \"#A3E7FC\"]]}, \"geo\": {\"center\": {}, \"domain\": {\"x\": [0.0, 1.0], \"y\": [0.0, 1.0]}}, \"height\": 600, \"legend\": {\"tracegroupgap\": 0}, \"margin\": {\"t\": 60}, \"template\": {\"data\": {\"bar\": [{\"error_x\": {\"color\": \"#2a3f5f\"}, \"error_y\": {\"color\": \"#2a3f5f\"}, \"marker\": {\"line\": {\"color\": \"#E5ECF6\", \"width\": 0.5}}, \"type\": \"bar\"}], \"barpolar\": [{\"marker\": {\"line\": {\"color\": \"#E5ECF6\", \"width\": 0.5}}, \"type\": \"barpolar\"}], \"carpet\": [{\"aaxis\": {\"endlinecolor\": \"#2a3f5f\", \"gridcolor\": \"white\", \"linecolor\": \"white\", \"minorgridcolor\": \"white\", \"startlinecolor\": \"#2a3f5f\"}, \"baxis\": {\"endlinecolor\": \"#2a3f5f\", \"gridcolor\": \"white\", \"linecolor\": \"white\", \"minorgridcolor\": \"white\", \"startlinecolor\": \"#2a3f5f\"}, \"type\": \"carpet\"}], \"choropleth\": [{\"colorbar\": {\"outlinewidth\": 0, \"ticks\": \"\"}, \"type\": \"choropleth\"}], \"contour\": [{\"colorbar\": {\"outlinewidth\": 0, \"ticks\": \"\"}, \"colorscale\": [[0.0, \"#0d0887\"], [0.1111111111111111, \"#46039f\"], [0.2222222222222222, \"#7201a8\"], [0.3333333333333333, \"#9c179e\"], [0.4444444444444444, \"#bd3786\"], [0.5555555555555556, \"#d8576b\"], [0.6666666666666666, \"#ed7953\"], [0.7777777777777778, \"#fb9f3a\"], [0.8888888888888888, \"#fdca26\"], [1.0, \"#f0f921\"]], \"type\": \"contour\"}], \"contourcarpet\": [{\"colorbar\": {\"outlinewidth\": 0, \"ticks\": \"\"}, \"type\": \"contourcarpet\"}], \"heatmap\": [{\"colorbar\": {\"outlinewidth\": 0, \"ticks\": \"\"}, \"colorscale\": [[0.0, \"#0d0887\"], [0.1111111111111111, \"#46039f\"], [0.2222222222222222, \"#7201a8\"], [0.3333333333333333, \"#9c179e\"], [0.4444444444444444, \"#bd3786\"], [0.5555555555555556, \"#d8576b\"], [0.6666666666666666, \"#ed7953\"], [0.7777777777777778, \"#fb9f3a\"], [0.8888888888888888, \"#fdca26\"], [1.0, \"#f0f921\"]], \"type\": \"heatmap\"}], \"heatmapgl\": [{\"colorbar\": {\"outlinewidth\": 0, \"ticks\": \"\"}, \"colorscale\": [[0.0, \"#0d0887\"], [0.1111111111111111, \"#46039f\"], [0.2222222222222222, \"#7201a8\"], [0.3333333333333333, \"#9c179e\"], [0.4444444444444444, \"#bd3786\"], [0.5555555555555556, \"#d8576b\"], [0.6666666666666666, \"#ed7953\"], [0.7777777777777778, \"#fb9f3a\"], [0.8888888888888888, \"#fdca26\"], [1.0, \"#f0f921\"]], \"type\": \"heatmapgl\"}], \"histogram\": [{\"marker\": {\"colorbar\": {\"outlinewidth\": 0, \"ticks\": \"\"}}, \"type\": \"histogram\"}], \"histogram2d\": [{\"colorbar\": {\"outlinewidth\": 0, \"ticks\": \"\"}, \"colorscale\": [[0.0, \"#0d0887\"], [0.1111111111111111, \"#46039f\"], [0.2222222222222222, \"#7201a8\"], [0.3333333333333333, \"#9c179e\"], [0.4444444444444444, \"#bd3786\"], [0.5555555555555556, \"#d8576b\"], [0.6666666666666666, \"#ed7953\"], [0.7777777777777778, \"#fb9f3a\"], [0.8888888888888888, \"#fdca26\"], [1.0, \"#f0f921\"]], \"type\": \"histogram2d\"}], \"histogram2dcontour\": [{\"colorbar\": {\"outlinewidth\": 0, \"ticks\": \"\"}, \"colorscale\": [[0.0, \"#0d0887\"], [0.1111111111111111, \"#46039f\"], [0.2222222222222222, \"#7201a8\"], [0.3333333333333333, \"#9c179e\"], [0.4444444444444444, \"#bd3786\"], [0.5555555555555556, \"#d8576b\"], [0.6666666666666666, \"#ed7953\"], [0.7777777777777778, \"#fb9f3a\"], [0.8888888888888888, \"#fdca26\"], [1.0, \"#f0f921\"]], \"type\": \"histogram2dcontour\"}], \"mesh3d\": [{\"colorbar\": {\"outlinewidth\": 0, \"ticks\": \"\"}, \"type\": \"mesh3d\"}], \"parcoords\": [{\"line\": {\"colorbar\": {\"outlinewidth\": 0, \"ticks\": \"\"}}, \"type\": \"parcoords\"}], \"pie\": [{\"automargin\": true, \"type\": \"pie\"}], \"scatter\": [{\"marker\": {\"colorbar\": {\"outlinewidth\": 0, \"ticks\": \"\"}}, \"type\": \"scatter\"}], \"scatter3d\": [{\"line\": {\"colorbar\": {\"outlinewidth\": 0, \"ticks\": \"\"}}, \"marker\": {\"colorbar\": {\"outlinewidth\": 0, \"ticks\": \"\"}}, \"type\": \"scatter3d\"}], \"scattercarpet\": [{\"marker\": {\"colorbar\": {\"outlinewidth\": 0, \"ticks\": \"\"}}, \"type\": \"scattercarpet\"}], \"scattergeo\": [{\"marker\": {\"colorbar\": {\"outlinewidth\": 0, \"ticks\": \"\"}}, \"type\": \"scattergeo\"}], \"scattergl\": [{\"marker\": {\"colorbar\": {\"outlinewidth\": 0, \"ticks\": \"\"}}, \"type\": \"scattergl\"}], \"scattermapbox\": [{\"marker\": {\"colorbar\": {\"outlinewidth\": 0, \"ticks\": \"\"}}, \"type\": \"scattermapbox\"}], \"scatterpolar\": [{\"marker\": {\"colorbar\": {\"outlinewidth\": 0, \"ticks\": \"\"}}, \"type\": \"scatterpolar\"}], \"scatterpolargl\": [{\"marker\": {\"colorbar\": {\"outlinewidth\": 0, \"ticks\": \"\"}}, \"type\": \"scatterpolargl\"}], \"scatterternary\": [{\"marker\": {\"colorbar\": {\"outlinewidth\": 0, \"ticks\": \"\"}}, \"type\": \"scatterternary\"}], \"surface\": [{\"colorbar\": {\"outlinewidth\": 0, \"ticks\": \"\"}, \"colorscale\": [[0.0, \"#0d0887\"], [0.1111111111111111, \"#46039f\"], [0.2222222222222222, \"#7201a8\"], [0.3333333333333333, \"#9c179e\"], [0.4444444444444444, \"#bd3786\"], [0.5555555555555556, \"#d8576b\"], [0.6666666666666666, \"#ed7953\"], [0.7777777777777778, \"#fb9f3a\"], [0.8888888888888888, \"#fdca26\"], [1.0, \"#f0f921\"]], \"type\": \"surface\"}], \"table\": [{\"cells\": {\"fill\": {\"color\": \"#EBF0F8\"}, \"line\": {\"color\": \"white\"}}, \"header\": {\"fill\": {\"color\": \"#C8D4E3\"}, \"line\": {\"color\": \"white\"}}, \"type\": \"table\"}]}, \"layout\": {\"annotationdefaults\": {\"arrowcolor\": \"#2a3f5f\", \"arrowhead\": 0, \"arrowwidth\": 1}, \"coloraxis\": {\"colorbar\": {\"outlinewidth\": 0, \"ticks\": \"\"}}, \"colorscale\": {\"diverging\": [[0, \"#8e0152\"], [0.1, \"#c51b7d\"], [0.2, \"#de77ae\"], [0.3, \"#f1b6da\"], [0.4, \"#fde0ef\"], [0.5, \"#f7f7f7\"], [0.6, \"#e6f5d0\"], [0.7, \"#b8e186\"], [0.8, \"#7fbc41\"], [0.9, \"#4d9221\"], [1, \"#276419\"]], \"sequential\": [[0.0, \"#0d0887\"], [0.1111111111111111, \"#46039f\"], [0.2222222222222222, \"#7201a8\"], [0.3333333333333333, \"#9c179e\"], [0.4444444444444444, \"#bd3786\"], [0.5555555555555556, \"#d8576b\"], [0.6666666666666666, \"#ed7953\"], [0.7777777777777778, \"#fb9f3a\"], [0.8888888888888888, \"#fdca26\"], [1.0, \"#f0f921\"]], \"sequentialminus\": [[0.0, \"#0d0887\"], [0.1111111111111111, \"#46039f\"], [0.2222222222222222, \"#7201a8\"], [0.3333333333333333, \"#9c179e\"], [0.4444444444444444, \"#bd3786\"], [0.5555555555555556, \"#d8576b\"], [0.6666666666666666, \"#ed7953\"], [0.7777777777777778, \"#fb9f3a\"], [0.8888888888888888, \"#fdca26\"], [1.0, \"#f0f921\"]]}, \"colorway\": [\"#636efa\", \"#EF553B\", \"#00cc96\", \"#ab63fa\", \"#FFA15A\", \"#19d3f3\", \"#FF6692\", \"#B6E880\", \"#FF97FF\", \"#FECB52\"], \"font\": {\"color\": \"#2a3f5f\"}, \"geo\": {\"bgcolor\": \"white\", \"lakecolor\": \"white\", \"landcolor\": \"#E5ECF6\", \"showlakes\": true, \"showland\": true, \"subunitcolor\": \"white\"}, \"hoverlabel\": {\"align\": \"left\"}, \"hovermode\": \"closest\", \"mapbox\": {\"style\": \"light\"}, \"paper_bgcolor\": \"white\", \"plot_bgcolor\": \"#E5ECF6\", \"polar\": {\"angularaxis\": {\"gridcolor\": \"white\", \"linecolor\": \"white\", \"ticks\": \"\"}, \"bgcolor\": \"#E5ECF6\", \"radialaxis\": {\"gridcolor\": \"white\", \"linecolor\": \"white\", \"ticks\": \"\"}}, \"scene\": {\"xaxis\": {\"backgroundcolor\": \"#E5ECF6\", \"gridcolor\": \"white\", \"gridwidth\": 2, \"linecolor\": \"white\", \"showbackground\": true, \"ticks\": \"\", \"zerolinecolor\": \"white\"}, \"yaxis\": {\"backgroundcolor\": \"#E5ECF6\", \"gridcolor\": \"white\", \"gridwidth\": 2, \"linecolor\": \"white\", \"showbackground\": true, \"ticks\": \"\", \"zerolinecolor\": \"white\"}, \"zaxis\": {\"backgroundcolor\": \"#E5ECF6\", \"gridcolor\": \"white\", \"gridwidth\": 2, \"linecolor\": \"white\", \"showbackground\": true, \"ticks\": \"\", \"zerolinecolor\": \"white\"}}, \"shapedefaults\": {\"line\": {\"color\": \"#2a3f5f\"}}, \"ternary\": {\"aaxis\": {\"gridcolor\": \"white\", \"linecolor\": \"white\", \"ticks\": \"\"}, \"baxis\": {\"gridcolor\": \"white\", \"linecolor\": \"white\", \"ticks\": \"\"}, \"bgcolor\": \"#E5ECF6\", \"caxis\": {\"gridcolor\": \"white\", \"linecolor\": \"white\", \"ticks\": \"\"}}, \"title\": {\"x\": 0.05}, \"xaxis\": {\"automargin\": true, \"gridcolor\": \"white\", \"linecolor\": \"white\", \"ticks\": \"\", \"title\": {\"standoff\": 15}, \"zerolinecolor\": \"white\", \"zerolinewidth\": 2}, \"yaxis\": {\"automargin\": true, \"gridcolor\": \"white\", \"linecolor\": \"white\", \"ticks\": \"\", \"title\": {\"standoff\": 15}, \"zerolinecolor\": \"white\", \"zerolinewidth\": 2}}}},\n",
       "                        {\"responsive\": true}\n",
       "                    ).then(function(){\n",
       "                            \n",
       "var gd = document.getElementById('b871d17e-7616-473c-b398-6ccd21781056');\n",
       "var x = new MutationObserver(function (mutations, observer) {{\n",
       "        var display = window.getComputedStyle(gd).display;\n",
       "        if (!display || display === 'none') {{\n",
       "            console.log([gd, 'removed!']);\n",
       "            Plotly.purge(gd);\n",
       "            observer.disconnect();\n",
       "        }}\n",
       "}});\n",
       "\n",
       "// Listen for the removal of the full notebook cells\n",
       "var notebookContainer = gd.closest('#notebook-container');\n",
       "if (notebookContainer) {{\n",
       "    x.observe(notebookContainer, {childList: true});\n",
       "}}\n",
       "\n",
       "// Listen for the clearing of the current output cell\n",
       "var outputEl = gd.closest('.output');\n",
       "if (outputEl) {{\n",
       "    x.observe(outputEl, {childList: true});\n",
       "}}\n",
       "\n",
       "                        })\n",
       "                };\n",
       "                });\n",
       "            </script>\n",
       "        </div>"
      ]
     },
     "metadata": {},
     "output_type": "display_data"
    }
   ],
   "source": [
    "#Looking on clusters on a map\n",
    "fig1 = px.choropleth(X, locations= 'Country Code',\n",
    "                    color=\"Hierarchical Clusters\",\n",
    "                    color_continuous_scale = palette)\n",
    "fig1.show()"
   ]
  },
  {
   "cell_type": "code",
   "execution_count": 241,
   "metadata": {},
   "outputs": [
    {
     "data": {
      "application/vnd.plotly.v1+json": {
       "config": {
        "plotlyServerURL": "https://plot.ly"
       },
       "data": [
        {
         "hoverlabel": {
          "namelength": 0
         },
         "hovertemplate": "<b>%{hovertext}</b><br><br>Life expectancy at birth=%{x}<br>Mean years of schooling=%{y}<br>Gross national income (GNI) per capita=%{z}<br>Hierarchical Clusters=%{marker.color}",
         "hovertext": [
          "NOR",
          "CHE",
          "IRL",
          "DEU",
          "HKG",
          "AUS",
          "ISL",
          "SWE",
          "SGP",
          "NLD",
          "DNK",
          "FIN",
          "CAN",
          "NZL",
          "GBR",
          "USA",
          "BEL",
          "LIE",
          "JPN",
          "AUT",
          "LUX",
          "ISR",
          "KOR",
          "SVN",
          "ESP",
          "CZE",
          "FRA",
          "MLT",
          "ITA",
          "EST",
          "CYP",
          "GRC",
          "POL",
          "LTU",
          "ARE",
          "AND",
          "SAU",
          "SVK",
          "LVA",
          "PRT",
          "QAT",
          "CHL",
          "BRN",
          "HUN",
          "BHR",
          "HRV",
          "OMN",
          "ARG",
          "RUS",
          "BLR",
          "KAZ",
          "BGR",
          "MNE",
          "ROU",
          "PLW",
          "BRB",
          "KWT",
          "URY",
          "TUR",
          "BHS",
          "MYS",
          "SYC",
          "SRB",
          "TTO",
          "IRN",
          "MUS",
          "PAN",
          "CRI",
          "ALB",
          "GEO",
          "LKA",
          "CUB",
          "KNA",
          "ATG",
          "BIH",
          "MEX",
          "THA",
          "GRD",
          "BRA",
          "COL",
          "ARM",
          "DZA",
          "MKD",
          "PER",
          "CHN",
          "ECU",
          "AZE",
          "UKR",
          "DOM",
          "LCA",
          "TUN",
          "MNG",
          "LBN",
          "BWA",
          "VCT",
          "JAM",
          "VEN",
          "DMA",
          "FJI",
          "PRY",
          "SUR",
          "JOR",
          "BLZ",
          "MDV",
          "TON",
          "PHL",
          "MDA",
          "TKM",
          "UZB",
          "LBY",
          "IDN",
          "WSM",
          "ZAF",
          "BOL",
          "GAB",
          "EGY",
          "MHL",
          "VNM",
          "PSE",
          "IRQ",
          "MAR",
          "KGZ",
          "GUY",
          "SLV",
          "TJK",
          "CPV",
          "GTM",
          "NIC",
          "IND",
          "NAM",
          "TLS",
          "HND",
          "KIR",
          "BTN",
          "BGD",
          "FSM",
          "STP",
          "COG",
          "SWZ",
          "LAO",
          "VUT",
          "GHA",
          "ZMB",
          "GNQ",
          "MMR",
          "KHM",
          "KEN",
          "NPL",
          "AGO",
          "CMR",
          "ZWE",
          "PAK",
          "SLB",
          "SYR",
          "PNG",
          "COM",
          "RWA",
          "NGA",
          "TZA",
          "UGA",
          "MRT",
          "MDG",
          "BEN",
          "LSO",
          "CIV",
          "SEN",
          "TGO",
          "SDN",
          "HTI",
          "AFG",
          "DJI",
          "MWI",
          "ETH",
          "GMB",
          "GIN",
          "LBR",
          "YEM",
          "GNB",
          "COD",
          "MOZ",
          "SLE",
          "BFA",
          "ERI",
          "MLI",
          "BDI",
          "SSD",
          "TCD",
          "CAF",
          "NER"
         ],
         "legendgroup": "",
         "marker": {
          "color": [
           0,
           0,
           0,
           0,
           0,
           0,
           0,
           0,
           0,
           0,
           0,
           0,
           0,
           0,
           0,
           0,
           0,
           3,
           0,
           0,
           0,
           0,
           0,
           0,
           0,
           0,
           0,
           0,
           0,
           0,
           0,
           0,
           0,
           0,
           3,
           0,
           3,
           0,
           0,
           0,
           3,
           2,
           3,
           0,
           3,
           0,
           3,
           2,
           0,
           0,
           0,
           0,
           0,
           0,
           2,
           2,
           3,
           2,
           5,
           2,
           2,
           2,
           0,
           2,
           5,
           2,
           1,
           2,
           0,
           0,
           2,
           2,
           2,
           2,
           0,
           1,
           2,
           2,
           1,
           1,
           0,
           5,
           0,
           1,
           1,
           1,
           2,
           0,
           1,
           2,
           5,
           0,
           5,
           1,
           2,
           1,
           1,
           1,
           1,
           1,
           1,
           5,
           1,
           2,
           1,
           1,
           0,
           1,
           1,
           5,
           1,
           1,
           1,
           1,
           1,
           5,
           1,
           1,
           5,
           5,
           5,
           1,
           1,
           1,
           1,
           1,
           1,
           1,
           1,
           1,
           1,
           1,
           1,
           1,
           1,
           1,
           1,
           1,
           1,
           1,
           1,
           4,
           4,
           4,
           4,
           4,
           4,
           4,
           4,
           4,
           4,
           4,
           4,
           4,
           4,
           4,
           4,
           4,
           4,
           4,
           4,
           4,
           4,
           4,
           4,
           4,
           4,
           4,
           4,
           4,
           4,
           4,
           4,
           4,
           4,
           4,
           4,
           4,
           4,
           4,
           4,
           4,
           4,
           4,
           4,
           4,
           4,
           4,
           4
          ],
          "coloraxis": "coloraxis",
          "symbol": "circle"
         },
         "mode": "markers",
         "name": "",
         "scene": "scene",
         "showlegend": false,
         "type": "scatter3d",
         "x": [
          82.3,
          83.6,
          82.1,
          81.2,
          84.7,
          83.3,
          82.9,
          82.7,
          83.5,
          82.1,
          80.8,
          81.7,
          82.3,
          82.1,
          81.2,
          78.9,
          81.5,
          80.5,
          84.5,
          81.4,
          82.1,
          82.8,
          82.8,
          81.2,
          83.4,
          79.2,
          82.5,
          82.4,
          83.4,
          78.6,
          80.8,
          82.1,
          78.5,
          75.7,
          77.8,
          81.8,
          75,
          77.4,
          75.2,
          81.9,
          80.1,
          80,
          75.7,
          76.7,
          77.2,
          78.3,
          77.6,
          76.5,
          72.4,
          74.6,
          73.2,
          74.9,
          76.8,
          75.9,
          73.7,
          79.1,
          75.4,
          77.8,
          77.4,
          73.8,
          76,
          73.3,
          75.8,
          73.4,
          76.5,
          74.9,
          78.3,
          80.1,
          78.5,
          73.6,
          76.8,
          78.7,
          74.6,
          76.9,
          77.3,
          75,
          76.9,
          72.4,
          75.7,
          77.1,
          74.9,
          76.7,
          75.7,
          76.5,
          76.7,
          76.8,
          72.9,
          72,
          73.9,
          76.1,
          76.5,
          69.7,
          78.9,
          69.3,
          72.4,
          74.4,
          72.1,
          78.1,
          67.3,
          74.1,
          71.6,
          74.4,
          74.5,
          78.6,
          70.8,
          71.1,
          71.8,
          68.1,
          71.6,
          72.7,
          71.5,
          73.2,
          63.9,
          71.2,
          66.2,
          71.8,
          73.9,
          75.3,
          73.9,
          70.5,
          76.5,
          71.3,
          69.8,
          73.1,
          70.9,
          72.8,
          74.1,
          74.3,
          69.4,
          63.4,
          69.3,
          75.1,
          68.1,
          71.5,
          72.3,
          67.8,
          70.2,
          64.3,
          59.4,
          67.6,
          70.3,
          63.8,
          63.5,
          58.4,
          66.9,
          69.6,
          66.3,
          70.5,
          60.8,
          58.9,
          61.2,
          67.1,
          72.8,
          71.8,
          64.3,
          64.1,
          68.7,
          54.3,
          65,
          63,
          64.7,
          66.7,
          61.5,
          53.7,
          57.4,
          67.7,
          60.8,
          65.1,
          63.7,
          64.5,
          66.6,
          63.8,
          66.2,
          61.7,
          61.2,
          63.7,
          66.1,
          58,
          60.4,
          60.2,
          54.3,
          61.2,
          65.9,
          58.9,
          61.2,
          57.6,
          54,
          52.8,
          62
         ],
         "y": [
          12.6,
          13.4,
          12.5,
          14.1,
          12,
          12.7,
          12.5,
          12.4,
          11.5,
          12.2,
          12.6,
          12.4,
          13.3,
          12.7,
          13,
          13.4,
          11.8,
          12.5,
          12.8,
          12.6,
          12.2,
          13,
          12.2,
          12.3,
          9.8,
          12.7,
          11.4,
          11.3,
          10.2,
          13,
          12.1,
          10.5,
          12.3,
          13,
          11,
          10.2,
          9.7,
          12.6,
          12.8,
          9.2,
          9.7,
          10.4,
          9.1,
          11.9,
          9.4,
          11.4,
          9.7,
          10.6,
          12,
          12.3,
          11.8,
          11.8,
          11.4,
          11,
          12.4,
          10.6,
          7.3,
          8.7,
          7.7,
          11.5,
          10.2,
          9.7,
          11.2,
          11,
          10,
          9.4,
          10.2,
          8.7,
          10.1,
          12.8,
          11.1,
          11.8,
          8.5,
          9.3,
          9.7,
          8.6,
          7.7,
          8.8,
          7.8,
          8.3,
          11.8,
          8,
          9.7,
          9.2,
          7.9,
          9,
          10.5,
          11.3,
          7.9,
          8.5,
          7.2,
          10.2,
          8.7,
          9.3,
          8.6,
          9.8,
          10.3,
          7.8,
          10.9,
          8.5,
          9.1,
          10.5,
          9.8,
          6.8,
          11.2,
          9.4,
          11.6,
          9.8,
          11.5,
          7.6,
          8,
          10.6,
          10.2,
          9,
          8.3,
          7.3,
          10.9,
          8.2,
          9.1,
          7.3,
          5.5,
          10.9,
          8.5,
          6.9,
          10.7,
          6.2,
          6.5,
          6.8,
          6.5,
          6.9,
          4.5,
          6.6,
          7.9,
          3.1,
          6.1,
          7.7,
          6.4,
          6.5,
          6.7,
          5.2,
          6.8,
          7.2,
          7.1,
          5.6,
          5,
          4.8,
          6.6,
          4.9,
          5.1,
          6.3,
          8.3,
          5.2,
          5.5,
          5.1,
          4.6,
          4.9,
          4.4,
          6.5,
          6,
          6.1,
          4.6,
          6.1,
          3.8,
          6.3,
          5.2,
          3.1,
          4.9,
          3.7,
          5.4,
          3.9,
          4,
          4.6,
          2.8,
          3.7,
          2.7,
          4.7,
          3.2,
          3.3,
          6.8,
          3.5,
          3.6,
          1.6,
          3.9,
          2.4,
          3.1,
          4.8,
          2.4,
          4.3,
          2
         ],
         "z": [
          68059,
          59375,
          55660,
          46946,
          60221,
          44097,
          47566,
          47955,
          83793,
          50013,
          48836,
          41779,
          43602,
          35108,
          39507,
          56140,
          43821,
          99732,
          40799,
          46231,
          65543,
          33650,
          36757,
          32143,
          35041,
          31597,
          40511,
          34795,
          36141,
          30379,
          33100,
          24909,
          27626,
          29775,
          66912,
          48641,
          49338,
          30672,
          26301,
          27935,
          110489,
          21972,
          76389,
          27144,
          40399,
          23061,
          37039,
          17611,
          25036,
          17039,
          22168,
          19646,
          17511,
          23906,
          16720,
          15912,
          71164,
          19435,
          24905,
          28395,
          27227,
          25077,
          15218,
          28497,
          18166,
          22724,
          20455,
          14790,
          12300,
          9570,
          11611,
          7811,
          26770,
          22201,
          12690,
          17628,
          16129,
          12684,
          14068,
          12896,
          9277,
          13639,
          12874,
          12323,
          16127,
          10141,
          15240,
          7994,
          15074,
          11528,
          10677,
          10784,
          11136,
          15951,
          11746,
          7932,
          9070,
          9245,
          9110,
          11720,
          11933,
          8268,
          7136,
          12549,
          5783,
          9540,
          6833,
          16407,
          6462,
          11685,
          11256,
          5885,
          11756,
          6849,
          15794,
          10744,
          4633,
          6220,
          5314,
          15365,
          7480,
          3317,
          7615,
          6973,
          3482,
          6513,
          7378,
          4790,
          6829,
          9683,
          7527,
          4258,
          3917,
          8609,
          4057,
          3700,
          3024,
          5804,
          9359,
          6317,
          2808,
          4099,
          3582,
          17796,
          5764,
          3597,
          3052,
          2748,
          5555,
          3291,
          2661,
          5190,
          2027,
          2725,
          3686,
          2426,
          1959,
          5086,
          2805,
          1752,
          3746,
          1404,
          2135,
          3244,
          3589,
          3256,
          1593,
          3962,
          1665,
          1746,
          3601,
          1159,
          1782,
          1490,
          2211,
          1040,
          1433,
          1593,
          800,
          1154,
          1381,
          1705,
          1708,
          1965,
          660,
          1455,
          1716,
          777,
          912
         ]
        }
       ],
       "layout": {
        "coloraxis": {
         "colorbar": {
          "title": {
           "text": "Hierarchical Clusters"
          }
         },
         "colorscale": [
          [
           0,
           "#4B3F72"
          ],
          [
           0.25,
           "#AB81CD"
          ],
          [
           0.5,
           "#1F7A8C"
          ],
          [
           0.75,
           "#03B5AA"
          ],
          [
           1,
           "#A3E7FC"
          ]
         ]
        },
        "height": 600,
        "legend": {
         "tracegroupgap": 0
        },
        "margin": {
         "t": 60
        },
        "scene": {
         "domain": {
          "x": [
           0,
           1
          ],
          "y": [
           0,
           1
          ]
         },
         "xaxis": {
          "title": {
           "text": "Life expectancy at birth"
          }
         },
         "yaxis": {
          "title": {
           "text": "Mean years of schooling"
          }
         },
         "zaxis": {
          "title": {
           "text": "Gross national income (GNI) per capita"
          }
         }
        },
        "template": {
         "data": {
          "bar": [
           {
            "error_x": {
             "color": "#2a3f5f"
            },
            "error_y": {
             "color": "#2a3f5f"
            },
            "marker": {
             "line": {
              "color": "#E5ECF6",
              "width": 0.5
             }
            },
            "type": "bar"
           }
          ],
          "barpolar": [
           {
            "marker": {
             "line": {
              "color": "#E5ECF6",
              "width": 0.5
             }
            },
            "type": "barpolar"
           }
          ],
          "carpet": [
           {
            "aaxis": {
             "endlinecolor": "#2a3f5f",
             "gridcolor": "white",
             "linecolor": "white",
             "minorgridcolor": "white",
             "startlinecolor": "#2a3f5f"
            },
            "baxis": {
             "endlinecolor": "#2a3f5f",
             "gridcolor": "white",
             "linecolor": "white",
             "minorgridcolor": "white",
             "startlinecolor": "#2a3f5f"
            },
            "type": "carpet"
           }
          ],
          "choropleth": [
           {
            "colorbar": {
             "outlinewidth": 0,
             "ticks": ""
            },
            "type": "choropleth"
           }
          ],
          "contour": [
           {
            "colorbar": {
             "outlinewidth": 0,
             "ticks": ""
            },
            "colorscale": [
             [
              0,
              "#0d0887"
             ],
             [
              0.1111111111111111,
              "#46039f"
             ],
             [
              0.2222222222222222,
              "#7201a8"
             ],
             [
              0.3333333333333333,
              "#9c179e"
             ],
             [
              0.4444444444444444,
              "#bd3786"
             ],
             [
              0.5555555555555556,
              "#d8576b"
             ],
             [
              0.6666666666666666,
              "#ed7953"
             ],
             [
              0.7777777777777778,
              "#fb9f3a"
             ],
             [
              0.8888888888888888,
              "#fdca26"
             ],
             [
              1,
              "#f0f921"
             ]
            ],
            "type": "contour"
           }
          ],
          "contourcarpet": [
           {
            "colorbar": {
             "outlinewidth": 0,
             "ticks": ""
            },
            "type": "contourcarpet"
           }
          ],
          "heatmap": [
           {
            "colorbar": {
             "outlinewidth": 0,
             "ticks": ""
            },
            "colorscale": [
             [
              0,
              "#0d0887"
             ],
             [
              0.1111111111111111,
              "#46039f"
             ],
             [
              0.2222222222222222,
              "#7201a8"
             ],
             [
              0.3333333333333333,
              "#9c179e"
             ],
             [
              0.4444444444444444,
              "#bd3786"
             ],
             [
              0.5555555555555556,
              "#d8576b"
             ],
             [
              0.6666666666666666,
              "#ed7953"
             ],
             [
              0.7777777777777778,
              "#fb9f3a"
             ],
             [
              0.8888888888888888,
              "#fdca26"
             ],
             [
              1,
              "#f0f921"
             ]
            ],
            "type": "heatmap"
           }
          ],
          "heatmapgl": [
           {
            "colorbar": {
             "outlinewidth": 0,
             "ticks": ""
            },
            "colorscale": [
             [
              0,
              "#0d0887"
             ],
             [
              0.1111111111111111,
              "#46039f"
             ],
             [
              0.2222222222222222,
              "#7201a8"
             ],
             [
              0.3333333333333333,
              "#9c179e"
             ],
             [
              0.4444444444444444,
              "#bd3786"
             ],
             [
              0.5555555555555556,
              "#d8576b"
             ],
             [
              0.6666666666666666,
              "#ed7953"
             ],
             [
              0.7777777777777778,
              "#fb9f3a"
             ],
             [
              0.8888888888888888,
              "#fdca26"
             ],
             [
              1,
              "#f0f921"
             ]
            ],
            "type": "heatmapgl"
           }
          ],
          "histogram": [
           {
            "marker": {
             "colorbar": {
              "outlinewidth": 0,
              "ticks": ""
             }
            },
            "type": "histogram"
           }
          ],
          "histogram2d": [
           {
            "colorbar": {
             "outlinewidth": 0,
             "ticks": ""
            },
            "colorscale": [
             [
              0,
              "#0d0887"
             ],
             [
              0.1111111111111111,
              "#46039f"
             ],
             [
              0.2222222222222222,
              "#7201a8"
             ],
             [
              0.3333333333333333,
              "#9c179e"
             ],
             [
              0.4444444444444444,
              "#bd3786"
             ],
             [
              0.5555555555555556,
              "#d8576b"
             ],
             [
              0.6666666666666666,
              "#ed7953"
             ],
             [
              0.7777777777777778,
              "#fb9f3a"
             ],
             [
              0.8888888888888888,
              "#fdca26"
             ],
             [
              1,
              "#f0f921"
             ]
            ],
            "type": "histogram2d"
           }
          ],
          "histogram2dcontour": [
           {
            "colorbar": {
             "outlinewidth": 0,
             "ticks": ""
            },
            "colorscale": [
             [
              0,
              "#0d0887"
             ],
             [
              0.1111111111111111,
              "#46039f"
             ],
             [
              0.2222222222222222,
              "#7201a8"
             ],
             [
              0.3333333333333333,
              "#9c179e"
             ],
             [
              0.4444444444444444,
              "#bd3786"
             ],
             [
              0.5555555555555556,
              "#d8576b"
             ],
             [
              0.6666666666666666,
              "#ed7953"
             ],
             [
              0.7777777777777778,
              "#fb9f3a"
             ],
             [
              0.8888888888888888,
              "#fdca26"
             ],
             [
              1,
              "#f0f921"
             ]
            ],
            "type": "histogram2dcontour"
           }
          ],
          "mesh3d": [
           {
            "colorbar": {
             "outlinewidth": 0,
             "ticks": ""
            },
            "type": "mesh3d"
           }
          ],
          "parcoords": [
           {
            "line": {
             "colorbar": {
              "outlinewidth": 0,
              "ticks": ""
             }
            },
            "type": "parcoords"
           }
          ],
          "pie": [
           {
            "automargin": true,
            "type": "pie"
           }
          ],
          "scatter": [
           {
            "marker": {
             "colorbar": {
              "outlinewidth": 0,
              "ticks": ""
             }
            },
            "type": "scatter"
           }
          ],
          "scatter3d": [
           {
            "line": {
             "colorbar": {
              "outlinewidth": 0,
              "ticks": ""
             }
            },
            "marker": {
             "colorbar": {
              "outlinewidth": 0,
              "ticks": ""
             }
            },
            "type": "scatter3d"
           }
          ],
          "scattercarpet": [
           {
            "marker": {
             "colorbar": {
              "outlinewidth": 0,
              "ticks": ""
             }
            },
            "type": "scattercarpet"
           }
          ],
          "scattergeo": [
           {
            "marker": {
             "colorbar": {
              "outlinewidth": 0,
              "ticks": ""
             }
            },
            "type": "scattergeo"
           }
          ],
          "scattergl": [
           {
            "marker": {
             "colorbar": {
              "outlinewidth": 0,
              "ticks": ""
             }
            },
            "type": "scattergl"
           }
          ],
          "scattermapbox": [
           {
            "marker": {
             "colorbar": {
              "outlinewidth": 0,
              "ticks": ""
             }
            },
            "type": "scattermapbox"
           }
          ],
          "scatterpolar": [
           {
            "marker": {
             "colorbar": {
              "outlinewidth": 0,
              "ticks": ""
             }
            },
            "type": "scatterpolar"
           }
          ],
          "scatterpolargl": [
           {
            "marker": {
             "colorbar": {
              "outlinewidth": 0,
              "ticks": ""
             }
            },
            "type": "scatterpolargl"
           }
          ],
          "scatterternary": [
           {
            "marker": {
             "colorbar": {
              "outlinewidth": 0,
              "ticks": ""
             }
            },
            "type": "scatterternary"
           }
          ],
          "surface": [
           {
            "colorbar": {
             "outlinewidth": 0,
             "ticks": ""
            },
            "colorscale": [
             [
              0,
              "#0d0887"
             ],
             [
              0.1111111111111111,
              "#46039f"
             ],
             [
              0.2222222222222222,
              "#7201a8"
             ],
             [
              0.3333333333333333,
              "#9c179e"
             ],
             [
              0.4444444444444444,
              "#bd3786"
             ],
             [
              0.5555555555555556,
              "#d8576b"
             ],
             [
              0.6666666666666666,
              "#ed7953"
             ],
             [
              0.7777777777777778,
              "#fb9f3a"
             ],
             [
              0.8888888888888888,
              "#fdca26"
             ],
             [
              1,
              "#f0f921"
             ]
            ],
            "type": "surface"
           }
          ],
          "table": [
           {
            "cells": {
             "fill": {
              "color": "#EBF0F8"
             },
             "line": {
              "color": "white"
             }
            },
            "header": {
             "fill": {
              "color": "#C8D4E3"
             },
             "line": {
              "color": "white"
             }
            },
            "type": "table"
           }
          ]
         },
         "layout": {
          "annotationdefaults": {
           "arrowcolor": "#2a3f5f",
           "arrowhead": 0,
           "arrowwidth": 1
          },
          "coloraxis": {
           "colorbar": {
            "outlinewidth": 0,
            "ticks": ""
           }
          },
          "colorscale": {
           "diverging": [
            [
             0,
             "#8e0152"
            ],
            [
             0.1,
             "#c51b7d"
            ],
            [
             0.2,
             "#de77ae"
            ],
            [
             0.3,
             "#f1b6da"
            ],
            [
             0.4,
             "#fde0ef"
            ],
            [
             0.5,
             "#f7f7f7"
            ],
            [
             0.6,
             "#e6f5d0"
            ],
            [
             0.7,
             "#b8e186"
            ],
            [
             0.8,
             "#7fbc41"
            ],
            [
             0.9,
             "#4d9221"
            ],
            [
             1,
             "#276419"
            ]
           ],
           "sequential": [
            [
             0,
             "#0d0887"
            ],
            [
             0.1111111111111111,
             "#46039f"
            ],
            [
             0.2222222222222222,
             "#7201a8"
            ],
            [
             0.3333333333333333,
             "#9c179e"
            ],
            [
             0.4444444444444444,
             "#bd3786"
            ],
            [
             0.5555555555555556,
             "#d8576b"
            ],
            [
             0.6666666666666666,
             "#ed7953"
            ],
            [
             0.7777777777777778,
             "#fb9f3a"
            ],
            [
             0.8888888888888888,
             "#fdca26"
            ],
            [
             1,
             "#f0f921"
            ]
           ],
           "sequentialminus": [
            [
             0,
             "#0d0887"
            ],
            [
             0.1111111111111111,
             "#46039f"
            ],
            [
             0.2222222222222222,
             "#7201a8"
            ],
            [
             0.3333333333333333,
             "#9c179e"
            ],
            [
             0.4444444444444444,
             "#bd3786"
            ],
            [
             0.5555555555555556,
             "#d8576b"
            ],
            [
             0.6666666666666666,
             "#ed7953"
            ],
            [
             0.7777777777777778,
             "#fb9f3a"
            ],
            [
             0.8888888888888888,
             "#fdca26"
            ],
            [
             1,
             "#f0f921"
            ]
           ]
          },
          "colorway": [
           "#636efa",
           "#EF553B",
           "#00cc96",
           "#ab63fa",
           "#FFA15A",
           "#19d3f3",
           "#FF6692",
           "#B6E880",
           "#FF97FF",
           "#FECB52"
          ],
          "font": {
           "color": "#2a3f5f"
          },
          "geo": {
           "bgcolor": "white",
           "lakecolor": "white",
           "landcolor": "#E5ECF6",
           "showlakes": true,
           "showland": true,
           "subunitcolor": "white"
          },
          "hoverlabel": {
           "align": "left"
          },
          "hovermode": "closest",
          "mapbox": {
           "style": "light"
          },
          "paper_bgcolor": "white",
          "plot_bgcolor": "#E5ECF6",
          "polar": {
           "angularaxis": {
            "gridcolor": "white",
            "linecolor": "white",
            "ticks": ""
           },
           "bgcolor": "#E5ECF6",
           "radialaxis": {
            "gridcolor": "white",
            "linecolor": "white",
            "ticks": ""
           }
          },
          "scene": {
           "xaxis": {
            "backgroundcolor": "#E5ECF6",
            "gridcolor": "white",
            "gridwidth": 2,
            "linecolor": "white",
            "showbackground": true,
            "ticks": "",
            "zerolinecolor": "white"
           },
           "yaxis": {
            "backgroundcolor": "#E5ECF6",
            "gridcolor": "white",
            "gridwidth": 2,
            "linecolor": "white",
            "showbackground": true,
            "ticks": "",
            "zerolinecolor": "white"
           },
           "zaxis": {
            "backgroundcolor": "#E5ECF6",
            "gridcolor": "white",
            "gridwidth": 2,
            "linecolor": "white",
            "showbackground": true,
            "ticks": "",
            "zerolinecolor": "white"
           }
          },
          "shapedefaults": {
           "line": {
            "color": "#2a3f5f"
           }
          },
          "ternary": {
           "aaxis": {
            "gridcolor": "white",
            "linecolor": "white",
            "ticks": ""
           },
           "baxis": {
            "gridcolor": "white",
            "linecolor": "white",
            "ticks": ""
           },
           "bgcolor": "#E5ECF6",
           "caxis": {
            "gridcolor": "white",
            "linecolor": "white",
            "ticks": ""
           }
          },
          "title": {
           "x": 0.05
          },
          "xaxis": {
           "automargin": true,
           "gridcolor": "white",
           "linecolor": "white",
           "ticks": "",
           "title": {
            "standoff": 15
           },
           "zerolinecolor": "white",
           "zerolinewidth": 2
          },
          "yaxis": {
           "automargin": true,
           "gridcolor": "white",
           "linecolor": "white",
           "ticks": "",
           "title": {
            "standoff": 15
           },
           "zerolinecolor": "white",
           "zerolinewidth": 2
          }
         }
        }
       }
      },
      "text/html": [
       "<div>\n",
       "        \n",
       "        \n",
       "            <div id=\"9eecd74b-76d4-4eee-af2b-61e1ef31e758\" class=\"plotly-graph-div\" style=\"height:600px; width:100%;\"></div>\n",
       "            <script type=\"text/javascript\">\n",
       "                require([\"plotly\"], function(Plotly) {\n",
       "                    window.PLOTLYENV=window.PLOTLYENV || {};\n",
       "                    \n",
       "                if (document.getElementById(\"9eecd74b-76d4-4eee-af2b-61e1ef31e758\")) {\n",
       "                    Plotly.newPlot(\n",
       "                        '9eecd74b-76d4-4eee-af2b-61e1ef31e758',\n",
       "                        [{\"hoverlabel\": {\"namelength\": 0}, \"hovertemplate\": \"<b>%{hovertext}</b><br><br>Life expectancy at birth=%{x}<br>Mean years of schooling=%{y}<br>Gross national income (GNI) per capita=%{z}<br>Hierarchical Clusters=%{marker.color}\", \"hovertext\": [\"NOR\", \"CHE\", \"IRL\", \"DEU\", \"HKG\", \"AUS\", \"ISL\", \"SWE\", \"SGP\", \"NLD\", \"DNK\", \"FIN\", \"CAN\", \"NZL\", \"GBR\", \"USA\", \"BEL\", \"LIE\", \"JPN\", \"AUT\", \"LUX\", \"ISR\", \"KOR\", \"SVN\", \"ESP\", \"CZE\", \"FRA\", \"MLT\", \"ITA\", \"EST\", \"CYP\", \"GRC\", \"POL\", \"LTU\", \"ARE\", \"AND\", \"SAU\", \"SVK\", \"LVA\", \"PRT\", \"QAT\", \"CHL\", \"BRN\", \"HUN\", \"BHR\", \"HRV\", \"OMN\", \"ARG\", \"RUS\", \"BLR\", \"KAZ\", \"BGR\", \"MNE\", \"ROU\", \"PLW\", \"BRB\", \"KWT\", \"URY\", \"TUR\", \"BHS\", \"MYS\", \"SYC\", \"SRB\", \"TTO\", \"IRN\", \"MUS\", \"PAN\", \"CRI\", \"ALB\", \"GEO\", \"LKA\", \"CUB\", \"KNA\", \"ATG\", \"BIH\", \"MEX\", \"THA\", \"GRD\", \"BRA\", \"COL\", \"ARM\", \"DZA\", \"MKD\", \"PER\", \"CHN\", \"ECU\", \"AZE\", \"UKR\", \"DOM\", \"LCA\", \"TUN\", \"MNG\", \"LBN\", \"BWA\", \"VCT\", \"JAM\", \"VEN\", \"DMA\", \"FJI\", \"PRY\", \"SUR\", \"JOR\", \"BLZ\", \"MDV\", \"TON\", \"PHL\", \"MDA\", \"TKM\", \"UZB\", \"LBY\", \"IDN\", \"WSM\", \"ZAF\", \"BOL\", \"GAB\", \"EGY\", \"MHL\", \"VNM\", \"PSE\", \"IRQ\", \"MAR\", \"KGZ\", \"GUY\", \"SLV\", \"TJK\", \"CPV\", \"GTM\", \"NIC\", \"IND\", \"NAM\", \"TLS\", \"HND\", \"KIR\", \"BTN\", \"BGD\", \"FSM\", \"STP\", \"COG\", \"SWZ\", \"LAO\", \"VUT\", \"GHA\", \"ZMB\", \"GNQ\", \"MMR\", \"KHM\", \"KEN\", \"NPL\", \"AGO\", \"CMR\", \"ZWE\", \"PAK\", \"SLB\", \"SYR\", \"PNG\", \"COM\", \"RWA\", \"NGA\", \"TZA\", \"UGA\", \"MRT\", \"MDG\", \"BEN\", \"LSO\", \"CIV\", \"SEN\", \"TGO\", \"SDN\", \"HTI\", \"AFG\", \"DJI\", \"MWI\", \"ETH\", \"GMB\", \"GIN\", \"LBR\", \"YEM\", \"GNB\", \"COD\", \"MOZ\", \"SLE\", \"BFA\", \"ERI\", \"MLI\", \"BDI\", \"SSD\", \"TCD\", \"CAF\", \"NER\"], \"legendgroup\": \"\", \"marker\": {\"color\": [0, 0, 0, 0, 0, 0, 0, 0, 0, 0, 0, 0, 0, 0, 0, 0, 0, 3, 0, 0, 0, 0, 0, 0, 0, 0, 0, 0, 0, 0, 0, 0, 0, 0, 3, 0, 3, 0, 0, 0, 3, 2, 3, 0, 3, 0, 3, 2, 0, 0, 0, 0, 0, 0, 2, 2, 3, 2, 5, 2, 2, 2, 0, 2, 5, 2, 1, 2, 0, 0, 2, 2, 2, 2, 0, 1, 2, 2, 1, 1, 0, 5, 0, 1, 1, 1, 2, 0, 1, 2, 5, 0, 5, 1, 2, 1, 1, 1, 1, 1, 1, 5, 1, 2, 1, 1, 0, 1, 1, 5, 1, 1, 1, 1, 1, 5, 1, 1, 5, 5, 5, 1, 1, 1, 1, 1, 1, 1, 1, 1, 1, 1, 1, 1, 1, 1, 1, 1, 1, 1, 1, 4, 4, 4, 4, 4, 4, 4, 4, 4, 4, 4, 4, 4, 4, 4, 4, 4, 4, 4, 4, 4, 4, 4, 4, 4, 4, 4, 4, 4, 4, 4, 4, 4, 4, 4, 4, 4, 4, 4, 4, 4, 4, 4, 4, 4, 4, 4, 4], \"coloraxis\": \"coloraxis\", \"symbol\": \"circle\"}, \"mode\": \"markers\", \"name\": \"\", \"scene\": \"scene\", \"showlegend\": false, \"type\": \"scatter3d\", \"x\": [82.3, 83.6, 82.1, 81.2, 84.7, 83.3, 82.9, 82.7, 83.5, 82.1, 80.8, 81.7, 82.3, 82.1, 81.2, 78.9, 81.5, 80.5, 84.5, 81.4, 82.1, 82.8, 82.8, 81.2, 83.4, 79.2, 82.5, 82.4, 83.4, 78.6, 80.8, 82.1, 78.5, 75.7, 77.8, 81.8, 75.0, 77.4, 75.2, 81.9, 80.1, 80.0, 75.7, 76.7, 77.2, 78.3, 77.6, 76.5, 72.4, 74.6, 73.2, 74.9, 76.8, 75.9, 73.7, 79.1, 75.4, 77.8, 77.4, 73.8, 76.0, 73.3, 75.8, 73.4, 76.5, 74.9, 78.3, 80.1, 78.5, 73.6, 76.8, 78.7, 74.6, 76.9, 77.3, 75.0, 76.9, 72.4, 75.7, 77.1, 74.9, 76.7, 75.7, 76.5, 76.7, 76.8, 72.9, 72.0, 73.9, 76.1, 76.5, 69.7, 78.9, 69.3, 72.4, 74.4, 72.1, 78.1, 67.3, 74.1, 71.6, 74.4, 74.5, 78.6, 70.8, 71.1, 71.8, 68.1, 71.6, 72.7, 71.5, 73.2, 63.9, 71.2, 66.2, 71.8, 73.9, 75.3, 73.9, 70.5, 76.5, 71.3, 69.8, 73.1, 70.9, 72.8, 74.1, 74.3, 69.4, 63.4, 69.3, 75.1, 68.1, 71.5, 72.3, 67.8, 70.2, 64.3, 59.4, 67.6, 70.3, 63.8, 63.5, 58.4, 66.9, 69.6, 66.3, 70.5, 60.8, 58.9, 61.2, 67.1, 72.8, 71.8, 64.3, 64.1, 68.7, 54.3, 65.0, 63.0, 64.7, 66.7, 61.5, 53.7, 57.4, 67.7, 60.8, 65.1, 63.7, 64.5, 66.6, 63.8, 66.2, 61.7, 61.2, 63.7, 66.1, 58.0, 60.4, 60.2, 54.3, 61.2, 65.9, 58.9, 61.2, 57.6, 54.0, 52.8, 62.0], \"y\": [12.6, 13.4, 12.5, 14.1, 12.0, 12.7, 12.5, 12.4, 11.5, 12.2, 12.6, 12.4, 13.3, 12.7, 13.0, 13.4, 11.8, 12.5, 12.8, 12.6, 12.2, 13.0, 12.2, 12.3, 9.8, 12.7, 11.4, 11.3, 10.2, 13.0, 12.1, 10.5, 12.3, 13.0, 11.0, 10.2, 9.7, 12.6, 12.8, 9.2, 9.7, 10.4, 9.1, 11.9, 9.4, 11.4, 9.7, 10.6, 12.0, 12.3, 11.8, 11.8, 11.4, 11.0, 12.4, 10.6, 7.3, 8.7, 7.7, 11.5, 10.2, 9.7, 11.2, 11.0, 10.0, 9.4, 10.2, 8.7, 10.1, 12.8, 11.1, 11.8, 8.5, 9.3, 9.7, 8.6, 7.7, 8.8, 7.8, 8.3, 11.8, 8.0, 9.7, 9.2, 7.9, 9.0, 10.5, 11.3, 7.9, 8.5, 7.2, 10.2, 8.7, 9.3, 8.6, 9.8, 10.3, 7.8, 10.9, 8.5, 9.1, 10.5, 9.8, 6.8, 11.2, 9.4, 11.6, 9.8, 11.5, 7.6, 8.0, 10.6, 10.2, 9.0, 8.3, 7.3, 10.9, 8.2, 9.1, 7.3, 5.5, 10.9, 8.5, 6.9, 10.7, 6.2, 6.5, 6.8, 6.5, 6.9, 4.5, 6.6, 7.9, 3.1, 6.1, 7.7, 6.4, 6.5, 6.7, 5.2, 6.8, 7.2, 7.1, 5.6, 5.0, 4.8, 6.6, 4.9, 5.1, 6.3, 8.3, 5.2, 5.5, 5.1, 4.6, 4.9, 4.4, 6.5, 6.0, 6.1, 4.6, 6.1, 3.8, 6.3, 5.2, 3.1, 4.9, 3.7, 5.4, 3.9, 4.0, 4.6, 2.8, 3.7, 2.7, 4.7, 3.2, 3.3, 6.8, 3.5, 3.6, 1.6, 3.9, 2.4, 3.1, 4.8, 2.4, 4.3, 2.0], \"z\": [68059.0, 59375.0, 55660.0, 46946.0, 60221.0, 44097.0, 47566.0, 47955.0, 83793.0, 50013.0, 48836.0, 41779.0, 43602.0, 35108.0, 39507.0, 56140.0, 43821.0, 99732.0, 40799.0, 46231.0, 65543.0, 33650.0, 36757.0, 32143.0, 35041.0, 31597.0, 40511.0, 34795.0, 36141.0, 30379.0, 33100.0, 24909.0, 27626.0, 29775.0, 66912.0, 48641.0, 49338.0, 30672.0, 26301.0, 27935.0, 110489.0, 21972.0, 76389.0, 27144.0, 40399.0, 23061.0, 37039.0, 17611.0, 25036.0, 17039.0, 22168.0, 19646.0, 17511.0, 23906.0, 16720.0, 15912.0, 71164.0, 19435.0, 24905.0, 28395.0, 27227.0, 25077.0, 15218.0, 28497.0, 18166.0, 22724.0, 20455.0, 14790.0, 12300.0, 9570.0, 11611.0, 7811.0, 26770.0, 22201.0, 12690.0, 17628.0, 16129.0, 12684.0, 14068.0, 12896.0, 9277.0, 13639.0, 12874.0, 12323.0, 16127.0, 10141.0, 15240.0, 7994.0, 15074.0, 11528.0, 10677.0, 10784.0, 11136.0, 15951.0, 11746.0, 7932.0, 9070.0, 9245.0, 9110.0, 11720.0, 11933.0, 8268.0, 7136.0, 12549.0, 5783.0, 9540.0, 6833.0, 16407.0, 6462.0, 11685.0, 11256.0, 5885.0, 11756.0, 6849.0, 15794.0, 10744.0, 4633.0, 6220.0, 5314.0, 15365.0, 7480.0, 3317.0, 7615.0, 6973.0, 3482.0, 6513.0, 7378.0, 4790.0, 6829.0, 9683.0, 7527.0, 4258.0, 3917.0, 8609.0, 4057.0, 3700.0, 3024.0, 5804.0, 9359.0, 6317.0, 2808.0, 4099.0, 3582.0, 17796.0, 5764.0, 3597.0, 3052.0, 2748.0, 5555.0, 3291.0, 2661.0, 5190.0, 2027.0, 2725.0, 3686.0, 2426.0, 1959.0, 5086.0, 2805.0, 1752.0, 3746.0, 1404.0, 2135.0, 3244.0, 3589.0, 3256.0, 1593.0, 3962.0, 1665.0, 1746.0, 3601.0, 1159.0, 1782.0, 1490.0, 2211.0, 1040.0, 1433.0, 1593.0, 800.0, 1154.0, 1381.0, 1705.0, 1708.0, 1965.0, 660.0, 1455.0, 1716.0, 777.0, 912.0]}],\n",
       "                        {\"coloraxis\": {\"colorbar\": {\"title\": {\"text\": \"Hierarchical Clusters\"}}, \"colorscale\": [[0.0, \"#4B3F72\"], [0.25, \"#AB81CD\"], [0.5, \"#1F7A8C\"], [0.75, \"#03B5AA\"], [1.0, \"#A3E7FC\"]]}, \"height\": 600, \"legend\": {\"tracegroupgap\": 0}, \"margin\": {\"t\": 60}, \"scene\": {\"domain\": {\"x\": [0.0, 1.0], \"y\": [0.0, 1.0]}, \"xaxis\": {\"title\": {\"text\": \"Life expectancy at birth\"}}, \"yaxis\": {\"title\": {\"text\": \"Mean years of schooling\"}}, \"zaxis\": {\"title\": {\"text\": \"Gross national income (GNI) per capita\"}}}, \"template\": {\"data\": {\"bar\": [{\"error_x\": {\"color\": \"#2a3f5f\"}, \"error_y\": {\"color\": \"#2a3f5f\"}, \"marker\": {\"line\": {\"color\": \"#E5ECF6\", \"width\": 0.5}}, \"type\": \"bar\"}], \"barpolar\": [{\"marker\": {\"line\": {\"color\": \"#E5ECF6\", \"width\": 0.5}}, \"type\": \"barpolar\"}], \"carpet\": [{\"aaxis\": {\"endlinecolor\": \"#2a3f5f\", \"gridcolor\": \"white\", \"linecolor\": \"white\", \"minorgridcolor\": \"white\", \"startlinecolor\": \"#2a3f5f\"}, \"baxis\": {\"endlinecolor\": \"#2a3f5f\", \"gridcolor\": \"white\", \"linecolor\": \"white\", \"minorgridcolor\": \"white\", \"startlinecolor\": \"#2a3f5f\"}, \"type\": \"carpet\"}], \"choropleth\": [{\"colorbar\": {\"outlinewidth\": 0, \"ticks\": \"\"}, \"type\": \"choropleth\"}], \"contour\": [{\"colorbar\": {\"outlinewidth\": 0, \"ticks\": \"\"}, \"colorscale\": [[0.0, \"#0d0887\"], [0.1111111111111111, \"#46039f\"], [0.2222222222222222, \"#7201a8\"], [0.3333333333333333, \"#9c179e\"], [0.4444444444444444, \"#bd3786\"], [0.5555555555555556, \"#d8576b\"], [0.6666666666666666, \"#ed7953\"], [0.7777777777777778, \"#fb9f3a\"], [0.8888888888888888, \"#fdca26\"], [1.0, \"#f0f921\"]], \"type\": \"contour\"}], \"contourcarpet\": [{\"colorbar\": {\"outlinewidth\": 0, \"ticks\": \"\"}, \"type\": \"contourcarpet\"}], \"heatmap\": [{\"colorbar\": {\"outlinewidth\": 0, \"ticks\": \"\"}, \"colorscale\": [[0.0, \"#0d0887\"], [0.1111111111111111, \"#46039f\"], [0.2222222222222222, \"#7201a8\"], [0.3333333333333333, \"#9c179e\"], [0.4444444444444444, \"#bd3786\"], [0.5555555555555556, \"#d8576b\"], [0.6666666666666666, \"#ed7953\"], [0.7777777777777778, \"#fb9f3a\"], [0.8888888888888888, \"#fdca26\"], [1.0, \"#f0f921\"]], \"type\": \"heatmap\"}], \"heatmapgl\": [{\"colorbar\": {\"outlinewidth\": 0, \"ticks\": \"\"}, \"colorscale\": [[0.0, \"#0d0887\"], [0.1111111111111111, \"#46039f\"], [0.2222222222222222, \"#7201a8\"], [0.3333333333333333, \"#9c179e\"], [0.4444444444444444, \"#bd3786\"], [0.5555555555555556, \"#d8576b\"], [0.6666666666666666, \"#ed7953\"], [0.7777777777777778, \"#fb9f3a\"], [0.8888888888888888, \"#fdca26\"], [1.0, \"#f0f921\"]], \"type\": \"heatmapgl\"}], \"histogram\": [{\"marker\": {\"colorbar\": {\"outlinewidth\": 0, \"ticks\": \"\"}}, \"type\": \"histogram\"}], \"histogram2d\": [{\"colorbar\": {\"outlinewidth\": 0, \"ticks\": \"\"}, \"colorscale\": [[0.0, \"#0d0887\"], [0.1111111111111111, \"#46039f\"], [0.2222222222222222, \"#7201a8\"], [0.3333333333333333, \"#9c179e\"], [0.4444444444444444, \"#bd3786\"], [0.5555555555555556, \"#d8576b\"], [0.6666666666666666, \"#ed7953\"], [0.7777777777777778, \"#fb9f3a\"], [0.8888888888888888, \"#fdca26\"], [1.0, \"#f0f921\"]], \"type\": \"histogram2d\"}], \"histogram2dcontour\": [{\"colorbar\": {\"outlinewidth\": 0, \"ticks\": \"\"}, \"colorscale\": [[0.0, \"#0d0887\"], [0.1111111111111111, \"#46039f\"], [0.2222222222222222, \"#7201a8\"], [0.3333333333333333, \"#9c179e\"], [0.4444444444444444, \"#bd3786\"], [0.5555555555555556, \"#d8576b\"], [0.6666666666666666, \"#ed7953\"], [0.7777777777777778, \"#fb9f3a\"], [0.8888888888888888, \"#fdca26\"], [1.0, \"#f0f921\"]], \"type\": \"histogram2dcontour\"}], \"mesh3d\": [{\"colorbar\": {\"outlinewidth\": 0, \"ticks\": \"\"}, \"type\": \"mesh3d\"}], \"parcoords\": [{\"line\": {\"colorbar\": {\"outlinewidth\": 0, \"ticks\": \"\"}}, \"type\": \"parcoords\"}], \"pie\": [{\"automargin\": true, \"type\": \"pie\"}], \"scatter\": [{\"marker\": {\"colorbar\": {\"outlinewidth\": 0, \"ticks\": \"\"}}, \"type\": \"scatter\"}], \"scatter3d\": [{\"line\": {\"colorbar\": {\"outlinewidth\": 0, \"ticks\": \"\"}}, \"marker\": {\"colorbar\": {\"outlinewidth\": 0, \"ticks\": \"\"}}, \"type\": \"scatter3d\"}], \"scattercarpet\": [{\"marker\": {\"colorbar\": {\"outlinewidth\": 0, \"ticks\": \"\"}}, \"type\": \"scattercarpet\"}], \"scattergeo\": [{\"marker\": {\"colorbar\": {\"outlinewidth\": 0, \"ticks\": \"\"}}, \"type\": \"scattergeo\"}], \"scattergl\": [{\"marker\": {\"colorbar\": {\"outlinewidth\": 0, \"ticks\": \"\"}}, \"type\": \"scattergl\"}], \"scattermapbox\": [{\"marker\": {\"colorbar\": {\"outlinewidth\": 0, \"ticks\": \"\"}}, \"type\": \"scattermapbox\"}], \"scatterpolar\": [{\"marker\": {\"colorbar\": {\"outlinewidth\": 0, \"ticks\": \"\"}}, \"type\": \"scatterpolar\"}], \"scatterpolargl\": [{\"marker\": {\"colorbar\": {\"outlinewidth\": 0, \"ticks\": \"\"}}, \"type\": \"scatterpolargl\"}], \"scatterternary\": [{\"marker\": {\"colorbar\": {\"outlinewidth\": 0, \"ticks\": \"\"}}, \"type\": \"scatterternary\"}], \"surface\": [{\"colorbar\": {\"outlinewidth\": 0, \"ticks\": \"\"}, \"colorscale\": [[0.0, \"#0d0887\"], [0.1111111111111111, \"#46039f\"], [0.2222222222222222, \"#7201a8\"], [0.3333333333333333, \"#9c179e\"], [0.4444444444444444, \"#bd3786\"], [0.5555555555555556, \"#d8576b\"], [0.6666666666666666, \"#ed7953\"], [0.7777777777777778, \"#fb9f3a\"], [0.8888888888888888, \"#fdca26\"], [1.0, \"#f0f921\"]], \"type\": \"surface\"}], \"table\": [{\"cells\": {\"fill\": {\"color\": \"#EBF0F8\"}, \"line\": {\"color\": \"white\"}}, \"header\": {\"fill\": {\"color\": \"#C8D4E3\"}, \"line\": {\"color\": \"white\"}}, \"type\": \"table\"}]}, \"layout\": {\"annotationdefaults\": {\"arrowcolor\": \"#2a3f5f\", \"arrowhead\": 0, \"arrowwidth\": 1}, \"coloraxis\": {\"colorbar\": {\"outlinewidth\": 0, \"ticks\": \"\"}}, \"colorscale\": {\"diverging\": [[0, \"#8e0152\"], [0.1, \"#c51b7d\"], [0.2, \"#de77ae\"], [0.3, \"#f1b6da\"], [0.4, \"#fde0ef\"], [0.5, \"#f7f7f7\"], [0.6, \"#e6f5d0\"], [0.7, \"#b8e186\"], [0.8, \"#7fbc41\"], [0.9, \"#4d9221\"], [1, \"#276419\"]], \"sequential\": [[0.0, \"#0d0887\"], [0.1111111111111111, \"#46039f\"], [0.2222222222222222, \"#7201a8\"], [0.3333333333333333, \"#9c179e\"], [0.4444444444444444, \"#bd3786\"], [0.5555555555555556, \"#d8576b\"], [0.6666666666666666, \"#ed7953\"], [0.7777777777777778, \"#fb9f3a\"], [0.8888888888888888, \"#fdca26\"], [1.0, \"#f0f921\"]], \"sequentialminus\": [[0.0, \"#0d0887\"], [0.1111111111111111, \"#46039f\"], [0.2222222222222222, \"#7201a8\"], [0.3333333333333333, \"#9c179e\"], [0.4444444444444444, \"#bd3786\"], [0.5555555555555556, \"#d8576b\"], [0.6666666666666666, \"#ed7953\"], [0.7777777777777778, \"#fb9f3a\"], [0.8888888888888888, \"#fdca26\"], [1.0, \"#f0f921\"]]}, \"colorway\": [\"#636efa\", \"#EF553B\", \"#00cc96\", \"#ab63fa\", \"#FFA15A\", \"#19d3f3\", \"#FF6692\", \"#B6E880\", \"#FF97FF\", \"#FECB52\"], \"font\": {\"color\": \"#2a3f5f\"}, \"geo\": {\"bgcolor\": \"white\", \"lakecolor\": \"white\", \"landcolor\": \"#E5ECF6\", \"showlakes\": true, \"showland\": true, \"subunitcolor\": \"white\"}, \"hoverlabel\": {\"align\": \"left\"}, \"hovermode\": \"closest\", \"mapbox\": {\"style\": \"light\"}, \"paper_bgcolor\": \"white\", \"plot_bgcolor\": \"#E5ECF6\", \"polar\": {\"angularaxis\": {\"gridcolor\": \"white\", \"linecolor\": \"white\", \"ticks\": \"\"}, \"bgcolor\": \"#E5ECF6\", \"radialaxis\": {\"gridcolor\": \"white\", \"linecolor\": \"white\", \"ticks\": \"\"}}, \"scene\": {\"xaxis\": {\"backgroundcolor\": \"#E5ECF6\", \"gridcolor\": \"white\", \"gridwidth\": 2, \"linecolor\": \"white\", \"showbackground\": true, \"ticks\": \"\", \"zerolinecolor\": \"white\"}, \"yaxis\": {\"backgroundcolor\": \"#E5ECF6\", \"gridcolor\": \"white\", \"gridwidth\": 2, \"linecolor\": \"white\", \"showbackground\": true, \"ticks\": \"\", \"zerolinecolor\": \"white\"}, \"zaxis\": {\"backgroundcolor\": \"#E5ECF6\", \"gridcolor\": \"white\", \"gridwidth\": 2, \"linecolor\": \"white\", \"showbackground\": true, \"ticks\": \"\", \"zerolinecolor\": \"white\"}}, \"shapedefaults\": {\"line\": {\"color\": \"#2a3f5f\"}}, \"ternary\": {\"aaxis\": {\"gridcolor\": \"white\", \"linecolor\": \"white\", \"ticks\": \"\"}, \"baxis\": {\"gridcolor\": \"white\", \"linecolor\": \"white\", \"ticks\": \"\"}, \"bgcolor\": \"#E5ECF6\", \"caxis\": {\"gridcolor\": \"white\", \"linecolor\": \"white\", \"ticks\": \"\"}}, \"title\": {\"x\": 0.05}, \"xaxis\": {\"automargin\": true, \"gridcolor\": \"white\", \"linecolor\": \"white\", \"ticks\": \"\", \"title\": {\"standoff\": 15}, \"zerolinecolor\": \"white\", \"zerolinewidth\": 2}, \"yaxis\": {\"automargin\": true, \"gridcolor\": \"white\", \"linecolor\": \"white\", \"ticks\": \"\", \"title\": {\"standoff\": 15}, \"zerolinecolor\": \"white\", \"zerolinewidth\": 2}}}},\n",
       "                        {\"responsive\": true}\n",
       "                    ).then(function(){\n",
       "                            \n",
       "var gd = document.getElementById('9eecd74b-76d4-4eee-af2b-61e1ef31e758');\n",
       "var x = new MutationObserver(function (mutations, observer) {{\n",
       "        var display = window.getComputedStyle(gd).display;\n",
       "        if (!display || display === 'none') {{\n",
       "            console.log([gd, 'removed!']);\n",
       "            Plotly.purge(gd);\n",
       "            observer.disconnect();\n",
       "        }}\n",
       "}});\n",
       "\n",
       "// Listen for the removal of the full notebook cells\n",
       "var notebookContainer = gd.closest('#notebook-container');\n",
       "if (notebookContainer) {{\n",
       "    x.observe(notebookContainer, {childList: true});\n",
       "}}\n",
       "\n",
       "// Listen for the clearing of the current output cell\n",
       "var outputEl = gd.closest('.output');\n",
       "if (outputEl) {{\n",
       "    x.observe(outputEl, {childList: true});\n",
       "}}\n",
       "\n",
       "                        })\n",
       "                };\n",
       "                });\n",
       "            </script>\n",
       "        </div>"
      ]
     },
     "metadata": {},
     "output_type": "display_data"
    }
   ],
   "source": [
    "#Looking at clusters across three features meant to represent education, health, and standard of living\n",
    "fig_a = px.scatter_3d(X, x=\"Life expectancy at birth\", y=\"Mean years of schooling\", z=\"Gross national income (GNI) per capita\",\n",
    "                     color=\"Hierarchical Clusters\", hover_name=\"Country Code\", color_continuous_scale= palette)\n",
    "fig_a.show()"
   ]
  },
  {
   "cell_type": "code",
   "execution_count": 229,
   "metadata": {},
   "outputs": [
    {
     "data": {
      "application/vnd.plotly.v1+json": {
       "config": {
        "plotlyServerURL": "https://plot.ly"
       },
       "data": [
        {
         "hoverlabel": {
          "namelength": 0
         },
         "hovertemplate": "<b>%{hovertext}</b><br><br>Hierarchical Clusters=%{x}<br>HDI Value=%{y}<br>HDI group=%{marker.color}",
         "hovertext": [
          "Norway",
          "Switzerland",
          "Ireland",
          "Germany",
          "Hong Kong, China (SAR)",
          "Australia",
          "Iceland",
          "Sweden",
          "Singapore",
          "Netherlands",
          "Denmark",
          "Finland",
          "Canada",
          "New Zealand",
          "United Kingdom",
          "United States",
          "Belgium",
          "Liechtenstein",
          "Japan",
          "Austria",
          "Luxembourg",
          "Israel",
          "Korea (Republic of)",
          "Slovenia",
          "Spain",
          "Czechia",
          "France",
          "Malta",
          "Italy",
          "Estonia",
          "Cyprus",
          "Greece",
          "Poland",
          "Lithuania",
          "United Arab Emirates",
          "Andorra",
          "Saudi Arabia",
          "Slovakia",
          "Latvia",
          "Portugal",
          "Qatar",
          "Chile",
          "Brunei Darussalam",
          "Hungary",
          "Bahrain",
          "Croatia",
          "Oman",
          "Argentina",
          "Russian Federation",
          "Belarus",
          "Kazakhstan",
          "Bulgaria",
          "Montenegro",
          "Romania",
          "Palau",
          "Barbados",
          "Kuwait",
          "Uruguay",
          "Turkey",
          "Bahamas",
          "Malaysia",
          "Seychelles",
          "Serbia",
          "Trinidad and Tobago",
          "Iran (Islamic Republic of)",
          "Mauritius",
          "Panama",
          "Costa Rica",
          "Albania",
          "Georgia",
          "Sri Lanka",
          "Cuba",
          "Saint Kitts and Nevis",
          "Antigua and Barbuda",
          "Bosnia and Herzegovina",
          "Mexico",
          "Thailand",
          "Grenada",
          "Brazil",
          "Colombia",
          "Armenia",
          "Algeria",
          "North Macedonia",
          "Peru",
          "China",
          "Ecuador",
          "Azerbaijan",
          "Ukraine",
          "Dominican Republic",
          "Saint Lucia",
          "Tunisia",
          "Mongolia",
          "Lebanon",
          "Botswana",
          "Saint Vincent and the Grenadines",
          "Jamaica",
          "Venezuela (Bolivarian Republic of)",
          "Dominica",
          "Fiji",
          "Paraguay",
          "Suriname",
          "Jordan",
          "Belize",
          "Maldives",
          "Tonga",
          "Philippines",
          "Moldova (Republic of)",
          "Turkmenistan",
          "Uzbekistan",
          "Libya",
          "Indonesia",
          "Samoa",
          "South Africa",
          "Bolivia (Plurinational State of)",
          "Gabon",
          "Egypt",
          "Marshall Islands",
          "Viet Nam",
          "Palestine, State of",
          "Iraq",
          "Morocco",
          "Kyrgyzstan",
          "Guyana",
          "El Salvador",
          "Tajikistan",
          "Cabo Verde",
          "Guatemala",
          "Nicaragua",
          "India",
          "Namibia",
          "Timor-Leste",
          "Honduras",
          "Kiribati",
          "Bhutan",
          "Bangladesh",
          "Micronesia (Federated States of)",
          "Sao Tome and Principe",
          "Congo",
          "Eswatini (Kingdom of)",
          "Lao People's Democratic Republic",
          "Vanuatu",
          "Ghana",
          "Zambia",
          "Equatorial Guinea",
          "Myanmar",
          "Cambodia",
          "Kenya",
          "Nepal",
          "Angola",
          "Cameroon",
          "Zimbabwe",
          "Pakistan",
          "Solomon Islands",
          "Syrian Arab Republic",
          "Papua New Guinea",
          "Comoros",
          "Rwanda",
          "Nigeria",
          "Tanzania (United Republic of)",
          "Uganda",
          "Mauritania",
          "Madagascar",
          "Benin",
          "Lesotho",
          "Côte d'Ivoire",
          "Senegal",
          "Togo",
          "Sudan",
          "Haiti",
          "Afghanistan",
          "Djibouti",
          "Malawi",
          "Ethiopia",
          "Gambia",
          "Guinea",
          "Liberia",
          "Yemen",
          "Guinea-Bissau",
          "Congo (Democratic Republic of the)",
          "Mozambique",
          "Sierra Leone",
          "Burkina Faso",
          "Eritrea",
          "Mali",
          "Burundi",
          "South Sudan",
          "Chad",
          "Central African Republic",
          "Niger"
         ],
         "legendgroup": "",
         "marker": {
          "color": [
           1,
           1,
           1,
           1,
           1,
           1,
           1,
           1,
           1,
           1,
           1,
           1,
           1,
           1,
           1,
           1,
           1,
           1,
           1,
           1,
           1,
           1,
           1,
           1,
           1,
           1,
           1,
           1,
           1,
           1,
           1,
           1,
           1,
           1,
           1,
           1,
           1,
           1,
           1,
           1,
           1,
           1,
           1,
           1,
           1,
           1,
           1,
           1,
           1,
           2,
           2,
           2,
           2,
           2,
           2,
           2,
           2,
           2,
           2,
           2,
           2,
           2,
           2,
           2,
           2,
           2,
           2,
           2,
           2,
           2,
           2,
           2,
           2,
           2,
           2,
           2,
           2,
           2,
           2,
           2,
           2,
           2,
           2,
           2,
           2,
           2,
           2,
           2,
           2,
           2,
           2,
           2,
           2,
           2,
           2,
           3,
           3,
           3,
           3,
           3,
           3,
           3,
           3,
           3,
           3,
           3,
           3,
           3,
           3,
           3,
           3,
           3,
           3,
           3,
           3,
           3,
           3,
           3,
           3,
           3,
           3,
           3,
           3,
           3,
           3,
           3,
           3,
           3,
           3,
           3,
           3,
           3,
           3,
           3,
           3,
           3,
           3,
           3,
           3,
           3,
           3,
           4,
           4,
           4,
           4,
           4,
           4,
           4,
           4,
           4,
           4,
           4,
           4,
           4,
           4,
           4,
           4,
           4,
           4,
           4,
           4,
           4,
           4,
           4,
           4,
           4,
           4,
           4,
           4,
           4,
           4,
           4,
           4,
           4,
           4,
           4,
           4,
           4,
           4,
           4,
           4,
           4,
           4,
           4,
           4,
           4,
           4,
           4,
           4
          ],
          "coloraxis": "coloraxis",
          "symbol": "circle"
         },
         "mode": "markers",
         "name": "",
         "showlegend": false,
         "type": "scatter",
         "x": [
          0,
          0,
          0,
          0,
          0,
          0,
          0,
          0,
          0,
          0,
          0,
          0,
          0,
          0,
          0,
          0,
          0,
          3,
          0,
          0,
          0,
          0,
          0,
          0,
          0,
          0,
          0,
          0,
          0,
          0,
          0,
          0,
          0,
          0,
          3,
          0,
          3,
          0,
          0,
          0,
          3,
          2,
          3,
          0,
          3,
          0,
          3,
          2,
          0,
          0,
          0,
          0,
          0,
          0,
          2,
          2,
          3,
          2,
          5,
          2,
          2,
          2,
          0,
          2,
          5,
          2,
          1,
          2,
          0,
          0,
          2,
          2,
          2,
          2,
          0,
          1,
          2,
          2,
          1,
          1,
          0,
          5,
          0,
          1,
          1,
          1,
          2,
          0,
          1,
          2,
          5,
          0,
          5,
          1,
          2,
          1,
          1,
          1,
          1,
          1,
          1,
          5,
          1,
          2,
          1,
          1,
          0,
          1,
          1,
          5,
          1,
          1,
          1,
          1,
          1,
          5,
          1,
          1,
          5,
          5,
          5,
          1,
          1,
          1,
          1,
          1,
          1,
          1,
          1,
          1,
          1,
          1,
          1,
          1,
          1,
          1,
          1,
          1,
          1,
          1,
          1,
          4,
          4,
          4,
          4,
          4,
          4,
          4,
          4,
          4,
          4,
          4,
          4,
          4,
          4,
          4,
          4,
          4,
          4,
          4,
          4,
          4,
          4,
          4,
          4,
          4,
          4,
          4,
          4,
          4,
          4,
          4,
          4,
          4,
          4,
          4,
          4,
          4,
          4,
          4,
          4,
          4,
          4,
          4,
          4,
          4,
          4,
          4,
          4
         ],
         "xaxis": "x",
         "y": [
          0.9540000000000001,
          0.946,
          0.9420000000000001,
          0.9390000000000001,
          0.9390000000000001,
          0.938,
          0.938,
          0.937,
          0.935,
          0.9329999999999999,
          0.93,
          0.925,
          0.922,
          0.9209999999999999,
          0.92,
          0.92,
          0.919,
          0.917,
          0.915,
          0.914,
          0.909,
          0.9059999999999999,
          0.9059999999999999,
          0.902,
          0.893,
          0.8909999999999999,
          0.8909999999999999,
          0.885,
          0.883,
          0.882,
          0.873,
          0.872,
          0.872,
          0.8690000000000001,
          0.866,
          0.857,
          0.857,
          0.857,
          0.8540000000000001,
          0.85,
          0.848,
          0.847,
          0.845,
          0.845,
          0.838,
          0.8370000000000001,
          0.8340000000000001,
          0.83,
          0.8240000000000001,
          0.8170000000000001,
          0.8170000000000001,
          0.816,
          0.816,
          0.816,
          0.8140000000000001,
          0.813,
          0.8079999999999999,
          0.8079999999999999,
          0.8059999999999999,
          0.805,
          0.804,
          0.8009999999999999,
          0.799,
          0.799,
          0.797,
          0.7959999999999999,
          0.795,
          0.794,
          0.7909999999999999,
          0.7859999999999999,
          0.78,
          0.778,
          0.777,
          0.7759999999999999,
          0.769,
          0.767,
          0.765,
          0.763,
          0.7609999999999999,
          0.7609999999999999,
          0.76,
          0.759,
          0.759,
          0.759,
          0.758,
          0.758,
          0.754,
          0.75,
          0.745,
          0.745,
          0.7390000000000001,
          0.735,
          0.73,
          0.728,
          0.728,
          0.726,
          0.726,
          0.7240000000000001,
          0.7240000000000001,
          0.7240000000000001,
          0.72,
          0.723,
          0.72,
          0.7190000000000001,
          0.7170000000000001,
          0.7120000000000001,
          0.711,
          0.71,
          0.71,
          0.708,
          0.7070000000000001,
          0.7070000000000001,
          0.705,
          0.703,
          0.7020000000000001,
          0.7,
          0.698,
          0.693,
          0.69,
          0.6890000000000001,
          0.6759999999999999,
          0.674,
          0.67,
          0.667,
          0.6559999999999999,
          0.6509999999999999,
          0.6509999999999999,
          0.6509999999999999,
          0.647,
          0.645,
          0.626,
          0.623,
          0.623,
          0.617,
          0.614,
          0.614,
          0.609,
          0.608,
          0.608,
          0.604,
          0.597,
          0.596,
          0.591,
          0.588,
          0.584,
          0.581,
          0.579,
          0.579,
          0.574,
          0.563,
          0.563,
          0.56,
          0.557,
          0.5489999999999999,
          0.5429999999999999,
          0.5379999999999999,
          0.536,
          0.534,
          0.528,
          0.528,
          0.527,
          0.521,
          0.52,
          0.518,
          0.516,
          0.514,
          0.513,
          0.507,
          0.503,
          0.496,
          0.495,
          0.485,
          0.47,
          0.466,
          0.466,
          0.465,
          0.46299999999999997,
          0.461,
          0.45899999999999996,
          0.446,
          0.43799999999999994,
          0.434,
          0.434,
          0.42700000000000005,
          0.423,
          0.413,
          0.401,
          0.381,
          0.377
         ],
         "yaxis": "y"
        }
       ],
       "layout": {
        "coloraxis": {
         "colorbar": {
          "title": {
           "text": "HDI group"
          }
         },
         "colorscale": [
          [
           0,
           "#4B3F72"
          ],
          [
           0.25,
           "#AB81CD"
          ],
          [
           0.5,
           "#1F7A8C"
          ],
          [
           0.75,
           "#03B5AA"
          ],
          [
           1,
           "#A3E7FC"
          ]
         ]
        },
        "height": 600,
        "legend": {
         "tracegroupgap": 0
        },
        "margin": {
         "t": 60
        },
        "template": {
         "data": {
          "bar": [
           {
            "error_x": {
             "color": "#2a3f5f"
            },
            "error_y": {
             "color": "#2a3f5f"
            },
            "marker": {
             "line": {
              "color": "#E5ECF6",
              "width": 0.5
             }
            },
            "type": "bar"
           }
          ],
          "barpolar": [
           {
            "marker": {
             "line": {
              "color": "#E5ECF6",
              "width": 0.5
             }
            },
            "type": "barpolar"
           }
          ],
          "carpet": [
           {
            "aaxis": {
             "endlinecolor": "#2a3f5f",
             "gridcolor": "white",
             "linecolor": "white",
             "minorgridcolor": "white",
             "startlinecolor": "#2a3f5f"
            },
            "baxis": {
             "endlinecolor": "#2a3f5f",
             "gridcolor": "white",
             "linecolor": "white",
             "minorgridcolor": "white",
             "startlinecolor": "#2a3f5f"
            },
            "type": "carpet"
           }
          ],
          "choropleth": [
           {
            "colorbar": {
             "outlinewidth": 0,
             "ticks": ""
            },
            "type": "choropleth"
           }
          ],
          "contour": [
           {
            "colorbar": {
             "outlinewidth": 0,
             "ticks": ""
            },
            "colorscale": [
             [
              0,
              "#0d0887"
             ],
             [
              0.1111111111111111,
              "#46039f"
             ],
             [
              0.2222222222222222,
              "#7201a8"
             ],
             [
              0.3333333333333333,
              "#9c179e"
             ],
             [
              0.4444444444444444,
              "#bd3786"
             ],
             [
              0.5555555555555556,
              "#d8576b"
             ],
             [
              0.6666666666666666,
              "#ed7953"
             ],
             [
              0.7777777777777778,
              "#fb9f3a"
             ],
             [
              0.8888888888888888,
              "#fdca26"
             ],
             [
              1,
              "#f0f921"
             ]
            ],
            "type": "contour"
           }
          ],
          "contourcarpet": [
           {
            "colorbar": {
             "outlinewidth": 0,
             "ticks": ""
            },
            "type": "contourcarpet"
           }
          ],
          "heatmap": [
           {
            "colorbar": {
             "outlinewidth": 0,
             "ticks": ""
            },
            "colorscale": [
             [
              0,
              "#0d0887"
             ],
             [
              0.1111111111111111,
              "#46039f"
             ],
             [
              0.2222222222222222,
              "#7201a8"
             ],
             [
              0.3333333333333333,
              "#9c179e"
             ],
             [
              0.4444444444444444,
              "#bd3786"
             ],
             [
              0.5555555555555556,
              "#d8576b"
             ],
             [
              0.6666666666666666,
              "#ed7953"
             ],
             [
              0.7777777777777778,
              "#fb9f3a"
             ],
             [
              0.8888888888888888,
              "#fdca26"
             ],
             [
              1,
              "#f0f921"
             ]
            ],
            "type": "heatmap"
           }
          ],
          "heatmapgl": [
           {
            "colorbar": {
             "outlinewidth": 0,
             "ticks": ""
            },
            "colorscale": [
             [
              0,
              "#0d0887"
             ],
             [
              0.1111111111111111,
              "#46039f"
             ],
             [
              0.2222222222222222,
              "#7201a8"
             ],
             [
              0.3333333333333333,
              "#9c179e"
             ],
             [
              0.4444444444444444,
              "#bd3786"
             ],
             [
              0.5555555555555556,
              "#d8576b"
             ],
             [
              0.6666666666666666,
              "#ed7953"
             ],
             [
              0.7777777777777778,
              "#fb9f3a"
             ],
             [
              0.8888888888888888,
              "#fdca26"
             ],
             [
              1,
              "#f0f921"
             ]
            ],
            "type": "heatmapgl"
           }
          ],
          "histogram": [
           {
            "marker": {
             "colorbar": {
              "outlinewidth": 0,
              "ticks": ""
             }
            },
            "type": "histogram"
           }
          ],
          "histogram2d": [
           {
            "colorbar": {
             "outlinewidth": 0,
             "ticks": ""
            },
            "colorscale": [
             [
              0,
              "#0d0887"
             ],
             [
              0.1111111111111111,
              "#46039f"
             ],
             [
              0.2222222222222222,
              "#7201a8"
             ],
             [
              0.3333333333333333,
              "#9c179e"
             ],
             [
              0.4444444444444444,
              "#bd3786"
             ],
             [
              0.5555555555555556,
              "#d8576b"
             ],
             [
              0.6666666666666666,
              "#ed7953"
             ],
             [
              0.7777777777777778,
              "#fb9f3a"
             ],
             [
              0.8888888888888888,
              "#fdca26"
             ],
             [
              1,
              "#f0f921"
             ]
            ],
            "type": "histogram2d"
           }
          ],
          "histogram2dcontour": [
           {
            "colorbar": {
             "outlinewidth": 0,
             "ticks": ""
            },
            "colorscale": [
             [
              0,
              "#0d0887"
             ],
             [
              0.1111111111111111,
              "#46039f"
             ],
             [
              0.2222222222222222,
              "#7201a8"
             ],
             [
              0.3333333333333333,
              "#9c179e"
             ],
             [
              0.4444444444444444,
              "#bd3786"
             ],
             [
              0.5555555555555556,
              "#d8576b"
             ],
             [
              0.6666666666666666,
              "#ed7953"
             ],
             [
              0.7777777777777778,
              "#fb9f3a"
             ],
             [
              0.8888888888888888,
              "#fdca26"
             ],
             [
              1,
              "#f0f921"
             ]
            ],
            "type": "histogram2dcontour"
           }
          ],
          "mesh3d": [
           {
            "colorbar": {
             "outlinewidth": 0,
             "ticks": ""
            },
            "type": "mesh3d"
           }
          ],
          "parcoords": [
           {
            "line": {
             "colorbar": {
              "outlinewidth": 0,
              "ticks": ""
             }
            },
            "type": "parcoords"
           }
          ],
          "pie": [
           {
            "automargin": true,
            "type": "pie"
           }
          ],
          "scatter": [
           {
            "marker": {
             "colorbar": {
              "outlinewidth": 0,
              "ticks": ""
             }
            },
            "type": "scatter"
           }
          ],
          "scatter3d": [
           {
            "line": {
             "colorbar": {
              "outlinewidth": 0,
              "ticks": ""
             }
            },
            "marker": {
             "colorbar": {
              "outlinewidth": 0,
              "ticks": ""
             }
            },
            "type": "scatter3d"
           }
          ],
          "scattercarpet": [
           {
            "marker": {
             "colorbar": {
              "outlinewidth": 0,
              "ticks": ""
             }
            },
            "type": "scattercarpet"
           }
          ],
          "scattergeo": [
           {
            "marker": {
             "colorbar": {
              "outlinewidth": 0,
              "ticks": ""
             }
            },
            "type": "scattergeo"
           }
          ],
          "scattergl": [
           {
            "marker": {
             "colorbar": {
              "outlinewidth": 0,
              "ticks": ""
             }
            },
            "type": "scattergl"
           }
          ],
          "scattermapbox": [
           {
            "marker": {
             "colorbar": {
              "outlinewidth": 0,
              "ticks": ""
             }
            },
            "type": "scattermapbox"
           }
          ],
          "scatterpolar": [
           {
            "marker": {
             "colorbar": {
              "outlinewidth": 0,
              "ticks": ""
             }
            },
            "type": "scatterpolar"
           }
          ],
          "scatterpolargl": [
           {
            "marker": {
             "colorbar": {
              "outlinewidth": 0,
              "ticks": ""
             }
            },
            "type": "scatterpolargl"
           }
          ],
          "scatterternary": [
           {
            "marker": {
             "colorbar": {
              "outlinewidth": 0,
              "ticks": ""
             }
            },
            "type": "scatterternary"
           }
          ],
          "surface": [
           {
            "colorbar": {
             "outlinewidth": 0,
             "ticks": ""
            },
            "colorscale": [
             [
              0,
              "#0d0887"
             ],
             [
              0.1111111111111111,
              "#46039f"
             ],
             [
              0.2222222222222222,
              "#7201a8"
             ],
             [
              0.3333333333333333,
              "#9c179e"
             ],
             [
              0.4444444444444444,
              "#bd3786"
             ],
             [
              0.5555555555555556,
              "#d8576b"
             ],
             [
              0.6666666666666666,
              "#ed7953"
             ],
             [
              0.7777777777777778,
              "#fb9f3a"
             ],
             [
              0.8888888888888888,
              "#fdca26"
             ],
             [
              1,
              "#f0f921"
             ]
            ],
            "type": "surface"
           }
          ],
          "table": [
           {
            "cells": {
             "fill": {
              "color": "#EBF0F8"
             },
             "line": {
              "color": "white"
             }
            },
            "header": {
             "fill": {
              "color": "#C8D4E3"
             },
             "line": {
              "color": "white"
             }
            },
            "type": "table"
           }
          ]
         },
         "layout": {
          "annotationdefaults": {
           "arrowcolor": "#2a3f5f",
           "arrowhead": 0,
           "arrowwidth": 1
          },
          "coloraxis": {
           "colorbar": {
            "outlinewidth": 0,
            "ticks": ""
           }
          },
          "colorscale": {
           "diverging": [
            [
             0,
             "#8e0152"
            ],
            [
             0.1,
             "#c51b7d"
            ],
            [
             0.2,
             "#de77ae"
            ],
            [
             0.3,
             "#f1b6da"
            ],
            [
             0.4,
             "#fde0ef"
            ],
            [
             0.5,
             "#f7f7f7"
            ],
            [
             0.6,
             "#e6f5d0"
            ],
            [
             0.7,
             "#b8e186"
            ],
            [
             0.8,
             "#7fbc41"
            ],
            [
             0.9,
             "#4d9221"
            ],
            [
             1,
             "#276419"
            ]
           ],
           "sequential": [
            [
             0,
             "#0d0887"
            ],
            [
             0.1111111111111111,
             "#46039f"
            ],
            [
             0.2222222222222222,
             "#7201a8"
            ],
            [
             0.3333333333333333,
             "#9c179e"
            ],
            [
             0.4444444444444444,
             "#bd3786"
            ],
            [
             0.5555555555555556,
             "#d8576b"
            ],
            [
             0.6666666666666666,
             "#ed7953"
            ],
            [
             0.7777777777777778,
             "#fb9f3a"
            ],
            [
             0.8888888888888888,
             "#fdca26"
            ],
            [
             1,
             "#f0f921"
            ]
           ],
           "sequentialminus": [
            [
             0,
             "#0d0887"
            ],
            [
             0.1111111111111111,
             "#46039f"
            ],
            [
             0.2222222222222222,
             "#7201a8"
            ],
            [
             0.3333333333333333,
             "#9c179e"
            ],
            [
             0.4444444444444444,
             "#bd3786"
            ],
            [
             0.5555555555555556,
             "#d8576b"
            ],
            [
             0.6666666666666666,
             "#ed7953"
            ],
            [
             0.7777777777777778,
             "#fb9f3a"
            ],
            [
             0.8888888888888888,
             "#fdca26"
            ],
            [
             1,
             "#f0f921"
            ]
           ]
          },
          "colorway": [
           "#636efa",
           "#EF553B",
           "#00cc96",
           "#ab63fa",
           "#FFA15A",
           "#19d3f3",
           "#FF6692",
           "#B6E880",
           "#FF97FF",
           "#FECB52"
          ],
          "font": {
           "color": "#2a3f5f"
          },
          "geo": {
           "bgcolor": "white",
           "lakecolor": "white",
           "landcolor": "#E5ECF6",
           "showlakes": true,
           "showland": true,
           "subunitcolor": "white"
          },
          "hoverlabel": {
           "align": "left"
          },
          "hovermode": "closest",
          "mapbox": {
           "style": "light"
          },
          "paper_bgcolor": "white",
          "plot_bgcolor": "#E5ECF6",
          "polar": {
           "angularaxis": {
            "gridcolor": "white",
            "linecolor": "white",
            "ticks": ""
           },
           "bgcolor": "#E5ECF6",
           "radialaxis": {
            "gridcolor": "white",
            "linecolor": "white",
            "ticks": ""
           }
          },
          "scene": {
           "xaxis": {
            "backgroundcolor": "#E5ECF6",
            "gridcolor": "white",
            "gridwidth": 2,
            "linecolor": "white",
            "showbackground": true,
            "ticks": "",
            "zerolinecolor": "white"
           },
           "yaxis": {
            "backgroundcolor": "#E5ECF6",
            "gridcolor": "white",
            "gridwidth": 2,
            "linecolor": "white",
            "showbackground": true,
            "ticks": "",
            "zerolinecolor": "white"
           },
           "zaxis": {
            "backgroundcolor": "#E5ECF6",
            "gridcolor": "white",
            "gridwidth": 2,
            "linecolor": "white",
            "showbackground": true,
            "ticks": "",
            "zerolinecolor": "white"
           }
          },
          "shapedefaults": {
           "line": {
            "color": "#2a3f5f"
           }
          },
          "ternary": {
           "aaxis": {
            "gridcolor": "white",
            "linecolor": "white",
            "ticks": ""
           },
           "baxis": {
            "gridcolor": "white",
            "linecolor": "white",
            "ticks": ""
           },
           "bgcolor": "#E5ECF6",
           "caxis": {
            "gridcolor": "white",
            "linecolor": "white",
            "ticks": ""
           }
          },
          "title": {
           "x": 0.05
          },
          "xaxis": {
           "automargin": true,
           "gridcolor": "white",
           "linecolor": "white",
           "ticks": "",
           "title": {
            "standoff": 15
           },
           "zerolinecolor": "white",
           "zerolinewidth": 2
          },
          "yaxis": {
           "automargin": true,
           "gridcolor": "white",
           "linecolor": "white",
           "ticks": "",
           "title": {
            "standoff": 15
           },
           "zerolinecolor": "white",
           "zerolinewidth": 2
          }
         }
        },
        "xaxis": {
         "anchor": "y",
         "domain": [
          0,
          1
         ],
         "title": {
          "text": "Hierarchical Clusters"
         }
        },
        "yaxis": {
         "anchor": "x",
         "domain": [
          0,
          1
         ],
         "title": {
          "text": "HDI Value"
         }
        }
       }
      },
      "text/html": [
       "<div>\n",
       "        \n",
       "        \n",
       "            <div id=\"a5751966-4940-4515-bea7-a401821ab973\" class=\"plotly-graph-div\" style=\"height:600px; width:100%;\"></div>\n",
       "            <script type=\"text/javascript\">\n",
       "                require([\"plotly\"], function(Plotly) {\n",
       "                    window.PLOTLYENV=window.PLOTLYENV || {};\n",
       "                    \n",
       "                if (document.getElementById(\"a5751966-4940-4515-bea7-a401821ab973\")) {\n",
       "                    Plotly.newPlot(\n",
       "                        'a5751966-4940-4515-bea7-a401821ab973',\n",
       "                        [{\"hoverlabel\": {\"namelength\": 0}, \"hovertemplate\": \"<b>%{hovertext}</b><br><br>Hierarchical Clusters=%{x}<br>HDI Value=%{y}<br>HDI group=%{marker.color}\", \"hovertext\": [\"Norway\", \"Switzerland\", \"Ireland\", \"Germany\", \"Hong Kong, China (SAR)\", \"Australia\", \"Iceland\", \"Sweden\", \"Singapore\", \"Netherlands\", \"Denmark\", \"Finland\", \"Canada\", \"New Zealand\", \"United Kingdom\", \"United States\", \"Belgium\", \"Liechtenstein\", \"Japan\", \"Austria\", \"Luxembourg\", \"Israel\", \"Korea (Republic of)\", \"Slovenia\", \"Spain\", \"Czechia\", \"France\", \"Malta\", \"Italy\", \"Estonia\", \"Cyprus\", \"Greece\", \"Poland\", \"Lithuania\", \"United Arab Emirates\", \"Andorra\", \"Saudi Arabia\", \"Slovakia\", \"Latvia\", \"Portugal\", \"Qatar\", \"Chile\", \"Brunei Darussalam\", \"Hungary\", \"Bahrain\", \"Croatia\", \"Oman\", \"Argentina\", \"Russian Federation\", \"Belarus\", \"Kazakhstan\", \"Bulgaria\", \"Montenegro\", \"Romania\", \"Palau\", \"Barbados\", \"Kuwait\", \"Uruguay\", \"Turkey\", \"Bahamas\", \"Malaysia\", \"Seychelles\", \"Serbia\", \"Trinidad and Tobago\", \"Iran (Islamic Republic of)\", \"Mauritius\", \"Panama\", \"Costa Rica\", \"Albania\", \"Georgia\", \"Sri Lanka\", \"Cuba\", \"Saint Kitts and Nevis\", \"Antigua and Barbuda\", \"Bosnia and Herzegovina\", \"Mexico\", \"Thailand\", \"Grenada\", \"Brazil\", \"Colombia\", \"Armenia\", \"Algeria\", \"North Macedonia\", \"Peru\", \"China\", \"Ecuador\", \"Azerbaijan\", \"Ukraine\", \"Dominican Republic\", \"Saint Lucia\", \"Tunisia\", \"Mongolia\", \"Lebanon\", \"Botswana\", \"Saint Vincent and the Grenadines\", \"Jamaica\", \"Venezuela (Bolivarian Republic of)\", \"Dominica\", \"Fiji\", \"Paraguay\", \"Suriname\", \"Jordan\", \"Belize\", \"Maldives\", \"Tonga\", \"Philippines\", \"Moldova (Republic of)\", \"Turkmenistan\", \"Uzbekistan\", \"Libya\", \"Indonesia\", \"Samoa\", \"South Africa\", \"Bolivia (Plurinational State of)\", \"Gabon\", \"Egypt\", \"Marshall Islands\", \"Viet Nam\", \"Palestine, State of\", \"Iraq\", \"Morocco\", \"Kyrgyzstan\", \"Guyana\", \"El Salvador\", \"Tajikistan\", \"Cabo Verde\", \"Guatemala\", \"Nicaragua\", \"India\", \"Namibia\", \"Timor-Leste\", \"Honduras\", \"Kiribati\", \"Bhutan\", \"Bangladesh\", \"Micronesia (Federated States of)\", \"Sao Tome and Principe\", \"Congo\", \"Eswatini (Kingdom of)\", \"Lao People's Democratic Republic\", \"Vanuatu\", \"Ghana\", \"Zambia\", \"Equatorial Guinea\", \"Myanmar\", \"Cambodia\", \"Kenya\", \"Nepal\", \"Angola\", \"Cameroon\", \"Zimbabwe\", \"Pakistan\", \"Solomon Islands\", \"Syrian Arab Republic\", \"Papua New Guinea\", \"Comoros\", \"Rwanda\", \"Nigeria\", \"Tanzania (United Republic of)\", \"Uganda\", \"Mauritania\", \"Madagascar\", \"Benin\", \"Lesotho\", \"C\\u00f4te d'Ivoire\", \"Senegal\", \"Togo\", \"Sudan\", \"Haiti\", \"Afghanistan\", \"Djibouti\", \"Malawi\", \"Ethiopia\", \"Gambia\", \"Guinea\", \"Liberia\", \"Yemen\", \"Guinea-Bissau\", \"Congo (Democratic Republic of the)\", \"Mozambique\", \"Sierra Leone\", \"Burkina Faso\", \"Eritrea\", \"Mali\", \"Burundi\", \"South Sudan\", \"Chad\", \"Central African Republic\", \"Niger\"], \"legendgroup\": \"\", \"marker\": {\"color\": [1.0, 1.0, 1.0, 1.0, 1.0, 1.0, 1.0, 1.0, 1.0, 1.0, 1.0, 1.0, 1.0, 1.0, 1.0, 1.0, 1.0, 1.0, 1.0, 1.0, 1.0, 1.0, 1.0, 1.0, 1.0, 1.0, 1.0, 1.0, 1.0, 1.0, 1.0, 1.0, 1.0, 1.0, 1.0, 1.0, 1.0, 1.0, 1.0, 1.0, 1.0, 1.0, 1.0, 1.0, 1.0, 1.0, 1.0, 1.0, 1.0, 2.0, 2.0, 2.0, 2.0, 2.0, 2.0, 2.0, 2.0, 2.0, 2.0, 2.0, 2.0, 2.0, 2.0, 2.0, 2.0, 2.0, 2.0, 2.0, 2.0, 2.0, 2.0, 2.0, 2.0, 2.0, 2.0, 2.0, 2.0, 2.0, 2.0, 2.0, 2.0, 2.0, 2.0, 2.0, 2.0, 2.0, 2.0, 2.0, 2.0, 2.0, 2.0, 2.0, 2.0, 2.0, 2.0, 3.0, 3.0, 3.0, 3.0, 3.0, 3.0, 3.0, 3.0, 3.0, 3.0, 3.0, 3.0, 3.0, 3.0, 3.0, 3.0, 3.0, 3.0, 3.0, 3.0, 3.0, 3.0, 3.0, 3.0, 3.0, 3.0, 3.0, 3.0, 3.0, 3.0, 3.0, 3.0, 3.0, 3.0, 3.0, 3.0, 3.0, 3.0, 3.0, 3.0, 3.0, 3.0, 3.0, 3.0, 3.0, 3.0, 4.0, 4.0, 4.0, 4.0, 4.0, 4.0, 4.0, 4.0, 4.0, 4.0, 4.0, 4.0, 4.0, 4.0, 4.0, 4.0, 4.0, 4.0, 4.0, 4.0, 4.0, 4.0, 4.0, 4.0, 4.0, 4.0, 4.0, 4.0, 4.0, 4.0, 4.0, 4.0, 4.0, 4.0, 4.0, 4.0, 4.0, 4.0, 4.0, 4.0, 4.0, 4.0, 4.0, 4.0, 4.0, 4.0, 4.0, 4.0], \"coloraxis\": \"coloraxis\", \"symbol\": \"circle\"}, \"mode\": \"markers\", \"name\": \"\", \"showlegend\": false, \"type\": \"scatter\", \"x\": [0, 0, 0, 0, 0, 0, 0, 0, 0, 0, 0, 0, 0, 0, 0, 0, 0, 3, 0, 0, 0, 0, 0, 0, 0, 0, 0, 0, 0, 0, 0, 0, 0, 0, 3, 0, 3, 0, 0, 0, 3, 2, 3, 0, 3, 0, 3, 2, 0, 0, 0, 0, 0, 0, 2, 2, 3, 2, 5, 2, 2, 2, 0, 2, 5, 2, 1, 2, 0, 0, 2, 2, 2, 2, 0, 1, 2, 2, 1, 1, 0, 5, 0, 1, 1, 1, 2, 0, 1, 2, 5, 0, 5, 1, 2, 1, 1, 1, 1, 1, 1, 5, 1, 2, 1, 1, 0, 1, 1, 5, 1, 1, 1, 1, 1, 5, 1, 1, 5, 5, 5, 1, 1, 1, 1, 1, 1, 1, 1, 1, 1, 1, 1, 1, 1, 1, 1, 1, 1, 1, 1, 4, 4, 4, 4, 4, 4, 4, 4, 4, 4, 4, 4, 4, 4, 4, 4, 4, 4, 4, 4, 4, 4, 4, 4, 4, 4, 4, 4, 4, 4, 4, 4, 4, 4, 4, 4, 4, 4, 4, 4, 4, 4, 4, 4, 4, 4, 4, 4], \"xaxis\": \"x\", \"y\": [0.9540000000000001, 0.946, 0.9420000000000001, 0.9390000000000001, 0.9390000000000001, 0.938, 0.938, 0.937, 0.935, 0.9329999999999999, 0.93, 0.925, 0.922, 0.9209999999999999, 0.92, 0.92, 0.919, 0.917, 0.915, 0.914, 0.909, 0.9059999999999999, 0.9059999999999999, 0.902, 0.893, 0.8909999999999999, 0.8909999999999999, 0.885, 0.883, 0.882, 0.873, 0.872, 0.872, 0.8690000000000001, 0.866, 0.857, 0.857, 0.857, 0.8540000000000001, 0.85, 0.848, 0.847, 0.845, 0.845, 0.838, 0.8370000000000001, 0.8340000000000001, 0.83, 0.8240000000000001, 0.8170000000000001, 0.8170000000000001, 0.816, 0.816, 0.816, 0.8140000000000001, 0.813, 0.8079999999999999, 0.8079999999999999, 0.8059999999999999, 0.805, 0.804, 0.8009999999999999, 0.799, 0.799, 0.797, 0.7959999999999999, 0.795, 0.794, 0.7909999999999999, 0.7859999999999999, 0.78, 0.778, 0.777, 0.7759999999999999, 0.769, 0.767, 0.765, 0.763, 0.7609999999999999, 0.7609999999999999, 0.76, 0.759, 0.759, 0.759, 0.758, 0.758, 0.754, 0.75, 0.745, 0.745, 0.7390000000000001, 0.735, 0.73, 0.728, 0.728, 0.726, 0.726, 0.7240000000000001, 0.7240000000000001, 0.7240000000000001, 0.72, 0.723, 0.72, 0.7190000000000001, 0.7170000000000001, 0.7120000000000001, 0.711, 0.71, 0.71, 0.708, 0.7070000000000001, 0.7070000000000001, 0.705, 0.703, 0.7020000000000001, 0.7, 0.698, 0.693, 0.69, 0.6890000000000001, 0.6759999999999999, 0.674, 0.67, 0.667, 0.6559999999999999, 0.6509999999999999, 0.6509999999999999, 0.6509999999999999, 0.647, 0.645, 0.626, 0.623, 0.623, 0.617, 0.614, 0.614, 0.609, 0.608, 0.608, 0.604, 0.597, 0.596, 0.591, 0.588, 0.584, 0.581, 0.579, 0.579, 0.574, 0.563, 0.563, 0.56, 0.557, 0.5489999999999999, 0.5429999999999999, 0.5379999999999999, 0.536, 0.534, 0.528, 0.528, 0.527, 0.521, 0.52, 0.518, 0.516, 0.514, 0.513, 0.507, 0.503, 0.496, 0.495, 0.485, 0.47, 0.466, 0.466, 0.465, 0.46299999999999997, 0.461, 0.45899999999999996, 0.446, 0.43799999999999994, 0.434, 0.434, 0.42700000000000005, 0.423, 0.413, 0.401, 0.381, 0.377], \"yaxis\": \"y\"}],\n",
       "                        {\"coloraxis\": {\"colorbar\": {\"title\": {\"text\": \"HDI group\"}}, \"colorscale\": [[0.0, \"#4B3F72\"], [0.25, \"#AB81CD\"], [0.5, \"#1F7A8C\"], [0.75, \"#03B5AA\"], [1.0, \"#A3E7FC\"]]}, \"height\": 600, \"legend\": {\"tracegroupgap\": 0}, \"margin\": {\"t\": 60}, \"template\": {\"data\": {\"bar\": [{\"error_x\": {\"color\": \"#2a3f5f\"}, \"error_y\": {\"color\": \"#2a3f5f\"}, \"marker\": {\"line\": {\"color\": \"#E5ECF6\", \"width\": 0.5}}, \"type\": \"bar\"}], \"barpolar\": [{\"marker\": {\"line\": {\"color\": \"#E5ECF6\", \"width\": 0.5}}, \"type\": \"barpolar\"}], \"carpet\": [{\"aaxis\": {\"endlinecolor\": \"#2a3f5f\", \"gridcolor\": \"white\", \"linecolor\": \"white\", \"minorgridcolor\": \"white\", \"startlinecolor\": \"#2a3f5f\"}, \"baxis\": {\"endlinecolor\": \"#2a3f5f\", \"gridcolor\": \"white\", \"linecolor\": \"white\", \"minorgridcolor\": \"white\", \"startlinecolor\": \"#2a3f5f\"}, \"type\": \"carpet\"}], \"choropleth\": [{\"colorbar\": {\"outlinewidth\": 0, \"ticks\": \"\"}, \"type\": \"choropleth\"}], \"contour\": [{\"colorbar\": {\"outlinewidth\": 0, \"ticks\": \"\"}, \"colorscale\": [[0.0, \"#0d0887\"], [0.1111111111111111, \"#46039f\"], [0.2222222222222222, \"#7201a8\"], [0.3333333333333333, \"#9c179e\"], [0.4444444444444444, \"#bd3786\"], [0.5555555555555556, \"#d8576b\"], [0.6666666666666666, \"#ed7953\"], [0.7777777777777778, \"#fb9f3a\"], [0.8888888888888888, \"#fdca26\"], [1.0, \"#f0f921\"]], \"type\": \"contour\"}], \"contourcarpet\": [{\"colorbar\": {\"outlinewidth\": 0, \"ticks\": \"\"}, \"type\": \"contourcarpet\"}], \"heatmap\": [{\"colorbar\": {\"outlinewidth\": 0, \"ticks\": \"\"}, \"colorscale\": [[0.0, \"#0d0887\"], [0.1111111111111111, \"#46039f\"], [0.2222222222222222, \"#7201a8\"], [0.3333333333333333, \"#9c179e\"], [0.4444444444444444, \"#bd3786\"], [0.5555555555555556, \"#d8576b\"], [0.6666666666666666, \"#ed7953\"], [0.7777777777777778, \"#fb9f3a\"], [0.8888888888888888, \"#fdca26\"], [1.0, \"#f0f921\"]], \"type\": \"heatmap\"}], \"heatmapgl\": [{\"colorbar\": {\"outlinewidth\": 0, \"ticks\": \"\"}, \"colorscale\": [[0.0, \"#0d0887\"], [0.1111111111111111, \"#46039f\"], [0.2222222222222222, \"#7201a8\"], [0.3333333333333333, \"#9c179e\"], [0.4444444444444444, \"#bd3786\"], [0.5555555555555556, \"#d8576b\"], [0.6666666666666666, \"#ed7953\"], [0.7777777777777778, \"#fb9f3a\"], [0.8888888888888888, \"#fdca26\"], [1.0, \"#f0f921\"]], \"type\": \"heatmapgl\"}], \"histogram\": [{\"marker\": {\"colorbar\": {\"outlinewidth\": 0, \"ticks\": \"\"}}, \"type\": \"histogram\"}], \"histogram2d\": [{\"colorbar\": {\"outlinewidth\": 0, \"ticks\": \"\"}, \"colorscale\": [[0.0, \"#0d0887\"], [0.1111111111111111, \"#46039f\"], [0.2222222222222222, \"#7201a8\"], [0.3333333333333333, \"#9c179e\"], [0.4444444444444444, \"#bd3786\"], [0.5555555555555556, \"#d8576b\"], [0.6666666666666666, \"#ed7953\"], [0.7777777777777778, \"#fb9f3a\"], [0.8888888888888888, \"#fdca26\"], [1.0, \"#f0f921\"]], \"type\": \"histogram2d\"}], \"histogram2dcontour\": [{\"colorbar\": {\"outlinewidth\": 0, \"ticks\": \"\"}, \"colorscale\": [[0.0, \"#0d0887\"], [0.1111111111111111, \"#46039f\"], [0.2222222222222222, \"#7201a8\"], [0.3333333333333333, \"#9c179e\"], [0.4444444444444444, \"#bd3786\"], [0.5555555555555556, \"#d8576b\"], [0.6666666666666666, \"#ed7953\"], [0.7777777777777778, \"#fb9f3a\"], [0.8888888888888888, \"#fdca26\"], [1.0, \"#f0f921\"]], \"type\": \"histogram2dcontour\"}], \"mesh3d\": [{\"colorbar\": {\"outlinewidth\": 0, \"ticks\": \"\"}, \"type\": \"mesh3d\"}], \"parcoords\": [{\"line\": {\"colorbar\": {\"outlinewidth\": 0, \"ticks\": \"\"}}, \"type\": \"parcoords\"}], \"pie\": [{\"automargin\": true, \"type\": \"pie\"}], \"scatter\": [{\"marker\": {\"colorbar\": {\"outlinewidth\": 0, \"ticks\": \"\"}}, \"type\": \"scatter\"}], \"scatter3d\": [{\"line\": {\"colorbar\": {\"outlinewidth\": 0, \"ticks\": \"\"}}, \"marker\": {\"colorbar\": {\"outlinewidth\": 0, \"ticks\": \"\"}}, \"type\": \"scatter3d\"}], \"scattercarpet\": [{\"marker\": {\"colorbar\": {\"outlinewidth\": 0, \"ticks\": \"\"}}, \"type\": \"scattercarpet\"}], \"scattergeo\": [{\"marker\": {\"colorbar\": {\"outlinewidth\": 0, \"ticks\": \"\"}}, \"type\": \"scattergeo\"}], \"scattergl\": [{\"marker\": {\"colorbar\": {\"outlinewidth\": 0, \"ticks\": \"\"}}, \"type\": \"scattergl\"}], \"scattermapbox\": [{\"marker\": {\"colorbar\": {\"outlinewidth\": 0, \"ticks\": \"\"}}, \"type\": \"scattermapbox\"}], \"scatterpolar\": [{\"marker\": {\"colorbar\": {\"outlinewidth\": 0, \"ticks\": \"\"}}, \"type\": \"scatterpolar\"}], \"scatterpolargl\": [{\"marker\": {\"colorbar\": {\"outlinewidth\": 0, \"ticks\": \"\"}}, \"type\": \"scatterpolargl\"}], \"scatterternary\": [{\"marker\": {\"colorbar\": {\"outlinewidth\": 0, \"ticks\": \"\"}}, \"type\": \"scatterternary\"}], \"surface\": [{\"colorbar\": {\"outlinewidth\": 0, \"ticks\": \"\"}, \"colorscale\": [[0.0, \"#0d0887\"], [0.1111111111111111, \"#46039f\"], [0.2222222222222222, \"#7201a8\"], [0.3333333333333333, \"#9c179e\"], [0.4444444444444444, \"#bd3786\"], [0.5555555555555556, \"#d8576b\"], [0.6666666666666666, \"#ed7953\"], [0.7777777777777778, \"#fb9f3a\"], [0.8888888888888888, \"#fdca26\"], [1.0, \"#f0f921\"]], \"type\": \"surface\"}], \"table\": [{\"cells\": {\"fill\": {\"color\": \"#EBF0F8\"}, \"line\": {\"color\": \"white\"}}, \"header\": {\"fill\": {\"color\": \"#C8D4E3\"}, \"line\": {\"color\": \"white\"}}, \"type\": \"table\"}]}, \"layout\": {\"annotationdefaults\": {\"arrowcolor\": \"#2a3f5f\", \"arrowhead\": 0, \"arrowwidth\": 1}, \"coloraxis\": {\"colorbar\": {\"outlinewidth\": 0, \"ticks\": \"\"}}, \"colorscale\": {\"diverging\": [[0, \"#8e0152\"], [0.1, \"#c51b7d\"], [0.2, \"#de77ae\"], [0.3, \"#f1b6da\"], [0.4, \"#fde0ef\"], [0.5, \"#f7f7f7\"], [0.6, \"#e6f5d0\"], [0.7, \"#b8e186\"], [0.8, \"#7fbc41\"], [0.9, \"#4d9221\"], [1, \"#276419\"]], \"sequential\": [[0.0, \"#0d0887\"], [0.1111111111111111, \"#46039f\"], [0.2222222222222222, \"#7201a8\"], [0.3333333333333333, \"#9c179e\"], [0.4444444444444444, \"#bd3786\"], [0.5555555555555556, \"#d8576b\"], [0.6666666666666666, \"#ed7953\"], [0.7777777777777778, \"#fb9f3a\"], [0.8888888888888888, \"#fdca26\"], [1.0, \"#f0f921\"]], \"sequentialminus\": [[0.0, \"#0d0887\"], [0.1111111111111111, \"#46039f\"], [0.2222222222222222, \"#7201a8\"], [0.3333333333333333, \"#9c179e\"], [0.4444444444444444, \"#bd3786\"], [0.5555555555555556, \"#d8576b\"], [0.6666666666666666, \"#ed7953\"], [0.7777777777777778, \"#fb9f3a\"], [0.8888888888888888, \"#fdca26\"], [1.0, \"#f0f921\"]]}, \"colorway\": [\"#636efa\", \"#EF553B\", \"#00cc96\", \"#ab63fa\", \"#FFA15A\", \"#19d3f3\", \"#FF6692\", \"#B6E880\", \"#FF97FF\", \"#FECB52\"], \"font\": {\"color\": \"#2a3f5f\"}, \"geo\": {\"bgcolor\": \"white\", \"lakecolor\": \"white\", \"landcolor\": \"#E5ECF6\", \"showlakes\": true, \"showland\": true, \"subunitcolor\": \"white\"}, \"hoverlabel\": {\"align\": \"left\"}, \"hovermode\": \"closest\", \"mapbox\": {\"style\": \"light\"}, \"paper_bgcolor\": \"white\", \"plot_bgcolor\": \"#E5ECF6\", \"polar\": {\"angularaxis\": {\"gridcolor\": \"white\", \"linecolor\": \"white\", \"ticks\": \"\"}, \"bgcolor\": \"#E5ECF6\", \"radialaxis\": {\"gridcolor\": \"white\", \"linecolor\": \"white\", \"ticks\": \"\"}}, \"scene\": {\"xaxis\": {\"backgroundcolor\": \"#E5ECF6\", \"gridcolor\": \"white\", \"gridwidth\": 2, \"linecolor\": \"white\", \"showbackground\": true, \"ticks\": \"\", \"zerolinecolor\": \"white\"}, \"yaxis\": {\"backgroundcolor\": \"#E5ECF6\", \"gridcolor\": \"white\", \"gridwidth\": 2, \"linecolor\": \"white\", \"showbackground\": true, \"ticks\": \"\", \"zerolinecolor\": \"white\"}, \"zaxis\": {\"backgroundcolor\": \"#E5ECF6\", \"gridcolor\": \"white\", \"gridwidth\": 2, \"linecolor\": \"white\", \"showbackground\": true, \"ticks\": \"\", \"zerolinecolor\": \"white\"}}, \"shapedefaults\": {\"line\": {\"color\": \"#2a3f5f\"}}, \"ternary\": {\"aaxis\": {\"gridcolor\": \"white\", \"linecolor\": \"white\", \"ticks\": \"\"}, \"baxis\": {\"gridcolor\": \"white\", \"linecolor\": \"white\", \"ticks\": \"\"}, \"bgcolor\": \"#E5ECF6\", \"caxis\": {\"gridcolor\": \"white\", \"linecolor\": \"white\", \"ticks\": \"\"}}, \"title\": {\"x\": 0.05}, \"xaxis\": {\"automargin\": true, \"gridcolor\": \"white\", \"linecolor\": \"white\", \"ticks\": \"\", \"title\": {\"standoff\": 15}, \"zerolinecolor\": \"white\", \"zerolinewidth\": 2}, \"yaxis\": {\"automargin\": true, \"gridcolor\": \"white\", \"linecolor\": \"white\", \"ticks\": \"\", \"title\": {\"standoff\": 15}, \"zerolinecolor\": \"white\", \"zerolinewidth\": 2}}}, \"xaxis\": {\"anchor\": \"y\", \"domain\": [0.0, 1.0], \"title\": {\"text\": \"Hierarchical Clusters\"}}, \"yaxis\": {\"anchor\": \"x\", \"domain\": [0.0, 1.0], \"title\": {\"text\": \"HDI Value\"}}},\n",
       "                        {\"responsive\": true}\n",
       "                    ).then(function(){\n",
       "                            \n",
       "var gd = document.getElementById('a5751966-4940-4515-bea7-a401821ab973');\n",
       "var x = new MutationObserver(function (mutations, observer) {{\n",
       "        var display = window.getComputedStyle(gd).display;\n",
       "        if (!display || display === 'none') {{\n",
       "            console.log([gd, 'removed!']);\n",
       "            Plotly.purge(gd);\n",
       "            observer.disconnect();\n",
       "        }}\n",
       "}});\n",
       "\n",
       "// Listen for the removal of the full notebook cells\n",
       "var notebookContainer = gd.closest('#notebook-container');\n",
       "if (notebookContainer) {{\n",
       "    x.observe(notebookContainer, {childList: true});\n",
       "}}\n",
       "\n",
       "// Listen for the clearing of the current output cell\n",
       "var outputEl = gd.closest('.output');\n",
       "if (outputEl) {{\n",
       "    x.observe(outputEl, {childList: true});\n",
       "}}\n",
       "\n",
       "                        })\n",
       "                };\n",
       "                });\n",
       "            </script>\n",
       "        </div>"
      ]
     },
     "metadata": {},
     "output_type": "display_data"
    }
   ],
   "source": [
    "px.scatter(data_frame= X, x = 'Hierarchical Clusters', y = 'HDI Value', color= 'HDI group',\n",
    "           hover_name= X.index, color_continuous_scale= palette)"
   ]
  },
  {
   "cell_type": "code",
   "execution_count": 231,
   "metadata": {},
   "outputs": [
    {
     "data": {
      "application/vnd.plotly.v1+json": {
       "config": {
        "plotlyServerURL": "https://plot.ly"
       },
       "data": [
        {
         "hoverlabel": {
          "namelength": 0
         },
         "hovertemplate": "Hierarchical Clusters=%{marker.color}<br>Multidimensional Poverty Index Value=%{y}",
         "legendgroup": "",
         "marker": {
          "color": [
           0,
           0,
           0,
           0,
           0,
           0,
           0,
           0,
           0,
           0,
           0,
           0,
           0,
           0,
           0,
           0,
           0,
           3,
           0,
           0,
           0,
           0,
           0,
           0,
           0,
           0,
           0,
           0,
           0,
           0,
           0,
           0,
           0,
           0,
           3,
           0,
           3,
           0,
           0,
           0,
           3,
           2,
           3,
           0,
           3,
           0,
           3,
           2,
           0,
           0,
           0,
           0,
           0,
           0,
           2,
           2,
           3,
           2,
           5,
           2,
           2,
           2,
           0,
           2,
           5,
           2,
           1,
           2,
           0,
           0,
           2,
           2,
           2,
           2,
           0,
           1,
           2,
           2,
           1,
           1,
           0,
           5,
           0,
           1,
           1,
           1,
           2,
           0,
           1,
           2,
           5,
           0,
           5,
           1,
           2,
           1,
           1,
           1,
           1,
           1,
           1,
           5,
           1,
           2,
           1,
           1,
           0,
           1,
           1,
           5,
           1,
           1,
           1,
           1,
           1,
           5,
           1,
           1,
           5,
           5,
           5,
           1,
           1,
           1,
           1,
           1,
           1,
           1,
           1,
           1,
           1,
           1,
           1,
           1,
           1,
           1,
           1,
           1,
           1,
           1,
           1,
           4,
           4,
           4,
           4,
           4,
           4,
           4,
           4,
           4,
           4,
           4,
           4,
           4,
           4,
           4,
           4,
           4,
           4,
           4,
           4,
           4,
           4,
           4,
           4,
           4,
           4,
           4,
           4,
           4,
           4,
           4,
           4,
           4,
           4,
           4,
           4,
           4,
           4,
           4,
           4,
           4,
           4,
           4,
           4,
           4,
           4,
           4,
           4
          ],
          "coloraxis": "coloraxis",
          "symbol": "circle"
         },
         "mode": "markers",
         "name": "",
         "showlegend": false,
         "type": "scatter",
         "x": [
          0,
          0,
          0,
          0,
          0,
          0,
          0,
          0,
          0,
          0,
          0,
          0,
          0,
          0,
          0,
          0,
          0,
          3,
          0,
          0,
          0,
          0,
          0,
          0,
          0,
          0,
          0,
          0,
          0,
          0,
          0,
          0,
          0,
          0,
          3,
          0,
          3,
          0,
          0,
          0,
          3,
          2,
          3,
          0,
          3,
          0,
          3,
          2,
          0,
          0,
          0,
          0,
          0,
          0,
          2,
          2,
          3,
          2,
          5,
          2,
          2,
          2,
          0,
          2,
          5,
          2,
          1,
          2,
          0,
          0,
          2,
          2,
          2,
          2,
          0,
          1,
          2,
          2,
          1,
          1,
          0,
          5,
          0,
          1,
          1,
          1,
          2,
          0,
          1,
          2,
          5,
          0,
          5,
          1,
          2,
          1,
          1,
          1,
          1,
          1,
          1,
          5,
          1,
          2,
          1,
          1,
          0,
          1,
          1,
          5,
          1,
          1,
          1,
          1,
          1,
          5,
          1,
          1,
          5,
          5,
          5,
          1,
          1,
          1,
          1,
          1,
          1,
          1,
          1,
          1,
          1,
          1,
          1,
          1,
          1,
          1,
          1,
          1,
          1,
          1,
          1,
          4,
          4,
          4,
          4,
          4,
          4,
          4,
          4,
          4,
          4,
          4,
          4,
          4,
          4,
          4,
          4,
          4,
          4,
          4,
          4,
          4,
          4,
          4,
          4,
          4,
          4,
          4,
          4,
          4,
          4,
          4,
          4,
          4,
          4,
          4,
          4,
          4,
          4,
          4,
          4,
          4,
          4,
          4,
          4,
          4,
          4,
          4,
          4
         ],
         "xaxis": "x",
         "y": [
          0,
          0,
          0,
          0,
          0,
          0,
          0,
          0,
          0,
          0,
          0,
          0,
          0,
          0,
          0,
          0,
          0,
          0,
          0,
          0,
          0,
          0,
          0,
          0,
          0,
          0,
          0,
          0,
          0,
          0,
          0,
          0,
          0,
          0,
          0,
          0,
          0,
          0,
          0,
          0,
          0,
          0,
          0,
          0,
          0,
          0,
          0,
          0,
          0,
          0.012136363636363638,
          0.002,
          0.012136363636363638,
          0.002,
          0.012136363636363638,
          0.012136363636363638,
          0.009000000000000001,
          0.012136363636363638,
          0.012136363636363638,
          0.012136363636363638,
          0.012136363636363638,
          0.012136363636363638,
          0.012136363636363638,
          0.001,
          0.002,
          0.012136363636363638,
          0.012136363636363638,
          0.012136363636363638,
          0.012136363636363638,
          0.003,
          0.012136363636363638,
          0.012136363636363638,
          0.012136363636363638,
          0.012136363636363638,
          0.012136363636363638,
          0.008,
          0.025,
          0.003,
          0.012136363636363638,
          0.016,
          0.02,
          0.001,
          0.008,
          0.01,
          0.053,
          0.016,
          0.018000000000000002,
          0.012136363636363638,
          0.001,
          0.015,
          0.006999999999999999,
          0.005,
          0.042,
          0.012136363636363638,
          0.012136363636363638,
          0.012136363636363638,
          0.018000000000000002,
          0.06483333333333334,
          0.06483333333333334,
          0.06483333333333334,
          0.019,
          0.041,
          0.002,
          0.017,
          0.003,
          0.06483333333333334,
          0.024,
          0.004,
          0.001,
          0.06483333333333334,
          0.006999999999999999,
          0.028,
          0.06483333333333334,
          0.025,
          0.094,
          0.066,
          0.019,
          0.06483333333333334,
          0.019,
          0.004,
          0.033,
          0.085,
          0.008,
          0.014,
          0.032,
          0.029,
          0.06483333333333334,
          0.134,
          0.07400000000000001,
          0.123,
          0.171,
          0.21,
          0.09,
          0.06483333333333334,
          0.175,
          0.198,
          0.06483333333333334,
          0.092,
          0.112,
          0.081,
          0.108,
          0.174,
          0.138,
          0.261,
          0.30037209302325585,
          0.17600000000000002,
          0.17,
          0.17800000000000002,
          0.14800000000000002,
          0.282,
          0.243,
          0.13699999999999998,
          0.198,
          0.30037209302325585,
          0.029,
          0.30037209302325585,
          0.181,
          0.259,
          0.29100000000000004,
          0.273,
          0.269,
          0.261,
          0.453,
          0.368,
          0.146,
          0.236,
          0.28800000000000003,
          0.249,
          0.279,
          0.2,
          0.272,
          0.30037209302325585,
          0.243,
          0.489,
          0.28600000000000003,
          0.336,
          0.32,
          0.241,
          0.3720000000000001,
          0.389,
          0.411,
          0.297,
          0.519,
          0.30037209302325585,
          0.457,
          0.403,
          0.58,
          0.5329999999999999,
          0.465,
          0.59
         ],
         "yaxis": "y"
        }
       ],
       "layout": {
        "coloraxis": {
         "colorbar": {
          "title": {
           "text": "Hierarchical Clusters"
          }
         },
         "colorscale": [
          [
           0,
           "#4B3F72"
          ],
          [
           0.25,
           "#AB81CD"
          ],
          [
           0.5,
           "#1F7A8C"
          ],
          [
           0.75,
           "#03B5AA"
          ],
          [
           1,
           "#A3E7FC"
          ]
         ]
        },
        "height": 600,
        "legend": {
         "tracegroupgap": 0
        },
        "margin": {
         "t": 60
        },
        "template": {
         "data": {
          "bar": [
           {
            "error_x": {
             "color": "#2a3f5f"
            },
            "error_y": {
             "color": "#2a3f5f"
            },
            "marker": {
             "line": {
              "color": "#E5ECF6",
              "width": 0.5
             }
            },
            "type": "bar"
           }
          ],
          "barpolar": [
           {
            "marker": {
             "line": {
              "color": "#E5ECF6",
              "width": 0.5
             }
            },
            "type": "barpolar"
           }
          ],
          "carpet": [
           {
            "aaxis": {
             "endlinecolor": "#2a3f5f",
             "gridcolor": "white",
             "linecolor": "white",
             "minorgridcolor": "white",
             "startlinecolor": "#2a3f5f"
            },
            "baxis": {
             "endlinecolor": "#2a3f5f",
             "gridcolor": "white",
             "linecolor": "white",
             "minorgridcolor": "white",
             "startlinecolor": "#2a3f5f"
            },
            "type": "carpet"
           }
          ],
          "choropleth": [
           {
            "colorbar": {
             "outlinewidth": 0,
             "ticks": ""
            },
            "type": "choropleth"
           }
          ],
          "contour": [
           {
            "colorbar": {
             "outlinewidth": 0,
             "ticks": ""
            },
            "colorscale": [
             [
              0,
              "#0d0887"
             ],
             [
              0.1111111111111111,
              "#46039f"
             ],
             [
              0.2222222222222222,
              "#7201a8"
             ],
             [
              0.3333333333333333,
              "#9c179e"
             ],
             [
              0.4444444444444444,
              "#bd3786"
             ],
             [
              0.5555555555555556,
              "#d8576b"
             ],
             [
              0.6666666666666666,
              "#ed7953"
             ],
             [
              0.7777777777777778,
              "#fb9f3a"
             ],
             [
              0.8888888888888888,
              "#fdca26"
             ],
             [
              1,
              "#f0f921"
             ]
            ],
            "type": "contour"
           }
          ],
          "contourcarpet": [
           {
            "colorbar": {
             "outlinewidth": 0,
             "ticks": ""
            },
            "type": "contourcarpet"
           }
          ],
          "heatmap": [
           {
            "colorbar": {
             "outlinewidth": 0,
             "ticks": ""
            },
            "colorscale": [
             [
              0,
              "#0d0887"
             ],
             [
              0.1111111111111111,
              "#46039f"
             ],
             [
              0.2222222222222222,
              "#7201a8"
             ],
             [
              0.3333333333333333,
              "#9c179e"
             ],
             [
              0.4444444444444444,
              "#bd3786"
             ],
             [
              0.5555555555555556,
              "#d8576b"
             ],
             [
              0.6666666666666666,
              "#ed7953"
             ],
             [
              0.7777777777777778,
              "#fb9f3a"
             ],
             [
              0.8888888888888888,
              "#fdca26"
             ],
             [
              1,
              "#f0f921"
             ]
            ],
            "type": "heatmap"
           }
          ],
          "heatmapgl": [
           {
            "colorbar": {
             "outlinewidth": 0,
             "ticks": ""
            },
            "colorscale": [
             [
              0,
              "#0d0887"
             ],
             [
              0.1111111111111111,
              "#46039f"
             ],
             [
              0.2222222222222222,
              "#7201a8"
             ],
             [
              0.3333333333333333,
              "#9c179e"
             ],
             [
              0.4444444444444444,
              "#bd3786"
             ],
             [
              0.5555555555555556,
              "#d8576b"
             ],
             [
              0.6666666666666666,
              "#ed7953"
             ],
             [
              0.7777777777777778,
              "#fb9f3a"
             ],
             [
              0.8888888888888888,
              "#fdca26"
             ],
             [
              1,
              "#f0f921"
             ]
            ],
            "type": "heatmapgl"
           }
          ],
          "histogram": [
           {
            "marker": {
             "colorbar": {
              "outlinewidth": 0,
              "ticks": ""
             }
            },
            "type": "histogram"
           }
          ],
          "histogram2d": [
           {
            "colorbar": {
             "outlinewidth": 0,
             "ticks": ""
            },
            "colorscale": [
             [
              0,
              "#0d0887"
             ],
             [
              0.1111111111111111,
              "#46039f"
             ],
             [
              0.2222222222222222,
              "#7201a8"
             ],
             [
              0.3333333333333333,
              "#9c179e"
             ],
             [
              0.4444444444444444,
              "#bd3786"
             ],
             [
              0.5555555555555556,
              "#d8576b"
             ],
             [
              0.6666666666666666,
              "#ed7953"
             ],
             [
              0.7777777777777778,
              "#fb9f3a"
             ],
             [
              0.8888888888888888,
              "#fdca26"
             ],
             [
              1,
              "#f0f921"
             ]
            ],
            "type": "histogram2d"
           }
          ],
          "histogram2dcontour": [
           {
            "colorbar": {
             "outlinewidth": 0,
             "ticks": ""
            },
            "colorscale": [
             [
              0,
              "#0d0887"
             ],
             [
              0.1111111111111111,
              "#46039f"
             ],
             [
              0.2222222222222222,
              "#7201a8"
             ],
             [
              0.3333333333333333,
              "#9c179e"
             ],
             [
              0.4444444444444444,
              "#bd3786"
             ],
             [
              0.5555555555555556,
              "#d8576b"
             ],
             [
              0.6666666666666666,
              "#ed7953"
             ],
             [
              0.7777777777777778,
              "#fb9f3a"
             ],
             [
              0.8888888888888888,
              "#fdca26"
             ],
             [
              1,
              "#f0f921"
             ]
            ],
            "type": "histogram2dcontour"
           }
          ],
          "mesh3d": [
           {
            "colorbar": {
             "outlinewidth": 0,
             "ticks": ""
            },
            "type": "mesh3d"
           }
          ],
          "parcoords": [
           {
            "line": {
             "colorbar": {
              "outlinewidth": 0,
              "ticks": ""
             }
            },
            "type": "parcoords"
           }
          ],
          "pie": [
           {
            "automargin": true,
            "type": "pie"
           }
          ],
          "scatter": [
           {
            "marker": {
             "colorbar": {
              "outlinewidth": 0,
              "ticks": ""
             }
            },
            "type": "scatter"
           }
          ],
          "scatter3d": [
           {
            "line": {
             "colorbar": {
              "outlinewidth": 0,
              "ticks": ""
             }
            },
            "marker": {
             "colorbar": {
              "outlinewidth": 0,
              "ticks": ""
             }
            },
            "type": "scatter3d"
           }
          ],
          "scattercarpet": [
           {
            "marker": {
             "colorbar": {
              "outlinewidth": 0,
              "ticks": ""
             }
            },
            "type": "scattercarpet"
           }
          ],
          "scattergeo": [
           {
            "marker": {
             "colorbar": {
              "outlinewidth": 0,
              "ticks": ""
             }
            },
            "type": "scattergeo"
           }
          ],
          "scattergl": [
           {
            "marker": {
             "colorbar": {
              "outlinewidth": 0,
              "ticks": ""
             }
            },
            "type": "scattergl"
           }
          ],
          "scattermapbox": [
           {
            "marker": {
             "colorbar": {
              "outlinewidth": 0,
              "ticks": ""
             }
            },
            "type": "scattermapbox"
           }
          ],
          "scatterpolar": [
           {
            "marker": {
             "colorbar": {
              "outlinewidth": 0,
              "ticks": ""
             }
            },
            "type": "scatterpolar"
           }
          ],
          "scatterpolargl": [
           {
            "marker": {
             "colorbar": {
              "outlinewidth": 0,
              "ticks": ""
             }
            },
            "type": "scatterpolargl"
           }
          ],
          "scatterternary": [
           {
            "marker": {
             "colorbar": {
              "outlinewidth": 0,
              "ticks": ""
             }
            },
            "type": "scatterternary"
           }
          ],
          "surface": [
           {
            "colorbar": {
             "outlinewidth": 0,
             "ticks": ""
            },
            "colorscale": [
             [
              0,
              "#0d0887"
             ],
             [
              0.1111111111111111,
              "#46039f"
             ],
             [
              0.2222222222222222,
              "#7201a8"
             ],
             [
              0.3333333333333333,
              "#9c179e"
             ],
             [
              0.4444444444444444,
              "#bd3786"
             ],
             [
              0.5555555555555556,
              "#d8576b"
             ],
             [
              0.6666666666666666,
              "#ed7953"
             ],
             [
              0.7777777777777778,
              "#fb9f3a"
             ],
             [
              0.8888888888888888,
              "#fdca26"
             ],
             [
              1,
              "#f0f921"
             ]
            ],
            "type": "surface"
           }
          ],
          "table": [
           {
            "cells": {
             "fill": {
              "color": "#EBF0F8"
             },
             "line": {
              "color": "white"
             }
            },
            "header": {
             "fill": {
              "color": "#C8D4E3"
             },
             "line": {
              "color": "white"
             }
            },
            "type": "table"
           }
          ]
         },
         "layout": {
          "annotationdefaults": {
           "arrowcolor": "#2a3f5f",
           "arrowhead": 0,
           "arrowwidth": 1
          },
          "coloraxis": {
           "colorbar": {
            "outlinewidth": 0,
            "ticks": ""
           }
          },
          "colorscale": {
           "diverging": [
            [
             0,
             "#8e0152"
            ],
            [
             0.1,
             "#c51b7d"
            ],
            [
             0.2,
             "#de77ae"
            ],
            [
             0.3,
             "#f1b6da"
            ],
            [
             0.4,
             "#fde0ef"
            ],
            [
             0.5,
             "#f7f7f7"
            ],
            [
             0.6,
             "#e6f5d0"
            ],
            [
             0.7,
             "#b8e186"
            ],
            [
             0.8,
             "#7fbc41"
            ],
            [
             0.9,
             "#4d9221"
            ],
            [
             1,
             "#276419"
            ]
           ],
           "sequential": [
            [
             0,
             "#0d0887"
            ],
            [
             0.1111111111111111,
             "#46039f"
            ],
            [
             0.2222222222222222,
             "#7201a8"
            ],
            [
             0.3333333333333333,
             "#9c179e"
            ],
            [
             0.4444444444444444,
             "#bd3786"
            ],
            [
             0.5555555555555556,
             "#d8576b"
            ],
            [
             0.6666666666666666,
             "#ed7953"
            ],
            [
             0.7777777777777778,
             "#fb9f3a"
            ],
            [
             0.8888888888888888,
             "#fdca26"
            ],
            [
             1,
             "#f0f921"
            ]
           ],
           "sequentialminus": [
            [
             0,
             "#0d0887"
            ],
            [
             0.1111111111111111,
             "#46039f"
            ],
            [
             0.2222222222222222,
             "#7201a8"
            ],
            [
             0.3333333333333333,
             "#9c179e"
            ],
            [
             0.4444444444444444,
             "#bd3786"
            ],
            [
             0.5555555555555556,
             "#d8576b"
            ],
            [
             0.6666666666666666,
             "#ed7953"
            ],
            [
             0.7777777777777778,
             "#fb9f3a"
            ],
            [
             0.8888888888888888,
             "#fdca26"
            ],
            [
             1,
             "#f0f921"
            ]
           ]
          },
          "colorway": [
           "#636efa",
           "#EF553B",
           "#00cc96",
           "#ab63fa",
           "#FFA15A",
           "#19d3f3",
           "#FF6692",
           "#B6E880",
           "#FF97FF",
           "#FECB52"
          ],
          "font": {
           "color": "#2a3f5f"
          },
          "geo": {
           "bgcolor": "white",
           "lakecolor": "white",
           "landcolor": "#E5ECF6",
           "showlakes": true,
           "showland": true,
           "subunitcolor": "white"
          },
          "hoverlabel": {
           "align": "left"
          },
          "hovermode": "closest",
          "mapbox": {
           "style": "light"
          },
          "paper_bgcolor": "white",
          "plot_bgcolor": "#E5ECF6",
          "polar": {
           "angularaxis": {
            "gridcolor": "white",
            "linecolor": "white",
            "ticks": ""
           },
           "bgcolor": "#E5ECF6",
           "radialaxis": {
            "gridcolor": "white",
            "linecolor": "white",
            "ticks": ""
           }
          },
          "scene": {
           "xaxis": {
            "backgroundcolor": "#E5ECF6",
            "gridcolor": "white",
            "gridwidth": 2,
            "linecolor": "white",
            "showbackground": true,
            "ticks": "",
            "zerolinecolor": "white"
           },
           "yaxis": {
            "backgroundcolor": "#E5ECF6",
            "gridcolor": "white",
            "gridwidth": 2,
            "linecolor": "white",
            "showbackground": true,
            "ticks": "",
            "zerolinecolor": "white"
           },
           "zaxis": {
            "backgroundcolor": "#E5ECF6",
            "gridcolor": "white",
            "gridwidth": 2,
            "linecolor": "white",
            "showbackground": true,
            "ticks": "",
            "zerolinecolor": "white"
           }
          },
          "shapedefaults": {
           "line": {
            "color": "#2a3f5f"
           }
          },
          "ternary": {
           "aaxis": {
            "gridcolor": "white",
            "linecolor": "white",
            "ticks": ""
           },
           "baxis": {
            "gridcolor": "white",
            "linecolor": "white",
            "ticks": ""
           },
           "bgcolor": "#E5ECF6",
           "caxis": {
            "gridcolor": "white",
            "linecolor": "white",
            "ticks": ""
           }
          },
          "title": {
           "x": 0.05
          },
          "xaxis": {
           "automargin": true,
           "gridcolor": "white",
           "linecolor": "white",
           "ticks": "",
           "title": {
            "standoff": 15
           },
           "zerolinecolor": "white",
           "zerolinewidth": 2
          },
          "yaxis": {
           "automargin": true,
           "gridcolor": "white",
           "linecolor": "white",
           "ticks": "",
           "title": {
            "standoff": 15
           },
           "zerolinecolor": "white",
           "zerolinewidth": 2
          }
         }
        },
        "xaxis": {
         "anchor": "y",
         "domain": [
          0,
          1
         ],
         "title": {
          "text": "Hierarchical Clusters"
         }
        },
        "yaxis": {
         "anchor": "x",
         "domain": [
          0,
          1
         ],
         "title": {
          "text": "Multidimensional Poverty Index Value"
         }
        }
       }
      },
      "text/html": [
       "<div>\n",
       "        \n",
       "        \n",
       "            <div id=\"08b44c23-c2cc-4317-9475-25204bcf908f\" class=\"plotly-graph-div\" style=\"height:600px; width:100%;\"></div>\n",
       "            <script type=\"text/javascript\">\n",
       "                require([\"plotly\"], function(Plotly) {\n",
       "                    window.PLOTLYENV=window.PLOTLYENV || {};\n",
       "                    \n",
       "                if (document.getElementById(\"08b44c23-c2cc-4317-9475-25204bcf908f\")) {\n",
       "                    Plotly.newPlot(\n",
       "                        '08b44c23-c2cc-4317-9475-25204bcf908f',\n",
       "                        [{\"hoverlabel\": {\"namelength\": 0}, \"hovertemplate\": \"Hierarchical Clusters=%{marker.color}<br>Multidimensional Poverty Index Value=%{y}\", \"legendgroup\": \"\", \"marker\": {\"color\": [0, 0, 0, 0, 0, 0, 0, 0, 0, 0, 0, 0, 0, 0, 0, 0, 0, 3, 0, 0, 0, 0, 0, 0, 0, 0, 0, 0, 0, 0, 0, 0, 0, 0, 3, 0, 3, 0, 0, 0, 3, 2, 3, 0, 3, 0, 3, 2, 0, 0, 0, 0, 0, 0, 2, 2, 3, 2, 5, 2, 2, 2, 0, 2, 5, 2, 1, 2, 0, 0, 2, 2, 2, 2, 0, 1, 2, 2, 1, 1, 0, 5, 0, 1, 1, 1, 2, 0, 1, 2, 5, 0, 5, 1, 2, 1, 1, 1, 1, 1, 1, 5, 1, 2, 1, 1, 0, 1, 1, 5, 1, 1, 1, 1, 1, 5, 1, 1, 5, 5, 5, 1, 1, 1, 1, 1, 1, 1, 1, 1, 1, 1, 1, 1, 1, 1, 1, 1, 1, 1, 1, 4, 4, 4, 4, 4, 4, 4, 4, 4, 4, 4, 4, 4, 4, 4, 4, 4, 4, 4, 4, 4, 4, 4, 4, 4, 4, 4, 4, 4, 4, 4, 4, 4, 4, 4, 4, 4, 4, 4, 4, 4, 4, 4, 4, 4, 4, 4, 4], \"coloraxis\": \"coloraxis\", \"symbol\": \"circle\"}, \"mode\": \"markers\", \"name\": \"\", \"showlegend\": false, \"type\": \"scatter\", \"x\": [0, 0, 0, 0, 0, 0, 0, 0, 0, 0, 0, 0, 0, 0, 0, 0, 0, 3, 0, 0, 0, 0, 0, 0, 0, 0, 0, 0, 0, 0, 0, 0, 0, 0, 3, 0, 3, 0, 0, 0, 3, 2, 3, 0, 3, 0, 3, 2, 0, 0, 0, 0, 0, 0, 2, 2, 3, 2, 5, 2, 2, 2, 0, 2, 5, 2, 1, 2, 0, 0, 2, 2, 2, 2, 0, 1, 2, 2, 1, 1, 0, 5, 0, 1, 1, 1, 2, 0, 1, 2, 5, 0, 5, 1, 2, 1, 1, 1, 1, 1, 1, 5, 1, 2, 1, 1, 0, 1, 1, 5, 1, 1, 1, 1, 1, 5, 1, 1, 5, 5, 5, 1, 1, 1, 1, 1, 1, 1, 1, 1, 1, 1, 1, 1, 1, 1, 1, 1, 1, 1, 1, 4, 4, 4, 4, 4, 4, 4, 4, 4, 4, 4, 4, 4, 4, 4, 4, 4, 4, 4, 4, 4, 4, 4, 4, 4, 4, 4, 4, 4, 4, 4, 4, 4, 4, 4, 4, 4, 4, 4, 4, 4, 4, 4, 4, 4, 4, 4, 4], \"xaxis\": \"x\", \"y\": [0.0, 0.0, 0.0, 0.0, 0.0, 0.0, 0.0, 0.0, 0.0, 0.0, 0.0, 0.0, 0.0, 0.0, 0.0, 0.0, 0.0, 0.0, 0.0, 0.0, 0.0, 0.0, 0.0, 0.0, 0.0, 0.0, 0.0, 0.0, 0.0, 0.0, 0.0, 0.0, 0.0, 0.0, 0.0, 0.0, 0.0, 0.0, 0.0, 0.0, 0.0, 0.0, 0.0, 0.0, 0.0, 0.0, 0.0, 0.0, 0.0, 0.012136363636363638, 0.002, 0.012136363636363638, 0.002, 0.012136363636363638, 0.012136363636363638, 0.009000000000000001, 0.012136363636363638, 0.012136363636363638, 0.012136363636363638, 0.012136363636363638, 0.012136363636363638, 0.012136363636363638, 0.001, 0.002, 0.012136363636363638, 0.012136363636363638, 0.012136363636363638, 0.012136363636363638, 0.003, 0.012136363636363638, 0.012136363636363638, 0.012136363636363638, 0.012136363636363638, 0.012136363636363638, 0.008, 0.025, 0.003, 0.012136363636363638, 0.016, 0.02, 0.001, 0.008, 0.01, 0.053, 0.016, 0.018000000000000002, 0.012136363636363638, 0.001, 0.015, 0.006999999999999999, 0.005, 0.042, 0.012136363636363638, 0.012136363636363638, 0.012136363636363638, 0.018000000000000002, 0.06483333333333334, 0.06483333333333334, 0.06483333333333334, 0.019, 0.041, 0.002, 0.017, 0.003, 0.06483333333333334, 0.024, 0.004, 0.001, 0.06483333333333334, 0.006999999999999999, 0.028, 0.06483333333333334, 0.025, 0.094, 0.066, 0.019, 0.06483333333333334, 0.019, 0.004, 0.033, 0.085, 0.008, 0.014, 0.032, 0.029, 0.06483333333333334, 0.134, 0.07400000000000001, 0.123, 0.171, 0.21, 0.09, 0.06483333333333334, 0.175, 0.198, 0.06483333333333334, 0.092, 0.112, 0.081, 0.108, 0.174, 0.138, 0.261, 0.30037209302325585, 0.17600000000000002, 0.17, 0.17800000000000002, 0.14800000000000002, 0.282, 0.243, 0.13699999999999998, 0.198, 0.30037209302325585, 0.029, 0.30037209302325585, 0.181, 0.259, 0.29100000000000004, 0.273, 0.269, 0.261, 0.453, 0.368, 0.146, 0.236, 0.28800000000000003, 0.249, 0.279, 0.2, 0.272, 0.30037209302325585, 0.243, 0.489, 0.28600000000000003, 0.336, 0.32, 0.241, 0.3720000000000001, 0.389, 0.411, 0.297, 0.519, 0.30037209302325585, 0.457, 0.403, 0.58, 0.5329999999999999, 0.465, 0.59], \"yaxis\": \"y\"}],\n",
       "                        {\"coloraxis\": {\"colorbar\": {\"title\": {\"text\": \"Hierarchical Clusters\"}}, \"colorscale\": [[0.0, \"#4B3F72\"], [0.25, \"#AB81CD\"], [0.5, \"#1F7A8C\"], [0.75, \"#03B5AA\"], [1.0, \"#A3E7FC\"]]}, \"height\": 600, \"legend\": {\"tracegroupgap\": 0}, \"margin\": {\"t\": 60}, \"template\": {\"data\": {\"bar\": [{\"error_x\": {\"color\": \"#2a3f5f\"}, \"error_y\": {\"color\": \"#2a3f5f\"}, \"marker\": {\"line\": {\"color\": \"#E5ECF6\", \"width\": 0.5}}, \"type\": \"bar\"}], \"barpolar\": [{\"marker\": {\"line\": {\"color\": \"#E5ECF6\", \"width\": 0.5}}, \"type\": \"barpolar\"}], \"carpet\": [{\"aaxis\": {\"endlinecolor\": \"#2a3f5f\", \"gridcolor\": \"white\", \"linecolor\": \"white\", \"minorgridcolor\": \"white\", \"startlinecolor\": \"#2a3f5f\"}, \"baxis\": {\"endlinecolor\": \"#2a3f5f\", \"gridcolor\": \"white\", \"linecolor\": \"white\", \"minorgridcolor\": \"white\", \"startlinecolor\": \"#2a3f5f\"}, \"type\": \"carpet\"}], \"choropleth\": [{\"colorbar\": {\"outlinewidth\": 0, \"ticks\": \"\"}, \"type\": \"choropleth\"}], \"contour\": [{\"colorbar\": {\"outlinewidth\": 0, \"ticks\": \"\"}, \"colorscale\": [[0.0, \"#0d0887\"], [0.1111111111111111, \"#46039f\"], [0.2222222222222222, \"#7201a8\"], [0.3333333333333333, \"#9c179e\"], [0.4444444444444444, \"#bd3786\"], [0.5555555555555556, \"#d8576b\"], [0.6666666666666666, \"#ed7953\"], [0.7777777777777778, \"#fb9f3a\"], [0.8888888888888888, \"#fdca26\"], [1.0, \"#f0f921\"]], \"type\": \"contour\"}], \"contourcarpet\": [{\"colorbar\": {\"outlinewidth\": 0, \"ticks\": \"\"}, \"type\": \"contourcarpet\"}], \"heatmap\": [{\"colorbar\": {\"outlinewidth\": 0, \"ticks\": \"\"}, \"colorscale\": [[0.0, \"#0d0887\"], [0.1111111111111111, \"#46039f\"], [0.2222222222222222, \"#7201a8\"], [0.3333333333333333, \"#9c179e\"], [0.4444444444444444, \"#bd3786\"], [0.5555555555555556, \"#d8576b\"], [0.6666666666666666, \"#ed7953\"], [0.7777777777777778, \"#fb9f3a\"], [0.8888888888888888, \"#fdca26\"], [1.0, \"#f0f921\"]], \"type\": \"heatmap\"}], \"heatmapgl\": [{\"colorbar\": {\"outlinewidth\": 0, \"ticks\": \"\"}, \"colorscale\": [[0.0, \"#0d0887\"], [0.1111111111111111, \"#46039f\"], [0.2222222222222222, \"#7201a8\"], [0.3333333333333333, \"#9c179e\"], [0.4444444444444444, \"#bd3786\"], [0.5555555555555556, \"#d8576b\"], [0.6666666666666666, \"#ed7953\"], [0.7777777777777778, \"#fb9f3a\"], [0.8888888888888888, \"#fdca26\"], [1.0, \"#f0f921\"]], \"type\": \"heatmapgl\"}], \"histogram\": [{\"marker\": {\"colorbar\": {\"outlinewidth\": 0, \"ticks\": \"\"}}, \"type\": \"histogram\"}], \"histogram2d\": [{\"colorbar\": {\"outlinewidth\": 0, \"ticks\": \"\"}, \"colorscale\": [[0.0, \"#0d0887\"], [0.1111111111111111, \"#46039f\"], [0.2222222222222222, \"#7201a8\"], [0.3333333333333333, \"#9c179e\"], [0.4444444444444444, \"#bd3786\"], [0.5555555555555556, \"#d8576b\"], [0.6666666666666666, \"#ed7953\"], [0.7777777777777778, \"#fb9f3a\"], [0.8888888888888888, \"#fdca26\"], [1.0, \"#f0f921\"]], \"type\": \"histogram2d\"}], \"histogram2dcontour\": [{\"colorbar\": {\"outlinewidth\": 0, \"ticks\": \"\"}, \"colorscale\": [[0.0, \"#0d0887\"], [0.1111111111111111, \"#46039f\"], [0.2222222222222222, \"#7201a8\"], [0.3333333333333333, \"#9c179e\"], [0.4444444444444444, \"#bd3786\"], [0.5555555555555556, \"#d8576b\"], [0.6666666666666666, \"#ed7953\"], [0.7777777777777778, \"#fb9f3a\"], [0.8888888888888888, \"#fdca26\"], [1.0, \"#f0f921\"]], \"type\": \"histogram2dcontour\"}], \"mesh3d\": [{\"colorbar\": {\"outlinewidth\": 0, \"ticks\": \"\"}, \"type\": \"mesh3d\"}], \"parcoords\": [{\"line\": {\"colorbar\": {\"outlinewidth\": 0, \"ticks\": \"\"}}, \"type\": \"parcoords\"}], \"pie\": [{\"automargin\": true, \"type\": \"pie\"}], \"scatter\": [{\"marker\": {\"colorbar\": {\"outlinewidth\": 0, \"ticks\": \"\"}}, \"type\": \"scatter\"}], \"scatter3d\": [{\"line\": {\"colorbar\": {\"outlinewidth\": 0, \"ticks\": \"\"}}, \"marker\": {\"colorbar\": {\"outlinewidth\": 0, \"ticks\": \"\"}}, \"type\": \"scatter3d\"}], \"scattercarpet\": [{\"marker\": {\"colorbar\": {\"outlinewidth\": 0, \"ticks\": \"\"}}, \"type\": \"scattercarpet\"}], \"scattergeo\": [{\"marker\": {\"colorbar\": {\"outlinewidth\": 0, \"ticks\": \"\"}}, \"type\": \"scattergeo\"}], \"scattergl\": [{\"marker\": {\"colorbar\": {\"outlinewidth\": 0, \"ticks\": \"\"}}, \"type\": \"scattergl\"}], \"scattermapbox\": [{\"marker\": {\"colorbar\": {\"outlinewidth\": 0, \"ticks\": \"\"}}, \"type\": \"scattermapbox\"}], \"scatterpolar\": [{\"marker\": {\"colorbar\": {\"outlinewidth\": 0, \"ticks\": \"\"}}, \"type\": \"scatterpolar\"}], \"scatterpolargl\": [{\"marker\": {\"colorbar\": {\"outlinewidth\": 0, \"ticks\": \"\"}}, \"type\": \"scatterpolargl\"}], \"scatterternary\": [{\"marker\": {\"colorbar\": {\"outlinewidth\": 0, \"ticks\": \"\"}}, \"type\": \"scatterternary\"}], \"surface\": [{\"colorbar\": {\"outlinewidth\": 0, \"ticks\": \"\"}, \"colorscale\": [[0.0, \"#0d0887\"], [0.1111111111111111, \"#46039f\"], [0.2222222222222222, \"#7201a8\"], [0.3333333333333333, \"#9c179e\"], [0.4444444444444444, \"#bd3786\"], [0.5555555555555556, \"#d8576b\"], [0.6666666666666666, \"#ed7953\"], [0.7777777777777778, \"#fb9f3a\"], [0.8888888888888888, \"#fdca26\"], [1.0, \"#f0f921\"]], \"type\": \"surface\"}], \"table\": [{\"cells\": {\"fill\": {\"color\": \"#EBF0F8\"}, \"line\": {\"color\": \"white\"}}, \"header\": {\"fill\": {\"color\": \"#C8D4E3\"}, \"line\": {\"color\": \"white\"}}, \"type\": \"table\"}]}, \"layout\": {\"annotationdefaults\": {\"arrowcolor\": \"#2a3f5f\", \"arrowhead\": 0, \"arrowwidth\": 1}, \"coloraxis\": {\"colorbar\": {\"outlinewidth\": 0, \"ticks\": \"\"}}, \"colorscale\": {\"diverging\": [[0, \"#8e0152\"], [0.1, \"#c51b7d\"], [0.2, \"#de77ae\"], [0.3, \"#f1b6da\"], [0.4, \"#fde0ef\"], [0.5, \"#f7f7f7\"], [0.6, \"#e6f5d0\"], [0.7, \"#b8e186\"], [0.8, \"#7fbc41\"], [0.9, \"#4d9221\"], [1, \"#276419\"]], \"sequential\": [[0.0, \"#0d0887\"], [0.1111111111111111, \"#46039f\"], [0.2222222222222222, \"#7201a8\"], [0.3333333333333333, \"#9c179e\"], [0.4444444444444444, \"#bd3786\"], [0.5555555555555556, \"#d8576b\"], [0.6666666666666666, \"#ed7953\"], [0.7777777777777778, \"#fb9f3a\"], [0.8888888888888888, \"#fdca26\"], [1.0, \"#f0f921\"]], \"sequentialminus\": [[0.0, \"#0d0887\"], [0.1111111111111111, \"#46039f\"], [0.2222222222222222, \"#7201a8\"], [0.3333333333333333, \"#9c179e\"], [0.4444444444444444, \"#bd3786\"], [0.5555555555555556, \"#d8576b\"], [0.6666666666666666, \"#ed7953\"], [0.7777777777777778, \"#fb9f3a\"], [0.8888888888888888, \"#fdca26\"], [1.0, \"#f0f921\"]]}, \"colorway\": [\"#636efa\", \"#EF553B\", \"#00cc96\", \"#ab63fa\", \"#FFA15A\", \"#19d3f3\", \"#FF6692\", \"#B6E880\", \"#FF97FF\", \"#FECB52\"], \"font\": {\"color\": \"#2a3f5f\"}, \"geo\": {\"bgcolor\": \"white\", \"lakecolor\": \"white\", \"landcolor\": \"#E5ECF6\", \"showlakes\": true, \"showland\": true, \"subunitcolor\": \"white\"}, \"hoverlabel\": {\"align\": \"left\"}, \"hovermode\": \"closest\", \"mapbox\": {\"style\": \"light\"}, \"paper_bgcolor\": \"white\", \"plot_bgcolor\": \"#E5ECF6\", \"polar\": {\"angularaxis\": {\"gridcolor\": \"white\", \"linecolor\": \"white\", \"ticks\": \"\"}, \"bgcolor\": \"#E5ECF6\", \"radialaxis\": {\"gridcolor\": \"white\", \"linecolor\": \"white\", \"ticks\": \"\"}}, \"scene\": {\"xaxis\": {\"backgroundcolor\": \"#E5ECF6\", \"gridcolor\": \"white\", \"gridwidth\": 2, \"linecolor\": \"white\", \"showbackground\": true, \"ticks\": \"\", \"zerolinecolor\": \"white\"}, \"yaxis\": {\"backgroundcolor\": \"#E5ECF6\", \"gridcolor\": \"white\", \"gridwidth\": 2, \"linecolor\": \"white\", \"showbackground\": true, \"ticks\": \"\", \"zerolinecolor\": \"white\"}, \"zaxis\": {\"backgroundcolor\": \"#E5ECF6\", \"gridcolor\": \"white\", \"gridwidth\": 2, \"linecolor\": \"white\", \"showbackground\": true, \"ticks\": \"\", \"zerolinecolor\": \"white\"}}, \"shapedefaults\": {\"line\": {\"color\": \"#2a3f5f\"}}, \"ternary\": {\"aaxis\": {\"gridcolor\": \"white\", \"linecolor\": \"white\", \"ticks\": \"\"}, \"baxis\": {\"gridcolor\": \"white\", \"linecolor\": \"white\", \"ticks\": \"\"}, \"bgcolor\": \"#E5ECF6\", \"caxis\": {\"gridcolor\": \"white\", \"linecolor\": \"white\", \"ticks\": \"\"}}, \"title\": {\"x\": 0.05}, \"xaxis\": {\"automargin\": true, \"gridcolor\": \"white\", \"linecolor\": \"white\", \"ticks\": \"\", \"title\": {\"standoff\": 15}, \"zerolinecolor\": \"white\", \"zerolinewidth\": 2}, \"yaxis\": {\"automargin\": true, \"gridcolor\": \"white\", \"linecolor\": \"white\", \"ticks\": \"\", \"title\": {\"standoff\": 15}, \"zerolinecolor\": \"white\", \"zerolinewidth\": 2}}}, \"xaxis\": {\"anchor\": \"y\", \"domain\": [0.0, 1.0], \"title\": {\"text\": \"Hierarchical Clusters\"}}, \"yaxis\": {\"anchor\": \"x\", \"domain\": [0.0, 1.0], \"title\": {\"text\": \"Multidimensional Poverty Index Value\"}}},\n",
       "                        {\"responsive\": true}\n",
       "                    ).then(function(){\n",
       "                            \n",
       "var gd = document.getElementById('08b44c23-c2cc-4317-9475-25204bcf908f');\n",
       "var x = new MutationObserver(function (mutations, observer) {{\n",
       "        var display = window.getComputedStyle(gd).display;\n",
       "        if (!display || display === 'none') {{\n",
       "            console.log([gd, 'removed!']);\n",
       "            Plotly.purge(gd);\n",
       "            observer.disconnect();\n",
       "        }}\n",
       "}});\n",
       "\n",
       "// Listen for the removal of the full notebook cells\n",
       "var notebookContainer = gd.closest('#notebook-container');\n",
       "if (notebookContainer) {{\n",
       "    x.observe(notebookContainer, {childList: true});\n",
       "}}\n",
       "\n",
       "// Listen for the clearing of the current output cell\n",
       "var outputEl = gd.closest('.output');\n",
       "if (outputEl) {{\n",
       "    x.observe(outputEl, {childList: true});\n",
       "}}\n",
       "\n",
       "                        })\n",
       "                };\n",
       "                });\n",
       "            </script>\n",
       "        </div>"
      ]
     },
     "metadata": {},
     "output_type": "display_data"
    }
   ],
   "source": [
    "px.scatter(data_frame= X, x = 'Hierarchical Clusters', y = 'Multidimensional Poverty Index Value', color= 'Hierarchical Clusters',\n",
    "           color_continuous_scale= palette)"
   ]
  },
  {
   "cell_type": "code",
   "execution_count": 232,
   "metadata": {},
   "outputs": [
    {
     "data": {
      "application/vnd.plotly.v1+json": {
       "config": {
        "plotlyServerURL": "https://plot.ly"
       },
       "data": [
        {
         "hoverlabel": {
          "namelength": 0
         },
         "hovertemplate": "<b>%{hovertext}</b><br><br>Hierarchical Clusters=%{marker.color}<br>Gender Inequality Index Value=%{y}",
         "hovertext": [
          "Norway",
          "Switzerland",
          "Ireland",
          "Germany",
          "Hong Kong, China (SAR)",
          "Australia",
          "Iceland",
          "Sweden",
          "Singapore",
          "Netherlands",
          "Denmark",
          "Finland",
          "Canada",
          "New Zealand",
          "United Kingdom",
          "United States",
          "Belgium",
          "Liechtenstein",
          "Japan",
          "Austria",
          "Luxembourg",
          "Israel",
          "Korea (Republic of)",
          "Slovenia",
          "Spain",
          "Czechia",
          "France",
          "Malta",
          "Italy",
          "Estonia",
          "Cyprus",
          "Greece",
          "Poland",
          "Lithuania",
          "United Arab Emirates",
          "Andorra",
          "Saudi Arabia",
          "Slovakia",
          "Latvia",
          "Portugal",
          "Qatar",
          "Chile",
          "Brunei Darussalam",
          "Hungary",
          "Bahrain",
          "Croatia",
          "Oman",
          "Argentina",
          "Russian Federation",
          "Belarus",
          "Kazakhstan",
          "Bulgaria",
          "Montenegro",
          "Romania",
          "Palau",
          "Barbados",
          "Kuwait",
          "Uruguay",
          "Turkey",
          "Bahamas",
          "Malaysia",
          "Seychelles",
          "Serbia",
          "Trinidad and Tobago",
          "Iran (Islamic Republic of)",
          "Mauritius",
          "Panama",
          "Costa Rica",
          "Albania",
          "Georgia",
          "Sri Lanka",
          "Cuba",
          "Saint Kitts and Nevis",
          "Antigua and Barbuda",
          "Bosnia and Herzegovina",
          "Mexico",
          "Thailand",
          "Grenada",
          "Brazil",
          "Colombia",
          "Armenia",
          "Algeria",
          "North Macedonia",
          "Peru",
          "China",
          "Ecuador",
          "Azerbaijan",
          "Ukraine",
          "Dominican Republic",
          "Saint Lucia",
          "Tunisia",
          "Mongolia",
          "Lebanon",
          "Botswana",
          "Saint Vincent and the Grenadines",
          "Jamaica",
          "Venezuela (Bolivarian Republic of)",
          "Dominica",
          "Fiji",
          "Paraguay",
          "Suriname",
          "Jordan",
          "Belize",
          "Maldives",
          "Tonga",
          "Philippines",
          "Moldova (Republic of)",
          "Turkmenistan",
          "Uzbekistan",
          "Libya",
          "Indonesia",
          "Samoa",
          "South Africa",
          "Bolivia (Plurinational State of)",
          "Gabon",
          "Egypt",
          "Marshall Islands",
          "Viet Nam",
          "Palestine, State of",
          "Iraq",
          "Morocco",
          "Kyrgyzstan",
          "Guyana",
          "El Salvador",
          "Tajikistan",
          "Cabo Verde",
          "Guatemala",
          "Nicaragua",
          "India",
          "Namibia",
          "Timor-Leste",
          "Honduras",
          "Kiribati",
          "Bhutan",
          "Bangladesh",
          "Micronesia (Federated States of)",
          "Sao Tome and Principe",
          "Congo",
          "Eswatini (Kingdom of)",
          "Lao People's Democratic Republic",
          "Vanuatu",
          "Ghana",
          "Zambia",
          "Equatorial Guinea",
          "Myanmar",
          "Cambodia",
          "Kenya",
          "Nepal",
          "Angola",
          "Cameroon",
          "Zimbabwe",
          "Pakistan",
          "Solomon Islands",
          "Syrian Arab Republic",
          "Papua New Guinea",
          "Comoros",
          "Rwanda",
          "Nigeria",
          "Tanzania (United Republic of)",
          "Uganda",
          "Mauritania",
          "Madagascar",
          "Benin",
          "Lesotho",
          "Côte d'Ivoire",
          "Senegal",
          "Togo",
          "Sudan",
          "Haiti",
          "Afghanistan",
          "Djibouti",
          "Malawi",
          "Ethiopia",
          "Gambia",
          "Guinea",
          "Liberia",
          "Yemen",
          "Guinea-Bissau",
          "Congo (Democratic Republic of the)",
          "Mozambique",
          "Sierra Leone",
          "Burkina Faso",
          "Eritrea",
          "Mali",
          "Burundi",
          "South Sudan",
          "Chad",
          "Central African Republic",
          "Niger"
         ],
         "legendgroup": "",
         "marker": {
          "color": [
           0,
           0,
           0,
           0,
           0,
           0,
           0,
           0,
           0,
           0,
           0,
           0,
           0,
           0,
           0,
           0,
           0,
           3,
           0,
           0,
           0,
           0,
           0,
           0,
           0,
           0,
           0,
           0,
           0,
           0,
           0,
           0,
           0,
           0,
           3,
           0,
           3,
           0,
           0,
           0,
           3,
           2,
           3,
           0,
           3,
           0,
           3,
           2,
           0,
           0,
           0,
           0,
           0,
           0,
           2,
           2,
           3,
           2,
           5,
           2,
           2,
           2,
           0,
           2,
           5,
           2,
           1,
           2,
           0,
           0,
           2,
           2,
           2,
           2,
           0,
           1,
           2,
           2,
           1,
           1,
           0,
           5,
           0,
           1,
           1,
           1,
           2,
           0,
           1,
           2,
           5,
           0,
           5,
           1,
           2,
           1,
           1,
           1,
           1,
           1,
           1,
           5,
           1,
           2,
           1,
           1,
           0,
           1,
           1,
           5,
           1,
           1,
           1,
           1,
           1,
           5,
           1,
           1,
           5,
           5,
           5,
           1,
           1,
           1,
           1,
           1,
           1,
           1,
           1,
           1,
           1,
           1,
           1,
           1,
           1,
           1,
           1,
           1,
           1,
           1,
           1,
           4,
           4,
           4,
           4,
           4,
           4,
           4,
           4,
           4,
           4,
           4,
           4,
           4,
           4,
           4,
           4,
           4,
           4,
           4,
           4,
           4,
           4,
           4,
           4,
           4,
           4,
           4,
           4,
           4,
           4,
           4,
           4,
           4,
           4,
           4,
           4,
           4,
           4,
           4,
           4,
           4,
           4,
           4,
           4,
           4,
           4,
           4,
           4
          ],
          "coloraxis": "coloraxis",
          "symbol": "circle"
         },
         "mode": "markers",
         "name": "",
         "showlegend": false,
         "type": "scatter",
         "x": [
          0,
          0,
          0,
          0,
          0,
          0,
          0,
          0,
          0,
          0,
          0,
          0,
          0,
          0,
          0,
          0,
          0,
          3,
          0,
          0,
          0,
          0,
          0,
          0,
          0,
          0,
          0,
          0,
          0,
          0,
          0,
          0,
          0,
          0,
          3,
          0,
          3,
          0,
          0,
          0,
          3,
          2,
          3,
          0,
          3,
          0,
          3,
          2,
          0,
          0,
          0,
          0,
          0,
          0,
          2,
          2,
          3,
          2,
          5,
          2,
          2,
          2,
          0,
          2,
          5,
          2,
          1,
          2,
          0,
          0,
          2,
          2,
          2,
          2,
          0,
          1,
          2,
          2,
          1,
          1,
          0,
          5,
          0,
          1,
          1,
          1,
          2,
          0,
          1,
          2,
          5,
          0,
          5,
          1,
          2,
          1,
          1,
          1,
          1,
          1,
          1,
          5,
          1,
          2,
          1,
          1,
          0,
          1,
          1,
          5,
          1,
          1,
          1,
          1,
          1,
          5,
          1,
          1,
          5,
          5,
          5,
          1,
          1,
          1,
          1,
          1,
          1,
          1,
          1,
          1,
          1,
          1,
          1,
          1,
          1,
          1,
          1,
          1,
          1,
          1,
          1,
          4,
          4,
          4,
          4,
          4,
          4,
          4,
          4,
          4,
          4,
          4,
          4,
          4,
          4,
          4,
          4,
          4,
          4,
          4,
          4,
          4,
          4,
          4,
          4,
          4,
          4,
          4,
          4,
          4,
          4,
          4,
          4,
          4,
          4,
          4,
          4,
          4,
          4,
          4,
          4,
          4,
          4,
          4,
          4,
          4,
          4,
          4,
          4
         ],
         "xaxis": "x",
         "y": [
          0.044000000000000004,
          0.037000000000000005,
          0.09300000000000001,
          0.084,
          0.12528260869565214,
          0.10300000000000001,
          0.057,
          0.04,
          0.065,
          0.040999999999999995,
          0.04,
          0.05,
          0.083,
          0.133,
          0.11900000000000001,
          0.182,
          0.045,
          0.12528260869565214,
          0.099,
          0.073,
          0.078,
          0.1,
          0.057999999999999996,
          0.069,
          0.07400000000000001,
          0.13699999999999998,
          0.051,
          0.195,
          0.069,
          0.091,
          0.086,
          0.122,
          0.12,
          0.124,
          0.113,
          0.12528260869565214,
          0.22399999999999998,
          0.19,
          0.16899999999999998,
          0.081,
          0.20199999999999999,
          0.28800000000000003,
          0.23399999999999999,
          0.258,
          0.207,
          0.122,
          0.304,
          0.354,
          0.255,
          0.11900000000000001,
          0.203,
          0.218,
          0.11900000000000001,
          0.316,
          0.30847499999999994,
          0.256,
          0.245,
          0.275,
          0.305,
          0.353,
          0.27399999999999997,
          0.30847499999999994,
          0.161,
          0.32299999999999995,
          0.49200000000000005,
          0.369,
          0.46,
          0.285,
          0.23399999999999999,
          0.35100000000000003,
          0.38,
          0.312,
          0.30847499999999994,
          0.30847499999999994,
          0.162,
          0.33399999999999996,
          0.377,
          0.30847499999999994,
          0.386,
          0.41100000000000003,
          0.259,
          0.44299999999999995,
          0.145,
          0.381,
          0.163,
          0.389,
          0.321,
          0.284,
          0.45299999999999996,
          0.33299999999999996,
          0.3,
          0.322,
          0.36200000000000004,
          0.46399999999999997,
          0.30847499999999994,
          0.405,
          0.45799999999999996,
          0.43418421052631584,
          0.35700000000000004,
          0.48200000000000004,
          0.465,
          0.469,
          0.391,
          0.36700000000000005,
          0.418,
          0.425,
          0.228,
          0.43418421052631584,
          0.303,
          0.172,
          0.451,
          0.364,
          0.42200000000000004,
          0.446,
          0.534,
          0.45,
          0.43418421052631584,
          0.314,
          0.43418421052631584,
          0.54,
          0.49200000000000005,
          0.381,
          0.49200000000000005,
          0.397,
          0.377,
          0.37200000000000005,
          0.49200000000000005,
          0.455,
          0.501,
          0.46,
          0.43418421052631584,
          0.479,
          0.43418421052631584,
          0.436,
          0.536,
          0.43418421052631584,
          0.547,
          0.579,
          0.579,
          0.46299999999999997,
          0.43418421052631584,
          0.541,
          0.54,
          0.5850789473684208,
          0.45799999999999996,
          0.474,
          0.545,
          0.47600000000000003,
          0.578,
          0.5660000000000001,
          0.525,
          0.547,
          0.5850789473684208,
          0.547,
          0.74,
          0.5850789473684208,
          0.41200000000000003,
          0.5850789473684208,
          0.539,
          0.531,
          0.62,
          0.5850789473684208,
          0.613,
          0.546,
          0.657,
          0.523,
          0.5660000000000001,
          0.56,
          0.62,
          0.575,
          0.5850789473684208,
          0.615,
          0.508,
          0.62,
          0.5850789473684208,
          0.6509999999999999,
          0.8340000000000001,
          0.5850789473684208,
          0.655,
          0.569,
          0.644,
          0.612,
          0.5850789473684208,
          0.6759999999999999,
          0.52,
          0.5850789473684208,
          0.701,
          0.682,
          0.647
         ],
         "yaxis": "y"
        }
       ],
       "layout": {
        "coloraxis": {
         "colorbar": {
          "title": {
           "text": "Hierarchical Clusters"
          }
         },
         "colorscale": [
          [
           0,
           "#4B3F72"
          ],
          [
           0.25,
           "#AB81CD"
          ],
          [
           0.5,
           "#1F7A8C"
          ],
          [
           0.75,
           "#03B5AA"
          ],
          [
           1,
           "#A3E7FC"
          ]
         ]
        },
        "height": 600,
        "legend": {
         "tracegroupgap": 0
        },
        "margin": {
         "t": 60
        },
        "template": {
         "data": {
          "bar": [
           {
            "error_x": {
             "color": "#2a3f5f"
            },
            "error_y": {
             "color": "#2a3f5f"
            },
            "marker": {
             "line": {
              "color": "#E5ECF6",
              "width": 0.5
             }
            },
            "type": "bar"
           }
          ],
          "barpolar": [
           {
            "marker": {
             "line": {
              "color": "#E5ECF6",
              "width": 0.5
             }
            },
            "type": "barpolar"
           }
          ],
          "carpet": [
           {
            "aaxis": {
             "endlinecolor": "#2a3f5f",
             "gridcolor": "white",
             "linecolor": "white",
             "minorgridcolor": "white",
             "startlinecolor": "#2a3f5f"
            },
            "baxis": {
             "endlinecolor": "#2a3f5f",
             "gridcolor": "white",
             "linecolor": "white",
             "minorgridcolor": "white",
             "startlinecolor": "#2a3f5f"
            },
            "type": "carpet"
           }
          ],
          "choropleth": [
           {
            "colorbar": {
             "outlinewidth": 0,
             "ticks": ""
            },
            "type": "choropleth"
           }
          ],
          "contour": [
           {
            "colorbar": {
             "outlinewidth": 0,
             "ticks": ""
            },
            "colorscale": [
             [
              0,
              "#0d0887"
             ],
             [
              0.1111111111111111,
              "#46039f"
             ],
             [
              0.2222222222222222,
              "#7201a8"
             ],
             [
              0.3333333333333333,
              "#9c179e"
             ],
             [
              0.4444444444444444,
              "#bd3786"
             ],
             [
              0.5555555555555556,
              "#d8576b"
             ],
             [
              0.6666666666666666,
              "#ed7953"
             ],
             [
              0.7777777777777778,
              "#fb9f3a"
             ],
             [
              0.8888888888888888,
              "#fdca26"
             ],
             [
              1,
              "#f0f921"
             ]
            ],
            "type": "contour"
           }
          ],
          "contourcarpet": [
           {
            "colorbar": {
             "outlinewidth": 0,
             "ticks": ""
            },
            "type": "contourcarpet"
           }
          ],
          "heatmap": [
           {
            "colorbar": {
             "outlinewidth": 0,
             "ticks": ""
            },
            "colorscale": [
             [
              0,
              "#0d0887"
             ],
             [
              0.1111111111111111,
              "#46039f"
             ],
             [
              0.2222222222222222,
              "#7201a8"
             ],
             [
              0.3333333333333333,
              "#9c179e"
             ],
             [
              0.4444444444444444,
              "#bd3786"
             ],
             [
              0.5555555555555556,
              "#d8576b"
             ],
             [
              0.6666666666666666,
              "#ed7953"
             ],
             [
              0.7777777777777778,
              "#fb9f3a"
             ],
             [
              0.8888888888888888,
              "#fdca26"
             ],
             [
              1,
              "#f0f921"
             ]
            ],
            "type": "heatmap"
           }
          ],
          "heatmapgl": [
           {
            "colorbar": {
             "outlinewidth": 0,
             "ticks": ""
            },
            "colorscale": [
             [
              0,
              "#0d0887"
             ],
             [
              0.1111111111111111,
              "#46039f"
             ],
             [
              0.2222222222222222,
              "#7201a8"
             ],
             [
              0.3333333333333333,
              "#9c179e"
             ],
             [
              0.4444444444444444,
              "#bd3786"
             ],
             [
              0.5555555555555556,
              "#d8576b"
             ],
             [
              0.6666666666666666,
              "#ed7953"
             ],
             [
              0.7777777777777778,
              "#fb9f3a"
             ],
             [
              0.8888888888888888,
              "#fdca26"
             ],
             [
              1,
              "#f0f921"
             ]
            ],
            "type": "heatmapgl"
           }
          ],
          "histogram": [
           {
            "marker": {
             "colorbar": {
              "outlinewidth": 0,
              "ticks": ""
             }
            },
            "type": "histogram"
           }
          ],
          "histogram2d": [
           {
            "colorbar": {
             "outlinewidth": 0,
             "ticks": ""
            },
            "colorscale": [
             [
              0,
              "#0d0887"
             ],
             [
              0.1111111111111111,
              "#46039f"
             ],
             [
              0.2222222222222222,
              "#7201a8"
             ],
             [
              0.3333333333333333,
              "#9c179e"
             ],
             [
              0.4444444444444444,
              "#bd3786"
             ],
             [
              0.5555555555555556,
              "#d8576b"
             ],
             [
              0.6666666666666666,
              "#ed7953"
             ],
             [
              0.7777777777777778,
              "#fb9f3a"
             ],
             [
              0.8888888888888888,
              "#fdca26"
             ],
             [
              1,
              "#f0f921"
             ]
            ],
            "type": "histogram2d"
           }
          ],
          "histogram2dcontour": [
           {
            "colorbar": {
             "outlinewidth": 0,
             "ticks": ""
            },
            "colorscale": [
             [
              0,
              "#0d0887"
             ],
             [
              0.1111111111111111,
              "#46039f"
             ],
             [
              0.2222222222222222,
              "#7201a8"
             ],
             [
              0.3333333333333333,
              "#9c179e"
             ],
             [
              0.4444444444444444,
              "#bd3786"
             ],
             [
              0.5555555555555556,
              "#d8576b"
             ],
             [
              0.6666666666666666,
              "#ed7953"
             ],
             [
              0.7777777777777778,
              "#fb9f3a"
             ],
             [
              0.8888888888888888,
              "#fdca26"
             ],
             [
              1,
              "#f0f921"
             ]
            ],
            "type": "histogram2dcontour"
           }
          ],
          "mesh3d": [
           {
            "colorbar": {
             "outlinewidth": 0,
             "ticks": ""
            },
            "type": "mesh3d"
           }
          ],
          "parcoords": [
           {
            "line": {
             "colorbar": {
              "outlinewidth": 0,
              "ticks": ""
             }
            },
            "type": "parcoords"
           }
          ],
          "pie": [
           {
            "automargin": true,
            "type": "pie"
           }
          ],
          "scatter": [
           {
            "marker": {
             "colorbar": {
              "outlinewidth": 0,
              "ticks": ""
             }
            },
            "type": "scatter"
           }
          ],
          "scatter3d": [
           {
            "line": {
             "colorbar": {
              "outlinewidth": 0,
              "ticks": ""
             }
            },
            "marker": {
             "colorbar": {
              "outlinewidth": 0,
              "ticks": ""
             }
            },
            "type": "scatter3d"
           }
          ],
          "scattercarpet": [
           {
            "marker": {
             "colorbar": {
              "outlinewidth": 0,
              "ticks": ""
             }
            },
            "type": "scattercarpet"
           }
          ],
          "scattergeo": [
           {
            "marker": {
             "colorbar": {
              "outlinewidth": 0,
              "ticks": ""
             }
            },
            "type": "scattergeo"
           }
          ],
          "scattergl": [
           {
            "marker": {
             "colorbar": {
              "outlinewidth": 0,
              "ticks": ""
             }
            },
            "type": "scattergl"
           }
          ],
          "scattermapbox": [
           {
            "marker": {
             "colorbar": {
              "outlinewidth": 0,
              "ticks": ""
             }
            },
            "type": "scattermapbox"
           }
          ],
          "scatterpolar": [
           {
            "marker": {
             "colorbar": {
              "outlinewidth": 0,
              "ticks": ""
             }
            },
            "type": "scatterpolar"
           }
          ],
          "scatterpolargl": [
           {
            "marker": {
             "colorbar": {
              "outlinewidth": 0,
              "ticks": ""
             }
            },
            "type": "scatterpolargl"
           }
          ],
          "scatterternary": [
           {
            "marker": {
             "colorbar": {
              "outlinewidth": 0,
              "ticks": ""
             }
            },
            "type": "scatterternary"
           }
          ],
          "surface": [
           {
            "colorbar": {
             "outlinewidth": 0,
             "ticks": ""
            },
            "colorscale": [
             [
              0,
              "#0d0887"
             ],
             [
              0.1111111111111111,
              "#46039f"
             ],
             [
              0.2222222222222222,
              "#7201a8"
             ],
             [
              0.3333333333333333,
              "#9c179e"
             ],
             [
              0.4444444444444444,
              "#bd3786"
             ],
             [
              0.5555555555555556,
              "#d8576b"
             ],
             [
              0.6666666666666666,
              "#ed7953"
             ],
             [
              0.7777777777777778,
              "#fb9f3a"
             ],
             [
              0.8888888888888888,
              "#fdca26"
             ],
             [
              1,
              "#f0f921"
             ]
            ],
            "type": "surface"
           }
          ],
          "table": [
           {
            "cells": {
             "fill": {
              "color": "#EBF0F8"
             },
             "line": {
              "color": "white"
             }
            },
            "header": {
             "fill": {
              "color": "#C8D4E3"
             },
             "line": {
              "color": "white"
             }
            },
            "type": "table"
           }
          ]
         },
         "layout": {
          "annotationdefaults": {
           "arrowcolor": "#2a3f5f",
           "arrowhead": 0,
           "arrowwidth": 1
          },
          "coloraxis": {
           "colorbar": {
            "outlinewidth": 0,
            "ticks": ""
           }
          },
          "colorscale": {
           "diverging": [
            [
             0,
             "#8e0152"
            ],
            [
             0.1,
             "#c51b7d"
            ],
            [
             0.2,
             "#de77ae"
            ],
            [
             0.3,
             "#f1b6da"
            ],
            [
             0.4,
             "#fde0ef"
            ],
            [
             0.5,
             "#f7f7f7"
            ],
            [
             0.6,
             "#e6f5d0"
            ],
            [
             0.7,
             "#b8e186"
            ],
            [
             0.8,
             "#7fbc41"
            ],
            [
             0.9,
             "#4d9221"
            ],
            [
             1,
             "#276419"
            ]
           ],
           "sequential": [
            [
             0,
             "#0d0887"
            ],
            [
             0.1111111111111111,
             "#46039f"
            ],
            [
             0.2222222222222222,
             "#7201a8"
            ],
            [
             0.3333333333333333,
             "#9c179e"
            ],
            [
             0.4444444444444444,
             "#bd3786"
            ],
            [
             0.5555555555555556,
             "#d8576b"
            ],
            [
             0.6666666666666666,
             "#ed7953"
            ],
            [
             0.7777777777777778,
             "#fb9f3a"
            ],
            [
             0.8888888888888888,
             "#fdca26"
            ],
            [
             1,
             "#f0f921"
            ]
           ],
           "sequentialminus": [
            [
             0,
             "#0d0887"
            ],
            [
             0.1111111111111111,
             "#46039f"
            ],
            [
             0.2222222222222222,
             "#7201a8"
            ],
            [
             0.3333333333333333,
             "#9c179e"
            ],
            [
             0.4444444444444444,
             "#bd3786"
            ],
            [
             0.5555555555555556,
             "#d8576b"
            ],
            [
             0.6666666666666666,
             "#ed7953"
            ],
            [
             0.7777777777777778,
             "#fb9f3a"
            ],
            [
             0.8888888888888888,
             "#fdca26"
            ],
            [
             1,
             "#f0f921"
            ]
           ]
          },
          "colorway": [
           "#636efa",
           "#EF553B",
           "#00cc96",
           "#ab63fa",
           "#FFA15A",
           "#19d3f3",
           "#FF6692",
           "#B6E880",
           "#FF97FF",
           "#FECB52"
          ],
          "font": {
           "color": "#2a3f5f"
          },
          "geo": {
           "bgcolor": "white",
           "lakecolor": "white",
           "landcolor": "#E5ECF6",
           "showlakes": true,
           "showland": true,
           "subunitcolor": "white"
          },
          "hoverlabel": {
           "align": "left"
          },
          "hovermode": "closest",
          "mapbox": {
           "style": "light"
          },
          "paper_bgcolor": "white",
          "plot_bgcolor": "#E5ECF6",
          "polar": {
           "angularaxis": {
            "gridcolor": "white",
            "linecolor": "white",
            "ticks": ""
           },
           "bgcolor": "#E5ECF6",
           "radialaxis": {
            "gridcolor": "white",
            "linecolor": "white",
            "ticks": ""
           }
          },
          "scene": {
           "xaxis": {
            "backgroundcolor": "#E5ECF6",
            "gridcolor": "white",
            "gridwidth": 2,
            "linecolor": "white",
            "showbackground": true,
            "ticks": "",
            "zerolinecolor": "white"
           },
           "yaxis": {
            "backgroundcolor": "#E5ECF6",
            "gridcolor": "white",
            "gridwidth": 2,
            "linecolor": "white",
            "showbackground": true,
            "ticks": "",
            "zerolinecolor": "white"
           },
           "zaxis": {
            "backgroundcolor": "#E5ECF6",
            "gridcolor": "white",
            "gridwidth": 2,
            "linecolor": "white",
            "showbackground": true,
            "ticks": "",
            "zerolinecolor": "white"
           }
          },
          "shapedefaults": {
           "line": {
            "color": "#2a3f5f"
           }
          },
          "ternary": {
           "aaxis": {
            "gridcolor": "white",
            "linecolor": "white",
            "ticks": ""
           },
           "baxis": {
            "gridcolor": "white",
            "linecolor": "white",
            "ticks": ""
           },
           "bgcolor": "#E5ECF6",
           "caxis": {
            "gridcolor": "white",
            "linecolor": "white",
            "ticks": ""
           }
          },
          "title": {
           "x": 0.05
          },
          "xaxis": {
           "automargin": true,
           "gridcolor": "white",
           "linecolor": "white",
           "ticks": "",
           "title": {
            "standoff": 15
           },
           "zerolinecolor": "white",
           "zerolinewidth": 2
          },
          "yaxis": {
           "automargin": true,
           "gridcolor": "white",
           "linecolor": "white",
           "ticks": "",
           "title": {
            "standoff": 15
           },
           "zerolinecolor": "white",
           "zerolinewidth": 2
          }
         }
        },
        "xaxis": {
         "anchor": "y",
         "domain": [
          0,
          1
         ],
         "title": {
          "text": "Hierarchical Clusters"
         }
        },
        "yaxis": {
         "anchor": "x",
         "domain": [
          0,
          1
         ],
         "title": {
          "text": "Gender Inequality Index Value"
         }
        }
       }
      },
      "text/html": [
       "<div>\n",
       "        \n",
       "        \n",
       "            <div id=\"8148404f-7656-4dba-b83b-d9e2bf3c0cb1\" class=\"plotly-graph-div\" style=\"height:600px; width:100%;\"></div>\n",
       "            <script type=\"text/javascript\">\n",
       "                require([\"plotly\"], function(Plotly) {\n",
       "                    window.PLOTLYENV=window.PLOTLYENV || {};\n",
       "                    \n",
       "                if (document.getElementById(\"8148404f-7656-4dba-b83b-d9e2bf3c0cb1\")) {\n",
       "                    Plotly.newPlot(\n",
       "                        '8148404f-7656-4dba-b83b-d9e2bf3c0cb1',\n",
       "                        [{\"hoverlabel\": {\"namelength\": 0}, \"hovertemplate\": \"<b>%{hovertext}</b><br><br>Hierarchical Clusters=%{marker.color}<br>Gender Inequality Index Value=%{y}\", \"hovertext\": [\"Norway\", \"Switzerland\", \"Ireland\", \"Germany\", \"Hong Kong, China (SAR)\", \"Australia\", \"Iceland\", \"Sweden\", \"Singapore\", \"Netherlands\", \"Denmark\", \"Finland\", \"Canada\", \"New Zealand\", \"United Kingdom\", \"United States\", \"Belgium\", \"Liechtenstein\", \"Japan\", \"Austria\", \"Luxembourg\", \"Israel\", \"Korea (Republic of)\", \"Slovenia\", \"Spain\", \"Czechia\", \"France\", \"Malta\", \"Italy\", \"Estonia\", \"Cyprus\", \"Greece\", \"Poland\", \"Lithuania\", \"United Arab Emirates\", \"Andorra\", \"Saudi Arabia\", \"Slovakia\", \"Latvia\", \"Portugal\", \"Qatar\", \"Chile\", \"Brunei Darussalam\", \"Hungary\", \"Bahrain\", \"Croatia\", \"Oman\", \"Argentina\", \"Russian Federation\", \"Belarus\", \"Kazakhstan\", \"Bulgaria\", \"Montenegro\", \"Romania\", \"Palau\", \"Barbados\", \"Kuwait\", \"Uruguay\", \"Turkey\", \"Bahamas\", \"Malaysia\", \"Seychelles\", \"Serbia\", \"Trinidad and Tobago\", \"Iran (Islamic Republic of)\", \"Mauritius\", \"Panama\", \"Costa Rica\", \"Albania\", \"Georgia\", \"Sri Lanka\", \"Cuba\", \"Saint Kitts and Nevis\", \"Antigua and Barbuda\", \"Bosnia and Herzegovina\", \"Mexico\", \"Thailand\", \"Grenada\", \"Brazil\", \"Colombia\", \"Armenia\", \"Algeria\", \"North Macedonia\", \"Peru\", \"China\", \"Ecuador\", \"Azerbaijan\", \"Ukraine\", \"Dominican Republic\", \"Saint Lucia\", \"Tunisia\", \"Mongolia\", \"Lebanon\", \"Botswana\", \"Saint Vincent and the Grenadines\", \"Jamaica\", \"Venezuela (Bolivarian Republic of)\", \"Dominica\", \"Fiji\", \"Paraguay\", \"Suriname\", \"Jordan\", \"Belize\", \"Maldives\", \"Tonga\", \"Philippines\", \"Moldova (Republic of)\", \"Turkmenistan\", \"Uzbekistan\", \"Libya\", \"Indonesia\", \"Samoa\", \"South Africa\", \"Bolivia (Plurinational State of)\", \"Gabon\", \"Egypt\", \"Marshall Islands\", \"Viet Nam\", \"Palestine, State of\", \"Iraq\", \"Morocco\", \"Kyrgyzstan\", \"Guyana\", \"El Salvador\", \"Tajikistan\", \"Cabo Verde\", \"Guatemala\", \"Nicaragua\", \"India\", \"Namibia\", \"Timor-Leste\", \"Honduras\", \"Kiribati\", \"Bhutan\", \"Bangladesh\", \"Micronesia (Federated States of)\", \"Sao Tome and Principe\", \"Congo\", \"Eswatini (Kingdom of)\", \"Lao People's Democratic Republic\", \"Vanuatu\", \"Ghana\", \"Zambia\", \"Equatorial Guinea\", \"Myanmar\", \"Cambodia\", \"Kenya\", \"Nepal\", \"Angola\", \"Cameroon\", \"Zimbabwe\", \"Pakistan\", \"Solomon Islands\", \"Syrian Arab Republic\", \"Papua New Guinea\", \"Comoros\", \"Rwanda\", \"Nigeria\", \"Tanzania (United Republic of)\", \"Uganda\", \"Mauritania\", \"Madagascar\", \"Benin\", \"Lesotho\", \"C\\u00f4te d'Ivoire\", \"Senegal\", \"Togo\", \"Sudan\", \"Haiti\", \"Afghanistan\", \"Djibouti\", \"Malawi\", \"Ethiopia\", \"Gambia\", \"Guinea\", \"Liberia\", \"Yemen\", \"Guinea-Bissau\", \"Congo (Democratic Republic of the)\", \"Mozambique\", \"Sierra Leone\", \"Burkina Faso\", \"Eritrea\", \"Mali\", \"Burundi\", \"South Sudan\", \"Chad\", \"Central African Republic\", \"Niger\"], \"legendgroup\": \"\", \"marker\": {\"color\": [0, 0, 0, 0, 0, 0, 0, 0, 0, 0, 0, 0, 0, 0, 0, 0, 0, 3, 0, 0, 0, 0, 0, 0, 0, 0, 0, 0, 0, 0, 0, 0, 0, 0, 3, 0, 3, 0, 0, 0, 3, 2, 3, 0, 3, 0, 3, 2, 0, 0, 0, 0, 0, 0, 2, 2, 3, 2, 5, 2, 2, 2, 0, 2, 5, 2, 1, 2, 0, 0, 2, 2, 2, 2, 0, 1, 2, 2, 1, 1, 0, 5, 0, 1, 1, 1, 2, 0, 1, 2, 5, 0, 5, 1, 2, 1, 1, 1, 1, 1, 1, 5, 1, 2, 1, 1, 0, 1, 1, 5, 1, 1, 1, 1, 1, 5, 1, 1, 5, 5, 5, 1, 1, 1, 1, 1, 1, 1, 1, 1, 1, 1, 1, 1, 1, 1, 1, 1, 1, 1, 1, 4, 4, 4, 4, 4, 4, 4, 4, 4, 4, 4, 4, 4, 4, 4, 4, 4, 4, 4, 4, 4, 4, 4, 4, 4, 4, 4, 4, 4, 4, 4, 4, 4, 4, 4, 4, 4, 4, 4, 4, 4, 4, 4, 4, 4, 4, 4, 4], \"coloraxis\": \"coloraxis\", \"symbol\": \"circle\"}, \"mode\": \"markers\", \"name\": \"\", \"showlegend\": false, \"type\": \"scatter\", \"x\": [0, 0, 0, 0, 0, 0, 0, 0, 0, 0, 0, 0, 0, 0, 0, 0, 0, 3, 0, 0, 0, 0, 0, 0, 0, 0, 0, 0, 0, 0, 0, 0, 0, 0, 3, 0, 3, 0, 0, 0, 3, 2, 3, 0, 3, 0, 3, 2, 0, 0, 0, 0, 0, 0, 2, 2, 3, 2, 5, 2, 2, 2, 0, 2, 5, 2, 1, 2, 0, 0, 2, 2, 2, 2, 0, 1, 2, 2, 1, 1, 0, 5, 0, 1, 1, 1, 2, 0, 1, 2, 5, 0, 5, 1, 2, 1, 1, 1, 1, 1, 1, 5, 1, 2, 1, 1, 0, 1, 1, 5, 1, 1, 1, 1, 1, 5, 1, 1, 5, 5, 5, 1, 1, 1, 1, 1, 1, 1, 1, 1, 1, 1, 1, 1, 1, 1, 1, 1, 1, 1, 1, 4, 4, 4, 4, 4, 4, 4, 4, 4, 4, 4, 4, 4, 4, 4, 4, 4, 4, 4, 4, 4, 4, 4, 4, 4, 4, 4, 4, 4, 4, 4, 4, 4, 4, 4, 4, 4, 4, 4, 4, 4, 4, 4, 4, 4, 4, 4, 4], \"xaxis\": \"x\", \"y\": [0.044000000000000004, 0.037000000000000005, 0.09300000000000001, 0.084, 0.12528260869565214, 0.10300000000000001, 0.057, 0.04, 0.065, 0.040999999999999995, 0.04, 0.05, 0.083, 0.133, 0.11900000000000001, 0.182, 0.045, 0.12528260869565214, 0.099, 0.073, 0.078, 0.1, 0.057999999999999996, 0.069, 0.07400000000000001, 0.13699999999999998, 0.051, 0.195, 0.069, 0.091, 0.086, 0.122, 0.12, 0.124, 0.113, 0.12528260869565214, 0.22399999999999998, 0.19, 0.16899999999999998, 0.081, 0.20199999999999999, 0.28800000000000003, 0.23399999999999999, 0.258, 0.207, 0.122, 0.304, 0.354, 0.255, 0.11900000000000001, 0.203, 0.218, 0.11900000000000001, 0.316, 0.30847499999999994, 0.256, 0.245, 0.275, 0.305, 0.353, 0.27399999999999997, 0.30847499999999994, 0.161, 0.32299999999999995, 0.49200000000000005, 0.369, 0.46, 0.285, 0.23399999999999999, 0.35100000000000003, 0.38, 0.312, 0.30847499999999994, 0.30847499999999994, 0.162, 0.33399999999999996, 0.377, 0.30847499999999994, 0.386, 0.41100000000000003, 0.259, 0.44299999999999995, 0.145, 0.381, 0.163, 0.389, 0.321, 0.284, 0.45299999999999996, 0.33299999999999996, 0.3, 0.322, 0.36200000000000004, 0.46399999999999997, 0.30847499999999994, 0.405, 0.45799999999999996, 0.43418421052631584, 0.35700000000000004, 0.48200000000000004, 0.465, 0.469, 0.391, 0.36700000000000005, 0.418, 0.425, 0.228, 0.43418421052631584, 0.303, 0.172, 0.451, 0.364, 0.42200000000000004, 0.446, 0.534, 0.45, 0.43418421052631584, 0.314, 0.43418421052631584, 0.54, 0.49200000000000005, 0.381, 0.49200000000000005, 0.397, 0.377, 0.37200000000000005, 0.49200000000000005, 0.455, 0.501, 0.46, 0.43418421052631584, 0.479, 0.43418421052631584, 0.436, 0.536, 0.43418421052631584, 0.547, 0.579, 0.579, 0.46299999999999997, 0.43418421052631584, 0.541, 0.54, 0.5850789473684208, 0.45799999999999996, 0.474, 0.545, 0.47600000000000003, 0.578, 0.5660000000000001, 0.525, 0.547, 0.5850789473684208, 0.547, 0.74, 0.5850789473684208, 0.41200000000000003, 0.5850789473684208, 0.539, 0.531, 0.62, 0.5850789473684208, 0.613, 0.546, 0.657, 0.523, 0.5660000000000001, 0.56, 0.62, 0.575, 0.5850789473684208, 0.615, 0.508, 0.62, 0.5850789473684208, 0.6509999999999999, 0.8340000000000001, 0.5850789473684208, 0.655, 0.569, 0.644, 0.612, 0.5850789473684208, 0.6759999999999999, 0.52, 0.5850789473684208, 0.701, 0.682, 0.647], \"yaxis\": \"y\"}],\n",
       "                        {\"coloraxis\": {\"colorbar\": {\"title\": {\"text\": \"Hierarchical Clusters\"}}, \"colorscale\": [[0.0, \"#4B3F72\"], [0.25, \"#AB81CD\"], [0.5, \"#1F7A8C\"], [0.75, \"#03B5AA\"], [1.0, \"#A3E7FC\"]]}, \"height\": 600, \"legend\": {\"tracegroupgap\": 0}, \"margin\": {\"t\": 60}, \"template\": {\"data\": {\"bar\": [{\"error_x\": {\"color\": \"#2a3f5f\"}, \"error_y\": {\"color\": \"#2a3f5f\"}, \"marker\": {\"line\": {\"color\": \"#E5ECF6\", \"width\": 0.5}}, \"type\": \"bar\"}], \"barpolar\": [{\"marker\": {\"line\": {\"color\": \"#E5ECF6\", \"width\": 0.5}}, \"type\": \"barpolar\"}], \"carpet\": [{\"aaxis\": {\"endlinecolor\": \"#2a3f5f\", \"gridcolor\": \"white\", \"linecolor\": \"white\", \"minorgridcolor\": \"white\", \"startlinecolor\": \"#2a3f5f\"}, \"baxis\": {\"endlinecolor\": \"#2a3f5f\", \"gridcolor\": \"white\", \"linecolor\": \"white\", \"minorgridcolor\": \"white\", \"startlinecolor\": \"#2a3f5f\"}, \"type\": \"carpet\"}], \"choropleth\": [{\"colorbar\": {\"outlinewidth\": 0, \"ticks\": \"\"}, \"type\": \"choropleth\"}], \"contour\": [{\"colorbar\": {\"outlinewidth\": 0, \"ticks\": \"\"}, \"colorscale\": [[0.0, \"#0d0887\"], [0.1111111111111111, \"#46039f\"], [0.2222222222222222, \"#7201a8\"], [0.3333333333333333, \"#9c179e\"], [0.4444444444444444, \"#bd3786\"], [0.5555555555555556, \"#d8576b\"], [0.6666666666666666, \"#ed7953\"], [0.7777777777777778, \"#fb9f3a\"], [0.8888888888888888, \"#fdca26\"], [1.0, \"#f0f921\"]], \"type\": \"contour\"}], \"contourcarpet\": [{\"colorbar\": {\"outlinewidth\": 0, \"ticks\": \"\"}, \"type\": \"contourcarpet\"}], \"heatmap\": [{\"colorbar\": {\"outlinewidth\": 0, \"ticks\": \"\"}, \"colorscale\": [[0.0, \"#0d0887\"], [0.1111111111111111, \"#46039f\"], [0.2222222222222222, \"#7201a8\"], [0.3333333333333333, \"#9c179e\"], [0.4444444444444444, \"#bd3786\"], [0.5555555555555556, \"#d8576b\"], [0.6666666666666666, \"#ed7953\"], [0.7777777777777778, \"#fb9f3a\"], [0.8888888888888888, \"#fdca26\"], [1.0, \"#f0f921\"]], \"type\": \"heatmap\"}], \"heatmapgl\": [{\"colorbar\": {\"outlinewidth\": 0, \"ticks\": \"\"}, \"colorscale\": [[0.0, \"#0d0887\"], [0.1111111111111111, \"#46039f\"], [0.2222222222222222, \"#7201a8\"], [0.3333333333333333, \"#9c179e\"], [0.4444444444444444, \"#bd3786\"], [0.5555555555555556, \"#d8576b\"], [0.6666666666666666, \"#ed7953\"], [0.7777777777777778, \"#fb9f3a\"], [0.8888888888888888, \"#fdca26\"], [1.0, \"#f0f921\"]], \"type\": \"heatmapgl\"}], \"histogram\": [{\"marker\": {\"colorbar\": {\"outlinewidth\": 0, \"ticks\": \"\"}}, \"type\": \"histogram\"}], \"histogram2d\": [{\"colorbar\": {\"outlinewidth\": 0, \"ticks\": \"\"}, \"colorscale\": [[0.0, \"#0d0887\"], [0.1111111111111111, \"#46039f\"], [0.2222222222222222, \"#7201a8\"], [0.3333333333333333, \"#9c179e\"], [0.4444444444444444, \"#bd3786\"], [0.5555555555555556, \"#d8576b\"], [0.6666666666666666, \"#ed7953\"], [0.7777777777777778, \"#fb9f3a\"], [0.8888888888888888, \"#fdca26\"], [1.0, \"#f0f921\"]], \"type\": \"histogram2d\"}], \"histogram2dcontour\": [{\"colorbar\": {\"outlinewidth\": 0, \"ticks\": \"\"}, \"colorscale\": [[0.0, \"#0d0887\"], [0.1111111111111111, \"#46039f\"], [0.2222222222222222, \"#7201a8\"], [0.3333333333333333, \"#9c179e\"], [0.4444444444444444, \"#bd3786\"], [0.5555555555555556, \"#d8576b\"], [0.6666666666666666, \"#ed7953\"], [0.7777777777777778, \"#fb9f3a\"], [0.8888888888888888, \"#fdca26\"], [1.0, \"#f0f921\"]], \"type\": \"histogram2dcontour\"}], \"mesh3d\": [{\"colorbar\": {\"outlinewidth\": 0, \"ticks\": \"\"}, \"type\": \"mesh3d\"}], \"parcoords\": [{\"line\": {\"colorbar\": {\"outlinewidth\": 0, \"ticks\": \"\"}}, \"type\": \"parcoords\"}], \"pie\": [{\"automargin\": true, \"type\": \"pie\"}], \"scatter\": [{\"marker\": {\"colorbar\": {\"outlinewidth\": 0, \"ticks\": \"\"}}, \"type\": \"scatter\"}], \"scatter3d\": [{\"line\": {\"colorbar\": {\"outlinewidth\": 0, \"ticks\": \"\"}}, \"marker\": {\"colorbar\": {\"outlinewidth\": 0, \"ticks\": \"\"}}, \"type\": \"scatter3d\"}], \"scattercarpet\": [{\"marker\": {\"colorbar\": {\"outlinewidth\": 0, \"ticks\": \"\"}}, \"type\": \"scattercarpet\"}], \"scattergeo\": [{\"marker\": {\"colorbar\": {\"outlinewidth\": 0, \"ticks\": \"\"}}, \"type\": \"scattergeo\"}], \"scattergl\": [{\"marker\": {\"colorbar\": {\"outlinewidth\": 0, \"ticks\": \"\"}}, \"type\": \"scattergl\"}], \"scattermapbox\": [{\"marker\": {\"colorbar\": {\"outlinewidth\": 0, \"ticks\": \"\"}}, \"type\": \"scattermapbox\"}], \"scatterpolar\": [{\"marker\": {\"colorbar\": {\"outlinewidth\": 0, \"ticks\": \"\"}}, \"type\": \"scatterpolar\"}], \"scatterpolargl\": [{\"marker\": {\"colorbar\": {\"outlinewidth\": 0, \"ticks\": \"\"}}, \"type\": \"scatterpolargl\"}], \"scatterternary\": [{\"marker\": {\"colorbar\": {\"outlinewidth\": 0, \"ticks\": \"\"}}, \"type\": \"scatterternary\"}], \"surface\": [{\"colorbar\": {\"outlinewidth\": 0, \"ticks\": \"\"}, \"colorscale\": [[0.0, \"#0d0887\"], [0.1111111111111111, \"#46039f\"], [0.2222222222222222, \"#7201a8\"], [0.3333333333333333, \"#9c179e\"], [0.4444444444444444, \"#bd3786\"], [0.5555555555555556, \"#d8576b\"], [0.6666666666666666, \"#ed7953\"], [0.7777777777777778, \"#fb9f3a\"], [0.8888888888888888, \"#fdca26\"], [1.0, \"#f0f921\"]], \"type\": \"surface\"}], \"table\": [{\"cells\": {\"fill\": {\"color\": \"#EBF0F8\"}, \"line\": {\"color\": \"white\"}}, \"header\": {\"fill\": {\"color\": \"#C8D4E3\"}, \"line\": {\"color\": \"white\"}}, \"type\": \"table\"}]}, \"layout\": {\"annotationdefaults\": {\"arrowcolor\": \"#2a3f5f\", \"arrowhead\": 0, \"arrowwidth\": 1}, \"coloraxis\": {\"colorbar\": {\"outlinewidth\": 0, \"ticks\": \"\"}}, \"colorscale\": {\"diverging\": [[0, \"#8e0152\"], [0.1, \"#c51b7d\"], [0.2, \"#de77ae\"], [0.3, \"#f1b6da\"], [0.4, \"#fde0ef\"], [0.5, \"#f7f7f7\"], [0.6, \"#e6f5d0\"], [0.7, \"#b8e186\"], [0.8, \"#7fbc41\"], [0.9, \"#4d9221\"], [1, \"#276419\"]], \"sequential\": [[0.0, \"#0d0887\"], [0.1111111111111111, \"#46039f\"], [0.2222222222222222, \"#7201a8\"], [0.3333333333333333, \"#9c179e\"], [0.4444444444444444, \"#bd3786\"], [0.5555555555555556, \"#d8576b\"], [0.6666666666666666, \"#ed7953\"], [0.7777777777777778, \"#fb9f3a\"], [0.8888888888888888, \"#fdca26\"], [1.0, \"#f0f921\"]], \"sequentialminus\": [[0.0, \"#0d0887\"], [0.1111111111111111, \"#46039f\"], [0.2222222222222222, \"#7201a8\"], [0.3333333333333333, \"#9c179e\"], [0.4444444444444444, \"#bd3786\"], [0.5555555555555556, \"#d8576b\"], [0.6666666666666666, \"#ed7953\"], [0.7777777777777778, \"#fb9f3a\"], [0.8888888888888888, \"#fdca26\"], [1.0, \"#f0f921\"]]}, \"colorway\": [\"#636efa\", \"#EF553B\", \"#00cc96\", \"#ab63fa\", \"#FFA15A\", \"#19d3f3\", \"#FF6692\", \"#B6E880\", \"#FF97FF\", \"#FECB52\"], \"font\": {\"color\": \"#2a3f5f\"}, \"geo\": {\"bgcolor\": \"white\", \"lakecolor\": \"white\", \"landcolor\": \"#E5ECF6\", \"showlakes\": true, \"showland\": true, \"subunitcolor\": \"white\"}, \"hoverlabel\": {\"align\": \"left\"}, \"hovermode\": \"closest\", \"mapbox\": {\"style\": \"light\"}, \"paper_bgcolor\": \"white\", \"plot_bgcolor\": \"#E5ECF6\", \"polar\": {\"angularaxis\": {\"gridcolor\": \"white\", \"linecolor\": \"white\", \"ticks\": \"\"}, \"bgcolor\": \"#E5ECF6\", \"radialaxis\": {\"gridcolor\": \"white\", \"linecolor\": \"white\", \"ticks\": \"\"}}, \"scene\": {\"xaxis\": {\"backgroundcolor\": \"#E5ECF6\", \"gridcolor\": \"white\", \"gridwidth\": 2, \"linecolor\": \"white\", \"showbackground\": true, \"ticks\": \"\", \"zerolinecolor\": \"white\"}, \"yaxis\": {\"backgroundcolor\": \"#E5ECF6\", \"gridcolor\": \"white\", \"gridwidth\": 2, \"linecolor\": \"white\", \"showbackground\": true, \"ticks\": \"\", \"zerolinecolor\": \"white\"}, \"zaxis\": {\"backgroundcolor\": \"#E5ECF6\", \"gridcolor\": \"white\", \"gridwidth\": 2, \"linecolor\": \"white\", \"showbackground\": true, \"ticks\": \"\", \"zerolinecolor\": \"white\"}}, \"shapedefaults\": {\"line\": {\"color\": \"#2a3f5f\"}}, \"ternary\": {\"aaxis\": {\"gridcolor\": \"white\", \"linecolor\": \"white\", \"ticks\": \"\"}, \"baxis\": {\"gridcolor\": \"white\", \"linecolor\": \"white\", \"ticks\": \"\"}, \"bgcolor\": \"#E5ECF6\", \"caxis\": {\"gridcolor\": \"white\", \"linecolor\": \"white\", \"ticks\": \"\"}}, \"title\": {\"x\": 0.05}, \"xaxis\": {\"automargin\": true, \"gridcolor\": \"white\", \"linecolor\": \"white\", \"ticks\": \"\", \"title\": {\"standoff\": 15}, \"zerolinecolor\": \"white\", \"zerolinewidth\": 2}, \"yaxis\": {\"automargin\": true, \"gridcolor\": \"white\", \"linecolor\": \"white\", \"ticks\": \"\", \"title\": {\"standoff\": 15}, \"zerolinecolor\": \"white\", \"zerolinewidth\": 2}}}, \"xaxis\": {\"anchor\": \"y\", \"domain\": [0.0, 1.0], \"title\": {\"text\": \"Hierarchical Clusters\"}}, \"yaxis\": {\"anchor\": \"x\", \"domain\": [0.0, 1.0], \"title\": {\"text\": \"Gender Inequality Index Value\"}}},\n",
       "                        {\"responsive\": true}\n",
       "                    ).then(function(){\n",
       "                            \n",
       "var gd = document.getElementById('8148404f-7656-4dba-b83b-d9e2bf3c0cb1');\n",
       "var x = new MutationObserver(function (mutations, observer) {{\n",
       "        var display = window.getComputedStyle(gd).display;\n",
       "        if (!display || display === 'none') {{\n",
       "            console.log([gd, 'removed!']);\n",
       "            Plotly.purge(gd);\n",
       "            observer.disconnect();\n",
       "        }}\n",
       "}});\n",
       "\n",
       "// Listen for the removal of the full notebook cells\n",
       "var notebookContainer = gd.closest('#notebook-container');\n",
       "if (notebookContainer) {{\n",
       "    x.observe(notebookContainer, {childList: true});\n",
       "}}\n",
       "\n",
       "// Listen for the clearing of the current output cell\n",
       "var outputEl = gd.closest('.output');\n",
       "if (outputEl) {{\n",
       "    x.observe(outputEl, {childList: true});\n",
       "}}\n",
       "\n",
       "                        })\n",
       "                };\n",
       "                });\n",
       "            </script>\n",
       "        </div>"
      ]
     },
     "metadata": {},
     "output_type": "display_data"
    }
   ],
   "source": [
    "px.scatter(data_frame= X, x = 'Hierarchical Clusters', y = 'Gender Inequality Index Value', color= 'Hierarchical Clusters',\n",
    "           hover_name= X.index, color_continuous_scale= palette)"
   ]
  },
  {
   "cell_type": "code",
   "execution_count": 233,
   "metadata": {},
   "outputs": [
    {
     "data": {
      "application/vnd.plotly.v1+json": {
       "config": {
        "plotlyServerURL": "https://plot.ly"
       },
       "data": [
        {
         "hoverlabel": {
          "namelength": 0
         },
         "hovertemplate": "<b>%{hovertext}</b><br><br>Hierarchical Clusters=%{marker.color}<br>Gender Development Index=%{y}",
         "hovertext": [
          "Norway",
          "Switzerland",
          "Ireland",
          "Germany",
          "Hong Kong, China (SAR)",
          "Australia",
          "Iceland",
          "Sweden",
          "Singapore",
          "Netherlands",
          "Denmark",
          "Finland",
          "Canada",
          "New Zealand",
          "United Kingdom",
          "United States",
          "Belgium",
          "Liechtenstein",
          "Japan",
          "Austria",
          "Luxembourg",
          "Israel",
          "Korea (Republic of)",
          "Slovenia",
          "Spain",
          "Czechia",
          "France",
          "Malta",
          "Italy",
          "Estonia",
          "Cyprus",
          "Greece",
          "Poland",
          "Lithuania",
          "United Arab Emirates",
          "Andorra",
          "Saudi Arabia",
          "Slovakia",
          "Latvia",
          "Portugal",
          "Qatar",
          "Chile",
          "Brunei Darussalam",
          "Hungary",
          "Bahrain",
          "Croatia",
          "Oman",
          "Argentina",
          "Russian Federation",
          "Belarus",
          "Kazakhstan",
          "Bulgaria",
          "Montenegro",
          "Romania",
          "Palau",
          "Barbados",
          "Kuwait",
          "Uruguay",
          "Turkey",
          "Bahamas",
          "Malaysia",
          "Seychelles",
          "Serbia",
          "Trinidad and Tobago",
          "Iran (Islamic Republic of)",
          "Mauritius",
          "Panama",
          "Costa Rica",
          "Albania",
          "Georgia",
          "Sri Lanka",
          "Cuba",
          "Saint Kitts and Nevis",
          "Antigua and Barbuda",
          "Bosnia and Herzegovina",
          "Mexico",
          "Thailand",
          "Grenada",
          "Brazil",
          "Colombia",
          "Armenia",
          "Algeria",
          "North Macedonia",
          "Peru",
          "China",
          "Ecuador",
          "Azerbaijan",
          "Ukraine",
          "Dominican Republic",
          "Saint Lucia",
          "Tunisia",
          "Mongolia",
          "Lebanon",
          "Botswana",
          "Saint Vincent and the Grenadines",
          "Jamaica",
          "Venezuela (Bolivarian Republic of)",
          "Dominica",
          "Fiji",
          "Paraguay",
          "Suriname",
          "Jordan",
          "Belize",
          "Maldives",
          "Tonga",
          "Philippines",
          "Moldova (Republic of)",
          "Turkmenistan",
          "Uzbekistan",
          "Libya",
          "Indonesia",
          "Samoa",
          "South Africa",
          "Bolivia (Plurinational State of)",
          "Gabon",
          "Egypt",
          "Marshall Islands",
          "Viet Nam",
          "Palestine, State of",
          "Iraq",
          "Morocco",
          "Kyrgyzstan",
          "Guyana",
          "El Salvador",
          "Tajikistan",
          "Cabo Verde",
          "Guatemala",
          "Nicaragua",
          "India",
          "Namibia",
          "Timor-Leste",
          "Honduras",
          "Kiribati",
          "Bhutan",
          "Bangladesh",
          "Micronesia (Federated States of)",
          "Sao Tome and Principe",
          "Congo",
          "Eswatini (Kingdom of)",
          "Lao People's Democratic Republic",
          "Vanuatu",
          "Ghana",
          "Zambia",
          "Equatorial Guinea",
          "Myanmar",
          "Cambodia",
          "Kenya",
          "Nepal",
          "Angola",
          "Cameroon",
          "Zimbabwe",
          "Pakistan",
          "Solomon Islands",
          "Syrian Arab Republic",
          "Papua New Guinea",
          "Comoros",
          "Rwanda",
          "Nigeria",
          "Tanzania (United Republic of)",
          "Uganda",
          "Mauritania",
          "Madagascar",
          "Benin",
          "Lesotho",
          "Côte d'Ivoire",
          "Senegal",
          "Togo",
          "Sudan",
          "Haiti",
          "Afghanistan",
          "Djibouti",
          "Malawi",
          "Ethiopia",
          "Gambia",
          "Guinea",
          "Liberia",
          "Yemen",
          "Guinea-Bissau",
          "Congo (Democratic Republic of the)",
          "Mozambique",
          "Sierra Leone",
          "Burkina Faso",
          "Eritrea",
          "Mali",
          "Burundi",
          "South Sudan",
          "Chad",
          "Central African Republic",
          "Niger"
         ],
         "legendgroup": "",
         "marker": {
          "color": [
           0,
           0,
           0,
           0,
           0,
           0,
           0,
           0,
           0,
           0,
           0,
           0,
           0,
           0,
           0,
           0,
           0,
           3,
           0,
           0,
           0,
           0,
           0,
           0,
           0,
           0,
           0,
           0,
           0,
           0,
           0,
           0,
           0,
           0,
           3,
           0,
           3,
           0,
           0,
           0,
           3,
           2,
           3,
           0,
           3,
           0,
           3,
           2,
           0,
           0,
           0,
           0,
           0,
           0,
           2,
           2,
           3,
           2,
           5,
           2,
           2,
           2,
           0,
           2,
           5,
           2,
           1,
           2,
           0,
           0,
           2,
           2,
           2,
           2,
           0,
           1,
           2,
           2,
           1,
           1,
           0,
           5,
           0,
           1,
           1,
           1,
           2,
           0,
           1,
           2,
           5,
           0,
           5,
           1,
           2,
           1,
           1,
           1,
           1,
           1,
           1,
           5,
           1,
           2,
           1,
           1,
           0,
           1,
           1,
           5,
           1,
           1,
           1,
           1,
           1,
           5,
           1,
           1,
           5,
           5,
           5,
           1,
           1,
           1,
           1,
           1,
           1,
           1,
           1,
           1,
           1,
           1,
           1,
           1,
           1,
           1,
           1,
           1,
           1,
           1,
           1,
           4,
           4,
           4,
           4,
           4,
           4,
           4,
           4,
           4,
           4,
           4,
           4,
           4,
           4,
           4,
           4,
           4,
           4,
           4,
           4,
           4,
           4,
           4,
           4,
           4,
           4,
           4,
           4,
           4,
           4,
           4,
           4,
           4,
           4,
           4,
           4,
           4,
           4,
           4,
           4,
           4,
           4,
           4,
           4,
           4,
           4,
           4,
           4
          ],
          "coloraxis": "coloraxis",
          "symbol": "circle"
         },
         "mode": "markers",
         "name": "",
         "showlegend": false,
         "type": "scatter",
         "x": [
          0,
          0,
          0,
          0,
          0,
          0,
          0,
          0,
          0,
          0,
          0,
          0,
          0,
          0,
          0,
          0,
          0,
          3,
          0,
          0,
          0,
          0,
          0,
          0,
          0,
          0,
          0,
          0,
          0,
          0,
          0,
          0,
          0,
          0,
          3,
          0,
          3,
          0,
          0,
          0,
          3,
          2,
          3,
          0,
          3,
          0,
          3,
          2,
          0,
          0,
          0,
          0,
          0,
          0,
          2,
          2,
          3,
          2,
          5,
          2,
          2,
          2,
          0,
          2,
          5,
          2,
          1,
          2,
          0,
          0,
          2,
          2,
          2,
          2,
          0,
          1,
          2,
          2,
          1,
          1,
          0,
          5,
          0,
          1,
          1,
          1,
          2,
          0,
          1,
          2,
          5,
          0,
          5,
          1,
          2,
          1,
          1,
          1,
          1,
          1,
          1,
          5,
          1,
          2,
          1,
          1,
          0,
          1,
          1,
          5,
          1,
          1,
          1,
          1,
          1,
          5,
          1,
          1,
          5,
          5,
          5,
          1,
          1,
          1,
          1,
          1,
          1,
          1,
          1,
          1,
          1,
          1,
          1,
          1,
          1,
          1,
          1,
          1,
          1,
          1,
          1,
          4,
          4,
          4,
          4,
          4,
          4,
          4,
          4,
          4,
          4,
          4,
          4,
          4,
          4,
          4,
          4,
          4,
          4,
          4,
          4,
          4,
          4,
          4,
          4,
          4,
          4,
          4,
          4,
          4,
          4,
          4,
          4,
          4,
          4,
          4,
          4,
          4,
          4,
          4,
          4,
          4,
          4,
          4,
          4,
          4,
          4,
          4,
          4
         ],
         "xaxis": "x",
         "y": [
          0.99,
          0.963,
          0.975,
          0.968,
          0.963,
          0.975,
          0.966,
          0.982,
          0.988,
          0.9670000000000001,
          0.98,
          0.99,
          0.9890000000000001,
          0.963,
          0.9670000000000001,
          0.991,
          0.972,
          0.9783829787234044,
          0.976,
          0.963,
          0.97,
          0.972,
          0.934,
          1.003,
          0.981,
          0.983,
          0.9840000000000001,
          0.965,
          0.9670000000000001,
          1.016,
          0.983,
          0.963,
          1.0090000000000001,
          1.028,
          0.965,
          0.9783829787234044,
          0.879,
          0.992,
          1.03,
          0.9840000000000001,
          1.043,
          0.9620000000000001,
          0.987,
          0.9840000000000001,
          0.937,
          0.9890000000000001,
          0.943,
          0.988,
          1.015,
          1.01,
          0.9990000000000001,
          0.993,
          0.966,
          0.986,
          0.9686153846153848,
          1.01,
          0.9990000000000001,
          1.016,
          0.924,
          0.9686153846153848,
          0.972,
          0.9686153846153848,
          0.976,
          1.002,
          0.8740000000000001,
          0.9740000000000001,
          1.005,
          0.977,
          0.971,
          0.9790000000000001,
          0.938,
          0.948,
          0.9686153846153848,
          0.9686153846153848,
          0.924,
          0.9570000000000001,
          0.995,
          0.9686153846153848,
          0.995,
          0.986,
          0.972,
          0.865,
          0.9470000000000001,
          0.951,
          0.961,
          0.98,
          0.94,
          0.995,
          1.003,
          0.975,
          0.899,
          1.031,
          0.8909999999999999,
          0.99,
          0.9686153846153848,
          0.986,
          1.013,
          0.9357631578947371,
          0.9357631578947371,
          0.968,
          0.972,
          0.868,
          0.983,
          0.9390000000000001,
          0.9440000000000001,
          1.004,
          1.0070000000000001,
          0.9357631578947371,
          0.9390000000000001,
          0.9309999999999999,
          0.937,
          0.9357631578947371,
          0.9840000000000001,
          0.9359999999999999,
          0.917,
          0.878,
          0.9357631578947371,
          1.003,
          0.871,
          0.789,
          0.833,
          0.9590000000000001,
          0.973,
          0.9690000000000001,
          0.799,
          0.9840000000000001,
          0.943,
          1.013,
          0.8290000000000001,
          1.0090000000000001,
          0.899,
          0.97,
          0.9357631578947371,
          0.893,
          0.895,
          0.9357631578947371,
          0.9,
          0.9309999999999999,
          0.9620000000000001,
          0.929,
          0.9357631578947371,
          0.912,
          0.9490000000000001,
          0.8507380952380954,
          0.953,
          0.919,
          0.9329999999999999,
          0.897,
          0.902,
          0.8690000000000001,
          0.925,
          0.747,
          0.8507380952380954,
          0.795,
          0.8507380952380954,
          0.888,
          0.943,
          0.868,
          0.9359999999999999,
          0.863,
          0.853,
          0.946,
          0.883,
          1.026,
          0.7959999999999999,
          0.873,
          0.818,
          0.8370000000000001,
          0.89,
          0.723,
          0.8507380952380954,
          0.93,
          0.8440000000000001,
          0.8320000000000001,
          0.8059999999999999,
          0.899,
          0.45799999999999996,
          0.8507380952380954,
          0.8440000000000001,
          0.9009999999999999,
          0.882,
          0.875,
          0.8507380952380954,
          0.807,
          1.003,
          0.8390000000000001,
          0.774,
          0.795,
          0.298
         ],
         "yaxis": "y"
        }
       ],
       "layout": {
        "coloraxis": {
         "colorbar": {
          "title": {
           "text": "Hierarchical Clusters"
          }
         },
         "colorscale": [
          [
           0,
           "#4B3F72"
          ],
          [
           0.25,
           "#AB81CD"
          ],
          [
           0.5,
           "#1F7A8C"
          ],
          [
           0.75,
           "#03B5AA"
          ],
          [
           1,
           "#A3E7FC"
          ]
         ]
        },
        "height": 600,
        "legend": {
         "tracegroupgap": 0
        },
        "margin": {
         "t": 60
        },
        "template": {
         "data": {
          "bar": [
           {
            "error_x": {
             "color": "#2a3f5f"
            },
            "error_y": {
             "color": "#2a3f5f"
            },
            "marker": {
             "line": {
              "color": "#E5ECF6",
              "width": 0.5
             }
            },
            "type": "bar"
           }
          ],
          "barpolar": [
           {
            "marker": {
             "line": {
              "color": "#E5ECF6",
              "width": 0.5
             }
            },
            "type": "barpolar"
           }
          ],
          "carpet": [
           {
            "aaxis": {
             "endlinecolor": "#2a3f5f",
             "gridcolor": "white",
             "linecolor": "white",
             "minorgridcolor": "white",
             "startlinecolor": "#2a3f5f"
            },
            "baxis": {
             "endlinecolor": "#2a3f5f",
             "gridcolor": "white",
             "linecolor": "white",
             "minorgridcolor": "white",
             "startlinecolor": "#2a3f5f"
            },
            "type": "carpet"
           }
          ],
          "choropleth": [
           {
            "colorbar": {
             "outlinewidth": 0,
             "ticks": ""
            },
            "type": "choropleth"
           }
          ],
          "contour": [
           {
            "colorbar": {
             "outlinewidth": 0,
             "ticks": ""
            },
            "colorscale": [
             [
              0,
              "#0d0887"
             ],
             [
              0.1111111111111111,
              "#46039f"
             ],
             [
              0.2222222222222222,
              "#7201a8"
             ],
             [
              0.3333333333333333,
              "#9c179e"
             ],
             [
              0.4444444444444444,
              "#bd3786"
             ],
             [
              0.5555555555555556,
              "#d8576b"
             ],
             [
              0.6666666666666666,
              "#ed7953"
             ],
             [
              0.7777777777777778,
              "#fb9f3a"
             ],
             [
              0.8888888888888888,
              "#fdca26"
             ],
             [
              1,
              "#f0f921"
             ]
            ],
            "type": "contour"
           }
          ],
          "contourcarpet": [
           {
            "colorbar": {
             "outlinewidth": 0,
             "ticks": ""
            },
            "type": "contourcarpet"
           }
          ],
          "heatmap": [
           {
            "colorbar": {
             "outlinewidth": 0,
             "ticks": ""
            },
            "colorscale": [
             [
              0,
              "#0d0887"
             ],
             [
              0.1111111111111111,
              "#46039f"
             ],
             [
              0.2222222222222222,
              "#7201a8"
             ],
             [
              0.3333333333333333,
              "#9c179e"
             ],
             [
              0.4444444444444444,
              "#bd3786"
             ],
             [
              0.5555555555555556,
              "#d8576b"
             ],
             [
              0.6666666666666666,
              "#ed7953"
             ],
             [
              0.7777777777777778,
              "#fb9f3a"
             ],
             [
              0.8888888888888888,
              "#fdca26"
             ],
             [
              1,
              "#f0f921"
             ]
            ],
            "type": "heatmap"
           }
          ],
          "heatmapgl": [
           {
            "colorbar": {
             "outlinewidth": 0,
             "ticks": ""
            },
            "colorscale": [
             [
              0,
              "#0d0887"
             ],
             [
              0.1111111111111111,
              "#46039f"
             ],
             [
              0.2222222222222222,
              "#7201a8"
             ],
             [
              0.3333333333333333,
              "#9c179e"
             ],
             [
              0.4444444444444444,
              "#bd3786"
             ],
             [
              0.5555555555555556,
              "#d8576b"
             ],
             [
              0.6666666666666666,
              "#ed7953"
             ],
             [
              0.7777777777777778,
              "#fb9f3a"
             ],
             [
              0.8888888888888888,
              "#fdca26"
             ],
             [
              1,
              "#f0f921"
             ]
            ],
            "type": "heatmapgl"
           }
          ],
          "histogram": [
           {
            "marker": {
             "colorbar": {
              "outlinewidth": 0,
              "ticks": ""
             }
            },
            "type": "histogram"
           }
          ],
          "histogram2d": [
           {
            "colorbar": {
             "outlinewidth": 0,
             "ticks": ""
            },
            "colorscale": [
             [
              0,
              "#0d0887"
             ],
             [
              0.1111111111111111,
              "#46039f"
             ],
             [
              0.2222222222222222,
              "#7201a8"
             ],
             [
              0.3333333333333333,
              "#9c179e"
             ],
             [
              0.4444444444444444,
              "#bd3786"
             ],
             [
              0.5555555555555556,
              "#d8576b"
             ],
             [
              0.6666666666666666,
              "#ed7953"
             ],
             [
              0.7777777777777778,
              "#fb9f3a"
             ],
             [
              0.8888888888888888,
              "#fdca26"
             ],
             [
              1,
              "#f0f921"
             ]
            ],
            "type": "histogram2d"
           }
          ],
          "histogram2dcontour": [
           {
            "colorbar": {
             "outlinewidth": 0,
             "ticks": ""
            },
            "colorscale": [
             [
              0,
              "#0d0887"
             ],
             [
              0.1111111111111111,
              "#46039f"
             ],
             [
              0.2222222222222222,
              "#7201a8"
             ],
             [
              0.3333333333333333,
              "#9c179e"
             ],
             [
              0.4444444444444444,
              "#bd3786"
             ],
             [
              0.5555555555555556,
              "#d8576b"
             ],
             [
              0.6666666666666666,
              "#ed7953"
             ],
             [
              0.7777777777777778,
              "#fb9f3a"
             ],
             [
              0.8888888888888888,
              "#fdca26"
             ],
             [
              1,
              "#f0f921"
             ]
            ],
            "type": "histogram2dcontour"
           }
          ],
          "mesh3d": [
           {
            "colorbar": {
             "outlinewidth": 0,
             "ticks": ""
            },
            "type": "mesh3d"
           }
          ],
          "parcoords": [
           {
            "line": {
             "colorbar": {
              "outlinewidth": 0,
              "ticks": ""
             }
            },
            "type": "parcoords"
           }
          ],
          "pie": [
           {
            "automargin": true,
            "type": "pie"
           }
          ],
          "scatter": [
           {
            "marker": {
             "colorbar": {
              "outlinewidth": 0,
              "ticks": ""
             }
            },
            "type": "scatter"
           }
          ],
          "scatter3d": [
           {
            "line": {
             "colorbar": {
              "outlinewidth": 0,
              "ticks": ""
             }
            },
            "marker": {
             "colorbar": {
              "outlinewidth": 0,
              "ticks": ""
             }
            },
            "type": "scatter3d"
           }
          ],
          "scattercarpet": [
           {
            "marker": {
             "colorbar": {
              "outlinewidth": 0,
              "ticks": ""
             }
            },
            "type": "scattercarpet"
           }
          ],
          "scattergeo": [
           {
            "marker": {
             "colorbar": {
              "outlinewidth": 0,
              "ticks": ""
             }
            },
            "type": "scattergeo"
           }
          ],
          "scattergl": [
           {
            "marker": {
             "colorbar": {
              "outlinewidth": 0,
              "ticks": ""
             }
            },
            "type": "scattergl"
           }
          ],
          "scattermapbox": [
           {
            "marker": {
             "colorbar": {
              "outlinewidth": 0,
              "ticks": ""
             }
            },
            "type": "scattermapbox"
           }
          ],
          "scatterpolar": [
           {
            "marker": {
             "colorbar": {
              "outlinewidth": 0,
              "ticks": ""
             }
            },
            "type": "scatterpolar"
           }
          ],
          "scatterpolargl": [
           {
            "marker": {
             "colorbar": {
              "outlinewidth": 0,
              "ticks": ""
             }
            },
            "type": "scatterpolargl"
           }
          ],
          "scatterternary": [
           {
            "marker": {
             "colorbar": {
              "outlinewidth": 0,
              "ticks": ""
             }
            },
            "type": "scatterternary"
           }
          ],
          "surface": [
           {
            "colorbar": {
             "outlinewidth": 0,
             "ticks": ""
            },
            "colorscale": [
             [
              0,
              "#0d0887"
             ],
             [
              0.1111111111111111,
              "#46039f"
             ],
             [
              0.2222222222222222,
              "#7201a8"
             ],
             [
              0.3333333333333333,
              "#9c179e"
             ],
             [
              0.4444444444444444,
              "#bd3786"
             ],
             [
              0.5555555555555556,
              "#d8576b"
             ],
             [
              0.6666666666666666,
              "#ed7953"
             ],
             [
              0.7777777777777778,
              "#fb9f3a"
             ],
             [
              0.8888888888888888,
              "#fdca26"
             ],
             [
              1,
              "#f0f921"
             ]
            ],
            "type": "surface"
           }
          ],
          "table": [
           {
            "cells": {
             "fill": {
              "color": "#EBF0F8"
             },
             "line": {
              "color": "white"
             }
            },
            "header": {
             "fill": {
              "color": "#C8D4E3"
             },
             "line": {
              "color": "white"
             }
            },
            "type": "table"
           }
          ]
         },
         "layout": {
          "annotationdefaults": {
           "arrowcolor": "#2a3f5f",
           "arrowhead": 0,
           "arrowwidth": 1
          },
          "coloraxis": {
           "colorbar": {
            "outlinewidth": 0,
            "ticks": ""
           }
          },
          "colorscale": {
           "diverging": [
            [
             0,
             "#8e0152"
            ],
            [
             0.1,
             "#c51b7d"
            ],
            [
             0.2,
             "#de77ae"
            ],
            [
             0.3,
             "#f1b6da"
            ],
            [
             0.4,
             "#fde0ef"
            ],
            [
             0.5,
             "#f7f7f7"
            ],
            [
             0.6,
             "#e6f5d0"
            ],
            [
             0.7,
             "#b8e186"
            ],
            [
             0.8,
             "#7fbc41"
            ],
            [
             0.9,
             "#4d9221"
            ],
            [
             1,
             "#276419"
            ]
           ],
           "sequential": [
            [
             0,
             "#0d0887"
            ],
            [
             0.1111111111111111,
             "#46039f"
            ],
            [
             0.2222222222222222,
             "#7201a8"
            ],
            [
             0.3333333333333333,
             "#9c179e"
            ],
            [
             0.4444444444444444,
             "#bd3786"
            ],
            [
             0.5555555555555556,
             "#d8576b"
            ],
            [
             0.6666666666666666,
             "#ed7953"
            ],
            [
             0.7777777777777778,
             "#fb9f3a"
            ],
            [
             0.8888888888888888,
             "#fdca26"
            ],
            [
             1,
             "#f0f921"
            ]
           ],
           "sequentialminus": [
            [
             0,
             "#0d0887"
            ],
            [
             0.1111111111111111,
             "#46039f"
            ],
            [
             0.2222222222222222,
             "#7201a8"
            ],
            [
             0.3333333333333333,
             "#9c179e"
            ],
            [
             0.4444444444444444,
             "#bd3786"
            ],
            [
             0.5555555555555556,
             "#d8576b"
            ],
            [
             0.6666666666666666,
             "#ed7953"
            ],
            [
             0.7777777777777778,
             "#fb9f3a"
            ],
            [
             0.8888888888888888,
             "#fdca26"
            ],
            [
             1,
             "#f0f921"
            ]
           ]
          },
          "colorway": [
           "#636efa",
           "#EF553B",
           "#00cc96",
           "#ab63fa",
           "#FFA15A",
           "#19d3f3",
           "#FF6692",
           "#B6E880",
           "#FF97FF",
           "#FECB52"
          ],
          "font": {
           "color": "#2a3f5f"
          },
          "geo": {
           "bgcolor": "white",
           "lakecolor": "white",
           "landcolor": "#E5ECF6",
           "showlakes": true,
           "showland": true,
           "subunitcolor": "white"
          },
          "hoverlabel": {
           "align": "left"
          },
          "hovermode": "closest",
          "mapbox": {
           "style": "light"
          },
          "paper_bgcolor": "white",
          "plot_bgcolor": "#E5ECF6",
          "polar": {
           "angularaxis": {
            "gridcolor": "white",
            "linecolor": "white",
            "ticks": ""
           },
           "bgcolor": "#E5ECF6",
           "radialaxis": {
            "gridcolor": "white",
            "linecolor": "white",
            "ticks": ""
           }
          },
          "scene": {
           "xaxis": {
            "backgroundcolor": "#E5ECF6",
            "gridcolor": "white",
            "gridwidth": 2,
            "linecolor": "white",
            "showbackground": true,
            "ticks": "",
            "zerolinecolor": "white"
           },
           "yaxis": {
            "backgroundcolor": "#E5ECF6",
            "gridcolor": "white",
            "gridwidth": 2,
            "linecolor": "white",
            "showbackground": true,
            "ticks": "",
            "zerolinecolor": "white"
           },
           "zaxis": {
            "backgroundcolor": "#E5ECF6",
            "gridcolor": "white",
            "gridwidth": 2,
            "linecolor": "white",
            "showbackground": true,
            "ticks": "",
            "zerolinecolor": "white"
           }
          },
          "shapedefaults": {
           "line": {
            "color": "#2a3f5f"
           }
          },
          "ternary": {
           "aaxis": {
            "gridcolor": "white",
            "linecolor": "white",
            "ticks": ""
           },
           "baxis": {
            "gridcolor": "white",
            "linecolor": "white",
            "ticks": ""
           },
           "bgcolor": "#E5ECF6",
           "caxis": {
            "gridcolor": "white",
            "linecolor": "white",
            "ticks": ""
           }
          },
          "title": {
           "x": 0.05
          },
          "xaxis": {
           "automargin": true,
           "gridcolor": "white",
           "linecolor": "white",
           "ticks": "",
           "title": {
            "standoff": 15
           },
           "zerolinecolor": "white",
           "zerolinewidth": 2
          },
          "yaxis": {
           "automargin": true,
           "gridcolor": "white",
           "linecolor": "white",
           "ticks": "",
           "title": {
            "standoff": 15
           },
           "zerolinecolor": "white",
           "zerolinewidth": 2
          }
         }
        },
        "xaxis": {
         "anchor": "y",
         "domain": [
          0,
          1
         ],
         "title": {
          "text": "Hierarchical Clusters"
         }
        },
        "yaxis": {
         "anchor": "x",
         "domain": [
          0,
          1
         ],
         "title": {
          "text": "Gender Development Index"
         }
        }
       }
      },
      "text/html": [
       "<div>\n",
       "        \n",
       "        \n",
       "            <div id=\"7c45ea16-19c8-43cc-9eb6-7fd4bac0d40e\" class=\"plotly-graph-div\" style=\"height:600px; width:100%;\"></div>\n",
       "            <script type=\"text/javascript\">\n",
       "                require([\"plotly\"], function(Plotly) {\n",
       "                    window.PLOTLYENV=window.PLOTLYENV || {};\n",
       "                    \n",
       "                if (document.getElementById(\"7c45ea16-19c8-43cc-9eb6-7fd4bac0d40e\")) {\n",
       "                    Plotly.newPlot(\n",
       "                        '7c45ea16-19c8-43cc-9eb6-7fd4bac0d40e',\n",
       "                        [{\"hoverlabel\": {\"namelength\": 0}, \"hovertemplate\": \"<b>%{hovertext}</b><br><br>Hierarchical Clusters=%{marker.color}<br>Gender Development Index=%{y}\", \"hovertext\": [\"Norway\", \"Switzerland\", \"Ireland\", \"Germany\", \"Hong Kong, China (SAR)\", \"Australia\", \"Iceland\", \"Sweden\", \"Singapore\", \"Netherlands\", \"Denmark\", \"Finland\", \"Canada\", \"New Zealand\", \"United Kingdom\", \"United States\", \"Belgium\", \"Liechtenstein\", \"Japan\", \"Austria\", \"Luxembourg\", \"Israel\", \"Korea (Republic of)\", \"Slovenia\", \"Spain\", \"Czechia\", \"France\", \"Malta\", \"Italy\", \"Estonia\", \"Cyprus\", \"Greece\", \"Poland\", \"Lithuania\", \"United Arab Emirates\", \"Andorra\", \"Saudi Arabia\", \"Slovakia\", \"Latvia\", \"Portugal\", \"Qatar\", \"Chile\", \"Brunei Darussalam\", \"Hungary\", \"Bahrain\", \"Croatia\", \"Oman\", \"Argentina\", \"Russian Federation\", \"Belarus\", \"Kazakhstan\", \"Bulgaria\", \"Montenegro\", \"Romania\", \"Palau\", \"Barbados\", \"Kuwait\", \"Uruguay\", \"Turkey\", \"Bahamas\", \"Malaysia\", \"Seychelles\", \"Serbia\", \"Trinidad and Tobago\", \"Iran (Islamic Republic of)\", \"Mauritius\", \"Panama\", \"Costa Rica\", \"Albania\", \"Georgia\", \"Sri Lanka\", \"Cuba\", \"Saint Kitts and Nevis\", \"Antigua and Barbuda\", \"Bosnia and Herzegovina\", \"Mexico\", \"Thailand\", \"Grenada\", \"Brazil\", \"Colombia\", \"Armenia\", \"Algeria\", \"North Macedonia\", \"Peru\", \"China\", \"Ecuador\", \"Azerbaijan\", \"Ukraine\", \"Dominican Republic\", \"Saint Lucia\", \"Tunisia\", \"Mongolia\", \"Lebanon\", \"Botswana\", \"Saint Vincent and the Grenadines\", \"Jamaica\", \"Venezuela (Bolivarian Republic of)\", \"Dominica\", \"Fiji\", \"Paraguay\", \"Suriname\", \"Jordan\", \"Belize\", \"Maldives\", \"Tonga\", \"Philippines\", \"Moldova (Republic of)\", \"Turkmenistan\", \"Uzbekistan\", \"Libya\", \"Indonesia\", \"Samoa\", \"South Africa\", \"Bolivia (Plurinational State of)\", \"Gabon\", \"Egypt\", \"Marshall Islands\", \"Viet Nam\", \"Palestine, State of\", \"Iraq\", \"Morocco\", \"Kyrgyzstan\", \"Guyana\", \"El Salvador\", \"Tajikistan\", \"Cabo Verde\", \"Guatemala\", \"Nicaragua\", \"India\", \"Namibia\", \"Timor-Leste\", \"Honduras\", \"Kiribati\", \"Bhutan\", \"Bangladesh\", \"Micronesia (Federated States of)\", \"Sao Tome and Principe\", \"Congo\", \"Eswatini (Kingdom of)\", \"Lao People's Democratic Republic\", \"Vanuatu\", \"Ghana\", \"Zambia\", \"Equatorial Guinea\", \"Myanmar\", \"Cambodia\", \"Kenya\", \"Nepal\", \"Angola\", \"Cameroon\", \"Zimbabwe\", \"Pakistan\", \"Solomon Islands\", \"Syrian Arab Republic\", \"Papua New Guinea\", \"Comoros\", \"Rwanda\", \"Nigeria\", \"Tanzania (United Republic of)\", \"Uganda\", \"Mauritania\", \"Madagascar\", \"Benin\", \"Lesotho\", \"C\\u00f4te d'Ivoire\", \"Senegal\", \"Togo\", \"Sudan\", \"Haiti\", \"Afghanistan\", \"Djibouti\", \"Malawi\", \"Ethiopia\", \"Gambia\", \"Guinea\", \"Liberia\", \"Yemen\", \"Guinea-Bissau\", \"Congo (Democratic Republic of the)\", \"Mozambique\", \"Sierra Leone\", \"Burkina Faso\", \"Eritrea\", \"Mali\", \"Burundi\", \"South Sudan\", \"Chad\", \"Central African Republic\", \"Niger\"], \"legendgroup\": \"\", \"marker\": {\"color\": [0, 0, 0, 0, 0, 0, 0, 0, 0, 0, 0, 0, 0, 0, 0, 0, 0, 3, 0, 0, 0, 0, 0, 0, 0, 0, 0, 0, 0, 0, 0, 0, 0, 0, 3, 0, 3, 0, 0, 0, 3, 2, 3, 0, 3, 0, 3, 2, 0, 0, 0, 0, 0, 0, 2, 2, 3, 2, 5, 2, 2, 2, 0, 2, 5, 2, 1, 2, 0, 0, 2, 2, 2, 2, 0, 1, 2, 2, 1, 1, 0, 5, 0, 1, 1, 1, 2, 0, 1, 2, 5, 0, 5, 1, 2, 1, 1, 1, 1, 1, 1, 5, 1, 2, 1, 1, 0, 1, 1, 5, 1, 1, 1, 1, 1, 5, 1, 1, 5, 5, 5, 1, 1, 1, 1, 1, 1, 1, 1, 1, 1, 1, 1, 1, 1, 1, 1, 1, 1, 1, 1, 4, 4, 4, 4, 4, 4, 4, 4, 4, 4, 4, 4, 4, 4, 4, 4, 4, 4, 4, 4, 4, 4, 4, 4, 4, 4, 4, 4, 4, 4, 4, 4, 4, 4, 4, 4, 4, 4, 4, 4, 4, 4, 4, 4, 4, 4, 4, 4], \"coloraxis\": \"coloraxis\", \"symbol\": \"circle\"}, \"mode\": \"markers\", \"name\": \"\", \"showlegend\": false, \"type\": \"scatter\", \"x\": [0, 0, 0, 0, 0, 0, 0, 0, 0, 0, 0, 0, 0, 0, 0, 0, 0, 3, 0, 0, 0, 0, 0, 0, 0, 0, 0, 0, 0, 0, 0, 0, 0, 0, 3, 0, 3, 0, 0, 0, 3, 2, 3, 0, 3, 0, 3, 2, 0, 0, 0, 0, 0, 0, 2, 2, 3, 2, 5, 2, 2, 2, 0, 2, 5, 2, 1, 2, 0, 0, 2, 2, 2, 2, 0, 1, 2, 2, 1, 1, 0, 5, 0, 1, 1, 1, 2, 0, 1, 2, 5, 0, 5, 1, 2, 1, 1, 1, 1, 1, 1, 5, 1, 2, 1, 1, 0, 1, 1, 5, 1, 1, 1, 1, 1, 5, 1, 1, 5, 5, 5, 1, 1, 1, 1, 1, 1, 1, 1, 1, 1, 1, 1, 1, 1, 1, 1, 1, 1, 1, 1, 4, 4, 4, 4, 4, 4, 4, 4, 4, 4, 4, 4, 4, 4, 4, 4, 4, 4, 4, 4, 4, 4, 4, 4, 4, 4, 4, 4, 4, 4, 4, 4, 4, 4, 4, 4, 4, 4, 4, 4, 4, 4, 4, 4, 4, 4, 4, 4], \"xaxis\": \"x\", \"y\": [0.99, 0.963, 0.975, 0.968, 0.963, 0.975, 0.966, 0.982, 0.988, 0.9670000000000001, 0.98, 0.99, 0.9890000000000001, 0.963, 0.9670000000000001, 0.991, 0.972, 0.9783829787234044, 0.976, 0.963, 0.97, 0.972, 0.934, 1.003, 0.981, 0.983, 0.9840000000000001, 0.965, 0.9670000000000001, 1.016, 0.983, 0.963, 1.0090000000000001, 1.028, 0.965, 0.9783829787234044, 0.879, 0.992, 1.03, 0.9840000000000001, 1.043, 0.9620000000000001, 0.987, 0.9840000000000001, 0.937, 0.9890000000000001, 0.943, 0.988, 1.015, 1.01, 0.9990000000000001, 0.993, 0.966, 0.986, 0.9686153846153848, 1.01, 0.9990000000000001, 1.016, 0.924, 0.9686153846153848, 0.972, 0.9686153846153848, 0.976, 1.002, 0.8740000000000001, 0.9740000000000001, 1.005, 0.977, 0.971, 0.9790000000000001, 0.938, 0.948, 0.9686153846153848, 0.9686153846153848, 0.924, 0.9570000000000001, 0.995, 0.9686153846153848, 0.995, 0.986, 0.972, 0.865, 0.9470000000000001, 0.951, 0.961, 0.98, 0.94, 0.995, 1.003, 0.975, 0.899, 1.031, 0.8909999999999999, 0.99, 0.9686153846153848, 0.986, 1.013, 0.9357631578947371, 0.9357631578947371, 0.968, 0.972, 0.868, 0.983, 0.9390000000000001, 0.9440000000000001, 1.004, 1.0070000000000001, 0.9357631578947371, 0.9390000000000001, 0.9309999999999999, 0.937, 0.9357631578947371, 0.9840000000000001, 0.9359999999999999, 0.917, 0.878, 0.9357631578947371, 1.003, 0.871, 0.789, 0.833, 0.9590000000000001, 0.973, 0.9690000000000001, 0.799, 0.9840000000000001, 0.943, 1.013, 0.8290000000000001, 1.0090000000000001, 0.899, 0.97, 0.9357631578947371, 0.893, 0.895, 0.9357631578947371, 0.9, 0.9309999999999999, 0.9620000000000001, 0.929, 0.9357631578947371, 0.912, 0.9490000000000001, 0.8507380952380954, 0.953, 0.919, 0.9329999999999999, 0.897, 0.902, 0.8690000000000001, 0.925, 0.747, 0.8507380952380954, 0.795, 0.8507380952380954, 0.888, 0.943, 0.868, 0.9359999999999999, 0.863, 0.853, 0.946, 0.883, 1.026, 0.7959999999999999, 0.873, 0.818, 0.8370000000000001, 0.89, 0.723, 0.8507380952380954, 0.93, 0.8440000000000001, 0.8320000000000001, 0.8059999999999999, 0.899, 0.45799999999999996, 0.8507380952380954, 0.8440000000000001, 0.9009999999999999, 0.882, 0.875, 0.8507380952380954, 0.807, 1.003, 0.8390000000000001, 0.774, 0.795, 0.298], \"yaxis\": \"y\"}],\n",
       "                        {\"coloraxis\": {\"colorbar\": {\"title\": {\"text\": \"Hierarchical Clusters\"}}, \"colorscale\": [[0.0, \"#4B3F72\"], [0.25, \"#AB81CD\"], [0.5, \"#1F7A8C\"], [0.75, \"#03B5AA\"], [1.0, \"#A3E7FC\"]]}, \"height\": 600, \"legend\": {\"tracegroupgap\": 0}, \"margin\": {\"t\": 60}, \"template\": {\"data\": {\"bar\": [{\"error_x\": {\"color\": \"#2a3f5f\"}, \"error_y\": {\"color\": \"#2a3f5f\"}, \"marker\": {\"line\": {\"color\": \"#E5ECF6\", \"width\": 0.5}}, \"type\": \"bar\"}], \"barpolar\": [{\"marker\": {\"line\": {\"color\": \"#E5ECF6\", \"width\": 0.5}}, \"type\": \"barpolar\"}], \"carpet\": [{\"aaxis\": {\"endlinecolor\": \"#2a3f5f\", \"gridcolor\": \"white\", \"linecolor\": \"white\", \"minorgridcolor\": \"white\", \"startlinecolor\": \"#2a3f5f\"}, \"baxis\": {\"endlinecolor\": \"#2a3f5f\", \"gridcolor\": \"white\", \"linecolor\": \"white\", \"minorgridcolor\": \"white\", \"startlinecolor\": \"#2a3f5f\"}, \"type\": \"carpet\"}], \"choropleth\": [{\"colorbar\": {\"outlinewidth\": 0, \"ticks\": \"\"}, \"type\": \"choropleth\"}], \"contour\": [{\"colorbar\": {\"outlinewidth\": 0, \"ticks\": \"\"}, \"colorscale\": [[0.0, \"#0d0887\"], [0.1111111111111111, \"#46039f\"], [0.2222222222222222, \"#7201a8\"], [0.3333333333333333, \"#9c179e\"], [0.4444444444444444, \"#bd3786\"], [0.5555555555555556, \"#d8576b\"], [0.6666666666666666, \"#ed7953\"], [0.7777777777777778, \"#fb9f3a\"], [0.8888888888888888, \"#fdca26\"], [1.0, \"#f0f921\"]], \"type\": \"contour\"}], \"contourcarpet\": [{\"colorbar\": {\"outlinewidth\": 0, \"ticks\": \"\"}, \"type\": \"contourcarpet\"}], \"heatmap\": [{\"colorbar\": {\"outlinewidth\": 0, \"ticks\": \"\"}, \"colorscale\": [[0.0, \"#0d0887\"], [0.1111111111111111, \"#46039f\"], [0.2222222222222222, \"#7201a8\"], [0.3333333333333333, \"#9c179e\"], [0.4444444444444444, \"#bd3786\"], [0.5555555555555556, \"#d8576b\"], [0.6666666666666666, \"#ed7953\"], [0.7777777777777778, \"#fb9f3a\"], [0.8888888888888888, \"#fdca26\"], [1.0, \"#f0f921\"]], \"type\": \"heatmap\"}], \"heatmapgl\": [{\"colorbar\": {\"outlinewidth\": 0, \"ticks\": \"\"}, \"colorscale\": [[0.0, \"#0d0887\"], [0.1111111111111111, \"#46039f\"], [0.2222222222222222, \"#7201a8\"], [0.3333333333333333, \"#9c179e\"], [0.4444444444444444, \"#bd3786\"], [0.5555555555555556, \"#d8576b\"], [0.6666666666666666, \"#ed7953\"], [0.7777777777777778, \"#fb9f3a\"], [0.8888888888888888, \"#fdca26\"], [1.0, \"#f0f921\"]], \"type\": \"heatmapgl\"}], \"histogram\": [{\"marker\": {\"colorbar\": {\"outlinewidth\": 0, \"ticks\": \"\"}}, \"type\": \"histogram\"}], \"histogram2d\": [{\"colorbar\": {\"outlinewidth\": 0, \"ticks\": \"\"}, \"colorscale\": [[0.0, \"#0d0887\"], [0.1111111111111111, \"#46039f\"], [0.2222222222222222, \"#7201a8\"], [0.3333333333333333, \"#9c179e\"], [0.4444444444444444, \"#bd3786\"], [0.5555555555555556, \"#d8576b\"], [0.6666666666666666, \"#ed7953\"], [0.7777777777777778, \"#fb9f3a\"], [0.8888888888888888, \"#fdca26\"], [1.0, \"#f0f921\"]], \"type\": \"histogram2d\"}], \"histogram2dcontour\": [{\"colorbar\": {\"outlinewidth\": 0, \"ticks\": \"\"}, \"colorscale\": [[0.0, \"#0d0887\"], [0.1111111111111111, \"#46039f\"], [0.2222222222222222, \"#7201a8\"], [0.3333333333333333, \"#9c179e\"], [0.4444444444444444, \"#bd3786\"], [0.5555555555555556, \"#d8576b\"], [0.6666666666666666, \"#ed7953\"], [0.7777777777777778, \"#fb9f3a\"], [0.8888888888888888, \"#fdca26\"], [1.0, \"#f0f921\"]], \"type\": \"histogram2dcontour\"}], \"mesh3d\": [{\"colorbar\": {\"outlinewidth\": 0, \"ticks\": \"\"}, \"type\": \"mesh3d\"}], \"parcoords\": [{\"line\": {\"colorbar\": {\"outlinewidth\": 0, \"ticks\": \"\"}}, \"type\": \"parcoords\"}], \"pie\": [{\"automargin\": true, \"type\": \"pie\"}], \"scatter\": [{\"marker\": {\"colorbar\": {\"outlinewidth\": 0, \"ticks\": \"\"}}, \"type\": \"scatter\"}], \"scatter3d\": [{\"line\": {\"colorbar\": {\"outlinewidth\": 0, \"ticks\": \"\"}}, \"marker\": {\"colorbar\": {\"outlinewidth\": 0, \"ticks\": \"\"}}, \"type\": \"scatter3d\"}], \"scattercarpet\": [{\"marker\": {\"colorbar\": {\"outlinewidth\": 0, \"ticks\": \"\"}}, \"type\": \"scattercarpet\"}], \"scattergeo\": [{\"marker\": {\"colorbar\": {\"outlinewidth\": 0, \"ticks\": \"\"}}, \"type\": \"scattergeo\"}], \"scattergl\": [{\"marker\": {\"colorbar\": {\"outlinewidth\": 0, \"ticks\": \"\"}}, \"type\": \"scattergl\"}], \"scattermapbox\": [{\"marker\": {\"colorbar\": {\"outlinewidth\": 0, \"ticks\": \"\"}}, \"type\": \"scattermapbox\"}], \"scatterpolar\": [{\"marker\": {\"colorbar\": {\"outlinewidth\": 0, \"ticks\": \"\"}}, \"type\": \"scatterpolar\"}], \"scatterpolargl\": [{\"marker\": {\"colorbar\": {\"outlinewidth\": 0, \"ticks\": \"\"}}, \"type\": \"scatterpolargl\"}], \"scatterternary\": [{\"marker\": {\"colorbar\": {\"outlinewidth\": 0, \"ticks\": \"\"}}, \"type\": \"scatterternary\"}], \"surface\": [{\"colorbar\": {\"outlinewidth\": 0, \"ticks\": \"\"}, \"colorscale\": [[0.0, \"#0d0887\"], [0.1111111111111111, \"#46039f\"], [0.2222222222222222, \"#7201a8\"], [0.3333333333333333, \"#9c179e\"], [0.4444444444444444, \"#bd3786\"], [0.5555555555555556, \"#d8576b\"], [0.6666666666666666, \"#ed7953\"], [0.7777777777777778, \"#fb9f3a\"], [0.8888888888888888, \"#fdca26\"], [1.0, \"#f0f921\"]], \"type\": \"surface\"}], \"table\": [{\"cells\": {\"fill\": {\"color\": \"#EBF0F8\"}, \"line\": {\"color\": \"white\"}}, \"header\": {\"fill\": {\"color\": \"#C8D4E3\"}, \"line\": {\"color\": \"white\"}}, \"type\": \"table\"}]}, \"layout\": {\"annotationdefaults\": {\"arrowcolor\": \"#2a3f5f\", \"arrowhead\": 0, \"arrowwidth\": 1}, \"coloraxis\": {\"colorbar\": {\"outlinewidth\": 0, \"ticks\": \"\"}}, \"colorscale\": {\"diverging\": [[0, \"#8e0152\"], [0.1, \"#c51b7d\"], [0.2, \"#de77ae\"], [0.3, \"#f1b6da\"], [0.4, \"#fde0ef\"], [0.5, \"#f7f7f7\"], [0.6, \"#e6f5d0\"], [0.7, \"#b8e186\"], [0.8, \"#7fbc41\"], [0.9, \"#4d9221\"], [1, \"#276419\"]], \"sequential\": [[0.0, \"#0d0887\"], [0.1111111111111111, \"#46039f\"], [0.2222222222222222, \"#7201a8\"], [0.3333333333333333, \"#9c179e\"], [0.4444444444444444, \"#bd3786\"], [0.5555555555555556, \"#d8576b\"], [0.6666666666666666, \"#ed7953\"], [0.7777777777777778, \"#fb9f3a\"], [0.8888888888888888, \"#fdca26\"], [1.0, \"#f0f921\"]], \"sequentialminus\": [[0.0, \"#0d0887\"], [0.1111111111111111, \"#46039f\"], [0.2222222222222222, \"#7201a8\"], [0.3333333333333333, \"#9c179e\"], [0.4444444444444444, \"#bd3786\"], [0.5555555555555556, \"#d8576b\"], [0.6666666666666666, \"#ed7953\"], [0.7777777777777778, \"#fb9f3a\"], [0.8888888888888888, \"#fdca26\"], [1.0, \"#f0f921\"]]}, \"colorway\": [\"#636efa\", \"#EF553B\", \"#00cc96\", \"#ab63fa\", \"#FFA15A\", \"#19d3f3\", \"#FF6692\", \"#B6E880\", \"#FF97FF\", \"#FECB52\"], \"font\": {\"color\": \"#2a3f5f\"}, \"geo\": {\"bgcolor\": \"white\", \"lakecolor\": \"white\", \"landcolor\": \"#E5ECF6\", \"showlakes\": true, \"showland\": true, \"subunitcolor\": \"white\"}, \"hoverlabel\": {\"align\": \"left\"}, \"hovermode\": \"closest\", \"mapbox\": {\"style\": \"light\"}, \"paper_bgcolor\": \"white\", \"plot_bgcolor\": \"#E5ECF6\", \"polar\": {\"angularaxis\": {\"gridcolor\": \"white\", \"linecolor\": \"white\", \"ticks\": \"\"}, \"bgcolor\": \"#E5ECF6\", \"radialaxis\": {\"gridcolor\": \"white\", \"linecolor\": \"white\", \"ticks\": \"\"}}, \"scene\": {\"xaxis\": {\"backgroundcolor\": \"#E5ECF6\", \"gridcolor\": \"white\", \"gridwidth\": 2, \"linecolor\": \"white\", \"showbackground\": true, \"ticks\": \"\", \"zerolinecolor\": \"white\"}, \"yaxis\": {\"backgroundcolor\": \"#E5ECF6\", \"gridcolor\": \"white\", \"gridwidth\": 2, \"linecolor\": \"white\", \"showbackground\": true, \"ticks\": \"\", \"zerolinecolor\": \"white\"}, \"zaxis\": {\"backgroundcolor\": \"#E5ECF6\", \"gridcolor\": \"white\", \"gridwidth\": 2, \"linecolor\": \"white\", \"showbackground\": true, \"ticks\": \"\", \"zerolinecolor\": \"white\"}}, \"shapedefaults\": {\"line\": {\"color\": \"#2a3f5f\"}}, \"ternary\": {\"aaxis\": {\"gridcolor\": \"white\", \"linecolor\": \"white\", \"ticks\": \"\"}, \"baxis\": {\"gridcolor\": \"white\", \"linecolor\": \"white\", \"ticks\": \"\"}, \"bgcolor\": \"#E5ECF6\", \"caxis\": {\"gridcolor\": \"white\", \"linecolor\": \"white\", \"ticks\": \"\"}}, \"title\": {\"x\": 0.05}, \"xaxis\": {\"automargin\": true, \"gridcolor\": \"white\", \"linecolor\": \"white\", \"ticks\": \"\", \"title\": {\"standoff\": 15}, \"zerolinecolor\": \"white\", \"zerolinewidth\": 2}, \"yaxis\": {\"automargin\": true, \"gridcolor\": \"white\", \"linecolor\": \"white\", \"ticks\": \"\", \"title\": {\"standoff\": 15}, \"zerolinecolor\": \"white\", \"zerolinewidth\": 2}}}, \"xaxis\": {\"anchor\": \"y\", \"domain\": [0.0, 1.0], \"title\": {\"text\": \"Hierarchical Clusters\"}}, \"yaxis\": {\"anchor\": \"x\", \"domain\": [0.0, 1.0], \"title\": {\"text\": \"Gender Development Index\"}}},\n",
       "                        {\"responsive\": true}\n",
       "                    ).then(function(){\n",
       "                            \n",
       "var gd = document.getElementById('7c45ea16-19c8-43cc-9eb6-7fd4bac0d40e');\n",
       "var x = new MutationObserver(function (mutations, observer) {{\n",
       "        var display = window.getComputedStyle(gd).display;\n",
       "        if (!display || display === 'none') {{\n",
       "            console.log([gd, 'removed!']);\n",
       "            Plotly.purge(gd);\n",
       "            observer.disconnect();\n",
       "        }}\n",
       "}});\n",
       "\n",
       "// Listen for the removal of the full notebook cells\n",
       "var notebookContainer = gd.closest('#notebook-container');\n",
       "if (notebookContainer) {{\n",
       "    x.observe(notebookContainer, {childList: true});\n",
       "}}\n",
       "\n",
       "// Listen for the clearing of the current output cell\n",
       "var outputEl = gd.closest('.output');\n",
       "if (outputEl) {{\n",
       "    x.observe(outputEl, {childList: true});\n",
       "}}\n",
       "\n",
       "                        })\n",
       "                };\n",
       "                });\n",
       "            </script>\n",
       "        </div>"
      ]
     },
     "metadata": {},
     "output_type": "display_data"
    }
   ],
   "source": [
    "px.scatter(data_frame= X, x = 'Hierarchical Clusters', y = 'Gender Development Index', color= 'Hierarchical Clusters',\n",
    "           hover_name= X.index, color_continuous_scale= palette)"
   ]
  },
  {
   "cell_type": "code",
   "execution_count": 234,
   "metadata": {},
   "outputs": [
    {
     "data": {
      "application/vnd.plotly.v1+json": {
       "config": {
        "plotlyServerURL": "https://plot.ly"
       },
       "data": [
        {
         "hoverlabel": {
          "namelength": 0
         },
         "hovertemplate": "<b>%{hovertext}</b><br><br>Hierarchical Clusters=%{marker.color}<br>Ineq-HDI Loss %=%{y}",
         "hovertext": [
          "Norway",
          "Switzerland",
          "Ireland",
          "Germany",
          "Hong Kong, China (SAR)",
          "Australia",
          "Iceland",
          "Sweden",
          "Singapore",
          "Netherlands",
          "Denmark",
          "Finland",
          "Canada",
          "New Zealand",
          "United Kingdom",
          "United States",
          "Belgium",
          "Liechtenstein",
          "Japan",
          "Austria",
          "Luxembourg",
          "Israel",
          "Korea (Republic of)",
          "Slovenia",
          "Spain",
          "Czechia",
          "France",
          "Malta",
          "Italy",
          "Estonia",
          "Cyprus",
          "Greece",
          "Poland",
          "Lithuania",
          "United Arab Emirates",
          "Andorra",
          "Saudi Arabia",
          "Slovakia",
          "Latvia",
          "Portugal",
          "Qatar",
          "Chile",
          "Brunei Darussalam",
          "Hungary",
          "Bahrain",
          "Croatia",
          "Oman",
          "Argentina",
          "Russian Federation",
          "Belarus",
          "Kazakhstan",
          "Bulgaria",
          "Montenegro",
          "Romania",
          "Palau",
          "Barbados",
          "Kuwait",
          "Uruguay",
          "Turkey",
          "Bahamas",
          "Malaysia",
          "Seychelles",
          "Serbia",
          "Trinidad and Tobago",
          "Iran (Islamic Republic of)",
          "Mauritius",
          "Panama",
          "Costa Rica",
          "Albania",
          "Georgia",
          "Sri Lanka",
          "Cuba",
          "Saint Kitts and Nevis",
          "Antigua and Barbuda",
          "Bosnia and Herzegovina",
          "Mexico",
          "Thailand",
          "Grenada",
          "Brazil",
          "Colombia",
          "Armenia",
          "Algeria",
          "North Macedonia",
          "Peru",
          "China",
          "Ecuador",
          "Azerbaijan",
          "Ukraine",
          "Dominican Republic",
          "Saint Lucia",
          "Tunisia",
          "Mongolia",
          "Lebanon",
          "Botswana",
          "Saint Vincent and the Grenadines",
          "Jamaica",
          "Venezuela (Bolivarian Republic of)",
          "Dominica",
          "Fiji",
          "Paraguay",
          "Suriname",
          "Jordan",
          "Belize",
          "Maldives",
          "Tonga",
          "Philippines",
          "Moldova (Republic of)",
          "Turkmenistan",
          "Uzbekistan",
          "Libya",
          "Indonesia",
          "Samoa",
          "South Africa",
          "Bolivia (Plurinational State of)",
          "Gabon",
          "Egypt",
          "Marshall Islands",
          "Viet Nam",
          "Palestine, State of",
          "Iraq",
          "Morocco",
          "Kyrgyzstan",
          "Guyana",
          "El Salvador",
          "Tajikistan",
          "Cabo Verde",
          "Guatemala",
          "Nicaragua",
          "India",
          "Namibia",
          "Timor-Leste",
          "Honduras",
          "Kiribati",
          "Bhutan",
          "Bangladesh",
          "Micronesia (Federated States of)",
          "Sao Tome and Principe",
          "Congo",
          "Eswatini (Kingdom of)",
          "Lao People's Democratic Republic",
          "Vanuatu",
          "Ghana",
          "Zambia",
          "Equatorial Guinea",
          "Myanmar",
          "Cambodia",
          "Kenya",
          "Nepal",
          "Angola",
          "Cameroon",
          "Zimbabwe",
          "Pakistan",
          "Solomon Islands",
          "Syrian Arab Republic",
          "Papua New Guinea",
          "Comoros",
          "Rwanda",
          "Nigeria",
          "Tanzania (United Republic of)",
          "Uganda",
          "Mauritania",
          "Madagascar",
          "Benin",
          "Lesotho",
          "Côte d'Ivoire",
          "Senegal",
          "Togo",
          "Sudan",
          "Haiti",
          "Afghanistan",
          "Djibouti",
          "Malawi",
          "Ethiopia",
          "Gambia",
          "Guinea",
          "Liberia",
          "Yemen",
          "Guinea-Bissau",
          "Congo (Democratic Republic of the)",
          "Mozambique",
          "Sierra Leone",
          "Burkina Faso",
          "Eritrea",
          "Mali",
          "Burundi",
          "South Sudan",
          "Chad",
          "Central African Republic",
          "Niger"
         ],
         "legendgroup": "",
         "marker": {
          "color": [
           0,
           0,
           0,
           0,
           0,
           0,
           0,
           0,
           0,
           0,
           0,
           0,
           0,
           0,
           0,
           0,
           0,
           3,
           0,
           0,
           0,
           0,
           0,
           0,
           0,
           0,
           0,
           0,
           0,
           0,
           0,
           0,
           0,
           0,
           3,
           0,
           3,
           0,
           0,
           0,
           3,
           2,
           3,
           0,
           3,
           0,
           3,
           2,
           0,
           0,
           0,
           0,
           0,
           0,
           2,
           2,
           3,
           2,
           5,
           2,
           2,
           2,
           0,
           2,
           5,
           2,
           1,
           2,
           0,
           0,
           2,
           2,
           2,
           2,
           0,
           1,
           2,
           2,
           1,
           1,
           0,
           5,
           0,
           1,
           1,
           1,
           2,
           0,
           1,
           2,
           5,
           0,
           5,
           1,
           2,
           1,
           1,
           1,
           1,
           1,
           1,
           5,
           1,
           2,
           1,
           1,
           0,
           1,
           1,
           5,
           1,
           1,
           1,
           1,
           1,
           5,
           1,
           1,
           5,
           5,
           5,
           1,
           1,
           1,
           1,
           1,
           1,
           1,
           1,
           1,
           1,
           1,
           1,
           1,
           1,
           1,
           1,
           1,
           1,
           1,
           1,
           4,
           4,
           4,
           4,
           4,
           4,
           4,
           4,
           4,
           4,
           4,
           4,
           4,
           4,
           4,
           4,
           4,
           4,
           4,
           4,
           4,
           4,
           4,
           4,
           4,
           4,
           4,
           4,
           4,
           4,
           4,
           4,
           4,
           4,
           4,
           4,
           4,
           4,
           4,
           4,
           4,
           4,
           4,
           4,
           4,
           4,
           4,
           4
          ],
          "coloraxis": "coloraxis",
          "symbol": "circle"
         },
         "mode": "markers",
         "name": "",
         "showlegend": false,
         "type": "scatter",
         "x": [
          0,
          0,
          0,
          0,
          0,
          0,
          0,
          0,
          0,
          0,
          0,
          0,
          0,
          0,
          0,
          0,
          0,
          3,
          0,
          0,
          0,
          0,
          0,
          0,
          0,
          0,
          0,
          0,
          0,
          0,
          0,
          0,
          0,
          0,
          3,
          0,
          3,
          0,
          0,
          0,
          3,
          2,
          3,
          0,
          3,
          0,
          3,
          2,
          0,
          0,
          0,
          0,
          0,
          0,
          2,
          2,
          3,
          2,
          5,
          2,
          2,
          2,
          0,
          2,
          5,
          2,
          1,
          2,
          0,
          0,
          2,
          2,
          2,
          2,
          0,
          1,
          2,
          2,
          1,
          1,
          0,
          5,
          0,
          1,
          1,
          1,
          2,
          0,
          1,
          2,
          5,
          0,
          5,
          1,
          2,
          1,
          1,
          1,
          1,
          1,
          1,
          5,
          1,
          2,
          1,
          1,
          0,
          1,
          1,
          5,
          1,
          1,
          1,
          1,
          1,
          5,
          1,
          1,
          5,
          5,
          5,
          1,
          1,
          1,
          1,
          1,
          1,
          1,
          1,
          1,
          1,
          1,
          1,
          1,
          1,
          1,
          1,
          1,
          1,
          1,
          1,
          4,
          4,
          4,
          4,
          4,
          4,
          4,
          4,
          4,
          4,
          4,
          4,
          4,
          4,
          4,
          4,
          4,
          4,
          4,
          4,
          4,
          4,
          4,
          4,
          4,
          4,
          4,
          4,
          4,
          4,
          4,
          4,
          4,
          4,
          4,
          4,
          4,
          4,
          4,
          4,
          4,
          4,
          4,
          4,
          4,
          4,
          4,
          4
         ],
         "xaxis": "x",
         "y": [
          6.8,
          6.8,
          8.2,
          8.3,
          13.2,
          8.1,
          5.7,
          6.7,
          13.3,
          6.8,
          6.1,
          5.3,
          8.8,
          9.2,
          8.2,
          13.4,
          7.6,
          9.252380952380953,
          3.6,
          7.7,
          9.5,
          10.8,
          14.3,
          4.8,
          14.3,
          4.6,
          9.2,
          8,
          12.1,
          7.2,
          9.7,
          12.2,
          8.1,
          10.9,
          9.252380952380953,
          9.252380952380953,
          9.252380952380953,
          6.2,
          9.1,
          12.7,
          9.252380952380953,
          17.8,
          9.252380952380953,
          8,
          9.252380952380953,
          8.3,
          13.1,
          14,
          9.9,
          6.4,
          7.1,
          12.5,
          8.6,
          11.1,
          15.018181818181818,
          17,
          15.018181818181818,
          13,
          16.2,
          15.018181818181818,
          15.018181818181818,
          15.018181818181818,
          14.4,
          15.018181818181818,
          11.5,
          13.7,
          21.2,
          18.7,
          10.9,
          12,
          12.1,
          15.018181818181818,
          15.018181818181818,
          15.018181818181818,
          14.4,
          22.5,
          16.9,
          15.018181818181818,
          24.5,
          23.1,
          9.9,
          20.4,
          13.1,
          19.4,
          16.1,
          19.9,
          9.4,
          6.5,
          21.5,
          17.2,
          20.8,
          13.6,
          15.018181818181818,
          15.018181818181818,
          15.018181818181818,
          16.7,
          17.3,
          21.758823529411764,
          21.758823529411764,
          24.7,
          22.7,
          14.7,
          22.6,
          21,
          21.758823529411764,
          18.2,
          10.4,
          18.5,
          21.758823529411764,
          21.758823529411764,
          17.4,
          21.758823529411764,
          34.4,
          24.2,
          22.5,
          29.7,
          21.758823529411764,
          16.3,
          13.5,
          19.8,
          21.758823529411764,
          9.5,
          18.5,
          21.9,
          12.5,
          21.758823529411764,
          27.4,
          23,
          26.3,
          35.3,
          28,
          25.5,
          21.758823529411764,
          27.1,
          24.3,
          21.758823529411764,
          16.7,
          25,
          29.3,
          24.9,
          21.758823529411764,
          28.3,
          33.4,
          31.734146341463408,
          23.2,
          20.1,
          26.3,
          25.8,
          31.8,
          34.1,
          22.8,
          31.1,
          31.734146341463408,
          31.734146341463408,
          31.734146341463408,
          45.3,
          28.7,
          34.6,
          24.9,
          26.7,
          32.1,
          25.8,
          37.1,
          32.5,
          35.8,
          32.5,
          31.7,
          34.6,
          40.5,
          31.734146341463408,
          31.734146341463408,
          28.7,
          28.4,
          37.2,
          33.4,
          32.3,
          31.8,
          37.5,
          31,
          30.7,
          35.7,
          30.1,
          31.734146341463408,
          31.2,
          30.1,
          36.1,
          37.7,
          41.6,
          27.9
         ],
         "yaxis": "y"
        }
       ],
       "layout": {
        "coloraxis": {
         "colorbar": {
          "title": {
           "text": "Hierarchical Clusters"
          }
         },
         "colorscale": [
          [
           0,
           "#4B3F72"
          ],
          [
           0.25,
           "#AB81CD"
          ],
          [
           0.5,
           "#1F7A8C"
          ],
          [
           0.75,
           "#03B5AA"
          ],
          [
           1,
           "#A3E7FC"
          ]
         ]
        },
        "height": 600,
        "legend": {
         "tracegroupgap": 0
        },
        "margin": {
         "t": 60
        },
        "template": {
         "data": {
          "bar": [
           {
            "error_x": {
             "color": "#2a3f5f"
            },
            "error_y": {
             "color": "#2a3f5f"
            },
            "marker": {
             "line": {
              "color": "#E5ECF6",
              "width": 0.5
             }
            },
            "type": "bar"
           }
          ],
          "barpolar": [
           {
            "marker": {
             "line": {
              "color": "#E5ECF6",
              "width": 0.5
             }
            },
            "type": "barpolar"
           }
          ],
          "carpet": [
           {
            "aaxis": {
             "endlinecolor": "#2a3f5f",
             "gridcolor": "white",
             "linecolor": "white",
             "minorgridcolor": "white",
             "startlinecolor": "#2a3f5f"
            },
            "baxis": {
             "endlinecolor": "#2a3f5f",
             "gridcolor": "white",
             "linecolor": "white",
             "minorgridcolor": "white",
             "startlinecolor": "#2a3f5f"
            },
            "type": "carpet"
           }
          ],
          "choropleth": [
           {
            "colorbar": {
             "outlinewidth": 0,
             "ticks": ""
            },
            "type": "choropleth"
           }
          ],
          "contour": [
           {
            "colorbar": {
             "outlinewidth": 0,
             "ticks": ""
            },
            "colorscale": [
             [
              0,
              "#0d0887"
             ],
             [
              0.1111111111111111,
              "#46039f"
             ],
             [
              0.2222222222222222,
              "#7201a8"
             ],
             [
              0.3333333333333333,
              "#9c179e"
             ],
             [
              0.4444444444444444,
              "#bd3786"
             ],
             [
              0.5555555555555556,
              "#d8576b"
             ],
             [
              0.6666666666666666,
              "#ed7953"
             ],
             [
              0.7777777777777778,
              "#fb9f3a"
             ],
             [
              0.8888888888888888,
              "#fdca26"
             ],
             [
              1,
              "#f0f921"
             ]
            ],
            "type": "contour"
           }
          ],
          "contourcarpet": [
           {
            "colorbar": {
             "outlinewidth": 0,
             "ticks": ""
            },
            "type": "contourcarpet"
           }
          ],
          "heatmap": [
           {
            "colorbar": {
             "outlinewidth": 0,
             "ticks": ""
            },
            "colorscale": [
             [
              0,
              "#0d0887"
             ],
             [
              0.1111111111111111,
              "#46039f"
             ],
             [
              0.2222222222222222,
              "#7201a8"
             ],
             [
              0.3333333333333333,
              "#9c179e"
             ],
             [
              0.4444444444444444,
              "#bd3786"
             ],
             [
              0.5555555555555556,
              "#d8576b"
             ],
             [
              0.6666666666666666,
              "#ed7953"
             ],
             [
              0.7777777777777778,
              "#fb9f3a"
             ],
             [
              0.8888888888888888,
              "#fdca26"
             ],
             [
              1,
              "#f0f921"
             ]
            ],
            "type": "heatmap"
           }
          ],
          "heatmapgl": [
           {
            "colorbar": {
             "outlinewidth": 0,
             "ticks": ""
            },
            "colorscale": [
             [
              0,
              "#0d0887"
             ],
             [
              0.1111111111111111,
              "#46039f"
             ],
             [
              0.2222222222222222,
              "#7201a8"
             ],
             [
              0.3333333333333333,
              "#9c179e"
             ],
             [
              0.4444444444444444,
              "#bd3786"
             ],
             [
              0.5555555555555556,
              "#d8576b"
             ],
             [
              0.6666666666666666,
              "#ed7953"
             ],
             [
              0.7777777777777778,
              "#fb9f3a"
             ],
             [
              0.8888888888888888,
              "#fdca26"
             ],
             [
              1,
              "#f0f921"
             ]
            ],
            "type": "heatmapgl"
           }
          ],
          "histogram": [
           {
            "marker": {
             "colorbar": {
              "outlinewidth": 0,
              "ticks": ""
             }
            },
            "type": "histogram"
           }
          ],
          "histogram2d": [
           {
            "colorbar": {
             "outlinewidth": 0,
             "ticks": ""
            },
            "colorscale": [
             [
              0,
              "#0d0887"
             ],
             [
              0.1111111111111111,
              "#46039f"
             ],
             [
              0.2222222222222222,
              "#7201a8"
             ],
             [
              0.3333333333333333,
              "#9c179e"
             ],
             [
              0.4444444444444444,
              "#bd3786"
             ],
             [
              0.5555555555555556,
              "#d8576b"
             ],
             [
              0.6666666666666666,
              "#ed7953"
             ],
             [
              0.7777777777777778,
              "#fb9f3a"
             ],
             [
              0.8888888888888888,
              "#fdca26"
             ],
             [
              1,
              "#f0f921"
             ]
            ],
            "type": "histogram2d"
           }
          ],
          "histogram2dcontour": [
           {
            "colorbar": {
             "outlinewidth": 0,
             "ticks": ""
            },
            "colorscale": [
             [
              0,
              "#0d0887"
             ],
             [
              0.1111111111111111,
              "#46039f"
             ],
             [
              0.2222222222222222,
              "#7201a8"
             ],
             [
              0.3333333333333333,
              "#9c179e"
             ],
             [
              0.4444444444444444,
              "#bd3786"
             ],
             [
              0.5555555555555556,
              "#d8576b"
             ],
             [
              0.6666666666666666,
              "#ed7953"
             ],
             [
              0.7777777777777778,
              "#fb9f3a"
             ],
             [
              0.8888888888888888,
              "#fdca26"
             ],
             [
              1,
              "#f0f921"
             ]
            ],
            "type": "histogram2dcontour"
           }
          ],
          "mesh3d": [
           {
            "colorbar": {
             "outlinewidth": 0,
             "ticks": ""
            },
            "type": "mesh3d"
           }
          ],
          "parcoords": [
           {
            "line": {
             "colorbar": {
              "outlinewidth": 0,
              "ticks": ""
             }
            },
            "type": "parcoords"
           }
          ],
          "pie": [
           {
            "automargin": true,
            "type": "pie"
           }
          ],
          "scatter": [
           {
            "marker": {
             "colorbar": {
              "outlinewidth": 0,
              "ticks": ""
             }
            },
            "type": "scatter"
           }
          ],
          "scatter3d": [
           {
            "line": {
             "colorbar": {
              "outlinewidth": 0,
              "ticks": ""
             }
            },
            "marker": {
             "colorbar": {
              "outlinewidth": 0,
              "ticks": ""
             }
            },
            "type": "scatter3d"
           }
          ],
          "scattercarpet": [
           {
            "marker": {
             "colorbar": {
              "outlinewidth": 0,
              "ticks": ""
             }
            },
            "type": "scattercarpet"
           }
          ],
          "scattergeo": [
           {
            "marker": {
             "colorbar": {
              "outlinewidth": 0,
              "ticks": ""
             }
            },
            "type": "scattergeo"
           }
          ],
          "scattergl": [
           {
            "marker": {
             "colorbar": {
              "outlinewidth": 0,
              "ticks": ""
             }
            },
            "type": "scattergl"
           }
          ],
          "scattermapbox": [
           {
            "marker": {
             "colorbar": {
              "outlinewidth": 0,
              "ticks": ""
             }
            },
            "type": "scattermapbox"
           }
          ],
          "scatterpolar": [
           {
            "marker": {
             "colorbar": {
              "outlinewidth": 0,
              "ticks": ""
             }
            },
            "type": "scatterpolar"
           }
          ],
          "scatterpolargl": [
           {
            "marker": {
             "colorbar": {
              "outlinewidth": 0,
              "ticks": ""
             }
            },
            "type": "scatterpolargl"
           }
          ],
          "scatterternary": [
           {
            "marker": {
             "colorbar": {
              "outlinewidth": 0,
              "ticks": ""
             }
            },
            "type": "scatterternary"
           }
          ],
          "surface": [
           {
            "colorbar": {
             "outlinewidth": 0,
             "ticks": ""
            },
            "colorscale": [
             [
              0,
              "#0d0887"
             ],
             [
              0.1111111111111111,
              "#46039f"
             ],
             [
              0.2222222222222222,
              "#7201a8"
             ],
             [
              0.3333333333333333,
              "#9c179e"
             ],
             [
              0.4444444444444444,
              "#bd3786"
             ],
             [
              0.5555555555555556,
              "#d8576b"
             ],
             [
              0.6666666666666666,
              "#ed7953"
             ],
             [
              0.7777777777777778,
              "#fb9f3a"
             ],
             [
              0.8888888888888888,
              "#fdca26"
             ],
             [
              1,
              "#f0f921"
             ]
            ],
            "type": "surface"
           }
          ],
          "table": [
           {
            "cells": {
             "fill": {
              "color": "#EBF0F8"
             },
             "line": {
              "color": "white"
             }
            },
            "header": {
             "fill": {
              "color": "#C8D4E3"
             },
             "line": {
              "color": "white"
             }
            },
            "type": "table"
           }
          ]
         },
         "layout": {
          "annotationdefaults": {
           "arrowcolor": "#2a3f5f",
           "arrowhead": 0,
           "arrowwidth": 1
          },
          "coloraxis": {
           "colorbar": {
            "outlinewidth": 0,
            "ticks": ""
           }
          },
          "colorscale": {
           "diverging": [
            [
             0,
             "#8e0152"
            ],
            [
             0.1,
             "#c51b7d"
            ],
            [
             0.2,
             "#de77ae"
            ],
            [
             0.3,
             "#f1b6da"
            ],
            [
             0.4,
             "#fde0ef"
            ],
            [
             0.5,
             "#f7f7f7"
            ],
            [
             0.6,
             "#e6f5d0"
            ],
            [
             0.7,
             "#b8e186"
            ],
            [
             0.8,
             "#7fbc41"
            ],
            [
             0.9,
             "#4d9221"
            ],
            [
             1,
             "#276419"
            ]
           ],
           "sequential": [
            [
             0,
             "#0d0887"
            ],
            [
             0.1111111111111111,
             "#46039f"
            ],
            [
             0.2222222222222222,
             "#7201a8"
            ],
            [
             0.3333333333333333,
             "#9c179e"
            ],
            [
             0.4444444444444444,
             "#bd3786"
            ],
            [
             0.5555555555555556,
             "#d8576b"
            ],
            [
             0.6666666666666666,
             "#ed7953"
            ],
            [
             0.7777777777777778,
             "#fb9f3a"
            ],
            [
             0.8888888888888888,
             "#fdca26"
            ],
            [
             1,
             "#f0f921"
            ]
           ],
           "sequentialminus": [
            [
             0,
             "#0d0887"
            ],
            [
             0.1111111111111111,
             "#46039f"
            ],
            [
             0.2222222222222222,
             "#7201a8"
            ],
            [
             0.3333333333333333,
             "#9c179e"
            ],
            [
             0.4444444444444444,
             "#bd3786"
            ],
            [
             0.5555555555555556,
             "#d8576b"
            ],
            [
             0.6666666666666666,
             "#ed7953"
            ],
            [
             0.7777777777777778,
             "#fb9f3a"
            ],
            [
             0.8888888888888888,
             "#fdca26"
            ],
            [
             1,
             "#f0f921"
            ]
           ]
          },
          "colorway": [
           "#636efa",
           "#EF553B",
           "#00cc96",
           "#ab63fa",
           "#FFA15A",
           "#19d3f3",
           "#FF6692",
           "#B6E880",
           "#FF97FF",
           "#FECB52"
          ],
          "font": {
           "color": "#2a3f5f"
          },
          "geo": {
           "bgcolor": "white",
           "lakecolor": "white",
           "landcolor": "#E5ECF6",
           "showlakes": true,
           "showland": true,
           "subunitcolor": "white"
          },
          "hoverlabel": {
           "align": "left"
          },
          "hovermode": "closest",
          "mapbox": {
           "style": "light"
          },
          "paper_bgcolor": "white",
          "plot_bgcolor": "#E5ECF6",
          "polar": {
           "angularaxis": {
            "gridcolor": "white",
            "linecolor": "white",
            "ticks": ""
           },
           "bgcolor": "#E5ECF6",
           "radialaxis": {
            "gridcolor": "white",
            "linecolor": "white",
            "ticks": ""
           }
          },
          "scene": {
           "xaxis": {
            "backgroundcolor": "#E5ECF6",
            "gridcolor": "white",
            "gridwidth": 2,
            "linecolor": "white",
            "showbackground": true,
            "ticks": "",
            "zerolinecolor": "white"
           },
           "yaxis": {
            "backgroundcolor": "#E5ECF6",
            "gridcolor": "white",
            "gridwidth": 2,
            "linecolor": "white",
            "showbackground": true,
            "ticks": "",
            "zerolinecolor": "white"
           },
           "zaxis": {
            "backgroundcolor": "#E5ECF6",
            "gridcolor": "white",
            "gridwidth": 2,
            "linecolor": "white",
            "showbackground": true,
            "ticks": "",
            "zerolinecolor": "white"
           }
          },
          "shapedefaults": {
           "line": {
            "color": "#2a3f5f"
           }
          },
          "ternary": {
           "aaxis": {
            "gridcolor": "white",
            "linecolor": "white",
            "ticks": ""
           },
           "baxis": {
            "gridcolor": "white",
            "linecolor": "white",
            "ticks": ""
           },
           "bgcolor": "#E5ECF6",
           "caxis": {
            "gridcolor": "white",
            "linecolor": "white",
            "ticks": ""
           }
          },
          "title": {
           "x": 0.05
          },
          "xaxis": {
           "automargin": true,
           "gridcolor": "white",
           "linecolor": "white",
           "ticks": "",
           "title": {
            "standoff": 15
           },
           "zerolinecolor": "white",
           "zerolinewidth": 2
          },
          "yaxis": {
           "automargin": true,
           "gridcolor": "white",
           "linecolor": "white",
           "ticks": "",
           "title": {
            "standoff": 15
           },
           "zerolinecolor": "white",
           "zerolinewidth": 2
          }
         }
        },
        "xaxis": {
         "anchor": "y",
         "domain": [
          0,
          1
         ],
         "title": {
          "text": "Hierarchical Clusters"
         }
        },
        "yaxis": {
         "anchor": "x",
         "domain": [
          0,
          1
         ],
         "title": {
          "text": "Ineq-HDI Loss %"
         }
        }
       }
      },
      "text/html": [
       "<div>\n",
       "        \n",
       "        \n",
       "            <div id=\"f01656d8-c27e-43bc-907d-35abb9a72573\" class=\"plotly-graph-div\" style=\"height:600px; width:100%;\"></div>\n",
       "            <script type=\"text/javascript\">\n",
       "                require([\"plotly\"], function(Plotly) {\n",
       "                    window.PLOTLYENV=window.PLOTLYENV || {};\n",
       "                    \n",
       "                if (document.getElementById(\"f01656d8-c27e-43bc-907d-35abb9a72573\")) {\n",
       "                    Plotly.newPlot(\n",
       "                        'f01656d8-c27e-43bc-907d-35abb9a72573',\n",
       "                        [{\"hoverlabel\": {\"namelength\": 0}, \"hovertemplate\": \"<b>%{hovertext}</b><br><br>Hierarchical Clusters=%{marker.color}<br>Ineq-HDI Loss %=%{y}\", \"hovertext\": [\"Norway\", \"Switzerland\", \"Ireland\", \"Germany\", \"Hong Kong, China (SAR)\", \"Australia\", \"Iceland\", \"Sweden\", \"Singapore\", \"Netherlands\", \"Denmark\", \"Finland\", \"Canada\", \"New Zealand\", \"United Kingdom\", \"United States\", \"Belgium\", \"Liechtenstein\", \"Japan\", \"Austria\", \"Luxembourg\", \"Israel\", \"Korea (Republic of)\", \"Slovenia\", \"Spain\", \"Czechia\", \"France\", \"Malta\", \"Italy\", \"Estonia\", \"Cyprus\", \"Greece\", \"Poland\", \"Lithuania\", \"United Arab Emirates\", \"Andorra\", \"Saudi Arabia\", \"Slovakia\", \"Latvia\", \"Portugal\", \"Qatar\", \"Chile\", \"Brunei Darussalam\", \"Hungary\", \"Bahrain\", \"Croatia\", \"Oman\", \"Argentina\", \"Russian Federation\", \"Belarus\", \"Kazakhstan\", \"Bulgaria\", \"Montenegro\", \"Romania\", \"Palau\", \"Barbados\", \"Kuwait\", \"Uruguay\", \"Turkey\", \"Bahamas\", \"Malaysia\", \"Seychelles\", \"Serbia\", \"Trinidad and Tobago\", \"Iran (Islamic Republic of)\", \"Mauritius\", \"Panama\", \"Costa Rica\", \"Albania\", \"Georgia\", \"Sri Lanka\", \"Cuba\", \"Saint Kitts and Nevis\", \"Antigua and Barbuda\", \"Bosnia and Herzegovina\", \"Mexico\", \"Thailand\", \"Grenada\", \"Brazil\", \"Colombia\", \"Armenia\", \"Algeria\", \"North Macedonia\", \"Peru\", \"China\", \"Ecuador\", \"Azerbaijan\", \"Ukraine\", \"Dominican Republic\", \"Saint Lucia\", \"Tunisia\", \"Mongolia\", \"Lebanon\", \"Botswana\", \"Saint Vincent and the Grenadines\", \"Jamaica\", \"Venezuela (Bolivarian Republic of)\", \"Dominica\", \"Fiji\", \"Paraguay\", \"Suriname\", \"Jordan\", \"Belize\", \"Maldives\", \"Tonga\", \"Philippines\", \"Moldova (Republic of)\", \"Turkmenistan\", \"Uzbekistan\", \"Libya\", \"Indonesia\", \"Samoa\", \"South Africa\", \"Bolivia (Plurinational State of)\", \"Gabon\", \"Egypt\", \"Marshall Islands\", \"Viet Nam\", \"Palestine, State of\", \"Iraq\", \"Morocco\", \"Kyrgyzstan\", \"Guyana\", \"El Salvador\", \"Tajikistan\", \"Cabo Verde\", \"Guatemala\", \"Nicaragua\", \"India\", \"Namibia\", \"Timor-Leste\", \"Honduras\", \"Kiribati\", \"Bhutan\", \"Bangladesh\", \"Micronesia (Federated States of)\", \"Sao Tome and Principe\", \"Congo\", \"Eswatini (Kingdom of)\", \"Lao People's Democratic Republic\", \"Vanuatu\", \"Ghana\", \"Zambia\", \"Equatorial Guinea\", \"Myanmar\", \"Cambodia\", \"Kenya\", \"Nepal\", \"Angola\", \"Cameroon\", \"Zimbabwe\", \"Pakistan\", \"Solomon Islands\", \"Syrian Arab Republic\", \"Papua New Guinea\", \"Comoros\", \"Rwanda\", \"Nigeria\", \"Tanzania (United Republic of)\", \"Uganda\", \"Mauritania\", \"Madagascar\", \"Benin\", \"Lesotho\", \"C\\u00f4te d'Ivoire\", \"Senegal\", \"Togo\", \"Sudan\", \"Haiti\", \"Afghanistan\", \"Djibouti\", \"Malawi\", \"Ethiopia\", \"Gambia\", \"Guinea\", \"Liberia\", \"Yemen\", \"Guinea-Bissau\", \"Congo (Democratic Republic of the)\", \"Mozambique\", \"Sierra Leone\", \"Burkina Faso\", \"Eritrea\", \"Mali\", \"Burundi\", \"South Sudan\", \"Chad\", \"Central African Republic\", \"Niger\"], \"legendgroup\": \"\", \"marker\": {\"color\": [0, 0, 0, 0, 0, 0, 0, 0, 0, 0, 0, 0, 0, 0, 0, 0, 0, 3, 0, 0, 0, 0, 0, 0, 0, 0, 0, 0, 0, 0, 0, 0, 0, 0, 3, 0, 3, 0, 0, 0, 3, 2, 3, 0, 3, 0, 3, 2, 0, 0, 0, 0, 0, 0, 2, 2, 3, 2, 5, 2, 2, 2, 0, 2, 5, 2, 1, 2, 0, 0, 2, 2, 2, 2, 0, 1, 2, 2, 1, 1, 0, 5, 0, 1, 1, 1, 2, 0, 1, 2, 5, 0, 5, 1, 2, 1, 1, 1, 1, 1, 1, 5, 1, 2, 1, 1, 0, 1, 1, 5, 1, 1, 1, 1, 1, 5, 1, 1, 5, 5, 5, 1, 1, 1, 1, 1, 1, 1, 1, 1, 1, 1, 1, 1, 1, 1, 1, 1, 1, 1, 1, 4, 4, 4, 4, 4, 4, 4, 4, 4, 4, 4, 4, 4, 4, 4, 4, 4, 4, 4, 4, 4, 4, 4, 4, 4, 4, 4, 4, 4, 4, 4, 4, 4, 4, 4, 4, 4, 4, 4, 4, 4, 4, 4, 4, 4, 4, 4, 4], \"coloraxis\": \"coloraxis\", \"symbol\": \"circle\"}, \"mode\": \"markers\", \"name\": \"\", \"showlegend\": false, \"type\": \"scatter\", \"x\": [0, 0, 0, 0, 0, 0, 0, 0, 0, 0, 0, 0, 0, 0, 0, 0, 0, 3, 0, 0, 0, 0, 0, 0, 0, 0, 0, 0, 0, 0, 0, 0, 0, 0, 3, 0, 3, 0, 0, 0, 3, 2, 3, 0, 3, 0, 3, 2, 0, 0, 0, 0, 0, 0, 2, 2, 3, 2, 5, 2, 2, 2, 0, 2, 5, 2, 1, 2, 0, 0, 2, 2, 2, 2, 0, 1, 2, 2, 1, 1, 0, 5, 0, 1, 1, 1, 2, 0, 1, 2, 5, 0, 5, 1, 2, 1, 1, 1, 1, 1, 1, 5, 1, 2, 1, 1, 0, 1, 1, 5, 1, 1, 1, 1, 1, 5, 1, 1, 5, 5, 5, 1, 1, 1, 1, 1, 1, 1, 1, 1, 1, 1, 1, 1, 1, 1, 1, 1, 1, 1, 1, 4, 4, 4, 4, 4, 4, 4, 4, 4, 4, 4, 4, 4, 4, 4, 4, 4, 4, 4, 4, 4, 4, 4, 4, 4, 4, 4, 4, 4, 4, 4, 4, 4, 4, 4, 4, 4, 4, 4, 4, 4, 4, 4, 4, 4, 4, 4, 4], \"xaxis\": \"x\", \"y\": [6.8, 6.8, 8.2, 8.3, 13.2, 8.1, 5.7, 6.7, 13.3, 6.8, 6.1, 5.3, 8.8, 9.2, 8.2, 13.4, 7.6, 9.252380952380953, 3.6, 7.7, 9.5, 10.8, 14.3, 4.8, 14.3, 4.6, 9.2, 8.0, 12.1, 7.2, 9.7, 12.2, 8.1, 10.9, 9.252380952380953, 9.252380952380953, 9.252380952380953, 6.2, 9.1, 12.7, 9.252380952380953, 17.8, 9.252380952380953, 8.0, 9.252380952380953, 8.3, 13.1, 14.0, 9.9, 6.4, 7.1, 12.5, 8.6, 11.1, 15.018181818181818, 17.0, 15.018181818181818, 13.0, 16.2, 15.018181818181818, 15.018181818181818, 15.018181818181818, 14.4, 15.018181818181818, 11.5, 13.7, 21.2, 18.7, 10.9, 12.0, 12.1, 15.018181818181818, 15.018181818181818, 15.018181818181818, 14.4, 22.5, 16.9, 15.018181818181818, 24.5, 23.1, 9.9, 20.4, 13.1, 19.4, 16.1, 19.9, 9.4, 6.5, 21.5, 17.2, 20.8, 13.6, 15.018181818181818, 15.018181818181818, 15.018181818181818, 16.7, 17.3, 21.758823529411764, 21.758823529411764, 24.7, 22.7, 14.7, 22.6, 21.0, 21.758823529411764, 18.2, 10.4, 18.5, 21.758823529411764, 21.758823529411764, 17.4, 21.758823529411764, 34.4, 24.2, 22.5, 29.7, 21.758823529411764, 16.3, 13.5, 19.8, 21.758823529411764, 9.5, 18.5, 21.9, 12.5, 21.758823529411764, 27.4, 23.0, 26.3, 35.3, 28.0, 25.5, 21.758823529411764, 27.1, 24.3, 21.758823529411764, 16.7, 25.0, 29.3, 24.9, 21.758823529411764, 28.3, 33.4, 31.734146341463408, 23.2, 20.1, 26.3, 25.8, 31.8, 34.1, 22.8, 31.1, 31.734146341463408, 31.734146341463408, 31.734146341463408, 45.3, 28.7, 34.6, 24.9, 26.7, 32.1, 25.8, 37.1, 32.5, 35.8, 32.5, 31.7, 34.6, 40.5, 31.734146341463408, 31.734146341463408, 28.7, 28.4, 37.2, 33.4, 32.3, 31.8, 37.5, 31.0, 30.7, 35.7, 30.1, 31.734146341463408, 31.2, 30.1, 36.1, 37.7, 41.6, 27.9], \"yaxis\": \"y\"}],\n",
       "                        {\"coloraxis\": {\"colorbar\": {\"title\": {\"text\": \"Hierarchical Clusters\"}}, \"colorscale\": [[0.0, \"#4B3F72\"], [0.25, \"#AB81CD\"], [0.5, \"#1F7A8C\"], [0.75, \"#03B5AA\"], [1.0, \"#A3E7FC\"]]}, \"height\": 600, \"legend\": {\"tracegroupgap\": 0}, \"margin\": {\"t\": 60}, \"template\": {\"data\": {\"bar\": [{\"error_x\": {\"color\": \"#2a3f5f\"}, \"error_y\": {\"color\": \"#2a3f5f\"}, \"marker\": {\"line\": {\"color\": \"#E5ECF6\", \"width\": 0.5}}, \"type\": \"bar\"}], \"barpolar\": [{\"marker\": {\"line\": {\"color\": \"#E5ECF6\", \"width\": 0.5}}, \"type\": \"barpolar\"}], \"carpet\": [{\"aaxis\": {\"endlinecolor\": \"#2a3f5f\", \"gridcolor\": \"white\", \"linecolor\": \"white\", \"minorgridcolor\": \"white\", \"startlinecolor\": \"#2a3f5f\"}, \"baxis\": {\"endlinecolor\": \"#2a3f5f\", \"gridcolor\": \"white\", \"linecolor\": \"white\", \"minorgridcolor\": \"white\", \"startlinecolor\": \"#2a3f5f\"}, \"type\": \"carpet\"}], \"choropleth\": [{\"colorbar\": {\"outlinewidth\": 0, \"ticks\": \"\"}, \"type\": \"choropleth\"}], \"contour\": [{\"colorbar\": {\"outlinewidth\": 0, \"ticks\": \"\"}, \"colorscale\": [[0.0, \"#0d0887\"], [0.1111111111111111, \"#46039f\"], [0.2222222222222222, \"#7201a8\"], [0.3333333333333333, \"#9c179e\"], [0.4444444444444444, \"#bd3786\"], [0.5555555555555556, \"#d8576b\"], [0.6666666666666666, \"#ed7953\"], [0.7777777777777778, \"#fb9f3a\"], [0.8888888888888888, \"#fdca26\"], [1.0, \"#f0f921\"]], \"type\": \"contour\"}], \"contourcarpet\": [{\"colorbar\": {\"outlinewidth\": 0, \"ticks\": \"\"}, \"type\": \"contourcarpet\"}], \"heatmap\": [{\"colorbar\": {\"outlinewidth\": 0, \"ticks\": \"\"}, \"colorscale\": [[0.0, \"#0d0887\"], [0.1111111111111111, \"#46039f\"], [0.2222222222222222, \"#7201a8\"], [0.3333333333333333, \"#9c179e\"], [0.4444444444444444, \"#bd3786\"], [0.5555555555555556, \"#d8576b\"], [0.6666666666666666, \"#ed7953\"], [0.7777777777777778, \"#fb9f3a\"], [0.8888888888888888, \"#fdca26\"], [1.0, \"#f0f921\"]], \"type\": \"heatmap\"}], \"heatmapgl\": [{\"colorbar\": {\"outlinewidth\": 0, \"ticks\": \"\"}, \"colorscale\": [[0.0, \"#0d0887\"], [0.1111111111111111, \"#46039f\"], [0.2222222222222222, \"#7201a8\"], [0.3333333333333333, \"#9c179e\"], [0.4444444444444444, \"#bd3786\"], [0.5555555555555556, \"#d8576b\"], [0.6666666666666666, \"#ed7953\"], [0.7777777777777778, \"#fb9f3a\"], [0.8888888888888888, \"#fdca26\"], [1.0, \"#f0f921\"]], \"type\": \"heatmapgl\"}], \"histogram\": [{\"marker\": {\"colorbar\": {\"outlinewidth\": 0, \"ticks\": \"\"}}, \"type\": \"histogram\"}], \"histogram2d\": [{\"colorbar\": {\"outlinewidth\": 0, \"ticks\": \"\"}, \"colorscale\": [[0.0, \"#0d0887\"], [0.1111111111111111, \"#46039f\"], [0.2222222222222222, \"#7201a8\"], [0.3333333333333333, \"#9c179e\"], [0.4444444444444444, \"#bd3786\"], [0.5555555555555556, \"#d8576b\"], [0.6666666666666666, \"#ed7953\"], [0.7777777777777778, \"#fb9f3a\"], [0.8888888888888888, \"#fdca26\"], [1.0, \"#f0f921\"]], \"type\": \"histogram2d\"}], \"histogram2dcontour\": [{\"colorbar\": {\"outlinewidth\": 0, \"ticks\": \"\"}, \"colorscale\": [[0.0, \"#0d0887\"], [0.1111111111111111, \"#46039f\"], [0.2222222222222222, \"#7201a8\"], [0.3333333333333333, \"#9c179e\"], [0.4444444444444444, \"#bd3786\"], [0.5555555555555556, \"#d8576b\"], [0.6666666666666666, \"#ed7953\"], [0.7777777777777778, \"#fb9f3a\"], [0.8888888888888888, \"#fdca26\"], [1.0, \"#f0f921\"]], \"type\": \"histogram2dcontour\"}], \"mesh3d\": [{\"colorbar\": {\"outlinewidth\": 0, \"ticks\": \"\"}, \"type\": \"mesh3d\"}], \"parcoords\": [{\"line\": {\"colorbar\": {\"outlinewidth\": 0, \"ticks\": \"\"}}, \"type\": \"parcoords\"}], \"pie\": [{\"automargin\": true, \"type\": \"pie\"}], \"scatter\": [{\"marker\": {\"colorbar\": {\"outlinewidth\": 0, \"ticks\": \"\"}}, \"type\": \"scatter\"}], \"scatter3d\": [{\"line\": {\"colorbar\": {\"outlinewidth\": 0, \"ticks\": \"\"}}, \"marker\": {\"colorbar\": {\"outlinewidth\": 0, \"ticks\": \"\"}}, \"type\": \"scatter3d\"}], \"scattercarpet\": [{\"marker\": {\"colorbar\": {\"outlinewidth\": 0, \"ticks\": \"\"}}, \"type\": \"scattercarpet\"}], \"scattergeo\": [{\"marker\": {\"colorbar\": {\"outlinewidth\": 0, \"ticks\": \"\"}}, \"type\": \"scattergeo\"}], \"scattergl\": [{\"marker\": {\"colorbar\": {\"outlinewidth\": 0, \"ticks\": \"\"}}, \"type\": \"scattergl\"}], \"scattermapbox\": [{\"marker\": {\"colorbar\": {\"outlinewidth\": 0, \"ticks\": \"\"}}, \"type\": \"scattermapbox\"}], \"scatterpolar\": [{\"marker\": {\"colorbar\": {\"outlinewidth\": 0, \"ticks\": \"\"}}, \"type\": \"scatterpolar\"}], \"scatterpolargl\": [{\"marker\": {\"colorbar\": {\"outlinewidth\": 0, \"ticks\": \"\"}}, \"type\": \"scatterpolargl\"}], \"scatterternary\": [{\"marker\": {\"colorbar\": {\"outlinewidth\": 0, \"ticks\": \"\"}}, \"type\": \"scatterternary\"}], \"surface\": [{\"colorbar\": {\"outlinewidth\": 0, \"ticks\": \"\"}, \"colorscale\": [[0.0, \"#0d0887\"], [0.1111111111111111, \"#46039f\"], [0.2222222222222222, \"#7201a8\"], [0.3333333333333333, \"#9c179e\"], [0.4444444444444444, \"#bd3786\"], [0.5555555555555556, \"#d8576b\"], [0.6666666666666666, \"#ed7953\"], [0.7777777777777778, \"#fb9f3a\"], [0.8888888888888888, \"#fdca26\"], [1.0, \"#f0f921\"]], \"type\": \"surface\"}], \"table\": [{\"cells\": {\"fill\": {\"color\": \"#EBF0F8\"}, \"line\": {\"color\": \"white\"}}, \"header\": {\"fill\": {\"color\": \"#C8D4E3\"}, \"line\": {\"color\": \"white\"}}, \"type\": \"table\"}]}, \"layout\": {\"annotationdefaults\": {\"arrowcolor\": \"#2a3f5f\", \"arrowhead\": 0, \"arrowwidth\": 1}, \"coloraxis\": {\"colorbar\": {\"outlinewidth\": 0, \"ticks\": \"\"}}, \"colorscale\": {\"diverging\": [[0, \"#8e0152\"], [0.1, \"#c51b7d\"], [0.2, \"#de77ae\"], [0.3, \"#f1b6da\"], [0.4, \"#fde0ef\"], [0.5, \"#f7f7f7\"], [0.6, \"#e6f5d0\"], [0.7, \"#b8e186\"], [0.8, \"#7fbc41\"], [0.9, \"#4d9221\"], [1, \"#276419\"]], \"sequential\": [[0.0, \"#0d0887\"], [0.1111111111111111, \"#46039f\"], [0.2222222222222222, \"#7201a8\"], [0.3333333333333333, \"#9c179e\"], [0.4444444444444444, \"#bd3786\"], [0.5555555555555556, \"#d8576b\"], [0.6666666666666666, \"#ed7953\"], [0.7777777777777778, \"#fb9f3a\"], [0.8888888888888888, \"#fdca26\"], [1.0, \"#f0f921\"]], \"sequentialminus\": [[0.0, \"#0d0887\"], [0.1111111111111111, \"#46039f\"], [0.2222222222222222, \"#7201a8\"], [0.3333333333333333, \"#9c179e\"], [0.4444444444444444, \"#bd3786\"], [0.5555555555555556, \"#d8576b\"], [0.6666666666666666, \"#ed7953\"], [0.7777777777777778, \"#fb9f3a\"], [0.8888888888888888, \"#fdca26\"], [1.0, \"#f0f921\"]]}, \"colorway\": [\"#636efa\", \"#EF553B\", \"#00cc96\", \"#ab63fa\", \"#FFA15A\", \"#19d3f3\", \"#FF6692\", \"#B6E880\", \"#FF97FF\", \"#FECB52\"], \"font\": {\"color\": \"#2a3f5f\"}, \"geo\": {\"bgcolor\": \"white\", \"lakecolor\": \"white\", \"landcolor\": \"#E5ECF6\", \"showlakes\": true, \"showland\": true, \"subunitcolor\": \"white\"}, \"hoverlabel\": {\"align\": \"left\"}, \"hovermode\": \"closest\", \"mapbox\": {\"style\": \"light\"}, \"paper_bgcolor\": \"white\", \"plot_bgcolor\": \"#E5ECF6\", \"polar\": {\"angularaxis\": {\"gridcolor\": \"white\", \"linecolor\": \"white\", \"ticks\": \"\"}, \"bgcolor\": \"#E5ECF6\", \"radialaxis\": {\"gridcolor\": \"white\", \"linecolor\": \"white\", \"ticks\": \"\"}}, \"scene\": {\"xaxis\": {\"backgroundcolor\": \"#E5ECF6\", \"gridcolor\": \"white\", \"gridwidth\": 2, \"linecolor\": \"white\", \"showbackground\": true, \"ticks\": \"\", \"zerolinecolor\": \"white\"}, \"yaxis\": {\"backgroundcolor\": \"#E5ECF6\", \"gridcolor\": \"white\", \"gridwidth\": 2, \"linecolor\": \"white\", \"showbackground\": true, \"ticks\": \"\", \"zerolinecolor\": \"white\"}, \"zaxis\": {\"backgroundcolor\": \"#E5ECF6\", \"gridcolor\": \"white\", \"gridwidth\": 2, \"linecolor\": \"white\", \"showbackground\": true, \"ticks\": \"\", \"zerolinecolor\": \"white\"}}, \"shapedefaults\": {\"line\": {\"color\": \"#2a3f5f\"}}, \"ternary\": {\"aaxis\": {\"gridcolor\": \"white\", \"linecolor\": \"white\", \"ticks\": \"\"}, \"baxis\": {\"gridcolor\": \"white\", \"linecolor\": \"white\", \"ticks\": \"\"}, \"bgcolor\": \"#E5ECF6\", \"caxis\": {\"gridcolor\": \"white\", \"linecolor\": \"white\", \"ticks\": \"\"}}, \"title\": {\"x\": 0.05}, \"xaxis\": {\"automargin\": true, \"gridcolor\": \"white\", \"linecolor\": \"white\", \"ticks\": \"\", \"title\": {\"standoff\": 15}, \"zerolinecolor\": \"white\", \"zerolinewidth\": 2}, \"yaxis\": {\"automargin\": true, \"gridcolor\": \"white\", \"linecolor\": \"white\", \"ticks\": \"\", \"title\": {\"standoff\": 15}, \"zerolinecolor\": \"white\", \"zerolinewidth\": 2}}}, \"xaxis\": {\"anchor\": \"y\", \"domain\": [0.0, 1.0], \"title\": {\"text\": \"Hierarchical Clusters\"}}, \"yaxis\": {\"anchor\": \"x\", \"domain\": [0.0, 1.0], \"title\": {\"text\": \"Ineq-HDI Loss %\"}}},\n",
       "                        {\"responsive\": true}\n",
       "                    ).then(function(){\n",
       "                            \n",
       "var gd = document.getElementById('f01656d8-c27e-43bc-907d-35abb9a72573');\n",
       "var x = new MutationObserver(function (mutations, observer) {{\n",
       "        var display = window.getComputedStyle(gd).display;\n",
       "        if (!display || display === 'none') {{\n",
       "            console.log([gd, 'removed!']);\n",
       "            Plotly.purge(gd);\n",
       "            observer.disconnect();\n",
       "        }}\n",
       "}});\n",
       "\n",
       "// Listen for the removal of the full notebook cells\n",
       "var notebookContainer = gd.closest('#notebook-container');\n",
       "if (notebookContainer) {{\n",
       "    x.observe(notebookContainer, {childList: true});\n",
       "}}\n",
       "\n",
       "// Listen for the clearing of the current output cell\n",
       "var outputEl = gd.closest('.output');\n",
       "if (outputEl) {{\n",
       "    x.observe(outputEl, {childList: true});\n",
       "}}\n",
       "\n",
       "                        })\n",
       "                };\n",
       "                });\n",
       "            </script>\n",
       "        </div>"
      ]
     },
     "metadata": {},
     "output_type": "display_data"
    }
   ],
   "source": [
    "px.scatter(data_frame= X, x = 'Hierarchical Clusters', y = 'Ineq-HDI Loss %', color= 'Hierarchical Clusters',\n",
    "           hover_name= X.index, color_continuous_scale= palette)"
   ]
  },
  {
   "cell_type": "code",
   "execution_count": 235,
   "metadata": {},
   "outputs": [
    {
     "data": {
      "application/vnd.plotly.v1+json": {
       "config": {
        "plotlyServerURL": "https://plot.ly"
       },
       "data": [
        {
         "hoverlabel": {
          "namelength": 0
         },
         "hovertemplate": "<b>%{hovertext}</b><br><br>Hierarchical Clusters=%{marker.color}<br>Gross national income (GNI) per capita=%{y}",
         "hovertext": [
          "Norway",
          "Switzerland",
          "Ireland",
          "Germany",
          "Hong Kong, China (SAR)",
          "Australia",
          "Iceland",
          "Sweden",
          "Singapore",
          "Netherlands",
          "Denmark",
          "Finland",
          "Canada",
          "New Zealand",
          "United Kingdom",
          "United States",
          "Belgium",
          "Liechtenstein",
          "Japan",
          "Austria",
          "Luxembourg",
          "Israel",
          "Korea (Republic of)",
          "Slovenia",
          "Spain",
          "Czechia",
          "France",
          "Malta",
          "Italy",
          "Estonia",
          "Cyprus",
          "Greece",
          "Poland",
          "Lithuania",
          "United Arab Emirates",
          "Andorra",
          "Saudi Arabia",
          "Slovakia",
          "Latvia",
          "Portugal",
          "Qatar",
          "Chile",
          "Brunei Darussalam",
          "Hungary",
          "Bahrain",
          "Croatia",
          "Oman",
          "Argentina",
          "Russian Federation",
          "Belarus",
          "Kazakhstan",
          "Bulgaria",
          "Montenegro",
          "Romania",
          "Palau",
          "Barbados",
          "Kuwait",
          "Uruguay",
          "Turkey",
          "Bahamas",
          "Malaysia",
          "Seychelles",
          "Serbia",
          "Trinidad and Tobago",
          "Iran (Islamic Republic of)",
          "Mauritius",
          "Panama",
          "Costa Rica",
          "Albania",
          "Georgia",
          "Sri Lanka",
          "Cuba",
          "Saint Kitts and Nevis",
          "Antigua and Barbuda",
          "Bosnia and Herzegovina",
          "Mexico",
          "Thailand",
          "Grenada",
          "Brazil",
          "Colombia",
          "Armenia",
          "Algeria",
          "North Macedonia",
          "Peru",
          "China",
          "Ecuador",
          "Azerbaijan",
          "Ukraine",
          "Dominican Republic",
          "Saint Lucia",
          "Tunisia",
          "Mongolia",
          "Lebanon",
          "Botswana",
          "Saint Vincent and the Grenadines",
          "Jamaica",
          "Venezuela (Bolivarian Republic of)",
          "Dominica",
          "Fiji",
          "Paraguay",
          "Suriname",
          "Jordan",
          "Belize",
          "Maldives",
          "Tonga",
          "Philippines",
          "Moldova (Republic of)",
          "Turkmenistan",
          "Uzbekistan",
          "Libya",
          "Indonesia",
          "Samoa",
          "South Africa",
          "Bolivia (Plurinational State of)",
          "Gabon",
          "Egypt",
          "Marshall Islands",
          "Viet Nam",
          "Palestine, State of",
          "Iraq",
          "Morocco",
          "Kyrgyzstan",
          "Guyana",
          "El Salvador",
          "Tajikistan",
          "Cabo Verde",
          "Guatemala",
          "Nicaragua",
          "India",
          "Namibia",
          "Timor-Leste",
          "Honduras",
          "Kiribati",
          "Bhutan",
          "Bangladesh",
          "Micronesia (Federated States of)",
          "Sao Tome and Principe",
          "Congo",
          "Eswatini (Kingdom of)",
          "Lao People's Democratic Republic",
          "Vanuatu",
          "Ghana",
          "Zambia",
          "Equatorial Guinea",
          "Myanmar",
          "Cambodia",
          "Kenya",
          "Nepal",
          "Angola",
          "Cameroon",
          "Zimbabwe",
          "Pakistan",
          "Solomon Islands",
          "Syrian Arab Republic",
          "Papua New Guinea",
          "Comoros",
          "Rwanda",
          "Nigeria",
          "Tanzania (United Republic of)",
          "Uganda",
          "Mauritania",
          "Madagascar",
          "Benin",
          "Lesotho",
          "Côte d'Ivoire",
          "Senegal",
          "Togo",
          "Sudan",
          "Haiti",
          "Afghanistan",
          "Djibouti",
          "Malawi",
          "Ethiopia",
          "Gambia",
          "Guinea",
          "Liberia",
          "Yemen",
          "Guinea-Bissau",
          "Congo (Democratic Republic of the)",
          "Mozambique",
          "Sierra Leone",
          "Burkina Faso",
          "Eritrea",
          "Mali",
          "Burundi",
          "South Sudan",
          "Chad",
          "Central African Republic",
          "Niger"
         ],
         "legendgroup": "",
         "marker": {
          "color": [
           0,
           0,
           0,
           0,
           0,
           0,
           0,
           0,
           0,
           0,
           0,
           0,
           0,
           0,
           0,
           0,
           0,
           3,
           0,
           0,
           0,
           0,
           0,
           0,
           0,
           0,
           0,
           0,
           0,
           0,
           0,
           0,
           0,
           0,
           3,
           0,
           3,
           0,
           0,
           0,
           3,
           2,
           3,
           0,
           3,
           0,
           3,
           2,
           0,
           0,
           0,
           0,
           0,
           0,
           2,
           2,
           3,
           2,
           5,
           2,
           2,
           2,
           0,
           2,
           5,
           2,
           1,
           2,
           0,
           0,
           2,
           2,
           2,
           2,
           0,
           1,
           2,
           2,
           1,
           1,
           0,
           5,
           0,
           1,
           1,
           1,
           2,
           0,
           1,
           2,
           5,
           0,
           5,
           1,
           2,
           1,
           1,
           1,
           1,
           1,
           1,
           5,
           1,
           2,
           1,
           1,
           0,
           1,
           1,
           5,
           1,
           1,
           1,
           1,
           1,
           5,
           1,
           1,
           5,
           5,
           5,
           1,
           1,
           1,
           1,
           1,
           1,
           1,
           1,
           1,
           1,
           1,
           1,
           1,
           1,
           1,
           1,
           1,
           1,
           1,
           1,
           4,
           4,
           4,
           4,
           4,
           4,
           4,
           4,
           4,
           4,
           4,
           4,
           4,
           4,
           4,
           4,
           4,
           4,
           4,
           4,
           4,
           4,
           4,
           4,
           4,
           4,
           4,
           4,
           4,
           4,
           4,
           4,
           4,
           4,
           4,
           4,
           4,
           4,
           4,
           4,
           4,
           4,
           4,
           4,
           4,
           4,
           4,
           4
          ],
          "coloraxis": "coloraxis",
          "symbol": "circle"
         },
         "mode": "markers",
         "name": "",
         "showlegend": false,
         "type": "scatter",
         "x": [
          0,
          0,
          0,
          0,
          0,
          0,
          0,
          0,
          0,
          0,
          0,
          0,
          0,
          0,
          0,
          0,
          0,
          3,
          0,
          0,
          0,
          0,
          0,
          0,
          0,
          0,
          0,
          0,
          0,
          0,
          0,
          0,
          0,
          0,
          3,
          0,
          3,
          0,
          0,
          0,
          3,
          2,
          3,
          0,
          3,
          0,
          3,
          2,
          0,
          0,
          0,
          0,
          0,
          0,
          2,
          2,
          3,
          2,
          5,
          2,
          2,
          2,
          0,
          2,
          5,
          2,
          1,
          2,
          0,
          0,
          2,
          2,
          2,
          2,
          0,
          1,
          2,
          2,
          1,
          1,
          0,
          5,
          0,
          1,
          1,
          1,
          2,
          0,
          1,
          2,
          5,
          0,
          5,
          1,
          2,
          1,
          1,
          1,
          1,
          1,
          1,
          5,
          1,
          2,
          1,
          1,
          0,
          1,
          1,
          5,
          1,
          1,
          1,
          1,
          1,
          5,
          1,
          1,
          5,
          5,
          5,
          1,
          1,
          1,
          1,
          1,
          1,
          1,
          1,
          1,
          1,
          1,
          1,
          1,
          1,
          1,
          1,
          1,
          1,
          1,
          1,
          4,
          4,
          4,
          4,
          4,
          4,
          4,
          4,
          4,
          4,
          4,
          4,
          4,
          4,
          4,
          4,
          4,
          4,
          4,
          4,
          4,
          4,
          4,
          4,
          4,
          4,
          4,
          4,
          4,
          4,
          4,
          4,
          4,
          4,
          4,
          4,
          4,
          4,
          4,
          4,
          4,
          4,
          4,
          4,
          4,
          4,
          4,
          4
         ],
         "xaxis": "x",
         "y": [
          68059,
          59375,
          55660,
          46946,
          60221,
          44097,
          47566,
          47955,
          83793,
          50013,
          48836,
          41779,
          43602,
          35108,
          39507,
          56140,
          43821,
          99732,
          40799,
          46231,
          65543,
          33650,
          36757,
          32143,
          35041,
          31597,
          40511,
          34795,
          36141,
          30379,
          33100,
          24909,
          27626,
          29775,
          66912,
          48641,
          49338,
          30672,
          26301,
          27935,
          110489,
          21972,
          76389,
          27144,
          40399,
          23061,
          37039,
          17611,
          25036,
          17039,
          22168,
          19646,
          17511,
          23906,
          16720,
          15912,
          71164,
          19435,
          24905,
          28395,
          27227,
          25077,
          15218,
          28497,
          18166,
          22724,
          20455,
          14790,
          12300,
          9570,
          11611,
          7811,
          26770,
          22201,
          12690,
          17628,
          16129,
          12684,
          14068,
          12896,
          9277,
          13639,
          12874,
          12323,
          16127,
          10141,
          15240,
          7994,
          15074,
          11528,
          10677,
          10784,
          11136,
          15951,
          11746,
          7932,
          9070,
          9245,
          9110,
          11720,
          11933,
          8268,
          7136,
          12549,
          5783,
          9540,
          6833,
          16407,
          6462,
          11685,
          11256,
          5885,
          11756,
          6849,
          15794,
          10744,
          4633,
          6220,
          5314,
          15365,
          7480,
          3317,
          7615,
          6973,
          3482,
          6513,
          7378,
          4790,
          6829,
          9683,
          7527,
          4258,
          3917,
          8609,
          4057,
          3700,
          3024,
          5804,
          9359,
          6317,
          2808,
          4099,
          3582,
          17796,
          5764,
          3597,
          3052,
          2748,
          5555,
          3291,
          2661,
          5190,
          2027,
          2725,
          3686,
          2426,
          1959,
          5086,
          2805,
          1752,
          3746,
          1404,
          2135,
          3244,
          3589,
          3256,
          1593,
          3962,
          1665,
          1746,
          3601,
          1159,
          1782,
          1490,
          2211,
          1040,
          1433,
          1593,
          800,
          1154,
          1381,
          1705,
          1708,
          1965,
          660,
          1455,
          1716,
          777,
          912
         ],
         "yaxis": "y"
        }
       ],
       "layout": {
        "coloraxis": {
         "colorbar": {
          "title": {
           "text": "Hierarchical Clusters"
          }
         },
         "colorscale": [
          [
           0,
           "#4B3F72"
          ],
          [
           0.25,
           "#AB81CD"
          ],
          [
           0.5,
           "#1F7A8C"
          ],
          [
           0.75,
           "#03B5AA"
          ],
          [
           1,
           "#A3E7FC"
          ]
         ]
        },
        "height": 600,
        "legend": {
         "tracegroupgap": 0
        },
        "margin": {
         "t": 60
        },
        "template": {
         "data": {
          "bar": [
           {
            "error_x": {
             "color": "#2a3f5f"
            },
            "error_y": {
             "color": "#2a3f5f"
            },
            "marker": {
             "line": {
              "color": "#E5ECF6",
              "width": 0.5
             }
            },
            "type": "bar"
           }
          ],
          "barpolar": [
           {
            "marker": {
             "line": {
              "color": "#E5ECF6",
              "width": 0.5
             }
            },
            "type": "barpolar"
           }
          ],
          "carpet": [
           {
            "aaxis": {
             "endlinecolor": "#2a3f5f",
             "gridcolor": "white",
             "linecolor": "white",
             "minorgridcolor": "white",
             "startlinecolor": "#2a3f5f"
            },
            "baxis": {
             "endlinecolor": "#2a3f5f",
             "gridcolor": "white",
             "linecolor": "white",
             "minorgridcolor": "white",
             "startlinecolor": "#2a3f5f"
            },
            "type": "carpet"
           }
          ],
          "choropleth": [
           {
            "colorbar": {
             "outlinewidth": 0,
             "ticks": ""
            },
            "type": "choropleth"
           }
          ],
          "contour": [
           {
            "colorbar": {
             "outlinewidth": 0,
             "ticks": ""
            },
            "colorscale": [
             [
              0,
              "#0d0887"
             ],
             [
              0.1111111111111111,
              "#46039f"
             ],
             [
              0.2222222222222222,
              "#7201a8"
             ],
             [
              0.3333333333333333,
              "#9c179e"
             ],
             [
              0.4444444444444444,
              "#bd3786"
             ],
             [
              0.5555555555555556,
              "#d8576b"
             ],
             [
              0.6666666666666666,
              "#ed7953"
             ],
             [
              0.7777777777777778,
              "#fb9f3a"
             ],
             [
              0.8888888888888888,
              "#fdca26"
             ],
             [
              1,
              "#f0f921"
             ]
            ],
            "type": "contour"
           }
          ],
          "contourcarpet": [
           {
            "colorbar": {
             "outlinewidth": 0,
             "ticks": ""
            },
            "type": "contourcarpet"
           }
          ],
          "heatmap": [
           {
            "colorbar": {
             "outlinewidth": 0,
             "ticks": ""
            },
            "colorscale": [
             [
              0,
              "#0d0887"
             ],
             [
              0.1111111111111111,
              "#46039f"
             ],
             [
              0.2222222222222222,
              "#7201a8"
             ],
             [
              0.3333333333333333,
              "#9c179e"
             ],
             [
              0.4444444444444444,
              "#bd3786"
             ],
             [
              0.5555555555555556,
              "#d8576b"
             ],
             [
              0.6666666666666666,
              "#ed7953"
             ],
             [
              0.7777777777777778,
              "#fb9f3a"
             ],
             [
              0.8888888888888888,
              "#fdca26"
             ],
             [
              1,
              "#f0f921"
             ]
            ],
            "type": "heatmap"
           }
          ],
          "heatmapgl": [
           {
            "colorbar": {
             "outlinewidth": 0,
             "ticks": ""
            },
            "colorscale": [
             [
              0,
              "#0d0887"
             ],
             [
              0.1111111111111111,
              "#46039f"
             ],
             [
              0.2222222222222222,
              "#7201a8"
             ],
             [
              0.3333333333333333,
              "#9c179e"
             ],
             [
              0.4444444444444444,
              "#bd3786"
             ],
             [
              0.5555555555555556,
              "#d8576b"
             ],
             [
              0.6666666666666666,
              "#ed7953"
             ],
             [
              0.7777777777777778,
              "#fb9f3a"
             ],
             [
              0.8888888888888888,
              "#fdca26"
             ],
             [
              1,
              "#f0f921"
             ]
            ],
            "type": "heatmapgl"
           }
          ],
          "histogram": [
           {
            "marker": {
             "colorbar": {
              "outlinewidth": 0,
              "ticks": ""
             }
            },
            "type": "histogram"
           }
          ],
          "histogram2d": [
           {
            "colorbar": {
             "outlinewidth": 0,
             "ticks": ""
            },
            "colorscale": [
             [
              0,
              "#0d0887"
             ],
             [
              0.1111111111111111,
              "#46039f"
             ],
             [
              0.2222222222222222,
              "#7201a8"
             ],
             [
              0.3333333333333333,
              "#9c179e"
             ],
             [
              0.4444444444444444,
              "#bd3786"
             ],
             [
              0.5555555555555556,
              "#d8576b"
             ],
             [
              0.6666666666666666,
              "#ed7953"
             ],
             [
              0.7777777777777778,
              "#fb9f3a"
             ],
             [
              0.8888888888888888,
              "#fdca26"
             ],
             [
              1,
              "#f0f921"
             ]
            ],
            "type": "histogram2d"
           }
          ],
          "histogram2dcontour": [
           {
            "colorbar": {
             "outlinewidth": 0,
             "ticks": ""
            },
            "colorscale": [
             [
              0,
              "#0d0887"
             ],
             [
              0.1111111111111111,
              "#46039f"
             ],
             [
              0.2222222222222222,
              "#7201a8"
             ],
             [
              0.3333333333333333,
              "#9c179e"
             ],
             [
              0.4444444444444444,
              "#bd3786"
             ],
             [
              0.5555555555555556,
              "#d8576b"
             ],
             [
              0.6666666666666666,
              "#ed7953"
             ],
             [
              0.7777777777777778,
              "#fb9f3a"
             ],
             [
              0.8888888888888888,
              "#fdca26"
             ],
             [
              1,
              "#f0f921"
             ]
            ],
            "type": "histogram2dcontour"
           }
          ],
          "mesh3d": [
           {
            "colorbar": {
             "outlinewidth": 0,
             "ticks": ""
            },
            "type": "mesh3d"
           }
          ],
          "parcoords": [
           {
            "line": {
             "colorbar": {
              "outlinewidth": 0,
              "ticks": ""
             }
            },
            "type": "parcoords"
           }
          ],
          "pie": [
           {
            "automargin": true,
            "type": "pie"
           }
          ],
          "scatter": [
           {
            "marker": {
             "colorbar": {
              "outlinewidth": 0,
              "ticks": ""
             }
            },
            "type": "scatter"
           }
          ],
          "scatter3d": [
           {
            "line": {
             "colorbar": {
              "outlinewidth": 0,
              "ticks": ""
             }
            },
            "marker": {
             "colorbar": {
              "outlinewidth": 0,
              "ticks": ""
             }
            },
            "type": "scatter3d"
           }
          ],
          "scattercarpet": [
           {
            "marker": {
             "colorbar": {
              "outlinewidth": 0,
              "ticks": ""
             }
            },
            "type": "scattercarpet"
           }
          ],
          "scattergeo": [
           {
            "marker": {
             "colorbar": {
              "outlinewidth": 0,
              "ticks": ""
             }
            },
            "type": "scattergeo"
           }
          ],
          "scattergl": [
           {
            "marker": {
             "colorbar": {
              "outlinewidth": 0,
              "ticks": ""
             }
            },
            "type": "scattergl"
           }
          ],
          "scattermapbox": [
           {
            "marker": {
             "colorbar": {
              "outlinewidth": 0,
              "ticks": ""
             }
            },
            "type": "scattermapbox"
           }
          ],
          "scatterpolar": [
           {
            "marker": {
             "colorbar": {
              "outlinewidth": 0,
              "ticks": ""
             }
            },
            "type": "scatterpolar"
           }
          ],
          "scatterpolargl": [
           {
            "marker": {
             "colorbar": {
              "outlinewidth": 0,
              "ticks": ""
             }
            },
            "type": "scatterpolargl"
           }
          ],
          "scatterternary": [
           {
            "marker": {
             "colorbar": {
              "outlinewidth": 0,
              "ticks": ""
             }
            },
            "type": "scatterternary"
           }
          ],
          "surface": [
           {
            "colorbar": {
             "outlinewidth": 0,
             "ticks": ""
            },
            "colorscale": [
             [
              0,
              "#0d0887"
             ],
             [
              0.1111111111111111,
              "#46039f"
             ],
             [
              0.2222222222222222,
              "#7201a8"
             ],
             [
              0.3333333333333333,
              "#9c179e"
             ],
             [
              0.4444444444444444,
              "#bd3786"
             ],
             [
              0.5555555555555556,
              "#d8576b"
             ],
             [
              0.6666666666666666,
              "#ed7953"
             ],
             [
              0.7777777777777778,
              "#fb9f3a"
             ],
             [
              0.8888888888888888,
              "#fdca26"
             ],
             [
              1,
              "#f0f921"
             ]
            ],
            "type": "surface"
           }
          ],
          "table": [
           {
            "cells": {
             "fill": {
              "color": "#EBF0F8"
             },
             "line": {
              "color": "white"
             }
            },
            "header": {
             "fill": {
              "color": "#C8D4E3"
             },
             "line": {
              "color": "white"
             }
            },
            "type": "table"
           }
          ]
         },
         "layout": {
          "annotationdefaults": {
           "arrowcolor": "#2a3f5f",
           "arrowhead": 0,
           "arrowwidth": 1
          },
          "coloraxis": {
           "colorbar": {
            "outlinewidth": 0,
            "ticks": ""
           }
          },
          "colorscale": {
           "diverging": [
            [
             0,
             "#8e0152"
            ],
            [
             0.1,
             "#c51b7d"
            ],
            [
             0.2,
             "#de77ae"
            ],
            [
             0.3,
             "#f1b6da"
            ],
            [
             0.4,
             "#fde0ef"
            ],
            [
             0.5,
             "#f7f7f7"
            ],
            [
             0.6,
             "#e6f5d0"
            ],
            [
             0.7,
             "#b8e186"
            ],
            [
             0.8,
             "#7fbc41"
            ],
            [
             0.9,
             "#4d9221"
            ],
            [
             1,
             "#276419"
            ]
           ],
           "sequential": [
            [
             0,
             "#0d0887"
            ],
            [
             0.1111111111111111,
             "#46039f"
            ],
            [
             0.2222222222222222,
             "#7201a8"
            ],
            [
             0.3333333333333333,
             "#9c179e"
            ],
            [
             0.4444444444444444,
             "#bd3786"
            ],
            [
             0.5555555555555556,
             "#d8576b"
            ],
            [
             0.6666666666666666,
             "#ed7953"
            ],
            [
             0.7777777777777778,
             "#fb9f3a"
            ],
            [
             0.8888888888888888,
             "#fdca26"
            ],
            [
             1,
             "#f0f921"
            ]
           ],
           "sequentialminus": [
            [
             0,
             "#0d0887"
            ],
            [
             0.1111111111111111,
             "#46039f"
            ],
            [
             0.2222222222222222,
             "#7201a8"
            ],
            [
             0.3333333333333333,
             "#9c179e"
            ],
            [
             0.4444444444444444,
             "#bd3786"
            ],
            [
             0.5555555555555556,
             "#d8576b"
            ],
            [
             0.6666666666666666,
             "#ed7953"
            ],
            [
             0.7777777777777778,
             "#fb9f3a"
            ],
            [
             0.8888888888888888,
             "#fdca26"
            ],
            [
             1,
             "#f0f921"
            ]
           ]
          },
          "colorway": [
           "#636efa",
           "#EF553B",
           "#00cc96",
           "#ab63fa",
           "#FFA15A",
           "#19d3f3",
           "#FF6692",
           "#B6E880",
           "#FF97FF",
           "#FECB52"
          ],
          "font": {
           "color": "#2a3f5f"
          },
          "geo": {
           "bgcolor": "white",
           "lakecolor": "white",
           "landcolor": "#E5ECF6",
           "showlakes": true,
           "showland": true,
           "subunitcolor": "white"
          },
          "hoverlabel": {
           "align": "left"
          },
          "hovermode": "closest",
          "mapbox": {
           "style": "light"
          },
          "paper_bgcolor": "white",
          "plot_bgcolor": "#E5ECF6",
          "polar": {
           "angularaxis": {
            "gridcolor": "white",
            "linecolor": "white",
            "ticks": ""
           },
           "bgcolor": "#E5ECF6",
           "radialaxis": {
            "gridcolor": "white",
            "linecolor": "white",
            "ticks": ""
           }
          },
          "scene": {
           "xaxis": {
            "backgroundcolor": "#E5ECF6",
            "gridcolor": "white",
            "gridwidth": 2,
            "linecolor": "white",
            "showbackground": true,
            "ticks": "",
            "zerolinecolor": "white"
           },
           "yaxis": {
            "backgroundcolor": "#E5ECF6",
            "gridcolor": "white",
            "gridwidth": 2,
            "linecolor": "white",
            "showbackground": true,
            "ticks": "",
            "zerolinecolor": "white"
           },
           "zaxis": {
            "backgroundcolor": "#E5ECF6",
            "gridcolor": "white",
            "gridwidth": 2,
            "linecolor": "white",
            "showbackground": true,
            "ticks": "",
            "zerolinecolor": "white"
           }
          },
          "shapedefaults": {
           "line": {
            "color": "#2a3f5f"
           }
          },
          "ternary": {
           "aaxis": {
            "gridcolor": "white",
            "linecolor": "white",
            "ticks": ""
           },
           "baxis": {
            "gridcolor": "white",
            "linecolor": "white",
            "ticks": ""
           },
           "bgcolor": "#E5ECF6",
           "caxis": {
            "gridcolor": "white",
            "linecolor": "white",
            "ticks": ""
           }
          },
          "title": {
           "x": 0.05
          },
          "xaxis": {
           "automargin": true,
           "gridcolor": "white",
           "linecolor": "white",
           "ticks": "",
           "title": {
            "standoff": 15
           },
           "zerolinecolor": "white",
           "zerolinewidth": 2
          },
          "yaxis": {
           "automargin": true,
           "gridcolor": "white",
           "linecolor": "white",
           "ticks": "",
           "title": {
            "standoff": 15
           },
           "zerolinecolor": "white",
           "zerolinewidth": 2
          }
         }
        },
        "xaxis": {
         "anchor": "y",
         "domain": [
          0,
          1
         ],
         "title": {
          "text": "Hierarchical Clusters"
         }
        },
        "yaxis": {
         "anchor": "x",
         "domain": [
          0,
          1
         ],
         "title": {
          "text": "Gross national income (GNI) per capita"
         }
        }
       }
      },
      "text/html": [
       "<div>\n",
       "        \n",
       "        \n",
       "            <div id=\"2a8a1662-1792-48e6-bc42-ad6d43a4e3cc\" class=\"plotly-graph-div\" style=\"height:600px; width:100%;\"></div>\n",
       "            <script type=\"text/javascript\">\n",
       "                require([\"plotly\"], function(Plotly) {\n",
       "                    window.PLOTLYENV=window.PLOTLYENV || {};\n",
       "                    \n",
       "                if (document.getElementById(\"2a8a1662-1792-48e6-bc42-ad6d43a4e3cc\")) {\n",
       "                    Plotly.newPlot(\n",
       "                        '2a8a1662-1792-48e6-bc42-ad6d43a4e3cc',\n",
       "                        [{\"hoverlabel\": {\"namelength\": 0}, \"hovertemplate\": \"<b>%{hovertext}</b><br><br>Hierarchical Clusters=%{marker.color}<br>Gross national income (GNI) per capita=%{y}\", \"hovertext\": [\"Norway\", \"Switzerland\", \"Ireland\", \"Germany\", \"Hong Kong, China (SAR)\", \"Australia\", \"Iceland\", \"Sweden\", \"Singapore\", \"Netherlands\", \"Denmark\", \"Finland\", \"Canada\", \"New Zealand\", \"United Kingdom\", \"United States\", \"Belgium\", \"Liechtenstein\", \"Japan\", \"Austria\", \"Luxembourg\", \"Israel\", \"Korea (Republic of)\", \"Slovenia\", \"Spain\", \"Czechia\", \"France\", \"Malta\", \"Italy\", \"Estonia\", \"Cyprus\", \"Greece\", \"Poland\", \"Lithuania\", \"United Arab Emirates\", \"Andorra\", \"Saudi Arabia\", \"Slovakia\", \"Latvia\", \"Portugal\", \"Qatar\", \"Chile\", \"Brunei Darussalam\", \"Hungary\", \"Bahrain\", \"Croatia\", \"Oman\", \"Argentina\", \"Russian Federation\", \"Belarus\", \"Kazakhstan\", \"Bulgaria\", \"Montenegro\", \"Romania\", \"Palau\", \"Barbados\", \"Kuwait\", \"Uruguay\", \"Turkey\", \"Bahamas\", \"Malaysia\", \"Seychelles\", \"Serbia\", \"Trinidad and Tobago\", \"Iran (Islamic Republic of)\", \"Mauritius\", \"Panama\", \"Costa Rica\", \"Albania\", \"Georgia\", \"Sri Lanka\", \"Cuba\", \"Saint Kitts and Nevis\", \"Antigua and Barbuda\", \"Bosnia and Herzegovina\", \"Mexico\", \"Thailand\", \"Grenada\", \"Brazil\", \"Colombia\", \"Armenia\", \"Algeria\", \"North Macedonia\", \"Peru\", \"China\", \"Ecuador\", \"Azerbaijan\", \"Ukraine\", \"Dominican Republic\", \"Saint Lucia\", \"Tunisia\", \"Mongolia\", \"Lebanon\", \"Botswana\", \"Saint Vincent and the Grenadines\", \"Jamaica\", \"Venezuela (Bolivarian Republic of)\", \"Dominica\", \"Fiji\", \"Paraguay\", \"Suriname\", \"Jordan\", \"Belize\", \"Maldives\", \"Tonga\", \"Philippines\", \"Moldova (Republic of)\", \"Turkmenistan\", \"Uzbekistan\", \"Libya\", \"Indonesia\", \"Samoa\", \"South Africa\", \"Bolivia (Plurinational State of)\", \"Gabon\", \"Egypt\", \"Marshall Islands\", \"Viet Nam\", \"Palestine, State of\", \"Iraq\", \"Morocco\", \"Kyrgyzstan\", \"Guyana\", \"El Salvador\", \"Tajikistan\", \"Cabo Verde\", \"Guatemala\", \"Nicaragua\", \"India\", \"Namibia\", \"Timor-Leste\", \"Honduras\", \"Kiribati\", \"Bhutan\", \"Bangladesh\", \"Micronesia (Federated States of)\", \"Sao Tome and Principe\", \"Congo\", \"Eswatini (Kingdom of)\", \"Lao People's Democratic Republic\", \"Vanuatu\", \"Ghana\", \"Zambia\", \"Equatorial Guinea\", \"Myanmar\", \"Cambodia\", \"Kenya\", \"Nepal\", \"Angola\", \"Cameroon\", \"Zimbabwe\", \"Pakistan\", \"Solomon Islands\", \"Syrian Arab Republic\", \"Papua New Guinea\", \"Comoros\", \"Rwanda\", \"Nigeria\", \"Tanzania (United Republic of)\", \"Uganda\", \"Mauritania\", \"Madagascar\", \"Benin\", \"Lesotho\", \"C\\u00f4te d'Ivoire\", \"Senegal\", \"Togo\", \"Sudan\", \"Haiti\", \"Afghanistan\", \"Djibouti\", \"Malawi\", \"Ethiopia\", \"Gambia\", \"Guinea\", \"Liberia\", \"Yemen\", \"Guinea-Bissau\", \"Congo (Democratic Republic of the)\", \"Mozambique\", \"Sierra Leone\", \"Burkina Faso\", \"Eritrea\", \"Mali\", \"Burundi\", \"South Sudan\", \"Chad\", \"Central African Republic\", \"Niger\"], \"legendgroup\": \"\", \"marker\": {\"color\": [0, 0, 0, 0, 0, 0, 0, 0, 0, 0, 0, 0, 0, 0, 0, 0, 0, 3, 0, 0, 0, 0, 0, 0, 0, 0, 0, 0, 0, 0, 0, 0, 0, 0, 3, 0, 3, 0, 0, 0, 3, 2, 3, 0, 3, 0, 3, 2, 0, 0, 0, 0, 0, 0, 2, 2, 3, 2, 5, 2, 2, 2, 0, 2, 5, 2, 1, 2, 0, 0, 2, 2, 2, 2, 0, 1, 2, 2, 1, 1, 0, 5, 0, 1, 1, 1, 2, 0, 1, 2, 5, 0, 5, 1, 2, 1, 1, 1, 1, 1, 1, 5, 1, 2, 1, 1, 0, 1, 1, 5, 1, 1, 1, 1, 1, 5, 1, 1, 5, 5, 5, 1, 1, 1, 1, 1, 1, 1, 1, 1, 1, 1, 1, 1, 1, 1, 1, 1, 1, 1, 1, 4, 4, 4, 4, 4, 4, 4, 4, 4, 4, 4, 4, 4, 4, 4, 4, 4, 4, 4, 4, 4, 4, 4, 4, 4, 4, 4, 4, 4, 4, 4, 4, 4, 4, 4, 4, 4, 4, 4, 4, 4, 4, 4, 4, 4, 4, 4, 4], \"coloraxis\": \"coloraxis\", \"symbol\": \"circle\"}, \"mode\": \"markers\", \"name\": \"\", \"showlegend\": false, \"type\": \"scatter\", \"x\": [0, 0, 0, 0, 0, 0, 0, 0, 0, 0, 0, 0, 0, 0, 0, 0, 0, 3, 0, 0, 0, 0, 0, 0, 0, 0, 0, 0, 0, 0, 0, 0, 0, 0, 3, 0, 3, 0, 0, 0, 3, 2, 3, 0, 3, 0, 3, 2, 0, 0, 0, 0, 0, 0, 2, 2, 3, 2, 5, 2, 2, 2, 0, 2, 5, 2, 1, 2, 0, 0, 2, 2, 2, 2, 0, 1, 2, 2, 1, 1, 0, 5, 0, 1, 1, 1, 2, 0, 1, 2, 5, 0, 5, 1, 2, 1, 1, 1, 1, 1, 1, 5, 1, 2, 1, 1, 0, 1, 1, 5, 1, 1, 1, 1, 1, 5, 1, 1, 5, 5, 5, 1, 1, 1, 1, 1, 1, 1, 1, 1, 1, 1, 1, 1, 1, 1, 1, 1, 1, 1, 1, 4, 4, 4, 4, 4, 4, 4, 4, 4, 4, 4, 4, 4, 4, 4, 4, 4, 4, 4, 4, 4, 4, 4, 4, 4, 4, 4, 4, 4, 4, 4, 4, 4, 4, 4, 4, 4, 4, 4, 4, 4, 4, 4, 4, 4, 4, 4, 4], \"xaxis\": \"x\", \"y\": [68059.0, 59375.0, 55660.0, 46946.0, 60221.0, 44097.0, 47566.0, 47955.0, 83793.0, 50013.0, 48836.0, 41779.0, 43602.0, 35108.0, 39507.0, 56140.0, 43821.0, 99732.0, 40799.0, 46231.0, 65543.0, 33650.0, 36757.0, 32143.0, 35041.0, 31597.0, 40511.0, 34795.0, 36141.0, 30379.0, 33100.0, 24909.0, 27626.0, 29775.0, 66912.0, 48641.0, 49338.0, 30672.0, 26301.0, 27935.0, 110489.0, 21972.0, 76389.0, 27144.0, 40399.0, 23061.0, 37039.0, 17611.0, 25036.0, 17039.0, 22168.0, 19646.0, 17511.0, 23906.0, 16720.0, 15912.0, 71164.0, 19435.0, 24905.0, 28395.0, 27227.0, 25077.0, 15218.0, 28497.0, 18166.0, 22724.0, 20455.0, 14790.0, 12300.0, 9570.0, 11611.0, 7811.0, 26770.0, 22201.0, 12690.0, 17628.0, 16129.0, 12684.0, 14068.0, 12896.0, 9277.0, 13639.0, 12874.0, 12323.0, 16127.0, 10141.0, 15240.0, 7994.0, 15074.0, 11528.0, 10677.0, 10784.0, 11136.0, 15951.0, 11746.0, 7932.0, 9070.0, 9245.0, 9110.0, 11720.0, 11933.0, 8268.0, 7136.0, 12549.0, 5783.0, 9540.0, 6833.0, 16407.0, 6462.0, 11685.0, 11256.0, 5885.0, 11756.0, 6849.0, 15794.0, 10744.0, 4633.0, 6220.0, 5314.0, 15365.0, 7480.0, 3317.0, 7615.0, 6973.0, 3482.0, 6513.0, 7378.0, 4790.0, 6829.0, 9683.0, 7527.0, 4258.0, 3917.0, 8609.0, 4057.0, 3700.0, 3024.0, 5804.0, 9359.0, 6317.0, 2808.0, 4099.0, 3582.0, 17796.0, 5764.0, 3597.0, 3052.0, 2748.0, 5555.0, 3291.0, 2661.0, 5190.0, 2027.0, 2725.0, 3686.0, 2426.0, 1959.0, 5086.0, 2805.0, 1752.0, 3746.0, 1404.0, 2135.0, 3244.0, 3589.0, 3256.0, 1593.0, 3962.0, 1665.0, 1746.0, 3601.0, 1159.0, 1782.0, 1490.0, 2211.0, 1040.0, 1433.0, 1593.0, 800.0, 1154.0, 1381.0, 1705.0, 1708.0, 1965.0, 660.0, 1455.0, 1716.0, 777.0, 912.0], \"yaxis\": \"y\"}],\n",
       "                        {\"coloraxis\": {\"colorbar\": {\"title\": {\"text\": \"Hierarchical Clusters\"}}, \"colorscale\": [[0.0, \"#4B3F72\"], [0.25, \"#AB81CD\"], [0.5, \"#1F7A8C\"], [0.75, \"#03B5AA\"], [1.0, \"#A3E7FC\"]]}, \"height\": 600, \"legend\": {\"tracegroupgap\": 0}, \"margin\": {\"t\": 60}, \"template\": {\"data\": {\"bar\": [{\"error_x\": {\"color\": \"#2a3f5f\"}, \"error_y\": {\"color\": \"#2a3f5f\"}, \"marker\": {\"line\": {\"color\": \"#E5ECF6\", \"width\": 0.5}}, \"type\": \"bar\"}], \"barpolar\": [{\"marker\": {\"line\": {\"color\": \"#E5ECF6\", \"width\": 0.5}}, \"type\": \"barpolar\"}], \"carpet\": [{\"aaxis\": {\"endlinecolor\": \"#2a3f5f\", \"gridcolor\": \"white\", \"linecolor\": \"white\", \"minorgridcolor\": \"white\", \"startlinecolor\": \"#2a3f5f\"}, \"baxis\": {\"endlinecolor\": \"#2a3f5f\", \"gridcolor\": \"white\", \"linecolor\": \"white\", \"minorgridcolor\": \"white\", \"startlinecolor\": \"#2a3f5f\"}, \"type\": \"carpet\"}], \"choropleth\": [{\"colorbar\": {\"outlinewidth\": 0, \"ticks\": \"\"}, \"type\": \"choropleth\"}], \"contour\": [{\"colorbar\": {\"outlinewidth\": 0, \"ticks\": \"\"}, \"colorscale\": [[0.0, \"#0d0887\"], [0.1111111111111111, \"#46039f\"], [0.2222222222222222, \"#7201a8\"], [0.3333333333333333, \"#9c179e\"], [0.4444444444444444, \"#bd3786\"], [0.5555555555555556, \"#d8576b\"], [0.6666666666666666, \"#ed7953\"], [0.7777777777777778, \"#fb9f3a\"], [0.8888888888888888, \"#fdca26\"], [1.0, \"#f0f921\"]], \"type\": \"contour\"}], \"contourcarpet\": [{\"colorbar\": {\"outlinewidth\": 0, \"ticks\": \"\"}, \"type\": \"contourcarpet\"}], \"heatmap\": [{\"colorbar\": {\"outlinewidth\": 0, \"ticks\": \"\"}, \"colorscale\": [[0.0, \"#0d0887\"], [0.1111111111111111, \"#46039f\"], [0.2222222222222222, \"#7201a8\"], [0.3333333333333333, \"#9c179e\"], [0.4444444444444444, \"#bd3786\"], [0.5555555555555556, \"#d8576b\"], [0.6666666666666666, \"#ed7953\"], [0.7777777777777778, \"#fb9f3a\"], [0.8888888888888888, \"#fdca26\"], [1.0, \"#f0f921\"]], \"type\": \"heatmap\"}], \"heatmapgl\": [{\"colorbar\": {\"outlinewidth\": 0, \"ticks\": \"\"}, \"colorscale\": [[0.0, \"#0d0887\"], [0.1111111111111111, \"#46039f\"], [0.2222222222222222, \"#7201a8\"], [0.3333333333333333, \"#9c179e\"], [0.4444444444444444, \"#bd3786\"], [0.5555555555555556, \"#d8576b\"], [0.6666666666666666, \"#ed7953\"], [0.7777777777777778, \"#fb9f3a\"], [0.8888888888888888, \"#fdca26\"], [1.0, \"#f0f921\"]], \"type\": \"heatmapgl\"}], \"histogram\": [{\"marker\": {\"colorbar\": {\"outlinewidth\": 0, \"ticks\": \"\"}}, \"type\": \"histogram\"}], \"histogram2d\": [{\"colorbar\": {\"outlinewidth\": 0, \"ticks\": \"\"}, \"colorscale\": [[0.0, \"#0d0887\"], [0.1111111111111111, \"#46039f\"], [0.2222222222222222, \"#7201a8\"], [0.3333333333333333, \"#9c179e\"], [0.4444444444444444, \"#bd3786\"], [0.5555555555555556, \"#d8576b\"], [0.6666666666666666, \"#ed7953\"], [0.7777777777777778, \"#fb9f3a\"], [0.8888888888888888, \"#fdca26\"], [1.0, \"#f0f921\"]], \"type\": \"histogram2d\"}], \"histogram2dcontour\": [{\"colorbar\": {\"outlinewidth\": 0, \"ticks\": \"\"}, \"colorscale\": [[0.0, \"#0d0887\"], [0.1111111111111111, \"#46039f\"], [0.2222222222222222, \"#7201a8\"], [0.3333333333333333, \"#9c179e\"], [0.4444444444444444, \"#bd3786\"], [0.5555555555555556, \"#d8576b\"], [0.6666666666666666, \"#ed7953\"], [0.7777777777777778, \"#fb9f3a\"], [0.8888888888888888, \"#fdca26\"], [1.0, \"#f0f921\"]], \"type\": \"histogram2dcontour\"}], \"mesh3d\": [{\"colorbar\": {\"outlinewidth\": 0, \"ticks\": \"\"}, \"type\": \"mesh3d\"}], \"parcoords\": [{\"line\": {\"colorbar\": {\"outlinewidth\": 0, \"ticks\": \"\"}}, \"type\": \"parcoords\"}], \"pie\": [{\"automargin\": true, \"type\": \"pie\"}], \"scatter\": [{\"marker\": {\"colorbar\": {\"outlinewidth\": 0, \"ticks\": \"\"}}, \"type\": \"scatter\"}], \"scatter3d\": [{\"line\": {\"colorbar\": {\"outlinewidth\": 0, \"ticks\": \"\"}}, \"marker\": {\"colorbar\": {\"outlinewidth\": 0, \"ticks\": \"\"}}, \"type\": \"scatter3d\"}], \"scattercarpet\": [{\"marker\": {\"colorbar\": {\"outlinewidth\": 0, \"ticks\": \"\"}}, \"type\": \"scattercarpet\"}], \"scattergeo\": [{\"marker\": {\"colorbar\": {\"outlinewidth\": 0, \"ticks\": \"\"}}, \"type\": \"scattergeo\"}], \"scattergl\": [{\"marker\": {\"colorbar\": {\"outlinewidth\": 0, \"ticks\": \"\"}}, \"type\": \"scattergl\"}], \"scattermapbox\": [{\"marker\": {\"colorbar\": {\"outlinewidth\": 0, \"ticks\": \"\"}}, \"type\": \"scattermapbox\"}], \"scatterpolar\": [{\"marker\": {\"colorbar\": {\"outlinewidth\": 0, \"ticks\": \"\"}}, \"type\": \"scatterpolar\"}], \"scatterpolargl\": [{\"marker\": {\"colorbar\": {\"outlinewidth\": 0, \"ticks\": \"\"}}, \"type\": \"scatterpolargl\"}], \"scatterternary\": [{\"marker\": {\"colorbar\": {\"outlinewidth\": 0, \"ticks\": \"\"}}, \"type\": \"scatterternary\"}], \"surface\": [{\"colorbar\": {\"outlinewidth\": 0, \"ticks\": \"\"}, \"colorscale\": [[0.0, \"#0d0887\"], [0.1111111111111111, \"#46039f\"], [0.2222222222222222, \"#7201a8\"], [0.3333333333333333, \"#9c179e\"], [0.4444444444444444, \"#bd3786\"], [0.5555555555555556, \"#d8576b\"], [0.6666666666666666, \"#ed7953\"], [0.7777777777777778, \"#fb9f3a\"], [0.8888888888888888, \"#fdca26\"], [1.0, \"#f0f921\"]], \"type\": \"surface\"}], \"table\": [{\"cells\": {\"fill\": {\"color\": \"#EBF0F8\"}, \"line\": {\"color\": \"white\"}}, \"header\": {\"fill\": {\"color\": \"#C8D4E3\"}, \"line\": {\"color\": \"white\"}}, \"type\": \"table\"}]}, \"layout\": {\"annotationdefaults\": {\"arrowcolor\": \"#2a3f5f\", \"arrowhead\": 0, \"arrowwidth\": 1}, \"coloraxis\": {\"colorbar\": {\"outlinewidth\": 0, \"ticks\": \"\"}}, \"colorscale\": {\"diverging\": [[0, \"#8e0152\"], [0.1, \"#c51b7d\"], [0.2, \"#de77ae\"], [0.3, \"#f1b6da\"], [0.4, \"#fde0ef\"], [0.5, \"#f7f7f7\"], [0.6, \"#e6f5d0\"], [0.7, \"#b8e186\"], [0.8, \"#7fbc41\"], [0.9, \"#4d9221\"], [1, \"#276419\"]], \"sequential\": [[0.0, \"#0d0887\"], [0.1111111111111111, \"#46039f\"], [0.2222222222222222, \"#7201a8\"], [0.3333333333333333, \"#9c179e\"], [0.4444444444444444, \"#bd3786\"], [0.5555555555555556, \"#d8576b\"], [0.6666666666666666, \"#ed7953\"], [0.7777777777777778, \"#fb9f3a\"], [0.8888888888888888, \"#fdca26\"], [1.0, \"#f0f921\"]], \"sequentialminus\": [[0.0, \"#0d0887\"], [0.1111111111111111, \"#46039f\"], [0.2222222222222222, \"#7201a8\"], [0.3333333333333333, \"#9c179e\"], [0.4444444444444444, \"#bd3786\"], [0.5555555555555556, \"#d8576b\"], [0.6666666666666666, \"#ed7953\"], [0.7777777777777778, \"#fb9f3a\"], [0.8888888888888888, \"#fdca26\"], [1.0, \"#f0f921\"]]}, \"colorway\": [\"#636efa\", \"#EF553B\", \"#00cc96\", \"#ab63fa\", \"#FFA15A\", \"#19d3f3\", \"#FF6692\", \"#B6E880\", \"#FF97FF\", \"#FECB52\"], \"font\": {\"color\": \"#2a3f5f\"}, \"geo\": {\"bgcolor\": \"white\", \"lakecolor\": \"white\", \"landcolor\": \"#E5ECF6\", \"showlakes\": true, \"showland\": true, \"subunitcolor\": \"white\"}, \"hoverlabel\": {\"align\": \"left\"}, \"hovermode\": \"closest\", \"mapbox\": {\"style\": \"light\"}, \"paper_bgcolor\": \"white\", \"plot_bgcolor\": \"#E5ECF6\", \"polar\": {\"angularaxis\": {\"gridcolor\": \"white\", \"linecolor\": \"white\", \"ticks\": \"\"}, \"bgcolor\": \"#E5ECF6\", \"radialaxis\": {\"gridcolor\": \"white\", \"linecolor\": \"white\", \"ticks\": \"\"}}, \"scene\": {\"xaxis\": {\"backgroundcolor\": \"#E5ECF6\", \"gridcolor\": \"white\", \"gridwidth\": 2, \"linecolor\": \"white\", \"showbackground\": true, \"ticks\": \"\", \"zerolinecolor\": \"white\"}, \"yaxis\": {\"backgroundcolor\": \"#E5ECF6\", \"gridcolor\": \"white\", \"gridwidth\": 2, \"linecolor\": \"white\", \"showbackground\": true, \"ticks\": \"\", \"zerolinecolor\": \"white\"}, \"zaxis\": {\"backgroundcolor\": \"#E5ECF6\", \"gridcolor\": \"white\", \"gridwidth\": 2, \"linecolor\": \"white\", \"showbackground\": true, \"ticks\": \"\", \"zerolinecolor\": \"white\"}}, \"shapedefaults\": {\"line\": {\"color\": \"#2a3f5f\"}}, \"ternary\": {\"aaxis\": {\"gridcolor\": \"white\", \"linecolor\": \"white\", \"ticks\": \"\"}, \"baxis\": {\"gridcolor\": \"white\", \"linecolor\": \"white\", \"ticks\": \"\"}, \"bgcolor\": \"#E5ECF6\", \"caxis\": {\"gridcolor\": \"white\", \"linecolor\": \"white\", \"ticks\": \"\"}}, \"title\": {\"x\": 0.05}, \"xaxis\": {\"automargin\": true, \"gridcolor\": \"white\", \"linecolor\": \"white\", \"ticks\": \"\", \"title\": {\"standoff\": 15}, \"zerolinecolor\": \"white\", \"zerolinewidth\": 2}, \"yaxis\": {\"automargin\": true, \"gridcolor\": \"white\", \"linecolor\": \"white\", \"ticks\": \"\", \"title\": {\"standoff\": 15}, \"zerolinecolor\": \"white\", \"zerolinewidth\": 2}}}, \"xaxis\": {\"anchor\": \"y\", \"domain\": [0.0, 1.0], \"title\": {\"text\": \"Hierarchical Clusters\"}}, \"yaxis\": {\"anchor\": \"x\", \"domain\": [0.0, 1.0], \"title\": {\"text\": \"Gross national income (GNI) per capita\"}}},\n",
       "                        {\"responsive\": true}\n",
       "                    ).then(function(){\n",
       "                            \n",
       "var gd = document.getElementById('2a8a1662-1792-48e6-bc42-ad6d43a4e3cc');\n",
       "var x = new MutationObserver(function (mutations, observer) {{\n",
       "        var display = window.getComputedStyle(gd).display;\n",
       "        if (!display || display === 'none') {{\n",
       "            console.log([gd, 'removed!']);\n",
       "            Plotly.purge(gd);\n",
       "            observer.disconnect();\n",
       "        }}\n",
       "}});\n",
       "\n",
       "// Listen for the removal of the full notebook cells\n",
       "var notebookContainer = gd.closest('#notebook-container');\n",
       "if (notebookContainer) {{\n",
       "    x.observe(notebookContainer, {childList: true});\n",
       "}}\n",
       "\n",
       "// Listen for the clearing of the current output cell\n",
       "var outputEl = gd.closest('.output');\n",
       "if (outputEl) {{\n",
       "    x.observe(outputEl, {childList: true});\n",
       "}}\n",
       "\n",
       "                        })\n",
       "                };\n",
       "                });\n",
       "            </script>\n",
       "        </div>"
      ]
     },
     "metadata": {},
     "output_type": "display_data"
    }
   ],
   "source": [
    "px.scatter(data_frame= X, x = 'Hierarchical Clusters', y = 'Gross national income (GNI) per capita', color= 'Hierarchical Clusters',\n",
    "           hover_name= X.index, color_continuous_scale= palette )"
   ]
  },
  {
   "cell_type": "code",
   "execution_count": 236,
   "metadata": {},
   "outputs": [
    {
     "data": {
      "application/vnd.plotly.v1+json": {
       "config": {
        "plotlyServerURL": "https://plot.ly"
       },
       "data": [
        {
         "hoverlabel": {
          "namelength": 0
         },
         "hovertemplate": "<b>%{hovertext}</b><br><br>Hierarchical Clusters=%{marker.color}<br>% Living in an Urban Area=%{y}",
         "hovertext": [
          "Norway",
          "Switzerland",
          "Ireland",
          "Germany",
          "Hong Kong, China (SAR)",
          "Australia",
          "Iceland",
          "Sweden",
          "Singapore",
          "Netherlands",
          "Denmark",
          "Finland",
          "Canada",
          "New Zealand",
          "United Kingdom",
          "United States",
          "Belgium",
          "Liechtenstein",
          "Japan",
          "Austria",
          "Luxembourg",
          "Israel",
          "Korea (Republic of)",
          "Slovenia",
          "Spain",
          "Czechia",
          "France",
          "Malta",
          "Italy",
          "Estonia",
          "Cyprus",
          "Greece",
          "Poland",
          "Lithuania",
          "United Arab Emirates",
          "Andorra",
          "Saudi Arabia",
          "Slovakia",
          "Latvia",
          "Portugal",
          "Qatar",
          "Chile",
          "Brunei Darussalam",
          "Hungary",
          "Bahrain",
          "Croatia",
          "Oman",
          "Argentina",
          "Russian Federation",
          "Belarus",
          "Kazakhstan",
          "Bulgaria",
          "Montenegro",
          "Romania",
          "Palau",
          "Barbados",
          "Kuwait",
          "Uruguay",
          "Turkey",
          "Bahamas",
          "Malaysia",
          "Seychelles",
          "Serbia",
          "Trinidad and Tobago",
          "Iran (Islamic Republic of)",
          "Mauritius",
          "Panama",
          "Costa Rica",
          "Albania",
          "Georgia",
          "Sri Lanka",
          "Cuba",
          "Saint Kitts and Nevis",
          "Antigua and Barbuda",
          "Bosnia and Herzegovina",
          "Mexico",
          "Thailand",
          "Grenada",
          "Brazil",
          "Colombia",
          "Armenia",
          "Algeria",
          "North Macedonia",
          "Peru",
          "China",
          "Ecuador",
          "Azerbaijan",
          "Ukraine",
          "Dominican Republic",
          "Saint Lucia",
          "Tunisia",
          "Mongolia",
          "Lebanon",
          "Botswana",
          "Saint Vincent and the Grenadines",
          "Jamaica",
          "Venezuela (Bolivarian Republic of)",
          "Dominica",
          "Fiji",
          "Paraguay",
          "Suriname",
          "Jordan",
          "Belize",
          "Maldives",
          "Tonga",
          "Philippines",
          "Moldova (Republic of)",
          "Turkmenistan",
          "Uzbekistan",
          "Libya",
          "Indonesia",
          "Samoa",
          "South Africa",
          "Bolivia (Plurinational State of)",
          "Gabon",
          "Egypt",
          "Marshall Islands",
          "Viet Nam",
          "Palestine, State of",
          "Iraq",
          "Morocco",
          "Kyrgyzstan",
          "Guyana",
          "El Salvador",
          "Tajikistan",
          "Cabo Verde",
          "Guatemala",
          "Nicaragua",
          "India",
          "Namibia",
          "Timor-Leste",
          "Honduras",
          "Kiribati",
          "Bhutan",
          "Bangladesh",
          "Micronesia (Federated States of)",
          "Sao Tome and Principe",
          "Congo",
          "Eswatini (Kingdom of)",
          "Lao People's Democratic Republic",
          "Vanuatu",
          "Ghana",
          "Zambia",
          "Equatorial Guinea",
          "Myanmar",
          "Cambodia",
          "Kenya",
          "Nepal",
          "Angola",
          "Cameroon",
          "Zimbabwe",
          "Pakistan",
          "Solomon Islands",
          "Syrian Arab Republic",
          "Papua New Guinea",
          "Comoros",
          "Rwanda",
          "Nigeria",
          "Tanzania (United Republic of)",
          "Uganda",
          "Mauritania",
          "Madagascar",
          "Benin",
          "Lesotho",
          "Côte d'Ivoire",
          "Senegal",
          "Togo",
          "Sudan",
          "Haiti",
          "Afghanistan",
          "Djibouti",
          "Malawi",
          "Ethiopia",
          "Gambia",
          "Guinea",
          "Liberia",
          "Yemen",
          "Guinea-Bissau",
          "Congo (Democratic Republic of the)",
          "Mozambique",
          "Sierra Leone",
          "Burkina Faso",
          "Eritrea",
          "Mali",
          "Burundi",
          "South Sudan",
          "Chad",
          "Central African Republic",
          "Niger"
         ],
         "legendgroup": "",
         "marker": {
          "color": [
           0,
           0,
           0,
           0,
           0,
           0,
           0,
           0,
           0,
           0,
           0,
           0,
           0,
           0,
           0,
           0,
           0,
           3,
           0,
           0,
           0,
           0,
           0,
           0,
           0,
           0,
           0,
           0,
           0,
           0,
           0,
           0,
           0,
           0,
           3,
           0,
           3,
           0,
           0,
           0,
           3,
           2,
           3,
           0,
           3,
           0,
           3,
           2,
           0,
           0,
           0,
           0,
           0,
           0,
           2,
           2,
           3,
           2,
           5,
           2,
           2,
           2,
           0,
           2,
           5,
           2,
           1,
           2,
           0,
           0,
           2,
           2,
           2,
           2,
           0,
           1,
           2,
           2,
           1,
           1,
           0,
           5,
           0,
           1,
           1,
           1,
           2,
           0,
           1,
           2,
           5,
           0,
           5,
           1,
           2,
           1,
           1,
           1,
           1,
           1,
           1,
           5,
           1,
           2,
           1,
           1,
           0,
           1,
           1,
           5,
           1,
           1,
           1,
           1,
           1,
           5,
           1,
           1,
           5,
           5,
           5,
           1,
           1,
           1,
           1,
           1,
           1,
           1,
           1,
           1,
           1,
           1,
           1,
           1,
           1,
           1,
           1,
           1,
           1,
           1,
           1,
           4,
           4,
           4,
           4,
           4,
           4,
           4,
           4,
           4,
           4,
           4,
           4,
           4,
           4,
           4,
           4,
           4,
           4,
           4,
           4,
           4,
           4,
           4,
           4,
           4,
           4,
           4,
           4,
           4,
           4,
           4,
           4,
           4,
           4,
           4,
           4,
           4,
           4,
           4,
           4,
           4,
           4,
           4,
           4,
           4,
           4,
           4,
           4
          ],
          "coloraxis": "coloraxis",
          "symbol": "circle"
         },
         "mode": "markers",
         "name": "",
         "showlegend": false,
         "type": "scatter",
         "x": [
          0,
          0,
          0,
          0,
          0,
          0,
          0,
          0,
          0,
          0,
          0,
          0,
          0,
          0,
          0,
          0,
          0,
          3,
          0,
          0,
          0,
          0,
          0,
          0,
          0,
          0,
          0,
          0,
          0,
          0,
          0,
          0,
          0,
          0,
          3,
          0,
          3,
          0,
          0,
          0,
          3,
          2,
          3,
          0,
          3,
          0,
          3,
          2,
          0,
          0,
          0,
          0,
          0,
          0,
          2,
          2,
          3,
          2,
          5,
          2,
          2,
          2,
          0,
          2,
          5,
          2,
          1,
          2,
          0,
          0,
          2,
          2,
          2,
          2,
          0,
          1,
          2,
          2,
          1,
          1,
          0,
          5,
          0,
          1,
          1,
          1,
          2,
          0,
          1,
          2,
          5,
          0,
          5,
          1,
          2,
          1,
          1,
          1,
          1,
          1,
          1,
          5,
          1,
          2,
          1,
          1,
          0,
          1,
          1,
          5,
          1,
          1,
          1,
          1,
          1,
          5,
          1,
          1,
          5,
          5,
          5,
          1,
          1,
          1,
          1,
          1,
          1,
          1,
          1,
          1,
          1,
          1,
          1,
          1,
          1,
          1,
          1,
          1,
          1,
          1,
          1,
          4,
          4,
          4,
          4,
          4,
          4,
          4,
          4,
          4,
          4,
          4,
          4,
          4,
          4,
          4,
          4,
          4,
          4,
          4,
          4,
          4,
          4,
          4,
          4,
          4,
          4,
          4,
          4,
          4,
          4,
          4,
          4,
          4,
          4,
          4,
          4,
          4,
          4,
          4,
          4,
          4,
          4,
          4,
          4,
          4,
          4,
          4,
          4
         ],
         "xaxis": "x",
         "y": [
          82.2,
          73.8,
          63.2,
          77.3,
          100,
          86,
          93.8,
          87.4,
          100,
          91.5,
          87.9,
          85.4,
          81.4,
          86.5,
          83.4,
          82.3,
          98,
          14.3,
          91.6,
          58.3,
          91,
          92.4,
          81.5,
          54.5,
          80.3,
          73.8,
          80.4,
          94.6,
          70.4,
          68.9,
          66.8,
          79.1,
          60.1,
          67.7,
          86.5,
          88.1,
          83.8,
          53.7,
          68.1,
          65.2,
          99.1,
          87.6,
          77.6,
          71.4,
          89.3,
          56.9,
          84.5,
          91.9,
          74.4,
          78.6,
          57.4,
          75,
          66.8,
          54,
          79.9,
          31.1,
          100,
          95.3,
          75.1,
          83,
          76,
          56.7,
          56.1,
          53.2,
          74.9,
          40.8,
          67.7,
          79.3,
          60.3,
          58.6,
          18.5,
          77,
          30.8,
          24.6,
          48.2,
          80.2,
          49.9,
          36.3,
          86.6,
          80.8,
          63.1,
          72.6,
          58,
          77.9,
          59.2,
          63.8,
          55.7,
          69.4,
          81.1,
          18.7,
          68.9,
          68.4,
          88.6,
          69.4,
          52.2,
          55.7,
          88.2,
          70.5,
          56.2,
          61.6,
          66.1,
          91,
          45.7,
          39.8,
          23.1,
          46.9,
          42.6,
          51.6,
          50.5,
          80.1,
          55.3,
          18.2,
          66.4,
          69.4,
          89.4,
          42.7,
          77,
          35.9,
          76.2,
          70.5,
          62.5,
          36.4,
          26.6,
          72,
          27.1,
          65.7,
          51.1,
          58.5,
          34,
          50,
          30.6,
          57.1,
          54.1,
          40.9,
          36.6,
          22.7,
          72.8,
          66.9,
          23.8,
          35,
          25.3,
          56.1,
          43.5,
          72.1,
          30.6,
          23.4,
          27,
          19.7,
          65.5,
          56.4,
          32.2,
          36.7,
          23.7,
          54.2,
          13.2,
          29,
          17.2,
          50.3,
          33.8,
          23.8,
          53.7,
          37.2,
          47.3,
          28.2,
          50.8,
          47.2,
          41.7,
          34.6,
          55.3,
          25.5,
          77.8,
          16.9,
          20.8,
          61.3,
          36.1,
          51.2,
          36.6,
          43.4,
          44.5,
          36,
          42.1,
          29.4,
          40.1,
          42.4,
          13,
          19.6,
          23.1,
          41.4,
          16.4
         ],
         "yaxis": "y"
        }
       ],
       "layout": {
        "coloraxis": {
         "colorbar": {
          "title": {
           "text": "Hierarchical Clusters"
          }
         },
         "colorscale": [
          [
           0,
           "#4B3F72"
          ],
          [
           0.25,
           "#AB81CD"
          ],
          [
           0.5,
           "#1F7A8C"
          ],
          [
           0.75,
           "#03B5AA"
          ],
          [
           1,
           "#A3E7FC"
          ]
         ]
        },
        "height": 600,
        "legend": {
         "tracegroupgap": 0
        },
        "margin": {
         "t": 60
        },
        "template": {
         "data": {
          "bar": [
           {
            "error_x": {
             "color": "#2a3f5f"
            },
            "error_y": {
             "color": "#2a3f5f"
            },
            "marker": {
             "line": {
              "color": "#E5ECF6",
              "width": 0.5
             }
            },
            "type": "bar"
           }
          ],
          "barpolar": [
           {
            "marker": {
             "line": {
              "color": "#E5ECF6",
              "width": 0.5
             }
            },
            "type": "barpolar"
           }
          ],
          "carpet": [
           {
            "aaxis": {
             "endlinecolor": "#2a3f5f",
             "gridcolor": "white",
             "linecolor": "white",
             "minorgridcolor": "white",
             "startlinecolor": "#2a3f5f"
            },
            "baxis": {
             "endlinecolor": "#2a3f5f",
             "gridcolor": "white",
             "linecolor": "white",
             "minorgridcolor": "white",
             "startlinecolor": "#2a3f5f"
            },
            "type": "carpet"
           }
          ],
          "choropleth": [
           {
            "colorbar": {
             "outlinewidth": 0,
             "ticks": ""
            },
            "type": "choropleth"
           }
          ],
          "contour": [
           {
            "colorbar": {
             "outlinewidth": 0,
             "ticks": ""
            },
            "colorscale": [
             [
              0,
              "#0d0887"
             ],
             [
              0.1111111111111111,
              "#46039f"
             ],
             [
              0.2222222222222222,
              "#7201a8"
             ],
             [
              0.3333333333333333,
              "#9c179e"
             ],
             [
              0.4444444444444444,
              "#bd3786"
             ],
             [
              0.5555555555555556,
              "#d8576b"
             ],
             [
              0.6666666666666666,
              "#ed7953"
             ],
             [
              0.7777777777777778,
              "#fb9f3a"
             ],
             [
              0.8888888888888888,
              "#fdca26"
             ],
             [
              1,
              "#f0f921"
             ]
            ],
            "type": "contour"
           }
          ],
          "contourcarpet": [
           {
            "colorbar": {
             "outlinewidth": 0,
             "ticks": ""
            },
            "type": "contourcarpet"
           }
          ],
          "heatmap": [
           {
            "colorbar": {
             "outlinewidth": 0,
             "ticks": ""
            },
            "colorscale": [
             [
              0,
              "#0d0887"
             ],
             [
              0.1111111111111111,
              "#46039f"
             ],
             [
              0.2222222222222222,
              "#7201a8"
             ],
             [
              0.3333333333333333,
              "#9c179e"
             ],
             [
              0.4444444444444444,
              "#bd3786"
             ],
             [
              0.5555555555555556,
              "#d8576b"
             ],
             [
              0.6666666666666666,
              "#ed7953"
             ],
             [
              0.7777777777777778,
              "#fb9f3a"
             ],
             [
              0.8888888888888888,
              "#fdca26"
             ],
             [
              1,
              "#f0f921"
             ]
            ],
            "type": "heatmap"
           }
          ],
          "heatmapgl": [
           {
            "colorbar": {
             "outlinewidth": 0,
             "ticks": ""
            },
            "colorscale": [
             [
              0,
              "#0d0887"
             ],
             [
              0.1111111111111111,
              "#46039f"
             ],
             [
              0.2222222222222222,
              "#7201a8"
             ],
             [
              0.3333333333333333,
              "#9c179e"
             ],
             [
              0.4444444444444444,
              "#bd3786"
             ],
             [
              0.5555555555555556,
              "#d8576b"
             ],
             [
              0.6666666666666666,
              "#ed7953"
             ],
             [
              0.7777777777777778,
              "#fb9f3a"
             ],
             [
              0.8888888888888888,
              "#fdca26"
             ],
             [
              1,
              "#f0f921"
             ]
            ],
            "type": "heatmapgl"
           }
          ],
          "histogram": [
           {
            "marker": {
             "colorbar": {
              "outlinewidth": 0,
              "ticks": ""
             }
            },
            "type": "histogram"
           }
          ],
          "histogram2d": [
           {
            "colorbar": {
             "outlinewidth": 0,
             "ticks": ""
            },
            "colorscale": [
             [
              0,
              "#0d0887"
             ],
             [
              0.1111111111111111,
              "#46039f"
             ],
             [
              0.2222222222222222,
              "#7201a8"
             ],
             [
              0.3333333333333333,
              "#9c179e"
             ],
             [
              0.4444444444444444,
              "#bd3786"
             ],
             [
              0.5555555555555556,
              "#d8576b"
             ],
             [
              0.6666666666666666,
              "#ed7953"
             ],
             [
              0.7777777777777778,
              "#fb9f3a"
             ],
             [
              0.8888888888888888,
              "#fdca26"
             ],
             [
              1,
              "#f0f921"
             ]
            ],
            "type": "histogram2d"
           }
          ],
          "histogram2dcontour": [
           {
            "colorbar": {
             "outlinewidth": 0,
             "ticks": ""
            },
            "colorscale": [
             [
              0,
              "#0d0887"
             ],
             [
              0.1111111111111111,
              "#46039f"
             ],
             [
              0.2222222222222222,
              "#7201a8"
             ],
             [
              0.3333333333333333,
              "#9c179e"
             ],
             [
              0.4444444444444444,
              "#bd3786"
             ],
             [
              0.5555555555555556,
              "#d8576b"
             ],
             [
              0.6666666666666666,
              "#ed7953"
             ],
             [
              0.7777777777777778,
              "#fb9f3a"
             ],
             [
              0.8888888888888888,
              "#fdca26"
             ],
             [
              1,
              "#f0f921"
             ]
            ],
            "type": "histogram2dcontour"
           }
          ],
          "mesh3d": [
           {
            "colorbar": {
             "outlinewidth": 0,
             "ticks": ""
            },
            "type": "mesh3d"
           }
          ],
          "parcoords": [
           {
            "line": {
             "colorbar": {
              "outlinewidth": 0,
              "ticks": ""
             }
            },
            "type": "parcoords"
           }
          ],
          "pie": [
           {
            "automargin": true,
            "type": "pie"
           }
          ],
          "scatter": [
           {
            "marker": {
             "colorbar": {
              "outlinewidth": 0,
              "ticks": ""
             }
            },
            "type": "scatter"
           }
          ],
          "scatter3d": [
           {
            "line": {
             "colorbar": {
              "outlinewidth": 0,
              "ticks": ""
             }
            },
            "marker": {
             "colorbar": {
              "outlinewidth": 0,
              "ticks": ""
             }
            },
            "type": "scatter3d"
           }
          ],
          "scattercarpet": [
           {
            "marker": {
             "colorbar": {
              "outlinewidth": 0,
              "ticks": ""
             }
            },
            "type": "scattercarpet"
           }
          ],
          "scattergeo": [
           {
            "marker": {
             "colorbar": {
              "outlinewidth": 0,
              "ticks": ""
             }
            },
            "type": "scattergeo"
           }
          ],
          "scattergl": [
           {
            "marker": {
             "colorbar": {
              "outlinewidth": 0,
              "ticks": ""
             }
            },
            "type": "scattergl"
           }
          ],
          "scattermapbox": [
           {
            "marker": {
             "colorbar": {
              "outlinewidth": 0,
              "ticks": ""
             }
            },
            "type": "scattermapbox"
           }
          ],
          "scatterpolar": [
           {
            "marker": {
             "colorbar": {
              "outlinewidth": 0,
              "ticks": ""
             }
            },
            "type": "scatterpolar"
           }
          ],
          "scatterpolargl": [
           {
            "marker": {
             "colorbar": {
              "outlinewidth": 0,
              "ticks": ""
             }
            },
            "type": "scatterpolargl"
           }
          ],
          "scatterternary": [
           {
            "marker": {
             "colorbar": {
              "outlinewidth": 0,
              "ticks": ""
             }
            },
            "type": "scatterternary"
           }
          ],
          "surface": [
           {
            "colorbar": {
             "outlinewidth": 0,
             "ticks": ""
            },
            "colorscale": [
             [
              0,
              "#0d0887"
             ],
             [
              0.1111111111111111,
              "#46039f"
             ],
             [
              0.2222222222222222,
              "#7201a8"
             ],
             [
              0.3333333333333333,
              "#9c179e"
             ],
             [
              0.4444444444444444,
              "#bd3786"
             ],
             [
              0.5555555555555556,
              "#d8576b"
             ],
             [
              0.6666666666666666,
              "#ed7953"
             ],
             [
              0.7777777777777778,
              "#fb9f3a"
             ],
             [
              0.8888888888888888,
              "#fdca26"
             ],
             [
              1,
              "#f0f921"
             ]
            ],
            "type": "surface"
           }
          ],
          "table": [
           {
            "cells": {
             "fill": {
              "color": "#EBF0F8"
             },
             "line": {
              "color": "white"
             }
            },
            "header": {
             "fill": {
              "color": "#C8D4E3"
             },
             "line": {
              "color": "white"
             }
            },
            "type": "table"
           }
          ]
         },
         "layout": {
          "annotationdefaults": {
           "arrowcolor": "#2a3f5f",
           "arrowhead": 0,
           "arrowwidth": 1
          },
          "coloraxis": {
           "colorbar": {
            "outlinewidth": 0,
            "ticks": ""
           }
          },
          "colorscale": {
           "diverging": [
            [
             0,
             "#8e0152"
            ],
            [
             0.1,
             "#c51b7d"
            ],
            [
             0.2,
             "#de77ae"
            ],
            [
             0.3,
             "#f1b6da"
            ],
            [
             0.4,
             "#fde0ef"
            ],
            [
             0.5,
             "#f7f7f7"
            ],
            [
             0.6,
             "#e6f5d0"
            ],
            [
             0.7,
             "#b8e186"
            ],
            [
             0.8,
             "#7fbc41"
            ],
            [
             0.9,
             "#4d9221"
            ],
            [
             1,
             "#276419"
            ]
           ],
           "sequential": [
            [
             0,
             "#0d0887"
            ],
            [
             0.1111111111111111,
             "#46039f"
            ],
            [
             0.2222222222222222,
             "#7201a8"
            ],
            [
             0.3333333333333333,
             "#9c179e"
            ],
            [
             0.4444444444444444,
             "#bd3786"
            ],
            [
             0.5555555555555556,
             "#d8576b"
            ],
            [
             0.6666666666666666,
             "#ed7953"
            ],
            [
             0.7777777777777778,
             "#fb9f3a"
            ],
            [
             0.8888888888888888,
             "#fdca26"
            ],
            [
             1,
             "#f0f921"
            ]
           ],
           "sequentialminus": [
            [
             0,
             "#0d0887"
            ],
            [
             0.1111111111111111,
             "#46039f"
            ],
            [
             0.2222222222222222,
             "#7201a8"
            ],
            [
             0.3333333333333333,
             "#9c179e"
            ],
            [
             0.4444444444444444,
             "#bd3786"
            ],
            [
             0.5555555555555556,
             "#d8576b"
            ],
            [
             0.6666666666666666,
             "#ed7953"
            ],
            [
             0.7777777777777778,
             "#fb9f3a"
            ],
            [
             0.8888888888888888,
             "#fdca26"
            ],
            [
             1,
             "#f0f921"
            ]
           ]
          },
          "colorway": [
           "#636efa",
           "#EF553B",
           "#00cc96",
           "#ab63fa",
           "#FFA15A",
           "#19d3f3",
           "#FF6692",
           "#B6E880",
           "#FF97FF",
           "#FECB52"
          ],
          "font": {
           "color": "#2a3f5f"
          },
          "geo": {
           "bgcolor": "white",
           "lakecolor": "white",
           "landcolor": "#E5ECF6",
           "showlakes": true,
           "showland": true,
           "subunitcolor": "white"
          },
          "hoverlabel": {
           "align": "left"
          },
          "hovermode": "closest",
          "mapbox": {
           "style": "light"
          },
          "paper_bgcolor": "white",
          "plot_bgcolor": "#E5ECF6",
          "polar": {
           "angularaxis": {
            "gridcolor": "white",
            "linecolor": "white",
            "ticks": ""
           },
           "bgcolor": "#E5ECF6",
           "radialaxis": {
            "gridcolor": "white",
            "linecolor": "white",
            "ticks": ""
           }
          },
          "scene": {
           "xaxis": {
            "backgroundcolor": "#E5ECF6",
            "gridcolor": "white",
            "gridwidth": 2,
            "linecolor": "white",
            "showbackground": true,
            "ticks": "",
            "zerolinecolor": "white"
           },
           "yaxis": {
            "backgroundcolor": "#E5ECF6",
            "gridcolor": "white",
            "gridwidth": 2,
            "linecolor": "white",
            "showbackground": true,
            "ticks": "",
            "zerolinecolor": "white"
           },
           "zaxis": {
            "backgroundcolor": "#E5ECF6",
            "gridcolor": "white",
            "gridwidth": 2,
            "linecolor": "white",
            "showbackground": true,
            "ticks": "",
            "zerolinecolor": "white"
           }
          },
          "shapedefaults": {
           "line": {
            "color": "#2a3f5f"
           }
          },
          "ternary": {
           "aaxis": {
            "gridcolor": "white",
            "linecolor": "white",
            "ticks": ""
           },
           "baxis": {
            "gridcolor": "white",
            "linecolor": "white",
            "ticks": ""
           },
           "bgcolor": "#E5ECF6",
           "caxis": {
            "gridcolor": "white",
            "linecolor": "white",
            "ticks": ""
           }
          },
          "title": {
           "x": 0.05
          },
          "xaxis": {
           "automargin": true,
           "gridcolor": "white",
           "linecolor": "white",
           "ticks": "",
           "title": {
            "standoff": 15
           },
           "zerolinecolor": "white",
           "zerolinewidth": 2
          },
          "yaxis": {
           "automargin": true,
           "gridcolor": "white",
           "linecolor": "white",
           "ticks": "",
           "title": {
            "standoff": 15
           },
           "zerolinecolor": "white",
           "zerolinewidth": 2
          }
         }
        },
        "xaxis": {
         "anchor": "y",
         "domain": [
          0,
          1
         ],
         "title": {
          "text": "Hierarchical Clusters"
         }
        },
        "yaxis": {
         "anchor": "x",
         "domain": [
          0,
          1
         ],
         "title": {
          "text": "% Living in an Urban Area"
         }
        }
       }
      },
      "text/html": [
       "<div>\n",
       "        \n",
       "        \n",
       "            <div id=\"1df9079a-6569-49ab-b788-aeaad599d673\" class=\"plotly-graph-div\" style=\"height:600px; width:100%;\"></div>\n",
       "            <script type=\"text/javascript\">\n",
       "                require([\"plotly\"], function(Plotly) {\n",
       "                    window.PLOTLYENV=window.PLOTLYENV || {};\n",
       "                    \n",
       "                if (document.getElementById(\"1df9079a-6569-49ab-b788-aeaad599d673\")) {\n",
       "                    Plotly.newPlot(\n",
       "                        '1df9079a-6569-49ab-b788-aeaad599d673',\n",
       "                        [{\"hoverlabel\": {\"namelength\": 0}, \"hovertemplate\": \"<b>%{hovertext}</b><br><br>Hierarchical Clusters=%{marker.color}<br>% Living in an Urban Area=%{y}\", \"hovertext\": [\"Norway\", \"Switzerland\", \"Ireland\", \"Germany\", \"Hong Kong, China (SAR)\", \"Australia\", \"Iceland\", \"Sweden\", \"Singapore\", \"Netherlands\", \"Denmark\", \"Finland\", \"Canada\", \"New Zealand\", \"United Kingdom\", \"United States\", \"Belgium\", \"Liechtenstein\", \"Japan\", \"Austria\", \"Luxembourg\", \"Israel\", \"Korea (Republic of)\", \"Slovenia\", \"Spain\", \"Czechia\", \"France\", \"Malta\", \"Italy\", \"Estonia\", \"Cyprus\", \"Greece\", \"Poland\", \"Lithuania\", \"United Arab Emirates\", \"Andorra\", \"Saudi Arabia\", \"Slovakia\", \"Latvia\", \"Portugal\", \"Qatar\", \"Chile\", \"Brunei Darussalam\", \"Hungary\", \"Bahrain\", \"Croatia\", \"Oman\", \"Argentina\", \"Russian Federation\", \"Belarus\", \"Kazakhstan\", \"Bulgaria\", \"Montenegro\", \"Romania\", \"Palau\", \"Barbados\", \"Kuwait\", \"Uruguay\", \"Turkey\", \"Bahamas\", \"Malaysia\", \"Seychelles\", \"Serbia\", \"Trinidad and Tobago\", \"Iran (Islamic Republic of)\", \"Mauritius\", \"Panama\", \"Costa Rica\", \"Albania\", \"Georgia\", \"Sri Lanka\", \"Cuba\", \"Saint Kitts and Nevis\", \"Antigua and Barbuda\", \"Bosnia and Herzegovina\", \"Mexico\", \"Thailand\", \"Grenada\", \"Brazil\", \"Colombia\", \"Armenia\", \"Algeria\", \"North Macedonia\", \"Peru\", \"China\", \"Ecuador\", \"Azerbaijan\", \"Ukraine\", \"Dominican Republic\", \"Saint Lucia\", \"Tunisia\", \"Mongolia\", \"Lebanon\", \"Botswana\", \"Saint Vincent and the Grenadines\", \"Jamaica\", \"Venezuela (Bolivarian Republic of)\", \"Dominica\", \"Fiji\", \"Paraguay\", \"Suriname\", \"Jordan\", \"Belize\", \"Maldives\", \"Tonga\", \"Philippines\", \"Moldova (Republic of)\", \"Turkmenistan\", \"Uzbekistan\", \"Libya\", \"Indonesia\", \"Samoa\", \"South Africa\", \"Bolivia (Plurinational State of)\", \"Gabon\", \"Egypt\", \"Marshall Islands\", \"Viet Nam\", \"Palestine, State of\", \"Iraq\", \"Morocco\", \"Kyrgyzstan\", \"Guyana\", \"El Salvador\", \"Tajikistan\", \"Cabo Verde\", \"Guatemala\", \"Nicaragua\", \"India\", \"Namibia\", \"Timor-Leste\", \"Honduras\", \"Kiribati\", \"Bhutan\", \"Bangladesh\", \"Micronesia (Federated States of)\", \"Sao Tome and Principe\", \"Congo\", \"Eswatini (Kingdom of)\", \"Lao People's Democratic Republic\", \"Vanuatu\", \"Ghana\", \"Zambia\", \"Equatorial Guinea\", \"Myanmar\", \"Cambodia\", \"Kenya\", \"Nepal\", \"Angola\", \"Cameroon\", \"Zimbabwe\", \"Pakistan\", \"Solomon Islands\", \"Syrian Arab Republic\", \"Papua New Guinea\", \"Comoros\", \"Rwanda\", \"Nigeria\", \"Tanzania (United Republic of)\", \"Uganda\", \"Mauritania\", \"Madagascar\", \"Benin\", \"Lesotho\", \"C\\u00f4te d'Ivoire\", \"Senegal\", \"Togo\", \"Sudan\", \"Haiti\", \"Afghanistan\", \"Djibouti\", \"Malawi\", \"Ethiopia\", \"Gambia\", \"Guinea\", \"Liberia\", \"Yemen\", \"Guinea-Bissau\", \"Congo (Democratic Republic of the)\", \"Mozambique\", \"Sierra Leone\", \"Burkina Faso\", \"Eritrea\", \"Mali\", \"Burundi\", \"South Sudan\", \"Chad\", \"Central African Republic\", \"Niger\"], \"legendgroup\": \"\", \"marker\": {\"color\": [0, 0, 0, 0, 0, 0, 0, 0, 0, 0, 0, 0, 0, 0, 0, 0, 0, 3, 0, 0, 0, 0, 0, 0, 0, 0, 0, 0, 0, 0, 0, 0, 0, 0, 3, 0, 3, 0, 0, 0, 3, 2, 3, 0, 3, 0, 3, 2, 0, 0, 0, 0, 0, 0, 2, 2, 3, 2, 5, 2, 2, 2, 0, 2, 5, 2, 1, 2, 0, 0, 2, 2, 2, 2, 0, 1, 2, 2, 1, 1, 0, 5, 0, 1, 1, 1, 2, 0, 1, 2, 5, 0, 5, 1, 2, 1, 1, 1, 1, 1, 1, 5, 1, 2, 1, 1, 0, 1, 1, 5, 1, 1, 1, 1, 1, 5, 1, 1, 5, 5, 5, 1, 1, 1, 1, 1, 1, 1, 1, 1, 1, 1, 1, 1, 1, 1, 1, 1, 1, 1, 1, 4, 4, 4, 4, 4, 4, 4, 4, 4, 4, 4, 4, 4, 4, 4, 4, 4, 4, 4, 4, 4, 4, 4, 4, 4, 4, 4, 4, 4, 4, 4, 4, 4, 4, 4, 4, 4, 4, 4, 4, 4, 4, 4, 4, 4, 4, 4, 4], \"coloraxis\": \"coloraxis\", \"symbol\": \"circle\"}, \"mode\": \"markers\", \"name\": \"\", \"showlegend\": false, \"type\": \"scatter\", \"x\": [0, 0, 0, 0, 0, 0, 0, 0, 0, 0, 0, 0, 0, 0, 0, 0, 0, 3, 0, 0, 0, 0, 0, 0, 0, 0, 0, 0, 0, 0, 0, 0, 0, 0, 3, 0, 3, 0, 0, 0, 3, 2, 3, 0, 3, 0, 3, 2, 0, 0, 0, 0, 0, 0, 2, 2, 3, 2, 5, 2, 2, 2, 0, 2, 5, 2, 1, 2, 0, 0, 2, 2, 2, 2, 0, 1, 2, 2, 1, 1, 0, 5, 0, 1, 1, 1, 2, 0, 1, 2, 5, 0, 5, 1, 2, 1, 1, 1, 1, 1, 1, 5, 1, 2, 1, 1, 0, 1, 1, 5, 1, 1, 1, 1, 1, 5, 1, 1, 5, 5, 5, 1, 1, 1, 1, 1, 1, 1, 1, 1, 1, 1, 1, 1, 1, 1, 1, 1, 1, 1, 1, 4, 4, 4, 4, 4, 4, 4, 4, 4, 4, 4, 4, 4, 4, 4, 4, 4, 4, 4, 4, 4, 4, 4, 4, 4, 4, 4, 4, 4, 4, 4, 4, 4, 4, 4, 4, 4, 4, 4, 4, 4, 4, 4, 4, 4, 4, 4, 4], \"xaxis\": \"x\", \"y\": [82.2, 73.8, 63.2, 77.3, 100.0, 86.0, 93.8, 87.4, 100.0, 91.5, 87.9, 85.4, 81.4, 86.5, 83.4, 82.3, 98.0, 14.3, 91.6, 58.3, 91.0, 92.4, 81.5, 54.5, 80.3, 73.8, 80.4, 94.6, 70.4, 68.9, 66.8, 79.1, 60.1, 67.7, 86.5, 88.1, 83.8, 53.7, 68.1, 65.2, 99.1, 87.6, 77.6, 71.4, 89.3, 56.9, 84.5, 91.9, 74.4, 78.6, 57.4, 75.0, 66.8, 54.0, 79.9, 31.1, 100.0, 95.3, 75.1, 83.0, 76.0, 56.7, 56.1, 53.2, 74.9, 40.8, 67.7, 79.3, 60.3, 58.6, 18.5, 77.0, 30.8, 24.6, 48.2, 80.2, 49.9, 36.3, 86.6, 80.8, 63.1, 72.6, 58.0, 77.9, 59.2, 63.8, 55.7, 69.4, 81.1, 18.7, 68.9, 68.4, 88.6, 69.4, 52.2, 55.7, 88.2, 70.5, 56.2, 61.6, 66.1, 91.0, 45.7, 39.8, 23.1, 46.9, 42.6, 51.6, 50.5, 80.1, 55.3, 18.2, 66.4, 69.4, 89.4, 42.7, 77.0, 35.9, 76.2, 70.5, 62.5, 36.4, 26.6, 72.0, 27.1, 65.7, 51.1, 58.5, 34.0, 50.0, 30.6, 57.1, 54.1, 40.9, 36.6, 22.7, 72.8, 66.9, 23.8, 35.0, 25.3, 56.1, 43.5, 72.1, 30.6, 23.4, 27.0, 19.7, 65.5, 56.4, 32.2, 36.7, 23.7, 54.2, 13.2, 29.0, 17.2, 50.3, 33.8, 23.8, 53.7, 37.2, 47.3, 28.2, 50.8, 47.2, 41.7, 34.6, 55.3, 25.5, 77.8, 16.9, 20.8, 61.3, 36.1, 51.2, 36.6, 43.4, 44.5, 36.0, 42.1, 29.4, 40.1, 42.4, 13.0, 19.6, 23.1, 41.4, 16.4], \"yaxis\": \"y\"}],\n",
       "                        {\"coloraxis\": {\"colorbar\": {\"title\": {\"text\": \"Hierarchical Clusters\"}}, \"colorscale\": [[0.0, \"#4B3F72\"], [0.25, \"#AB81CD\"], [0.5, \"#1F7A8C\"], [0.75, \"#03B5AA\"], [1.0, \"#A3E7FC\"]]}, \"height\": 600, \"legend\": {\"tracegroupgap\": 0}, \"margin\": {\"t\": 60}, \"template\": {\"data\": {\"bar\": [{\"error_x\": {\"color\": \"#2a3f5f\"}, \"error_y\": {\"color\": \"#2a3f5f\"}, \"marker\": {\"line\": {\"color\": \"#E5ECF6\", \"width\": 0.5}}, \"type\": \"bar\"}], \"barpolar\": [{\"marker\": {\"line\": {\"color\": \"#E5ECF6\", \"width\": 0.5}}, \"type\": \"barpolar\"}], \"carpet\": [{\"aaxis\": {\"endlinecolor\": \"#2a3f5f\", \"gridcolor\": \"white\", \"linecolor\": \"white\", \"minorgridcolor\": \"white\", \"startlinecolor\": \"#2a3f5f\"}, \"baxis\": {\"endlinecolor\": \"#2a3f5f\", \"gridcolor\": \"white\", \"linecolor\": \"white\", \"minorgridcolor\": \"white\", \"startlinecolor\": \"#2a3f5f\"}, \"type\": \"carpet\"}], \"choropleth\": [{\"colorbar\": {\"outlinewidth\": 0, \"ticks\": \"\"}, \"type\": \"choropleth\"}], \"contour\": [{\"colorbar\": {\"outlinewidth\": 0, \"ticks\": \"\"}, \"colorscale\": [[0.0, \"#0d0887\"], [0.1111111111111111, \"#46039f\"], [0.2222222222222222, \"#7201a8\"], [0.3333333333333333, \"#9c179e\"], [0.4444444444444444, \"#bd3786\"], [0.5555555555555556, \"#d8576b\"], [0.6666666666666666, \"#ed7953\"], [0.7777777777777778, \"#fb9f3a\"], [0.8888888888888888, \"#fdca26\"], [1.0, \"#f0f921\"]], \"type\": \"contour\"}], \"contourcarpet\": [{\"colorbar\": {\"outlinewidth\": 0, \"ticks\": \"\"}, \"type\": \"contourcarpet\"}], \"heatmap\": [{\"colorbar\": {\"outlinewidth\": 0, \"ticks\": \"\"}, \"colorscale\": [[0.0, \"#0d0887\"], [0.1111111111111111, \"#46039f\"], [0.2222222222222222, \"#7201a8\"], [0.3333333333333333, \"#9c179e\"], [0.4444444444444444, \"#bd3786\"], [0.5555555555555556, \"#d8576b\"], [0.6666666666666666, \"#ed7953\"], [0.7777777777777778, \"#fb9f3a\"], [0.8888888888888888, \"#fdca26\"], [1.0, \"#f0f921\"]], \"type\": \"heatmap\"}], \"heatmapgl\": [{\"colorbar\": {\"outlinewidth\": 0, \"ticks\": \"\"}, \"colorscale\": [[0.0, \"#0d0887\"], [0.1111111111111111, \"#46039f\"], [0.2222222222222222, \"#7201a8\"], [0.3333333333333333, \"#9c179e\"], [0.4444444444444444, \"#bd3786\"], [0.5555555555555556, \"#d8576b\"], [0.6666666666666666, \"#ed7953\"], [0.7777777777777778, \"#fb9f3a\"], [0.8888888888888888, \"#fdca26\"], [1.0, \"#f0f921\"]], \"type\": \"heatmapgl\"}], \"histogram\": [{\"marker\": {\"colorbar\": {\"outlinewidth\": 0, \"ticks\": \"\"}}, \"type\": \"histogram\"}], \"histogram2d\": [{\"colorbar\": {\"outlinewidth\": 0, \"ticks\": \"\"}, \"colorscale\": [[0.0, \"#0d0887\"], [0.1111111111111111, \"#46039f\"], [0.2222222222222222, \"#7201a8\"], [0.3333333333333333, \"#9c179e\"], [0.4444444444444444, \"#bd3786\"], [0.5555555555555556, \"#d8576b\"], [0.6666666666666666, \"#ed7953\"], [0.7777777777777778, \"#fb9f3a\"], [0.8888888888888888, \"#fdca26\"], [1.0, \"#f0f921\"]], \"type\": \"histogram2d\"}], \"histogram2dcontour\": [{\"colorbar\": {\"outlinewidth\": 0, \"ticks\": \"\"}, \"colorscale\": [[0.0, \"#0d0887\"], [0.1111111111111111, \"#46039f\"], [0.2222222222222222, \"#7201a8\"], [0.3333333333333333, \"#9c179e\"], [0.4444444444444444, \"#bd3786\"], [0.5555555555555556, \"#d8576b\"], [0.6666666666666666, \"#ed7953\"], [0.7777777777777778, \"#fb9f3a\"], [0.8888888888888888, \"#fdca26\"], [1.0, \"#f0f921\"]], \"type\": \"histogram2dcontour\"}], \"mesh3d\": [{\"colorbar\": {\"outlinewidth\": 0, \"ticks\": \"\"}, \"type\": \"mesh3d\"}], \"parcoords\": [{\"line\": {\"colorbar\": {\"outlinewidth\": 0, \"ticks\": \"\"}}, \"type\": \"parcoords\"}], \"pie\": [{\"automargin\": true, \"type\": \"pie\"}], \"scatter\": [{\"marker\": {\"colorbar\": {\"outlinewidth\": 0, \"ticks\": \"\"}}, \"type\": \"scatter\"}], \"scatter3d\": [{\"line\": {\"colorbar\": {\"outlinewidth\": 0, \"ticks\": \"\"}}, \"marker\": {\"colorbar\": {\"outlinewidth\": 0, \"ticks\": \"\"}}, \"type\": \"scatter3d\"}], \"scattercarpet\": [{\"marker\": {\"colorbar\": {\"outlinewidth\": 0, \"ticks\": \"\"}}, \"type\": \"scattercarpet\"}], \"scattergeo\": [{\"marker\": {\"colorbar\": {\"outlinewidth\": 0, \"ticks\": \"\"}}, \"type\": \"scattergeo\"}], \"scattergl\": [{\"marker\": {\"colorbar\": {\"outlinewidth\": 0, \"ticks\": \"\"}}, \"type\": \"scattergl\"}], \"scattermapbox\": [{\"marker\": {\"colorbar\": {\"outlinewidth\": 0, \"ticks\": \"\"}}, \"type\": \"scattermapbox\"}], \"scatterpolar\": [{\"marker\": {\"colorbar\": {\"outlinewidth\": 0, \"ticks\": \"\"}}, \"type\": \"scatterpolar\"}], \"scatterpolargl\": [{\"marker\": {\"colorbar\": {\"outlinewidth\": 0, \"ticks\": \"\"}}, \"type\": \"scatterpolargl\"}], \"scatterternary\": [{\"marker\": {\"colorbar\": {\"outlinewidth\": 0, \"ticks\": \"\"}}, \"type\": \"scatterternary\"}], \"surface\": [{\"colorbar\": {\"outlinewidth\": 0, \"ticks\": \"\"}, \"colorscale\": [[0.0, \"#0d0887\"], [0.1111111111111111, \"#46039f\"], [0.2222222222222222, \"#7201a8\"], [0.3333333333333333, \"#9c179e\"], [0.4444444444444444, \"#bd3786\"], [0.5555555555555556, \"#d8576b\"], [0.6666666666666666, \"#ed7953\"], [0.7777777777777778, \"#fb9f3a\"], [0.8888888888888888, \"#fdca26\"], [1.0, \"#f0f921\"]], \"type\": \"surface\"}], \"table\": [{\"cells\": {\"fill\": {\"color\": \"#EBF0F8\"}, \"line\": {\"color\": \"white\"}}, \"header\": {\"fill\": {\"color\": \"#C8D4E3\"}, \"line\": {\"color\": \"white\"}}, \"type\": \"table\"}]}, \"layout\": {\"annotationdefaults\": {\"arrowcolor\": \"#2a3f5f\", \"arrowhead\": 0, \"arrowwidth\": 1}, \"coloraxis\": {\"colorbar\": {\"outlinewidth\": 0, \"ticks\": \"\"}}, \"colorscale\": {\"diverging\": [[0, \"#8e0152\"], [0.1, \"#c51b7d\"], [0.2, \"#de77ae\"], [0.3, \"#f1b6da\"], [0.4, \"#fde0ef\"], [0.5, \"#f7f7f7\"], [0.6, \"#e6f5d0\"], [0.7, \"#b8e186\"], [0.8, \"#7fbc41\"], [0.9, \"#4d9221\"], [1, \"#276419\"]], \"sequential\": [[0.0, \"#0d0887\"], [0.1111111111111111, \"#46039f\"], [0.2222222222222222, \"#7201a8\"], [0.3333333333333333, \"#9c179e\"], [0.4444444444444444, \"#bd3786\"], [0.5555555555555556, \"#d8576b\"], [0.6666666666666666, \"#ed7953\"], [0.7777777777777778, \"#fb9f3a\"], [0.8888888888888888, \"#fdca26\"], [1.0, \"#f0f921\"]], \"sequentialminus\": [[0.0, \"#0d0887\"], [0.1111111111111111, \"#46039f\"], [0.2222222222222222, \"#7201a8\"], [0.3333333333333333, \"#9c179e\"], [0.4444444444444444, \"#bd3786\"], [0.5555555555555556, \"#d8576b\"], [0.6666666666666666, \"#ed7953\"], [0.7777777777777778, \"#fb9f3a\"], [0.8888888888888888, \"#fdca26\"], [1.0, \"#f0f921\"]]}, \"colorway\": [\"#636efa\", \"#EF553B\", \"#00cc96\", \"#ab63fa\", \"#FFA15A\", \"#19d3f3\", \"#FF6692\", \"#B6E880\", \"#FF97FF\", \"#FECB52\"], \"font\": {\"color\": \"#2a3f5f\"}, \"geo\": {\"bgcolor\": \"white\", \"lakecolor\": \"white\", \"landcolor\": \"#E5ECF6\", \"showlakes\": true, \"showland\": true, \"subunitcolor\": \"white\"}, \"hoverlabel\": {\"align\": \"left\"}, \"hovermode\": \"closest\", \"mapbox\": {\"style\": \"light\"}, \"paper_bgcolor\": \"white\", \"plot_bgcolor\": \"#E5ECF6\", \"polar\": {\"angularaxis\": {\"gridcolor\": \"white\", \"linecolor\": \"white\", \"ticks\": \"\"}, \"bgcolor\": \"#E5ECF6\", \"radialaxis\": {\"gridcolor\": \"white\", \"linecolor\": \"white\", \"ticks\": \"\"}}, \"scene\": {\"xaxis\": {\"backgroundcolor\": \"#E5ECF6\", \"gridcolor\": \"white\", \"gridwidth\": 2, \"linecolor\": \"white\", \"showbackground\": true, \"ticks\": \"\", \"zerolinecolor\": \"white\"}, \"yaxis\": {\"backgroundcolor\": \"#E5ECF6\", \"gridcolor\": \"white\", \"gridwidth\": 2, \"linecolor\": \"white\", \"showbackground\": true, \"ticks\": \"\", \"zerolinecolor\": \"white\"}, \"zaxis\": {\"backgroundcolor\": \"#E5ECF6\", \"gridcolor\": \"white\", \"gridwidth\": 2, \"linecolor\": \"white\", \"showbackground\": true, \"ticks\": \"\", \"zerolinecolor\": \"white\"}}, \"shapedefaults\": {\"line\": {\"color\": \"#2a3f5f\"}}, \"ternary\": {\"aaxis\": {\"gridcolor\": \"white\", \"linecolor\": \"white\", \"ticks\": \"\"}, \"baxis\": {\"gridcolor\": \"white\", \"linecolor\": \"white\", \"ticks\": \"\"}, \"bgcolor\": \"#E5ECF6\", \"caxis\": {\"gridcolor\": \"white\", \"linecolor\": \"white\", \"ticks\": \"\"}}, \"title\": {\"x\": 0.05}, \"xaxis\": {\"automargin\": true, \"gridcolor\": \"white\", \"linecolor\": \"white\", \"ticks\": \"\", \"title\": {\"standoff\": 15}, \"zerolinecolor\": \"white\", \"zerolinewidth\": 2}, \"yaxis\": {\"automargin\": true, \"gridcolor\": \"white\", \"linecolor\": \"white\", \"ticks\": \"\", \"title\": {\"standoff\": 15}, \"zerolinecolor\": \"white\", \"zerolinewidth\": 2}}}, \"xaxis\": {\"anchor\": \"y\", \"domain\": [0.0, 1.0], \"title\": {\"text\": \"Hierarchical Clusters\"}}, \"yaxis\": {\"anchor\": \"x\", \"domain\": [0.0, 1.0], \"title\": {\"text\": \"% Living in an Urban Area\"}}},\n",
       "                        {\"responsive\": true}\n",
       "                    ).then(function(){\n",
       "                            \n",
       "var gd = document.getElementById('1df9079a-6569-49ab-b788-aeaad599d673');\n",
       "var x = new MutationObserver(function (mutations, observer) {{\n",
       "        var display = window.getComputedStyle(gd).display;\n",
       "        if (!display || display === 'none') {{\n",
       "            console.log([gd, 'removed!']);\n",
       "            Plotly.purge(gd);\n",
       "            observer.disconnect();\n",
       "        }}\n",
       "}});\n",
       "\n",
       "// Listen for the removal of the full notebook cells\n",
       "var notebookContainer = gd.closest('#notebook-container');\n",
       "if (notebookContainer) {{\n",
       "    x.observe(notebookContainer, {childList: true});\n",
       "}}\n",
       "\n",
       "// Listen for the clearing of the current output cell\n",
       "var outputEl = gd.closest('.output');\n",
       "if (outputEl) {{\n",
       "    x.observe(outputEl, {childList: true});\n",
       "}}\n",
       "\n",
       "                        })\n",
       "                };\n",
       "                });\n",
       "            </script>\n",
       "        </div>"
      ]
     },
     "metadata": {},
     "output_type": "display_data"
    }
   ],
   "source": [
    "px.scatter(data_frame= X, x = 'Hierarchical Clusters', y = '% Living in an Urban Area', color= 'Hierarchical Clusters',\n",
    "           hover_name= X.index, color_continuous_scale= palette)"
   ]
  },
  {
   "cell_type": "code",
   "execution_count": 237,
   "metadata": {},
   "outputs": [
    {
     "data": {
      "application/vnd.plotly.v1+json": {
       "config": {
        "plotlyServerURL": "https://plot.ly"
       },
       "data": [
        {
         "hoverlabel": {
          "namelength": 0
         },
         "hovertemplate": "<b>%{hovertext}</b><br><br>Hierarchical Clusters=%{marker.color}<br>Life expectancy at birth=%{y}",
         "hovertext": [
          "Norway",
          "Switzerland",
          "Ireland",
          "Germany",
          "Hong Kong, China (SAR)",
          "Australia",
          "Iceland",
          "Sweden",
          "Singapore",
          "Netherlands",
          "Denmark",
          "Finland",
          "Canada",
          "New Zealand",
          "United Kingdom",
          "United States",
          "Belgium",
          "Liechtenstein",
          "Japan",
          "Austria",
          "Luxembourg",
          "Israel",
          "Korea (Republic of)",
          "Slovenia",
          "Spain",
          "Czechia",
          "France",
          "Malta",
          "Italy",
          "Estonia",
          "Cyprus",
          "Greece",
          "Poland",
          "Lithuania",
          "United Arab Emirates",
          "Andorra",
          "Saudi Arabia",
          "Slovakia",
          "Latvia",
          "Portugal",
          "Qatar",
          "Chile",
          "Brunei Darussalam",
          "Hungary",
          "Bahrain",
          "Croatia",
          "Oman",
          "Argentina",
          "Russian Federation",
          "Belarus",
          "Kazakhstan",
          "Bulgaria",
          "Montenegro",
          "Romania",
          "Palau",
          "Barbados",
          "Kuwait",
          "Uruguay",
          "Turkey",
          "Bahamas",
          "Malaysia",
          "Seychelles",
          "Serbia",
          "Trinidad and Tobago",
          "Iran (Islamic Republic of)",
          "Mauritius",
          "Panama",
          "Costa Rica",
          "Albania",
          "Georgia",
          "Sri Lanka",
          "Cuba",
          "Saint Kitts and Nevis",
          "Antigua and Barbuda",
          "Bosnia and Herzegovina",
          "Mexico",
          "Thailand",
          "Grenada",
          "Brazil",
          "Colombia",
          "Armenia",
          "Algeria",
          "North Macedonia",
          "Peru",
          "China",
          "Ecuador",
          "Azerbaijan",
          "Ukraine",
          "Dominican Republic",
          "Saint Lucia",
          "Tunisia",
          "Mongolia",
          "Lebanon",
          "Botswana",
          "Saint Vincent and the Grenadines",
          "Jamaica",
          "Venezuela (Bolivarian Republic of)",
          "Dominica",
          "Fiji",
          "Paraguay",
          "Suriname",
          "Jordan",
          "Belize",
          "Maldives",
          "Tonga",
          "Philippines",
          "Moldova (Republic of)",
          "Turkmenistan",
          "Uzbekistan",
          "Libya",
          "Indonesia",
          "Samoa",
          "South Africa",
          "Bolivia (Plurinational State of)",
          "Gabon",
          "Egypt",
          "Marshall Islands",
          "Viet Nam",
          "Palestine, State of",
          "Iraq",
          "Morocco",
          "Kyrgyzstan",
          "Guyana",
          "El Salvador",
          "Tajikistan",
          "Cabo Verde",
          "Guatemala",
          "Nicaragua",
          "India",
          "Namibia",
          "Timor-Leste",
          "Honduras",
          "Kiribati",
          "Bhutan",
          "Bangladesh",
          "Micronesia (Federated States of)",
          "Sao Tome and Principe",
          "Congo",
          "Eswatini (Kingdom of)",
          "Lao People's Democratic Republic",
          "Vanuatu",
          "Ghana",
          "Zambia",
          "Equatorial Guinea",
          "Myanmar",
          "Cambodia",
          "Kenya",
          "Nepal",
          "Angola",
          "Cameroon",
          "Zimbabwe",
          "Pakistan",
          "Solomon Islands",
          "Syrian Arab Republic",
          "Papua New Guinea",
          "Comoros",
          "Rwanda",
          "Nigeria",
          "Tanzania (United Republic of)",
          "Uganda",
          "Mauritania",
          "Madagascar",
          "Benin",
          "Lesotho",
          "Côte d'Ivoire",
          "Senegal",
          "Togo",
          "Sudan",
          "Haiti",
          "Afghanistan",
          "Djibouti",
          "Malawi",
          "Ethiopia",
          "Gambia",
          "Guinea",
          "Liberia",
          "Yemen",
          "Guinea-Bissau",
          "Congo (Democratic Republic of the)",
          "Mozambique",
          "Sierra Leone",
          "Burkina Faso",
          "Eritrea",
          "Mali",
          "Burundi",
          "South Sudan",
          "Chad",
          "Central African Republic",
          "Niger"
         ],
         "legendgroup": "",
         "marker": {
          "color": [
           0,
           0,
           0,
           0,
           0,
           0,
           0,
           0,
           0,
           0,
           0,
           0,
           0,
           0,
           0,
           0,
           0,
           3,
           0,
           0,
           0,
           0,
           0,
           0,
           0,
           0,
           0,
           0,
           0,
           0,
           0,
           0,
           0,
           0,
           3,
           0,
           3,
           0,
           0,
           0,
           3,
           2,
           3,
           0,
           3,
           0,
           3,
           2,
           0,
           0,
           0,
           0,
           0,
           0,
           2,
           2,
           3,
           2,
           5,
           2,
           2,
           2,
           0,
           2,
           5,
           2,
           1,
           2,
           0,
           0,
           2,
           2,
           2,
           2,
           0,
           1,
           2,
           2,
           1,
           1,
           0,
           5,
           0,
           1,
           1,
           1,
           2,
           0,
           1,
           2,
           5,
           0,
           5,
           1,
           2,
           1,
           1,
           1,
           1,
           1,
           1,
           5,
           1,
           2,
           1,
           1,
           0,
           1,
           1,
           5,
           1,
           1,
           1,
           1,
           1,
           5,
           1,
           1,
           5,
           5,
           5,
           1,
           1,
           1,
           1,
           1,
           1,
           1,
           1,
           1,
           1,
           1,
           1,
           1,
           1,
           1,
           1,
           1,
           1,
           1,
           1,
           4,
           4,
           4,
           4,
           4,
           4,
           4,
           4,
           4,
           4,
           4,
           4,
           4,
           4,
           4,
           4,
           4,
           4,
           4,
           4,
           4,
           4,
           4,
           4,
           4,
           4,
           4,
           4,
           4,
           4,
           4,
           4,
           4,
           4,
           4,
           4,
           4,
           4,
           4,
           4,
           4,
           4,
           4,
           4,
           4,
           4,
           4,
           4
          ],
          "coloraxis": "coloraxis",
          "symbol": "circle"
         },
         "mode": "markers",
         "name": "",
         "showlegend": false,
         "type": "scatter",
         "x": [
          0,
          0,
          0,
          0,
          0,
          0,
          0,
          0,
          0,
          0,
          0,
          0,
          0,
          0,
          0,
          0,
          0,
          3,
          0,
          0,
          0,
          0,
          0,
          0,
          0,
          0,
          0,
          0,
          0,
          0,
          0,
          0,
          0,
          0,
          3,
          0,
          3,
          0,
          0,
          0,
          3,
          2,
          3,
          0,
          3,
          0,
          3,
          2,
          0,
          0,
          0,
          0,
          0,
          0,
          2,
          2,
          3,
          2,
          5,
          2,
          2,
          2,
          0,
          2,
          5,
          2,
          1,
          2,
          0,
          0,
          2,
          2,
          2,
          2,
          0,
          1,
          2,
          2,
          1,
          1,
          0,
          5,
          0,
          1,
          1,
          1,
          2,
          0,
          1,
          2,
          5,
          0,
          5,
          1,
          2,
          1,
          1,
          1,
          1,
          1,
          1,
          5,
          1,
          2,
          1,
          1,
          0,
          1,
          1,
          5,
          1,
          1,
          1,
          1,
          1,
          5,
          1,
          1,
          5,
          5,
          5,
          1,
          1,
          1,
          1,
          1,
          1,
          1,
          1,
          1,
          1,
          1,
          1,
          1,
          1,
          1,
          1,
          1,
          1,
          1,
          1,
          4,
          4,
          4,
          4,
          4,
          4,
          4,
          4,
          4,
          4,
          4,
          4,
          4,
          4,
          4,
          4,
          4,
          4,
          4,
          4,
          4,
          4,
          4,
          4,
          4,
          4,
          4,
          4,
          4,
          4,
          4,
          4,
          4,
          4,
          4,
          4,
          4,
          4,
          4,
          4,
          4,
          4,
          4,
          4,
          4,
          4,
          4,
          4
         ],
         "xaxis": "x",
         "y": [
          82.3,
          83.6,
          82.1,
          81.2,
          84.7,
          83.3,
          82.9,
          82.7,
          83.5,
          82.1,
          80.8,
          81.7,
          82.3,
          82.1,
          81.2,
          78.9,
          81.5,
          80.5,
          84.5,
          81.4,
          82.1,
          82.8,
          82.8,
          81.2,
          83.4,
          79.2,
          82.5,
          82.4,
          83.4,
          78.6,
          80.8,
          82.1,
          78.5,
          75.7,
          77.8,
          81.8,
          75,
          77.4,
          75.2,
          81.9,
          80.1,
          80,
          75.7,
          76.7,
          77.2,
          78.3,
          77.6,
          76.5,
          72.4,
          74.6,
          73.2,
          74.9,
          76.8,
          75.9,
          73.7,
          79.1,
          75.4,
          77.8,
          77.4,
          73.8,
          76,
          73.3,
          75.8,
          73.4,
          76.5,
          74.9,
          78.3,
          80.1,
          78.5,
          73.6,
          76.8,
          78.7,
          74.6,
          76.9,
          77.3,
          75,
          76.9,
          72.4,
          75.7,
          77.1,
          74.9,
          76.7,
          75.7,
          76.5,
          76.7,
          76.8,
          72.9,
          72,
          73.9,
          76.1,
          76.5,
          69.7,
          78.9,
          69.3,
          72.4,
          74.4,
          72.1,
          78.1,
          67.3,
          74.1,
          71.6,
          74.4,
          74.5,
          78.6,
          70.8,
          71.1,
          71.8,
          68.1,
          71.6,
          72.7,
          71.5,
          73.2,
          63.9,
          71.2,
          66.2,
          71.8,
          73.9,
          75.3,
          73.9,
          70.5,
          76.5,
          71.3,
          69.8,
          73.1,
          70.9,
          72.8,
          74.1,
          74.3,
          69.4,
          63.4,
          69.3,
          75.1,
          68.1,
          71.5,
          72.3,
          67.8,
          70.2,
          64.3,
          59.4,
          67.6,
          70.3,
          63.8,
          63.5,
          58.4,
          66.9,
          69.6,
          66.3,
          70.5,
          60.8,
          58.9,
          61.2,
          67.1,
          72.8,
          71.8,
          64.3,
          64.1,
          68.7,
          54.3,
          65,
          63,
          64.7,
          66.7,
          61.5,
          53.7,
          57.4,
          67.7,
          60.8,
          65.1,
          63.7,
          64.5,
          66.6,
          63.8,
          66.2,
          61.7,
          61.2,
          63.7,
          66.1,
          58,
          60.4,
          60.2,
          54.3,
          61.2,
          65.9,
          58.9,
          61.2,
          57.6,
          54,
          52.8,
          62
         ],
         "yaxis": "y"
        }
       ],
       "layout": {
        "coloraxis": {
         "colorbar": {
          "title": {
           "text": "Hierarchical Clusters"
          }
         },
         "colorscale": [
          [
           0,
           "#4B3F72"
          ],
          [
           0.25,
           "#AB81CD"
          ],
          [
           0.5,
           "#1F7A8C"
          ],
          [
           0.75,
           "#03B5AA"
          ],
          [
           1,
           "#A3E7FC"
          ]
         ]
        },
        "height": 600,
        "legend": {
         "tracegroupgap": 0
        },
        "margin": {
         "t": 60
        },
        "template": {
         "data": {
          "bar": [
           {
            "error_x": {
             "color": "#2a3f5f"
            },
            "error_y": {
             "color": "#2a3f5f"
            },
            "marker": {
             "line": {
              "color": "#E5ECF6",
              "width": 0.5
             }
            },
            "type": "bar"
           }
          ],
          "barpolar": [
           {
            "marker": {
             "line": {
              "color": "#E5ECF6",
              "width": 0.5
             }
            },
            "type": "barpolar"
           }
          ],
          "carpet": [
           {
            "aaxis": {
             "endlinecolor": "#2a3f5f",
             "gridcolor": "white",
             "linecolor": "white",
             "minorgridcolor": "white",
             "startlinecolor": "#2a3f5f"
            },
            "baxis": {
             "endlinecolor": "#2a3f5f",
             "gridcolor": "white",
             "linecolor": "white",
             "minorgridcolor": "white",
             "startlinecolor": "#2a3f5f"
            },
            "type": "carpet"
           }
          ],
          "choropleth": [
           {
            "colorbar": {
             "outlinewidth": 0,
             "ticks": ""
            },
            "type": "choropleth"
           }
          ],
          "contour": [
           {
            "colorbar": {
             "outlinewidth": 0,
             "ticks": ""
            },
            "colorscale": [
             [
              0,
              "#0d0887"
             ],
             [
              0.1111111111111111,
              "#46039f"
             ],
             [
              0.2222222222222222,
              "#7201a8"
             ],
             [
              0.3333333333333333,
              "#9c179e"
             ],
             [
              0.4444444444444444,
              "#bd3786"
             ],
             [
              0.5555555555555556,
              "#d8576b"
             ],
             [
              0.6666666666666666,
              "#ed7953"
             ],
             [
              0.7777777777777778,
              "#fb9f3a"
             ],
             [
              0.8888888888888888,
              "#fdca26"
             ],
             [
              1,
              "#f0f921"
             ]
            ],
            "type": "contour"
           }
          ],
          "contourcarpet": [
           {
            "colorbar": {
             "outlinewidth": 0,
             "ticks": ""
            },
            "type": "contourcarpet"
           }
          ],
          "heatmap": [
           {
            "colorbar": {
             "outlinewidth": 0,
             "ticks": ""
            },
            "colorscale": [
             [
              0,
              "#0d0887"
             ],
             [
              0.1111111111111111,
              "#46039f"
             ],
             [
              0.2222222222222222,
              "#7201a8"
             ],
             [
              0.3333333333333333,
              "#9c179e"
             ],
             [
              0.4444444444444444,
              "#bd3786"
             ],
             [
              0.5555555555555556,
              "#d8576b"
             ],
             [
              0.6666666666666666,
              "#ed7953"
             ],
             [
              0.7777777777777778,
              "#fb9f3a"
             ],
             [
              0.8888888888888888,
              "#fdca26"
             ],
             [
              1,
              "#f0f921"
             ]
            ],
            "type": "heatmap"
           }
          ],
          "heatmapgl": [
           {
            "colorbar": {
             "outlinewidth": 0,
             "ticks": ""
            },
            "colorscale": [
             [
              0,
              "#0d0887"
             ],
             [
              0.1111111111111111,
              "#46039f"
             ],
             [
              0.2222222222222222,
              "#7201a8"
             ],
             [
              0.3333333333333333,
              "#9c179e"
             ],
             [
              0.4444444444444444,
              "#bd3786"
             ],
             [
              0.5555555555555556,
              "#d8576b"
             ],
             [
              0.6666666666666666,
              "#ed7953"
             ],
             [
              0.7777777777777778,
              "#fb9f3a"
             ],
             [
              0.8888888888888888,
              "#fdca26"
             ],
             [
              1,
              "#f0f921"
             ]
            ],
            "type": "heatmapgl"
           }
          ],
          "histogram": [
           {
            "marker": {
             "colorbar": {
              "outlinewidth": 0,
              "ticks": ""
             }
            },
            "type": "histogram"
           }
          ],
          "histogram2d": [
           {
            "colorbar": {
             "outlinewidth": 0,
             "ticks": ""
            },
            "colorscale": [
             [
              0,
              "#0d0887"
             ],
             [
              0.1111111111111111,
              "#46039f"
             ],
             [
              0.2222222222222222,
              "#7201a8"
             ],
             [
              0.3333333333333333,
              "#9c179e"
             ],
             [
              0.4444444444444444,
              "#bd3786"
             ],
             [
              0.5555555555555556,
              "#d8576b"
             ],
             [
              0.6666666666666666,
              "#ed7953"
             ],
             [
              0.7777777777777778,
              "#fb9f3a"
             ],
             [
              0.8888888888888888,
              "#fdca26"
             ],
             [
              1,
              "#f0f921"
             ]
            ],
            "type": "histogram2d"
           }
          ],
          "histogram2dcontour": [
           {
            "colorbar": {
             "outlinewidth": 0,
             "ticks": ""
            },
            "colorscale": [
             [
              0,
              "#0d0887"
             ],
             [
              0.1111111111111111,
              "#46039f"
             ],
             [
              0.2222222222222222,
              "#7201a8"
             ],
             [
              0.3333333333333333,
              "#9c179e"
             ],
             [
              0.4444444444444444,
              "#bd3786"
             ],
             [
              0.5555555555555556,
              "#d8576b"
             ],
             [
              0.6666666666666666,
              "#ed7953"
             ],
             [
              0.7777777777777778,
              "#fb9f3a"
             ],
             [
              0.8888888888888888,
              "#fdca26"
             ],
             [
              1,
              "#f0f921"
             ]
            ],
            "type": "histogram2dcontour"
           }
          ],
          "mesh3d": [
           {
            "colorbar": {
             "outlinewidth": 0,
             "ticks": ""
            },
            "type": "mesh3d"
           }
          ],
          "parcoords": [
           {
            "line": {
             "colorbar": {
              "outlinewidth": 0,
              "ticks": ""
             }
            },
            "type": "parcoords"
           }
          ],
          "pie": [
           {
            "automargin": true,
            "type": "pie"
           }
          ],
          "scatter": [
           {
            "marker": {
             "colorbar": {
              "outlinewidth": 0,
              "ticks": ""
             }
            },
            "type": "scatter"
           }
          ],
          "scatter3d": [
           {
            "line": {
             "colorbar": {
              "outlinewidth": 0,
              "ticks": ""
             }
            },
            "marker": {
             "colorbar": {
              "outlinewidth": 0,
              "ticks": ""
             }
            },
            "type": "scatter3d"
           }
          ],
          "scattercarpet": [
           {
            "marker": {
             "colorbar": {
              "outlinewidth": 0,
              "ticks": ""
             }
            },
            "type": "scattercarpet"
           }
          ],
          "scattergeo": [
           {
            "marker": {
             "colorbar": {
              "outlinewidth": 0,
              "ticks": ""
             }
            },
            "type": "scattergeo"
           }
          ],
          "scattergl": [
           {
            "marker": {
             "colorbar": {
              "outlinewidth": 0,
              "ticks": ""
             }
            },
            "type": "scattergl"
           }
          ],
          "scattermapbox": [
           {
            "marker": {
             "colorbar": {
              "outlinewidth": 0,
              "ticks": ""
             }
            },
            "type": "scattermapbox"
           }
          ],
          "scatterpolar": [
           {
            "marker": {
             "colorbar": {
              "outlinewidth": 0,
              "ticks": ""
             }
            },
            "type": "scatterpolar"
           }
          ],
          "scatterpolargl": [
           {
            "marker": {
             "colorbar": {
              "outlinewidth": 0,
              "ticks": ""
             }
            },
            "type": "scatterpolargl"
           }
          ],
          "scatterternary": [
           {
            "marker": {
             "colorbar": {
              "outlinewidth": 0,
              "ticks": ""
             }
            },
            "type": "scatterternary"
           }
          ],
          "surface": [
           {
            "colorbar": {
             "outlinewidth": 0,
             "ticks": ""
            },
            "colorscale": [
             [
              0,
              "#0d0887"
             ],
             [
              0.1111111111111111,
              "#46039f"
             ],
             [
              0.2222222222222222,
              "#7201a8"
             ],
             [
              0.3333333333333333,
              "#9c179e"
             ],
             [
              0.4444444444444444,
              "#bd3786"
             ],
             [
              0.5555555555555556,
              "#d8576b"
             ],
             [
              0.6666666666666666,
              "#ed7953"
             ],
             [
              0.7777777777777778,
              "#fb9f3a"
             ],
             [
              0.8888888888888888,
              "#fdca26"
             ],
             [
              1,
              "#f0f921"
             ]
            ],
            "type": "surface"
           }
          ],
          "table": [
           {
            "cells": {
             "fill": {
              "color": "#EBF0F8"
             },
             "line": {
              "color": "white"
             }
            },
            "header": {
             "fill": {
              "color": "#C8D4E3"
             },
             "line": {
              "color": "white"
             }
            },
            "type": "table"
           }
          ]
         },
         "layout": {
          "annotationdefaults": {
           "arrowcolor": "#2a3f5f",
           "arrowhead": 0,
           "arrowwidth": 1
          },
          "coloraxis": {
           "colorbar": {
            "outlinewidth": 0,
            "ticks": ""
           }
          },
          "colorscale": {
           "diverging": [
            [
             0,
             "#8e0152"
            ],
            [
             0.1,
             "#c51b7d"
            ],
            [
             0.2,
             "#de77ae"
            ],
            [
             0.3,
             "#f1b6da"
            ],
            [
             0.4,
             "#fde0ef"
            ],
            [
             0.5,
             "#f7f7f7"
            ],
            [
             0.6,
             "#e6f5d0"
            ],
            [
             0.7,
             "#b8e186"
            ],
            [
             0.8,
             "#7fbc41"
            ],
            [
             0.9,
             "#4d9221"
            ],
            [
             1,
             "#276419"
            ]
           ],
           "sequential": [
            [
             0,
             "#0d0887"
            ],
            [
             0.1111111111111111,
             "#46039f"
            ],
            [
             0.2222222222222222,
             "#7201a8"
            ],
            [
             0.3333333333333333,
             "#9c179e"
            ],
            [
             0.4444444444444444,
             "#bd3786"
            ],
            [
             0.5555555555555556,
             "#d8576b"
            ],
            [
             0.6666666666666666,
             "#ed7953"
            ],
            [
             0.7777777777777778,
             "#fb9f3a"
            ],
            [
             0.8888888888888888,
             "#fdca26"
            ],
            [
             1,
             "#f0f921"
            ]
           ],
           "sequentialminus": [
            [
             0,
             "#0d0887"
            ],
            [
             0.1111111111111111,
             "#46039f"
            ],
            [
             0.2222222222222222,
             "#7201a8"
            ],
            [
             0.3333333333333333,
             "#9c179e"
            ],
            [
             0.4444444444444444,
             "#bd3786"
            ],
            [
             0.5555555555555556,
             "#d8576b"
            ],
            [
             0.6666666666666666,
             "#ed7953"
            ],
            [
             0.7777777777777778,
             "#fb9f3a"
            ],
            [
             0.8888888888888888,
             "#fdca26"
            ],
            [
             1,
             "#f0f921"
            ]
           ]
          },
          "colorway": [
           "#636efa",
           "#EF553B",
           "#00cc96",
           "#ab63fa",
           "#FFA15A",
           "#19d3f3",
           "#FF6692",
           "#B6E880",
           "#FF97FF",
           "#FECB52"
          ],
          "font": {
           "color": "#2a3f5f"
          },
          "geo": {
           "bgcolor": "white",
           "lakecolor": "white",
           "landcolor": "#E5ECF6",
           "showlakes": true,
           "showland": true,
           "subunitcolor": "white"
          },
          "hoverlabel": {
           "align": "left"
          },
          "hovermode": "closest",
          "mapbox": {
           "style": "light"
          },
          "paper_bgcolor": "white",
          "plot_bgcolor": "#E5ECF6",
          "polar": {
           "angularaxis": {
            "gridcolor": "white",
            "linecolor": "white",
            "ticks": ""
           },
           "bgcolor": "#E5ECF6",
           "radialaxis": {
            "gridcolor": "white",
            "linecolor": "white",
            "ticks": ""
           }
          },
          "scene": {
           "xaxis": {
            "backgroundcolor": "#E5ECF6",
            "gridcolor": "white",
            "gridwidth": 2,
            "linecolor": "white",
            "showbackground": true,
            "ticks": "",
            "zerolinecolor": "white"
           },
           "yaxis": {
            "backgroundcolor": "#E5ECF6",
            "gridcolor": "white",
            "gridwidth": 2,
            "linecolor": "white",
            "showbackground": true,
            "ticks": "",
            "zerolinecolor": "white"
           },
           "zaxis": {
            "backgroundcolor": "#E5ECF6",
            "gridcolor": "white",
            "gridwidth": 2,
            "linecolor": "white",
            "showbackground": true,
            "ticks": "",
            "zerolinecolor": "white"
           }
          },
          "shapedefaults": {
           "line": {
            "color": "#2a3f5f"
           }
          },
          "ternary": {
           "aaxis": {
            "gridcolor": "white",
            "linecolor": "white",
            "ticks": ""
           },
           "baxis": {
            "gridcolor": "white",
            "linecolor": "white",
            "ticks": ""
           },
           "bgcolor": "#E5ECF6",
           "caxis": {
            "gridcolor": "white",
            "linecolor": "white",
            "ticks": ""
           }
          },
          "title": {
           "x": 0.05
          },
          "xaxis": {
           "automargin": true,
           "gridcolor": "white",
           "linecolor": "white",
           "ticks": "",
           "title": {
            "standoff": 15
           },
           "zerolinecolor": "white",
           "zerolinewidth": 2
          },
          "yaxis": {
           "automargin": true,
           "gridcolor": "white",
           "linecolor": "white",
           "ticks": "",
           "title": {
            "standoff": 15
           },
           "zerolinecolor": "white",
           "zerolinewidth": 2
          }
         }
        },
        "xaxis": {
         "anchor": "y",
         "domain": [
          0,
          1
         ],
         "title": {
          "text": "Hierarchical Clusters"
         }
        },
        "yaxis": {
         "anchor": "x",
         "domain": [
          0,
          1
         ],
         "title": {
          "text": "Life expectancy at birth"
         }
        }
       }
      },
      "text/html": [
       "<div>\n",
       "        \n",
       "        \n",
       "            <div id=\"56eff0a1-f189-4d5e-8b5a-48f4c271e285\" class=\"plotly-graph-div\" style=\"height:600px; width:100%;\"></div>\n",
       "            <script type=\"text/javascript\">\n",
       "                require([\"plotly\"], function(Plotly) {\n",
       "                    window.PLOTLYENV=window.PLOTLYENV || {};\n",
       "                    \n",
       "                if (document.getElementById(\"56eff0a1-f189-4d5e-8b5a-48f4c271e285\")) {\n",
       "                    Plotly.newPlot(\n",
       "                        '56eff0a1-f189-4d5e-8b5a-48f4c271e285',\n",
       "                        [{\"hoverlabel\": {\"namelength\": 0}, \"hovertemplate\": \"<b>%{hovertext}</b><br><br>Hierarchical Clusters=%{marker.color}<br>Life expectancy at birth=%{y}\", \"hovertext\": [\"Norway\", \"Switzerland\", \"Ireland\", \"Germany\", \"Hong Kong, China (SAR)\", \"Australia\", \"Iceland\", \"Sweden\", \"Singapore\", \"Netherlands\", \"Denmark\", \"Finland\", \"Canada\", \"New Zealand\", \"United Kingdom\", \"United States\", \"Belgium\", \"Liechtenstein\", \"Japan\", \"Austria\", \"Luxembourg\", \"Israel\", \"Korea (Republic of)\", \"Slovenia\", \"Spain\", \"Czechia\", \"France\", \"Malta\", \"Italy\", \"Estonia\", \"Cyprus\", \"Greece\", \"Poland\", \"Lithuania\", \"United Arab Emirates\", \"Andorra\", \"Saudi Arabia\", \"Slovakia\", \"Latvia\", \"Portugal\", \"Qatar\", \"Chile\", \"Brunei Darussalam\", \"Hungary\", \"Bahrain\", \"Croatia\", \"Oman\", \"Argentina\", \"Russian Federation\", \"Belarus\", \"Kazakhstan\", \"Bulgaria\", \"Montenegro\", \"Romania\", \"Palau\", \"Barbados\", \"Kuwait\", \"Uruguay\", \"Turkey\", \"Bahamas\", \"Malaysia\", \"Seychelles\", \"Serbia\", \"Trinidad and Tobago\", \"Iran (Islamic Republic of)\", \"Mauritius\", \"Panama\", \"Costa Rica\", \"Albania\", \"Georgia\", \"Sri Lanka\", \"Cuba\", \"Saint Kitts and Nevis\", \"Antigua and Barbuda\", \"Bosnia and Herzegovina\", \"Mexico\", \"Thailand\", \"Grenada\", \"Brazil\", \"Colombia\", \"Armenia\", \"Algeria\", \"North Macedonia\", \"Peru\", \"China\", \"Ecuador\", \"Azerbaijan\", \"Ukraine\", \"Dominican Republic\", \"Saint Lucia\", \"Tunisia\", \"Mongolia\", \"Lebanon\", \"Botswana\", \"Saint Vincent and the Grenadines\", \"Jamaica\", \"Venezuela (Bolivarian Republic of)\", \"Dominica\", \"Fiji\", \"Paraguay\", \"Suriname\", \"Jordan\", \"Belize\", \"Maldives\", \"Tonga\", \"Philippines\", \"Moldova (Republic of)\", \"Turkmenistan\", \"Uzbekistan\", \"Libya\", \"Indonesia\", \"Samoa\", \"South Africa\", \"Bolivia (Plurinational State of)\", \"Gabon\", \"Egypt\", \"Marshall Islands\", \"Viet Nam\", \"Palestine, State of\", \"Iraq\", \"Morocco\", \"Kyrgyzstan\", \"Guyana\", \"El Salvador\", \"Tajikistan\", \"Cabo Verde\", \"Guatemala\", \"Nicaragua\", \"India\", \"Namibia\", \"Timor-Leste\", \"Honduras\", \"Kiribati\", \"Bhutan\", \"Bangladesh\", \"Micronesia (Federated States of)\", \"Sao Tome and Principe\", \"Congo\", \"Eswatini (Kingdom of)\", \"Lao People's Democratic Republic\", \"Vanuatu\", \"Ghana\", \"Zambia\", \"Equatorial Guinea\", \"Myanmar\", \"Cambodia\", \"Kenya\", \"Nepal\", \"Angola\", \"Cameroon\", \"Zimbabwe\", \"Pakistan\", \"Solomon Islands\", \"Syrian Arab Republic\", \"Papua New Guinea\", \"Comoros\", \"Rwanda\", \"Nigeria\", \"Tanzania (United Republic of)\", \"Uganda\", \"Mauritania\", \"Madagascar\", \"Benin\", \"Lesotho\", \"C\\u00f4te d'Ivoire\", \"Senegal\", \"Togo\", \"Sudan\", \"Haiti\", \"Afghanistan\", \"Djibouti\", \"Malawi\", \"Ethiopia\", \"Gambia\", \"Guinea\", \"Liberia\", \"Yemen\", \"Guinea-Bissau\", \"Congo (Democratic Republic of the)\", \"Mozambique\", \"Sierra Leone\", \"Burkina Faso\", \"Eritrea\", \"Mali\", \"Burundi\", \"South Sudan\", \"Chad\", \"Central African Republic\", \"Niger\"], \"legendgroup\": \"\", \"marker\": {\"color\": [0, 0, 0, 0, 0, 0, 0, 0, 0, 0, 0, 0, 0, 0, 0, 0, 0, 3, 0, 0, 0, 0, 0, 0, 0, 0, 0, 0, 0, 0, 0, 0, 0, 0, 3, 0, 3, 0, 0, 0, 3, 2, 3, 0, 3, 0, 3, 2, 0, 0, 0, 0, 0, 0, 2, 2, 3, 2, 5, 2, 2, 2, 0, 2, 5, 2, 1, 2, 0, 0, 2, 2, 2, 2, 0, 1, 2, 2, 1, 1, 0, 5, 0, 1, 1, 1, 2, 0, 1, 2, 5, 0, 5, 1, 2, 1, 1, 1, 1, 1, 1, 5, 1, 2, 1, 1, 0, 1, 1, 5, 1, 1, 1, 1, 1, 5, 1, 1, 5, 5, 5, 1, 1, 1, 1, 1, 1, 1, 1, 1, 1, 1, 1, 1, 1, 1, 1, 1, 1, 1, 1, 4, 4, 4, 4, 4, 4, 4, 4, 4, 4, 4, 4, 4, 4, 4, 4, 4, 4, 4, 4, 4, 4, 4, 4, 4, 4, 4, 4, 4, 4, 4, 4, 4, 4, 4, 4, 4, 4, 4, 4, 4, 4, 4, 4, 4, 4, 4, 4], \"coloraxis\": \"coloraxis\", \"symbol\": \"circle\"}, \"mode\": \"markers\", \"name\": \"\", \"showlegend\": false, \"type\": \"scatter\", \"x\": [0, 0, 0, 0, 0, 0, 0, 0, 0, 0, 0, 0, 0, 0, 0, 0, 0, 3, 0, 0, 0, 0, 0, 0, 0, 0, 0, 0, 0, 0, 0, 0, 0, 0, 3, 0, 3, 0, 0, 0, 3, 2, 3, 0, 3, 0, 3, 2, 0, 0, 0, 0, 0, 0, 2, 2, 3, 2, 5, 2, 2, 2, 0, 2, 5, 2, 1, 2, 0, 0, 2, 2, 2, 2, 0, 1, 2, 2, 1, 1, 0, 5, 0, 1, 1, 1, 2, 0, 1, 2, 5, 0, 5, 1, 2, 1, 1, 1, 1, 1, 1, 5, 1, 2, 1, 1, 0, 1, 1, 5, 1, 1, 1, 1, 1, 5, 1, 1, 5, 5, 5, 1, 1, 1, 1, 1, 1, 1, 1, 1, 1, 1, 1, 1, 1, 1, 1, 1, 1, 1, 1, 4, 4, 4, 4, 4, 4, 4, 4, 4, 4, 4, 4, 4, 4, 4, 4, 4, 4, 4, 4, 4, 4, 4, 4, 4, 4, 4, 4, 4, 4, 4, 4, 4, 4, 4, 4, 4, 4, 4, 4, 4, 4, 4, 4, 4, 4, 4, 4], \"xaxis\": \"x\", \"y\": [82.3, 83.6, 82.1, 81.2, 84.7, 83.3, 82.9, 82.7, 83.5, 82.1, 80.8, 81.7, 82.3, 82.1, 81.2, 78.9, 81.5, 80.5, 84.5, 81.4, 82.1, 82.8, 82.8, 81.2, 83.4, 79.2, 82.5, 82.4, 83.4, 78.6, 80.8, 82.1, 78.5, 75.7, 77.8, 81.8, 75.0, 77.4, 75.2, 81.9, 80.1, 80.0, 75.7, 76.7, 77.2, 78.3, 77.6, 76.5, 72.4, 74.6, 73.2, 74.9, 76.8, 75.9, 73.7, 79.1, 75.4, 77.8, 77.4, 73.8, 76.0, 73.3, 75.8, 73.4, 76.5, 74.9, 78.3, 80.1, 78.5, 73.6, 76.8, 78.7, 74.6, 76.9, 77.3, 75.0, 76.9, 72.4, 75.7, 77.1, 74.9, 76.7, 75.7, 76.5, 76.7, 76.8, 72.9, 72.0, 73.9, 76.1, 76.5, 69.7, 78.9, 69.3, 72.4, 74.4, 72.1, 78.1, 67.3, 74.1, 71.6, 74.4, 74.5, 78.6, 70.8, 71.1, 71.8, 68.1, 71.6, 72.7, 71.5, 73.2, 63.9, 71.2, 66.2, 71.8, 73.9, 75.3, 73.9, 70.5, 76.5, 71.3, 69.8, 73.1, 70.9, 72.8, 74.1, 74.3, 69.4, 63.4, 69.3, 75.1, 68.1, 71.5, 72.3, 67.8, 70.2, 64.3, 59.4, 67.6, 70.3, 63.8, 63.5, 58.4, 66.9, 69.6, 66.3, 70.5, 60.8, 58.9, 61.2, 67.1, 72.8, 71.8, 64.3, 64.1, 68.7, 54.3, 65.0, 63.0, 64.7, 66.7, 61.5, 53.7, 57.4, 67.7, 60.8, 65.1, 63.7, 64.5, 66.6, 63.8, 66.2, 61.7, 61.2, 63.7, 66.1, 58.0, 60.4, 60.2, 54.3, 61.2, 65.9, 58.9, 61.2, 57.6, 54.0, 52.8, 62.0], \"yaxis\": \"y\"}],\n",
       "                        {\"coloraxis\": {\"colorbar\": {\"title\": {\"text\": \"Hierarchical Clusters\"}}, \"colorscale\": [[0.0, \"#4B3F72\"], [0.25, \"#AB81CD\"], [0.5, \"#1F7A8C\"], [0.75, \"#03B5AA\"], [1.0, \"#A3E7FC\"]]}, \"height\": 600, \"legend\": {\"tracegroupgap\": 0}, \"margin\": {\"t\": 60}, \"template\": {\"data\": {\"bar\": [{\"error_x\": {\"color\": \"#2a3f5f\"}, \"error_y\": {\"color\": \"#2a3f5f\"}, \"marker\": {\"line\": {\"color\": \"#E5ECF6\", \"width\": 0.5}}, \"type\": \"bar\"}], \"barpolar\": [{\"marker\": {\"line\": {\"color\": \"#E5ECF6\", \"width\": 0.5}}, \"type\": \"barpolar\"}], \"carpet\": [{\"aaxis\": {\"endlinecolor\": \"#2a3f5f\", \"gridcolor\": \"white\", \"linecolor\": \"white\", \"minorgridcolor\": \"white\", \"startlinecolor\": \"#2a3f5f\"}, \"baxis\": {\"endlinecolor\": \"#2a3f5f\", \"gridcolor\": \"white\", \"linecolor\": \"white\", \"minorgridcolor\": \"white\", \"startlinecolor\": \"#2a3f5f\"}, \"type\": \"carpet\"}], \"choropleth\": [{\"colorbar\": {\"outlinewidth\": 0, \"ticks\": \"\"}, \"type\": \"choropleth\"}], \"contour\": [{\"colorbar\": {\"outlinewidth\": 0, \"ticks\": \"\"}, \"colorscale\": [[0.0, \"#0d0887\"], [0.1111111111111111, \"#46039f\"], [0.2222222222222222, \"#7201a8\"], [0.3333333333333333, \"#9c179e\"], [0.4444444444444444, \"#bd3786\"], [0.5555555555555556, \"#d8576b\"], [0.6666666666666666, \"#ed7953\"], [0.7777777777777778, \"#fb9f3a\"], [0.8888888888888888, \"#fdca26\"], [1.0, \"#f0f921\"]], \"type\": \"contour\"}], \"contourcarpet\": [{\"colorbar\": {\"outlinewidth\": 0, \"ticks\": \"\"}, \"type\": \"contourcarpet\"}], \"heatmap\": [{\"colorbar\": {\"outlinewidth\": 0, \"ticks\": \"\"}, \"colorscale\": [[0.0, \"#0d0887\"], [0.1111111111111111, \"#46039f\"], [0.2222222222222222, \"#7201a8\"], [0.3333333333333333, \"#9c179e\"], [0.4444444444444444, \"#bd3786\"], [0.5555555555555556, \"#d8576b\"], [0.6666666666666666, \"#ed7953\"], [0.7777777777777778, \"#fb9f3a\"], [0.8888888888888888, \"#fdca26\"], [1.0, \"#f0f921\"]], \"type\": \"heatmap\"}], \"heatmapgl\": [{\"colorbar\": {\"outlinewidth\": 0, \"ticks\": \"\"}, \"colorscale\": [[0.0, \"#0d0887\"], [0.1111111111111111, \"#46039f\"], [0.2222222222222222, \"#7201a8\"], [0.3333333333333333, \"#9c179e\"], [0.4444444444444444, \"#bd3786\"], [0.5555555555555556, \"#d8576b\"], [0.6666666666666666, \"#ed7953\"], [0.7777777777777778, \"#fb9f3a\"], [0.8888888888888888, \"#fdca26\"], [1.0, \"#f0f921\"]], \"type\": \"heatmapgl\"}], \"histogram\": [{\"marker\": {\"colorbar\": {\"outlinewidth\": 0, \"ticks\": \"\"}}, \"type\": \"histogram\"}], \"histogram2d\": [{\"colorbar\": {\"outlinewidth\": 0, \"ticks\": \"\"}, \"colorscale\": [[0.0, \"#0d0887\"], [0.1111111111111111, \"#46039f\"], [0.2222222222222222, \"#7201a8\"], [0.3333333333333333, \"#9c179e\"], [0.4444444444444444, \"#bd3786\"], [0.5555555555555556, \"#d8576b\"], [0.6666666666666666, \"#ed7953\"], [0.7777777777777778, \"#fb9f3a\"], [0.8888888888888888, \"#fdca26\"], [1.0, \"#f0f921\"]], \"type\": \"histogram2d\"}], \"histogram2dcontour\": [{\"colorbar\": {\"outlinewidth\": 0, \"ticks\": \"\"}, \"colorscale\": [[0.0, \"#0d0887\"], [0.1111111111111111, \"#46039f\"], [0.2222222222222222, \"#7201a8\"], [0.3333333333333333, \"#9c179e\"], [0.4444444444444444, \"#bd3786\"], [0.5555555555555556, \"#d8576b\"], [0.6666666666666666, \"#ed7953\"], [0.7777777777777778, \"#fb9f3a\"], [0.8888888888888888, \"#fdca26\"], [1.0, \"#f0f921\"]], \"type\": \"histogram2dcontour\"}], \"mesh3d\": [{\"colorbar\": {\"outlinewidth\": 0, \"ticks\": \"\"}, \"type\": \"mesh3d\"}], \"parcoords\": [{\"line\": {\"colorbar\": {\"outlinewidth\": 0, \"ticks\": \"\"}}, \"type\": \"parcoords\"}], \"pie\": [{\"automargin\": true, \"type\": \"pie\"}], \"scatter\": [{\"marker\": {\"colorbar\": {\"outlinewidth\": 0, \"ticks\": \"\"}}, \"type\": \"scatter\"}], \"scatter3d\": [{\"line\": {\"colorbar\": {\"outlinewidth\": 0, \"ticks\": \"\"}}, \"marker\": {\"colorbar\": {\"outlinewidth\": 0, \"ticks\": \"\"}}, \"type\": \"scatter3d\"}], \"scattercarpet\": [{\"marker\": {\"colorbar\": {\"outlinewidth\": 0, \"ticks\": \"\"}}, \"type\": \"scattercarpet\"}], \"scattergeo\": [{\"marker\": {\"colorbar\": {\"outlinewidth\": 0, \"ticks\": \"\"}}, \"type\": \"scattergeo\"}], \"scattergl\": [{\"marker\": {\"colorbar\": {\"outlinewidth\": 0, \"ticks\": \"\"}}, \"type\": \"scattergl\"}], \"scattermapbox\": [{\"marker\": {\"colorbar\": {\"outlinewidth\": 0, \"ticks\": \"\"}}, \"type\": \"scattermapbox\"}], \"scatterpolar\": [{\"marker\": {\"colorbar\": {\"outlinewidth\": 0, \"ticks\": \"\"}}, \"type\": \"scatterpolar\"}], \"scatterpolargl\": [{\"marker\": {\"colorbar\": {\"outlinewidth\": 0, \"ticks\": \"\"}}, \"type\": \"scatterpolargl\"}], \"scatterternary\": [{\"marker\": {\"colorbar\": {\"outlinewidth\": 0, \"ticks\": \"\"}}, \"type\": \"scatterternary\"}], \"surface\": [{\"colorbar\": {\"outlinewidth\": 0, \"ticks\": \"\"}, \"colorscale\": [[0.0, \"#0d0887\"], [0.1111111111111111, \"#46039f\"], [0.2222222222222222, \"#7201a8\"], [0.3333333333333333, \"#9c179e\"], [0.4444444444444444, \"#bd3786\"], [0.5555555555555556, \"#d8576b\"], [0.6666666666666666, \"#ed7953\"], [0.7777777777777778, \"#fb9f3a\"], [0.8888888888888888, \"#fdca26\"], [1.0, \"#f0f921\"]], \"type\": \"surface\"}], \"table\": [{\"cells\": {\"fill\": {\"color\": \"#EBF0F8\"}, \"line\": {\"color\": \"white\"}}, \"header\": {\"fill\": {\"color\": \"#C8D4E3\"}, \"line\": {\"color\": \"white\"}}, \"type\": \"table\"}]}, \"layout\": {\"annotationdefaults\": {\"arrowcolor\": \"#2a3f5f\", \"arrowhead\": 0, \"arrowwidth\": 1}, \"coloraxis\": {\"colorbar\": {\"outlinewidth\": 0, \"ticks\": \"\"}}, \"colorscale\": {\"diverging\": [[0, \"#8e0152\"], [0.1, \"#c51b7d\"], [0.2, \"#de77ae\"], [0.3, \"#f1b6da\"], [0.4, \"#fde0ef\"], [0.5, \"#f7f7f7\"], [0.6, \"#e6f5d0\"], [0.7, \"#b8e186\"], [0.8, \"#7fbc41\"], [0.9, \"#4d9221\"], [1, \"#276419\"]], \"sequential\": [[0.0, \"#0d0887\"], [0.1111111111111111, \"#46039f\"], [0.2222222222222222, \"#7201a8\"], [0.3333333333333333, \"#9c179e\"], [0.4444444444444444, \"#bd3786\"], [0.5555555555555556, \"#d8576b\"], [0.6666666666666666, \"#ed7953\"], [0.7777777777777778, \"#fb9f3a\"], [0.8888888888888888, \"#fdca26\"], [1.0, \"#f0f921\"]], \"sequentialminus\": [[0.0, \"#0d0887\"], [0.1111111111111111, \"#46039f\"], [0.2222222222222222, \"#7201a8\"], [0.3333333333333333, \"#9c179e\"], [0.4444444444444444, \"#bd3786\"], [0.5555555555555556, \"#d8576b\"], [0.6666666666666666, \"#ed7953\"], [0.7777777777777778, \"#fb9f3a\"], [0.8888888888888888, \"#fdca26\"], [1.0, \"#f0f921\"]]}, \"colorway\": [\"#636efa\", \"#EF553B\", \"#00cc96\", \"#ab63fa\", \"#FFA15A\", \"#19d3f3\", \"#FF6692\", \"#B6E880\", \"#FF97FF\", \"#FECB52\"], \"font\": {\"color\": \"#2a3f5f\"}, \"geo\": {\"bgcolor\": \"white\", \"lakecolor\": \"white\", \"landcolor\": \"#E5ECF6\", \"showlakes\": true, \"showland\": true, \"subunitcolor\": \"white\"}, \"hoverlabel\": {\"align\": \"left\"}, \"hovermode\": \"closest\", \"mapbox\": {\"style\": \"light\"}, \"paper_bgcolor\": \"white\", \"plot_bgcolor\": \"#E5ECF6\", \"polar\": {\"angularaxis\": {\"gridcolor\": \"white\", \"linecolor\": \"white\", \"ticks\": \"\"}, \"bgcolor\": \"#E5ECF6\", \"radialaxis\": {\"gridcolor\": \"white\", \"linecolor\": \"white\", \"ticks\": \"\"}}, \"scene\": {\"xaxis\": {\"backgroundcolor\": \"#E5ECF6\", \"gridcolor\": \"white\", \"gridwidth\": 2, \"linecolor\": \"white\", \"showbackground\": true, \"ticks\": \"\", \"zerolinecolor\": \"white\"}, \"yaxis\": {\"backgroundcolor\": \"#E5ECF6\", \"gridcolor\": \"white\", \"gridwidth\": 2, \"linecolor\": \"white\", \"showbackground\": true, \"ticks\": \"\", \"zerolinecolor\": \"white\"}, \"zaxis\": {\"backgroundcolor\": \"#E5ECF6\", \"gridcolor\": \"white\", \"gridwidth\": 2, \"linecolor\": \"white\", \"showbackground\": true, \"ticks\": \"\", \"zerolinecolor\": \"white\"}}, \"shapedefaults\": {\"line\": {\"color\": \"#2a3f5f\"}}, \"ternary\": {\"aaxis\": {\"gridcolor\": \"white\", \"linecolor\": \"white\", \"ticks\": \"\"}, \"baxis\": {\"gridcolor\": \"white\", \"linecolor\": \"white\", \"ticks\": \"\"}, \"bgcolor\": \"#E5ECF6\", \"caxis\": {\"gridcolor\": \"white\", \"linecolor\": \"white\", \"ticks\": \"\"}}, \"title\": {\"x\": 0.05}, \"xaxis\": {\"automargin\": true, \"gridcolor\": \"white\", \"linecolor\": \"white\", \"ticks\": \"\", \"title\": {\"standoff\": 15}, \"zerolinecolor\": \"white\", \"zerolinewidth\": 2}, \"yaxis\": {\"automargin\": true, \"gridcolor\": \"white\", \"linecolor\": \"white\", \"ticks\": \"\", \"title\": {\"standoff\": 15}, \"zerolinecolor\": \"white\", \"zerolinewidth\": 2}}}, \"xaxis\": {\"anchor\": \"y\", \"domain\": [0.0, 1.0], \"title\": {\"text\": \"Hierarchical Clusters\"}}, \"yaxis\": {\"anchor\": \"x\", \"domain\": [0.0, 1.0], \"title\": {\"text\": \"Life expectancy at birth\"}}},\n",
       "                        {\"responsive\": true}\n",
       "                    ).then(function(){\n",
       "                            \n",
       "var gd = document.getElementById('56eff0a1-f189-4d5e-8b5a-48f4c271e285');\n",
       "var x = new MutationObserver(function (mutations, observer) {{\n",
       "        var display = window.getComputedStyle(gd).display;\n",
       "        if (!display || display === 'none') {{\n",
       "            console.log([gd, 'removed!']);\n",
       "            Plotly.purge(gd);\n",
       "            observer.disconnect();\n",
       "        }}\n",
       "}});\n",
       "\n",
       "// Listen for the removal of the full notebook cells\n",
       "var notebookContainer = gd.closest('#notebook-container');\n",
       "if (notebookContainer) {{\n",
       "    x.observe(notebookContainer, {childList: true});\n",
       "}}\n",
       "\n",
       "// Listen for the clearing of the current output cell\n",
       "var outputEl = gd.closest('.output');\n",
       "if (outputEl) {{\n",
       "    x.observe(outputEl, {childList: true});\n",
       "}}\n",
       "\n",
       "                        })\n",
       "                };\n",
       "                });\n",
       "            </script>\n",
       "        </div>"
      ]
     },
     "metadata": {},
     "output_type": "display_data"
    }
   ],
   "source": [
    "px.scatter(data_frame= X, x = 'Hierarchical Clusters', y = 'Life expectancy at birth', color= 'Hierarchical Clusters',\n",
    "           hover_name= X.index, color_continuous_scale= palette)"
   ]
  },
  {
   "cell_type": "code",
   "execution_count": 238,
   "metadata": {},
   "outputs": [
    {
     "data": {
      "application/vnd.plotly.v1+json": {
       "config": {
        "plotlyServerURL": "https://plot.ly"
       },
       "data": [
        {
         "hoverlabel": {
          "namelength": 0
         },
         "hovertemplate": "<b>%{hovertext}</b><br><br>Hierarchical Clusters=%{marker.color}<br>Physicians (per 10,000 people)=%{y}",
         "hovertext": [
          "Norway",
          "Switzerland",
          "Ireland",
          "Germany",
          "Hong Kong, China (SAR)",
          "Australia",
          "Iceland",
          "Sweden",
          "Singapore",
          "Netherlands",
          "Denmark",
          "Finland",
          "Canada",
          "New Zealand",
          "United Kingdom",
          "United States",
          "Belgium",
          "Liechtenstein",
          "Japan",
          "Austria",
          "Luxembourg",
          "Israel",
          "Korea (Republic of)",
          "Slovenia",
          "Spain",
          "Czechia",
          "France",
          "Malta",
          "Italy",
          "Estonia",
          "Cyprus",
          "Greece",
          "Poland",
          "Lithuania",
          "United Arab Emirates",
          "Andorra",
          "Saudi Arabia",
          "Slovakia",
          "Latvia",
          "Portugal",
          "Qatar",
          "Chile",
          "Brunei Darussalam",
          "Hungary",
          "Bahrain",
          "Croatia",
          "Oman",
          "Argentina",
          "Russian Federation",
          "Belarus",
          "Kazakhstan",
          "Bulgaria",
          "Montenegro",
          "Romania",
          "Palau",
          "Barbados",
          "Kuwait",
          "Uruguay",
          "Turkey",
          "Bahamas",
          "Malaysia",
          "Seychelles",
          "Serbia",
          "Trinidad and Tobago",
          "Iran (Islamic Republic of)",
          "Mauritius",
          "Panama",
          "Costa Rica",
          "Albania",
          "Georgia",
          "Sri Lanka",
          "Cuba",
          "Saint Kitts and Nevis",
          "Antigua and Barbuda",
          "Bosnia and Herzegovina",
          "Mexico",
          "Thailand",
          "Grenada",
          "Brazil",
          "Colombia",
          "Armenia",
          "Algeria",
          "North Macedonia",
          "Peru",
          "China",
          "Ecuador",
          "Azerbaijan",
          "Ukraine",
          "Dominican Republic",
          "Saint Lucia",
          "Tunisia",
          "Mongolia",
          "Lebanon",
          "Botswana",
          "Saint Vincent and the Grenadines",
          "Jamaica",
          "Venezuela (Bolivarian Republic of)",
          "Dominica",
          "Fiji",
          "Paraguay",
          "Suriname",
          "Jordan",
          "Belize",
          "Maldives",
          "Tonga",
          "Philippines",
          "Moldova (Republic of)",
          "Turkmenistan",
          "Uzbekistan",
          "Libya",
          "Indonesia",
          "Samoa",
          "South Africa",
          "Bolivia (Plurinational State of)",
          "Gabon",
          "Egypt",
          "Marshall Islands",
          "Viet Nam",
          "Palestine, State of",
          "Iraq",
          "Morocco",
          "Kyrgyzstan",
          "Guyana",
          "El Salvador",
          "Tajikistan",
          "Cabo Verde",
          "Guatemala",
          "Nicaragua",
          "India",
          "Namibia",
          "Timor-Leste",
          "Honduras",
          "Kiribati",
          "Bhutan",
          "Bangladesh",
          "Micronesia (Federated States of)",
          "Sao Tome and Principe",
          "Congo",
          "Eswatini (Kingdom of)",
          "Lao People's Democratic Republic",
          "Vanuatu",
          "Ghana",
          "Zambia",
          "Equatorial Guinea",
          "Myanmar",
          "Cambodia",
          "Kenya",
          "Nepal",
          "Angola",
          "Cameroon",
          "Zimbabwe",
          "Pakistan",
          "Solomon Islands",
          "Syrian Arab Republic",
          "Papua New Guinea",
          "Comoros",
          "Rwanda",
          "Nigeria",
          "Tanzania (United Republic of)",
          "Uganda",
          "Mauritania",
          "Madagascar",
          "Benin",
          "Lesotho",
          "Côte d'Ivoire",
          "Senegal",
          "Togo",
          "Sudan",
          "Haiti",
          "Afghanistan",
          "Djibouti",
          "Malawi",
          "Ethiopia",
          "Gambia",
          "Guinea",
          "Liberia",
          "Yemen",
          "Guinea-Bissau",
          "Congo (Democratic Republic of the)",
          "Mozambique",
          "Sierra Leone",
          "Burkina Faso",
          "Eritrea",
          "Mali",
          "Burundi",
          "South Sudan",
          "Chad",
          "Central African Republic",
          "Niger"
         ],
         "legendgroup": "",
         "marker": {
          "color": [
           0,
           0,
           0,
           0,
           0,
           0,
           0,
           0,
           0,
           0,
           0,
           0,
           0,
           0,
           0,
           0,
           0,
           3,
           0,
           0,
           0,
           0,
           0,
           0,
           0,
           0,
           0,
           0,
           0,
           0,
           0,
           0,
           0,
           0,
           3,
           0,
           3,
           0,
           0,
           0,
           3,
           2,
           3,
           0,
           3,
           0,
           3,
           2,
           0,
           0,
           0,
           0,
           0,
           0,
           2,
           2,
           3,
           2,
           5,
           2,
           2,
           2,
           0,
           2,
           5,
           2,
           1,
           2,
           0,
           0,
           2,
           2,
           2,
           2,
           0,
           1,
           2,
           2,
           1,
           1,
           0,
           5,
           0,
           1,
           1,
           1,
           2,
           0,
           1,
           2,
           5,
           0,
           5,
           1,
           2,
           1,
           1,
           1,
           1,
           1,
           1,
           5,
           1,
           2,
           1,
           1,
           0,
           1,
           1,
           5,
           1,
           1,
           1,
           1,
           1,
           5,
           1,
           1,
           5,
           5,
           5,
           1,
           1,
           1,
           1,
           1,
           1,
           1,
           1,
           1,
           1,
           1,
           1,
           1,
           1,
           1,
           1,
           1,
           1,
           1,
           1,
           4,
           4,
           4,
           4,
           4,
           4,
           4,
           4,
           4,
           4,
           4,
           4,
           4,
           4,
           4,
           4,
           4,
           4,
           4,
           4,
           4,
           4,
           4,
           4,
           4,
           4,
           4,
           4,
           4,
           4,
           4,
           4,
           4,
           4,
           4,
           4,
           4,
           4,
           4,
           4,
           4,
           4,
           4,
           4,
           4,
           4,
           4,
           4
          ],
          "coloraxis": "coloraxis",
          "symbol": "circle"
         },
         "mode": "markers",
         "name": "",
         "showlegend": false,
         "type": "scatter",
         "x": [
          0,
          0,
          0,
          0,
          0,
          0,
          0,
          0,
          0,
          0,
          0,
          0,
          0,
          0,
          0,
          0,
          0,
          3,
          0,
          0,
          0,
          0,
          0,
          0,
          0,
          0,
          0,
          0,
          0,
          0,
          0,
          0,
          0,
          0,
          3,
          0,
          3,
          0,
          0,
          0,
          3,
          2,
          3,
          0,
          3,
          0,
          3,
          2,
          0,
          0,
          0,
          0,
          0,
          0,
          2,
          2,
          3,
          2,
          5,
          2,
          2,
          2,
          0,
          2,
          5,
          2,
          1,
          2,
          0,
          0,
          2,
          2,
          2,
          2,
          0,
          1,
          2,
          2,
          1,
          1,
          0,
          5,
          0,
          1,
          1,
          1,
          2,
          0,
          1,
          2,
          5,
          0,
          5,
          1,
          2,
          1,
          1,
          1,
          1,
          1,
          1,
          5,
          1,
          2,
          1,
          1,
          0,
          1,
          1,
          5,
          1,
          1,
          1,
          1,
          1,
          5,
          1,
          1,
          5,
          5,
          5,
          1,
          1,
          1,
          1,
          1,
          1,
          1,
          1,
          1,
          1,
          1,
          1,
          1,
          1,
          1,
          1,
          1,
          1,
          1,
          1,
          4,
          4,
          4,
          4,
          4,
          4,
          4,
          4,
          4,
          4,
          4,
          4,
          4,
          4,
          4,
          4,
          4,
          4,
          4,
          4,
          4,
          4,
          4,
          4,
          4,
          4,
          4,
          4,
          4,
          4,
          4,
          4,
          4,
          4,
          4,
          4,
          4,
          4,
          4,
          4,
          4,
          4,
          4,
          4,
          4,
          4,
          4,
          4
         ],
         "xaxis": "x",
         "y": [
          46.3,
          42.4,
          30.9,
          42.1,
          31.93191489361703,
          35.9,
          39.7,
          54,
          23.1,
          35.1,
          44.6,
          38.1,
          26.1,
          30.3,
          28.1,
          25.9,
          33.2,
          31.93191489361703,
          24.1,
          51.4,
          30.3,
          32.2,
          23.7,
          30,
          40.7,
          43.1,
          32.3,
          38.3,
          40.9,
          34.7,
          19.5,
          45.9,
          24,
          43.4,
          23.9,
          33.3,
          23.9,
          24.6,
          31.9,
          33.4,
          0,
          10.8,
          17.7,
          32.3,
          9.3,
          30,
          19.7,
          39.6,
          40.1,
          40.8,
          32.5,
          39.9,
          23.3,
          22.6,
          11.8,
          24.9,
          25.8,
          50.5,
          17.6,
          19.4,
          15.1,
          9.5,
          31.3,
          26.7,
          11.4,
          20.2,
          15.7,
          11.5,
          12,
          51,
          9.6,
          81.9,
          25.2,
          27.6,
          20,
          22.5,
          8.1,
          14.5,
          21.5,
          20.8,
          29,
          18.3,
          28.7,
          12.7,
          17.9,
          20.5,
          34.5,
          30.1,
          15.6,
          1.1,
          12.7,
          28.9,
          22.7,
          3.7,
          6.6,
          13.2,
          9.561363636363636,
          10.8,
          8.4,
          13.7,
          12.3,
          23.4,
          11.3,
          10.4,
          5.2,
          12.8,
          32,
          22.2,
          23.7,
          21.6,
          3.8,
          3.4,
          9.1,
          16.1,
          3.6,
          7.9,
          4.6,
          8.2,
          9.561363636363636,
          8.2,
          7.3,
          18.8,
          8,
          15.7,
          17,
          7.7,
          3.6,
          10.1,
          7.8,
          3.7,
          7.2,
          3.1,
          2,
          3.7,
          5.3,
          1.9,
          3.2,
          1.2,
          0.8,
          5,
          1.7,
          1.8,
          0.9,
          4,
          8.6,
          1.7,
          2,
          6.5,
          2.1,
          0.9,
          0.8,
          9.8,
          2,
          12.2,
          0.5,
          1.7,
          1.3,
          3.8,
          0.4,
          0.9,
          1.8,
          1.8,
          1.6,
          0.7,
          2.3,
          0.7,
          0.5,
          4.1,
          2.3,
          2.8,
          2.2,
          0.2,
          1,
          1.1,
          0.8,
          0.4,
          3.1,
          2,
          0.9,
          0.7,
          0.3,
          0.6,
          2.115217391304347,
          1.4,
          0.5,
          2.115217391304347,
          0.5,
          0.6,
          0.5
         ],
         "yaxis": "y"
        }
       ],
       "layout": {
        "coloraxis": {
         "colorbar": {
          "title": {
           "text": "Hierarchical Clusters"
          }
         },
         "colorscale": [
          [
           0,
           "#4B3F72"
          ],
          [
           0.25,
           "#AB81CD"
          ],
          [
           0.5,
           "#1F7A8C"
          ],
          [
           0.75,
           "#03B5AA"
          ],
          [
           1,
           "#A3E7FC"
          ]
         ]
        },
        "height": 600,
        "legend": {
         "tracegroupgap": 0
        },
        "margin": {
         "t": 60
        },
        "template": {
         "data": {
          "bar": [
           {
            "error_x": {
             "color": "#2a3f5f"
            },
            "error_y": {
             "color": "#2a3f5f"
            },
            "marker": {
             "line": {
              "color": "#E5ECF6",
              "width": 0.5
             }
            },
            "type": "bar"
           }
          ],
          "barpolar": [
           {
            "marker": {
             "line": {
              "color": "#E5ECF6",
              "width": 0.5
             }
            },
            "type": "barpolar"
           }
          ],
          "carpet": [
           {
            "aaxis": {
             "endlinecolor": "#2a3f5f",
             "gridcolor": "white",
             "linecolor": "white",
             "minorgridcolor": "white",
             "startlinecolor": "#2a3f5f"
            },
            "baxis": {
             "endlinecolor": "#2a3f5f",
             "gridcolor": "white",
             "linecolor": "white",
             "minorgridcolor": "white",
             "startlinecolor": "#2a3f5f"
            },
            "type": "carpet"
           }
          ],
          "choropleth": [
           {
            "colorbar": {
             "outlinewidth": 0,
             "ticks": ""
            },
            "type": "choropleth"
           }
          ],
          "contour": [
           {
            "colorbar": {
             "outlinewidth": 0,
             "ticks": ""
            },
            "colorscale": [
             [
              0,
              "#0d0887"
             ],
             [
              0.1111111111111111,
              "#46039f"
             ],
             [
              0.2222222222222222,
              "#7201a8"
             ],
             [
              0.3333333333333333,
              "#9c179e"
             ],
             [
              0.4444444444444444,
              "#bd3786"
             ],
             [
              0.5555555555555556,
              "#d8576b"
             ],
             [
              0.6666666666666666,
              "#ed7953"
             ],
             [
              0.7777777777777778,
              "#fb9f3a"
             ],
             [
              0.8888888888888888,
              "#fdca26"
             ],
             [
              1,
              "#f0f921"
             ]
            ],
            "type": "contour"
           }
          ],
          "contourcarpet": [
           {
            "colorbar": {
             "outlinewidth": 0,
             "ticks": ""
            },
            "type": "contourcarpet"
           }
          ],
          "heatmap": [
           {
            "colorbar": {
             "outlinewidth": 0,
             "ticks": ""
            },
            "colorscale": [
             [
              0,
              "#0d0887"
             ],
             [
              0.1111111111111111,
              "#46039f"
             ],
             [
              0.2222222222222222,
              "#7201a8"
             ],
             [
              0.3333333333333333,
              "#9c179e"
             ],
             [
              0.4444444444444444,
              "#bd3786"
             ],
             [
              0.5555555555555556,
              "#d8576b"
             ],
             [
              0.6666666666666666,
              "#ed7953"
             ],
             [
              0.7777777777777778,
              "#fb9f3a"
             ],
             [
              0.8888888888888888,
              "#fdca26"
             ],
             [
              1,
              "#f0f921"
             ]
            ],
            "type": "heatmap"
           }
          ],
          "heatmapgl": [
           {
            "colorbar": {
             "outlinewidth": 0,
             "ticks": ""
            },
            "colorscale": [
             [
              0,
              "#0d0887"
             ],
             [
              0.1111111111111111,
              "#46039f"
             ],
             [
              0.2222222222222222,
              "#7201a8"
             ],
             [
              0.3333333333333333,
              "#9c179e"
             ],
             [
              0.4444444444444444,
              "#bd3786"
             ],
             [
              0.5555555555555556,
              "#d8576b"
             ],
             [
              0.6666666666666666,
              "#ed7953"
             ],
             [
              0.7777777777777778,
              "#fb9f3a"
             ],
             [
              0.8888888888888888,
              "#fdca26"
             ],
             [
              1,
              "#f0f921"
             ]
            ],
            "type": "heatmapgl"
           }
          ],
          "histogram": [
           {
            "marker": {
             "colorbar": {
              "outlinewidth": 0,
              "ticks": ""
             }
            },
            "type": "histogram"
           }
          ],
          "histogram2d": [
           {
            "colorbar": {
             "outlinewidth": 0,
             "ticks": ""
            },
            "colorscale": [
             [
              0,
              "#0d0887"
             ],
             [
              0.1111111111111111,
              "#46039f"
             ],
             [
              0.2222222222222222,
              "#7201a8"
             ],
             [
              0.3333333333333333,
              "#9c179e"
             ],
             [
              0.4444444444444444,
              "#bd3786"
             ],
             [
              0.5555555555555556,
              "#d8576b"
             ],
             [
              0.6666666666666666,
              "#ed7953"
             ],
             [
              0.7777777777777778,
              "#fb9f3a"
             ],
             [
              0.8888888888888888,
              "#fdca26"
             ],
             [
              1,
              "#f0f921"
             ]
            ],
            "type": "histogram2d"
           }
          ],
          "histogram2dcontour": [
           {
            "colorbar": {
             "outlinewidth": 0,
             "ticks": ""
            },
            "colorscale": [
             [
              0,
              "#0d0887"
             ],
             [
              0.1111111111111111,
              "#46039f"
             ],
             [
              0.2222222222222222,
              "#7201a8"
             ],
             [
              0.3333333333333333,
              "#9c179e"
             ],
             [
              0.4444444444444444,
              "#bd3786"
             ],
             [
              0.5555555555555556,
              "#d8576b"
             ],
             [
              0.6666666666666666,
              "#ed7953"
             ],
             [
              0.7777777777777778,
              "#fb9f3a"
             ],
             [
              0.8888888888888888,
              "#fdca26"
             ],
             [
              1,
              "#f0f921"
             ]
            ],
            "type": "histogram2dcontour"
           }
          ],
          "mesh3d": [
           {
            "colorbar": {
             "outlinewidth": 0,
             "ticks": ""
            },
            "type": "mesh3d"
           }
          ],
          "parcoords": [
           {
            "line": {
             "colorbar": {
              "outlinewidth": 0,
              "ticks": ""
             }
            },
            "type": "parcoords"
           }
          ],
          "pie": [
           {
            "automargin": true,
            "type": "pie"
           }
          ],
          "scatter": [
           {
            "marker": {
             "colorbar": {
              "outlinewidth": 0,
              "ticks": ""
             }
            },
            "type": "scatter"
           }
          ],
          "scatter3d": [
           {
            "line": {
             "colorbar": {
              "outlinewidth": 0,
              "ticks": ""
             }
            },
            "marker": {
             "colorbar": {
              "outlinewidth": 0,
              "ticks": ""
             }
            },
            "type": "scatter3d"
           }
          ],
          "scattercarpet": [
           {
            "marker": {
             "colorbar": {
              "outlinewidth": 0,
              "ticks": ""
             }
            },
            "type": "scattercarpet"
           }
          ],
          "scattergeo": [
           {
            "marker": {
             "colorbar": {
              "outlinewidth": 0,
              "ticks": ""
             }
            },
            "type": "scattergeo"
           }
          ],
          "scattergl": [
           {
            "marker": {
             "colorbar": {
              "outlinewidth": 0,
              "ticks": ""
             }
            },
            "type": "scattergl"
           }
          ],
          "scattermapbox": [
           {
            "marker": {
             "colorbar": {
              "outlinewidth": 0,
              "ticks": ""
             }
            },
            "type": "scattermapbox"
           }
          ],
          "scatterpolar": [
           {
            "marker": {
             "colorbar": {
              "outlinewidth": 0,
              "ticks": ""
             }
            },
            "type": "scatterpolar"
           }
          ],
          "scatterpolargl": [
           {
            "marker": {
             "colorbar": {
              "outlinewidth": 0,
              "ticks": ""
             }
            },
            "type": "scatterpolargl"
           }
          ],
          "scatterternary": [
           {
            "marker": {
             "colorbar": {
              "outlinewidth": 0,
              "ticks": ""
             }
            },
            "type": "scatterternary"
           }
          ],
          "surface": [
           {
            "colorbar": {
             "outlinewidth": 0,
             "ticks": ""
            },
            "colorscale": [
             [
              0,
              "#0d0887"
             ],
             [
              0.1111111111111111,
              "#46039f"
             ],
             [
              0.2222222222222222,
              "#7201a8"
             ],
             [
              0.3333333333333333,
              "#9c179e"
             ],
             [
              0.4444444444444444,
              "#bd3786"
             ],
             [
              0.5555555555555556,
              "#d8576b"
             ],
             [
              0.6666666666666666,
              "#ed7953"
             ],
             [
              0.7777777777777778,
              "#fb9f3a"
             ],
             [
              0.8888888888888888,
              "#fdca26"
             ],
             [
              1,
              "#f0f921"
             ]
            ],
            "type": "surface"
           }
          ],
          "table": [
           {
            "cells": {
             "fill": {
              "color": "#EBF0F8"
             },
             "line": {
              "color": "white"
             }
            },
            "header": {
             "fill": {
              "color": "#C8D4E3"
             },
             "line": {
              "color": "white"
             }
            },
            "type": "table"
           }
          ]
         },
         "layout": {
          "annotationdefaults": {
           "arrowcolor": "#2a3f5f",
           "arrowhead": 0,
           "arrowwidth": 1
          },
          "coloraxis": {
           "colorbar": {
            "outlinewidth": 0,
            "ticks": ""
           }
          },
          "colorscale": {
           "diverging": [
            [
             0,
             "#8e0152"
            ],
            [
             0.1,
             "#c51b7d"
            ],
            [
             0.2,
             "#de77ae"
            ],
            [
             0.3,
             "#f1b6da"
            ],
            [
             0.4,
             "#fde0ef"
            ],
            [
             0.5,
             "#f7f7f7"
            ],
            [
             0.6,
             "#e6f5d0"
            ],
            [
             0.7,
             "#b8e186"
            ],
            [
             0.8,
             "#7fbc41"
            ],
            [
             0.9,
             "#4d9221"
            ],
            [
             1,
             "#276419"
            ]
           ],
           "sequential": [
            [
             0,
             "#0d0887"
            ],
            [
             0.1111111111111111,
             "#46039f"
            ],
            [
             0.2222222222222222,
             "#7201a8"
            ],
            [
             0.3333333333333333,
             "#9c179e"
            ],
            [
             0.4444444444444444,
             "#bd3786"
            ],
            [
             0.5555555555555556,
             "#d8576b"
            ],
            [
             0.6666666666666666,
             "#ed7953"
            ],
            [
             0.7777777777777778,
             "#fb9f3a"
            ],
            [
             0.8888888888888888,
             "#fdca26"
            ],
            [
             1,
             "#f0f921"
            ]
           ],
           "sequentialminus": [
            [
             0,
             "#0d0887"
            ],
            [
             0.1111111111111111,
             "#46039f"
            ],
            [
             0.2222222222222222,
             "#7201a8"
            ],
            [
             0.3333333333333333,
             "#9c179e"
            ],
            [
             0.4444444444444444,
             "#bd3786"
            ],
            [
             0.5555555555555556,
             "#d8576b"
            ],
            [
             0.6666666666666666,
             "#ed7953"
            ],
            [
             0.7777777777777778,
             "#fb9f3a"
            ],
            [
             0.8888888888888888,
             "#fdca26"
            ],
            [
             1,
             "#f0f921"
            ]
           ]
          },
          "colorway": [
           "#636efa",
           "#EF553B",
           "#00cc96",
           "#ab63fa",
           "#FFA15A",
           "#19d3f3",
           "#FF6692",
           "#B6E880",
           "#FF97FF",
           "#FECB52"
          ],
          "font": {
           "color": "#2a3f5f"
          },
          "geo": {
           "bgcolor": "white",
           "lakecolor": "white",
           "landcolor": "#E5ECF6",
           "showlakes": true,
           "showland": true,
           "subunitcolor": "white"
          },
          "hoverlabel": {
           "align": "left"
          },
          "hovermode": "closest",
          "mapbox": {
           "style": "light"
          },
          "paper_bgcolor": "white",
          "plot_bgcolor": "#E5ECF6",
          "polar": {
           "angularaxis": {
            "gridcolor": "white",
            "linecolor": "white",
            "ticks": ""
           },
           "bgcolor": "#E5ECF6",
           "radialaxis": {
            "gridcolor": "white",
            "linecolor": "white",
            "ticks": ""
           }
          },
          "scene": {
           "xaxis": {
            "backgroundcolor": "#E5ECF6",
            "gridcolor": "white",
            "gridwidth": 2,
            "linecolor": "white",
            "showbackground": true,
            "ticks": "",
            "zerolinecolor": "white"
           },
           "yaxis": {
            "backgroundcolor": "#E5ECF6",
            "gridcolor": "white",
            "gridwidth": 2,
            "linecolor": "white",
            "showbackground": true,
            "ticks": "",
            "zerolinecolor": "white"
           },
           "zaxis": {
            "backgroundcolor": "#E5ECF6",
            "gridcolor": "white",
            "gridwidth": 2,
            "linecolor": "white",
            "showbackground": true,
            "ticks": "",
            "zerolinecolor": "white"
           }
          },
          "shapedefaults": {
           "line": {
            "color": "#2a3f5f"
           }
          },
          "ternary": {
           "aaxis": {
            "gridcolor": "white",
            "linecolor": "white",
            "ticks": ""
           },
           "baxis": {
            "gridcolor": "white",
            "linecolor": "white",
            "ticks": ""
           },
           "bgcolor": "#E5ECF6",
           "caxis": {
            "gridcolor": "white",
            "linecolor": "white",
            "ticks": ""
           }
          },
          "title": {
           "x": 0.05
          },
          "xaxis": {
           "automargin": true,
           "gridcolor": "white",
           "linecolor": "white",
           "ticks": "",
           "title": {
            "standoff": 15
           },
           "zerolinecolor": "white",
           "zerolinewidth": 2
          },
          "yaxis": {
           "automargin": true,
           "gridcolor": "white",
           "linecolor": "white",
           "ticks": "",
           "title": {
            "standoff": 15
           },
           "zerolinecolor": "white",
           "zerolinewidth": 2
          }
         }
        },
        "xaxis": {
         "anchor": "y",
         "domain": [
          0,
          1
         ],
         "title": {
          "text": "Hierarchical Clusters"
         }
        },
        "yaxis": {
         "anchor": "x",
         "domain": [
          0,
          1
         ],
         "title": {
          "text": "Physicians (per 10,000 people)"
         }
        }
       }
      },
      "text/html": [
       "<div>\n",
       "        \n",
       "        \n",
       "            <div id=\"e3f499fd-71ab-414f-8fb7-0c3bf75d1513\" class=\"plotly-graph-div\" style=\"height:600px; width:100%;\"></div>\n",
       "            <script type=\"text/javascript\">\n",
       "                require([\"plotly\"], function(Plotly) {\n",
       "                    window.PLOTLYENV=window.PLOTLYENV || {};\n",
       "                    \n",
       "                if (document.getElementById(\"e3f499fd-71ab-414f-8fb7-0c3bf75d1513\")) {\n",
       "                    Plotly.newPlot(\n",
       "                        'e3f499fd-71ab-414f-8fb7-0c3bf75d1513',\n",
       "                        [{\"hoverlabel\": {\"namelength\": 0}, \"hovertemplate\": \"<b>%{hovertext}</b><br><br>Hierarchical Clusters=%{marker.color}<br>Physicians (per 10,000 people)=%{y}\", \"hovertext\": [\"Norway\", \"Switzerland\", \"Ireland\", \"Germany\", \"Hong Kong, China (SAR)\", \"Australia\", \"Iceland\", \"Sweden\", \"Singapore\", \"Netherlands\", \"Denmark\", \"Finland\", \"Canada\", \"New Zealand\", \"United Kingdom\", \"United States\", \"Belgium\", \"Liechtenstein\", \"Japan\", \"Austria\", \"Luxembourg\", \"Israel\", \"Korea (Republic of)\", \"Slovenia\", \"Spain\", \"Czechia\", \"France\", \"Malta\", \"Italy\", \"Estonia\", \"Cyprus\", \"Greece\", \"Poland\", \"Lithuania\", \"United Arab Emirates\", \"Andorra\", \"Saudi Arabia\", \"Slovakia\", \"Latvia\", \"Portugal\", \"Qatar\", \"Chile\", \"Brunei Darussalam\", \"Hungary\", \"Bahrain\", \"Croatia\", \"Oman\", \"Argentina\", \"Russian Federation\", \"Belarus\", \"Kazakhstan\", \"Bulgaria\", \"Montenegro\", \"Romania\", \"Palau\", \"Barbados\", \"Kuwait\", \"Uruguay\", \"Turkey\", \"Bahamas\", \"Malaysia\", \"Seychelles\", \"Serbia\", \"Trinidad and Tobago\", \"Iran (Islamic Republic of)\", \"Mauritius\", \"Panama\", \"Costa Rica\", \"Albania\", \"Georgia\", \"Sri Lanka\", \"Cuba\", \"Saint Kitts and Nevis\", \"Antigua and Barbuda\", \"Bosnia and Herzegovina\", \"Mexico\", \"Thailand\", \"Grenada\", \"Brazil\", \"Colombia\", \"Armenia\", \"Algeria\", \"North Macedonia\", \"Peru\", \"China\", \"Ecuador\", \"Azerbaijan\", \"Ukraine\", \"Dominican Republic\", \"Saint Lucia\", \"Tunisia\", \"Mongolia\", \"Lebanon\", \"Botswana\", \"Saint Vincent and the Grenadines\", \"Jamaica\", \"Venezuela (Bolivarian Republic of)\", \"Dominica\", \"Fiji\", \"Paraguay\", \"Suriname\", \"Jordan\", \"Belize\", \"Maldives\", \"Tonga\", \"Philippines\", \"Moldova (Republic of)\", \"Turkmenistan\", \"Uzbekistan\", \"Libya\", \"Indonesia\", \"Samoa\", \"South Africa\", \"Bolivia (Plurinational State of)\", \"Gabon\", \"Egypt\", \"Marshall Islands\", \"Viet Nam\", \"Palestine, State of\", \"Iraq\", \"Morocco\", \"Kyrgyzstan\", \"Guyana\", \"El Salvador\", \"Tajikistan\", \"Cabo Verde\", \"Guatemala\", \"Nicaragua\", \"India\", \"Namibia\", \"Timor-Leste\", \"Honduras\", \"Kiribati\", \"Bhutan\", \"Bangladesh\", \"Micronesia (Federated States of)\", \"Sao Tome and Principe\", \"Congo\", \"Eswatini (Kingdom of)\", \"Lao People's Democratic Republic\", \"Vanuatu\", \"Ghana\", \"Zambia\", \"Equatorial Guinea\", \"Myanmar\", \"Cambodia\", \"Kenya\", \"Nepal\", \"Angola\", \"Cameroon\", \"Zimbabwe\", \"Pakistan\", \"Solomon Islands\", \"Syrian Arab Republic\", \"Papua New Guinea\", \"Comoros\", \"Rwanda\", \"Nigeria\", \"Tanzania (United Republic of)\", \"Uganda\", \"Mauritania\", \"Madagascar\", \"Benin\", \"Lesotho\", \"C\\u00f4te d'Ivoire\", \"Senegal\", \"Togo\", \"Sudan\", \"Haiti\", \"Afghanistan\", \"Djibouti\", \"Malawi\", \"Ethiopia\", \"Gambia\", \"Guinea\", \"Liberia\", \"Yemen\", \"Guinea-Bissau\", \"Congo (Democratic Republic of the)\", \"Mozambique\", \"Sierra Leone\", \"Burkina Faso\", \"Eritrea\", \"Mali\", \"Burundi\", \"South Sudan\", \"Chad\", \"Central African Republic\", \"Niger\"], \"legendgroup\": \"\", \"marker\": {\"color\": [0, 0, 0, 0, 0, 0, 0, 0, 0, 0, 0, 0, 0, 0, 0, 0, 0, 3, 0, 0, 0, 0, 0, 0, 0, 0, 0, 0, 0, 0, 0, 0, 0, 0, 3, 0, 3, 0, 0, 0, 3, 2, 3, 0, 3, 0, 3, 2, 0, 0, 0, 0, 0, 0, 2, 2, 3, 2, 5, 2, 2, 2, 0, 2, 5, 2, 1, 2, 0, 0, 2, 2, 2, 2, 0, 1, 2, 2, 1, 1, 0, 5, 0, 1, 1, 1, 2, 0, 1, 2, 5, 0, 5, 1, 2, 1, 1, 1, 1, 1, 1, 5, 1, 2, 1, 1, 0, 1, 1, 5, 1, 1, 1, 1, 1, 5, 1, 1, 5, 5, 5, 1, 1, 1, 1, 1, 1, 1, 1, 1, 1, 1, 1, 1, 1, 1, 1, 1, 1, 1, 1, 4, 4, 4, 4, 4, 4, 4, 4, 4, 4, 4, 4, 4, 4, 4, 4, 4, 4, 4, 4, 4, 4, 4, 4, 4, 4, 4, 4, 4, 4, 4, 4, 4, 4, 4, 4, 4, 4, 4, 4, 4, 4, 4, 4, 4, 4, 4, 4], \"coloraxis\": \"coloraxis\", \"symbol\": \"circle\"}, \"mode\": \"markers\", \"name\": \"\", \"showlegend\": false, \"type\": \"scatter\", \"x\": [0, 0, 0, 0, 0, 0, 0, 0, 0, 0, 0, 0, 0, 0, 0, 0, 0, 3, 0, 0, 0, 0, 0, 0, 0, 0, 0, 0, 0, 0, 0, 0, 0, 0, 3, 0, 3, 0, 0, 0, 3, 2, 3, 0, 3, 0, 3, 2, 0, 0, 0, 0, 0, 0, 2, 2, 3, 2, 5, 2, 2, 2, 0, 2, 5, 2, 1, 2, 0, 0, 2, 2, 2, 2, 0, 1, 2, 2, 1, 1, 0, 5, 0, 1, 1, 1, 2, 0, 1, 2, 5, 0, 5, 1, 2, 1, 1, 1, 1, 1, 1, 5, 1, 2, 1, 1, 0, 1, 1, 5, 1, 1, 1, 1, 1, 5, 1, 1, 5, 5, 5, 1, 1, 1, 1, 1, 1, 1, 1, 1, 1, 1, 1, 1, 1, 1, 1, 1, 1, 1, 1, 4, 4, 4, 4, 4, 4, 4, 4, 4, 4, 4, 4, 4, 4, 4, 4, 4, 4, 4, 4, 4, 4, 4, 4, 4, 4, 4, 4, 4, 4, 4, 4, 4, 4, 4, 4, 4, 4, 4, 4, 4, 4, 4, 4, 4, 4, 4, 4], \"xaxis\": \"x\", \"y\": [46.3, 42.4, 30.9, 42.1, 31.93191489361703, 35.9, 39.7, 54.0, 23.1, 35.1, 44.6, 38.1, 26.1, 30.3, 28.1, 25.9, 33.2, 31.93191489361703, 24.1, 51.4, 30.3, 32.2, 23.7, 30.0, 40.7, 43.1, 32.3, 38.3, 40.9, 34.7, 19.5, 45.9, 24.0, 43.4, 23.9, 33.3, 23.9, 24.6, 31.9, 33.4, 0.0, 10.8, 17.7, 32.3, 9.3, 30.0, 19.7, 39.6, 40.1, 40.8, 32.5, 39.9, 23.3, 22.6, 11.8, 24.9, 25.8, 50.5, 17.6, 19.4, 15.1, 9.5, 31.3, 26.7, 11.4, 20.2, 15.7, 11.5, 12.0, 51.0, 9.6, 81.9, 25.2, 27.6, 20.0, 22.5, 8.1, 14.5, 21.5, 20.8, 29.0, 18.3, 28.7, 12.7, 17.9, 20.5, 34.5, 30.1, 15.6, 1.1, 12.7, 28.9, 22.7, 3.7, 6.6, 13.2, 9.561363636363636, 10.8, 8.4, 13.7, 12.3, 23.4, 11.3, 10.4, 5.2, 12.8, 32.0, 22.2, 23.7, 21.6, 3.8, 3.4, 9.1, 16.1, 3.6, 7.9, 4.6, 8.2, 9.561363636363636, 8.2, 7.3, 18.8, 8.0, 15.7, 17.0, 7.7, 3.6, 10.1, 7.8, 3.7, 7.2, 3.1, 2.0, 3.7, 5.3, 1.9, 3.2, 1.2, 0.8, 5.0, 1.7, 1.8, 0.9, 4.0, 8.6, 1.7, 2.0, 6.5, 2.1, 0.9, 0.8, 9.8, 2.0, 12.2, 0.5, 1.7, 1.3, 3.8, 0.4, 0.9, 1.8, 1.8, 1.6, 0.7, 2.3, 0.7, 0.5, 4.1, 2.3, 2.8, 2.2, 0.2, 1.0, 1.1, 0.8, 0.4, 3.1, 2.0, 0.9, 0.7, 0.3, 0.6, 2.115217391304347, 1.4, 0.5, 2.115217391304347, 0.5, 0.6, 0.5], \"yaxis\": \"y\"}],\n",
       "                        {\"coloraxis\": {\"colorbar\": {\"title\": {\"text\": \"Hierarchical Clusters\"}}, \"colorscale\": [[0.0, \"#4B3F72\"], [0.25, \"#AB81CD\"], [0.5, \"#1F7A8C\"], [0.75, \"#03B5AA\"], [1.0, \"#A3E7FC\"]]}, \"height\": 600, \"legend\": {\"tracegroupgap\": 0}, \"margin\": {\"t\": 60}, \"template\": {\"data\": {\"bar\": [{\"error_x\": {\"color\": \"#2a3f5f\"}, \"error_y\": {\"color\": \"#2a3f5f\"}, \"marker\": {\"line\": {\"color\": \"#E5ECF6\", \"width\": 0.5}}, \"type\": \"bar\"}], \"barpolar\": [{\"marker\": {\"line\": {\"color\": \"#E5ECF6\", \"width\": 0.5}}, \"type\": \"barpolar\"}], \"carpet\": [{\"aaxis\": {\"endlinecolor\": \"#2a3f5f\", \"gridcolor\": \"white\", \"linecolor\": \"white\", \"minorgridcolor\": \"white\", \"startlinecolor\": \"#2a3f5f\"}, \"baxis\": {\"endlinecolor\": \"#2a3f5f\", \"gridcolor\": \"white\", \"linecolor\": \"white\", \"minorgridcolor\": \"white\", \"startlinecolor\": \"#2a3f5f\"}, \"type\": \"carpet\"}], \"choropleth\": [{\"colorbar\": {\"outlinewidth\": 0, \"ticks\": \"\"}, \"type\": \"choropleth\"}], \"contour\": [{\"colorbar\": {\"outlinewidth\": 0, \"ticks\": \"\"}, \"colorscale\": [[0.0, \"#0d0887\"], [0.1111111111111111, \"#46039f\"], [0.2222222222222222, \"#7201a8\"], [0.3333333333333333, \"#9c179e\"], [0.4444444444444444, \"#bd3786\"], [0.5555555555555556, \"#d8576b\"], [0.6666666666666666, \"#ed7953\"], [0.7777777777777778, \"#fb9f3a\"], [0.8888888888888888, \"#fdca26\"], [1.0, \"#f0f921\"]], \"type\": \"contour\"}], \"contourcarpet\": [{\"colorbar\": {\"outlinewidth\": 0, \"ticks\": \"\"}, \"type\": \"contourcarpet\"}], \"heatmap\": [{\"colorbar\": {\"outlinewidth\": 0, \"ticks\": \"\"}, \"colorscale\": [[0.0, \"#0d0887\"], [0.1111111111111111, \"#46039f\"], [0.2222222222222222, \"#7201a8\"], [0.3333333333333333, \"#9c179e\"], [0.4444444444444444, \"#bd3786\"], [0.5555555555555556, \"#d8576b\"], [0.6666666666666666, \"#ed7953\"], [0.7777777777777778, \"#fb9f3a\"], [0.8888888888888888, \"#fdca26\"], [1.0, \"#f0f921\"]], \"type\": \"heatmap\"}], \"heatmapgl\": [{\"colorbar\": {\"outlinewidth\": 0, \"ticks\": \"\"}, \"colorscale\": [[0.0, \"#0d0887\"], [0.1111111111111111, \"#46039f\"], [0.2222222222222222, \"#7201a8\"], [0.3333333333333333, \"#9c179e\"], [0.4444444444444444, \"#bd3786\"], [0.5555555555555556, \"#d8576b\"], [0.6666666666666666, \"#ed7953\"], [0.7777777777777778, \"#fb9f3a\"], [0.8888888888888888, \"#fdca26\"], [1.0, \"#f0f921\"]], \"type\": \"heatmapgl\"}], \"histogram\": [{\"marker\": {\"colorbar\": {\"outlinewidth\": 0, \"ticks\": \"\"}}, \"type\": \"histogram\"}], \"histogram2d\": [{\"colorbar\": {\"outlinewidth\": 0, \"ticks\": \"\"}, \"colorscale\": [[0.0, \"#0d0887\"], [0.1111111111111111, \"#46039f\"], [0.2222222222222222, \"#7201a8\"], [0.3333333333333333, \"#9c179e\"], [0.4444444444444444, \"#bd3786\"], [0.5555555555555556, \"#d8576b\"], [0.6666666666666666, \"#ed7953\"], [0.7777777777777778, \"#fb9f3a\"], [0.8888888888888888, \"#fdca26\"], [1.0, \"#f0f921\"]], \"type\": \"histogram2d\"}], \"histogram2dcontour\": [{\"colorbar\": {\"outlinewidth\": 0, \"ticks\": \"\"}, \"colorscale\": [[0.0, \"#0d0887\"], [0.1111111111111111, \"#46039f\"], [0.2222222222222222, \"#7201a8\"], [0.3333333333333333, \"#9c179e\"], [0.4444444444444444, \"#bd3786\"], [0.5555555555555556, \"#d8576b\"], [0.6666666666666666, \"#ed7953\"], [0.7777777777777778, \"#fb9f3a\"], [0.8888888888888888, \"#fdca26\"], [1.0, \"#f0f921\"]], \"type\": \"histogram2dcontour\"}], \"mesh3d\": [{\"colorbar\": {\"outlinewidth\": 0, \"ticks\": \"\"}, \"type\": \"mesh3d\"}], \"parcoords\": [{\"line\": {\"colorbar\": {\"outlinewidth\": 0, \"ticks\": \"\"}}, \"type\": \"parcoords\"}], \"pie\": [{\"automargin\": true, \"type\": \"pie\"}], \"scatter\": [{\"marker\": {\"colorbar\": {\"outlinewidth\": 0, \"ticks\": \"\"}}, \"type\": \"scatter\"}], \"scatter3d\": [{\"line\": {\"colorbar\": {\"outlinewidth\": 0, \"ticks\": \"\"}}, \"marker\": {\"colorbar\": {\"outlinewidth\": 0, \"ticks\": \"\"}}, \"type\": \"scatter3d\"}], \"scattercarpet\": [{\"marker\": {\"colorbar\": {\"outlinewidth\": 0, \"ticks\": \"\"}}, \"type\": \"scattercarpet\"}], \"scattergeo\": [{\"marker\": {\"colorbar\": {\"outlinewidth\": 0, \"ticks\": \"\"}}, \"type\": \"scattergeo\"}], \"scattergl\": [{\"marker\": {\"colorbar\": {\"outlinewidth\": 0, \"ticks\": \"\"}}, \"type\": \"scattergl\"}], \"scattermapbox\": [{\"marker\": {\"colorbar\": {\"outlinewidth\": 0, \"ticks\": \"\"}}, \"type\": \"scattermapbox\"}], \"scatterpolar\": [{\"marker\": {\"colorbar\": {\"outlinewidth\": 0, \"ticks\": \"\"}}, \"type\": \"scatterpolar\"}], \"scatterpolargl\": [{\"marker\": {\"colorbar\": {\"outlinewidth\": 0, \"ticks\": \"\"}}, \"type\": \"scatterpolargl\"}], \"scatterternary\": [{\"marker\": {\"colorbar\": {\"outlinewidth\": 0, \"ticks\": \"\"}}, \"type\": \"scatterternary\"}], \"surface\": [{\"colorbar\": {\"outlinewidth\": 0, \"ticks\": \"\"}, \"colorscale\": [[0.0, \"#0d0887\"], [0.1111111111111111, \"#46039f\"], [0.2222222222222222, \"#7201a8\"], [0.3333333333333333, \"#9c179e\"], [0.4444444444444444, \"#bd3786\"], [0.5555555555555556, \"#d8576b\"], [0.6666666666666666, \"#ed7953\"], [0.7777777777777778, \"#fb9f3a\"], [0.8888888888888888, \"#fdca26\"], [1.0, \"#f0f921\"]], \"type\": \"surface\"}], \"table\": [{\"cells\": {\"fill\": {\"color\": \"#EBF0F8\"}, \"line\": {\"color\": \"white\"}}, \"header\": {\"fill\": {\"color\": \"#C8D4E3\"}, \"line\": {\"color\": \"white\"}}, \"type\": \"table\"}]}, \"layout\": {\"annotationdefaults\": {\"arrowcolor\": \"#2a3f5f\", \"arrowhead\": 0, \"arrowwidth\": 1}, \"coloraxis\": {\"colorbar\": {\"outlinewidth\": 0, \"ticks\": \"\"}}, \"colorscale\": {\"diverging\": [[0, \"#8e0152\"], [0.1, \"#c51b7d\"], [0.2, \"#de77ae\"], [0.3, \"#f1b6da\"], [0.4, \"#fde0ef\"], [0.5, \"#f7f7f7\"], [0.6, \"#e6f5d0\"], [0.7, \"#b8e186\"], [0.8, \"#7fbc41\"], [0.9, \"#4d9221\"], [1, \"#276419\"]], \"sequential\": [[0.0, \"#0d0887\"], [0.1111111111111111, \"#46039f\"], [0.2222222222222222, \"#7201a8\"], [0.3333333333333333, \"#9c179e\"], [0.4444444444444444, \"#bd3786\"], [0.5555555555555556, \"#d8576b\"], [0.6666666666666666, \"#ed7953\"], [0.7777777777777778, \"#fb9f3a\"], [0.8888888888888888, \"#fdca26\"], [1.0, \"#f0f921\"]], \"sequentialminus\": [[0.0, \"#0d0887\"], [0.1111111111111111, \"#46039f\"], [0.2222222222222222, \"#7201a8\"], [0.3333333333333333, \"#9c179e\"], [0.4444444444444444, \"#bd3786\"], [0.5555555555555556, \"#d8576b\"], [0.6666666666666666, \"#ed7953\"], [0.7777777777777778, \"#fb9f3a\"], [0.8888888888888888, \"#fdca26\"], [1.0, \"#f0f921\"]]}, \"colorway\": [\"#636efa\", \"#EF553B\", \"#00cc96\", \"#ab63fa\", \"#FFA15A\", \"#19d3f3\", \"#FF6692\", \"#B6E880\", \"#FF97FF\", \"#FECB52\"], \"font\": {\"color\": \"#2a3f5f\"}, \"geo\": {\"bgcolor\": \"white\", \"lakecolor\": \"white\", \"landcolor\": \"#E5ECF6\", \"showlakes\": true, \"showland\": true, \"subunitcolor\": \"white\"}, \"hoverlabel\": {\"align\": \"left\"}, \"hovermode\": \"closest\", \"mapbox\": {\"style\": \"light\"}, \"paper_bgcolor\": \"white\", \"plot_bgcolor\": \"#E5ECF6\", \"polar\": {\"angularaxis\": {\"gridcolor\": \"white\", \"linecolor\": \"white\", \"ticks\": \"\"}, \"bgcolor\": \"#E5ECF6\", \"radialaxis\": {\"gridcolor\": \"white\", \"linecolor\": \"white\", \"ticks\": \"\"}}, \"scene\": {\"xaxis\": {\"backgroundcolor\": \"#E5ECF6\", \"gridcolor\": \"white\", \"gridwidth\": 2, \"linecolor\": \"white\", \"showbackground\": true, \"ticks\": \"\", \"zerolinecolor\": \"white\"}, \"yaxis\": {\"backgroundcolor\": \"#E5ECF6\", \"gridcolor\": \"white\", \"gridwidth\": 2, \"linecolor\": \"white\", \"showbackground\": true, \"ticks\": \"\", \"zerolinecolor\": \"white\"}, \"zaxis\": {\"backgroundcolor\": \"#E5ECF6\", \"gridcolor\": \"white\", \"gridwidth\": 2, \"linecolor\": \"white\", \"showbackground\": true, \"ticks\": \"\", \"zerolinecolor\": \"white\"}}, \"shapedefaults\": {\"line\": {\"color\": \"#2a3f5f\"}}, \"ternary\": {\"aaxis\": {\"gridcolor\": \"white\", \"linecolor\": \"white\", \"ticks\": \"\"}, \"baxis\": {\"gridcolor\": \"white\", \"linecolor\": \"white\", \"ticks\": \"\"}, \"bgcolor\": \"#E5ECF6\", \"caxis\": {\"gridcolor\": \"white\", \"linecolor\": \"white\", \"ticks\": \"\"}}, \"title\": {\"x\": 0.05}, \"xaxis\": {\"automargin\": true, \"gridcolor\": \"white\", \"linecolor\": \"white\", \"ticks\": \"\", \"title\": {\"standoff\": 15}, \"zerolinecolor\": \"white\", \"zerolinewidth\": 2}, \"yaxis\": {\"automargin\": true, \"gridcolor\": \"white\", \"linecolor\": \"white\", \"ticks\": \"\", \"title\": {\"standoff\": 15}, \"zerolinecolor\": \"white\", \"zerolinewidth\": 2}}}, \"xaxis\": {\"anchor\": \"y\", \"domain\": [0.0, 1.0], \"title\": {\"text\": \"Hierarchical Clusters\"}}, \"yaxis\": {\"anchor\": \"x\", \"domain\": [0.0, 1.0], \"title\": {\"text\": \"Physicians (per 10,000 people)\"}}},\n",
       "                        {\"responsive\": true}\n",
       "                    ).then(function(){\n",
       "                            \n",
       "var gd = document.getElementById('e3f499fd-71ab-414f-8fb7-0c3bf75d1513');\n",
       "var x = new MutationObserver(function (mutations, observer) {{\n",
       "        var display = window.getComputedStyle(gd).display;\n",
       "        if (!display || display === 'none') {{\n",
       "            console.log([gd, 'removed!']);\n",
       "            Plotly.purge(gd);\n",
       "            observer.disconnect();\n",
       "        }}\n",
       "}});\n",
       "\n",
       "// Listen for the removal of the full notebook cells\n",
       "var notebookContainer = gd.closest('#notebook-container');\n",
       "if (notebookContainer) {{\n",
       "    x.observe(notebookContainer, {childList: true});\n",
       "}}\n",
       "\n",
       "// Listen for the clearing of the current output cell\n",
       "var outputEl = gd.closest('.output');\n",
       "if (outputEl) {{\n",
       "    x.observe(outputEl, {childList: true});\n",
       "}}\n",
       "\n",
       "                        })\n",
       "                };\n",
       "                });\n",
       "            </script>\n",
       "        </div>"
      ]
     },
     "metadata": {},
     "output_type": "display_data"
    }
   ],
   "source": [
    "px.scatter(data_frame= X, x = 'Hierarchical Clusters', y = 'Physicians (per 10,000 people)', color= 'Hierarchical Clusters',\n",
    "           hover_name= X.index, color_continuous_scale= palette)"
   ]
  },
  {
   "cell_type": "code",
   "execution_count": 239,
   "metadata": {},
   "outputs": [
    {
     "data": {
      "application/vnd.plotly.v1+json": {
       "config": {
        "plotlyServerURL": "https://plot.ly"
       },
       "data": [
        {
         "hoverlabel": {
          "namelength": 0
         },
         "hovertemplate": "<b>%{hovertext}</b><br><br>Hierarchical Clusters=%{marker.color}<br>Mean years of schooling=%{y}",
         "hovertext": [
          "Norway",
          "Switzerland",
          "Ireland",
          "Germany",
          "Hong Kong, China (SAR)",
          "Australia",
          "Iceland",
          "Sweden",
          "Singapore",
          "Netherlands",
          "Denmark",
          "Finland",
          "Canada",
          "New Zealand",
          "United Kingdom",
          "United States",
          "Belgium",
          "Liechtenstein",
          "Japan",
          "Austria",
          "Luxembourg",
          "Israel",
          "Korea (Republic of)",
          "Slovenia",
          "Spain",
          "Czechia",
          "France",
          "Malta",
          "Italy",
          "Estonia",
          "Cyprus",
          "Greece",
          "Poland",
          "Lithuania",
          "United Arab Emirates",
          "Andorra",
          "Saudi Arabia",
          "Slovakia",
          "Latvia",
          "Portugal",
          "Qatar",
          "Chile",
          "Brunei Darussalam",
          "Hungary",
          "Bahrain",
          "Croatia",
          "Oman",
          "Argentina",
          "Russian Federation",
          "Belarus",
          "Kazakhstan",
          "Bulgaria",
          "Montenegro",
          "Romania",
          "Palau",
          "Barbados",
          "Kuwait",
          "Uruguay",
          "Turkey",
          "Bahamas",
          "Malaysia",
          "Seychelles",
          "Serbia",
          "Trinidad and Tobago",
          "Iran (Islamic Republic of)",
          "Mauritius",
          "Panama",
          "Costa Rica",
          "Albania",
          "Georgia",
          "Sri Lanka",
          "Cuba",
          "Saint Kitts and Nevis",
          "Antigua and Barbuda",
          "Bosnia and Herzegovina",
          "Mexico",
          "Thailand",
          "Grenada",
          "Brazil",
          "Colombia",
          "Armenia",
          "Algeria",
          "North Macedonia",
          "Peru",
          "China",
          "Ecuador",
          "Azerbaijan",
          "Ukraine",
          "Dominican Republic",
          "Saint Lucia",
          "Tunisia",
          "Mongolia",
          "Lebanon",
          "Botswana",
          "Saint Vincent and the Grenadines",
          "Jamaica",
          "Venezuela (Bolivarian Republic of)",
          "Dominica",
          "Fiji",
          "Paraguay",
          "Suriname",
          "Jordan",
          "Belize",
          "Maldives",
          "Tonga",
          "Philippines",
          "Moldova (Republic of)",
          "Turkmenistan",
          "Uzbekistan",
          "Libya",
          "Indonesia",
          "Samoa",
          "South Africa",
          "Bolivia (Plurinational State of)",
          "Gabon",
          "Egypt",
          "Marshall Islands",
          "Viet Nam",
          "Palestine, State of",
          "Iraq",
          "Morocco",
          "Kyrgyzstan",
          "Guyana",
          "El Salvador",
          "Tajikistan",
          "Cabo Verde",
          "Guatemala",
          "Nicaragua",
          "India",
          "Namibia",
          "Timor-Leste",
          "Honduras",
          "Kiribati",
          "Bhutan",
          "Bangladesh",
          "Micronesia (Federated States of)",
          "Sao Tome and Principe",
          "Congo",
          "Eswatini (Kingdom of)",
          "Lao People's Democratic Republic",
          "Vanuatu",
          "Ghana",
          "Zambia",
          "Equatorial Guinea",
          "Myanmar",
          "Cambodia",
          "Kenya",
          "Nepal",
          "Angola",
          "Cameroon",
          "Zimbabwe",
          "Pakistan",
          "Solomon Islands",
          "Syrian Arab Republic",
          "Papua New Guinea",
          "Comoros",
          "Rwanda",
          "Nigeria",
          "Tanzania (United Republic of)",
          "Uganda",
          "Mauritania",
          "Madagascar",
          "Benin",
          "Lesotho",
          "Côte d'Ivoire",
          "Senegal",
          "Togo",
          "Sudan",
          "Haiti",
          "Afghanistan",
          "Djibouti",
          "Malawi",
          "Ethiopia",
          "Gambia",
          "Guinea",
          "Liberia",
          "Yemen",
          "Guinea-Bissau",
          "Congo (Democratic Republic of the)",
          "Mozambique",
          "Sierra Leone",
          "Burkina Faso",
          "Eritrea",
          "Mali",
          "Burundi",
          "South Sudan",
          "Chad",
          "Central African Republic",
          "Niger"
         ],
         "legendgroup": "",
         "marker": {
          "color": [
           0,
           0,
           0,
           0,
           0,
           0,
           0,
           0,
           0,
           0,
           0,
           0,
           0,
           0,
           0,
           0,
           0,
           3,
           0,
           0,
           0,
           0,
           0,
           0,
           0,
           0,
           0,
           0,
           0,
           0,
           0,
           0,
           0,
           0,
           3,
           0,
           3,
           0,
           0,
           0,
           3,
           2,
           3,
           0,
           3,
           0,
           3,
           2,
           0,
           0,
           0,
           0,
           0,
           0,
           2,
           2,
           3,
           2,
           5,
           2,
           2,
           2,
           0,
           2,
           5,
           2,
           1,
           2,
           0,
           0,
           2,
           2,
           2,
           2,
           0,
           1,
           2,
           2,
           1,
           1,
           0,
           5,
           0,
           1,
           1,
           1,
           2,
           0,
           1,
           2,
           5,
           0,
           5,
           1,
           2,
           1,
           1,
           1,
           1,
           1,
           1,
           5,
           1,
           2,
           1,
           1,
           0,
           1,
           1,
           5,
           1,
           1,
           1,
           1,
           1,
           5,
           1,
           1,
           5,
           5,
           5,
           1,
           1,
           1,
           1,
           1,
           1,
           1,
           1,
           1,
           1,
           1,
           1,
           1,
           1,
           1,
           1,
           1,
           1,
           1,
           1,
           4,
           4,
           4,
           4,
           4,
           4,
           4,
           4,
           4,
           4,
           4,
           4,
           4,
           4,
           4,
           4,
           4,
           4,
           4,
           4,
           4,
           4,
           4,
           4,
           4,
           4,
           4,
           4,
           4,
           4,
           4,
           4,
           4,
           4,
           4,
           4,
           4,
           4,
           4,
           4,
           4,
           4,
           4,
           4,
           4,
           4,
           4,
           4
          ],
          "coloraxis": "coloraxis",
          "symbol": "circle"
         },
         "mode": "markers",
         "name": "",
         "showlegend": false,
         "type": "scatter",
         "x": [
          0,
          0,
          0,
          0,
          0,
          0,
          0,
          0,
          0,
          0,
          0,
          0,
          0,
          0,
          0,
          0,
          0,
          3,
          0,
          0,
          0,
          0,
          0,
          0,
          0,
          0,
          0,
          0,
          0,
          0,
          0,
          0,
          0,
          0,
          3,
          0,
          3,
          0,
          0,
          0,
          3,
          2,
          3,
          0,
          3,
          0,
          3,
          2,
          0,
          0,
          0,
          0,
          0,
          0,
          2,
          2,
          3,
          2,
          5,
          2,
          2,
          2,
          0,
          2,
          5,
          2,
          1,
          2,
          0,
          0,
          2,
          2,
          2,
          2,
          0,
          1,
          2,
          2,
          1,
          1,
          0,
          5,
          0,
          1,
          1,
          1,
          2,
          0,
          1,
          2,
          5,
          0,
          5,
          1,
          2,
          1,
          1,
          1,
          1,
          1,
          1,
          5,
          1,
          2,
          1,
          1,
          0,
          1,
          1,
          5,
          1,
          1,
          1,
          1,
          1,
          5,
          1,
          1,
          5,
          5,
          5,
          1,
          1,
          1,
          1,
          1,
          1,
          1,
          1,
          1,
          1,
          1,
          1,
          1,
          1,
          1,
          1,
          1,
          1,
          1,
          1,
          4,
          4,
          4,
          4,
          4,
          4,
          4,
          4,
          4,
          4,
          4,
          4,
          4,
          4,
          4,
          4,
          4,
          4,
          4,
          4,
          4,
          4,
          4,
          4,
          4,
          4,
          4,
          4,
          4,
          4,
          4,
          4,
          4,
          4,
          4,
          4,
          4,
          4,
          4,
          4,
          4,
          4,
          4,
          4,
          4,
          4,
          4,
          4
         ],
         "xaxis": "x",
         "y": [
          12.6,
          13.4,
          12.5,
          14.1,
          12,
          12.7,
          12.5,
          12.4,
          11.5,
          12.2,
          12.6,
          12.4,
          13.3,
          12.7,
          13,
          13.4,
          11.8,
          12.5,
          12.8,
          12.6,
          12.2,
          13,
          12.2,
          12.3,
          9.8,
          12.7,
          11.4,
          11.3,
          10.2,
          13,
          12.1,
          10.5,
          12.3,
          13,
          11,
          10.2,
          9.7,
          12.6,
          12.8,
          9.2,
          9.7,
          10.4,
          9.1,
          11.9,
          9.4,
          11.4,
          9.7,
          10.6,
          12,
          12.3,
          11.8,
          11.8,
          11.4,
          11,
          12.4,
          10.6,
          7.3,
          8.7,
          7.7,
          11.5,
          10.2,
          9.7,
          11.2,
          11,
          10,
          9.4,
          10.2,
          8.7,
          10.1,
          12.8,
          11.1,
          11.8,
          8.5,
          9.3,
          9.7,
          8.6,
          7.7,
          8.8,
          7.8,
          8.3,
          11.8,
          8,
          9.7,
          9.2,
          7.9,
          9,
          10.5,
          11.3,
          7.9,
          8.5,
          7.2,
          10.2,
          8.7,
          9.3,
          8.6,
          9.8,
          10.3,
          7.8,
          10.9,
          8.5,
          9.1,
          10.5,
          9.8,
          6.8,
          11.2,
          9.4,
          11.6,
          9.8,
          11.5,
          7.6,
          8,
          10.6,
          10.2,
          9,
          8.3,
          7.3,
          10.9,
          8.2,
          9.1,
          7.3,
          5.5,
          10.9,
          8.5,
          6.9,
          10.7,
          6.2,
          6.5,
          6.8,
          6.5,
          6.9,
          4.5,
          6.6,
          7.9,
          3.1,
          6.1,
          7.7,
          6.4,
          6.5,
          6.7,
          5.2,
          6.8,
          7.2,
          7.1,
          5.6,
          5,
          4.8,
          6.6,
          4.9,
          5.1,
          6.3,
          8.3,
          5.2,
          5.5,
          5.1,
          4.6,
          4.9,
          4.4,
          6.5,
          6,
          6.1,
          4.6,
          6.1,
          3.8,
          6.3,
          5.2,
          3.1,
          4.9,
          3.7,
          5.4,
          3.9,
          4,
          4.6,
          2.8,
          3.7,
          2.7,
          4.7,
          3.2,
          3.3,
          6.8,
          3.5,
          3.6,
          1.6,
          3.9,
          2.4,
          3.1,
          4.8,
          2.4,
          4.3,
          2
         ],
         "yaxis": "y"
        }
       ],
       "layout": {
        "coloraxis": {
         "colorbar": {
          "title": {
           "text": "Hierarchical Clusters"
          }
         },
         "colorscale": [
          [
           0,
           "#4B3F72"
          ],
          [
           0.25,
           "#AB81CD"
          ],
          [
           0.5,
           "#1F7A8C"
          ],
          [
           0.75,
           "#03B5AA"
          ],
          [
           1,
           "#A3E7FC"
          ]
         ]
        },
        "height": 600,
        "legend": {
         "tracegroupgap": 0
        },
        "margin": {
         "t": 60
        },
        "template": {
         "data": {
          "bar": [
           {
            "error_x": {
             "color": "#2a3f5f"
            },
            "error_y": {
             "color": "#2a3f5f"
            },
            "marker": {
             "line": {
              "color": "#E5ECF6",
              "width": 0.5
             }
            },
            "type": "bar"
           }
          ],
          "barpolar": [
           {
            "marker": {
             "line": {
              "color": "#E5ECF6",
              "width": 0.5
             }
            },
            "type": "barpolar"
           }
          ],
          "carpet": [
           {
            "aaxis": {
             "endlinecolor": "#2a3f5f",
             "gridcolor": "white",
             "linecolor": "white",
             "minorgridcolor": "white",
             "startlinecolor": "#2a3f5f"
            },
            "baxis": {
             "endlinecolor": "#2a3f5f",
             "gridcolor": "white",
             "linecolor": "white",
             "minorgridcolor": "white",
             "startlinecolor": "#2a3f5f"
            },
            "type": "carpet"
           }
          ],
          "choropleth": [
           {
            "colorbar": {
             "outlinewidth": 0,
             "ticks": ""
            },
            "type": "choropleth"
           }
          ],
          "contour": [
           {
            "colorbar": {
             "outlinewidth": 0,
             "ticks": ""
            },
            "colorscale": [
             [
              0,
              "#0d0887"
             ],
             [
              0.1111111111111111,
              "#46039f"
             ],
             [
              0.2222222222222222,
              "#7201a8"
             ],
             [
              0.3333333333333333,
              "#9c179e"
             ],
             [
              0.4444444444444444,
              "#bd3786"
             ],
             [
              0.5555555555555556,
              "#d8576b"
             ],
             [
              0.6666666666666666,
              "#ed7953"
             ],
             [
              0.7777777777777778,
              "#fb9f3a"
             ],
             [
              0.8888888888888888,
              "#fdca26"
             ],
             [
              1,
              "#f0f921"
             ]
            ],
            "type": "contour"
           }
          ],
          "contourcarpet": [
           {
            "colorbar": {
             "outlinewidth": 0,
             "ticks": ""
            },
            "type": "contourcarpet"
           }
          ],
          "heatmap": [
           {
            "colorbar": {
             "outlinewidth": 0,
             "ticks": ""
            },
            "colorscale": [
             [
              0,
              "#0d0887"
             ],
             [
              0.1111111111111111,
              "#46039f"
             ],
             [
              0.2222222222222222,
              "#7201a8"
             ],
             [
              0.3333333333333333,
              "#9c179e"
             ],
             [
              0.4444444444444444,
              "#bd3786"
             ],
             [
              0.5555555555555556,
              "#d8576b"
             ],
             [
              0.6666666666666666,
              "#ed7953"
             ],
             [
              0.7777777777777778,
              "#fb9f3a"
             ],
             [
              0.8888888888888888,
              "#fdca26"
             ],
             [
              1,
              "#f0f921"
             ]
            ],
            "type": "heatmap"
           }
          ],
          "heatmapgl": [
           {
            "colorbar": {
             "outlinewidth": 0,
             "ticks": ""
            },
            "colorscale": [
             [
              0,
              "#0d0887"
             ],
             [
              0.1111111111111111,
              "#46039f"
             ],
             [
              0.2222222222222222,
              "#7201a8"
             ],
             [
              0.3333333333333333,
              "#9c179e"
             ],
             [
              0.4444444444444444,
              "#bd3786"
             ],
             [
              0.5555555555555556,
              "#d8576b"
             ],
             [
              0.6666666666666666,
              "#ed7953"
             ],
             [
              0.7777777777777778,
              "#fb9f3a"
             ],
             [
              0.8888888888888888,
              "#fdca26"
             ],
             [
              1,
              "#f0f921"
             ]
            ],
            "type": "heatmapgl"
           }
          ],
          "histogram": [
           {
            "marker": {
             "colorbar": {
              "outlinewidth": 0,
              "ticks": ""
             }
            },
            "type": "histogram"
           }
          ],
          "histogram2d": [
           {
            "colorbar": {
             "outlinewidth": 0,
             "ticks": ""
            },
            "colorscale": [
             [
              0,
              "#0d0887"
             ],
             [
              0.1111111111111111,
              "#46039f"
             ],
             [
              0.2222222222222222,
              "#7201a8"
             ],
             [
              0.3333333333333333,
              "#9c179e"
             ],
             [
              0.4444444444444444,
              "#bd3786"
             ],
             [
              0.5555555555555556,
              "#d8576b"
             ],
             [
              0.6666666666666666,
              "#ed7953"
             ],
             [
              0.7777777777777778,
              "#fb9f3a"
             ],
             [
              0.8888888888888888,
              "#fdca26"
             ],
             [
              1,
              "#f0f921"
             ]
            ],
            "type": "histogram2d"
           }
          ],
          "histogram2dcontour": [
           {
            "colorbar": {
             "outlinewidth": 0,
             "ticks": ""
            },
            "colorscale": [
             [
              0,
              "#0d0887"
             ],
             [
              0.1111111111111111,
              "#46039f"
             ],
             [
              0.2222222222222222,
              "#7201a8"
             ],
             [
              0.3333333333333333,
              "#9c179e"
             ],
             [
              0.4444444444444444,
              "#bd3786"
             ],
             [
              0.5555555555555556,
              "#d8576b"
             ],
             [
              0.6666666666666666,
              "#ed7953"
             ],
             [
              0.7777777777777778,
              "#fb9f3a"
             ],
             [
              0.8888888888888888,
              "#fdca26"
             ],
             [
              1,
              "#f0f921"
             ]
            ],
            "type": "histogram2dcontour"
           }
          ],
          "mesh3d": [
           {
            "colorbar": {
             "outlinewidth": 0,
             "ticks": ""
            },
            "type": "mesh3d"
           }
          ],
          "parcoords": [
           {
            "line": {
             "colorbar": {
              "outlinewidth": 0,
              "ticks": ""
             }
            },
            "type": "parcoords"
           }
          ],
          "pie": [
           {
            "automargin": true,
            "type": "pie"
           }
          ],
          "scatter": [
           {
            "marker": {
             "colorbar": {
              "outlinewidth": 0,
              "ticks": ""
             }
            },
            "type": "scatter"
           }
          ],
          "scatter3d": [
           {
            "line": {
             "colorbar": {
              "outlinewidth": 0,
              "ticks": ""
             }
            },
            "marker": {
             "colorbar": {
              "outlinewidth": 0,
              "ticks": ""
             }
            },
            "type": "scatter3d"
           }
          ],
          "scattercarpet": [
           {
            "marker": {
             "colorbar": {
              "outlinewidth": 0,
              "ticks": ""
             }
            },
            "type": "scattercarpet"
           }
          ],
          "scattergeo": [
           {
            "marker": {
             "colorbar": {
              "outlinewidth": 0,
              "ticks": ""
             }
            },
            "type": "scattergeo"
           }
          ],
          "scattergl": [
           {
            "marker": {
             "colorbar": {
              "outlinewidth": 0,
              "ticks": ""
             }
            },
            "type": "scattergl"
           }
          ],
          "scattermapbox": [
           {
            "marker": {
             "colorbar": {
              "outlinewidth": 0,
              "ticks": ""
             }
            },
            "type": "scattermapbox"
           }
          ],
          "scatterpolar": [
           {
            "marker": {
             "colorbar": {
              "outlinewidth": 0,
              "ticks": ""
             }
            },
            "type": "scatterpolar"
           }
          ],
          "scatterpolargl": [
           {
            "marker": {
             "colorbar": {
              "outlinewidth": 0,
              "ticks": ""
             }
            },
            "type": "scatterpolargl"
           }
          ],
          "scatterternary": [
           {
            "marker": {
             "colorbar": {
              "outlinewidth": 0,
              "ticks": ""
             }
            },
            "type": "scatterternary"
           }
          ],
          "surface": [
           {
            "colorbar": {
             "outlinewidth": 0,
             "ticks": ""
            },
            "colorscale": [
             [
              0,
              "#0d0887"
             ],
             [
              0.1111111111111111,
              "#46039f"
             ],
             [
              0.2222222222222222,
              "#7201a8"
             ],
             [
              0.3333333333333333,
              "#9c179e"
             ],
             [
              0.4444444444444444,
              "#bd3786"
             ],
             [
              0.5555555555555556,
              "#d8576b"
             ],
             [
              0.6666666666666666,
              "#ed7953"
             ],
             [
              0.7777777777777778,
              "#fb9f3a"
             ],
             [
              0.8888888888888888,
              "#fdca26"
             ],
             [
              1,
              "#f0f921"
             ]
            ],
            "type": "surface"
           }
          ],
          "table": [
           {
            "cells": {
             "fill": {
              "color": "#EBF0F8"
             },
             "line": {
              "color": "white"
             }
            },
            "header": {
             "fill": {
              "color": "#C8D4E3"
             },
             "line": {
              "color": "white"
             }
            },
            "type": "table"
           }
          ]
         },
         "layout": {
          "annotationdefaults": {
           "arrowcolor": "#2a3f5f",
           "arrowhead": 0,
           "arrowwidth": 1
          },
          "coloraxis": {
           "colorbar": {
            "outlinewidth": 0,
            "ticks": ""
           }
          },
          "colorscale": {
           "diverging": [
            [
             0,
             "#8e0152"
            ],
            [
             0.1,
             "#c51b7d"
            ],
            [
             0.2,
             "#de77ae"
            ],
            [
             0.3,
             "#f1b6da"
            ],
            [
             0.4,
             "#fde0ef"
            ],
            [
             0.5,
             "#f7f7f7"
            ],
            [
             0.6,
             "#e6f5d0"
            ],
            [
             0.7,
             "#b8e186"
            ],
            [
             0.8,
             "#7fbc41"
            ],
            [
             0.9,
             "#4d9221"
            ],
            [
             1,
             "#276419"
            ]
           ],
           "sequential": [
            [
             0,
             "#0d0887"
            ],
            [
             0.1111111111111111,
             "#46039f"
            ],
            [
             0.2222222222222222,
             "#7201a8"
            ],
            [
             0.3333333333333333,
             "#9c179e"
            ],
            [
             0.4444444444444444,
             "#bd3786"
            ],
            [
             0.5555555555555556,
             "#d8576b"
            ],
            [
             0.6666666666666666,
             "#ed7953"
            ],
            [
             0.7777777777777778,
             "#fb9f3a"
            ],
            [
             0.8888888888888888,
             "#fdca26"
            ],
            [
             1,
             "#f0f921"
            ]
           ],
           "sequentialminus": [
            [
             0,
             "#0d0887"
            ],
            [
             0.1111111111111111,
             "#46039f"
            ],
            [
             0.2222222222222222,
             "#7201a8"
            ],
            [
             0.3333333333333333,
             "#9c179e"
            ],
            [
             0.4444444444444444,
             "#bd3786"
            ],
            [
             0.5555555555555556,
             "#d8576b"
            ],
            [
             0.6666666666666666,
             "#ed7953"
            ],
            [
             0.7777777777777778,
             "#fb9f3a"
            ],
            [
             0.8888888888888888,
             "#fdca26"
            ],
            [
             1,
             "#f0f921"
            ]
           ]
          },
          "colorway": [
           "#636efa",
           "#EF553B",
           "#00cc96",
           "#ab63fa",
           "#FFA15A",
           "#19d3f3",
           "#FF6692",
           "#B6E880",
           "#FF97FF",
           "#FECB52"
          ],
          "font": {
           "color": "#2a3f5f"
          },
          "geo": {
           "bgcolor": "white",
           "lakecolor": "white",
           "landcolor": "#E5ECF6",
           "showlakes": true,
           "showland": true,
           "subunitcolor": "white"
          },
          "hoverlabel": {
           "align": "left"
          },
          "hovermode": "closest",
          "mapbox": {
           "style": "light"
          },
          "paper_bgcolor": "white",
          "plot_bgcolor": "#E5ECF6",
          "polar": {
           "angularaxis": {
            "gridcolor": "white",
            "linecolor": "white",
            "ticks": ""
           },
           "bgcolor": "#E5ECF6",
           "radialaxis": {
            "gridcolor": "white",
            "linecolor": "white",
            "ticks": ""
           }
          },
          "scene": {
           "xaxis": {
            "backgroundcolor": "#E5ECF6",
            "gridcolor": "white",
            "gridwidth": 2,
            "linecolor": "white",
            "showbackground": true,
            "ticks": "",
            "zerolinecolor": "white"
           },
           "yaxis": {
            "backgroundcolor": "#E5ECF6",
            "gridcolor": "white",
            "gridwidth": 2,
            "linecolor": "white",
            "showbackground": true,
            "ticks": "",
            "zerolinecolor": "white"
           },
           "zaxis": {
            "backgroundcolor": "#E5ECF6",
            "gridcolor": "white",
            "gridwidth": 2,
            "linecolor": "white",
            "showbackground": true,
            "ticks": "",
            "zerolinecolor": "white"
           }
          },
          "shapedefaults": {
           "line": {
            "color": "#2a3f5f"
           }
          },
          "ternary": {
           "aaxis": {
            "gridcolor": "white",
            "linecolor": "white",
            "ticks": ""
           },
           "baxis": {
            "gridcolor": "white",
            "linecolor": "white",
            "ticks": ""
           },
           "bgcolor": "#E5ECF6",
           "caxis": {
            "gridcolor": "white",
            "linecolor": "white",
            "ticks": ""
           }
          },
          "title": {
           "x": 0.05
          },
          "xaxis": {
           "automargin": true,
           "gridcolor": "white",
           "linecolor": "white",
           "ticks": "",
           "title": {
            "standoff": 15
           },
           "zerolinecolor": "white",
           "zerolinewidth": 2
          },
          "yaxis": {
           "automargin": true,
           "gridcolor": "white",
           "linecolor": "white",
           "ticks": "",
           "title": {
            "standoff": 15
           },
           "zerolinecolor": "white",
           "zerolinewidth": 2
          }
         }
        },
        "xaxis": {
         "anchor": "y",
         "domain": [
          0,
          1
         ],
         "title": {
          "text": "Hierarchical Clusters"
         }
        },
        "yaxis": {
         "anchor": "x",
         "domain": [
          0,
          1
         ],
         "title": {
          "text": "Mean years of schooling"
         }
        }
       }
      },
      "text/html": [
       "<div>\n",
       "        \n",
       "        \n",
       "            <div id=\"11229fb1-6ae0-495b-bcc7-b19fc8793219\" class=\"plotly-graph-div\" style=\"height:600px; width:100%;\"></div>\n",
       "            <script type=\"text/javascript\">\n",
       "                require([\"plotly\"], function(Plotly) {\n",
       "                    window.PLOTLYENV=window.PLOTLYENV || {};\n",
       "                    \n",
       "                if (document.getElementById(\"11229fb1-6ae0-495b-bcc7-b19fc8793219\")) {\n",
       "                    Plotly.newPlot(\n",
       "                        '11229fb1-6ae0-495b-bcc7-b19fc8793219',\n",
       "                        [{\"hoverlabel\": {\"namelength\": 0}, \"hovertemplate\": \"<b>%{hovertext}</b><br><br>Hierarchical Clusters=%{marker.color}<br>Mean years of schooling=%{y}\", \"hovertext\": [\"Norway\", \"Switzerland\", \"Ireland\", \"Germany\", \"Hong Kong, China (SAR)\", \"Australia\", \"Iceland\", \"Sweden\", \"Singapore\", \"Netherlands\", \"Denmark\", \"Finland\", \"Canada\", \"New Zealand\", \"United Kingdom\", \"United States\", \"Belgium\", \"Liechtenstein\", \"Japan\", \"Austria\", \"Luxembourg\", \"Israel\", \"Korea (Republic of)\", \"Slovenia\", \"Spain\", \"Czechia\", \"France\", \"Malta\", \"Italy\", \"Estonia\", \"Cyprus\", \"Greece\", \"Poland\", \"Lithuania\", \"United Arab Emirates\", \"Andorra\", \"Saudi Arabia\", \"Slovakia\", \"Latvia\", \"Portugal\", \"Qatar\", \"Chile\", \"Brunei Darussalam\", \"Hungary\", \"Bahrain\", \"Croatia\", \"Oman\", \"Argentina\", \"Russian Federation\", \"Belarus\", \"Kazakhstan\", \"Bulgaria\", \"Montenegro\", \"Romania\", \"Palau\", \"Barbados\", \"Kuwait\", \"Uruguay\", \"Turkey\", \"Bahamas\", \"Malaysia\", \"Seychelles\", \"Serbia\", \"Trinidad and Tobago\", \"Iran (Islamic Republic of)\", \"Mauritius\", \"Panama\", \"Costa Rica\", \"Albania\", \"Georgia\", \"Sri Lanka\", \"Cuba\", \"Saint Kitts and Nevis\", \"Antigua and Barbuda\", \"Bosnia and Herzegovina\", \"Mexico\", \"Thailand\", \"Grenada\", \"Brazil\", \"Colombia\", \"Armenia\", \"Algeria\", \"North Macedonia\", \"Peru\", \"China\", \"Ecuador\", \"Azerbaijan\", \"Ukraine\", \"Dominican Republic\", \"Saint Lucia\", \"Tunisia\", \"Mongolia\", \"Lebanon\", \"Botswana\", \"Saint Vincent and the Grenadines\", \"Jamaica\", \"Venezuela (Bolivarian Republic of)\", \"Dominica\", \"Fiji\", \"Paraguay\", \"Suriname\", \"Jordan\", \"Belize\", \"Maldives\", \"Tonga\", \"Philippines\", \"Moldova (Republic of)\", \"Turkmenistan\", \"Uzbekistan\", \"Libya\", \"Indonesia\", \"Samoa\", \"South Africa\", \"Bolivia (Plurinational State of)\", \"Gabon\", \"Egypt\", \"Marshall Islands\", \"Viet Nam\", \"Palestine, State of\", \"Iraq\", \"Morocco\", \"Kyrgyzstan\", \"Guyana\", \"El Salvador\", \"Tajikistan\", \"Cabo Verde\", \"Guatemala\", \"Nicaragua\", \"India\", \"Namibia\", \"Timor-Leste\", \"Honduras\", \"Kiribati\", \"Bhutan\", \"Bangladesh\", \"Micronesia (Federated States of)\", \"Sao Tome and Principe\", \"Congo\", \"Eswatini (Kingdom of)\", \"Lao People's Democratic Republic\", \"Vanuatu\", \"Ghana\", \"Zambia\", \"Equatorial Guinea\", \"Myanmar\", \"Cambodia\", \"Kenya\", \"Nepal\", \"Angola\", \"Cameroon\", \"Zimbabwe\", \"Pakistan\", \"Solomon Islands\", \"Syrian Arab Republic\", \"Papua New Guinea\", \"Comoros\", \"Rwanda\", \"Nigeria\", \"Tanzania (United Republic of)\", \"Uganda\", \"Mauritania\", \"Madagascar\", \"Benin\", \"Lesotho\", \"C\\u00f4te d'Ivoire\", \"Senegal\", \"Togo\", \"Sudan\", \"Haiti\", \"Afghanistan\", \"Djibouti\", \"Malawi\", \"Ethiopia\", \"Gambia\", \"Guinea\", \"Liberia\", \"Yemen\", \"Guinea-Bissau\", \"Congo (Democratic Republic of the)\", \"Mozambique\", \"Sierra Leone\", \"Burkina Faso\", \"Eritrea\", \"Mali\", \"Burundi\", \"South Sudan\", \"Chad\", \"Central African Republic\", \"Niger\"], \"legendgroup\": \"\", \"marker\": {\"color\": [0, 0, 0, 0, 0, 0, 0, 0, 0, 0, 0, 0, 0, 0, 0, 0, 0, 3, 0, 0, 0, 0, 0, 0, 0, 0, 0, 0, 0, 0, 0, 0, 0, 0, 3, 0, 3, 0, 0, 0, 3, 2, 3, 0, 3, 0, 3, 2, 0, 0, 0, 0, 0, 0, 2, 2, 3, 2, 5, 2, 2, 2, 0, 2, 5, 2, 1, 2, 0, 0, 2, 2, 2, 2, 0, 1, 2, 2, 1, 1, 0, 5, 0, 1, 1, 1, 2, 0, 1, 2, 5, 0, 5, 1, 2, 1, 1, 1, 1, 1, 1, 5, 1, 2, 1, 1, 0, 1, 1, 5, 1, 1, 1, 1, 1, 5, 1, 1, 5, 5, 5, 1, 1, 1, 1, 1, 1, 1, 1, 1, 1, 1, 1, 1, 1, 1, 1, 1, 1, 1, 1, 4, 4, 4, 4, 4, 4, 4, 4, 4, 4, 4, 4, 4, 4, 4, 4, 4, 4, 4, 4, 4, 4, 4, 4, 4, 4, 4, 4, 4, 4, 4, 4, 4, 4, 4, 4, 4, 4, 4, 4, 4, 4, 4, 4, 4, 4, 4, 4], \"coloraxis\": \"coloraxis\", \"symbol\": \"circle\"}, \"mode\": \"markers\", \"name\": \"\", \"showlegend\": false, \"type\": \"scatter\", \"x\": [0, 0, 0, 0, 0, 0, 0, 0, 0, 0, 0, 0, 0, 0, 0, 0, 0, 3, 0, 0, 0, 0, 0, 0, 0, 0, 0, 0, 0, 0, 0, 0, 0, 0, 3, 0, 3, 0, 0, 0, 3, 2, 3, 0, 3, 0, 3, 2, 0, 0, 0, 0, 0, 0, 2, 2, 3, 2, 5, 2, 2, 2, 0, 2, 5, 2, 1, 2, 0, 0, 2, 2, 2, 2, 0, 1, 2, 2, 1, 1, 0, 5, 0, 1, 1, 1, 2, 0, 1, 2, 5, 0, 5, 1, 2, 1, 1, 1, 1, 1, 1, 5, 1, 2, 1, 1, 0, 1, 1, 5, 1, 1, 1, 1, 1, 5, 1, 1, 5, 5, 5, 1, 1, 1, 1, 1, 1, 1, 1, 1, 1, 1, 1, 1, 1, 1, 1, 1, 1, 1, 1, 4, 4, 4, 4, 4, 4, 4, 4, 4, 4, 4, 4, 4, 4, 4, 4, 4, 4, 4, 4, 4, 4, 4, 4, 4, 4, 4, 4, 4, 4, 4, 4, 4, 4, 4, 4, 4, 4, 4, 4, 4, 4, 4, 4, 4, 4, 4, 4], \"xaxis\": \"x\", \"y\": [12.6, 13.4, 12.5, 14.1, 12.0, 12.7, 12.5, 12.4, 11.5, 12.2, 12.6, 12.4, 13.3, 12.7, 13.0, 13.4, 11.8, 12.5, 12.8, 12.6, 12.2, 13.0, 12.2, 12.3, 9.8, 12.7, 11.4, 11.3, 10.2, 13.0, 12.1, 10.5, 12.3, 13.0, 11.0, 10.2, 9.7, 12.6, 12.8, 9.2, 9.7, 10.4, 9.1, 11.9, 9.4, 11.4, 9.7, 10.6, 12.0, 12.3, 11.8, 11.8, 11.4, 11.0, 12.4, 10.6, 7.3, 8.7, 7.7, 11.5, 10.2, 9.7, 11.2, 11.0, 10.0, 9.4, 10.2, 8.7, 10.1, 12.8, 11.1, 11.8, 8.5, 9.3, 9.7, 8.6, 7.7, 8.8, 7.8, 8.3, 11.8, 8.0, 9.7, 9.2, 7.9, 9.0, 10.5, 11.3, 7.9, 8.5, 7.2, 10.2, 8.7, 9.3, 8.6, 9.8, 10.3, 7.8, 10.9, 8.5, 9.1, 10.5, 9.8, 6.8, 11.2, 9.4, 11.6, 9.8, 11.5, 7.6, 8.0, 10.6, 10.2, 9.0, 8.3, 7.3, 10.9, 8.2, 9.1, 7.3, 5.5, 10.9, 8.5, 6.9, 10.7, 6.2, 6.5, 6.8, 6.5, 6.9, 4.5, 6.6, 7.9, 3.1, 6.1, 7.7, 6.4, 6.5, 6.7, 5.2, 6.8, 7.2, 7.1, 5.6, 5.0, 4.8, 6.6, 4.9, 5.1, 6.3, 8.3, 5.2, 5.5, 5.1, 4.6, 4.9, 4.4, 6.5, 6.0, 6.1, 4.6, 6.1, 3.8, 6.3, 5.2, 3.1, 4.9, 3.7, 5.4, 3.9, 4.0, 4.6, 2.8, 3.7, 2.7, 4.7, 3.2, 3.3, 6.8, 3.5, 3.6, 1.6, 3.9, 2.4, 3.1, 4.8, 2.4, 4.3, 2.0], \"yaxis\": \"y\"}],\n",
       "                        {\"coloraxis\": {\"colorbar\": {\"title\": {\"text\": \"Hierarchical Clusters\"}}, \"colorscale\": [[0.0, \"#4B3F72\"], [0.25, \"#AB81CD\"], [0.5, \"#1F7A8C\"], [0.75, \"#03B5AA\"], [1.0, \"#A3E7FC\"]]}, \"height\": 600, \"legend\": {\"tracegroupgap\": 0}, \"margin\": {\"t\": 60}, \"template\": {\"data\": {\"bar\": [{\"error_x\": {\"color\": \"#2a3f5f\"}, \"error_y\": {\"color\": \"#2a3f5f\"}, \"marker\": {\"line\": {\"color\": \"#E5ECF6\", \"width\": 0.5}}, \"type\": \"bar\"}], \"barpolar\": [{\"marker\": {\"line\": {\"color\": \"#E5ECF6\", \"width\": 0.5}}, \"type\": \"barpolar\"}], \"carpet\": [{\"aaxis\": {\"endlinecolor\": \"#2a3f5f\", \"gridcolor\": \"white\", \"linecolor\": \"white\", \"minorgridcolor\": \"white\", \"startlinecolor\": \"#2a3f5f\"}, \"baxis\": {\"endlinecolor\": \"#2a3f5f\", \"gridcolor\": \"white\", \"linecolor\": \"white\", \"minorgridcolor\": \"white\", \"startlinecolor\": \"#2a3f5f\"}, \"type\": \"carpet\"}], \"choropleth\": [{\"colorbar\": {\"outlinewidth\": 0, \"ticks\": \"\"}, \"type\": \"choropleth\"}], \"contour\": [{\"colorbar\": {\"outlinewidth\": 0, \"ticks\": \"\"}, \"colorscale\": [[0.0, \"#0d0887\"], [0.1111111111111111, \"#46039f\"], [0.2222222222222222, \"#7201a8\"], [0.3333333333333333, \"#9c179e\"], [0.4444444444444444, \"#bd3786\"], [0.5555555555555556, \"#d8576b\"], [0.6666666666666666, \"#ed7953\"], [0.7777777777777778, \"#fb9f3a\"], [0.8888888888888888, \"#fdca26\"], [1.0, \"#f0f921\"]], \"type\": \"contour\"}], \"contourcarpet\": [{\"colorbar\": {\"outlinewidth\": 0, \"ticks\": \"\"}, \"type\": \"contourcarpet\"}], \"heatmap\": [{\"colorbar\": {\"outlinewidth\": 0, \"ticks\": \"\"}, \"colorscale\": [[0.0, \"#0d0887\"], [0.1111111111111111, \"#46039f\"], [0.2222222222222222, \"#7201a8\"], [0.3333333333333333, \"#9c179e\"], [0.4444444444444444, \"#bd3786\"], [0.5555555555555556, \"#d8576b\"], [0.6666666666666666, \"#ed7953\"], [0.7777777777777778, \"#fb9f3a\"], [0.8888888888888888, \"#fdca26\"], [1.0, \"#f0f921\"]], \"type\": \"heatmap\"}], \"heatmapgl\": [{\"colorbar\": {\"outlinewidth\": 0, \"ticks\": \"\"}, \"colorscale\": [[0.0, \"#0d0887\"], [0.1111111111111111, \"#46039f\"], [0.2222222222222222, \"#7201a8\"], [0.3333333333333333, \"#9c179e\"], [0.4444444444444444, \"#bd3786\"], [0.5555555555555556, \"#d8576b\"], [0.6666666666666666, \"#ed7953\"], [0.7777777777777778, \"#fb9f3a\"], [0.8888888888888888, \"#fdca26\"], [1.0, \"#f0f921\"]], \"type\": \"heatmapgl\"}], \"histogram\": [{\"marker\": {\"colorbar\": {\"outlinewidth\": 0, \"ticks\": \"\"}}, \"type\": \"histogram\"}], \"histogram2d\": [{\"colorbar\": {\"outlinewidth\": 0, \"ticks\": \"\"}, \"colorscale\": [[0.0, \"#0d0887\"], [0.1111111111111111, \"#46039f\"], [0.2222222222222222, \"#7201a8\"], [0.3333333333333333, \"#9c179e\"], [0.4444444444444444, \"#bd3786\"], [0.5555555555555556, \"#d8576b\"], [0.6666666666666666, \"#ed7953\"], [0.7777777777777778, \"#fb9f3a\"], [0.8888888888888888, \"#fdca26\"], [1.0, \"#f0f921\"]], \"type\": \"histogram2d\"}], \"histogram2dcontour\": [{\"colorbar\": {\"outlinewidth\": 0, \"ticks\": \"\"}, \"colorscale\": [[0.0, \"#0d0887\"], [0.1111111111111111, \"#46039f\"], [0.2222222222222222, \"#7201a8\"], [0.3333333333333333, \"#9c179e\"], [0.4444444444444444, \"#bd3786\"], [0.5555555555555556, \"#d8576b\"], [0.6666666666666666, \"#ed7953\"], [0.7777777777777778, \"#fb9f3a\"], [0.8888888888888888, \"#fdca26\"], [1.0, \"#f0f921\"]], \"type\": \"histogram2dcontour\"}], \"mesh3d\": [{\"colorbar\": {\"outlinewidth\": 0, \"ticks\": \"\"}, \"type\": \"mesh3d\"}], \"parcoords\": [{\"line\": {\"colorbar\": {\"outlinewidth\": 0, \"ticks\": \"\"}}, \"type\": \"parcoords\"}], \"pie\": [{\"automargin\": true, \"type\": \"pie\"}], \"scatter\": [{\"marker\": {\"colorbar\": {\"outlinewidth\": 0, \"ticks\": \"\"}}, \"type\": \"scatter\"}], \"scatter3d\": [{\"line\": {\"colorbar\": {\"outlinewidth\": 0, \"ticks\": \"\"}}, \"marker\": {\"colorbar\": {\"outlinewidth\": 0, \"ticks\": \"\"}}, \"type\": \"scatter3d\"}], \"scattercarpet\": [{\"marker\": {\"colorbar\": {\"outlinewidth\": 0, \"ticks\": \"\"}}, \"type\": \"scattercarpet\"}], \"scattergeo\": [{\"marker\": {\"colorbar\": {\"outlinewidth\": 0, \"ticks\": \"\"}}, \"type\": \"scattergeo\"}], \"scattergl\": [{\"marker\": {\"colorbar\": {\"outlinewidth\": 0, \"ticks\": \"\"}}, \"type\": \"scattergl\"}], \"scattermapbox\": [{\"marker\": {\"colorbar\": {\"outlinewidth\": 0, \"ticks\": \"\"}}, \"type\": \"scattermapbox\"}], \"scatterpolar\": [{\"marker\": {\"colorbar\": {\"outlinewidth\": 0, \"ticks\": \"\"}}, \"type\": \"scatterpolar\"}], \"scatterpolargl\": [{\"marker\": {\"colorbar\": {\"outlinewidth\": 0, \"ticks\": \"\"}}, \"type\": \"scatterpolargl\"}], \"scatterternary\": [{\"marker\": {\"colorbar\": {\"outlinewidth\": 0, \"ticks\": \"\"}}, \"type\": \"scatterternary\"}], \"surface\": [{\"colorbar\": {\"outlinewidth\": 0, \"ticks\": \"\"}, \"colorscale\": [[0.0, \"#0d0887\"], [0.1111111111111111, \"#46039f\"], [0.2222222222222222, \"#7201a8\"], [0.3333333333333333, \"#9c179e\"], [0.4444444444444444, \"#bd3786\"], [0.5555555555555556, \"#d8576b\"], [0.6666666666666666, \"#ed7953\"], [0.7777777777777778, \"#fb9f3a\"], [0.8888888888888888, \"#fdca26\"], [1.0, \"#f0f921\"]], \"type\": \"surface\"}], \"table\": [{\"cells\": {\"fill\": {\"color\": \"#EBF0F8\"}, \"line\": {\"color\": \"white\"}}, \"header\": {\"fill\": {\"color\": \"#C8D4E3\"}, \"line\": {\"color\": \"white\"}}, \"type\": \"table\"}]}, \"layout\": {\"annotationdefaults\": {\"arrowcolor\": \"#2a3f5f\", \"arrowhead\": 0, \"arrowwidth\": 1}, \"coloraxis\": {\"colorbar\": {\"outlinewidth\": 0, \"ticks\": \"\"}}, \"colorscale\": {\"diverging\": [[0, \"#8e0152\"], [0.1, \"#c51b7d\"], [0.2, \"#de77ae\"], [0.3, \"#f1b6da\"], [0.4, \"#fde0ef\"], [0.5, \"#f7f7f7\"], [0.6, \"#e6f5d0\"], [0.7, \"#b8e186\"], [0.8, \"#7fbc41\"], [0.9, \"#4d9221\"], [1, \"#276419\"]], \"sequential\": [[0.0, \"#0d0887\"], [0.1111111111111111, \"#46039f\"], [0.2222222222222222, \"#7201a8\"], [0.3333333333333333, \"#9c179e\"], [0.4444444444444444, \"#bd3786\"], [0.5555555555555556, \"#d8576b\"], [0.6666666666666666, \"#ed7953\"], [0.7777777777777778, \"#fb9f3a\"], [0.8888888888888888, \"#fdca26\"], [1.0, \"#f0f921\"]], \"sequentialminus\": [[0.0, \"#0d0887\"], [0.1111111111111111, \"#46039f\"], [0.2222222222222222, \"#7201a8\"], [0.3333333333333333, \"#9c179e\"], [0.4444444444444444, \"#bd3786\"], [0.5555555555555556, \"#d8576b\"], [0.6666666666666666, \"#ed7953\"], [0.7777777777777778, \"#fb9f3a\"], [0.8888888888888888, \"#fdca26\"], [1.0, \"#f0f921\"]]}, \"colorway\": [\"#636efa\", \"#EF553B\", \"#00cc96\", \"#ab63fa\", \"#FFA15A\", \"#19d3f3\", \"#FF6692\", \"#B6E880\", \"#FF97FF\", \"#FECB52\"], \"font\": {\"color\": \"#2a3f5f\"}, \"geo\": {\"bgcolor\": \"white\", \"lakecolor\": \"white\", \"landcolor\": \"#E5ECF6\", \"showlakes\": true, \"showland\": true, \"subunitcolor\": \"white\"}, \"hoverlabel\": {\"align\": \"left\"}, \"hovermode\": \"closest\", \"mapbox\": {\"style\": \"light\"}, \"paper_bgcolor\": \"white\", \"plot_bgcolor\": \"#E5ECF6\", \"polar\": {\"angularaxis\": {\"gridcolor\": \"white\", \"linecolor\": \"white\", \"ticks\": \"\"}, \"bgcolor\": \"#E5ECF6\", \"radialaxis\": {\"gridcolor\": \"white\", \"linecolor\": \"white\", \"ticks\": \"\"}}, \"scene\": {\"xaxis\": {\"backgroundcolor\": \"#E5ECF6\", \"gridcolor\": \"white\", \"gridwidth\": 2, \"linecolor\": \"white\", \"showbackground\": true, \"ticks\": \"\", \"zerolinecolor\": \"white\"}, \"yaxis\": {\"backgroundcolor\": \"#E5ECF6\", \"gridcolor\": \"white\", \"gridwidth\": 2, \"linecolor\": \"white\", \"showbackground\": true, \"ticks\": \"\", \"zerolinecolor\": \"white\"}, \"zaxis\": {\"backgroundcolor\": \"#E5ECF6\", \"gridcolor\": \"white\", \"gridwidth\": 2, \"linecolor\": \"white\", \"showbackground\": true, \"ticks\": \"\", \"zerolinecolor\": \"white\"}}, \"shapedefaults\": {\"line\": {\"color\": \"#2a3f5f\"}}, \"ternary\": {\"aaxis\": {\"gridcolor\": \"white\", \"linecolor\": \"white\", \"ticks\": \"\"}, \"baxis\": {\"gridcolor\": \"white\", \"linecolor\": \"white\", \"ticks\": \"\"}, \"bgcolor\": \"#E5ECF6\", \"caxis\": {\"gridcolor\": \"white\", \"linecolor\": \"white\", \"ticks\": \"\"}}, \"title\": {\"x\": 0.05}, \"xaxis\": {\"automargin\": true, \"gridcolor\": \"white\", \"linecolor\": \"white\", \"ticks\": \"\", \"title\": {\"standoff\": 15}, \"zerolinecolor\": \"white\", \"zerolinewidth\": 2}, \"yaxis\": {\"automargin\": true, \"gridcolor\": \"white\", \"linecolor\": \"white\", \"ticks\": \"\", \"title\": {\"standoff\": 15}, \"zerolinecolor\": \"white\", \"zerolinewidth\": 2}}}, \"xaxis\": {\"anchor\": \"y\", \"domain\": [0.0, 1.0], \"title\": {\"text\": \"Hierarchical Clusters\"}}, \"yaxis\": {\"anchor\": \"x\", \"domain\": [0.0, 1.0], \"title\": {\"text\": \"Mean years of schooling\"}}},\n",
       "                        {\"responsive\": true}\n",
       "                    ).then(function(){\n",
       "                            \n",
       "var gd = document.getElementById('11229fb1-6ae0-495b-bcc7-b19fc8793219');\n",
       "var x = new MutationObserver(function (mutations, observer) {{\n",
       "        var display = window.getComputedStyle(gd).display;\n",
       "        if (!display || display === 'none') {{\n",
       "            console.log([gd, 'removed!']);\n",
       "            Plotly.purge(gd);\n",
       "            observer.disconnect();\n",
       "        }}\n",
       "}});\n",
       "\n",
       "// Listen for the removal of the full notebook cells\n",
       "var notebookContainer = gd.closest('#notebook-container');\n",
       "if (notebookContainer) {{\n",
       "    x.observe(notebookContainer, {childList: true});\n",
       "}}\n",
       "\n",
       "// Listen for the clearing of the current output cell\n",
       "var outputEl = gd.closest('.output');\n",
       "if (outputEl) {{\n",
       "    x.observe(outputEl, {childList: true});\n",
       "}}\n",
       "\n",
       "                        })\n",
       "                };\n",
       "                });\n",
       "            </script>\n",
       "        </div>"
      ]
     },
     "metadata": {},
     "output_type": "display_data"
    }
   ],
   "source": [
    "px.scatter(data_frame= X, x = 'Hierarchical Clusters', y = 'Mean years of schooling', color= 'Hierarchical Clusters',\n",
    "           hover_name= X.index, color_continuous_scale= palette)"
   ]
  },
  {
   "cell_type": "code",
   "execution_count": 240,
   "metadata": {},
   "outputs": [
    {
     "data": {
      "application/vnd.plotly.v1+json": {
       "config": {
        "plotlyServerURL": "https://plot.ly"
       },
       "data": [
        {
         "hoverlabel": {
          "namelength": 0
         },
         "hovertemplate": "<b>%{hovertext}</b><br><br>Hierarchical Clusters=%{marker.color}<br>% of those 25+ with at least a Secondary Education=%{y}",
         "hovertext": [
          "Norway",
          "Switzerland",
          "Ireland",
          "Germany",
          "Hong Kong, China (SAR)",
          "Australia",
          "Iceland",
          "Sweden",
          "Singapore",
          "Netherlands",
          "Denmark",
          "Finland",
          "Canada",
          "New Zealand",
          "United Kingdom",
          "United States",
          "Belgium",
          "Liechtenstein",
          "Japan",
          "Austria",
          "Luxembourg",
          "Israel",
          "Korea (Republic of)",
          "Slovenia",
          "Spain",
          "Czechia",
          "France",
          "Malta",
          "Italy",
          "Estonia",
          "Cyprus",
          "Greece",
          "Poland",
          "Lithuania",
          "United Arab Emirates",
          "Andorra",
          "Saudi Arabia",
          "Slovakia",
          "Latvia",
          "Portugal",
          "Qatar",
          "Chile",
          "Brunei Darussalam",
          "Hungary",
          "Bahrain",
          "Croatia",
          "Oman",
          "Argentina",
          "Russian Federation",
          "Belarus",
          "Kazakhstan",
          "Bulgaria",
          "Montenegro",
          "Romania",
          "Palau",
          "Barbados",
          "Kuwait",
          "Uruguay",
          "Turkey",
          "Bahamas",
          "Malaysia",
          "Seychelles",
          "Serbia",
          "Trinidad and Tobago",
          "Iran (Islamic Republic of)",
          "Mauritius",
          "Panama",
          "Costa Rica",
          "Albania",
          "Georgia",
          "Sri Lanka",
          "Cuba",
          "Saint Kitts and Nevis",
          "Antigua and Barbuda",
          "Bosnia and Herzegovina",
          "Mexico",
          "Thailand",
          "Grenada",
          "Brazil",
          "Colombia",
          "Armenia",
          "Algeria",
          "North Macedonia",
          "Peru",
          "China",
          "Ecuador",
          "Azerbaijan",
          "Ukraine",
          "Dominican Republic",
          "Saint Lucia",
          "Tunisia",
          "Mongolia",
          "Lebanon",
          "Botswana",
          "Saint Vincent and the Grenadines",
          "Jamaica",
          "Venezuela (Bolivarian Republic of)",
          "Dominica",
          "Fiji",
          "Paraguay",
          "Suriname",
          "Jordan",
          "Belize",
          "Maldives",
          "Tonga",
          "Philippines",
          "Moldova (Republic of)",
          "Turkmenistan",
          "Uzbekistan",
          "Libya",
          "Indonesia",
          "Samoa",
          "South Africa",
          "Bolivia (Plurinational State of)",
          "Gabon",
          "Egypt",
          "Marshall Islands",
          "Viet Nam",
          "Palestine, State of",
          "Iraq",
          "Morocco",
          "Kyrgyzstan",
          "Guyana",
          "El Salvador",
          "Tajikistan",
          "Cabo Verde",
          "Guatemala",
          "Nicaragua",
          "India",
          "Namibia",
          "Timor-Leste",
          "Honduras",
          "Kiribati",
          "Bhutan",
          "Bangladesh",
          "Micronesia (Federated States of)",
          "Sao Tome and Principe",
          "Congo",
          "Eswatini (Kingdom of)",
          "Lao People's Democratic Republic",
          "Vanuatu",
          "Ghana",
          "Zambia",
          "Equatorial Guinea",
          "Myanmar",
          "Cambodia",
          "Kenya",
          "Nepal",
          "Angola",
          "Cameroon",
          "Zimbabwe",
          "Pakistan",
          "Solomon Islands",
          "Syrian Arab Republic",
          "Papua New Guinea",
          "Comoros",
          "Rwanda",
          "Nigeria",
          "Tanzania (United Republic of)",
          "Uganda",
          "Mauritania",
          "Madagascar",
          "Benin",
          "Lesotho",
          "Côte d'Ivoire",
          "Senegal",
          "Togo",
          "Sudan",
          "Haiti",
          "Afghanistan",
          "Djibouti",
          "Malawi",
          "Ethiopia",
          "Gambia",
          "Guinea",
          "Liberia",
          "Yemen",
          "Guinea-Bissau",
          "Congo (Democratic Republic of the)",
          "Mozambique",
          "Sierra Leone",
          "Burkina Faso",
          "Eritrea",
          "Mali",
          "Burundi",
          "South Sudan",
          "Chad",
          "Central African Republic",
          "Niger"
         ],
         "legendgroup": "",
         "marker": {
          "color": [
           0,
           0,
           0,
           0,
           0,
           0,
           0,
           0,
           0,
           0,
           0,
           0,
           0,
           0,
           0,
           0,
           0,
           3,
           0,
           0,
           0,
           0,
           0,
           0,
           0,
           0,
           0,
           0,
           0,
           0,
           0,
           0,
           0,
           0,
           3,
           0,
           3,
           0,
           0,
           0,
           3,
           2,
           3,
           0,
           3,
           0,
           3,
           2,
           0,
           0,
           0,
           0,
           0,
           0,
           2,
           2,
           3,
           2,
           5,
           2,
           2,
           2,
           0,
           2,
           5,
           2,
           1,
           2,
           0,
           0,
           2,
           2,
           2,
           2,
           0,
           1,
           2,
           2,
           1,
           1,
           0,
           5,
           0,
           1,
           1,
           1,
           2,
           0,
           1,
           2,
           5,
           0,
           5,
           1,
           2,
           1,
           1,
           1,
           1,
           1,
           1,
           5,
           1,
           2,
           1,
           1,
           0,
           1,
           1,
           5,
           1,
           1,
           1,
           1,
           1,
           5,
           1,
           1,
           5,
           5,
           5,
           1,
           1,
           1,
           1,
           1,
           1,
           1,
           1,
           1,
           1,
           1,
           1,
           1,
           1,
           1,
           1,
           1,
           1,
           1,
           1,
           4,
           4,
           4,
           4,
           4,
           4,
           4,
           4,
           4,
           4,
           4,
           4,
           4,
           4,
           4,
           4,
           4,
           4,
           4,
           4,
           4,
           4,
           4,
           4,
           4,
           4,
           4,
           4,
           4,
           4,
           4,
           4,
           4,
           4,
           4,
           4,
           4,
           4,
           4,
           4,
           4,
           4,
           4,
           4,
           4,
           4,
           4,
           4
          ],
          "coloraxis": "coloraxis",
          "symbol": "circle"
         },
         "mode": "markers",
         "name": "",
         "showlegend": false,
         "type": "scatter",
         "x": [
          0,
          0,
          0,
          0,
          0,
          0,
          0,
          0,
          0,
          0,
          0,
          0,
          0,
          0,
          0,
          0,
          0,
          3,
          0,
          0,
          0,
          0,
          0,
          0,
          0,
          0,
          0,
          0,
          0,
          0,
          0,
          0,
          0,
          0,
          3,
          0,
          3,
          0,
          0,
          0,
          3,
          2,
          3,
          0,
          3,
          0,
          3,
          2,
          0,
          0,
          0,
          0,
          0,
          0,
          2,
          2,
          3,
          2,
          5,
          2,
          2,
          2,
          0,
          2,
          5,
          2,
          1,
          2,
          0,
          0,
          2,
          2,
          2,
          2,
          0,
          1,
          2,
          2,
          1,
          1,
          0,
          5,
          0,
          1,
          1,
          1,
          2,
          0,
          1,
          2,
          5,
          0,
          5,
          1,
          2,
          1,
          1,
          1,
          1,
          1,
          1,
          5,
          1,
          2,
          1,
          1,
          0,
          1,
          1,
          5,
          1,
          1,
          1,
          1,
          1,
          5,
          1,
          1,
          5,
          5,
          5,
          1,
          1,
          1,
          1,
          1,
          1,
          1,
          1,
          1,
          1,
          1,
          1,
          1,
          1,
          1,
          1,
          1,
          1,
          1,
          1,
          4,
          4,
          4,
          4,
          4,
          4,
          4,
          4,
          4,
          4,
          4,
          4,
          4,
          4,
          4,
          4,
          4,
          4,
          4,
          4,
          4,
          4,
          4,
          4,
          4,
          4,
          4,
          4,
          4,
          4,
          4,
          4,
          4,
          4,
          4,
          4,
          4,
          4,
          4,
          4,
          4,
          4,
          4,
          4,
          4,
          4,
          4,
          4
         ],
         "xaxis": "x",
         "y": [
          95.4,
          96.5,
          88.3,
          96.3,
          79.4,
          90.4,
          100,
          88.9,
          79.6,
          88.3,
          89.3,
          100,
          100,
          96.9,
          84.5,
          95.6,
          84.8,
          86.18541666666668,
          93.6,
          100,
          100,
          89.1,
          95.2,
          97.6,
          75.8,
          99.8,
          83.5,
          78.2,
          79.6,
          100,
          80.3,
          64.8,
          85.3,
          94.9,
          70.7,
          72.3,
          72.8,
          99.3,
          99.2,
          54.2,
          67.5,
          79.3,
          70.1,
          97.2,
          59.6,
          95.7,
          66.4,
          64.8,
          95.9,
          92.2,
          98.6,
          95.1,
          91.6,
          90,
          97.1,
          92.9,
          51.5,
          56,
          53.1,
          88.4,
          80.8,
          73.83414634146342,
          89.5,
          73.4,
          69.8,
          66.9,
          72.2,
          52.9,
          92.9,
          98,
          82.8,
          87.4,
          73.83414634146342,
          73.83414634146342,
          81.2,
          59.7,
          44.8,
          73.83414634146342,
          59.5,
          52,
          97.2,
          38.9,
          49.8,
          62.2,
          78.6,
          51.9,
          95.6,
          94.6,
          56.6,
          46,
          51.8,
          88.8,
          54.9,
          90,
          73.83414634146342,
          66.3,
          69.2,
          59.88999999999999,
          76.9,
          47.8,
          60.5,
          84,
          78.6,
          47.1,
          93.7,
          73.2,
          96.4,
          59.88999999999999,
          99.9,
          57.4,
          48.8,
          74.5,
          76.5,
          58.8,
          57.6,
          65.3,
          92.1,
          69.4,
          61.1,
          48,
          32.2,
          98.4,
          63.3,
          42.8,
          93.1,
          29.9,
          37.8,
          47.5,
          51.6,
          41.1,
          59.88999999999999,
          33.5,
          59.88999999999999,
          12,
          46.7,
          59.88999999999999,
          40.8,
          48.8,
          32.6,
          40.4,
          59.88999999999999,
          63.1,
          44.3,
          27.029999999999994,
          25.8,
          21.3,
          35.2,
          35.9,
          30.2,
          37.2,
          58.7,
          37.2,
          27.029999999999994,
          41,
          12.5,
          27.029999999999994,
          16.3,
          27.029999999999994,
          14.3,
          32.1,
          18.8,
          27.029999999999994,
          26.5,
          30,
          26.1,
          17.6,
          40.5,
          17.5,
          33.2,
          26.1,
          27.029999999999994,
          21.8,
          17.1,
          36.8,
          11.7,
          29,
          28,
          27.029999999999994,
          50.7,
          19.3,
          26.3,
          8.8,
          27.029999999999994,
          13.1,
          9.3,
          33.2,
          6,
          22.1,
          6.6
         ],
         "yaxis": "y"
        }
       ],
       "layout": {
        "coloraxis": {
         "colorbar": {
          "title": {
           "text": "Hierarchical Clusters"
          }
         },
         "colorscale": [
          [
           0,
           "#4B3F72"
          ],
          [
           0.25,
           "#AB81CD"
          ],
          [
           0.5,
           "#1F7A8C"
          ],
          [
           0.75,
           "#03B5AA"
          ],
          [
           1,
           "#A3E7FC"
          ]
         ]
        },
        "height": 600,
        "legend": {
         "tracegroupgap": 0
        },
        "margin": {
         "t": 60
        },
        "template": {
         "data": {
          "bar": [
           {
            "error_x": {
             "color": "#2a3f5f"
            },
            "error_y": {
             "color": "#2a3f5f"
            },
            "marker": {
             "line": {
              "color": "#E5ECF6",
              "width": 0.5
             }
            },
            "type": "bar"
           }
          ],
          "barpolar": [
           {
            "marker": {
             "line": {
              "color": "#E5ECF6",
              "width": 0.5
             }
            },
            "type": "barpolar"
           }
          ],
          "carpet": [
           {
            "aaxis": {
             "endlinecolor": "#2a3f5f",
             "gridcolor": "white",
             "linecolor": "white",
             "minorgridcolor": "white",
             "startlinecolor": "#2a3f5f"
            },
            "baxis": {
             "endlinecolor": "#2a3f5f",
             "gridcolor": "white",
             "linecolor": "white",
             "minorgridcolor": "white",
             "startlinecolor": "#2a3f5f"
            },
            "type": "carpet"
           }
          ],
          "choropleth": [
           {
            "colorbar": {
             "outlinewidth": 0,
             "ticks": ""
            },
            "type": "choropleth"
           }
          ],
          "contour": [
           {
            "colorbar": {
             "outlinewidth": 0,
             "ticks": ""
            },
            "colorscale": [
             [
              0,
              "#0d0887"
             ],
             [
              0.1111111111111111,
              "#46039f"
             ],
             [
              0.2222222222222222,
              "#7201a8"
             ],
             [
              0.3333333333333333,
              "#9c179e"
             ],
             [
              0.4444444444444444,
              "#bd3786"
             ],
             [
              0.5555555555555556,
              "#d8576b"
             ],
             [
              0.6666666666666666,
              "#ed7953"
             ],
             [
              0.7777777777777778,
              "#fb9f3a"
             ],
             [
              0.8888888888888888,
              "#fdca26"
             ],
             [
              1,
              "#f0f921"
             ]
            ],
            "type": "contour"
           }
          ],
          "contourcarpet": [
           {
            "colorbar": {
             "outlinewidth": 0,
             "ticks": ""
            },
            "type": "contourcarpet"
           }
          ],
          "heatmap": [
           {
            "colorbar": {
             "outlinewidth": 0,
             "ticks": ""
            },
            "colorscale": [
             [
              0,
              "#0d0887"
             ],
             [
              0.1111111111111111,
              "#46039f"
             ],
             [
              0.2222222222222222,
              "#7201a8"
             ],
             [
              0.3333333333333333,
              "#9c179e"
             ],
             [
              0.4444444444444444,
              "#bd3786"
             ],
             [
              0.5555555555555556,
              "#d8576b"
             ],
             [
              0.6666666666666666,
              "#ed7953"
             ],
             [
              0.7777777777777778,
              "#fb9f3a"
             ],
             [
              0.8888888888888888,
              "#fdca26"
             ],
             [
              1,
              "#f0f921"
             ]
            ],
            "type": "heatmap"
           }
          ],
          "heatmapgl": [
           {
            "colorbar": {
             "outlinewidth": 0,
             "ticks": ""
            },
            "colorscale": [
             [
              0,
              "#0d0887"
             ],
             [
              0.1111111111111111,
              "#46039f"
             ],
             [
              0.2222222222222222,
              "#7201a8"
             ],
             [
              0.3333333333333333,
              "#9c179e"
             ],
             [
              0.4444444444444444,
              "#bd3786"
             ],
             [
              0.5555555555555556,
              "#d8576b"
             ],
             [
              0.6666666666666666,
              "#ed7953"
             ],
             [
              0.7777777777777778,
              "#fb9f3a"
             ],
             [
              0.8888888888888888,
              "#fdca26"
             ],
             [
              1,
              "#f0f921"
             ]
            ],
            "type": "heatmapgl"
           }
          ],
          "histogram": [
           {
            "marker": {
             "colorbar": {
              "outlinewidth": 0,
              "ticks": ""
             }
            },
            "type": "histogram"
           }
          ],
          "histogram2d": [
           {
            "colorbar": {
             "outlinewidth": 0,
             "ticks": ""
            },
            "colorscale": [
             [
              0,
              "#0d0887"
             ],
             [
              0.1111111111111111,
              "#46039f"
             ],
             [
              0.2222222222222222,
              "#7201a8"
             ],
             [
              0.3333333333333333,
              "#9c179e"
             ],
             [
              0.4444444444444444,
              "#bd3786"
             ],
             [
              0.5555555555555556,
              "#d8576b"
             ],
             [
              0.6666666666666666,
              "#ed7953"
             ],
             [
              0.7777777777777778,
              "#fb9f3a"
             ],
             [
              0.8888888888888888,
              "#fdca26"
             ],
             [
              1,
              "#f0f921"
             ]
            ],
            "type": "histogram2d"
           }
          ],
          "histogram2dcontour": [
           {
            "colorbar": {
             "outlinewidth": 0,
             "ticks": ""
            },
            "colorscale": [
             [
              0,
              "#0d0887"
             ],
             [
              0.1111111111111111,
              "#46039f"
             ],
             [
              0.2222222222222222,
              "#7201a8"
             ],
             [
              0.3333333333333333,
              "#9c179e"
             ],
             [
              0.4444444444444444,
              "#bd3786"
             ],
             [
              0.5555555555555556,
              "#d8576b"
             ],
             [
              0.6666666666666666,
              "#ed7953"
             ],
             [
              0.7777777777777778,
              "#fb9f3a"
             ],
             [
              0.8888888888888888,
              "#fdca26"
             ],
             [
              1,
              "#f0f921"
             ]
            ],
            "type": "histogram2dcontour"
           }
          ],
          "mesh3d": [
           {
            "colorbar": {
             "outlinewidth": 0,
             "ticks": ""
            },
            "type": "mesh3d"
           }
          ],
          "parcoords": [
           {
            "line": {
             "colorbar": {
              "outlinewidth": 0,
              "ticks": ""
             }
            },
            "type": "parcoords"
           }
          ],
          "pie": [
           {
            "automargin": true,
            "type": "pie"
           }
          ],
          "scatter": [
           {
            "marker": {
             "colorbar": {
              "outlinewidth": 0,
              "ticks": ""
             }
            },
            "type": "scatter"
           }
          ],
          "scatter3d": [
           {
            "line": {
             "colorbar": {
              "outlinewidth": 0,
              "ticks": ""
             }
            },
            "marker": {
             "colorbar": {
              "outlinewidth": 0,
              "ticks": ""
             }
            },
            "type": "scatter3d"
           }
          ],
          "scattercarpet": [
           {
            "marker": {
             "colorbar": {
              "outlinewidth": 0,
              "ticks": ""
             }
            },
            "type": "scattercarpet"
           }
          ],
          "scattergeo": [
           {
            "marker": {
             "colorbar": {
              "outlinewidth": 0,
              "ticks": ""
             }
            },
            "type": "scattergeo"
           }
          ],
          "scattergl": [
           {
            "marker": {
             "colorbar": {
              "outlinewidth": 0,
              "ticks": ""
             }
            },
            "type": "scattergl"
           }
          ],
          "scattermapbox": [
           {
            "marker": {
             "colorbar": {
              "outlinewidth": 0,
              "ticks": ""
             }
            },
            "type": "scattermapbox"
           }
          ],
          "scatterpolar": [
           {
            "marker": {
             "colorbar": {
              "outlinewidth": 0,
              "ticks": ""
             }
            },
            "type": "scatterpolar"
           }
          ],
          "scatterpolargl": [
           {
            "marker": {
             "colorbar": {
              "outlinewidth": 0,
              "ticks": ""
             }
            },
            "type": "scatterpolargl"
           }
          ],
          "scatterternary": [
           {
            "marker": {
             "colorbar": {
              "outlinewidth": 0,
              "ticks": ""
             }
            },
            "type": "scatterternary"
           }
          ],
          "surface": [
           {
            "colorbar": {
             "outlinewidth": 0,
             "ticks": ""
            },
            "colorscale": [
             [
              0,
              "#0d0887"
             ],
             [
              0.1111111111111111,
              "#46039f"
             ],
             [
              0.2222222222222222,
              "#7201a8"
             ],
             [
              0.3333333333333333,
              "#9c179e"
             ],
             [
              0.4444444444444444,
              "#bd3786"
             ],
             [
              0.5555555555555556,
              "#d8576b"
             ],
             [
              0.6666666666666666,
              "#ed7953"
             ],
             [
              0.7777777777777778,
              "#fb9f3a"
             ],
             [
              0.8888888888888888,
              "#fdca26"
             ],
             [
              1,
              "#f0f921"
             ]
            ],
            "type": "surface"
           }
          ],
          "table": [
           {
            "cells": {
             "fill": {
              "color": "#EBF0F8"
             },
             "line": {
              "color": "white"
             }
            },
            "header": {
             "fill": {
              "color": "#C8D4E3"
             },
             "line": {
              "color": "white"
             }
            },
            "type": "table"
           }
          ]
         },
         "layout": {
          "annotationdefaults": {
           "arrowcolor": "#2a3f5f",
           "arrowhead": 0,
           "arrowwidth": 1
          },
          "coloraxis": {
           "colorbar": {
            "outlinewidth": 0,
            "ticks": ""
           }
          },
          "colorscale": {
           "diverging": [
            [
             0,
             "#8e0152"
            ],
            [
             0.1,
             "#c51b7d"
            ],
            [
             0.2,
             "#de77ae"
            ],
            [
             0.3,
             "#f1b6da"
            ],
            [
             0.4,
             "#fde0ef"
            ],
            [
             0.5,
             "#f7f7f7"
            ],
            [
             0.6,
             "#e6f5d0"
            ],
            [
             0.7,
             "#b8e186"
            ],
            [
             0.8,
             "#7fbc41"
            ],
            [
             0.9,
             "#4d9221"
            ],
            [
             1,
             "#276419"
            ]
           ],
           "sequential": [
            [
             0,
             "#0d0887"
            ],
            [
             0.1111111111111111,
             "#46039f"
            ],
            [
             0.2222222222222222,
             "#7201a8"
            ],
            [
             0.3333333333333333,
             "#9c179e"
            ],
            [
             0.4444444444444444,
             "#bd3786"
            ],
            [
             0.5555555555555556,
             "#d8576b"
            ],
            [
             0.6666666666666666,
             "#ed7953"
            ],
            [
             0.7777777777777778,
             "#fb9f3a"
            ],
            [
             0.8888888888888888,
             "#fdca26"
            ],
            [
             1,
             "#f0f921"
            ]
           ],
           "sequentialminus": [
            [
             0,
             "#0d0887"
            ],
            [
             0.1111111111111111,
             "#46039f"
            ],
            [
             0.2222222222222222,
             "#7201a8"
            ],
            [
             0.3333333333333333,
             "#9c179e"
            ],
            [
             0.4444444444444444,
             "#bd3786"
            ],
            [
             0.5555555555555556,
             "#d8576b"
            ],
            [
             0.6666666666666666,
             "#ed7953"
            ],
            [
             0.7777777777777778,
             "#fb9f3a"
            ],
            [
             0.8888888888888888,
             "#fdca26"
            ],
            [
             1,
             "#f0f921"
            ]
           ]
          },
          "colorway": [
           "#636efa",
           "#EF553B",
           "#00cc96",
           "#ab63fa",
           "#FFA15A",
           "#19d3f3",
           "#FF6692",
           "#B6E880",
           "#FF97FF",
           "#FECB52"
          ],
          "font": {
           "color": "#2a3f5f"
          },
          "geo": {
           "bgcolor": "white",
           "lakecolor": "white",
           "landcolor": "#E5ECF6",
           "showlakes": true,
           "showland": true,
           "subunitcolor": "white"
          },
          "hoverlabel": {
           "align": "left"
          },
          "hovermode": "closest",
          "mapbox": {
           "style": "light"
          },
          "paper_bgcolor": "white",
          "plot_bgcolor": "#E5ECF6",
          "polar": {
           "angularaxis": {
            "gridcolor": "white",
            "linecolor": "white",
            "ticks": ""
           },
           "bgcolor": "#E5ECF6",
           "radialaxis": {
            "gridcolor": "white",
            "linecolor": "white",
            "ticks": ""
           }
          },
          "scene": {
           "xaxis": {
            "backgroundcolor": "#E5ECF6",
            "gridcolor": "white",
            "gridwidth": 2,
            "linecolor": "white",
            "showbackground": true,
            "ticks": "",
            "zerolinecolor": "white"
           },
           "yaxis": {
            "backgroundcolor": "#E5ECF6",
            "gridcolor": "white",
            "gridwidth": 2,
            "linecolor": "white",
            "showbackground": true,
            "ticks": "",
            "zerolinecolor": "white"
           },
           "zaxis": {
            "backgroundcolor": "#E5ECF6",
            "gridcolor": "white",
            "gridwidth": 2,
            "linecolor": "white",
            "showbackground": true,
            "ticks": "",
            "zerolinecolor": "white"
           }
          },
          "shapedefaults": {
           "line": {
            "color": "#2a3f5f"
           }
          },
          "ternary": {
           "aaxis": {
            "gridcolor": "white",
            "linecolor": "white",
            "ticks": ""
           },
           "baxis": {
            "gridcolor": "white",
            "linecolor": "white",
            "ticks": ""
           },
           "bgcolor": "#E5ECF6",
           "caxis": {
            "gridcolor": "white",
            "linecolor": "white",
            "ticks": ""
           }
          },
          "title": {
           "x": 0.05
          },
          "xaxis": {
           "automargin": true,
           "gridcolor": "white",
           "linecolor": "white",
           "ticks": "",
           "title": {
            "standoff": 15
           },
           "zerolinecolor": "white",
           "zerolinewidth": 2
          },
          "yaxis": {
           "automargin": true,
           "gridcolor": "white",
           "linecolor": "white",
           "ticks": "",
           "title": {
            "standoff": 15
           },
           "zerolinecolor": "white",
           "zerolinewidth": 2
          }
         }
        },
        "xaxis": {
         "anchor": "y",
         "domain": [
          0,
          1
         ],
         "title": {
          "text": "Hierarchical Clusters"
         }
        },
        "yaxis": {
         "anchor": "x",
         "domain": [
          0,
          1
         ],
         "title": {
          "text": "% of those 25+ with at least a Secondary Education"
         }
        }
       }
      },
      "text/html": [
       "<div>\n",
       "        \n",
       "        \n",
       "            <div id=\"fa39f969-014e-4fa8-a6d7-dd91141b598f\" class=\"plotly-graph-div\" style=\"height:600px; width:100%;\"></div>\n",
       "            <script type=\"text/javascript\">\n",
       "                require([\"plotly\"], function(Plotly) {\n",
       "                    window.PLOTLYENV=window.PLOTLYENV || {};\n",
       "                    \n",
       "                if (document.getElementById(\"fa39f969-014e-4fa8-a6d7-dd91141b598f\")) {\n",
       "                    Plotly.newPlot(\n",
       "                        'fa39f969-014e-4fa8-a6d7-dd91141b598f',\n",
       "                        [{\"hoverlabel\": {\"namelength\": 0}, \"hovertemplate\": \"<b>%{hovertext}</b><br><br>Hierarchical Clusters=%{marker.color}<br>% of those 25+ with at least a Secondary Education=%{y}\", \"hovertext\": [\"Norway\", \"Switzerland\", \"Ireland\", \"Germany\", \"Hong Kong, China (SAR)\", \"Australia\", \"Iceland\", \"Sweden\", \"Singapore\", \"Netherlands\", \"Denmark\", \"Finland\", \"Canada\", \"New Zealand\", \"United Kingdom\", \"United States\", \"Belgium\", \"Liechtenstein\", \"Japan\", \"Austria\", \"Luxembourg\", \"Israel\", \"Korea (Republic of)\", \"Slovenia\", \"Spain\", \"Czechia\", \"France\", \"Malta\", \"Italy\", \"Estonia\", \"Cyprus\", \"Greece\", \"Poland\", \"Lithuania\", \"United Arab Emirates\", \"Andorra\", \"Saudi Arabia\", \"Slovakia\", \"Latvia\", \"Portugal\", \"Qatar\", \"Chile\", \"Brunei Darussalam\", \"Hungary\", \"Bahrain\", \"Croatia\", \"Oman\", \"Argentina\", \"Russian Federation\", \"Belarus\", \"Kazakhstan\", \"Bulgaria\", \"Montenegro\", \"Romania\", \"Palau\", \"Barbados\", \"Kuwait\", \"Uruguay\", \"Turkey\", \"Bahamas\", \"Malaysia\", \"Seychelles\", \"Serbia\", \"Trinidad and Tobago\", \"Iran (Islamic Republic of)\", \"Mauritius\", \"Panama\", \"Costa Rica\", \"Albania\", \"Georgia\", \"Sri Lanka\", \"Cuba\", \"Saint Kitts and Nevis\", \"Antigua and Barbuda\", \"Bosnia and Herzegovina\", \"Mexico\", \"Thailand\", \"Grenada\", \"Brazil\", \"Colombia\", \"Armenia\", \"Algeria\", \"North Macedonia\", \"Peru\", \"China\", \"Ecuador\", \"Azerbaijan\", \"Ukraine\", \"Dominican Republic\", \"Saint Lucia\", \"Tunisia\", \"Mongolia\", \"Lebanon\", \"Botswana\", \"Saint Vincent and the Grenadines\", \"Jamaica\", \"Venezuela (Bolivarian Republic of)\", \"Dominica\", \"Fiji\", \"Paraguay\", \"Suriname\", \"Jordan\", \"Belize\", \"Maldives\", \"Tonga\", \"Philippines\", \"Moldova (Republic of)\", \"Turkmenistan\", \"Uzbekistan\", \"Libya\", \"Indonesia\", \"Samoa\", \"South Africa\", \"Bolivia (Plurinational State of)\", \"Gabon\", \"Egypt\", \"Marshall Islands\", \"Viet Nam\", \"Palestine, State of\", \"Iraq\", \"Morocco\", \"Kyrgyzstan\", \"Guyana\", \"El Salvador\", \"Tajikistan\", \"Cabo Verde\", \"Guatemala\", \"Nicaragua\", \"India\", \"Namibia\", \"Timor-Leste\", \"Honduras\", \"Kiribati\", \"Bhutan\", \"Bangladesh\", \"Micronesia (Federated States of)\", \"Sao Tome and Principe\", \"Congo\", \"Eswatini (Kingdom of)\", \"Lao People's Democratic Republic\", \"Vanuatu\", \"Ghana\", \"Zambia\", \"Equatorial Guinea\", \"Myanmar\", \"Cambodia\", \"Kenya\", \"Nepal\", \"Angola\", \"Cameroon\", \"Zimbabwe\", \"Pakistan\", \"Solomon Islands\", \"Syrian Arab Republic\", \"Papua New Guinea\", \"Comoros\", \"Rwanda\", \"Nigeria\", \"Tanzania (United Republic of)\", \"Uganda\", \"Mauritania\", \"Madagascar\", \"Benin\", \"Lesotho\", \"C\\u00f4te d'Ivoire\", \"Senegal\", \"Togo\", \"Sudan\", \"Haiti\", \"Afghanistan\", \"Djibouti\", \"Malawi\", \"Ethiopia\", \"Gambia\", \"Guinea\", \"Liberia\", \"Yemen\", \"Guinea-Bissau\", \"Congo (Democratic Republic of the)\", \"Mozambique\", \"Sierra Leone\", \"Burkina Faso\", \"Eritrea\", \"Mali\", \"Burundi\", \"South Sudan\", \"Chad\", \"Central African Republic\", \"Niger\"], \"legendgroup\": \"\", \"marker\": {\"color\": [0, 0, 0, 0, 0, 0, 0, 0, 0, 0, 0, 0, 0, 0, 0, 0, 0, 3, 0, 0, 0, 0, 0, 0, 0, 0, 0, 0, 0, 0, 0, 0, 0, 0, 3, 0, 3, 0, 0, 0, 3, 2, 3, 0, 3, 0, 3, 2, 0, 0, 0, 0, 0, 0, 2, 2, 3, 2, 5, 2, 2, 2, 0, 2, 5, 2, 1, 2, 0, 0, 2, 2, 2, 2, 0, 1, 2, 2, 1, 1, 0, 5, 0, 1, 1, 1, 2, 0, 1, 2, 5, 0, 5, 1, 2, 1, 1, 1, 1, 1, 1, 5, 1, 2, 1, 1, 0, 1, 1, 5, 1, 1, 1, 1, 1, 5, 1, 1, 5, 5, 5, 1, 1, 1, 1, 1, 1, 1, 1, 1, 1, 1, 1, 1, 1, 1, 1, 1, 1, 1, 1, 4, 4, 4, 4, 4, 4, 4, 4, 4, 4, 4, 4, 4, 4, 4, 4, 4, 4, 4, 4, 4, 4, 4, 4, 4, 4, 4, 4, 4, 4, 4, 4, 4, 4, 4, 4, 4, 4, 4, 4, 4, 4, 4, 4, 4, 4, 4, 4], \"coloraxis\": \"coloraxis\", \"symbol\": \"circle\"}, \"mode\": \"markers\", \"name\": \"\", \"showlegend\": false, \"type\": \"scatter\", \"x\": [0, 0, 0, 0, 0, 0, 0, 0, 0, 0, 0, 0, 0, 0, 0, 0, 0, 3, 0, 0, 0, 0, 0, 0, 0, 0, 0, 0, 0, 0, 0, 0, 0, 0, 3, 0, 3, 0, 0, 0, 3, 2, 3, 0, 3, 0, 3, 2, 0, 0, 0, 0, 0, 0, 2, 2, 3, 2, 5, 2, 2, 2, 0, 2, 5, 2, 1, 2, 0, 0, 2, 2, 2, 2, 0, 1, 2, 2, 1, 1, 0, 5, 0, 1, 1, 1, 2, 0, 1, 2, 5, 0, 5, 1, 2, 1, 1, 1, 1, 1, 1, 5, 1, 2, 1, 1, 0, 1, 1, 5, 1, 1, 1, 1, 1, 5, 1, 1, 5, 5, 5, 1, 1, 1, 1, 1, 1, 1, 1, 1, 1, 1, 1, 1, 1, 1, 1, 1, 1, 1, 1, 4, 4, 4, 4, 4, 4, 4, 4, 4, 4, 4, 4, 4, 4, 4, 4, 4, 4, 4, 4, 4, 4, 4, 4, 4, 4, 4, 4, 4, 4, 4, 4, 4, 4, 4, 4, 4, 4, 4, 4, 4, 4, 4, 4, 4, 4, 4, 4], \"xaxis\": \"x\", \"y\": [95.4, 96.5, 88.3, 96.3, 79.4, 90.4, 100.0, 88.9, 79.6, 88.3, 89.3, 100.0, 100.0, 96.9, 84.5, 95.6, 84.8, 86.18541666666668, 93.6, 100.0, 100.0, 89.1, 95.2, 97.6, 75.8, 99.8, 83.5, 78.2, 79.6, 100.0, 80.3, 64.8, 85.3, 94.9, 70.7, 72.3, 72.8, 99.3, 99.2, 54.2, 67.5, 79.3, 70.1, 97.2, 59.6, 95.7, 66.4, 64.8, 95.9, 92.2, 98.6, 95.1, 91.6, 90.0, 97.1, 92.9, 51.5, 56.0, 53.1, 88.4, 80.8, 73.83414634146342, 89.5, 73.4, 69.8, 66.9, 72.2, 52.9, 92.9, 98.0, 82.8, 87.4, 73.83414634146342, 73.83414634146342, 81.2, 59.7, 44.8, 73.83414634146342, 59.5, 52.0, 97.2, 38.9, 49.8, 62.2, 78.6, 51.9, 95.6, 94.6, 56.6, 46.0, 51.8, 88.8, 54.9, 90.0, 73.83414634146342, 66.3, 69.2, 59.88999999999999, 76.9, 47.8, 60.5, 84.0, 78.6, 47.1, 93.7, 73.2, 96.4, 59.88999999999999, 99.9, 57.4, 48.8, 74.5, 76.5, 58.8, 57.6, 65.3, 92.1, 69.4, 61.1, 48.0, 32.2, 98.4, 63.3, 42.8, 93.1, 29.9, 37.8, 47.5, 51.6, 41.1, 59.88999999999999, 33.5, 59.88999999999999, 12.0, 46.7, 59.88999999999999, 40.8, 48.8, 32.6, 40.4, 59.88999999999999, 63.1, 44.3, 27.029999999999994, 25.8, 21.3, 35.2, 35.9, 30.2, 37.2, 58.7, 37.2, 27.029999999999994, 41.0, 12.5, 27.029999999999994, 16.3, 27.029999999999994, 14.3, 32.1, 18.8, 27.029999999999994, 26.5, 30.0, 26.1, 17.6, 40.5, 17.5, 33.2, 26.1, 27.029999999999994, 21.8, 17.1, 36.8, 11.7, 29.0, 28.0, 27.029999999999994, 50.7, 19.3, 26.3, 8.8, 27.029999999999994, 13.1, 9.3, 33.2, 6.0, 22.1, 6.6], \"yaxis\": \"y\"}],\n",
       "                        {\"coloraxis\": {\"colorbar\": {\"title\": {\"text\": \"Hierarchical Clusters\"}}, \"colorscale\": [[0.0, \"#4B3F72\"], [0.25, \"#AB81CD\"], [0.5, \"#1F7A8C\"], [0.75, \"#03B5AA\"], [1.0, \"#A3E7FC\"]]}, \"height\": 600, \"legend\": {\"tracegroupgap\": 0}, \"margin\": {\"t\": 60}, \"template\": {\"data\": {\"bar\": [{\"error_x\": {\"color\": \"#2a3f5f\"}, \"error_y\": {\"color\": \"#2a3f5f\"}, \"marker\": {\"line\": {\"color\": \"#E5ECF6\", \"width\": 0.5}}, \"type\": \"bar\"}], \"barpolar\": [{\"marker\": {\"line\": {\"color\": \"#E5ECF6\", \"width\": 0.5}}, \"type\": \"barpolar\"}], \"carpet\": [{\"aaxis\": {\"endlinecolor\": \"#2a3f5f\", \"gridcolor\": \"white\", \"linecolor\": \"white\", \"minorgridcolor\": \"white\", \"startlinecolor\": \"#2a3f5f\"}, \"baxis\": {\"endlinecolor\": \"#2a3f5f\", \"gridcolor\": \"white\", \"linecolor\": \"white\", \"minorgridcolor\": \"white\", \"startlinecolor\": \"#2a3f5f\"}, \"type\": \"carpet\"}], \"choropleth\": [{\"colorbar\": {\"outlinewidth\": 0, \"ticks\": \"\"}, \"type\": \"choropleth\"}], \"contour\": [{\"colorbar\": {\"outlinewidth\": 0, \"ticks\": \"\"}, \"colorscale\": [[0.0, \"#0d0887\"], [0.1111111111111111, \"#46039f\"], [0.2222222222222222, \"#7201a8\"], [0.3333333333333333, \"#9c179e\"], [0.4444444444444444, \"#bd3786\"], [0.5555555555555556, \"#d8576b\"], [0.6666666666666666, \"#ed7953\"], [0.7777777777777778, \"#fb9f3a\"], [0.8888888888888888, \"#fdca26\"], [1.0, \"#f0f921\"]], \"type\": \"contour\"}], \"contourcarpet\": [{\"colorbar\": {\"outlinewidth\": 0, \"ticks\": \"\"}, \"type\": \"contourcarpet\"}], \"heatmap\": [{\"colorbar\": {\"outlinewidth\": 0, \"ticks\": \"\"}, \"colorscale\": [[0.0, \"#0d0887\"], [0.1111111111111111, \"#46039f\"], [0.2222222222222222, \"#7201a8\"], [0.3333333333333333, \"#9c179e\"], [0.4444444444444444, \"#bd3786\"], [0.5555555555555556, \"#d8576b\"], [0.6666666666666666, \"#ed7953\"], [0.7777777777777778, \"#fb9f3a\"], [0.8888888888888888, \"#fdca26\"], [1.0, \"#f0f921\"]], \"type\": \"heatmap\"}], \"heatmapgl\": [{\"colorbar\": {\"outlinewidth\": 0, \"ticks\": \"\"}, \"colorscale\": [[0.0, \"#0d0887\"], [0.1111111111111111, \"#46039f\"], [0.2222222222222222, \"#7201a8\"], [0.3333333333333333, \"#9c179e\"], [0.4444444444444444, \"#bd3786\"], [0.5555555555555556, \"#d8576b\"], [0.6666666666666666, \"#ed7953\"], [0.7777777777777778, \"#fb9f3a\"], [0.8888888888888888, \"#fdca26\"], [1.0, \"#f0f921\"]], \"type\": \"heatmapgl\"}], \"histogram\": [{\"marker\": {\"colorbar\": {\"outlinewidth\": 0, \"ticks\": \"\"}}, \"type\": \"histogram\"}], \"histogram2d\": [{\"colorbar\": {\"outlinewidth\": 0, \"ticks\": \"\"}, \"colorscale\": [[0.0, \"#0d0887\"], [0.1111111111111111, \"#46039f\"], [0.2222222222222222, \"#7201a8\"], [0.3333333333333333, \"#9c179e\"], [0.4444444444444444, \"#bd3786\"], [0.5555555555555556, \"#d8576b\"], [0.6666666666666666, \"#ed7953\"], [0.7777777777777778, \"#fb9f3a\"], [0.8888888888888888, \"#fdca26\"], [1.0, \"#f0f921\"]], \"type\": \"histogram2d\"}], \"histogram2dcontour\": [{\"colorbar\": {\"outlinewidth\": 0, \"ticks\": \"\"}, \"colorscale\": [[0.0, \"#0d0887\"], [0.1111111111111111, \"#46039f\"], [0.2222222222222222, \"#7201a8\"], [0.3333333333333333, \"#9c179e\"], [0.4444444444444444, \"#bd3786\"], [0.5555555555555556, \"#d8576b\"], [0.6666666666666666, \"#ed7953\"], [0.7777777777777778, \"#fb9f3a\"], [0.8888888888888888, \"#fdca26\"], [1.0, \"#f0f921\"]], \"type\": \"histogram2dcontour\"}], \"mesh3d\": [{\"colorbar\": {\"outlinewidth\": 0, \"ticks\": \"\"}, \"type\": \"mesh3d\"}], \"parcoords\": [{\"line\": {\"colorbar\": {\"outlinewidth\": 0, \"ticks\": \"\"}}, \"type\": \"parcoords\"}], \"pie\": [{\"automargin\": true, \"type\": \"pie\"}], \"scatter\": [{\"marker\": {\"colorbar\": {\"outlinewidth\": 0, \"ticks\": \"\"}}, \"type\": \"scatter\"}], \"scatter3d\": [{\"line\": {\"colorbar\": {\"outlinewidth\": 0, \"ticks\": \"\"}}, \"marker\": {\"colorbar\": {\"outlinewidth\": 0, \"ticks\": \"\"}}, \"type\": \"scatter3d\"}], \"scattercarpet\": [{\"marker\": {\"colorbar\": {\"outlinewidth\": 0, \"ticks\": \"\"}}, \"type\": \"scattercarpet\"}], \"scattergeo\": [{\"marker\": {\"colorbar\": {\"outlinewidth\": 0, \"ticks\": \"\"}}, \"type\": \"scattergeo\"}], \"scattergl\": [{\"marker\": {\"colorbar\": {\"outlinewidth\": 0, \"ticks\": \"\"}}, \"type\": \"scattergl\"}], \"scattermapbox\": [{\"marker\": {\"colorbar\": {\"outlinewidth\": 0, \"ticks\": \"\"}}, \"type\": \"scattermapbox\"}], \"scatterpolar\": [{\"marker\": {\"colorbar\": {\"outlinewidth\": 0, \"ticks\": \"\"}}, \"type\": \"scatterpolar\"}], \"scatterpolargl\": [{\"marker\": {\"colorbar\": {\"outlinewidth\": 0, \"ticks\": \"\"}}, \"type\": \"scatterpolargl\"}], \"scatterternary\": [{\"marker\": {\"colorbar\": {\"outlinewidth\": 0, \"ticks\": \"\"}}, \"type\": \"scatterternary\"}], \"surface\": [{\"colorbar\": {\"outlinewidth\": 0, \"ticks\": \"\"}, \"colorscale\": [[0.0, \"#0d0887\"], [0.1111111111111111, \"#46039f\"], [0.2222222222222222, \"#7201a8\"], [0.3333333333333333, \"#9c179e\"], [0.4444444444444444, \"#bd3786\"], [0.5555555555555556, \"#d8576b\"], [0.6666666666666666, \"#ed7953\"], [0.7777777777777778, \"#fb9f3a\"], [0.8888888888888888, \"#fdca26\"], [1.0, \"#f0f921\"]], \"type\": \"surface\"}], \"table\": [{\"cells\": {\"fill\": {\"color\": \"#EBF0F8\"}, \"line\": {\"color\": \"white\"}}, \"header\": {\"fill\": {\"color\": \"#C8D4E3\"}, \"line\": {\"color\": \"white\"}}, \"type\": \"table\"}]}, \"layout\": {\"annotationdefaults\": {\"arrowcolor\": \"#2a3f5f\", \"arrowhead\": 0, \"arrowwidth\": 1}, \"coloraxis\": {\"colorbar\": {\"outlinewidth\": 0, \"ticks\": \"\"}}, \"colorscale\": {\"diverging\": [[0, \"#8e0152\"], [0.1, \"#c51b7d\"], [0.2, \"#de77ae\"], [0.3, \"#f1b6da\"], [0.4, \"#fde0ef\"], [0.5, \"#f7f7f7\"], [0.6, \"#e6f5d0\"], [0.7, \"#b8e186\"], [0.8, \"#7fbc41\"], [0.9, \"#4d9221\"], [1, \"#276419\"]], \"sequential\": [[0.0, \"#0d0887\"], [0.1111111111111111, \"#46039f\"], [0.2222222222222222, \"#7201a8\"], [0.3333333333333333, \"#9c179e\"], [0.4444444444444444, \"#bd3786\"], [0.5555555555555556, \"#d8576b\"], [0.6666666666666666, \"#ed7953\"], [0.7777777777777778, \"#fb9f3a\"], [0.8888888888888888, \"#fdca26\"], [1.0, \"#f0f921\"]], \"sequentialminus\": [[0.0, \"#0d0887\"], [0.1111111111111111, \"#46039f\"], [0.2222222222222222, \"#7201a8\"], [0.3333333333333333, \"#9c179e\"], [0.4444444444444444, \"#bd3786\"], [0.5555555555555556, \"#d8576b\"], [0.6666666666666666, \"#ed7953\"], [0.7777777777777778, \"#fb9f3a\"], [0.8888888888888888, \"#fdca26\"], [1.0, \"#f0f921\"]]}, \"colorway\": [\"#636efa\", \"#EF553B\", \"#00cc96\", \"#ab63fa\", \"#FFA15A\", \"#19d3f3\", \"#FF6692\", \"#B6E880\", \"#FF97FF\", \"#FECB52\"], \"font\": {\"color\": \"#2a3f5f\"}, \"geo\": {\"bgcolor\": \"white\", \"lakecolor\": \"white\", \"landcolor\": \"#E5ECF6\", \"showlakes\": true, \"showland\": true, \"subunitcolor\": \"white\"}, \"hoverlabel\": {\"align\": \"left\"}, \"hovermode\": \"closest\", \"mapbox\": {\"style\": \"light\"}, \"paper_bgcolor\": \"white\", \"plot_bgcolor\": \"#E5ECF6\", \"polar\": {\"angularaxis\": {\"gridcolor\": \"white\", \"linecolor\": \"white\", \"ticks\": \"\"}, \"bgcolor\": \"#E5ECF6\", \"radialaxis\": {\"gridcolor\": \"white\", \"linecolor\": \"white\", \"ticks\": \"\"}}, \"scene\": {\"xaxis\": {\"backgroundcolor\": \"#E5ECF6\", \"gridcolor\": \"white\", \"gridwidth\": 2, \"linecolor\": \"white\", \"showbackground\": true, \"ticks\": \"\", \"zerolinecolor\": \"white\"}, \"yaxis\": {\"backgroundcolor\": \"#E5ECF6\", \"gridcolor\": \"white\", \"gridwidth\": 2, \"linecolor\": \"white\", \"showbackground\": true, \"ticks\": \"\", \"zerolinecolor\": \"white\"}, \"zaxis\": {\"backgroundcolor\": \"#E5ECF6\", \"gridcolor\": \"white\", \"gridwidth\": 2, \"linecolor\": \"white\", \"showbackground\": true, \"ticks\": \"\", \"zerolinecolor\": \"white\"}}, \"shapedefaults\": {\"line\": {\"color\": \"#2a3f5f\"}}, \"ternary\": {\"aaxis\": {\"gridcolor\": \"white\", \"linecolor\": \"white\", \"ticks\": \"\"}, \"baxis\": {\"gridcolor\": \"white\", \"linecolor\": \"white\", \"ticks\": \"\"}, \"bgcolor\": \"#E5ECF6\", \"caxis\": {\"gridcolor\": \"white\", \"linecolor\": \"white\", \"ticks\": \"\"}}, \"title\": {\"x\": 0.05}, \"xaxis\": {\"automargin\": true, \"gridcolor\": \"white\", \"linecolor\": \"white\", \"ticks\": \"\", \"title\": {\"standoff\": 15}, \"zerolinecolor\": \"white\", \"zerolinewidth\": 2}, \"yaxis\": {\"automargin\": true, \"gridcolor\": \"white\", \"linecolor\": \"white\", \"ticks\": \"\", \"title\": {\"standoff\": 15}, \"zerolinecolor\": \"white\", \"zerolinewidth\": 2}}}, \"xaxis\": {\"anchor\": \"y\", \"domain\": [0.0, 1.0], \"title\": {\"text\": \"Hierarchical Clusters\"}}, \"yaxis\": {\"anchor\": \"x\", \"domain\": [0.0, 1.0], \"title\": {\"text\": \"% of those 25+ with at least a Secondary Education\"}}},\n",
       "                        {\"responsive\": true}\n",
       "                    ).then(function(){\n",
       "                            \n",
       "var gd = document.getElementById('fa39f969-014e-4fa8-a6d7-dd91141b598f');\n",
       "var x = new MutationObserver(function (mutations, observer) {{\n",
       "        var display = window.getComputedStyle(gd).display;\n",
       "        if (!display || display === 'none') {{\n",
       "            console.log([gd, 'removed!']);\n",
       "            Plotly.purge(gd);\n",
       "            observer.disconnect();\n",
       "        }}\n",
       "}});\n",
       "\n",
       "// Listen for the removal of the full notebook cells\n",
       "var notebookContainer = gd.closest('#notebook-container');\n",
       "if (notebookContainer) {{\n",
       "    x.observe(notebookContainer, {childList: true});\n",
       "}}\n",
       "\n",
       "// Listen for the clearing of the current output cell\n",
       "var outputEl = gd.closest('.output');\n",
       "if (outputEl) {{\n",
       "    x.observe(outputEl, {childList: true});\n",
       "}}\n",
       "\n",
       "                        })\n",
       "                };\n",
       "                });\n",
       "            </script>\n",
       "        </div>"
      ]
     },
     "metadata": {},
     "output_type": "display_data"
    }
   ],
   "source": [
    "px.scatter(data_frame= X, x = 'Hierarchical Clusters', y = '% of those 25+ with at least a Secondary Education', color= 'Hierarchical Clusters',\n",
    "           hover_name= X.index, color_continuous_scale= palette)\n"
   ]
  },
  {
   "cell_type": "markdown",
   "metadata": {},
   "source": [
    "# Clusters\n",
    "\n",
    "- Cluster 0 - High development\n",
    "- Cluster 1 - Low-medium development\n",
    "- Cluster 2 - Medium development\n",
    "- Cluster 3 - Wealthy Arab countries\n",
    "- Cluster 4 - Low development\n",
    "- Cluster 5 - Other Arab countries\n",
    "\n",
    "# Conclusion\n",
    "\n",
    "- These clusters can be used to identify which country groups would best benefit from targeted programs\n",
    "- The clusters are more informative than HDI quartile groups\n",
    "\n",
    "\n",
    "# Further Research\n",
    "\n",
    "- Looking at feature importance to get a better idea of how the clustering algorithms seperated the clusters"
   ]
  },
  {
   "cell_type": "code",
   "execution_count": null,
   "metadata": {},
   "outputs": [],
   "source": []
  }
 ],
 "metadata": {
  "kernelspec": {
   "display_name": "Python 3",
   "language": "python",
   "name": "python3"
  },
  "language_info": {
   "codemirror_mode": {
    "name": "ipython",
    "version": 3
   },
   "file_extension": ".py",
   "mimetype": "text/x-python",
   "name": "python",
   "nbconvert_exporter": "python",
   "pygments_lexer": "ipython3",
   "version": "3.6.4"
  }
 },
 "nbformat": 4,
 "nbformat_minor": 2
}
