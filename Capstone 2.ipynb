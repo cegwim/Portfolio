{
 "cells": [
  {
   "cell_type": "markdown",
   "metadata": {},
   "source": [
    "## Objective"
   ]
  },
  {
   "cell_type": "markdown",
   "metadata": {},
   "source": [
    "According to the National Survey of Drug Use and Health's 2017 annual report, approximatly 19.7 million Americans over the age of 12 suffer from a substance use disorder. Substance use disoders are defined by the Diagnostic and Statistical Manual of Mental Disorders (DSM-5) as occuring when an individual struggles with at least 2 of their specified 11 symptoms, and said individual is unable to stop using despite the negative impact that using has on their life.\n",
    "\n",
    "DSM-5 criteria:\n",
    "- Taking the substance in larger amounts or for longer than you're meant to.\n",
    "- Wanting to cut down or stop using the substance but not managing to.\n",
    "- Spending a lot of time getting, using, or recovering from use of the substance.\n",
    "- Cravings and urges to use the substance.\n",
    "- Not managing to do what you should at work, home, or school because of substance use.\n",
    "- Continuing to use, even when it causes problems in relationships.\n",
    "- Giving up important social, occupational, or recreational activities because of substance use.\n",
    "- Using substances again and again, even when it puts you in danger.\n",
    "- Continuing to use, even when you know you have a physical or psychological problem that could have been caused or made worse by the substance.\n",
    "- Needing more of the substance to get the effect you want (tolerance).\n",
    "- Development of withdrawal symptoms, which can be relieved by taking more of the substance.\n",
    "\n",
    "Despite the high number of people who fit the criteria for having a substance use disorder, only about 20% of sufferers go into treatment for their issue. There are multiple possible reasons as to why this is such an undertreated population, especially since so many people who suffer the most fall though the cracks of society, often dealing with additional issues such as severe mental illness, poverty, and homelessness."
   ]
  },
  {
   "cell_type": "markdown",
   "metadata": {},
   "source": [
    "The purpose of this project is to identify the differences between people who seek professional help for their substance problems and similarly affected people who go on untreated.\n",
    "\n",
    "In which areas do afflicted people who seek treatment differ from those who don’t?\n"
   ]
  },
  {
   "cell_type": "markdown",
   "metadata": {},
   "source": [
    "I will be mainly focusing on demographic features in predicting whether or not someone receives treatment or not:\n",
    "- gender\n",
    "- age\n",
    "- education level\n",
    "- household income\n",
    "- criminal history\n",
    "\n",
    "Along with features looking at possibly comorbid mental health concerns:\n",
    "- having had a major depressive episode\n",
    "- having excessively high levels of anxiety\n",
    "- having gone through a traumatic experience\n",
    "- showing manic symptoms\n",
    "\n",
    "And a few others related to receiving treatment:\n",
    "- whether or not an individual has already received mental health treatment\n",
    "- healthcare coverage\n",
    "- type of substance abused"
   ]
  },
  {
   "cell_type": "code",
   "execution_count": 1,
   "metadata": {},
   "outputs": [],
   "source": [
    "import numpy as np\n",
    "import pandas as pd\n",
    "import seaborn as sns\n",
    "sns.set()\n",
    "import matplotlib.pyplot as plt\n",
    "import warnings\n",
    "warnings.filterwarnings('ignore')\n",
    "\n",
    "pd.set_option('display.max_columns', 150)\n",
    "plt.style.use('bmh')\n",
    "from IPython.display import display\n"
   ]
  },
  {
   "cell_type": "code",
   "execution_count": 2,
   "metadata": {},
   "outputs": [],
   "source": [
    "def confusion_matrix_stats(model, x, y):\n",
    "    \"\"\"Given a model, x, and y values the function returns \n",
    "    a confusion matrix table and percentage of Type I and \n",
    "    Type II errors.  Function can return a single matrix or two \n",
    "    matrices for comparing train and test sets.  \n",
    "    Input for confusion matrix stats for both train and test sets\n",
    "    is as follows:\n",
    "     \n",
    "        confusion_matrix_stats(model, [X_train, X_test], [y_train, y_test])\n",
    "     \n",
    "     To avoid confusion when reading matrices and error stats, order entry of \n",
    "     train and test should be observed; 'train' sets should preceed 'test' sets.\"\"\"\n",
    "\n",
    "    if len(x) > 2:\n",
    "        predict = model.predict(x)\n",
    "        table = pd.crosstab(y, predict, margins=True)\n",
    "        tI = table.loc[0.0, 1.0] / table.loc['All', 'All']\n",
    "        tII = table.loc[1.0, 0.0] / table.loc['All', 'All']\n",
    "\n",
    "        print(('----- Confusion Matrix -----\\n' \n",
    "               f'{table}\\n' '\\n' f'Accuracy:\\n' \n",
    "               f'Percent Type I errors: {tI}\\n' \n",
    "               f'Percent Type II errors: {tII}\\n'))\n",
    "\n",
    "    else:\n",
    "        splits = ['Train set', 'Test set']\n",
    "        for i,split in enumerate(x):\n",
    "            predict = model.predict(split)\n",
    "            table = pd.crosstab(y[i], predict, margins=True)\n",
    "            tI = table.loc[0.0, 1.0] / table.loc['All', 'All']\n",
    "            tII = table.loc[1.0, 0.0] / table.loc['All', 'All']\n",
    "\n",
    "            print(('\\n' f'----- {splits[i]} Confusion Matrix -----\\n' \n",
    "                   f'{table}\\n' '\\n' \n",
    "                   f'----- {splits[i]} Accuracy -----\\n' \n",
    "                   f'Percent Type I errors: {tI}\\n' \n",
    "                   f'Percent Type II errors: {tII}\\n'))"
   ]
  },
  {
   "cell_type": "markdown",
   "metadata": {},
   "source": [
    "## Import dataset"
   ]
  },
  {
   "cell_type": "markdown",
   "metadata": {},
   "source": [
    "In preparing the dataset, I will:\n",
    "- filter the data to only contain responses from individulas who had a substance use disorder\n",
    "- ensure that my categories are binary\n",
    "- ensure that there are no null values"
   ]
  },
  {
   "cell_type": "code",
   "execution_count": 3,
   "metadata": {},
   "outputs": [],
   "source": [
    "df = pd.read_csv('mh-aldr-cr-data.tsv.csv')"
   ]
  },
  {
   "cell_type": "code",
   "execution_count": 4,
   "metadata": {},
   "outputs": [],
   "source": [
    "#Create a filtered dataset of respondents that have an alcohol or drug dependence or abuse problem\n",
    "fd = df.copy()\n",
    "fd = fd.loc[fd['ABODILAL'] == 1]"
   ]
  },
  {
   "cell_type": "code",
   "execution_count": 5,
   "metadata": {},
   "outputs": [],
   "source": [
    "#Seperate variables of interest into groups\n",
    "#Wher\n",
    "subtx = fd[['TREATMENTLT']]\n",
    "#History of mental health treatment\n",
    "mhtx = fd[[ 'ANYYA']]\n",
    "#History with substance abuse prevention programs in school\n",
    "prvprg = fd[['ANYEDUC3']]\n",
    "#History of extremely distressing life experiences\n",
    "stress = fd[['PTSEVER']]\n",
    "#Having more than a high school education/ being presently enrolled in school\n",
    "sch = fd[['EDU_DUMMY', 'SCHOOL']]\n",
    "#History of social anxiety, general anxiety, and panic attacks\n",
    "anx = fd[['PHBSOCL', 'GADNRVOS', 'PANATAK']]\n",
    "#Healthcare type: medicare, medicaid, military, or private through employer\n",
    "hthcr = fd[['MEDICARE', 'CAIDCHIP', 'CHAMPUS', 'GRPHLTIN']]\n",
    "#Criminal history\n",
    "crm = fd[['ANYCRIME']]\n",
    "#History of a depressive episode\n",
    "dep = fd[['DEPEPISODE']]\n",
    "#Type of substance abused\n",
    "abudep = fd[[ 'ABODALC', 'ABODANL', 'ABODCOC', 'ABODHAL', 'ABODHER', 'ABODINH', 'ABODMRJ', 'ABODSED', 'ABODSTM', 'ABODTRN' ]]\n",
    "#Household income level\n",
    "inc = pd.get_dummies(fd['TOTFAMINCOME'], prefix= 'INCOME')\n",
    "#Gender\n",
    "gnd = fd[['FEMALE']]"
   ]
  },
  {
   "cell_type": "code",
   "execution_count": 6,
   "metadata": {},
   "outputs": [],
   "source": [
    "#Ensure that variables are binary - force negative responses to be 0\n",
    "for col in subtx.columns:\n",
    "    subtx[col].loc[subtx[col] != 1] = 0"
   ]
  },
  {
   "cell_type": "code",
   "execution_count": 7,
   "metadata": {},
   "outputs": [],
   "source": [
    "#Combine selected variables into one dataframe\n",
    "tx_df = pd.DataFrame()\n",
    "tx_df = pd.concat([mhtx, prvprg, hthcr, crm, stress, dep, anx, sch, inc, gnd, abudep], axis = 1)"
   ]
  },
  {
   "cell_type": "code",
   "execution_count": 8,
   "metadata": {},
   "outputs": [],
   "source": [
    "#Ensure that variables are binary - force negative responses to be 0\n",
    "for col in tx_df.columns:\n",
    "    tx_df[col].loc[tx_df[col] != 1] = 0"
   ]
  },
  {
   "cell_type": "code",
   "execution_count": 9,
   "metadata": {},
   "outputs": [],
   "source": [
    "#Handle special cases\n",
    "fd['MNCEVER'].loc[fd['MNCEVER'] == 5] = 1\n",
    "fd['MNCEVER'].loc[fd['MNCEVER'] != 1] = 0\n",
    "\n",
    "#History of a manic episode\n",
    "mnc = fd[['MNCEVER']]\n",
    "\n",
    "#Age of respondent in years\n",
    "age = fd[['AGE_YRS']]"
   ]
  },
  {
   "cell_type": "code",
   "execution_count": 10,
   "metadata": {},
   "outputs": [],
   "source": [
    "#Add treated special cases to final dataaframe\n",
    "tx_df = pd.concat([tx_df, mnc, age], axis = 1)"
   ]
  },
  {
   "cell_type": "code",
   "execution_count": 11,
   "metadata": {},
   "outputs": [
    {
     "name": "stdout",
     "output_type": "stream",
     "text": [
      "0    5550\n",
      "1    1798\n",
      "Name: ANYYA, dtype: int64\n",
      "0    6199\n",
      "1    1149\n",
      "Name: ANYEDUC3, dtype: int64\n",
      "0    7245\n",
      "1     103\n",
      "Name: MEDICARE, dtype: int64\n",
      "0    6350\n",
      "1     998\n",
      "Name: CAIDCHIP, dtype: int64\n",
      "0    7162\n",
      "1     186\n",
      "Name: CHAMPUS, dtype: int64\n",
      "1    4032\n",
      "0    3316\n",
      "Name: GRPHLTIN, dtype: int64\n",
      "0    5263\n",
      "1    2085\n",
      "Name: ANYCRIME, dtype: int64\n",
      "0    6070\n",
      "1    1278\n",
      "Name: PTSEVER, dtype: int64\n",
      "0    6071\n",
      "1    1277\n",
      "Name: DEPEPISODE, dtype: int64\n",
      "0    6538\n",
      "1     810\n",
      "Name: PHBSOCL, dtype: int64\n",
      "0    7099\n",
      "1     249\n",
      "Name: GADNRVOS, dtype: int64\n",
      "0    6614\n",
      "1     734\n",
      "Name: PANATAK, dtype: int64\n",
      "0    4698\n",
      "1    2650\n",
      "Name: EDU_DUMMY, dtype: int64\n",
      "0    3853\n",
      "1    3495\n",
      "Name: SCHOOL, dtype: int64\n",
      "0    6190\n",
      "1    1158\n",
      "Name: INCOME_1, dtype: int64\n",
      "0    6205\n",
      "1    1143\n",
      "Name: INCOME_2, dtype: int64\n",
      "0    6396\n",
      "1     952\n",
      "Name: INCOME_3, dtype: int64\n",
      "0    6529\n",
      "1     819\n",
      "Name: INCOME_4, dtype: int64\n",
      "0    6526\n",
      "1     822\n",
      "Name: INCOME_5, dtype: int64\n",
      "0    6267\n",
      "1    1081\n",
      "Name: INCOME_6, dtype: int64\n",
      "0    5975\n",
      "1    1373\n",
      "Name: INCOME_7, dtype: int64\n",
      "0    4336\n",
      "1    3012\n",
      "Name: FEMALE, dtype: int64\n",
      "1    5846\n",
      "0    1502\n",
      "Name: ABODALC, dtype: int64\n",
      "0    6761\n",
      "1     587\n",
      "Name: ABODANL, dtype: int64\n",
      "0    6869\n",
      "1     479\n",
      "Name: ABODCOC, dtype: int64\n",
      "0    7133\n",
      "1     215\n",
      "Name: ABODHAL, dtype: int64\n",
      "0    7270\n",
      "1      78\n",
      "Name: ABODHER, dtype: int64\n",
      "0    7205\n",
      "1     143\n",
      "Name: ABODINH, dtype: int64\n",
      "0    5288\n",
      "1    2060\n",
      "Name: ABODMRJ, dtype: int64\n",
      "0    7310\n",
      "1      38\n",
      "Name: ABODSED, dtype: int64\n",
      "0    7156\n",
      "1     192\n",
      "Name: ABODSTM, dtype: int64\n",
      "0    7161\n",
      "1     187\n",
      "Name: ABODTRN, dtype: int64\n",
      "0    7036\n",
      "1     312\n",
      "Name: MNCEVER, dtype: int64\n",
      "22    994\n",
      "24    780\n",
      "35    752\n",
      "21    568\n",
      "17    563\n",
      "18    558\n",
      "20    538\n",
      "19    531\n",
      "16    461\n",
      "26    404\n",
      "30    369\n",
      "15    323\n",
      "14    202\n",
      "50    154\n",
      "13     93\n",
      "12     34\n",
      "65     24\n",
      "Name: AGE_YRS, dtype: int64\n"
     ]
    }
   ],
   "source": [
    "for col in tx_df.columns:\n",
    "    print(tx_df[col].value_counts())"
   ]
  },
  {
   "cell_type": "code",
   "execution_count": 12,
   "metadata": {},
   "outputs": [
    {
     "name": "stdout",
     "output_type": "stream",
     "text": [
      "<class 'pandas.core.frame.DataFrame'>\n",
      "Int64Index: 7348 entries, 3 to 55598\n",
      "Data columns (total 34 columns):\n",
      "ANYYA         7348 non-null int64\n",
      "ANYEDUC3      7348 non-null int64\n",
      "MEDICARE      7348 non-null int64\n",
      "CAIDCHIP      7348 non-null int64\n",
      "CHAMPUS       7348 non-null int64\n",
      "GRPHLTIN      7348 non-null int64\n",
      "ANYCRIME      7348 non-null int64\n",
      "PTSEVER       7348 non-null int64\n",
      "DEPEPISODE    7348 non-null int64\n",
      "PHBSOCL       7348 non-null int64\n",
      "GADNRVOS      7348 non-null int64\n",
      "PANATAK       7348 non-null int64\n",
      "EDU_DUMMY     7348 non-null int64\n",
      "SCHOOL        7348 non-null int64\n",
      "INCOME_1      7348 non-null int64\n",
      "INCOME_2      7348 non-null int64\n",
      "INCOME_3      7348 non-null int64\n",
      "INCOME_4      7348 non-null int64\n",
      "INCOME_5      7348 non-null int64\n",
      "INCOME_6      7348 non-null int64\n",
      "INCOME_7      7348 non-null int64\n",
      "FEMALE        7348 non-null int64\n",
      "ABODALC       7348 non-null int64\n",
      "ABODANL       7348 non-null int64\n",
      "ABODCOC       7348 non-null int64\n",
      "ABODHAL       7348 non-null int64\n",
      "ABODHER       7348 non-null int64\n",
      "ABODINH       7348 non-null int64\n",
      "ABODMRJ       7348 non-null int64\n",
      "ABODSED       7348 non-null int64\n",
      "ABODSTM       7348 non-null int64\n",
      "ABODTRN       7348 non-null int64\n",
      "MNCEVER       7348 non-null int64\n",
      "AGE_YRS       7348 non-null int64\n",
      "dtypes: int64(34)\n",
      "memory usage: 2.0 MB\n"
     ]
    }
   ],
   "source": [
    "tx_df.info()"
   ]
  },
  {
   "cell_type": "markdown",
   "metadata": {},
   "source": [
    "## Substance treatment"
   ]
  },
  {
   "cell_type": "markdown",
   "metadata": {},
   "source": [
    "Here we can see that only about 20% of people with a substance use problem seek treatment within their life time."
   ]
  },
  {
   "cell_type": "code",
   "execution_count": 13,
   "metadata": {},
   "outputs": [
    {
     "data": {
      "image/png": "[encoded data removed]",
      "text/plain": [
       "<Figure size 432x288 with 1 Axes>"
      ]
     },
     "metadata": {
      "needs_background": "light"
     },
     "output_type": "display_data"
    }
   ],
   "source": [
    "sns.countplot(subtx['TREATMENTLT'], palette= 'Purples')\n",
    "plt.show()\n"
   ]
  },
  {
   "cell_type": "code",
   "execution_count": 14,
   "metadata": {
    "scrolled": true
   },
   "outputs": [
    {
     "data": {
      "text/html": [
       "<div>\n",
       "<style scoped>\n",
       "    .dataframe tbody tr th:only-of-type {\n",
       "        vertical-align: middle;\n",
       "    }\n",
       "\n",
       "    .dataframe tbody tr th {\n",
       "        vertical-align: top;\n",
       "    }\n",
       "\n",
       "    .dataframe thead th {\n",
       "        text-align: right;\n",
       "    }\n",
       "</style>\n",
       "<table border=\"1\" class=\"dataframe\">\n",
       "  <thead>\n",
       "    <tr style=\"text-align: right;\">\n",
       "      <th></th>\n",
       "      <th>TREATMENTLT</th>\n",
       "    </tr>\n",
       "  </thead>\n",
       "  <tbody>\n",
       "    <tr>\n",
       "      <th>count</th>\n",
       "      <td>7348.000000</td>\n",
       "    </tr>\n",
       "    <tr>\n",
       "      <th>mean</th>\n",
       "      <td>0.202912</td>\n",
       "    </tr>\n",
       "    <tr>\n",
       "      <th>std</th>\n",
       "      <td>0.402195</td>\n",
       "    </tr>\n",
       "    <tr>\n",
       "      <th>min</th>\n",
       "      <td>0.000000</td>\n",
       "    </tr>\n",
       "    <tr>\n",
       "      <th>25%</th>\n",
       "      <td>0.000000</td>\n",
       "    </tr>\n",
       "    <tr>\n",
       "      <th>50%</th>\n",
       "      <td>0.000000</td>\n",
       "    </tr>\n",
       "    <tr>\n",
       "      <th>75%</th>\n",
       "      <td>0.000000</td>\n",
       "    </tr>\n",
       "    <tr>\n",
       "      <th>max</th>\n",
       "      <td>1.000000</td>\n",
       "    </tr>\n",
       "  </tbody>\n",
       "</table>\n",
       "</div>"
      ],
      "text/plain": [
       "       TREATMENTLT\n",
       "count  7348.000000\n",
       "mean      0.202912\n",
       "std       0.402195\n",
       "min       0.000000\n",
       "25%       0.000000\n",
       "50%       0.000000\n",
       "75%       0.000000\n",
       "max       1.000000"
      ]
     },
     "execution_count": 14,
     "metadata": {},
     "output_type": "execute_result"
    }
   ],
   "source": [
    "subtx.describe()"
   ]
  },
  {
   "cell_type": "markdown",
   "metadata": {},
   "source": [
    "## Mental health treatment"
   ]
  },
  {
   "cell_type": "markdown",
   "metadata": {},
   "source": [
    "Here we can see that people with a history of any type of mental health treatment received substance abuse treatment at a higher proportion than those without such history."
   ]
  },
  {
   "cell_type": "code",
   "execution_count": 15,
   "metadata": {},
   "outputs": [
    {
     "data": {
      "image/png": "[encoded data removed]",
      "text/plain": [
       "<Figure size 432x288 with 1 Axes>"
      ]
     },
     "metadata": {
      "needs_background": "light"
     },
     "output_type": "display_data"
    },
    {
     "data": {
      "image/png": "[encoded data removed]",
      "text/plain": [
       "<Figure size 360x360 with 1 Axes>"
      ]
     },
     "metadata": {
      "needs_background": "light"
     },
     "output_type": "display_data"
    }
   ],
   "source": [
    "for col in mhtx:\n",
    "    plt.subplot(len(tx_df.columns),1, (tx_df.columns.get_loc(col)+1))\n",
    "    plt.figure(figsize = (5,5))\n",
    "    sns.countplot(tx_df[col], hue = fd['TREATMENTLT'], palette= 'Purples')\n",
    "    plt.show()\n"
   ]
  },
  {
   "cell_type": "code",
   "execution_count": 16,
   "metadata": {
    "scrolled": true
   },
   "outputs": [
    {
     "data": {
      "text/html": [
       "<div>\n",
       "<style scoped>\n",
       "    .dataframe tbody tr th:only-of-type {\n",
       "        vertical-align: middle;\n",
       "    }\n",
       "\n",
       "    .dataframe tbody tr th {\n",
       "        vertical-align: top;\n",
       "    }\n",
       "\n",
       "    .dataframe thead th {\n",
       "        text-align: right;\n",
       "    }\n",
       "</style>\n",
       "<table border=\"1\" class=\"dataframe\">\n",
       "  <thead>\n",
       "    <tr style=\"text-align: right;\">\n",
       "      <th></th>\n",
       "      <th>ANYYA</th>\n",
       "    </tr>\n",
       "  </thead>\n",
       "  <tbody>\n",
       "    <tr>\n",
       "      <th>count</th>\n",
       "      <td>7348.000000</td>\n",
       "    </tr>\n",
       "    <tr>\n",
       "      <th>mean</th>\n",
       "      <td>0.244692</td>\n",
       "    </tr>\n",
       "    <tr>\n",
       "      <th>std</th>\n",
       "      <td>0.429934</td>\n",
       "    </tr>\n",
       "    <tr>\n",
       "      <th>min</th>\n",
       "      <td>0.000000</td>\n",
       "    </tr>\n",
       "    <tr>\n",
       "      <th>25%</th>\n",
       "      <td>0.000000</td>\n",
       "    </tr>\n",
       "    <tr>\n",
       "      <th>50%</th>\n",
       "      <td>0.000000</td>\n",
       "    </tr>\n",
       "    <tr>\n",
       "      <th>75%</th>\n",
       "      <td>0.000000</td>\n",
       "    </tr>\n",
       "    <tr>\n",
       "      <th>max</th>\n",
       "      <td>1.000000</td>\n",
       "    </tr>\n",
       "  </tbody>\n",
       "</table>\n",
       "</div>"
      ],
      "text/plain": [
       "             ANYYA\n",
       "count  7348.000000\n",
       "mean      0.244692\n",
       "std       0.429934\n",
       "min       0.000000\n",
       "25%       0.000000\n",
       "50%       0.000000\n",
       "75%       0.000000\n",
       "max       1.000000"
      ]
     },
     "execution_count": 16,
     "metadata": {},
     "output_type": "execute_result"
    }
   ],
   "source": [
    "tx_df[mhtx.columns].describe()"
   ]
  },
  {
   "cell_type": "markdown",
   "metadata": {},
   "source": [
    "## Substances"
   ]
  },
  {
   "cell_type": "markdown",
   "metadata": {},
   "source": [
    "Looking at type of substance abused we see high numbers of people with problems with alcohol and marijuana. We also see that people with alochol problems are more likely to receive treatment than those with a different type of substance issue."
   ]
  },
  {
   "cell_type": "code",
   "execution_count": 17,
   "metadata": {},
   "outputs": [
    {
     "data": {
      "image/png": "[encoded data removed]",
      "text/plain": [
       "<Figure size 432x288 with 1 Axes>"
      ]
     },
     "metadata": {
      "needs_background": "light"
     },
     "output_type": "display_data"
    },
    {
     "data": {
      "image/png": "[encoded data removed]",
      "text/plain": [
       "<Figure size 360x360 with 1 Axes>"
      ]
     },
     "metadata": {
      "needs_background": "light"
     },
     "output_type": "display_data"
    },
    {
     "data": {
      "image/png": "[encoded data removed]",
      "text/plain": [
       "<Figure size 432x288 with 1 Axes>"
      ]
     },
     "metadata": {
      "needs_background": "light"
     },
     "output_type": "display_data"
    },
    {
     "data": {
      "image/png": "[encoded data removed]",
      "text/plain": [
       "<Figure size 360x360 with 1 Axes>"
      ]
     },
     "metadata": {
      "needs_background": "light"
     },
     "output_type": "display_data"
    },
    {
     "data": {
      "image/png": "[encoded data removed]",
      "text/plain": [
       "<Figure size 432x288 with 1 Axes>"
      ]
     },
     "metadata": {
      "needs_background": "light"
     },
     "output_type": "display_data"
    },
    {
     "data": {
      "image/png": "[encoded data removed]",
      "text/plain": [
       "<Figure size 360x360 with 1 Axes>"
      ]
     },
     "metadata": {
      "needs_background": "light"
     },
     "output_type": "display_data"
    },
    {
     "data": {
      "image/png": "[encoded data removed]",
      "text/plain": [
       "<Figure size 432x288 with 1 Axes>"
      ]
     },
     "metadata": {
      "needs_background": "light"
     },
     "output_type": "display_data"
    },
    {
     "data": {
      "image/png": "[encoded data removed]",
      "text/plain": [
       "<Figure size 360x360 with 1 Axes>"
      ]
     },
     "metadata": {
      "needs_background": "light"
     },
     "output_type": "display_data"
    },
    {
     "data": {
      "image/png": "[encoded data removed]",
      "text/plain": [
       "<Figure size 432x288 with 1 Axes>"
      ]
     },
     "metadata": {
      "needs_background": "light"
     },
     "output_type": "display_data"
    },
    {
     "data": {
      "image/png": "[encoded data removed]",
      "text/plain": [
       "<Figure size 360x360 with 1 Axes>"
      ]
     },
     "metadata": {
      "needs_background": "light"
     },
     "output_type": "display_data"
    },
    {
     "data": {
      "image/png": "[encoded data removed]",
      "text/plain": [
       "<Figure size 432x288 with 1 Axes>"
      ]
     },
     "metadata": {
      "needs_background": "light"
     },
     "output_type": "display_data"
    },
    {
     "data": {
      "image/png": "[encoded data removed]",
      "text/plain": [
       "<Figure size 360x360 with 1 Axes>"
      ]
     },
     "metadata": {
      "needs_background": "light"
     },
     "output_type": "display_data"
    },
    {
     "data": {
      "image/png": "[encoded data removed]",
      "text/plain": [
       "<Figure size 432x288 with 1 Axes>"
      ]
     },
     "metadata": {
      "needs_background": "light"
     },
     "output_type": "display_data"
    },
    {
     "data": {
      "image/png": "[encoded data removed]",
      "text/plain": [
       "<Figure size 360x360 with 1 Axes>"
      ]
     },
     "metadata": {
      "needs_background": "light"
     },
     "output_type": "display_data"
    },
    {
     "data": {
      "image/png": "[encoded data removed]",
      "text/plain": [
       "<Figure size 432x288 with 1 Axes>"
      ]
     },
     "metadata": {
      "needs_background": "light"
     },
     "output_type": "display_data"
    },
    {
     "data": {
      "image/png": "[encoded data removed]",
      "text/plain": [
       "<Figure size 360x360 with 1 Axes>"
      ]
     },
     "metadata": {
      "needs_background": "light"
     },
     "output_type": "display_data"
    },
    {
     "data": {
      "image/png": "[encoded data removed]",
      "text/plain": [
       "<Figure size 432x288 with 1 Axes>"
      ]
     },
     "metadata": {
      "needs_background": "light"
     },
     "output_type": "display_data"
    },
    {
     "data": {
      "image/png": "[encoded data removed]",
      "text/plain": [
       "<Figure size 360x360 with 1 Axes>"
      ]
     },
     "metadata": {
      "needs_background": "light"
     },
     "output_type": "display_data"
    },
    {
     "data": {
      "image/png": "[encoded data removed]",
      "text/plain": [
       "<Figure size 432x288 with 1 Axes>"
      ]
     },
     "metadata": {
      "needs_background": "light"
     },
     "output_type": "display_data"
    },
    {
     "data": {
      "image/png": "[encoded data removed]",
      "text/plain": [
       "<Figure size 360x360 with 1 Axes>"
      ]
     },
     "metadata": {
      "needs_background": "light"
     },
     "output_type": "display_data"
    }
   ],
   "source": [
    "for col in abudep:\n",
    "    plt.subplot(len(tx_df.columns),1, (tx_df.columns.get_loc(col)+1))\n",
    "    plt.figure(figsize = (5,5))\n",
    "    sns.countplot(tx_df[col], hue = fd['TREATMENTLT'], palette= 'Purples')\n",
    "    plt.show()"
   ]
  },
  {
   "cell_type": "code",
   "execution_count": 18,
   "metadata": {},
   "outputs": [
    {
     "data": {
      "text/html": [
       "<div>\n",
       "<style scoped>\n",
       "    .dataframe tbody tr th:only-of-type {\n",
       "        vertical-align: middle;\n",
       "    }\n",
       "\n",
       "    .dataframe tbody tr th {\n",
       "        vertical-align: top;\n",
       "    }\n",
       "\n",
       "    .dataframe thead th {\n",
       "        text-align: right;\n",
       "    }\n",
       "</style>\n",
       "<table border=\"1\" class=\"dataframe\">\n",
       "  <thead>\n",
       "    <tr style=\"text-align: right;\">\n",
       "      <th></th>\n",
       "      <th>ABODALC</th>\n",
       "      <th>ABODANL</th>\n",
       "      <th>ABODCOC</th>\n",
       "      <th>ABODHAL</th>\n",
       "      <th>ABODHER</th>\n",
       "      <th>ABODINH</th>\n",
       "      <th>ABODMRJ</th>\n",
       "      <th>ABODSED</th>\n",
       "      <th>ABODSTM</th>\n",
       "      <th>ABODTRN</th>\n",
       "    </tr>\n",
       "  </thead>\n",
       "  <tbody>\n",
       "    <tr>\n",
       "      <th>count</th>\n",
       "      <td>7348.000000</td>\n",
       "      <td>7348.000000</td>\n",
       "      <td>7348.000000</td>\n",
       "      <td>7348.000000</td>\n",
       "      <td>7348.000000</td>\n",
       "      <td>7348.000000</td>\n",
       "      <td>7348.000000</td>\n",
       "      <td>7348.000000</td>\n",
       "      <td>7348.000000</td>\n",
       "      <td>7348.000000</td>\n",
       "    </tr>\n",
       "    <tr>\n",
       "      <th>mean</th>\n",
       "      <td>0.795591</td>\n",
       "      <td>0.079886</td>\n",
       "      <td>0.065188</td>\n",
       "      <td>0.029260</td>\n",
       "      <td>0.010615</td>\n",
       "      <td>0.019461</td>\n",
       "      <td>0.280348</td>\n",
       "      <td>0.005171</td>\n",
       "      <td>0.026130</td>\n",
       "      <td>0.025449</td>\n",
       "    </tr>\n",
       "    <tr>\n",
       "      <th>std</th>\n",
       "      <td>0.403297</td>\n",
       "      <td>0.271135</td>\n",
       "      <td>0.246874</td>\n",
       "      <td>0.168545</td>\n",
       "      <td>0.102488</td>\n",
       "      <td>0.138148</td>\n",
       "      <td>0.449200</td>\n",
       "      <td>0.071732</td>\n",
       "      <td>0.159531</td>\n",
       "      <td>0.157495</td>\n",
       "    </tr>\n",
       "    <tr>\n",
       "      <th>min</th>\n",
       "      <td>0.000000</td>\n",
       "      <td>0.000000</td>\n",
       "      <td>0.000000</td>\n",
       "      <td>0.000000</td>\n",
       "      <td>0.000000</td>\n",
       "      <td>0.000000</td>\n",
       "      <td>0.000000</td>\n",
       "      <td>0.000000</td>\n",
       "      <td>0.000000</td>\n",
       "      <td>0.000000</td>\n",
       "    </tr>\n",
       "    <tr>\n",
       "      <th>25%</th>\n",
       "      <td>1.000000</td>\n",
       "      <td>0.000000</td>\n",
       "      <td>0.000000</td>\n",
       "      <td>0.000000</td>\n",
       "      <td>0.000000</td>\n",
       "      <td>0.000000</td>\n",
       "      <td>0.000000</td>\n",
       "      <td>0.000000</td>\n",
       "      <td>0.000000</td>\n",
       "      <td>0.000000</td>\n",
       "    </tr>\n",
       "    <tr>\n",
       "      <th>50%</th>\n",
       "      <td>1.000000</td>\n",
       "      <td>0.000000</td>\n",
       "      <td>0.000000</td>\n",
       "      <td>0.000000</td>\n",
       "      <td>0.000000</td>\n",
       "      <td>0.000000</td>\n",
       "      <td>0.000000</td>\n",
       "      <td>0.000000</td>\n",
       "      <td>0.000000</td>\n",
       "      <td>0.000000</td>\n",
       "    </tr>\n",
       "    <tr>\n",
       "      <th>75%</th>\n",
       "      <td>1.000000</td>\n",
       "      <td>0.000000</td>\n",
       "      <td>0.000000</td>\n",
       "      <td>0.000000</td>\n",
       "      <td>0.000000</td>\n",
       "      <td>0.000000</td>\n",
       "      <td>1.000000</td>\n",
       "      <td>0.000000</td>\n",
       "      <td>0.000000</td>\n",
       "      <td>0.000000</td>\n",
       "    </tr>\n",
       "    <tr>\n",
       "      <th>max</th>\n",
       "      <td>1.000000</td>\n",
       "      <td>1.000000</td>\n",
       "      <td>1.000000</td>\n",
       "      <td>1.000000</td>\n",
       "      <td>1.000000</td>\n",
       "      <td>1.000000</td>\n",
       "      <td>1.000000</td>\n",
       "      <td>1.000000</td>\n",
       "      <td>1.000000</td>\n",
       "      <td>1.000000</td>\n",
       "    </tr>\n",
       "  </tbody>\n",
       "</table>\n",
       "</div>"
      ],
      "text/plain": [
       "           ABODALC      ABODANL      ABODCOC      ABODHAL      ABODHER  \\\n",
       "count  7348.000000  7348.000000  7348.000000  7348.000000  7348.000000   \n",
       "mean      0.795591     0.079886     0.065188     0.029260     0.010615   \n",
       "std       0.403297     0.271135     0.246874     0.168545     0.102488   \n",
       "min       0.000000     0.000000     0.000000     0.000000     0.000000   \n",
       "25%       1.000000     0.000000     0.000000     0.000000     0.000000   \n",
       "50%       1.000000     0.000000     0.000000     0.000000     0.000000   \n",
       "75%       1.000000     0.000000     0.000000     0.000000     0.000000   \n",
       "max       1.000000     1.000000     1.000000     1.000000     1.000000   \n",
       "\n",
       "           ABODINH      ABODMRJ      ABODSED      ABODSTM      ABODTRN  \n",
       "count  7348.000000  7348.000000  7348.000000  7348.000000  7348.000000  \n",
       "mean      0.019461     0.280348     0.005171     0.026130     0.025449  \n",
       "std       0.138148     0.449200     0.071732     0.159531     0.157495  \n",
       "min       0.000000     0.000000     0.000000     0.000000     0.000000  \n",
       "25%       0.000000     0.000000     0.000000     0.000000     0.000000  \n",
       "50%       0.000000     0.000000     0.000000     0.000000     0.000000  \n",
       "75%       0.000000     1.000000     0.000000     0.000000     0.000000  \n",
       "max       1.000000     1.000000     1.000000     1.000000     1.000000  "
      ]
     },
     "execution_count": 18,
     "metadata": {},
     "output_type": "execute_result"
    }
   ],
   "source": [
    "tx_df[abudep.columns].describe()"
   ]
  },
  {
   "cell_type": "markdown",
   "metadata": {},
   "source": [
    "## Prevention Programs"
   ]
  },
  {
   "cell_type": "markdown",
   "metadata": {},
   "source": [
    "Looking at the plot we don't see much an effect from prevention programs."
   ]
  },
  {
   "cell_type": "code",
   "execution_count": 19,
   "metadata": {},
   "outputs": [
    {
     "data": {
      "image/png": "[encoded data removed]",
      "text/plain": [
       "<Figure size 432x288 with 1 Axes>"
      ]
     },
     "metadata": {
      "needs_background": "light"
     },
     "output_type": "display_data"
    },
    {
     "data": {
      "image/png": "[encoded data removed]",
      "text/plain": [
       "<Figure size 360x360 with 1 Axes>"
      ]
     },
     "metadata": {
      "needs_background": "light"
     },
     "output_type": "display_data"
    }
   ],
   "source": [
    "for col in prvprg:\n",
    "    plt.subplot(len(tx_df.columns),1, (tx_df.columns.get_loc(col)+1))\n",
    "    plt.figure(figsize = (5,5))\n",
    "    sns.countplot(tx_df[col], hue = fd['TREATMENTLT'], palette= 'Purples')\n",
    "    plt.show()"
   ]
  },
  {
   "cell_type": "code",
   "execution_count": 20,
   "metadata": {},
   "outputs": [
    {
     "data": {
      "text/html": [
       "<div>\n",
       "<style scoped>\n",
       "    .dataframe tbody tr th:only-of-type {\n",
       "        vertical-align: middle;\n",
       "    }\n",
       "\n",
       "    .dataframe tbody tr th {\n",
       "        vertical-align: top;\n",
       "    }\n",
       "\n",
       "    .dataframe thead th {\n",
       "        text-align: right;\n",
       "    }\n",
       "</style>\n",
       "<table border=\"1\" class=\"dataframe\">\n",
       "  <thead>\n",
       "    <tr style=\"text-align: right;\">\n",
       "      <th></th>\n",
       "      <th>ANYEDUC3</th>\n",
       "    </tr>\n",
       "  </thead>\n",
       "  <tbody>\n",
       "    <tr>\n",
       "      <th>count</th>\n",
       "      <td>7348.000000</td>\n",
       "    </tr>\n",
       "    <tr>\n",
       "      <th>mean</th>\n",
       "      <td>0.156369</td>\n",
       "    </tr>\n",
       "    <tr>\n",
       "      <th>std</th>\n",
       "      <td>0.363230</td>\n",
       "    </tr>\n",
       "    <tr>\n",
       "      <th>min</th>\n",
       "      <td>0.000000</td>\n",
       "    </tr>\n",
       "    <tr>\n",
       "      <th>25%</th>\n",
       "      <td>0.000000</td>\n",
       "    </tr>\n",
       "    <tr>\n",
       "      <th>50%</th>\n",
       "      <td>0.000000</td>\n",
       "    </tr>\n",
       "    <tr>\n",
       "      <th>75%</th>\n",
       "      <td>0.000000</td>\n",
       "    </tr>\n",
       "    <tr>\n",
       "      <th>max</th>\n",
       "      <td>1.000000</td>\n",
       "    </tr>\n",
       "  </tbody>\n",
       "</table>\n",
       "</div>"
      ],
      "text/plain": [
       "          ANYEDUC3\n",
       "count  7348.000000\n",
       "mean      0.156369\n",
       "std       0.363230\n",
       "min       0.000000\n",
       "25%       0.000000\n",
       "50%       0.000000\n",
       "75%       0.000000\n",
       "max       1.000000"
      ]
     },
     "execution_count": 20,
     "metadata": {},
     "output_type": "execute_result"
    }
   ],
   "source": [
    "tx_df[prvprg.columns].describe()"
   ]
  },
  {
   "cell_type": "markdown",
   "metadata": {},
   "source": [
    "## Healthcare"
   ]
  },
  {
   "cell_type": "markdown",
   "metadata": {},
   "source": [
    "Looking at the plots we see that people who are under a private healthcare plan via an employer received treatment more often those covered by other forms of healthcare."
   ]
  },
  {
   "cell_type": "code",
   "execution_count": 21,
   "metadata": {
    "scrolled": true
   },
   "outputs": [
    {
     "data": {
      "image/png": "[encoded data removed]",
      "text/plain": [
       "<Figure size 432x288 with 1 Axes>"
      ]
     },
     "metadata": {
      "needs_background": "light"
     },
     "output_type": "display_data"
    },
    {
     "data": {
      "image/png": "[encoded data removed]",
      "text/plain": [
       "<Figure size 360x360 with 1 Axes>"
      ]
     },
     "metadata": {
      "needs_background": "light"
     },
     "output_type": "display_data"
    },
    {
     "data": {
      "image/png": "[encoded data removed]",
      "text/plain": [
       "<Figure size 432x288 with 1 Axes>"
      ]
     },
     "metadata": {
      "needs_background": "light"
     },
     "output_type": "display_data"
    },
    {
     "data": {
      "image/png": "[encoded data removed]",
      "text/plain": [
       "<Figure size 360x360 with 1 Axes>"
      ]
     },
     "metadata": {
      "needs_background": "light"
     },
     "output_type": "display_data"
    },
    {
     "data": {
      "image/png": "[encoded data removed]",
      "text/plain": [
       "<Figure size 432x288 with 1 Axes>"
      ]
     },
     "metadata": {
      "needs_background": "light"
     },
     "output_type": "display_data"
    },
    {
     "data": {
      "image/png": "[encoded data removed]",
      "text/plain": [
       "<Figure size 360x360 with 1 Axes>"
      ]
     },
     "metadata": {
      "needs_background": "light"
     },
     "output_type": "display_data"
    },
    {
     "data": {
      "image/png": "[encoded data removed]",
      "text/plain": [
       "<Figure size 432x288 with 1 Axes>"
      ]
     },
     "metadata": {
      "needs_background": "light"
     },
     "output_type": "display_data"
    },
    {
     "data": {
      "image/png": "[encoded data removed]",
      "text/plain": [
       "<Figure size 360x360 with 1 Axes>"
      ]
     },
     "metadata": {
      "needs_background": "light"
     },
     "output_type": "display_data"
    }
   ],
   "source": [
    "for col in hthcr:\n",
    "    plt.subplot(len(tx_df.columns),1, (tx_df.columns.get_loc(col)+1))\n",
    "    plt.figure(figsize = (5,5))\n",
    "    sns.countplot(tx_df[col], hue = fd['TREATMENTLT'], palette= 'Purples')\n",
    "    plt.show()"
   ]
  },
  {
   "cell_type": "code",
   "execution_count": 22,
   "metadata": {},
   "outputs": [
    {
     "data": {
      "text/html": [
       "<div>\n",
       "<style scoped>\n",
       "    .dataframe tbody tr th:only-of-type {\n",
       "        vertical-align: middle;\n",
       "    }\n",
       "\n",
       "    .dataframe tbody tr th {\n",
       "        vertical-align: top;\n",
       "    }\n",
       "\n",
       "    .dataframe thead th {\n",
       "        text-align: right;\n",
       "    }\n",
       "</style>\n",
       "<table border=\"1\" class=\"dataframe\">\n",
       "  <thead>\n",
       "    <tr style=\"text-align: right;\">\n",
       "      <th></th>\n",
       "      <th>MEDICARE</th>\n",
       "      <th>CAIDCHIP</th>\n",
       "      <th>CHAMPUS</th>\n",
       "      <th>GRPHLTIN</th>\n",
       "    </tr>\n",
       "  </thead>\n",
       "  <tbody>\n",
       "    <tr>\n",
       "      <th>count</th>\n",
       "      <td>7348.000000</td>\n",
       "      <td>7348.000000</td>\n",
       "      <td>7348.000000</td>\n",
       "      <td>7348.000000</td>\n",
       "    </tr>\n",
       "    <tr>\n",
       "      <th>mean</th>\n",
       "      <td>0.014017</td>\n",
       "      <td>0.135819</td>\n",
       "      <td>0.025313</td>\n",
       "      <td>0.548721</td>\n",
       "    </tr>\n",
       "    <tr>\n",
       "      <th>std</th>\n",
       "      <td>0.117570</td>\n",
       "      <td>0.342620</td>\n",
       "      <td>0.157085</td>\n",
       "      <td>0.497654</td>\n",
       "    </tr>\n",
       "    <tr>\n",
       "      <th>min</th>\n",
       "      <td>0.000000</td>\n",
       "      <td>0.000000</td>\n",
       "      <td>0.000000</td>\n",
       "      <td>0.000000</td>\n",
       "    </tr>\n",
       "    <tr>\n",
       "      <th>25%</th>\n",
       "      <td>0.000000</td>\n",
       "      <td>0.000000</td>\n",
       "      <td>0.000000</td>\n",
       "      <td>0.000000</td>\n",
       "    </tr>\n",
       "    <tr>\n",
       "      <th>50%</th>\n",
       "      <td>0.000000</td>\n",
       "      <td>0.000000</td>\n",
       "      <td>0.000000</td>\n",
       "      <td>1.000000</td>\n",
       "    </tr>\n",
       "    <tr>\n",
       "      <th>75%</th>\n",
       "      <td>0.000000</td>\n",
       "      <td>0.000000</td>\n",
       "      <td>0.000000</td>\n",
       "      <td>1.000000</td>\n",
       "    </tr>\n",
       "    <tr>\n",
       "      <th>max</th>\n",
       "      <td>1.000000</td>\n",
       "      <td>1.000000</td>\n",
       "      <td>1.000000</td>\n",
       "      <td>1.000000</td>\n",
       "    </tr>\n",
       "  </tbody>\n",
       "</table>\n",
       "</div>"
      ],
      "text/plain": [
       "          MEDICARE     CAIDCHIP      CHAMPUS     GRPHLTIN\n",
       "count  7348.000000  7348.000000  7348.000000  7348.000000\n",
       "mean      0.014017     0.135819     0.025313     0.548721\n",
       "std       0.117570     0.342620     0.157085     0.497654\n",
       "min       0.000000     0.000000     0.000000     0.000000\n",
       "25%       0.000000     0.000000     0.000000     0.000000\n",
       "50%       0.000000     0.000000     0.000000     1.000000\n",
       "75%       0.000000     0.000000     0.000000     1.000000\n",
       "max       1.000000     1.000000     1.000000     1.000000"
      ]
     },
     "execution_count": 22,
     "metadata": {},
     "output_type": "execute_result"
    }
   ],
   "source": [
    "tx_df[hthcr.columns].describe()"
   ]
  },
  {
   "cell_type": "markdown",
   "metadata": {},
   "source": [
    "## Crime"
   ]
  },
  {
   "cell_type": "markdown",
   "metadata": {},
   "source": [
    "Respondents with a criminal history received treatment at a higher proportion than those without a criminal history."
   ]
  },
  {
   "cell_type": "code",
   "execution_count": 23,
   "metadata": {},
   "outputs": [
    {
     "data": {
      "image/png": "[encoded data removed]",
      "text/plain": [
       "<Figure size 432x288 with 1 Axes>"
      ]
     },
     "metadata": {
      "needs_background": "light"
     },
     "output_type": "display_data"
    },
    {
     "data": {
      "image/png": "[encoded data removed]",
      "text/plain": [
       "<Figure size 360x360 with 1 Axes>"
      ]
     },
     "metadata": {
      "needs_background": "light"
     },
     "output_type": "display_data"
    }
   ],
   "source": [
    "for col in crm:\n",
    "    plt.subplot(len(tx_df.columns),1, (tx_df.columns.get_loc(col)+1))\n",
    "    plt.figure(figsize = (5,5))\n",
    "    sns.countplot(tx_df[col], hue = fd['TREATMENTLT'], palette= 'Purples')\n",
    "    plt.show()"
   ]
  },
  {
   "cell_type": "code",
   "execution_count": 24,
   "metadata": {},
   "outputs": [
    {
     "data": {
      "text/html": [
       "<div>\n",
       "<style scoped>\n",
       "    .dataframe tbody tr th:only-of-type {\n",
       "        vertical-align: middle;\n",
       "    }\n",
       "\n",
       "    .dataframe tbody tr th {\n",
       "        vertical-align: top;\n",
       "    }\n",
       "\n",
       "    .dataframe thead th {\n",
       "        text-align: right;\n",
       "    }\n",
       "</style>\n",
       "<table border=\"1\" class=\"dataframe\">\n",
       "  <thead>\n",
       "    <tr style=\"text-align: right;\">\n",
       "      <th></th>\n",
       "      <th>ANYCRIME</th>\n",
       "    </tr>\n",
       "  </thead>\n",
       "  <tbody>\n",
       "    <tr>\n",
       "      <th>count</th>\n",
       "      <td>7348.000000</td>\n",
       "    </tr>\n",
       "    <tr>\n",
       "      <th>mean</th>\n",
       "      <td>0.283751</td>\n",
       "    </tr>\n",
       "    <tr>\n",
       "      <th>std</th>\n",
       "      <td>0.450848</td>\n",
       "    </tr>\n",
       "    <tr>\n",
       "      <th>min</th>\n",
       "      <td>0.000000</td>\n",
       "    </tr>\n",
       "    <tr>\n",
       "      <th>25%</th>\n",
       "      <td>0.000000</td>\n",
       "    </tr>\n",
       "    <tr>\n",
       "      <th>50%</th>\n",
       "      <td>0.000000</td>\n",
       "    </tr>\n",
       "    <tr>\n",
       "      <th>75%</th>\n",
       "      <td>1.000000</td>\n",
       "    </tr>\n",
       "    <tr>\n",
       "      <th>max</th>\n",
       "      <td>1.000000</td>\n",
       "    </tr>\n",
       "  </tbody>\n",
       "</table>\n",
       "</div>"
      ],
      "text/plain": [
       "          ANYCRIME\n",
       "count  7348.000000\n",
       "mean      0.283751\n",
       "std       0.450848\n",
       "min       0.000000\n",
       "25%       0.000000\n",
       "50%       0.000000\n",
       "75%       1.000000\n",
       "max       1.000000"
      ]
     },
     "execution_count": 24,
     "metadata": {},
     "output_type": "execute_result"
    }
   ],
   "source": [
    "tx_df[crm.columns].describe()"
   ]
  },
  {
   "cell_type": "markdown",
   "metadata": {},
   "source": [
    "## Stress"
   ]
  },
  {
   "cell_type": "markdown",
   "metadata": {},
   "source": [
    "Here we see a slight effect of a stressful experience on receiving substance abuse treatment."
   ]
  },
  {
   "cell_type": "code",
   "execution_count": 25,
   "metadata": {
    "scrolled": true
   },
   "outputs": [
    {
     "data": {
      "text/plain": [
       "<matplotlib.axes._subplots.AxesSubplot at 0x20fa70b06d8>"
      ]
     },
     "execution_count": 25,
     "metadata": {},
     "output_type": "execute_result"
    },
    {
     "data": {
      "image/png": "[encoded data removed]",
      "text/plain": [
       "<Figure size 432x288 with 1 Axes>"
      ]
     },
     "metadata": {
      "needs_background": "light"
     },
     "output_type": "display_data"
    }
   ],
   "source": [
    "sns.countplot(tx_df['PTSEVER'], hue = fd['TREATMENTLT'], palette= 'Purples')"
   ]
  },
  {
   "cell_type": "code",
   "execution_count": 26,
   "metadata": {},
   "outputs": [
    {
     "data": {
      "text/html": [
       "<div>\n",
       "<style scoped>\n",
       "    .dataframe tbody tr th:only-of-type {\n",
       "        vertical-align: middle;\n",
       "    }\n",
       "\n",
       "    .dataframe tbody tr th {\n",
       "        vertical-align: top;\n",
       "    }\n",
       "\n",
       "    .dataframe thead th {\n",
       "        text-align: right;\n",
       "    }\n",
       "</style>\n",
       "<table border=\"1\" class=\"dataframe\">\n",
       "  <thead>\n",
       "    <tr style=\"text-align: right;\">\n",
       "      <th></th>\n",
       "      <th>PTSEVER</th>\n",
       "    </tr>\n",
       "  </thead>\n",
       "  <tbody>\n",
       "    <tr>\n",
       "      <th>count</th>\n",
       "      <td>7348.000000</td>\n",
       "    </tr>\n",
       "    <tr>\n",
       "      <th>mean</th>\n",
       "      <td>0.173925</td>\n",
       "    </tr>\n",
       "    <tr>\n",
       "      <th>std</th>\n",
       "      <td>0.379071</td>\n",
       "    </tr>\n",
       "    <tr>\n",
       "      <th>min</th>\n",
       "      <td>0.000000</td>\n",
       "    </tr>\n",
       "    <tr>\n",
       "      <th>25%</th>\n",
       "      <td>0.000000</td>\n",
       "    </tr>\n",
       "    <tr>\n",
       "      <th>50%</th>\n",
       "      <td>0.000000</td>\n",
       "    </tr>\n",
       "    <tr>\n",
       "      <th>75%</th>\n",
       "      <td>0.000000</td>\n",
       "    </tr>\n",
       "    <tr>\n",
       "      <th>max</th>\n",
       "      <td>1.000000</td>\n",
       "    </tr>\n",
       "  </tbody>\n",
       "</table>\n",
       "</div>"
      ],
      "text/plain": [
       "           PTSEVER\n",
       "count  7348.000000\n",
       "mean      0.173925\n",
       "std       0.379071\n",
       "min       0.000000\n",
       "25%       0.000000\n",
       "50%       0.000000\n",
       "75%       0.000000\n",
       "max       1.000000"
      ]
     },
     "execution_count": 26,
     "metadata": {},
     "output_type": "execute_result"
    }
   ],
   "source": [
    "tx_df[stress.columns].describe()"
   ]
  },
  {
   "cell_type": "markdown",
   "metadata": {},
   "source": [
    "## Depression"
   ]
  },
  {
   "cell_type": "markdown",
   "metadata": {},
   "source": [
    "Here we see a slight effect of a depressive episode on receiving substance abuse treatment."
   ]
  },
  {
   "cell_type": "code",
   "execution_count": 27,
   "metadata": {},
   "outputs": [
    {
     "data": {
      "image/png": "[encoded data removed]",
      "text/plain": [
       "<Figure size 432x288 with 1 Axes>"
      ]
     },
     "metadata": {
      "needs_background": "light"
     },
     "output_type": "display_data"
    },
    {
     "data": {
      "image/png": "[encoded data removed]",
      "text/plain": [
       "<Figure size 360x360 with 1 Axes>"
      ]
     },
     "metadata": {
      "needs_background": "light"
     },
     "output_type": "display_data"
    }
   ],
   "source": [
    "for col in dep:\n",
    "    plt.subplot(len(tx_df.columns),1, (tx_df.columns.get_loc(col)+1))\n",
    "    plt.figure(figsize = (5,5))\n",
    "    sns.countplot(tx_df[col], hue = fd['TREATMENTLT'], palette= 'Purples')\n",
    "    plt.show()"
   ]
  },
  {
   "cell_type": "code",
   "execution_count": 28,
   "metadata": {},
   "outputs": [
    {
     "data": {
      "text/html": [
       "<div>\n",
       "<style scoped>\n",
       "    .dataframe tbody tr th:only-of-type {\n",
       "        vertical-align: middle;\n",
       "    }\n",
       "\n",
       "    .dataframe tbody tr th {\n",
       "        vertical-align: top;\n",
       "    }\n",
       "\n",
       "    .dataframe thead th {\n",
       "        text-align: right;\n",
       "    }\n",
       "</style>\n",
       "<table border=\"1\" class=\"dataframe\">\n",
       "  <thead>\n",
       "    <tr style=\"text-align: right;\">\n",
       "      <th></th>\n",
       "      <th>DEPEPISODE</th>\n",
       "    </tr>\n",
       "  </thead>\n",
       "  <tbody>\n",
       "    <tr>\n",
       "      <th>count</th>\n",
       "      <td>7348.000000</td>\n",
       "    </tr>\n",
       "    <tr>\n",
       "      <th>mean</th>\n",
       "      <td>0.173789</td>\n",
       "    </tr>\n",
       "    <tr>\n",
       "      <th>std</th>\n",
       "      <td>0.378954</td>\n",
       "    </tr>\n",
       "    <tr>\n",
       "      <th>min</th>\n",
       "      <td>0.000000</td>\n",
       "    </tr>\n",
       "    <tr>\n",
       "      <th>25%</th>\n",
       "      <td>0.000000</td>\n",
       "    </tr>\n",
       "    <tr>\n",
       "      <th>50%</th>\n",
       "      <td>0.000000</td>\n",
       "    </tr>\n",
       "    <tr>\n",
       "      <th>75%</th>\n",
       "      <td>0.000000</td>\n",
       "    </tr>\n",
       "    <tr>\n",
       "      <th>max</th>\n",
       "      <td>1.000000</td>\n",
       "    </tr>\n",
       "  </tbody>\n",
       "</table>\n",
       "</div>"
      ],
      "text/plain": [
       "        DEPEPISODE\n",
       "count  7348.000000\n",
       "mean      0.173789\n",
       "std       0.378954\n",
       "min       0.000000\n",
       "25%       0.000000\n",
       "50%       0.000000\n",
       "75%       0.000000\n",
       "max       1.000000"
      ]
     },
     "execution_count": 28,
     "metadata": {},
     "output_type": "execute_result"
    }
   ],
   "source": [
    "tx_df[dep.columns].describe()"
   ]
  },
  {
   "cell_type": "markdown",
   "metadata": {},
   "source": [
    "## Anxiety"
   ]
  },
  {
   "cell_type": "markdown",
   "metadata": {},
   "source": [
    "Here we see a slight effect of a history with anxiety on receiving substance abuse treatment."
   ]
  },
  {
   "cell_type": "code",
   "execution_count": 29,
   "metadata": {
    "scrolled": false
   },
   "outputs": [
    {
     "data": {
      "image/png": "[encoded data removed]",
      "text/plain": [
       "<Figure size 432x288 with 1 Axes>"
      ]
     },
     "metadata": {
      "needs_background": "light"
     },
     "output_type": "display_data"
    },
    {
     "data": {
      "image/png": "[encoded data removed]",
      "text/plain": [
       "<Figure size 360x360 with 1 Axes>"
      ]
     },
     "metadata": {
      "needs_background": "light"
     },
     "output_type": "display_data"
    },
    {
     "data": {
      "image/png": "[encoded data removed]",
      "text/plain": [
       "<Figure size 432x288 with 1 Axes>"
      ]
     },
     "metadata": {
      "needs_background": "light"
     },
     "output_type": "display_data"
    },
    {
     "data": {
      "image/png": "[encoded data removed]",
      "text/plain": [
       "<Figure size 360x360 with 1 Axes>"
      ]
     },
     "metadata": {
      "needs_background": "light"
     },
     "output_type": "display_data"
    },
    {
     "data": {
      "image/png": "[encoded data removed]",
      "text/plain": [
       "<Figure size 432x288 with 1 Axes>"
      ]
     },
     "metadata": {
      "needs_background": "light"
     },
     "output_type": "display_data"
    },
    {
     "data": {
      "image/png": "[encoded data removed]",
      "text/plain": [
       "<Figure size 360x360 with 1 Axes>"
      ]
     },
     "metadata": {
      "needs_background": "light"
     },
     "output_type": "display_data"
    }
   ],
   "source": [
    "for col in anx:\n",
    "    plt.subplot(len(tx_df.columns),1, (tx_df.columns.get_loc(col)+1))\n",
    "    plt.figure(figsize = (5,5))\n",
    "    sns.countplot(tx_df[col], hue = fd['TREATMENTLT'], palette= 'Purples')\n",
    "    plt.show()"
   ]
  },
  {
   "cell_type": "code",
   "execution_count": 30,
   "metadata": {},
   "outputs": [
    {
     "data": {
      "text/html": [
       "<div>\n",
       "<style scoped>\n",
       "    .dataframe tbody tr th:only-of-type {\n",
       "        vertical-align: middle;\n",
       "    }\n",
       "\n",
       "    .dataframe tbody tr th {\n",
       "        vertical-align: top;\n",
       "    }\n",
       "\n",
       "    .dataframe thead th {\n",
       "        text-align: right;\n",
       "    }\n",
       "</style>\n",
       "<table border=\"1\" class=\"dataframe\">\n",
       "  <thead>\n",
       "    <tr style=\"text-align: right;\">\n",
       "      <th></th>\n",
       "      <th>PHBSOCL</th>\n",
       "      <th>GADNRVOS</th>\n",
       "      <th>PANATAK</th>\n",
       "    </tr>\n",
       "  </thead>\n",
       "  <tbody>\n",
       "    <tr>\n",
       "      <th>count</th>\n",
       "      <td>7348.000000</td>\n",
       "      <td>7348.000000</td>\n",
       "      <td>7348.000000</td>\n",
       "    </tr>\n",
       "    <tr>\n",
       "      <th>mean</th>\n",
       "      <td>0.110234</td>\n",
       "      <td>0.033887</td>\n",
       "      <td>0.099891</td>\n",
       "    </tr>\n",
       "    <tr>\n",
       "      <th>std</th>\n",
       "      <td>0.313203</td>\n",
       "      <td>0.180950</td>\n",
       "      <td>0.299875</td>\n",
       "    </tr>\n",
       "    <tr>\n",
       "      <th>min</th>\n",
       "      <td>0.000000</td>\n",
       "      <td>0.000000</td>\n",
       "      <td>0.000000</td>\n",
       "    </tr>\n",
       "    <tr>\n",
       "      <th>25%</th>\n",
       "      <td>0.000000</td>\n",
       "      <td>0.000000</td>\n",
       "      <td>0.000000</td>\n",
       "    </tr>\n",
       "    <tr>\n",
       "      <th>50%</th>\n",
       "      <td>0.000000</td>\n",
       "      <td>0.000000</td>\n",
       "      <td>0.000000</td>\n",
       "    </tr>\n",
       "    <tr>\n",
       "      <th>75%</th>\n",
       "      <td>0.000000</td>\n",
       "      <td>0.000000</td>\n",
       "      <td>0.000000</td>\n",
       "    </tr>\n",
       "    <tr>\n",
       "      <th>max</th>\n",
       "      <td>1.000000</td>\n",
       "      <td>1.000000</td>\n",
       "      <td>1.000000</td>\n",
       "    </tr>\n",
       "  </tbody>\n",
       "</table>\n",
       "</div>"
      ],
      "text/plain": [
       "           PHBSOCL     GADNRVOS      PANATAK\n",
       "count  7348.000000  7348.000000  7348.000000\n",
       "mean      0.110234     0.033887     0.099891\n",
       "std       0.313203     0.180950     0.299875\n",
       "min       0.000000     0.000000     0.000000\n",
       "25%       0.000000     0.000000     0.000000\n",
       "50%       0.000000     0.000000     0.000000\n",
       "75%       0.000000     0.000000     0.000000\n",
       "max       1.000000     1.000000     1.000000"
      ]
     },
     "execution_count": 30,
     "metadata": {},
     "output_type": "execute_result"
    }
   ],
   "source": [
    "tx_df[anx.columns].describe()"
   ]
  },
  {
   "cell_type": "markdown",
   "metadata": {},
   "source": [
    "## Mania"
   ]
  },
  {
   "cell_type": "markdown",
   "metadata": {},
   "source": [
    "Here we see a slight effect of a manic episode on receiving substance abuse treatment."
   ]
  },
  {
   "cell_type": "code",
   "execution_count": 31,
   "metadata": {
    "scrolled": true
   },
   "outputs": [
    {
     "data": {
      "image/png": "[encoded data removed]",
      "text/plain": [
       "<Figure size 432x288 with 1 Axes>"
      ]
     },
     "metadata": {
      "needs_background": "light"
     },
     "output_type": "display_data"
    }
   ],
   "source": [
    "sns.countplot(tx_df['MNCEVER'], hue = fd['TREATMENTLT'], palette= 'Purples')\n",
    "plt.show()"
   ]
  },
  {
   "cell_type": "code",
   "execution_count": 32,
   "metadata": {},
   "outputs": [
    {
     "data": {
      "text/html": [
       "<div>\n",
       "<style scoped>\n",
       "    .dataframe tbody tr th:only-of-type {\n",
       "        vertical-align: middle;\n",
       "    }\n",
       "\n",
       "    .dataframe tbody tr th {\n",
       "        vertical-align: top;\n",
       "    }\n",
       "\n",
       "    .dataframe thead th {\n",
       "        text-align: right;\n",
       "    }\n",
       "</style>\n",
       "<table border=\"1\" class=\"dataframe\">\n",
       "  <thead>\n",
       "    <tr style=\"text-align: right;\">\n",
       "      <th></th>\n",
       "      <th>MNCEVER</th>\n",
       "    </tr>\n",
       "  </thead>\n",
       "  <tbody>\n",
       "    <tr>\n",
       "      <th>count</th>\n",
       "      <td>7348.000000</td>\n",
       "    </tr>\n",
       "    <tr>\n",
       "      <th>mean</th>\n",
       "      <td>0.042461</td>\n",
       "    </tr>\n",
       "    <tr>\n",
       "      <th>std</th>\n",
       "      <td>0.201651</td>\n",
       "    </tr>\n",
       "    <tr>\n",
       "      <th>min</th>\n",
       "      <td>0.000000</td>\n",
       "    </tr>\n",
       "    <tr>\n",
       "      <th>25%</th>\n",
       "      <td>0.000000</td>\n",
       "    </tr>\n",
       "    <tr>\n",
       "      <th>50%</th>\n",
       "      <td>0.000000</td>\n",
       "    </tr>\n",
       "    <tr>\n",
       "      <th>75%</th>\n",
       "      <td>0.000000</td>\n",
       "    </tr>\n",
       "    <tr>\n",
       "      <th>max</th>\n",
       "      <td>1.000000</td>\n",
       "    </tr>\n",
       "  </tbody>\n",
       "</table>\n",
       "</div>"
      ],
      "text/plain": [
       "           MNCEVER\n",
       "count  7348.000000\n",
       "mean      0.042461\n",
       "std       0.201651\n",
       "min       0.000000\n",
       "25%       0.000000\n",
       "50%       0.000000\n",
       "75%       0.000000\n",
       "max       1.000000"
      ]
     },
     "execution_count": 32,
     "metadata": {},
     "output_type": "execute_result"
    }
   ],
   "source": [
    "tx_df[mnc.columns].describe()"
   ]
  },
  {
   "cell_type": "markdown",
   "metadata": {},
   "source": [
    "## Education"
   ]
  },
  {
   "cell_type": "markdown",
   "metadata": {},
   "source": [
    "It looks as if being currently enrolled in school has a higher effect on whether or not one receives treatment than having a post-secondary education."
   ]
  },
  {
   "cell_type": "code",
   "execution_count": 33,
   "metadata": {
    "scrolled": true
   },
   "outputs": [
    {
     "data": {
      "image/png": "[encoded data removed]",
      "text/plain": [
       "<Figure size 432x288 with 1 Axes>"
      ]
     },
     "metadata": {
      "needs_background": "light"
     },
     "output_type": "display_data"
    },
    {
     "data": {
      "image/png": "[encoded data removed]",
      "text/plain": [
       "<Figure size 360x360 with 1 Axes>"
      ]
     },
     "metadata": {
      "needs_background": "light"
     },
     "output_type": "display_data"
    },
    {
     "data": {
      "image/png": "[encoded data removed]",
      "text/plain": [
       "<Figure size 432x288 with 1 Axes>"
      ]
     },
     "metadata": {
      "needs_background": "light"
     },
     "output_type": "display_data"
    },
    {
     "data": {
      "image/png": "[encoded data removed]",
      "text/plain": [
       "<Figure size 360x360 with 1 Axes>"
      ]
     },
     "metadata": {
      "needs_background": "light"
     },
     "output_type": "display_data"
    }
   ],
   "source": [
    "for col in sch:\n",
    "    plt.subplot(len(tx_df.columns),1, (tx_df.columns.get_loc(col)+1))\n",
    "    plt.figure(figsize = (5,5))\n",
    "    sns.countplot(tx_df[col], hue = fd['TREATMENTLT'], palette= 'Purples')\n",
    "    plt.show()"
   ]
  },
  {
   "cell_type": "code",
   "execution_count": 34,
   "metadata": {},
   "outputs": [
    {
     "data": {
      "text/html": [
       "<div>\n",
       "<style scoped>\n",
       "    .dataframe tbody tr th:only-of-type {\n",
       "        vertical-align: middle;\n",
       "    }\n",
       "\n",
       "    .dataframe tbody tr th {\n",
       "        vertical-align: top;\n",
       "    }\n",
       "\n",
       "    .dataframe thead th {\n",
       "        text-align: right;\n",
       "    }\n",
       "</style>\n",
       "<table border=\"1\" class=\"dataframe\">\n",
       "  <thead>\n",
       "    <tr style=\"text-align: right;\">\n",
       "      <th></th>\n",
       "      <th>EDU_DUMMY</th>\n",
       "      <th>SCHOOL</th>\n",
       "    </tr>\n",
       "  </thead>\n",
       "  <tbody>\n",
       "    <tr>\n",
       "      <th>count</th>\n",
       "      <td>7348.000000</td>\n",
       "      <td>7348.00000</td>\n",
       "    </tr>\n",
       "    <tr>\n",
       "      <th>mean</th>\n",
       "      <td>0.360642</td>\n",
       "      <td>0.47564</td>\n",
       "    </tr>\n",
       "    <tr>\n",
       "      <th>std</th>\n",
       "      <td>0.480220</td>\n",
       "      <td>0.49944</td>\n",
       "    </tr>\n",
       "    <tr>\n",
       "      <th>min</th>\n",
       "      <td>0.000000</td>\n",
       "      <td>0.00000</td>\n",
       "    </tr>\n",
       "    <tr>\n",
       "      <th>25%</th>\n",
       "      <td>0.000000</td>\n",
       "      <td>0.00000</td>\n",
       "    </tr>\n",
       "    <tr>\n",
       "      <th>50%</th>\n",
       "      <td>0.000000</td>\n",
       "      <td>0.00000</td>\n",
       "    </tr>\n",
       "    <tr>\n",
       "      <th>75%</th>\n",
       "      <td>1.000000</td>\n",
       "      <td>1.00000</td>\n",
       "    </tr>\n",
       "    <tr>\n",
       "      <th>max</th>\n",
       "      <td>1.000000</td>\n",
       "      <td>1.00000</td>\n",
       "    </tr>\n",
       "  </tbody>\n",
       "</table>\n",
       "</div>"
      ],
      "text/plain": [
       "         EDU_DUMMY      SCHOOL\n",
       "count  7348.000000  7348.00000\n",
       "mean      0.360642     0.47564\n",
       "std       0.480220     0.49944\n",
       "min       0.000000     0.00000\n",
       "25%       0.000000     0.00000\n",
       "50%       0.000000     0.00000\n",
       "75%       1.000000     1.00000\n",
       "max       1.000000     1.00000"
      ]
     },
     "execution_count": 34,
     "metadata": {},
     "output_type": "execute_result"
    }
   ],
   "source": [
    "tx_df[sch.columns].describe()"
   ]
  },
  {
   "cell_type": "markdown",
   "metadata": {},
   "source": [
    "## Age"
   ]
  },
  {
   "cell_type": "markdown",
   "metadata": {},
   "source": [
    "We see an interesting trend here where people are more likely to suffere from a substance problem whne in their early-twenties, but are more likely to seek treatment when in their mid-thirties."
   ]
  },
  {
   "cell_type": "code",
   "execution_count": 35,
   "metadata": {
    "scrolled": true
   },
   "outputs": [
    {
     "data": {
      "image/png": "[encoded data removed]",
      "text/plain": [
       "<Figure size 432x288 with 1 Axes>"
      ]
     },
     "metadata": {
      "needs_background": "light"
     },
     "output_type": "display_data"
    }
   ],
   "source": [
    "sns.countplot(tx_df['AGE_YRS'], hue = fd['TREATMENTLT'], palette= 'Purples')\n",
    "plt.show()"
   ]
  },
  {
   "cell_type": "code",
   "execution_count": 36,
   "metadata": {},
   "outputs": [
    {
     "data": {
      "text/html": [
       "<div>\n",
       "<style scoped>\n",
       "    .dataframe tbody tr th:only-of-type {\n",
       "        vertical-align: middle;\n",
       "    }\n",
       "\n",
       "    .dataframe tbody tr th {\n",
       "        vertical-align: top;\n",
       "    }\n",
       "\n",
       "    .dataframe thead th {\n",
       "        text-align: right;\n",
       "    }\n",
       "</style>\n",
       "<table border=\"1\" class=\"dataframe\">\n",
       "  <thead>\n",
       "    <tr style=\"text-align: right;\">\n",
       "      <th></th>\n",
       "      <th>AGE_YRS</th>\n",
       "    </tr>\n",
       "  </thead>\n",
       "  <tbody>\n",
       "    <tr>\n",
       "      <th>count</th>\n",
       "      <td>7348.000000</td>\n",
       "    </tr>\n",
       "    <tr>\n",
       "      <th>mean</th>\n",
       "      <td>22.700054</td>\n",
       "    </tr>\n",
       "    <tr>\n",
       "      <th>std</th>\n",
       "      <td>7.457378</td>\n",
       "    </tr>\n",
       "    <tr>\n",
       "      <th>min</th>\n",
       "      <td>12.000000</td>\n",
       "    </tr>\n",
       "    <tr>\n",
       "      <th>25%</th>\n",
       "      <td>18.000000</td>\n",
       "    </tr>\n",
       "    <tr>\n",
       "      <th>50%</th>\n",
       "      <td>21.000000</td>\n",
       "    </tr>\n",
       "    <tr>\n",
       "      <th>75%</th>\n",
       "      <td>24.000000</td>\n",
       "    </tr>\n",
       "    <tr>\n",
       "      <th>max</th>\n",
       "      <td>65.000000</td>\n",
       "    </tr>\n",
       "  </tbody>\n",
       "</table>\n",
       "</div>"
      ],
      "text/plain": [
       "           AGE_YRS\n",
       "count  7348.000000\n",
       "mean     22.700054\n",
       "std       7.457378\n",
       "min      12.000000\n",
       "25%      18.000000\n",
       "50%      21.000000\n",
       "75%      24.000000\n",
       "max      65.000000"
      ]
     },
     "execution_count": 36,
     "metadata": {},
     "output_type": "execute_result"
    }
   ],
   "source": [
    "tx_df[age.columns].describe()"
   ]
  },
  {
   "cell_type": "markdown",
   "metadata": {},
   "source": [
    "## Income"
   ]
  },
  {
   "cell_type": "markdown",
   "metadata": {},
   "source": [
    "Here we see a slight effect of aincome level on receiving substance abuse treatment."
   ]
  },
  {
   "cell_type": "code",
   "execution_count": 37,
   "metadata": {
    "scrolled": true
   },
   "outputs": [
    {
     "data": {
      "image/png": "[encoded data removed]",
      "text/plain": [
       "<Figure size 432x288 with 1 Axes>"
      ]
     },
     "metadata": {
      "needs_background": "light"
     },
     "output_type": "display_data"
    },
    {
     "data": {
      "image/png": "[encoded data removed]",
      "text/plain": [
       "<Figure size 360x360 with 1 Axes>"
      ]
     },
     "metadata": {
      "needs_background": "light"
     },
     "output_type": "display_data"
    },
    {
     "data": {
      "image/png": "[encoded data removed]",
      "text/plain": [
       "<Figure size 432x288 with 1 Axes>"
      ]
     },
     "metadata": {
      "needs_background": "light"
     },
     "output_type": "display_data"
    },
    {
     "data": {
      "image/png": "[encoded data removed]",
      "text/plain": [
       "<Figure size 360x360 with 1 Axes>"
      ]
     },
     "metadata": {
      "needs_background": "light"
     },
     "output_type": "display_data"
    },
    {
     "data": {
      "image/png": "[encoded data removed]",
      "text/plain": [
       "<Figure size 432x288 with 1 Axes>"
      ]
     },
     "metadata": {
      "needs_background": "light"
     },
     "output_type": "display_data"
    },
    {
     "data": {
      "image/png": "[encoded data removed]",
      "text/plain": [
       "<Figure size 360x360 with 1 Axes>"
      ]
     },
     "metadata": {
      "needs_background": "light"
     },
     "output_type": "display_data"
    },
    {
     "data": {
      "image/png": "[encoded data removed]",
      "text/plain": [
       "<Figure size 432x288 with 1 Axes>"
      ]
     },
     "metadata": {
      "needs_background": "light"
     },
     "output_type": "display_data"
    },
    {
     "data": {
      "image/png": "[encoded data removed]",
      "text/plain": [
       "<Figure size 360x360 with 1 Axes>"
      ]
     },
     "metadata": {
      "needs_background": "light"
     },
     "output_type": "display_data"
    },
    {
     "data": {
      "image/png": "[encoded data removed]",
      "text/plain": [
       "<Figure size 432x288 with 1 Axes>"
      ]
     },
     "metadata": {
      "needs_background": "light"
     },
     "output_type": "display_data"
    },
    {
     "data": {
      "image/png": "[encoded data removed]",
      "text/plain": [
       "<Figure size 360x360 with 1 Axes>"
      ]
     },
     "metadata": {
      "needs_background": "light"
     },
     "output_type": "display_data"
    },
    {
     "data": {
      "image/png": "[encoded data removed]",
      "text/plain": [
       "<Figure size 432x288 with 1 Axes>"
      ]
     },
     "metadata": {
      "needs_background": "light"
     },
     "output_type": "display_data"
    },
    {
     "data": {
      "image/png": "[encoded data removed]",
      "text/plain": [
       "<Figure size 360x360 with 1 Axes>"
      ]
     },
     "metadata": {
      "needs_background": "light"
     },
     "output_type": "display_data"
    },
    {
     "data": {
      "image/png": "[encoded data removed]",
      "text/plain": [
       "<Figure size 432x288 with 1 Axes>"
      ]
     },
     "metadata": {
      "needs_background": "light"
     },
     "output_type": "display_data"
    },
    {
     "data": {
      "image/png": "[encoded data removed]",
      "text/plain": [
       "<Figure size 360x360 with 1 Axes>"
      ]
     },
     "metadata": {
      "needs_background": "light"
     },
     "output_type": "display_data"
    }
   ],
   "source": [
    "for col in inc:\n",
    "    plt.subplot(len(tx_df.columns),1, (tx_df.columns.get_loc(col)+1))\n",
    "    plt.figure(figsize = (5,5))\n",
    "    sns.countplot(tx_df[col], hue = fd['TREATMENTLT'], palette= 'Purples')\n",
    "    plt.show()"
   ]
  },
  {
   "cell_type": "code",
   "execution_count": 38,
   "metadata": {},
   "outputs": [
    {
     "data": {
      "text/html": [
       "<div>\n",
       "<style scoped>\n",
       "    .dataframe tbody tr th:only-of-type {\n",
       "        vertical-align: middle;\n",
       "    }\n",
       "\n",
       "    .dataframe tbody tr th {\n",
       "        vertical-align: top;\n",
       "    }\n",
       "\n",
       "    .dataframe thead th {\n",
       "        text-align: right;\n",
       "    }\n",
       "</style>\n",
       "<table border=\"1\" class=\"dataframe\">\n",
       "  <thead>\n",
       "    <tr style=\"text-align: right;\">\n",
       "      <th></th>\n",
       "      <th>INCOME_1</th>\n",
       "      <th>INCOME_2</th>\n",
       "      <th>INCOME_3</th>\n",
       "      <th>INCOME_4</th>\n",
       "      <th>INCOME_5</th>\n",
       "      <th>INCOME_6</th>\n",
       "      <th>INCOME_7</th>\n",
       "    </tr>\n",
       "  </thead>\n",
       "  <tbody>\n",
       "    <tr>\n",
       "      <th>count</th>\n",
       "      <td>7348.000000</td>\n",
       "      <td>7348.000000</td>\n",
       "      <td>7348.000000</td>\n",
       "      <td>7348.000000</td>\n",
       "      <td>7348.000000</td>\n",
       "      <td>7348.000000</td>\n",
       "      <td>7348.000000</td>\n",
       "    </tr>\n",
       "    <tr>\n",
       "      <th>mean</th>\n",
       "      <td>0.157594</td>\n",
       "      <td>0.155553</td>\n",
       "      <td>0.129559</td>\n",
       "      <td>0.111459</td>\n",
       "      <td>0.111867</td>\n",
       "      <td>0.147115</td>\n",
       "      <td>0.186854</td>\n",
       "    </tr>\n",
       "    <tr>\n",
       "      <th>std</th>\n",
       "      <td>0.364385</td>\n",
       "      <td>0.362455</td>\n",
       "      <td>0.335841</td>\n",
       "      <td>0.314721</td>\n",
       "      <td>0.315224</td>\n",
       "      <td>0.354244</td>\n",
       "      <td>0.389820</td>\n",
       "    </tr>\n",
       "    <tr>\n",
       "      <th>min</th>\n",
       "      <td>0.000000</td>\n",
       "      <td>0.000000</td>\n",
       "      <td>0.000000</td>\n",
       "      <td>0.000000</td>\n",
       "      <td>0.000000</td>\n",
       "      <td>0.000000</td>\n",
       "      <td>0.000000</td>\n",
       "    </tr>\n",
       "    <tr>\n",
       "      <th>25%</th>\n",
       "      <td>0.000000</td>\n",
       "      <td>0.000000</td>\n",
       "      <td>0.000000</td>\n",
       "      <td>0.000000</td>\n",
       "      <td>0.000000</td>\n",
       "      <td>0.000000</td>\n",
       "      <td>0.000000</td>\n",
       "    </tr>\n",
       "    <tr>\n",
       "      <th>50%</th>\n",
       "      <td>0.000000</td>\n",
       "      <td>0.000000</td>\n",
       "      <td>0.000000</td>\n",
       "      <td>0.000000</td>\n",
       "      <td>0.000000</td>\n",
       "      <td>0.000000</td>\n",
       "      <td>0.000000</td>\n",
       "    </tr>\n",
       "    <tr>\n",
       "      <th>75%</th>\n",
       "      <td>0.000000</td>\n",
       "      <td>0.000000</td>\n",
       "      <td>0.000000</td>\n",
       "      <td>0.000000</td>\n",
       "      <td>0.000000</td>\n",
       "      <td>0.000000</td>\n",
       "      <td>0.000000</td>\n",
       "    </tr>\n",
       "    <tr>\n",
       "      <th>max</th>\n",
       "      <td>1.000000</td>\n",
       "      <td>1.000000</td>\n",
       "      <td>1.000000</td>\n",
       "      <td>1.000000</td>\n",
       "      <td>1.000000</td>\n",
       "      <td>1.000000</td>\n",
       "      <td>1.000000</td>\n",
       "    </tr>\n",
       "  </tbody>\n",
       "</table>\n",
       "</div>"
      ],
      "text/plain": [
       "          INCOME_1     INCOME_2     INCOME_3     INCOME_4     INCOME_5  \\\n",
       "count  7348.000000  7348.000000  7348.000000  7348.000000  7348.000000   \n",
       "mean      0.157594     0.155553     0.129559     0.111459     0.111867   \n",
       "std       0.364385     0.362455     0.335841     0.314721     0.315224   \n",
       "min       0.000000     0.000000     0.000000     0.000000     0.000000   \n",
       "25%       0.000000     0.000000     0.000000     0.000000     0.000000   \n",
       "50%       0.000000     0.000000     0.000000     0.000000     0.000000   \n",
       "75%       0.000000     0.000000     0.000000     0.000000     0.000000   \n",
       "max       1.000000     1.000000     1.000000     1.000000     1.000000   \n",
       "\n",
       "          INCOME_6     INCOME_7  \n",
       "count  7348.000000  7348.000000  \n",
       "mean      0.147115     0.186854  \n",
       "std       0.354244     0.389820  \n",
       "min       0.000000     0.000000  \n",
       "25%       0.000000     0.000000  \n",
       "50%       0.000000     0.000000  \n",
       "75%       0.000000     0.000000  \n",
       "max       1.000000     1.000000  "
      ]
     },
     "execution_count": 38,
     "metadata": {},
     "output_type": "execute_result"
    }
   ],
   "source": [
    "tx_df[inc.columns].describe()"
   ]
  },
  {
   "cell_type": "markdown",
   "metadata": {},
   "source": [
    "## Gender"
   ]
  },
  {
   "cell_type": "markdown",
   "metadata": {},
   "source": [
    "Here we see an effect that gender has on recieving substance abuse treatment, with men being more likely to receive than women."
   ]
  },
  {
   "cell_type": "code",
   "execution_count": 39,
   "metadata": {},
   "outputs": [
    {
     "data": {
      "image/png": "[encoded data removed]",
      "text/plain": [
       "<Figure size 432x288 with 1 Axes>"
      ]
     },
     "metadata": {
      "needs_background": "light"
     },
     "output_type": "display_data"
    }
   ],
   "source": [
    "sns.countplot(tx_df['FEMALE'], hue = fd['TREATMENTLT'], palette= 'Purples')\n",
    "plt.show()"
   ]
  },
  {
   "cell_type": "code",
   "execution_count": 40,
   "metadata": {},
   "outputs": [
    {
     "data": {
      "text/html": [
       "<div>\n",
       "<style scoped>\n",
       "    .dataframe tbody tr th:only-of-type {\n",
       "        vertical-align: middle;\n",
       "    }\n",
       "\n",
       "    .dataframe tbody tr th {\n",
       "        vertical-align: top;\n",
       "    }\n",
       "\n",
       "    .dataframe thead th {\n",
       "        text-align: right;\n",
       "    }\n",
       "</style>\n",
       "<table border=\"1\" class=\"dataframe\">\n",
       "  <thead>\n",
       "    <tr style=\"text-align: right;\">\n",
       "      <th></th>\n",
       "      <th>FEMALE</th>\n",
       "    </tr>\n",
       "  </thead>\n",
       "  <tbody>\n",
       "    <tr>\n",
       "      <th>count</th>\n",
       "      <td>7348.000000</td>\n",
       "    </tr>\n",
       "    <tr>\n",
       "      <th>mean</th>\n",
       "      <td>0.409907</td>\n",
       "    </tr>\n",
       "    <tr>\n",
       "      <th>std</th>\n",
       "      <td>0.491850</td>\n",
       "    </tr>\n",
       "    <tr>\n",
       "      <th>min</th>\n",
       "      <td>0.000000</td>\n",
       "    </tr>\n",
       "    <tr>\n",
       "      <th>25%</th>\n",
       "      <td>0.000000</td>\n",
       "    </tr>\n",
       "    <tr>\n",
       "      <th>50%</th>\n",
       "      <td>0.000000</td>\n",
       "    </tr>\n",
       "    <tr>\n",
       "      <th>75%</th>\n",
       "      <td>1.000000</td>\n",
       "    </tr>\n",
       "    <tr>\n",
       "      <th>max</th>\n",
       "      <td>1.000000</td>\n",
       "    </tr>\n",
       "  </tbody>\n",
       "</table>\n",
       "</div>"
      ],
      "text/plain": [
       "            FEMALE\n",
       "count  7348.000000\n",
       "mean      0.409907\n",
       "std       0.491850\n",
       "min       0.000000\n",
       "25%       0.000000\n",
       "50%       0.000000\n",
       "75%       1.000000\n",
       "max       1.000000"
      ]
     },
     "execution_count": 40,
     "metadata": {},
     "output_type": "execute_result"
    }
   ],
   "source": [
    "tx_df[gnd.columns].describe()"
   ]
  },
  {
   "cell_type": "markdown",
   "metadata": {},
   "source": [
    "## Multicolinearity"
   ]
  },
  {
   "cell_type": "markdown",
   "metadata": {},
   "source": [
    "Here I make sure that the features don't have excessive correlations with each other."
   ]
  },
  {
   "cell_type": "code",
   "execution_count": 41,
   "metadata": {},
   "outputs": [],
   "source": [
    "import itertools\n",
    "\n",
    "list_to_append_to = []\n",
    "for a, b in list(itertools.combinations(tx_df.columns,2)): \n",
    "    list_to_append_to.append([a, b, tx_df[a].corr(tx_df[b])])\n",
    "\n",
    "df1 = pd.DataFrame(list_to_append_to, columns=['variable_one', 'variable_two', 'correlation'])\n",
    "df1 = df1.sort_values(by='correlation', ascending=False)"
   ]
  },
  {
   "cell_type": "code",
   "execution_count": 42,
   "metadata": {},
   "outputs": [
    {
     "data": {
      "text/html": [
       "<div>\n",
       "<style scoped>\n",
       "    .dataframe tbody tr th:only-of-type {\n",
       "        vertical-align: middle;\n",
       "    }\n",
       "\n",
       "    .dataframe tbody tr th {\n",
       "        vertical-align: top;\n",
       "    }\n",
       "\n",
       "    .dataframe thead th {\n",
       "        text-align: right;\n",
       "    }\n",
       "</style>\n",
       "<table border=\"1\" class=\"dataframe\">\n",
       "  <thead>\n",
       "    <tr style=\"text-align: right;\">\n",
       "      <th></th>\n",
       "      <th>variable_one</th>\n",
       "      <th>variable_two</th>\n",
       "      <th>correlation</th>\n",
       "    </tr>\n",
       "  </thead>\n",
       "  <tbody>\n",
       "    <tr>\n",
       "      <th>44</th>\n",
       "      <td>ANYEDUC3</td>\n",
       "      <td>SCHOOL</td>\n",
       "      <td>0.419776</td>\n",
       "    </tr>\n",
       "    <tr>\n",
       "      <th>213</th>\n",
       "      <td>PTSEVER</td>\n",
       "      <td>PANATAK</td>\n",
       "      <td>0.378776</td>\n",
       "    </tr>\n",
       "    <tr>\n",
       "      <th>262</th>\n",
       "      <td>PHBSOCL</td>\n",
       "      <td>PANATAK</td>\n",
       "      <td>0.374018</td>\n",
       "    </tr>\n",
       "    <tr>\n",
       "      <th>211</th>\n",
       "      <td>PTSEVER</td>\n",
       "      <td>PHBSOCL</td>\n",
       "      <td>0.329162</td>\n",
       "    </tr>\n",
       "    <tr>\n",
       "      <th>513</th>\n",
       "      <td>ABODANL</td>\n",
       "      <td>ABODTRN</td>\n",
       "      <td>0.287062</td>\n",
       "    </tr>\n",
       "    <tr>\n",
       "      <th>350</th>\n",
       "      <td>EDU_DUMMY</td>\n",
       "      <td>AGE_YRS</td>\n",
       "      <td>0.284287</td>\n",
       "    </tr>\n",
       "    <tr>\n",
       "      <th>328</th>\n",
       "      <td>PANATAK</td>\n",
       "      <td>MNCEVER</td>\n",
       "      <td>0.280984</td>\n",
       "    </tr>\n",
       "    <tr>\n",
       "      <th>234</th>\n",
       "      <td>PTSEVER</td>\n",
       "      <td>MNCEVER</td>\n",
       "      <td>0.279085</td>\n",
       "    </tr>\n",
       "    <tr>\n",
       "      <th>204</th>\n",
       "      <td>ANYCRIME</td>\n",
       "      <td>ABODMRJ</td>\n",
       "      <td>0.268478</td>\n",
       "    </tr>\n",
       "    <tr>\n",
       "      <th>95</th>\n",
       "      <td>MEDICARE</td>\n",
       "      <td>AGE_YRS</td>\n",
       "      <td>0.265911</td>\n",
       "    </tr>\n",
       "    <tr>\n",
       "      <th>7</th>\n",
       "      <td>ANYYA</td>\n",
       "      <td>DEPEPISODE</td>\n",
       "      <td>0.235193</td>\n",
       "    </tr>\n",
       "    <tr>\n",
       "      <th>283</th>\n",
       "      <td>PHBSOCL</td>\n",
       "      <td>MNCEVER</td>\n",
       "      <td>0.231902</td>\n",
       "    </tr>\n",
       "    <tr>\n",
       "      <th>169</th>\n",
       "      <td>GRPHLTIN</td>\n",
       "      <td>INCOME_7</td>\n",
       "      <td>0.224240</td>\n",
       "    </tr>\n",
       "    <tr>\n",
       "      <th>261</th>\n",
       "      <td>PHBSOCL</td>\n",
       "      <td>GADNRVOS</td>\n",
       "      <td>0.219873</td>\n",
       "    </tr>\n",
       "    <tr>\n",
       "      <th>285</th>\n",
       "      <td>GADNRVOS</td>\n",
       "      <td>PANATAK</td>\n",
       "      <td>0.206005</td>\n",
       "    </tr>\n",
       "    <tr>\n",
       "      <th>20</th>\n",
       "      <td>ANYYA</td>\n",
       "      <td>FEMALE</td>\n",
       "      <td>0.204675</td>\n",
       "    </tr>\n",
       "    <tr>\n",
       "      <th>552</th>\n",
       "      <td>ABODSED</td>\n",
       "      <td>ABODTRN</td>\n",
       "      <td>0.193163</td>\n",
       "    </tr>\n",
       "    <tr>\n",
       "      <th>248</th>\n",
       "      <td>DEPEPISODE</td>\n",
       "      <td>FEMALE</td>\n",
       "      <td>0.190996</td>\n",
       "    </tr>\n",
       "    <tr>\n",
       "      <th>0</th>\n",
       "      <td>ANYYA</td>\n",
       "      <td>ANYEDUC3</td>\n",
       "      <td>0.190744</td>\n",
       "    </tr>\n",
       "    <tr>\n",
       "      <th>162</th>\n",
       "      <td>GRPHLTIN</td>\n",
       "      <td>SCHOOL</td>\n",
       "      <td>0.172073</td>\n",
       "    </tr>\n",
       "    <tr>\n",
       "      <th>39</th>\n",
       "      <td>ANYEDUC3</td>\n",
       "      <td>DEPEPISODE</td>\n",
       "      <td>0.168415</td>\n",
       "    </tr>\n",
       "    <tr>\n",
       "      <th>235</th>\n",
       "      <td>PTSEVER</td>\n",
       "      <td>AGE_YRS</td>\n",
       "      <td>0.167573</td>\n",
       "    </tr>\n",
       "    <tr>\n",
       "      <th>551</th>\n",
       "      <td>ABODSED</td>\n",
       "      <td>ABODSTM</td>\n",
       "      <td>0.166602</td>\n",
       "    </tr>\n",
       "    <tr>\n",
       "      <th>37</th>\n",
       "      <td>ANYEDUC3</td>\n",
       "      <td>ANYCRIME</td>\n",
       "      <td>0.164543</td>\n",
       "    </tr>\n",
       "    <tr>\n",
       "      <th>555</th>\n",
       "      <td>ABODSTM</td>\n",
       "      <td>ABODTRN</td>\n",
       "      <td>0.163133</td>\n",
       "    </tr>\n",
       "    <tr>\n",
       "      <th>161</th>\n",
       "      <td>GRPHLTIN</td>\n",
       "      <td>EDU_DUMMY</td>\n",
       "      <td>0.161116</td>\n",
       "    </tr>\n",
       "    <tr>\n",
       "      <th>339</th>\n",
       "      <td>EDU_DUMMY</td>\n",
       "      <td>ABODALC</td>\n",
       "      <td>0.159312</td>\n",
       "    </tr>\n",
       "    <tr>\n",
       "      <th>212</th>\n",
       "      <td>PTSEVER</td>\n",
       "      <td>GADNRVOS</td>\n",
       "      <td>0.158136</td>\n",
       "    </tr>\n",
       "    <tr>\n",
       "      <th>512</th>\n",
       "      <td>ABODANL</td>\n",
       "      <td>ABODSTM</td>\n",
       "      <td>0.153126</td>\n",
       "    </tr>\n",
       "    <tr>\n",
       "      <th>526</th>\n",
       "      <td>ABODHAL</td>\n",
       "      <td>ABODINH</td>\n",
       "      <td>0.150909</td>\n",
       "    </tr>\n",
       "    <tr>\n",
       "      <th>...</th>\n",
       "      <td>...</td>\n",
       "      <td>...</td>\n",
       "      <td>...</td>\n",
       "    </tr>\n",
       "    <tr>\n",
       "      <th>238</th>\n",
       "      <td>DEPEPISODE</td>\n",
       "      <td>PANATAK</td>\n",
       "      <td>-0.152785</td>\n",
       "    </tr>\n",
       "    <tr>\n",
       "      <th>373</th>\n",
       "      <td>INCOME_1</td>\n",
       "      <td>INCOME_4</td>\n",
       "      <td>-0.153189</td>\n",
       "    </tr>\n",
       "    <tr>\n",
       "      <th>374</th>\n",
       "      <td>INCOME_1</td>\n",
       "      <td>INCOME_5</td>\n",
       "      <td>-0.153505</td>\n",
       "    </tr>\n",
       "    <tr>\n",
       "      <th>215</th>\n",
       "      <td>PTSEVER</td>\n",
       "      <td>SCHOOL</td>\n",
       "      <td>-0.158069</td>\n",
       "    </tr>\n",
       "    <tr>\n",
       "      <th>410</th>\n",
       "      <td>INCOME_3</td>\n",
       "      <td>INCOME_6</td>\n",
       "      <td>-0.160231</td>\n",
       "    </tr>\n",
       "    <tr>\n",
       "      <th>236</th>\n",
       "      <td>DEPEPISODE</td>\n",
       "      <td>PHBSOCL</td>\n",
       "      <td>-0.161430</td>\n",
       "    </tr>\n",
       "    <tr>\n",
       "      <th>390</th>\n",
       "      <td>INCOME_2</td>\n",
       "      <td>INCOME_3</td>\n",
       "      <td>-0.165583</td>\n",
       "    </tr>\n",
       "    <tr>\n",
       "      <th>372</th>\n",
       "      <td>INCOME_1</td>\n",
       "      <td>INCOME_3</td>\n",
       "      <td>-0.166868</td>\n",
       "    </tr>\n",
       "    <tr>\n",
       "      <th>427</th>\n",
       "      <td>INCOME_4</td>\n",
       "      <td>INCOME_7</td>\n",
       "      <td>-0.169779</td>\n",
       "    </tr>\n",
       "    <tr>\n",
       "      <th>442</th>\n",
       "      <td>INCOME_5</td>\n",
       "      <td>INCOME_7</td>\n",
       "      <td>-0.170129</td>\n",
       "    </tr>\n",
       "    <tr>\n",
       "      <th>393</th>\n",
       "      <td>INCOME_2</td>\n",
       "      <td>INCOME_6</td>\n",
       "      <td>-0.178252</td>\n",
       "    </tr>\n",
       "    <tr>\n",
       "      <th>375</th>\n",
       "      <td>INCOME_1</td>\n",
       "      <td>INCOME_6</td>\n",
       "      <td>-0.179635</td>\n",
       "    </tr>\n",
       "    <tr>\n",
       "      <th>411</th>\n",
       "      <td>INCOME_3</td>\n",
       "      <td>INCOME_7</td>\n",
       "      <td>-0.184940</td>\n",
       "    </tr>\n",
       "    <tr>\n",
       "      <th>371</th>\n",
       "      <td>INCOME_1</td>\n",
       "      <td>INCOME_2</td>\n",
       "      <td>-0.185636</td>\n",
       "    </tr>\n",
       "    <tr>\n",
       "      <th>188</th>\n",
       "      <td>ANYCRIME</td>\n",
       "      <td>EDU_DUMMY</td>\n",
       "      <td>-0.186047</td>\n",
       "    </tr>\n",
       "    <tr>\n",
       "      <th>38</th>\n",
       "      <td>ANYEDUC3</td>\n",
       "      <td>PTSEVER</td>\n",
       "      <td>-0.197547</td>\n",
       "    </tr>\n",
       "    <tr>\n",
       "      <th>456</th>\n",
       "      <td>INCOME_6</td>\n",
       "      <td>INCOME_7</td>\n",
       "      <td>-0.199090</td>\n",
       "    </tr>\n",
       "    <tr>\n",
       "      <th>104</th>\n",
       "      <td>CAIDCHIP</td>\n",
       "      <td>EDU_DUMMY</td>\n",
       "      <td>-0.204266</td>\n",
       "    </tr>\n",
       "    <tr>\n",
       "      <th>394</th>\n",
       "      <td>INCOME_2</td>\n",
       "      <td>INCOME_7</td>\n",
       "      <td>-0.205740</td>\n",
       "    </tr>\n",
       "    <tr>\n",
       "      <th>376</th>\n",
       "      <td>INCOME_1</td>\n",
       "      <td>INCOME_7</td>\n",
       "      <td>-0.207336</td>\n",
       "    </tr>\n",
       "    <tr>\n",
       "      <th>210</th>\n",
       "      <td>PTSEVER</td>\n",
       "      <td>DEPEPISODE</td>\n",
       "      <td>-0.210444</td>\n",
       "    </tr>\n",
       "    <tr>\n",
       "      <th>164</th>\n",
       "      <td>GRPHLTIN</td>\n",
       "      <td>INCOME_2</td>\n",
       "      <td>-0.221989</td>\n",
       "    </tr>\n",
       "    <tr>\n",
       "      <th>550</th>\n",
       "      <td>ABODMRJ</td>\n",
       "      <td>AGE_YRS</td>\n",
       "      <td>-0.224779</td>\n",
       "    </tr>\n",
       "    <tr>\n",
       "      <th>495</th>\n",
       "      <td>ABODALC</td>\n",
       "      <td>ABODANL</td>\n",
       "      <td>-0.225313</td>\n",
       "    </tr>\n",
       "    <tr>\n",
       "      <th>209</th>\n",
       "      <td>ANYCRIME</td>\n",
       "      <td>AGE_YRS</td>\n",
       "      <td>-0.248753</td>\n",
       "    </tr>\n",
       "    <tr>\n",
       "      <th>43</th>\n",
       "      <td>ANYEDUC3</td>\n",
       "      <td>EDU_DUMMY</td>\n",
       "      <td>-0.322564</td>\n",
       "    </tr>\n",
       "    <tr>\n",
       "      <th>97</th>\n",
       "      <td>CAIDCHIP</td>\n",
       "      <td>GRPHLTIN</td>\n",
       "      <td>-0.363710</td>\n",
       "    </tr>\n",
       "    <tr>\n",
       "      <th>64</th>\n",
       "      <td>ANYEDUC3</td>\n",
       "      <td>AGE_YRS</td>\n",
       "      <td>-0.408036</td>\n",
       "    </tr>\n",
       "    <tr>\n",
       "      <th>500</th>\n",
       "      <td>ABODALC</td>\n",
       "      <td>ABODMRJ</td>\n",
       "      <td>-0.409407</td>\n",
       "    </tr>\n",
       "    <tr>\n",
       "      <th>370</th>\n",
       "      <td>SCHOOL</td>\n",
       "      <td>AGE_YRS</td>\n",
       "      <td>-0.535912</td>\n",
       "    </tr>\n",
       "  </tbody>\n",
       "</table>\n",
       "<p>561 rows × 3 columns</p>\n",
       "</div>"
      ],
      "text/plain": [
       "    variable_one variable_two  correlation\n",
       "44      ANYEDUC3       SCHOOL     0.419776\n",
       "213      PTSEVER      PANATAK     0.378776\n",
       "262      PHBSOCL      PANATAK     0.374018\n",
       "211      PTSEVER      PHBSOCL     0.329162\n",
       "513      ABODANL      ABODTRN     0.287062\n",
       "350    EDU_DUMMY      AGE_YRS     0.284287\n",
       "328      PANATAK      MNCEVER     0.280984\n",
       "234      PTSEVER      MNCEVER     0.279085\n",
       "204     ANYCRIME      ABODMRJ     0.268478\n",
       "95      MEDICARE      AGE_YRS     0.265911\n",
       "7          ANYYA   DEPEPISODE     0.235193\n",
       "283      PHBSOCL      MNCEVER     0.231902\n",
       "169     GRPHLTIN     INCOME_7     0.224240\n",
       "261      PHBSOCL     GADNRVOS     0.219873\n",
       "285     GADNRVOS      PANATAK     0.206005\n",
       "20         ANYYA       FEMALE     0.204675\n",
       "552      ABODSED      ABODTRN     0.193163\n",
       "248   DEPEPISODE       FEMALE     0.190996\n",
       "0          ANYYA     ANYEDUC3     0.190744\n",
       "162     GRPHLTIN       SCHOOL     0.172073\n",
       "39      ANYEDUC3   DEPEPISODE     0.168415\n",
       "235      PTSEVER      AGE_YRS     0.167573\n",
       "551      ABODSED      ABODSTM     0.166602\n",
       "37      ANYEDUC3     ANYCRIME     0.164543\n",
       "555      ABODSTM      ABODTRN     0.163133\n",
       "161     GRPHLTIN    EDU_DUMMY     0.161116\n",
       "339    EDU_DUMMY      ABODALC     0.159312\n",
       "212      PTSEVER     GADNRVOS     0.158136\n",
       "512      ABODANL      ABODSTM     0.153126\n",
       "526      ABODHAL      ABODINH     0.150909\n",
       "..           ...          ...          ...\n",
       "238   DEPEPISODE      PANATAK    -0.152785\n",
       "373     INCOME_1     INCOME_4    -0.153189\n",
       "374     INCOME_1     INCOME_5    -0.153505\n",
       "215      PTSEVER       SCHOOL    -0.158069\n",
       "410     INCOME_3     INCOME_6    -0.160231\n",
       "236   DEPEPISODE      PHBSOCL    -0.161430\n",
       "390     INCOME_2     INCOME_3    -0.165583\n",
       "372     INCOME_1     INCOME_3    -0.166868\n",
       "427     INCOME_4     INCOME_7    -0.169779\n",
       "442     INCOME_5     INCOME_7    -0.170129\n",
       "393     INCOME_2     INCOME_6    -0.178252\n",
       "375     INCOME_1     INCOME_6    -0.179635\n",
       "411     INCOME_3     INCOME_7    -0.184940\n",
       "371     INCOME_1     INCOME_2    -0.185636\n",
       "188     ANYCRIME    EDU_DUMMY    -0.186047\n",
       "38      ANYEDUC3      PTSEVER    -0.197547\n",
       "456     INCOME_6     INCOME_7    -0.199090\n",
       "104     CAIDCHIP    EDU_DUMMY    -0.204266\n",
       "394     INCOME_2     INCOME_7    -0.205740\n",
       "376     INCOME_1     INCOME_7    -0.207336\n",
       "210      PTSEVER   DEPEPISODE    -0.210444\n",
       "164     GRPHLTIN     INCOME_2    -0.221989\n",
       "550      ABODMRJ      AGE_YRS    -0.224779\n",
       "495      ABODALC      ABODANL    -0.225313\n",
       "209     ANYCRIME      AGE_YRS    -0.248753\n",
       "43      ANYEDUC3    EDU_DUMMY    -0.322564\n",
       "97      CAIDCHIP     GRPHLTIN    -0.363710\n",
       "64      ANYEDUC3      AGE_YRS    -0.408036\n",
       "500      ABODALC      ABODMRJ    -0.409407\n",
       "370       SCHOOL      AGE_YRS    -0.535912\n",
       "\n",
       "[561 rows x 3 columns]"
      ]
     },
     "execution_count": 42,
     "metadata": {},
     "output_type": "execute_result"
    }
   ],
   "source": [
    "df1"
   ]
  },
  {
   "cell_type": "markdown",
   "metadata": {},
   "source": [
    "# Model Selection"
   ]
  },
  {
   "cell_type": "code",
   "execution_count": 44,
   "metadata": {
    "scrolled": true
   },
   "outputs": [],
   "source": [
    "from sklearn.model_selection import train_test_split, cross_val_score\n",
    "from imblearn.over_sampling import SMOTE\n",
    "\n",
    "#Define features and target variables\n",
    "X = tx_df\n",
    "y = fd['TREATMENTLT']\n",
    "\n",
    "#Split into train and test sets\n",
    "X_train, X_test, y_train, y_test = train_test_split(X,y, test_size = 0.2, random_state = 21)\n"
   ]
  },
  {
   "cell_type": "markdown",
   "metadata": {},
   "source": [
    "Since my target variable is unblanced (only about 20% of respondents gave a positive response), I'm going to balance out my dataset through oversampling. \n"
   ]
  },
  {
   "cell_type": "code",
   "execution_count": 45,
   "metadata": {},
   "outputs": [],
   "source": [
    "sm = SMOTE(random_state=12)\n",
    "\n",
    "X_res,y_res = sm.fit_resample(X_train,y_train)\n",
    "X_train_res, X_test_res, y_train_res, y_test_res = train_test_split(X_res,y_res,test_size=.2,random_state=21)"
   ]
  },
  {
   "cell_type": "code",
   "execution_count": 46,
   "metadata": {},
   "outputs": [
    {
     "data": {
      "text/plain": [
       "0.5012698837053869"
      ]
     },
     "execution_count": 46,
     "metadata": {},
     "output_type": "execute_result"
    }
   ],
   "source": [
    "#Target variable is now balanced\n",
    "\n",
    "y_train_res.mean()"
   ]
  },
  {
   "cell_type": "markdown",
   "metadata": {},
   "source": [
    "## KNNeighbors Classifier"
   ]
  },
  {
   "cell_type": "code",
   "execution_count": 47,
   "metadata": {},
   "outputs": [
    {
     "name": "stdout",
     "output_type": "stream",
     "text": [
      "0.8151316668894533 0.7450561197220738\n"
     ]
    }
   ],
   "source": [
    "from sklearn.neighbors import KNeighborsClassifier\n",
    "\n",
    "knn = KNeighborsClassifier()\n",
    "\n",
    "knn.fit(X_train_res, y_train_res)\n",
    "\n",
    "print(knn.score(X_train_res, y_train_res), knn.score(X_test_res, y_test_res))\n"
   ]
  },
  {
   "cell_type": "code",
   "execution_count": 48,
   "metadata": {},
   "outputs": [
    {
     "name": "stdout",
     "output_type": "stream",
     "text": [
      "0.7099311378462208\n",
      "0.6694021153850757\n",
      "0.8330666666666667\n"
     ]
    }
   ],
   "source": [
    "print(np.mean(cross_val_score(knn, X_train_res, y_train_res,cv = 3, scoring='accuracy')))\n",
    "print(np.mean(cross_val_score(knn, X_train_res, y_train_res,cv = 3, scoring='precision')))\n",
    "print(np.mean(cross_val_score(knn, X_train_res, y_train_res,cv = 3, scoring='recall')))"
   ]
  },
  {
   "cell_type": "code",
   "execution_count": 49,
   "metadata": {},
   "outputs": [
    {
     "name": "stdout",
     "output_type": "stream",
     "text": [
      "\n",
      "----- Train set Confusion Matrix -----\n",
      "col_0     0     1   All\n",
      "row_0                  \n",
      "0      2720  1011  3731\n",
      "1       372  3378  3750\n",
      "All    3092  4389  7481\n",
      "\n",
      "----- Train set Accuracy -----\n",
      "Percent Type I errors: 0.13514236064697233\n",
      "Percent Type II errors: 0.04972597246357439\n",
      "\n",
      "\n",
      "----- Test set Confusion Matrix -----\n",
      "col_0    0     1   All\n",
      "row_0                 \n",
      "0      608   337   945\n",
      "1      140   786   926\n",
      "All    748  1123  1871\n",
      "\n",
      "----- Test set Accuracy -----\n",
      "Percent Type I errors: 0.18011758417958312\n",
      "Percent Type II errors: 0.07482629609834313\n",
      "\n"
     ]
    }
   ],
   "source": [
    "confusion_matrix_stats(knn, [X_train_res,  X_test_res], [y_train_res, y_test_res])"
   ]
  },
  {
   "cell_type": "markdown",
   "metadata": {},
   "source": [
    "## Decision Tree Classifier"
   ]
  },
  {
   "cell_type": "code",
   "execution_count": 50,
   "metadata": {},
   "outputs": [
    {
     "data": {
      "text/plain": [
       "(0.9435904290870204, 0.7600213789417424)"
      ]
     },
     "execution_count": 50,
     "metadata": {},
     "output_type": "execute_result"
    }
   ],
   "source": [
    "from sklearn.tree import DecisionTreeClassifier\n",
    "\n",
    "dtc = DecisionTreeClassifier()\n",
    "\n",
    "dtc.fit(X_train_res, y_train_res)\n",
    "\n",
    "dtc.score(X_train_res, y_train_res), dtc.score(X_test_res, y_test_res)"
   ]
  },
  {
   "cell_type": "code",
   "execution_count": 51,
   "metadata": {},
   "outputs": [
    {
     "name": "stdout",
     "output_type": "stream",
     "text": [
      "0.7418796688466278\n",
      "0.7203351986812153\n",
      "0.7792\n"
     ]
    }
   ],
   "source": [
    "print(np.mean(cross_val_score(dtc, X_train_res, y_train_res,cv = 3, scoring='accuracy')))\n",
    "print(np.mean(cross_val_score(dtc, X_train_res, y_train_res,cv = 3, scoring='precision')))\n",
    "print(np.mean(cross_val_score(dtc, X_train_res, y_train_res,cv = 3, scoring='recall')))"
   ]
  },
  {
   "cell_type": "code",
   "execution_count": 52,
   "metadata": {},
   "outputs": [
    {
     "name": "stdout",
     "output_type": "stream",
     "text": [
      "\n",
      "----- Train set Confusion Matrix -----\n",
      "col_0     0     1   All\n",
      "row_0                  \n",
      "0      3491   240  3731\n",
      "1       182  3568  3750\n",
      "All    3673  3808  7481\n",
      "\n",
      "----- Train set Accuracy -----\n",
      "Percent Type I errors: 0.03208127255714477\n",
      "Percent Type II errors: 0.02432829835583478\n",
      "\n",
      "\n",
      "----- Test set Confusion Matrix -----\n",
      "col_0    0     1   All\n",
      "row_0                 \n",
      "0      674   271   945\n",
      "1      178   748   926\n",
      "All    852  1019  1871\n",
      "\n",
      "----- Test set Accuracy -----\n",
      "Percent Type I errors: 0.1448423303046499\n",
      "Percent Type II errors: 0.0951362907536077\n",
      "\n"
     ]
    }
   ],
   "source": [
    "confusion_matrix_stats(dtc, [X_train_res,  X_test_res], [y_train_res, y_test_res])"
   ]
  },
  {
   "cell_type": "markdown",
   "metadata": {},
   "source": [
    "## Random Forest Classifier"
   ]
  },
  {
   "cell_type": "code",
   "execution_count": 53,
   "metadata": {},
   "outputs": [
    {
     "data": {
      "text/plain": [
       "(0.9357037829167224, 0.7888829502939605)"
      ]
     },
     "execution_count": 53,
     "metadata": {},
     "output_type": "execute_result"
    }
   ],
   "source": [
    "from sklearn.ensemble import RandomForestClassifier\n",
    "\n",
    "rfc = RandomForestClassifier()\n",
    "\n",
    "rfc.fit(X_train_res, y_train_res)\n",
    "\n",
    "rfc.score(X_train_res, y_train_res), rfc.score(X_test_res, y_test_res)"
   ]
  },
  {
   "cell_type": "code",
   "execution_count": 54,
   "metadata": {},
   "outputs": [
    {
     "name": "stdout",
     "output_type": "stream",
     "text": [
      "0.7531061310080415\n",
      "0.757038782968621\n",
      "0.7792\n"
     ]
    }
   ],
   "source": [
    "print(np.mean(cross_val_score(rfc, X_train_res, y_train_res,cv = 3, scoring='accuracy')))\n",
    "print(np.mean(cross_val_score(rfc, X_train_res, y_train_res,cv = 3, scoring='precision')))\n",
    "print(np.mean(cross_val_score(rfc, X_train_res, y_train_res,cv = 3, scoring='recall')))"
   ]
  },
  {
   "cell_type": "code",
   "execution_count": 55,
   "metadata": {},
   "outputs": [
    {
     "name": "stdout",
     "output_type": "stream",
     "text": [
      "\n",
      "----- Train set Confusion Matrix -----\n",
      "col_0     0     1   All\n",
      "row_0                  \n",
      "0      3443   288  3731\n",
      "1       193  3557  3750\n",
      "All    3636  3845  7481\n",
      "\n",
      "----- Train set Accuracy -----\n",
      "Percent Type I errors: 0.03849752706857372\n",
      "Percent Type II errors: 0.025798690014703918\n",
      "\n",
      "\n",
      "----- Test set Confusion Matrix -----\n",
      "col_0    0    1   All\n",
      "row_0                \n",
      "0      732  213   945\n",
      "1      182  744   926\n",
      "All    914  957  1871\n",
      "\n",
      "----- Test set Accuracy -----\n",
      "Percent Type I errors: 0.11384286477819348\n",
      "Percent Type II errors: 0.09727418492784608\n",
      "\n"
     ]
    }
   ],
   "source": [
    "confusion_matrix_stats(rfc, [X_train_res,  X_test_res], [y_train_res, y_test_res])"
   ]
  },
  {
   "cell_type": "markdown",
   "metadata": {},
   "source": [
    "## Gradient Boosting Classifier"
   ]
  },
  {
   "cell_type": "code",
   "execution_count": 56,
   "metadata": {},
   "outputs": [
    {
     "data": {
      "text/plain": [
       "(0.7232990241946264, 0.7161945483698557)"
      ]
     },
     "execution_count": 56,
     "metadata": {},
     "output_type": "execute_result"
    }
   ],
   "source": [
    "from sklearn.ensemble import GradientBoostingClassifier\n",
    "\n",
    "gbc = GradientBoostingClassifier()\n",
    "                            \n",
    "\n",
    "gbc.fit(X_train_res, y_train_res)\n",
    "\n",
    "gbc.score(X_train_res, y_train_res), gbc.score(X_test_res, y_test_res)"
   ]
  },
  {
   "cell_type": "code",
   "execution_count": 57,
   "metadata": {},
   "outputs": [
    {
     "name": "stdout",
     "output_type": "stream",
     "text": [
      "0.7049845957346702\n",
      "0.7187721973090234\n",
      "0.6770666666666667\n"
     ]
    }
   ],
   "source": [
    "print(np.mean(cross_val_score(gbc, X_train_res, y_train_res,cv = 3, scoring='accuracy')))\n",
    "print(np.mean(cross_val_score(gbc, X_train_res, y_train_res,cv = 3, scoring='precision')))\n",
    "print(np.mean(cross_val_score(gbc, X_train_res, y_train_res,cv = 3, scoring='recall')))"
   ]
  },
  {
   "cell_type": "code",
   "execution_count": 58,
   "metadata": {},
   "outputs": [
    {
     "name": "stdout",
     "output_type": "stream",
     "text": [
      "\n",
      "----- Train set Confusion Matrix -----\n",
      "col_0     0     1   All\n",
      "row_0                  \n",
      "0      2827   904  3731\n",
      "1      1166  2584  3750\n",
      "All    3993  3488  7481\n",
      "\n",
      "----- Train set Accuracy -----\n",
      "Percent Type I errors: 0.12083945996524528\n",
      "Percent Type II errors: 0.15586151584012833\n",
      "\n",
      "\n",
      "----- Test set Confusion Matrix -----\n",
      "col_0    0    1   All\n",
      "row_0                \n",
      "0      701  244   945\n",
      "1      287  639   926\n",
      "All    988  883  1871\n",
      "\n",
      "----- Test set Accuracy -----\n",
      "Percent Type I errors: 0.13041154462854088\n",
      "Percent Type II errors: 0.1533939070016034\n",
      "\n"
     ]
    }
   ],
   "source": [
    "confusion_matrix_stats(gbc, [X_train_res,  X_test_res], [y_train_res, y_test_res])"
   ]
  },
  {
   "cell_type": "markdown",
   "metadata": {},
   "source": [
    "## Support Vector Classifier"
   ]
  },
  {
   "cell_type": "code",
   "execution_count": 59,
   "metadata": {},
   "outputs": [
    {
     "data": {
      "text/plain": [
       "(0.7204919128458762, 0.7161945483698557)"
      ]
     },
     "execution_count": 59,
     "metadata": {},
     "output_type": "execute_result"
    }
   ],
   "source": [
    "from sklearn.svm import SVC\n",
    "\n",
    "svm = SVC()\n",
    "\n",
    "svm.fit(X_train_res , y_train_res)\n",
    "\n",
    "svm.score(X_train_res, y_train_res), svm.score(X_test_res, y_test_res)"
   ]
  },
  {
   "cell_type": "code",
   "execution_count": 60,
   "metadata": {},
   "outputs": [
    {
     "name": "stdout",
     "output_type": "stream",
     "text": [
      "0.695761443991854\n",
      "0.7108511796294165\n",
      "0.6642666666666667\n"
     ]
    }
   ],
   "source": [
    "print(np.mean(cross_val_score(svm, X_train_res, y_train_res,cv = 3, scoring='accuracy')))\n",
    "print(np.mean(cross_val_score(svm, X_train_res, y_train_res,cv = 3, scoring='precision')))\n",
    "print(np.mean(cross_val_score(svm, X_train_res, y_train_res,cv = 3, scoring='recall')))"
   ]
  },
  {
   "cell_type": "code",
   "execution_count": 61,
   "metadata": {},
   "outputs": [
    {
     "name": "stdout",
     "output_type": "stream",
     "text": [
      "\n",
      "----- Train set Confusion Matrix -----\n",
      "col_0     0     1   All\n",
      "row_0                  \n",
      "0      2856   875  3731\n",
      "1      1216  2534  3750\n",
      "All    4072  3409  7481\n",
      "\n",
      "----- Train set Accuracy -----\n",
      "Percent Type I errors: 0.1169629728645903\n",
      "Percent Type II errors: 0.16254511428953347\n",
      "\n",
      "\n",
      "----- Test set Confusion Matrix -----\n",
      "col_0     0    1   All\n",
      "row_0                 \n",
      "0       720  225   945\n",
      "1       306  620   926\n",
      "All    1026  845  1871\n",
      "\n",
      "----- Test set Accuracy -----\n",
      "Percent Type I errors: 0.12025654730090861\n",
      "Percent Type II errors: 0.1635489043292357\n",
      "\n"
     ]
    }
   ],
   "source": [
    "confusion_matrix_stats(svm, [X_train_res,  X_test_res], [y_train_res, y_test_res])"
   ]
  },
  {
   "cell_type": "markdown",
   "metadata": {},
   "source": [
    "## Logistic Regression Classifier"
   ]
  },
  {
   "cell_type": "code",
   "execution_count": 62,
   "metadata": {},
   "outputs": [
    {
     "data": {
      "text/plain": [
       "(0.7036492447533752, 0.703901656867985)"
      ]
     },
     "execution_count": 62,
     "metadata": {},
     "output_type": "execute_result"
    }
   ],
   "source": [
    "from sklearn.linear_model import LogisticRegression\n",
    "\n",
    "lr = LogisticRegression()\n",
    "\n",
    "lr.fit(X_train_res, y_train_res)\n",
    "\n",
    "lr.score(X_train_res, y_train_res), lr.score(X_test_res, y_test_res)"
   ]
  },
  {
   "cell_type": "code",
   "execution_count": 63,
   "metadata": {},
   "outputs": [
    {
     "name": "stdout",
     "output_type": "stream",
     "text": [
      "0.6989705899855602\n",
      "0.718591658223307\n",
      "0.6568\n"
     ]
    }
   ],
   "source": [
    "print(np.mean(cross_val_score(lr, X_train_res, y_train_res,cv = 3, scoring='accuracy')))\n",
    "print(np.mean(cross_val_score(lr, X_train_res, y_train_res,cv = 3, scoring='precision')))\n",
    "print(np.mean(cross_val_score(lr, X_train_res, y_train_res,cv = 3, scoring='recall')))"
   ]
  },
  {
   "cell_type": "code",
   "execution_count": 64,
   "metadata": {},
   "outputs": [
    {
     "name": "stdout",
     "output_type": "stream",
     "text": [
      "\n",
      "----- Train set Confusion Matrix -----\n",
      "col_0     0     1   All\n",
      "row_0                  \n",
      "0      2803   928  3731\n",
      "1      1289  2461  3750\n",
      "All    4092  3389  7481\n",
      "\n",
      "----- Train set Accuracy -----\n",
      "Percent Type I errors: 0.12404758722095977\n",
      "Percent Type II errors: 0.172303168025665\n",
      "\n",
      "\n",
      "----- Test set Confusion Matrix -----\n",
      "col_0     0    1   All\n",
      "row_0                 \n",
      "0       713  232   945\n",
      "1       322  604   926\n",
      "All    1035  836  1871\n",
      "\n",
      "----- Test set Accuracy -----\n",
      "Percent Type I errors: 0.12399786210582577\n",
      "Percent Type II errors: 0.17210048102618922\n",
      "\n"
     ]
    }
   ],
   "source": [
    "confusion_matrix_stats(lr, [X_train_res,  X_test_res], [y_train_res, y_test_res])\n"
   ]
  },
  {
   "cell_type": "markdown",
   "metadata": {},
   "source": [
    "## Dummy Classifier"
   ]
  },
  {
   "cell_type": "code",
   "execution_count": 65,
   "metadata": {},
   "outputs": [
    {
     "data": {
      "text/plain": [
       "(0.5012698837053869, 0.4949225013361839)"
      ]
     },
     "execution_count": 65,
     "metadata": {},
     "output_type": "execute_result"
    }
   ],
   "source": [
    "from sklearn.dummy import DummyClassifier\n",
    "\n",
    "dummy = DummyClassifier(strategy = 'most_frequent')\n",
    "\n",
    "dummy.fit(X_train_res, y_train_res)\n",
    "\n",
    "dummy.score(X_train_res, y_train_res),dummy.score(X_test_res, y_test_res)\n"
   ]
  },
  {
   "cell_type": "code",
   "execution_count": 66,
   "metadata": {},
   "outputs": [
    {
     "name": "stdout",
     "output_type": "stream",
     "text": [
      "0.5012699016213588\n",
      "0.5012699016213588\n",
      "1.0\n"
     ]
    }
   ],
   "source": [
    "print(np.mean(cross_val_score(dummy, X_train_res, y_train_res,cv = 3, scoring='accuracy')))\n",
    "print(np.mean(cross_val_score(dummy, X_train_res, y_train_res,cv = 3, scoring='precision')))\n",
    "print(np.mean(cross_val_score(dummy, X_train_res, y_train_res,cv = 3, scoring='recall')))"
   ]
  },
  {
   "cell_type": "markdown",
   "metadata": {},
   "source": [
    "## Parameter tuning"
   ]
  },
  {
   "cell_type": "code",
   "execution_count": 77,
   "metadata": {},
   "outputs": [],
   "source": [
    "from sklearn.model_selection import GridSearchCV\n",
    "\n",
    "\n",
    "parameters = {'max_features':[12, 13, 14],\n",
    "              'n_estimators':[1000],\n",
    "              'min_samples_leaf': [1, 2, 3],\n",
    "              'max_depth' : [20, 40, 50, 70]}\n",
    "\n",
    "random_grid = GridSearchCV(rfc, parameters, cv = 5)"
   ]
  },
  {
   "cell_type": "code",
   "execution_count": 78,
   "metadata": {},
   "outputs": [
    {
     "data": {
      "text/plain": [
       "{'max_depth': 50,\n",
       " 'max_features': 14,\n",
       " 'min_samples_leaf': 1,\n",
       " 'n_estimators': 1000}"
      ]
     },
     "execution_count": 78,
     "metadata": {},
     "output_type": "execute_result"
    }
   ],
   "source": [
    "random_grid.fit(X_train_res, y_train_res)\n",
    "\n",
    "random_grid.best_params_"
   ]
  },
  {
   "cell_type": "code",
   "execution_count": 79,
   "metadata": {},
   "outputs": [
    {
     "data": {
      "text/plain": [
       "(0.9369068306376153, 0.806520577231427)"
      ]
     },
     "execution_count": 79,
     "metadata": {},
     "output_type": "execute_result"
    }
   ],
   "source": [
    "rfc_o = RandomForestClassifier(max_features = 'sqrt', min_samples_leaf =  1, n_estimators =  1000, max_depth= 20)\n",
    "\n",
    "rfc_o.fit(X_train_res, y_train_res)\n",
    "\n",
    "rfc_o.score(X_train_res, y_train_res), rfc_o.score(X_test_res, y_test_res)"
   ]
  },
  {
   "cell_type": "code",
   "execution_count": 70,
   "metadata": {},
   "outputs": [
    {
     "name": "stdout",
     "output_type": "stream",
     "text": [
      "0.7798418303138658\n",
      "0.7653267573630517\n",
      "0.8064\n"
     ]
    }
   ],
   "source": [
    "print(np.mean(cross_val_score(rfc_o, X_train_res, y_train_res,cv = 3, scoring='accuracy')))\n",
    "print(np.mean(cross_val_score(rfc_o, X_train_res, y_train_res,cv = 3, scoring='precision')))\n",
    "print(np.mean(cross_val_score(rfc_o, X_train_res, y_train_res,cv = 3, scoring='recall')))"
   ]
  },
  {
   "cell_type": "code",
   "execution_count": 71,
   "metadata": {},
   "outputs": [
    {
     "name": "stdout",
     "output_type": "stream",
     "text": [
      "\n",
      "----- Train set Confusion Matrix -----\n",
      "col_0     0     1   All\n",
      "row_0                  \n",
      "0      3438   293  3731\n",
      "1       129  3621  3750\n",
      "All    3567  3914  7481\n",
      "\n",
      "----- Train set Accuracy -----\n",
      "Percent Type I errors: 0.03916588691351423\n",
      "Percent Type II errors: 0.017243683999465312\n",
      "\n",
      "\n",
      "----- Test set Confusion Matrix -----\n",
      "col_0    0    1   All\n",
      "row_0                \n",
      "0      732  213   945\n",
      "1      154  772   926\n",
      "All    886  985  1871\n",
      "\n",
      "----- Test set Accuracy -----\n",
      "Percent Type I errors: 0.11384286477819348\n",
      "Percent Type II errors: 0.08230892570817744\n",
      "\n"
     ]
    }
   ],
   "source": [
    "confusion_matrix_stats(rfc_o, [X_train_res,  X_test_res], [y_train_res, y_test_res])"
   ]
  },
  {
   "cell_type": "markdown",
   "metadata": {},
   "source": [
    "## Feature Importances"
   ]
  },
  {
   "cell_type": "code",
   "execution_count": 72,
   "metadata": {},
   "outputs": [
    {
     "data": {
      "image/png": "[encoded data removed]",
      "text/plain": [
       "<Figure size 2160x1440 with 1 Axes>"
      ]
     },
     "metadata": {
      "needs_background": "light"
     },
     "output_type": "display_data"
    }
   ],
   "source": [
    "plt.figure(figsize= (30,20))\n",
    "feature_importance = rfc_o.feature_importances_\n",
    "\n",
    "feature_importance = 100.0 * (feature_importance / feature_importance.max())\n",
    "sorted_idx = np.argsort(feature_importance)\n",
    "pos = np.arange(sorted_idx.shape[0]) + .5\n",
    "plt.subplot(1, 2, 2)\n",
    "plt.barh(pos, feature_importance[sorted_idx], align='center', color = 'xkcd:cloudy blue')\n",
    "plt.yticks(pos, X.columns[sorted_idx])\n",
    "plt.xlabel('Relative Importance')\n",
    "plt.title('Variable Importance')\n",
    "plt.show()"
   ]
  },
  {
   "cell_type": "markdown",
   "metadata": {},
   "source": [
    "# Conclusion"
   ]
  },
  {
   "cell_type": "markdown",
   "metadata": {},
   "source": [
    "Using these results, my intent is to identify potential target populations to focus efforts in combating substance abuse.\n",
    "The variables with the highest feature importances are implicated the most in determining whether or not the target is satisfied and thus, whether or not an individual receives treatment.\n"
   ]
  },
  {
   "cell_type": "markdown",
   "metadata": {},
   "source": [
    "## Model Caveats\n",
    "- Even after running multiple grid searches, I was not able to get rid of overfitting in my model, whilst maintaining my accuracy score \n",
    "    - Train score - 0.9435904290870204 \n",
    "    - Test score - 0.7963655799037948\n",
    "- For simplicity’s sake I mainly used summarized variables in my model. More meaning could be extracted by using responses to the more specific questions in the survey\n",
    "- In accuracies of self reported data\n"
   ]
  },
  {
   "cell_type": "markdown",
   "metadata": {},
   "source": [
    "## Further Research\n",
    "\n",
    "- Looking at the given reasons why an individual did not seek treatment\n",
    "- Looking at the outcomes of different types of treatment\n"
   ]
  },
  {
   "cell_type": "code",
   "execution_count": null,
   "metadata": {},
   "outputs": [],
   "source": []
  }
 ],
 "metadata": {
  "kernelspec": {
   "display_name": "Python 3",
   "language": "python",
   "name": "python3"
  },
  "language_info": {
   "codemirror_mode": {
    "name": "ipython",
    "version": 3
   },
   "file_extension": ".py",
   "mimetype": "text/x-python",
   "name": "python",
   "nbconvert_exporter": "python",
   "pygments_lexer": "ipython3",
   "version": "3.6.4"
  }
 },
 "nbformat": 4,
 "nbformat_minor": 2
}
